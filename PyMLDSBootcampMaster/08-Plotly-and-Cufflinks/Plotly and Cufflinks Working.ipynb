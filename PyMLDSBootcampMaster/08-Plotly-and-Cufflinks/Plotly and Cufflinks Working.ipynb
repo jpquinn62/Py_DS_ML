{
 "cells": [
  {
   "cell_type": "code",
   "execution_count": 19,
   "metadata": {},
   "outputs": [],
   "source": [
    "import pandas as pd\n",
    "import numpy as np\n",
    "%matplotlib inline"
   ]
  },
  {
   "cell_type": "code",
   "execution_count": 2,
   "metadata": {},
   "outputs": [],
   "source": [
    "from plotly import __version__"
   ]
  },
  {
   "cell_type": "code",
   "execution_count": 3,
   "metadata": {},
   "outputs": [
    {
     "name": "stdout",
     "output_type": "stream",
     "text": [
      "4.9.0\n"
     ]
    }
   ],
   "source": [
    "print(__version__)"
   ]
  },
  {
   "cell_type": "code",
   "execution_count": 4,
   "metadata": {},
   "outputs": [],
   "source": [
    "import cufflinks as cf"
   ]
  },
  {
   "cell_type": "code",
   "execution_count": 5,
   "metadata": {},
   "outputs": [],
   "source": [
    "from plotly.offline import download_plotlyjs,init_notebook_mode,plot,iplot"
   ]
  },
  {
   "cell_type": "code",
   "execution_count": 8,
   "metadata": {},
   "outputs": [
    {
     "data": {
      "text/html": [
       "        <script type=\"text/javascript\">\n",
       "        window.PlotlyConfig = {MathJaxConfig: 'local'};\n",
       "        if (window.MathJax) {MathJax.Hub.Config({SVG: {font: \"STIX-Web\"}});}\n",
       "        if (typeof require !== 'undefined') {\n",
       "        require.undef(\"plotly\");\n",
       "        requirejs.config({\n",
       "            paths: {\n",
       "                'plotly': ['https://cdn.plot.ly/plotly-latest.min']\n",
       "            }\n",
       "        });\n",
       "        require(['plotly'], function(Plotly) {\n",
       "            window._Plotly = Plotly;\n",
       "        });\n",
       "        }\n",
       "        </script>\n",
       "        "
      ]
     },
     "metadata": {},
     "output_type": "display_data"
    }
   ],
   "source": [
    "init_notebook_mode(connected=True) # allows your Notebooks to access the fancy plotly interactive visulizations"
   ]
  },
  {
   "cell_type": "code",
   "execution_count": 10,
   "metadata": {},
   "outputs": [
    {
     "data": {
      "text/html": [
       "        <script type=\"text/javascript\">\n",
       "        window.PlotlyConfig = {MathJaxConfig: 'local'};\n",
       "        if (window.MathJax) {MathJax.Hub.Config({SVG: {font: \"STIX-Web\"}});}\n",
       "        if (typeof require !== 'undefined') {\n",
       "        require.undef(\"plotly\");\n",
       "        requirejs.config({\n",
       "            paths: {\n",
       "                'plotly': ['https://cdn.plot.ly/plotly-latest.min']\n",
       "            }\n",
       "        });\n",
       "        require(['plotly'], function(Plotly) {\n",
       "            window._Plotly = Plotly;\n",
       "        });\n",
       "        }\n",
       "        </script>\n",
       "        "
      ]
     },
     "metadata": {},
     "output_type": "display_data"
    }
   ],
   "source": [
    "cf.go_offline()  # as a method # allows to use cufflinks offline "
   ]
  },
  {
   "cell_type": "code",
   "execution_count": 11,
   "metadata": {},
   "outputs": [],
   "source": [
    "# get data by creating it now"
   ]
  },
  {
   "cell_type": "code",
   "execution_count": 12,
   "metadata": {},
   "outputs": [],
   "source": [
    "df = pd.DataFrame(np.random.randn(100,4),columns='A B C D'.split())"
   ]
  },
  {
   "cell_type": "code",
   "execution_count": 14,
   "metadata": {},
   "outputs": [
    {
     "data": {
      "text/html": [
       "<div>\n",
       "<style scoped>\n",
       "    .dataframe tbody tr th:only-of-type {\n",
       "        vertical-align: middle;\n",
       "    }\n",
       "\n",
       "    .dataframe tbody tr th {\n",
       "        vertical-align: top;\n",
       "    }\n",
       "\n",
       "    .dataframe thead th {\n",
       "        text-align: right;\n",
       "    }\n",
       "</style>\n",
       "<table border=\"1\" class=\"dataframe\">\n",
       "  <thead>\n",
       "    <tr style=\"text-align: right;\">\n",
       "      <th></th>\n",
       "      <th>A</th>\n",
       "      <th>B</th>\n",
       "      <th>C</th>\n",
       "      <th>D</th>\n",
       "    </tr>\n",
       "  </thead>\n",
       "  <tbody>\n",
       "    <tr>\n",
       "      <th>0</th>\n",
       "      <td>-0.500954</td>\n",
       "      <td>0.464707</td>\n",
       "      <td>-0.403160</td>\n",
       "      <td>0.728926</td>\n",
       "    </tr>\n",
       "    <tr>\n",
       "      <th>1</th>\n",
       "      <td>-0.420462</td>\n",
       "      <td>-0.056390</td>\n",
       "      <td>-1.360055</td>\n",
       "      <td>0.691208</td>\n",
       "    </tr>\n",
       "    <tr>\n",
       "      <th>2</th>\n",
       "      <td>-0.495533</td>\n",
       "      <td>0.821164</td>\n",
       "      <td>0.710634</td>\n",
       "      <td>0.818816</td>\n",
       "    </tr>\n",
       "    <tr>\n",
       "      <th>3</th>\n",
       "      <td>0.765730</td>\n",
       "      <td>-0.530211</td>\n",
       "      <td>-0.917767</td>\n",
       "      <td>-0.300057</td>\n",
       "    </tr>\n",
       "    <tr>\n",
       "      <th>4</th>\n",
       "      <td>-0.078474</td>\n",
       "      <td>-0.026096</td>\n",
       "      <td>0.068839</td>\n",
       "      <td>-1.401765</td>\n",
       "    </tr>\n",
       "  </tbody>\n",
       "</table>\n",
       "</div>"
      ],
      "text/plain": [
       "          A         B         C         D\n",
       "0 -0.500954  0.464707 -0.403160  0.728926\n",
       "1 -0.420462 -0.056390 -1.360055  0.691208\n",
       "2 -0.495533  0.821164  0.710634  0.818816\n",
       "3  0.765730 -0.530211 -0.917767 -0.300057\n",
       "4 -0.078474 -0.026096  0.068839 -1.401765"
      ]
     },
     "execution_count": 14,
     "metadata": {},
     "output_type": "execute_result"
    }
   ],
   "source": [
    "df.head()"
   ]
  },
  {
   "cell_type": "code",
   "execution_count": 17,
   "metadata": {},
   "outputs": [],
   "source": [
    "df2 = pd.DataFrame({'Category':['A','B','C'],'Values':[32,43,50]})"
   ]
  },
  {
   "cell_type": "code",
   "execution_count": 18,
   "metadata": {},
   "outputs": [
    {
     "data": {
      "text/html": [
       "<div>\n",
       "<style scoped>\n",
       "    .dataframe tbody tr th:only-of-type {\n",
       "        vertical-align: middle;\n",
       "    }\n",
       "\n",
       "    .dataframe tbody tr th {\n",
       "        vertical-align: top;\n",
       "    }\n",
       "\n",
       "    .dataframe thead th {\n",
       "        text-align: right;\n",
       "    }\n",
       "</style>\n",
       "<table border=\"1\" class=\"dataframe\">\n",
       "  <thead>\n",
       "    <tr style=\"text-align: right;\">\n",
       "      <th></th>\n",
       "      <th>Category</th>\n",
       "      <th>Values</th>\n",
       "    </tr>\n",
       "  </thead>\n",
       "  <tbody>\n",
       "    <tr>\n",
       "      <th>0</th>\n",
       "      <td>A</td>\n",
       "      <td>32</td>\n",
       "    </tr>\n",
       "    <tr>\n",
       "      <th>1</th>\n",
       "      <td>B</td>\n",
       "      <td>43</td>\n",
       "    </tr>\n",
       "    <tr>\n",
       "      <th>2</th>\n",
       "      <td>C</td>\n",
       "      <td>50</td>\n",
       "    </tr>\n",
       "  </tbody>\n",
       "</table>\n",
       "</div>"
      ],
      "text/plain": [
       "  Category  Values\n",
       "0        A      32\n",
       "1        B      43\n",
       "2        C      50"
      ]
     },
     "execution_count": 18,
     "metadata": {},
     "output_type": "execute_result"
    }
   ],
   "source": [
    "df2"
   ]
  },
  {
   "cell_type": "code",
   "execution_count": 20,
   "metadata": {},
   "outputs": [
    {
     "data": {
      "text/plain": [
       "<matplotlib.axes._subplots.AxesSubplot at 0x7f80ede2e390>"
      ]
     },
     "execution_count": 20,
     "metadata": {},
     "output_type": "execute_result"
    },
    {
     "data": {
      "image/png": "[encoded data removed]",
      "text/plain": [
       "<Figure size 432x288 with 1 Axes>"
      ]
     },
     "metadata": {
      "needs_background": "light"
     },
     "output_type": "display_data"
    }
   ],
   "source": [
    "df.plot()"
   ]
  },
  {
   "cell_type": "code",
   "execution_count": 21,
   "metadata": {},
   "outputs": [
    {
     "data": {
      "application/vnd.plotly.v1+json": {
       "config": {
        "linkText": "Export to plot.ly",
        "plotlyServerURL": "https://plot.ly",
        "showLink": true
       },
       "data": [
        {
         "line": {
          "color": "rgba(255, 153, 51, 1.0)",
          "dash": "solid",
          "shape": "linear",
          "width": 1.3
         },
         "mode": "lines",
         "name": "A",
         "text": "",
         "type": "scatter",
         "x": [
          0,
          1,
          2,
          3,
          4,
          5,
          6,
          7,
          8,
          9,
          10,
          11,
          12,
          13,
          14,
          15,
          16,
          17,
          18,
          19,
          20,
          21,
          22,
          23,
          24,
          25,
          26,
          27,
          28,
          29,
          30,
          31,
          32,
          33,
          34,
          35,
          36,
          37,
          38,
          39,
          40,
          41,
          42,
          43,
          44,
          45,
          46,
          47,
          48,
          49,
          50,
          51,
          52,
          53,
          54,
          55,
          56,
          57,
          58,
          59,
          60,
          61,
          62,
          63,
          64,
          65,
          66,
          67,
          68,
          69,
          70,
          71,
          72,
          73,
          74,
          75,
          76,
          77,
          78,
          79,
          80,
          81,
          82,
          83,
          84,
          85,
          86,
          87,
          88,
          89,
          90,
          91,
          92,
          93,
          94,
          95,
          96,
          97,
          98,
          99
         ],
         "y": [
          -0.5009543608026148,
          -0.4204615151389094,
          -0.49553283935936165,
          0.7657304693445539,
          -0.07847397916945117,
          0.6700761884302777,
          1.6148887957746296,
          -0.14346731599489548,
          -0.2665864011088299,
          1.5203733905118066,
          -1.6225831980015681,
          -0.0010036338978958532,
          -0.20764556384936733,
          1.2211140213435423,
          0.7616648705923982,
          0.8511236141237207,
          -0.11514925363568562,
          -0.20936138521130568,
          -0.23694314875636666,
          -1.41396658714284,
          -0.7197209408930788,
          -0.21986205769332937,
          1.0281717480256272,
          -0.34491294269628503,
          1.8387982177216249,
          1.7454245898531036,
          0.40475695887285834,
          0.38445221563913434,
          0.09096690376723829,
          -0.5452474872683721,
          0.36883064898417145,
          0.471064900436615,
          0.08943939927300605,
          -0.04711988398954826,
          -0.377726634293231,
          0.7896939082042002,
          0.2834844224400587,
          -0.3712372134953554,
          -0.8239234838514105,
          -0.24380479792713633,
          0.8021227623642619,
          0.8595077643277932,
          -0.89133910900524,
          -0.08704741110358603,
          1.1154306476276132,
          -0.8232991534045231,
          0.03951476468379789,
          -0.5897579157424271,
          0.48638772034887495,
          -0.23689141912829995,
          -0.849875469508366,
          1.2033244290804135,
          -0.9707942664404414,
          0.5345692965058876,
          0.24185563713696623,
          -1.2480718435113924,
          -1.9764817321890251,
          0.17398462490394964,
          -0.2958648071038704,
          -0.9073789839128634,
          -0.320061959697221,
          -1.2894563780049575,
          0.8162202543091142,
          0.7279819747659728,
          0.5016314636811545,
          -1.6350473403411654,
          1.112226070703627,
          -1.3798198056686024,
          0.03712506450794439,
          0.8725646848428592,
          -0.062491031397570555,
          -1.283446523292469,
          0.8042769164891135,
          -1.2878267604909532,
          -2.4243449762842935,
          1.455471611236058,
          0.4262483065173007,
          -1.1011863485263866,
          0.36393070625865315,
          -0.3828540123202687,
          0.07374167084754127,
          -1.3446917941460133,
          -0.07602512088167016,
          2.131579084083562,
          0.8633118511617681,
          0.9567443066299663,
          -0.35082901706021047,
          0.5353353137007961,
          -0.06072553628984715,
          0.4216056690056466,
          1.8201523623294387,
          -1.4207116091443348,
          -0.24445402467878669,
          1.0790482734281726,
          -0.301775352771489,
          -0.463830499688751,
          -0.48449348616253807,
          -0.8952937264879816,
          -0.17464315190589047,
          -1.5690068772777155
         ]
        },
        {
         "line": {
          "color": "rgba(55, 128, 191, 1.0)",
          "dash": "solid",
          "shape": "linear",
          "width": 1.3
         },
         "mode": "lines",
         "name": "B",
         "text": "",
         "type": "scatter",
         "x": [
          0,
          1,
          2,
          3,
          4,
          5,
          6,
          7,
          8,
          9,
          10,
          11,
          12,
          13,
          14,
          15,
          16,
          17,
          18,
          19,
          20,
          21,
          22,
          23,
          24,
          25,
          26,
          27,
          28,
          29,
          30,
          31,
          32,
          33,
          34,
          35,
          36,
          37,
          38,
          39,
          40,
          41,
          42,
          43,
          44,
          45,
          46,
          47,
          48,
          49,
          50,
          51,
          52,
          53,
          54,
          55,
          56,
          57,
          58,
          59,
          60,
          61,
          62,
          63,
          64,
          65,
          66,
          67,
          68,
          69,
          70,
          71,
          72,
          73,
          74,
          75,
          76,
          77,
          78,
          79,
          80,
          81,
          82,
          83,
          84,
          85,
          86,
          87,
          88,
          89,
          90,
          91,
          92,
          93,
          94,
          95,
          96,
          97,
          98,
          99
         ],
         "y": [
          0.4647073083742839,
          -0.05638983549159592,
          0.8211639860066423,
          -0.5302111813539075,
          -0.026095626254060273,
          0.934819749012539,
          -0.06881896608775859,
          0.7431747218014507,
          -0.6634138417015264,
          -0.6407659494255311,
          -2.0830026972903197,
          1.8045522880146014,
          1.037149625547556,
          0.3248740795752661,
          0.16422555997258756,
          -0.04448673216754261,
          -1.1666989664863299,
          -0.34489031820823246,
          0.023191019187505314,
          -1.130997876996157,
          0.6537048033347655,
          -2.008977265519097,
          2.1187636059019828,
          -0.14720374779769907,
          -0.4119883895674882,
          -0.01889786289040426,
          -0.5408825560442116,
          0.6532664735645086,
          0.3019048417424934,
          1.6458305129952842,
          0.6030209295808521,
          -0.3623998992628467,
          -1.354212000595378,
          -1.172657051102667,
          -0.1769801146101835,
          2.2055905103394196,
          0.2760796035999615,
          -1.7813429624595076,
          0.7750526626200264,
          -0.5805198523009042,
          -1.0618189104978328,
          0.18946634999859532,
          0.381459586503324,
          -0.9242275271954474,
          -0.5628414484788141,
          -0.8638503681130342,
          -0.12409497161196388,
          1.0458509752935239,
          -0.695096587506082,
          1.2734349572542032,
          0.24242678837999837,
          -0.5467390258304995,
          -0.6363370209478098,
          2.013175801488738,
          0.7725826019693162,
          -0.3915999325975337,
          -0.21384985463778458,
          1.4732988178499873,
          -1.946677160191751,
          0.40084042312757945,
          1.3366011084629332,
          -0.3613636341442311,
          0.5298250484301542,
          1.4558635024058049,
          -0.6318727492567257,
          -0.8227985700773811,
          -0.5377019717823004,
          -1.7902939476280129,
          -0.26846879662803125,
          1.465181281886347,
          2.3219711044551956,
          0.9250989703211202,
          0.8916825245438201,
          -1.1517637591562595,
          -0.19150262412323274,
          1.4792770255841388,
          1.6861949140510182,
          0.4512015631832032,
          0.1485498153576192,
          0.7032594474993233,
          1.398402958112115,
          -0.0031789942556199823,
          -0.6032519124226736,
          0.9550811638193741,
          1.737666005127905,
          1.060053557429989,
          1.2895208947773007,
          -1.1953320328355028,
          1.782261738784618,
          1.9306290169917022,
          -0.7425207838161446,
          -0.9754342092359741,
          0.9982550336125903,
          0.04387350789025311,
          -0.6029540220032642,
          -0.3176203472281875,
          1.3016837317080092,
          1.319139155169162,
          0.60300051445889,
          -0.4734361308297189
         ]
        },
        {
         "line": {
          "color": "rgba(50, 171, 96, 1.0)",
          "dash": "solid",
          "shape": "linear",
          "width": 1.3
         },
         "mode": "lines",
         "name": "C",
         "text": "",
         "type": "scatter",
         "x": [
          0,
          1,
          2,
          3,
          4,
          5,
          6,
          7,
          8,
          9,
          10,
          11,
          12,
          13,
          14,
          15,
          16,
          17,
          18,
          19,
          20,
          21,
          22,
          23,
          24,
          25,
          26,
          27,
          28,
          29,
          30,
          31,
          32,
          33,
          34,
          35,
          36,
          37,
          38,
          39,
          40,
          41,
          42,
          43,
          44,
          45,
          46,
          47,
          48,
          49,
          50,
          51,
          52,
          53,
          54,
          55,
          56,
          57,
          58,
          59,
          60,
          61,
          62,
          63,
          64,
          65,
          66,
          67,
          68,
          69,
          70,
          71,
          72,
          73,
          74,
          75,
          76,
          77,
          78,
          79,
          80,
          81,
          82,
          83,
          84,
          85,
          86,
          87,
          88,
          89,
          90,
          91,
          92,
          93,
          94,
          95,
          96,
          97,
          98,
          99
         ],
         "y": [
          -0.40315973833766044,
          -1.360054681543459,
          0.7106343682785928,
          -0.9177669533408417,
          0.06883949789015524,
          0.01696296847514918,
          -0.44393478997380553,
          -0.7198535392505376,
          -0.7875483593999346,
          1.9155416094569315,
          0.6583623881679307,
          0.5376709735739473,
          1.0405012466708365,
          -0.23171979820644356,
          -0.3744126532426237,
          -1.1618515687799378,
          -1.3964253535908646,
          0.5769970040773327,
          -1.0835044014698794,
          0.5747678743329491,
          -0.11827539408021497,
          0.2151484932585146,
          0.08078309448514429,
          -2.037047352546062,
          -1.390219773530132,
          0.09167606324494677,
          -0.7235507708580192,
          -0.5405884558003439,
          -1.2811560263191193,
          -0.4543060750192719,
          -1.1165034510234548,
          0.3000613728191319,
          -0.05289080065345519,
          0.362704088345904,
          -0.9680892848574593,
          0.6680708701581071,
          -0.8231344948245031,
          0.715348855171547,
          0.5650247434328161,
          -0.5773761355342275,
          -0.9286783479833696,
          0.7776532703274646,
          -0.12317469719040205,
          -1.1513332111873045,
          0.5063978291626221,
          -0.8742393811420719,
          1.9156488862245638,
          -1.0865525250496144,
          0.44206782103104286,
          0.9026685461629094,
          2.895994875542977,
          1.1285450455156265,
          1.1841356567838248,
          0.19876360513024213,
          1.4886716994001934,
          -0.3327270700698986,
          -0.5621700345151495,
          -0.5847259828949196,
          -1.2846401342555829,
          -0.6016000623194985,
          -0.09861791991283785,
          1.1816530601740363,
          -0.6908357948875438,
          0.3171310416057197,
          0.7552121889991846,
          -2.3888071483371647,
          -1.1485383178467785,
          0.5897185443197643,
          -0.36845595698948597,
          -0.5717563197990444,
          -0.14214523110978153,
          0.0004170052383094638,
          -0.18461428501604366,
          -0.1052252881648122,
          -0.8292749236373992,
          -0.08997556334434115,
          1.2644372314371435,
          2.0832196408139105,
          0.38676730762963063,
          1.4060141059133717,
          -1.3360038713603481,
          0.34749778659436176,
          -0.33806765343092926,
          1.4157584416445,
          -0.7594413490741586,
          -1.762295996654411,
          0.5617175196967619,
          1.7970365337189476,
          -1.0303904420141936,
          -0.9645790425198174,
          0.9914171618392057,
          -0.10285713286924551,
          -0.8135392007267539,
          0.7187908001826215,
          -0.09528272118315335,
          -0.6296134228433697,
          -0.4152341746240974,
          0.4321855310892845,
          0.7934990376332662,
          -0.4736302553853124
         ]
        },
        {
         "line": {
          "color": "rgba(128, 0, 128, 1.0)",
          "dash": "solid",
          "shape": "linear",
          "width": 1.3
         },
         "mode": "lines",
         "name": "D",
         "text": "",
         "type": "scatter",
         "x": [
          0,
          1,
          2,
          3,
          4,
          5,
          6,
          7,
          8,
          9,
          10,
          11,
          12,
          13,
          14,
          15,
          16,
          17,
          18,
          19,
          20,
          21,
          22,
          23,
          24,
          25,
          26,
          27,
          28,
          29,
          30,
          31,
          32,
          33,
          34,
          35,
          36,
          37,
          38,
          39,
          40,
          41,
          42,
          43,
          44,
          45,
          46,
          47,
          48,
          49,
          50,
          51,
          52,
          53,
          54,
          55,
          56,
          57,
          58,
          59,
          60,
          61,
          62,
          63,
          64,
          65,
          66,
          67,
          68,
          69,
          70,
          71,
          72,
          73,
          74,
          75,
          76,
          77,
          78,
          79,
          80,
          81,
          82,
          83,
          84,
          85,
          86,
          87,
          88,
          89,
          90,
          91,
          92,
          93,
          94,
          95,
          96,
          97,
          98,
          99
         ],
         "y": [
          0.7289264925102457,
          0.6912077819830305,
          0.8188163578461918,
          -0.30005691761790504,
          -1.4017653130971819,
          0.7418167945956171,
          -1.3072947407549396,
          0.5238505847258861,
          -0.5815439940403195,
          -0.8792388115836571,
          -1.033454430129768,
          0.7403640958737788,
          -1.0588129764174565,
          -0.7771680087119067,
          -1.6617547956883958,
          -1.5914907424879152,
          -1.0160879667124922,
          1.2678132647838818,
          -0.16793391008686473,
          1.0101429611574362,
          1.8032134050852269,
          -0.8999362203146547,
          -0.8539426072478293,
          -0.8009195843748494,
          -0.3664154121540123,
          -0.6107229900880933,
          -0.3350158000287844,
          0.38272189449206223,
          -1.851550337554075,
          1.2840629959739345,
          -0.8612530460386267,
          1.000086231202697,
          -1.3419411720416599,
          -1.0589510959940858,
          1.3923268650795624,
          -0.11210822226961702,
          -0.5842141681440038,
          -0.029178560040188175,
          -0.47118804612841253,
          0.24960142722219547,
          1.1707027090074467,
          -0.5605349045267657,
          -0.5611008894719185,
          1.5079015447793083,
          -0.7149551059987138,
          0.1438353136292474,
          0.8265123257903583,
          -0.023327793020397707,
          -0.6879816871193085,
          -0.19529967496198097,
          -0.30628224009133753,
          -0.8297173264276736,
          0.8345054934481003,
          0.5792416853511556,
          1.5935219415190103,
          -1.4883411834823808,
          0.7293186817888184,
          0.355228253069335,
          -1.3171366027193092,
          -0.056434275320834004,
          -0.5948376052025565,
          0.5778833712404194,
          0.4722524495743788,
          -0.23223626436639552,
          0.4902558443320463,
          1.2950182054810377,
          -1.7760625858810606,
          -0.6227729304429062,
          -0.5991623946916326,
          -0.4982592912885508,
          -1.49314260325824,
          0.9396270239918765,
          0.6009626436464006,
          1.3100598156970285,
          -0.07742400265272653,
          -0.2243421864407254,
          0.1739583018508991,
          -0.5440884129977694,
          -0.905632736795812,
          -0.8238665725545118,
          0.3257163950575212,
          -1.353642736504197,
          0.1249865569350151,
          1.1471228394269801,
          0.01849814702931045,
          1.7175961052390785,
          0.580982847441958,
          0.3738800828849592,
          0.22981324840051287,
          0.09748587227584486,
          0.6838294695060558,
          -1.1805057378264823,
          0.295612020998169,
          0.815165130870034,
          -0.9725072594716221,
          2.529538533955411,
          0.5554954891446603,
          0.61415886993306,
          0.14864075840154758,
          0.31334340852487175
         ]
        }
       ],
       "layout": {
        "legend": {
         "bgcolor": "#F5F6F9",
         "font": {
          "color": "#4D5663"
         }
        },
        "paper_bgcolor": "#F5F6F9",
        "plot_bgcolor": "#F5F6F9",
        "template": {
         "data": {
          "bar": [
           {
            "error_x": {
             "color": "#2a3f5f"
            },
            "error_y": {
             "color": "#2a3f5f"
            },
            "marker": {
             "line": {
              "color": "#E5ECF6",
              "width": 0.5
             }
            },
            "type": "bar"
           }
          ],
          "barpolar": [
           {
            "marker": {
             "line": {
              "color": "#E5ECF6",
              "width": 0.5
             }
            },
            "type": "barpolar"
           }
          ],
          "carpet": [
           {
            "aaxis": {
             "endlinecolor": "#2a3f5f",
             "gridcolor": "white",
             "linecolor": "white",
             "minorgridcolor": "white",
             "startlinecolor": "#2a3f5f"
            },
            "baxis": {
             "endlinecolor": "#2a3f5f",
             "gridcolor": "white",
             "linecolor": "white",
             "minorgridcolor": "white",
             "startlinecolor": "#2a3f5f"
            },
            "type": "carpet"
           }
          ],
          "choropleth": [
           {
            "colorbar": {
             "outlinewidth": 0,
             "ticks": ""
            },
            "type": "choropleth"
           }
          ],
          "contour": [
           {
            "colorbar": {
             "outlinewidth": 0,
             "ticks": ""
            },
            "colorscale": [
             [
              0,
              "#0d0887"
             ],
             [
              0.1111111111111111,
              "#46039f"
             ],
             [
              0.2222222222222222,
              "#7201a8"
             ],
             [
              0.3333333333333333,
              "#9c179e"
             ],
             [
              0.4444444444444444,
              "#bd3786"
             ],
             [
              0.5555555555555556,
              "#d8576b"
             ],
             [
              0.6666666666666666,
              "#ed7953"
             ],
             [
              0.7777777777777778,
              "#fb9f3a"
             ],
             [
              0.8888888888888888,
              "#fdca26"
             ],
             [
              1,
              "#f0f921"
             ]
            ],
            "type": "contour"
           }
          ],
          "contourcarpet": [
           {
            "colorbar": {
             "outlinewidth": 0,
             "ticks": ""
            },
            "type": "contourcarpet"
           }
          ],
          "heatmap": [
           {
            "colorbar": {
             "outlinewidth": 0,
             "ticks": ""
            },
            "colorscale": [
             [
              0,
              "#0d0887"
             ],
             [
              0.1111111111111111,
              "#46039f"
             ],
             [
              0.2222222222222222,
              "#7201a8"
             ],
             [
              0.3333333333333333,
              "#9c179e"
             ],
             [
              0.4444444444444444,
              "#bd3786"
             ],
             [
              0.5555555555555556,
              "#d8576b"
             ],
             [
              0.6666666666666666,
              "#ed7953"
             ],
             [
              0.7777777777777778,
              "#fb9f3a"
             ],
             [
              0.8888888888888888,
              "#fdca26"
             ],
             [
              1,
              "#f0f921"
             ]
            ],
            "type": "heatmap"
           }
          ],
          "heatmapgl": [
           {
            "colorbar": {
             "outlinewidth": 0,
             "ticks": ""
            },
            "colorscale": [
             [
              0,
              "#0d0887"
             ],
             [
              0.1111111111111111,
              "#46039f"
             ],
             [
              0.2222222222222222,
              "#7201a8"
             ],
             [
              0.3333333333333333,
              "#9c179e"
             ],
             [
              0.4444444444444444,
              "#bd3786"
             ],
             [
              0.5555555555555556,
              "#d8576b"
             ],
             [
              0.6666666666666666,
              "#ed7953"
             ],
             [
              0.7777777777777778,
              "#fb9f3a"
             ],
             [
              0.8888888888888888,
              "#fdca26"
             ],
             [
              1,
              "#f0f921"
             ]
            ],
            "type": "heatmapgl"
           }
          ],
          "histogram": [
           {
            "marker": {
             "colorbar": {
              "outlinewidth": 0,
              "ticks": ""
             }
            },
            "type": "histogram"
           }
          ],
          "histogram2d": [
           {
            "colorbar": {
             "outlinewidth": 0,
             "ticks": ""
            },
            "colorscale": [
             [
              0,
              "#0d0887"
             ],
             [
              0.1111111111111111,
              "#46039f"
             ],
             [
              0.2222222222222222,
              "#7201a8"
             ],
             [
              0.3333333333333333,
              "#9c179e"
             ],
             [
              0.4444444444444444,
              "#bd3786"
             ],
             [
              0.5555555555555556,
              "#d8576b"
             ],
             [
              0.6666666666666666,
              "#ed7953"
             ],
             [
              0.7777777777777778,
              "#fb9f3a"
             ],
             [
              0.8888888888888888,
              "#fdca26"
             ],
             [
              1,
              "#f0f921"
             ]
            ],
            "type": "histogram2d"
           }
          ],
          "histogram2dcontour": [
           {
            "colorbar": {
             "outlinewidth": 0,
             "ticks": ""
            },
            "colorscale": [
             [
              0,
              "#0d0887"
             ],
             [
              0.1111111111111111,
              "#46039f"
             ],
             [
              0.2222222222222222,
              "#7201a8"
             ],
             [
              0.3333333333333333,
              "#9c179e"
             ],
             [
              0.4444444444444444,
              "#bd3786"
             ],
             [
              0.5555555555555556,
              "#d8576b"
             ],
             [
              0.6666666666666666,
              "#ed7953"
             ],
             [
              0.7777777777777778,
              "#fb9f3a"
             ],
             [
              0.8888888888888888,
              "#fdca26"
             ],
             [
              1,
              "#f0f921"
             ]
            ],
            "type": "histogram2dcontour"
           }
          ],
          "mesh3d": [
           {
            "colorbar": {
             "outlinewidth": 0,
             "ticks": ""
            },
            "type": "mesh3d"
           }
          ],
          "parcoords": [
           {
            "line": {
             "colorbar": {
              "outlinewidth": 0,
              "ticks": ""
             }
            },
            "type": "parcoords"
           }
          ],
          "pie": [
           {
            "automargin": true,
            "type": "pie"
           }
          ],
          "scatter": [
           {
            "marker": {
             "colorbar": {
              "outlinewidth": 0,
              "ticks": ""
             }
            },
            "type": "scatter"
           }
          ],
          "scatter3d": [
           {
            "line": {
             "colorbar": {
              "outlinewidth": 0,
              "ticks": ""
             }
            },
            "marker": {
             "colorbar": {
              "outlinewidth": 0,
              "ticks": ""
             }
            },
            "type": "scatter3d"
           }
          ],
          "scattercarpet": [
           {
            "marker": {
             "colorbar": {
              "outlinewidth": 0,
              "ticks": ""
             }
            },
            "type": "scattercarpet"
           }
          ],
          "scattergeo": [
           {
            "marker": {
             "colorbar": {
              "outlinewidth": 0,
              "ticks": ""
             }
            },
            "type": "scattergeo"
           }
          ],
          "scattergl": [
           {
            "marker": {
             "colorbar": {
              "outlinewidth": 0,
              "ticks": ""
             }
            },
            "type": "scattergl"
           }
          ],
          "scattermapbox": [
           {
            "marker": {
             "colorbar": {
              "outlinewidth": 0,
              "ticks": ""
             }
            },
            "type": "scattermapbox"
           }
          ],
          "scatterpolar": [
           {
            "marker": {
             "colorbar": {
              "outlinewidth": 0,
              "ticks": ""
             }
            },
            "type": "scatterpolar"
           }
          ],
          "scatterpolargl": [
           {
            "marker": {
             "colorbar": {
              "outlinewidth": 0,
              "ticks": ""
             }
            },
            "type": "scatterpolargl"
           }
          ],
          "scatterternary": [
           {
            "marker": {
             "colorbar": {
              "outlinewidth": 0,
              "ticks": ""
             }
            },
            "type": "scatterternary"
           }
          ],
          "surface": [
           {
            "colorbar": {
             "outlinewidth": 0,
             "ticks": ""
            },
            "colorscale": [
             [
              0,
              "#0d0887"
             ],
             [
              0.1111111111111111,
              "#46039f"
             ],
             [
              0.2222222222222222,
              "#7201a8"
             ],
             [
              0.3333333333333333,
              "#9c179e"
             ],
             [
              0.4444444444444444,
              "#bd3786"
             ],
             [
              0.5555555555555556,
              "#d8576b"
             ],
             [
              0.6666666666666666,
              "#ed7953"
             ],
             [
              0.7777777777777778,
              "#fb9f3a"
             ],
             [
              0.8888888888888888,
              "#fdca26"
             ],
             [
              1,
              "#f0f921"
             ]
            ],
            "type": "surface"
           }
          ],
          "table": [
           {
            "cells": {
             "fill": {
              "color": "#EBF0F8"
             },
             "line": {
              "color": "white"
             }
            },
            "header": {
             "fill": {
              "color": "#C8D4E3"
             },
             "line": {
              "color": "white"
             }
            },
            "type": "table"
           }
          ]
         },
         "layout": {
          "annotationdefaults": {
           "arrowcolor": "#2a3f5f",
           "arrowhead": 0,
           "arrowwidth": 1
          },
          "coloraxis": {
           "colorbar": {
            "outlinewidth": 0,
            "ticks": ""
           }
          },
          "colorscale": {
           "diverging": [
            [
             0,
             "#8e0152"
            ],
            [
             0.1,
             "#c51b7d"
            ],
            [
             0.2,
             "#de77ae"
            ],
            [
             0.3,
             "#f1b6da"
            ],
            [
             0.4,
             "#fde0ef"
            ],
            [
             0.5,
             "#f7f7f7"
            ],
            [
             0.6,
             "#e6f5d0"
            ],
            [
             0.7,
             "#b8e186"
            ],
            [
             0.8,
             "#7fbc41"
            ],
            [
             0.9,
             "#4d9221"
            ],
            [
             1,
             "#276419"
            ]
           ],
           "sequential": [
            [
             0,
             "#0d0887"
            ],
            [
             0.1111111111111111,
             "#46039f"
            ],
            [
             0.2222222222222222,
             "#7201a8"
            ],
            [
             0.3333333333333333,
             "#9c179e"
            ],
            [
             0.4444444444444444,
             "#bd3786"
            ],
            [
             0.5555555555555556,
             "#d8576b"
            ],
            [
             0.6666666666666666,
             "#ed7953"
            ],
            [
             0.7777777777777778,
             "#fb9f3a"
            ],
            [
             0.8888888888888888,
             "#fdca26"
            ],
            [
             1,
             "#f0f921"
            ]
           ],
           "sequentialminus": [
            [
             0,
             "#0d0887"
            ],
            [
             0.1111111111111111,
             "#46039f"
            ],
            [
             0.2222222222222222,
             "#7201a8"
            ],
            [
             0.3333333333333333,
             "#9c179e"
            ],
            [
             0.4444444444444444,
             "#bd3786"
            ],
            [
             0.5555555555555556,
             "#d8576b"
            ],
            [
             0.6666666666666666,
             "#ed7953"
            ],
            [
             0.7777777777777778,
             "#fb9f3a"
            ],
            [
             0.8888888888888888,
             "#fdca26"
            ],
            [
             1,
             "#f0f921"
            ]
           ]
          },
          "colorway": [
           "#636efa",
           "#EF553B",
           "#00cc96",
           "#ab63fa",
           "#FFA15A",
           "#19d3f3",
           "#FF6692",
           "#B6E880",
           "#FF97FF",
           "#FECB52"
          ],
          "font": {
           "color": "#2a3f5f"
          },
          "geo": {
           "bgcolor": "white",
           "lakecolor": "white",
           "landcolor": "#E5ECF6",
           "showlakes": true,
           "showland": true,
           "subunitcolor": "white"
          },
          "hoverlabel": {
           "align": "left"
          },
          "hovermode": "closest",
          "mapbox": {
           "style": "light"
          },
          "paper_bgcolor": "white",
          "plot_bgcolor": "#E5ECF6",
          "polar": {
           "angularaxis": {
            "gridcolor": "white",
            "linecolor": "white",
            "ticks": ""
           },
           "bgcolor": "#E5ECF6",
           "radialaxis": {
            "gridcolor": "white",
            "linecolor": "white",
            "ticks": ""
           }
          },
          "scene": {
           "xaxis": {
            "backgroundcolor": "#E5ECF6",
            "gridcolor": "white",
            "gridwidth": 2,
            "linecolor": "white",
            "showbackground": true,
            "ticks": "",
            "zerolinecolor": "white"
           },
           "yaxis": {
            "backgroundcolor": "#E5ECF6",
            "gridcolor": "white",
            "gridwidth": 2,
            "linecolor": "white",
            "showbackground": true,
            "ticks": "",
            "zerolinecolor": "white"
           },
           "zaxis": {
            "backgroundcolor": "#E5ECF6",
            "gridcolor": "white",
            "gridwidth": 2,
            "linecolor": "white",
            "showbackground": true,
            "ticks": "",
            "zerolinecolor": "white"
           }
          },
          "shapedefaults": {
           "line": {
            "color": "#2a3f5f"
           }
          },
          "ternary": {
           "aaxis": {
            "gridcolor": "white",
            "linecolor": "white",
            "ticks": ""
           },
           "baxis": {
            "gridcolor": "white",
            "linecolor": "white",
            "ticks": ""
           },
           "bgcolor": "#E5ECF6",
           "caxis": {
            "gridcolor": "white",
            "linecolor": "white",
            "ticks": ""
           }
          },
          "title": {
           "x": 0.05
          },
          "xaxis": {
           "automargin": true,
           "gridcolor": "white",
           "linecolor": "white",
           "ticks": "",
           "title": {
            "standoff": 15
           },
           "zerolinecolor": "white",
           "zerolinewidth": 2
          },
          "yaxis": {
           "automargin": true,
           "gridcolor": "white",
           "linecolor": "white",
           "ticks": "",
           "title": {
            "standoff": 15
           },
           "zerolinecolor": "white",
           "zerolinewidth": 2
          }
         }
        },
        "title": {
         "font": {
          "color": "#4D5663"
         }
        },
        "xaxis": {
         "gridcolor": "#E1E5ED",
         "showgrid": true,
         "tickfont": {
          "color": "#4D5663"
         },
         "title": {
          "font": {
           "color": "#4D5663"
          },
          "text": ""
         },
         "zerolinecolor": "#E1E5ED"
        },
        "yaxis": {
         "gridcolor": "#E1E5ED",
         "showgrid": true,
         "tickfont": {
          "color": "#4D5663"
         },
         "title": {
          "font": {
           "color": "#4D5663"
          },
          "text": ""
         },
         "zerolinecolor": "#E1E5ED"
        }
       }
      },
      "text/html": [
       "<div>\n",
       "        \n",
       "        \n",
       "            <div id=\"2451da69-0229-4ec2-8b2d-1bf4f7a4b71c\" class=\"plotly-graph-div\" style=\"height:525px; width:100%;\"></div>\n",
       "            <script type=\"text/javascript\">\n",
       "                require([\"plotly\"], function(Plotly) {\n",
       "                    window.PLOTLYENV=window.PLOTLYENV || {};\n",
       "                    window.PLOTLYENV.BASE_URL='https://plot.ly';\n",
       "                    \n",
       "                if (document.getElementById(\"2451da69-0229-4ec2-8b2d-1bf4f7a4b71c\")) {\n",
       "                    Plotly.newPlot(\n",
       "                        '2451da69-0229-4ec2-8b2d-1bf4f7a4b71c',\n",
       "                        [{\"line\": {\"color\": \"rgba(255, 153, 51, 1.0)\", \"dash\": \"solid\", \"shape\": \"linear\", \"width\": 1.3}, \"mode\": \"lines\", \"name\": \"A\", \"text\": \"\", \"type\": \"scatter\", \"x\": [0, 1, 2, 3, 4, 5, 6, 7, 8, 9, 10, 11, 12, 13, 14, 15, 16, 17, 18, 19, 20, 21, 22, 23, 24, 25, 26, 27, 28, 29, 30, 31, 32, 33, 34, 35, 36, 37, 38, 39, 40, 41, 42, 43, 44, 45, 46, 47, 48, 49, 50, 51, 52, 53, 54, 55, 56, 57, 58, 59, 60, 61, 62, 63, 64, 65, 66, 67, 68, 69, 70, 71, 72, 73, 74, 75, 76, 77, 78, 79, 80, 81, 82, 83, 84, 85, 86, 87, 88, 89, 90, 91, 92, 93, 94, 95, 96, 97, 98, 99], \"y\": [-0.5009543608026148, -0.4204615151389094, -0.49553283935936165, 0.7657304693445539, -0.07847397916945117, 0.6700761884302777, 1.6148887957746296, -0.14346731599489548, -0.2665864011088299, 1.5203733905118066, -1.6225831980015681, -0.0010036338978958532, -0.20764556384936733, 1.2211140213435423, 0.7616648705923982, 0.8511236141237207, -0.11514925363568562, -0.20936138521130568, -0.23694314875636666, -1.41396658714284, -0.7197209408930788, -0.21986205769332937, 1.0281717480256272, -0.34491294269628503, 1.8387982177216249, 1.7454245898531036, 0.40475695887285834, 0.38445221563913434, 0.09096690376723829, -0.5452474872683721, 0.36883064898417145, 0.471064900436615, 0.08943939927300605, -0.04711988398954826, -0.377726634293231, 0.7896939082042002, 0.2834844224400587, -0.3712372134953554, -0.8239234838514105, -0.24380479792713633, 0.8021227623642619, 0.8595077643277932, -0.89133910900524, -0.08704741110358603, 1.1154306476276132, -0.8232991534045231, 0.03951476468379789, -0.5897579157424271, 0.48638772034887495, -0.23689141912829995, -0.849875469508366, 1.2033244290804135, -0.9707942664404414, 0.5345692965058876, 0.24185563713696623, -1.2480718435113924, -1.9764817321890251, 0.17398462490394964, -0.2958648071038704, -0.9073789839128634, -0.320061959697221, -1.2894563780049575, 0.8162202543091142, 0.7279819747659728, 0.5016314636811545, -1.6350473403411654, 1.112226070703627, -1.3798198056686024, 0.03712506450794439, 0.8725646848428592, -0.062491031397570555, -1.283446523292469, 0.8042769164891135, -1.2878267604909532, -2.4243449762842935, 1.455471611236058, 0.4262483065173007, -1.1011863485263866, 0.36393070625865315, -0.3828540123202687, 0.07374167084754127, -1.3446917941460133, -0.07602512088167016, 2.131579084083562, 0.8633118511617681, 0.9567443066299663, -0.35082901706021047, 0.5353353137007961, -0.06072553628984715, 0.4216056690056466, 1.8201523623294387, -1.4207116091443348, -0.24445402467878669, 1.0790482734281726, -0.301775352771489, -0.463830499688751, -0.48449348616253807, -0.8952937264879816, -0.17464315190589047, -1.5690068772777155]}, {\"line\": {\"color\": \"rgba(55, 128, 191, 1.0)\", \"dash\": \"solid\", \"shape\": \"linear\", \"width\": 1.3}, \"mode\": \"lines\", \"name\": \"B\", \"text\": \"\", \"type\": \"scatter\", \"x\": [0, 1, 2, 3, 4, 5, 6, 7, 8, 9, 10, 11, 12, 13, 14, 15, 16, 17, 18, 19, 20, 21, 22, 23, 24, 25, 26, 27, 28, 29, 30, 31, 32, 33, 34, 35, 36, 37, 38, 39, 40, 41, 42, 43, 44, 45, 46, 47, 48, 49, 50, 51, 52, 53, 54, 55, 56, 57, 58, 59, 60, 61, 62, 63, 64, 65, 66, 67, 68, 69, 70, 71, 72, 73, 74, 75, 76, 77, 78, 79, 80, 81, 82, 83, 84, 85, 86, 87, 88, 89, 90, 91, 92, 93, 94, 95, 96, 97, 98, 99], \"y\": [0.4647073083742839, -0.05638983549159592, 0.8211639860066423, -0.5302111813539075, -0.026095626254060273, 0.934819749012539, -0.06881896608775859, 0.7431747218014507, -0.6634138417015264, -0.6407659494255311, -2.0830026972903197, 1.8045522880146014, 1.037149625547556, 0.3248740795752661, 0.16422555997258756, -0.04448673216754261, -1.1666989664863299, -0.34489031820823246, 0.023191019187505314, -1.130997876996157, 0.6537048033347655, -2.008977265519097, 2.1187636059019828, -0.14720374779769907, -0.4119883895674882, -0.01889786289040426, -0.5408825560442116, 0.6532664735645086, 0.3019048417424934, 1.6458305129952842, 0.6030209295808521, -0.3623998992628467, -1.354212000595378, -1.172657051102667, -0.1769801146101835, 2.2055905103394196, 0.2760796035999615, -1.7813429624595076, 0.7750526626200264, -0.5805198523009042, -1.0618189104978328, 0.18946634999859532, 0.381459586503324, -0.9242275271954474, -0.5628414484788141, -0.8638503681130342, -0.12409497161196388, 1.0458509752935239, -0.695096587506082, 1.2734349572542032, 0.24242678837999837, -0.5467390258304995, -0.6363370209478098, 2.013175801488738, 0.7725826019693162, -0.3915999325975337, -0.21384985463778458, 1.4732988178499873, -1.946677160191751, 0.40084042312757945, 1.3366011084629332, -0.3613636341442311, 0.5298250484301542, 1.4558635024058049, -0.6318727492567257, -0.8227985700773811, -0.5377019717823004, -1.7902939476280129, -0.26846879662803125, 1.465181281886347, 2.3219711044551956, 0.9250989703211202, 0.8916825245438201, -1.1517637591562595, -0.19150262412323274, 1.4792770255841388, 1.6861949140510182, 0.4512015631832032, 0.1485498153576192, 0.7032594474993233, 1.398402958112115, -0.0031789942556199823, -0.6032519124226736, 0.9550811638193741, 1.737666005127905, 1.060053557429989, 1.2895208947773007, -1.1953320328355028, 1.782261738784618, 1.9306290169917022, -0.7425207838161446, -0.9754342092359741, 0.9982550336125903, 0.04387350789025311, -0.6029540220032642, -0.3176203472281875, 1.3016837317080092, 1.319139155169162, 0.60300051445889, -0.4734361308297189]}, {\"line\": {\"color\": \"rgba(50, 171, 96, 1.0)\", \"dash\": \"solid\", \"shape\": \"linear\", \"width\": 1.3}, \"mode\": \"lines\", \"name\": \"C\", \"text\": \"\", \"type\": \"scatter\", \"x\": [0, 1, 2, 3, 4, 5, 6, 7, 8, 9, 10, 11, 12, 13, 14, 15, 16, 17, 18, 19, 20, 21, 22, 23, 24, 25, 26, 27, 28, 29, 30, 31, 32, 33, 34, 35, 36, 37, 38, 39, 40, 41, 42, 43, 44, 45, 46, 47, 48, 49, 50, 51, 52, 53, 54, 55, 56, 57, 58, 59, 60, 61, 62, 63, 64, 65, 66, 67, 68, 69, 70, 71, 72, 73, 74, 75, 76, 77, 78, 79, 80, 81, 82, 83, 84, 85, 86, 87, 88, 89, 90, 91, 92, 93, 94, 95, 96, 97, 98, 99], \"y\": [-0.40315973833766044, -1.360054681543459, 0.7106343682785928, -0.9177669533408417, 0.06883949789015524, 0.01696296847514918, -0.44393478997380553, -0.7198535392505376, -0.7875483593999346, 1.9155416094569315, 0.6583623881679307, 0.5376709735739473, 1.0405012466708365, -0.23171979820644356, -0.3744126532426237, -1.1618515687799378, -1.3964253535908646, 0.5769970040773327, -1.0835044014698794, 0.5747678743329491, -0.11827539408021497, 0.2151484932585146, 0.08078309448514429, -2.037047352546062, -1.390219773530132, 0.09167606324494677, -0.7235507708580192, -0.5405884558003439, -1.2811560263191193, -0.4543060750192719, -1.1165034510234548, 0.3000613728191319, -0.05289080065345519, 0.362704088345904, -0.9680892848574593, 0.6680708701581071, -0.8231344948245031, 0.715348855171547, 0.5650247434328161, -0.5773761355342275, -0.9286783479833696, 0.7776532703274646, -0.12317469719040205, -1.1513332111873045, 0.5063978291626221, -0.8742393811420719, 1.9156488862245638, -1.0865525250496144, 0.44206782103104286, 0.9026685461629094, 2.895994875542977, 1.1285450455156265, 1.1841356567838248, 0.19876360513024213, 1.4886716994001934, -0.3327270700698986, -0.5621700345151495, -0.5847259828949196, -1.2846401342555829, -0.6016000623194985, -0.09861791991283785, 1.1816530601740363, -0.6908357948875438, 0.3171310416057197, 0.7552121889991846, -2.3888071483371647, -1.1485383178467785, 0.5897185443197643, -0.36845595698948597, -0.5717563197990444, -0.14214523110978153, 0.0004170052383094638, -0.18461428501604366, -0.1052252881648122, -0.8292749236373992, -0.08997556334434115, 1.2644372314371435, 2.0832196408139105, 0.38676730762963063, 1.4060141059133717, -1.3360038713603481, 0.34749778659436176, -0.33806765343092926, 1.4157584416445, -0.7594413490741586, -1.762295996654411, 0.5617175196967619, 1.7970365337189476, -1.0303904420141936, -0.9645790425198174, 0.9914171618392057, -0.10285713286924551, -0.8135392007267539, 0.7187908001826215, -0.09528272118315335, -0.6296134228433697, -0.4152341746240974, 0.4321855310892845, 0.7934990376332662, -0.4736302553853124]}, {\"line\": {\"color\": \"rgba(128, 0, 128, 1.0)\", \"dash\": \"solid\", \"shape\": \"linear\", \"width\": 1.3}, \"mode\": \"lines\", \"name\": \"D\", \"text\": \"\", \"type\": \"scatter\", \"x\": [0, 1, 2, 3, 4, 5, 6, 7, 8, 9, 10, 11, 12, 13, 14, 15, 16, 17, 18, 19, 20, 21, 22, 23, 24, 25, 26, 27, 28, 29, 30, 31, 32, 33, 34, 35, 36, 37, 38, 39, 40, 41, 42, 43, 44, 45, 46, 47, 48, 49, 50, 51, 52, 53, 54, 55, 56, 57, 58, 59, 60, 61, 62, 63, 64, 65, 66, 67, 68, 69, 70, 71, 72, 73, 74, 75, 76, 77, 78, 79, 80, 81, 82, 83, 84, 85, 86, 87, 88, 89, 90, 91, 92, 93, 94, 95, 96, 97, 98, 99], \"y\": [0.7289264925102457, 0.6912077819830305, 0.8188163578461918, -0.30005691761790504, -1.4017653130971819, 0.7418167945956171, -1.3072947407549396, 0.5238505847258861, -0.5815439940403195, -0.8792388115836571, -1.033454430129768, 0.7403640958737788, -1.0588129764174565, -0.7771680087119067, -1.6617547956883958, -1.5914907424879152, -1.0160879667124922, 1.2678132647838818, -0.16793391008686473, 1.0101429611574362, 1.8032134050852269, -0.8999362203146547, -0.8539426072478293, -0.8009195843748494, -0.3664154121540123, -0.6107229900880933, -0.3350158000287844, 0.38272189449206223, -1.851550337554075, 1.2840629959739345, -0.8612530460386267, 1.000086231202697, -1.3419411720416599, -1.0589510959940858, 1.3923268650795624, -0.11210822226961702, -0.5842141681440038, -0.029178560040188175, -0.47118804612841253, 0.24960142722219547, 1.1707027090074467, -0.5605349045267657, -0.5611008894719185, 1.5079015447793083, -0.7149551059987138, 0.1438353136292474, 0.8265123257903583, -0.023327793020397707, -0.6879816871193085, -0.19529967496198097, -0.30628224009133753, -0.8297173264276736, 0.8345054934481003, 0.5792416853511556, 1.5935219415190103, -1.4883411834823808, 0.7293186817888184, 0.355228253069335, -1.3171366027193092, -0.056434275320834004, -0.5948376052025565, 0.5778833712404194, 0.4722524495743788, -0.23223626436639552, 0.4902558443320463, 1.2950182054810377, -1.7760625858810606, -0.6227729304429062, -0.5991623946916326, -0.4982592912885508, -1.49314260325824, 0.9396270239918765, 0.6009626436464006, 1.3100598156970285, -0.07742400265272653, -0.2243421864407254, 0.1739583018508991, -0.5440884129977694, -0.905632736795812, -0.8238665725545118, 0.3257163950575212, -1.353642736504197, 0.1249865569350151, 1.1471228394269801, 0.01849814702931045, 1.7175961052390785, 0.580982847441958, 0.3738800828849592, 0.22981324840051287, 0.09748587227584486, 0.6838294695060558, -1.1805057378264823, 0.295612020998169, 0.815165130870034, -0.9725072594716221, 2.529538533955411, 0.5554954891446603, 0.61415886993306, 0.14864075840154758, 0.31334340852487175]}],\n",
       "                        {\"legend\": {\"bgcolor\": \"#F5F6F9\", \"font\": {\"color\": \"#4D5663\"}}, \"paper_bgcolor\": \"#F5F6F9\", \"plot_bgcolor\": \"#F5F6F9\", \"template\": {\"data\": {\"bar\": [{\"error_x\": {\"color\": \"#2a3f5f\"}, \"error_y\": {\"color\": \"#2a3f5f\"}, \"marker\": {\"line\": {\"color\": \"#E5ECF6\", \"width\": 0.5}}, \"type\": \"bar\"}], \"barpolar\": [{\"marker\": {\"line\": {\"color\": \"#E5ECF6\", \"width\": 0.5}}, \"type\": \"barpolar\"}], \"carpet\": [{\"aaxis\": {\"endlinecolor\": \"#2a3f5f\", \"gridcolor\": \"white\", \"linecolor\": \"white\", \"minorgridcolor\": \"white\", \"startlinecolor\": \"#2a3f5f\"}, \"baxis\": {\"endlinecolor\": \"#2a3f5f\", \"gridcolor\": \"white\", \"linecolor\": \"white\", \"minorgridcolor\": \"white\", \"startlinecolor\": \"#2a3f5f\"}, \"type\": \"carpet\"}], \"choropleth\": [{\"colorbar\": {\"outlinewidth\": 0, \"ticks\": \"\"}, \"type\": \"choropleth\"}], \"contour\": [{\"colorbar\": {\"outlinewidth\": 0, \"ticks\": \"\"}, \"colorscale\": [[0.0, \"#0d0887\"], [0.1111111111111111, \"#46039f\"], [0.2222222222222222, \"#7201a8\"], [0.3333333333333333, \"#9c179e\"], [0.4444444444444444, \"#bd3786\"], [0.5555555555555556, \"#d8576b\"], [0.6666666666666666, \"#ed7953\"], [0.7777777777777778, \"#fb9f3a\"], [0.8888888888888888, \"#fdca26\"], [1.0, \"#f0f921\"]], \"type\": \"contour\"}], \"contourcarpet\": [{\"colorbar\": {\"outlinewidth\": 0, \"ticks\": \"\"}, \"type\": \"contourcarpet\"}], \"heatmap\": [{\"colorbar\": {\"outlinewidth\": 0, \"ticks\": \"\"}, \"colorscale\": [[0.0, \"#0d0887\"], [0.1111111111111111, \"#46039f\"], [0.2222222222222222, \"#7201a8\"], [0.3333333333333333, \"#9c179e\"], [0.4444444444444444, \"#bd3786\"], [0.5555555555555556, \"#d8576b\"], [0.6666666666666666, \"#ed7953\"], [0.7777777777777778, \"#fb9f3a\"], [0.8888888888888888, \"#fdca26\"], [1.0, \"#f0f921\"]], \"type\": \"heatmap\"}], \"heatmapgl\": [{\"colorbar\": {\"outlinewidth\": 0, \"ticks\": \"\"}, \"colorscale\": [[0.0, \"#0d0887\"], [0.1111111111111111, \"#46039f\"], [0.2222222222222222, \"#7201a8\"], [0.3333333333333333, \"#9c179e\"], [0.4444444444444444, \"#bd3786\"], [0.5555555555555556, \"#d8576b\"], [0.6666666666666666, \"#ed7953\"], [0.7777777777777778, \"#fb9f3a\"], [0.8888888888888888, \"#fdca26\"], [1.0, \"#f0f921\"]], \"type\": \"heatmapgl\"}], \"histogram\": [{\"marker\": {\"colorbar\": {\"outlinewidth\": 0, \"ticks\": \"\"}}, \"type\": \"histogram\"}], \"histogram2d\": [{\"colorbar\": {\"outlinewidth\": 0, \"ticks\": \"\"}, \"colorscale\": [[0.0, \"#0d0887\"], [0.1111111111111111, \"#46039f\"], [0.2222222222222222, \"#7201a8\"], [0.3333333333333333, \"#9c179e\"], [0.4444444444444444, \"#bd3786\"], [0.5555555555555556, \"#d8576b\"], [0.6666666666666666, \"#ed7953\"], [0.7777777777777778, \"#fb9f3a\"], [0.8888888888888888, \"#fdca26\"], [1.0, \"#f0f921\"]], \"type\": \"histogram2d\"}], \"histogram2dcontour\": [{\"colorbar\": {\"outlinewidth\": 0, \"ticks\": \"\"}, \"colorscale\": [[0.0, \"#0d0887\"], [0.1111111111111111, \"#46039f\"], [0.2222222222222222, \"#7201a8\"], [0.3333333333333333, \"#9c179e\"], [0.4444444444444444, \"#bd3786\"], [0.5555555555555556, \"#d8576b\"], [0.6666666666666666, \"#ed7953\"], [0.7777777777777778, \"#fb9f3a\"], [0.8888888888888888, \"#fdca26\"], [1.0, \"#f0f921\"]], \"type\": \"histogram2dcontour\"}], \"mesh3d\": [{\"colorbar\": {\"outlinewidth\": 0, \"ticks\": \"\"}, \"type\": \"mesh3d\"}], \"parcoords\": [{\"line\": {\"colorbar\": {\"outlinewidth\": 0, \"ticks\": \"\"}}, \"type\": \"parcoords\"}], \"pie\": [{\"automargin\": true, \"type\": \"pie\"}], \"scatter\": [{\"marker\": {\"colorbar\": {\"outlinewidth\": 0, \"ticks\": \"\"}}, \"type\": \"scatter\"}], \"scatter3d\": [{\"line\": {\"colorbar\": {\"outlinewidth\": 0, \"ticks\": \"\"}}, \"marker\": {\"colorbar\": {\"outlinewidth\": 0, \"ticks\": \"\"}}, \"type\": \"scatter3d\"}], \"scattercarpet\": [{\"marker\": {\"colorbar\": {\"outlinewidth\": 0, \"ticks\": \"\"}}, \"type\": \"scattercarpet\"}], \"scattergeo\": [{\"marker\": {\"colorbar\": {\"outlinewidth\": 0, \"ticks\": \"\"}}, \"type\": \"scattergeo\"}], \"scattergl\": [{\"marker\": {\"colorbar\": {\"outlinewidth\": 0, \"ticks\": \"\"}}, \"type\": \"scattergl\"}], \"scattermapbox\": [{\"marker\": {\"colorbar\": {\"outlinewidth\": 0, \"ticks\": \"\"}}, \"type\": \"scattermapbox\"}], \"scatterpolar\": [{\"marker\": {\"colorbar\": {\"outlinewidth\": 0, \"ticks\": \"\"}}, \"type\": \"scatterpolar\"}], \"scatterpolargl\": [{\"marker\": {\"colorbar\": {\"outlinewidth\": 0, \"ticks\": \"\"}}, \"type\": \"scatterpolargl\"}], \"scatterternary\": [{\"marker\": {\"colorbar\": {\"outlinewidth\": 0, \"ticks\": \"\"}}, \"type\": \"scatterternary\"}], \"surface\": [{\"colorbar\": {\"outlinewidth\": 0, \"ticks\": \"\"}, \"colorscale\": [[0.0, \"#0d0887\"], [0.1111111111111111, \"#46039f\"], [0.2222222222222222, \"#7201a8\"], [0.3333333333333333, \"#9c179e\"], [0.4444444444444444, \"#bd3786\"], [0.5555555555555556, \"#d8576b\"], [0.6666666666666666, \"#ed7953\"], [0.7777777777777778, \"#fb9f3a\"], [0.8888888888888888, \"#fdca26\"], [1.0, \"#f0f921\"]], \"type\": \"surface\"}], \"table\": [{\"cells\": {\"fill\": {\"color\": \"#EBF0F8\"}, \"line\": {\"color\": \"white\"}}, \"header\": {\"fill\": {\"color\": \"#C8D4E3\"}, \"line\": {\"color\": \"white\"}}, \"type\": \"table\"}]}, \"layout\": {\"annotationdefaults\": {\"arrowcolor\": \"#2a3f5f\", \"arrowhead\": 0, \"arrowwidth\": 1}, \"coloraxis\": {\"colorbar\": {\"outlinewidth\": 0, \"ticks\": \"\"}}, \"colorscale\": {\"diverging\": [[0, \"#8e0152\"], [0.1, \"#c51b7d\"], [0.2, \"#de77ae\"], [0.3, \"#f1b6da\"], [0.4, \"#fde0ef\"], [0.5, \"#f7f7f7\"], [0.6, \"#e6f5d0\"], [0.7, \"#b8e186\"], [0.8, \"#7fbc41\"], [0.9, \"#4d9221\"], [1, \"#276419\"]], \"sequential\": [[0.0, \"#0d0887\"], [0.1111111111111111, \"#46039f\"], [0.2222222222222222, \"#7201a8\"], [0.3333333333333333, \"#9c179e\"], [0.4444444444444444, \"#bd3786\"], [0.5555555555555556, \"#d8576b\"], [0.6666666666666666, \"#ed7953\"], [0.7777777777777778, \"#fb9f3a\"], [0.8888888888888888, \"#fdca26\"], [1.0, \"#f0f921\"]], \"sequentialminus\": [[0.0, \"#0d0887\"], [0.1111111111111111, \"#46039f\"], [0.2222222222222222, \"#7201a8\"], [0.3333333333333333, \"#9c179e\"], [0.4444444444444444, \"#bd3786\"], [0.5555555555555556, \"#d8576b\"], [0.6666666666666666, \"#ed7953\"], [0.7777777777777778, \"#fb9f3a\"], [0.8888888888888888, \"#fdca26\"], [1.0, \"#f0f921\"]]}, \"colorway\": [\"#636efa\", \"#EF553B\", \"#00cc96\", \"#ab63fa\", \"#FFA15A\", \"#19d3f3\", \"#FF6692\", \"#B6E880\", \"#FF97FF\", \"#FECB52\"], \"font\": {\"color\": \"#2a3f5f\"}, \"geo\": {\"bgcolor\": \"white\", \"lakecolor\": \"white\", \"landcolor\": \"#E5ECF6\", \"showlakes\": true, \"showland\": true, \"subunitcolor\": \"white\"}, \"hoverlabel\": {\"align\": \"left\"}, \"hovermode\": \"closest\", \"mapbox\": {\"style\": \"light\"}, \"paper_bgcolor\": \"white\", \"plot_bgcolor\": \"#E5ECF6\", \"polar\": {\"angularaxis\": {\"gridcolor\": \"white\", \"linecolor\": \"white\", \"ticks\": \"\"}, \"bgcolor\": \"#E5ECF6\", \"radialaxis\": {\"gridcolor\": \"white\", \"linecolor\": \"white\", \"ticks\": \"\"}}, \"scene\": {\"xaxis\": {\"backgroundcolor\": \"#E5ECF6\", \"gridcolor\": \"white\", \"gridwidth\": 2, \"linecolor\": \"white\", \"showbackground\": true, \"ticks\": \"\", \"zerolinecolor\": \"white\"}, \"yaxis\": {\"backgroundcolor\": \"#E5ECF6\", \"gridcolor\": \"white\", \"gridwidth\": 2, \"linecolor\": \"white\", \"showbackground\": true, \"ticks\": \"\", \"zerolinecolor\": \"white\"}, \"zaxis\": {\"backgroundcolor\": \"#E5ECF6\", \"gridcolor\": \"white\", \"gridwidth\": 2, \"linecolor\": \"white\", \"showbackground\": true, \"ticks\": \"\", \"zerolinecolor\": \"white\"}}, \"shapedefaults\": {\"line\": {\"color\": \"#2a3f5f\"}}, \"ternary\": {\"aaxis\": {\"gridcolor\": \"white\", \"linecolor\": \"white\", \"ticks\": \"\"}, \"baxis\": {\"gridcolor\": \"white\", \"linecolor\": \"white\", \"ticks\": \"\"}, \"bgcolor\": \"#E5ECF6\", \"caxis\": {\"gridcolor\": \"white\", \"linecolor\": \"white\", \"ticks\": \"\"}}, \"title\": {\"x\": 0.05}, \"xaxis\": {\"automargin\": true, \"gridcolor\": \"white\", \"linecolor\": \"white\", \"ticks\": \"\", \"title\": {\"standoff\": 15}, \"zerolinecolor\": \"white\", \"zerolinewidth\": 2}, \"yaxis\": {\"automargin\": true, \"gridcolor\": \"white\", \"linecolor\": \"white\", \"ticks\": \"\", \"title\": {\"standoff\": 15}, \"zerolinecolor\": \"white\", \"zerolinewidth\": 2}}}, \"title\": {\"font\": {\"color\": \"#4D5663\"}}, \"xaxis\": {\"gridcolor\": \"#E1E5ED\", \"showgrid\": true, \"tickfont\": {\"color\": \"#4D5663\"}, \"title\": {\"font\": {\"color\": \"#4D5663\"}, \"text\": \"\"}, \"zerolinecolor\": \"#E1E5ED\"}, \"yaxis\": {\"gridcolor\": \"#E1E5ED\", \"showgrid\": true, \"tickfont\": {\"color\": \"#4D5663\"}, \"title\": {\"font\": {\"color\": \"#4D5663\"}, \"text\": \"\"}, \"zerolinecolor\": \"#E1E5ED\"}},\n",
       "                        {\"showLink\": true, \"linkText\": \"Export to plot.ly\", \"plotlyServerURL\": \"https://plot.ly\", \"responsive\": true}\n",
       "                    ).then(function(){\n",
       "                            \n",
       "var gd = document.getElementById('2451da69-0229-4ec2-8b2d-1bf4f7a4b71c');\n",
       "var x = new MutationObserver(function (mutations, observer) {{\n",
       "        var display = window.getComputedStyle(gd).display;\n",
       "        if (!display || display === 'none') {{\n",
       "            console.log([gd, 'removed!']);\n",
       "            Plotly.purge(gd);\n",
       "            observer.disconnect();\n",
       "        }}\n",
       "}});\n",
       "\n",
       "// Listen for the removal of the full notebook cells\n",
       "var notebookContainer = gd.closest('#notebook-container');\n",
       "if (notebookContainer) {{\n",
       "    x.observe(notebookContainer, {childList: true});\n",
       "}}\n",
       "\n",
       "// Listen for the clearing of the current output cell\n",
       "var outputEl = gd.closest('.output');\n",
       "if (outputEl) {{\n",
       "    x.observe(outputEl, {childList: true});\n",
       "}}\n",
       "\n",
       "                        })\n",
       "                };\n",
       "                });\n",
       "            </script>\n",
       "        </div>"
      ]
     },
     "metadata": {},
     "output_type": "display_data"
    }
   ],
   "source": [
    "df.iplot() # now change to iplot instead of plot and watch the majik"
   ]
  },
  {
   "cell_type": "code",
   "execution_count": 22,
   "metadata": {},
   "outputs": [
    {
     "data": {
      "application/vnd.plotly.v1+json": {
       "config": {
        "linkText": "Export to plot.ly",
        "plotlyServerURL": "https://plot.ly",
        "showLink": true
       },
       "data": [
        {
         "line": {
          "color": "rgba(255, 153, 51, 1.0)",
          "dash": "solid",
          "shape": "linear",
          "width": 1.3
         },
         "mode": "lines",
         "name": "B",
         "text": "",
         "type": "scatter",
         "x": [
          -0.5009543608026148,
          -0.4204615151389094,
          -0.49553283935936165,
          0.7657304693445539,
          -0.07847397916945117,
          0.6700761884302777,
          1.6148887957746296,
          -0.14346731599489548,
          -0.2665864011088299,
          1.5203733905118066,
          -1.6225831980015681,
          -0.0010036338978958532,
          -0.20764556384936733,
          1.2211140213435423,
          0.7616648705923982,
          0.8511236141237207,
          -0.11514925363568562,
          -0.20936138521130568,
          -0.23694314875636666,
          -1.41396658714284,
          -0.7197209408930788,
          -0.21986205769332937,
          1.0281717480256272,
          -0.34491294269628503,
          1.8387982177216249,
          1.7454245898531036,
          0.40475695887285834,
          0.38445221563913434,
          0.09096690376723829,
          -0.5452474872683721,
          0.36883064898417145,
          0.471064900436615,
          0.08943939927300605,
          -0.04711988398954826,
          -0.377726634293231,
          0.7896939082042002,
          0.2834844224400587,
          -0.3712372134953554,
          -0.8239234838514105,
          -0.24380479792713633,
          0.8021227623642619,
          0.8595077643277932,
          -0.89133910900524,
          -0.08704741110358603,
          1.1154306476276132,
          -0.8232991534045231,
          0.03951476468379789,
          -0.5897579157424271,
          0.48638772034887495,
          -0.23689141912829995,
          -0.849875469508366,
          1.2033244290804135,
          -0.9707942664404414,
          0.5345692965058876,
          0.24185563713696623,
          -1.2480718435113924,
          -1.9764817321890251,
          0.17398462490394964,
          -0.2958648071038704,
          -0.9073789839128634,
          -0.320061959697221,
          -1.2894563780049575,
          0.8162202543091142,
          0.7279819747659728,
          0.5016314636811545,
          -1.6350473403411654,
          1.112226070703627,
          -1.3798198056686024,
          0.03712506450794439,
          0.8725646848428592,
          -0.062491031397570555,
          -1.283446523292469,
          0.8042769164891135,
          -1.2878267604909532,
          -2.4243449762842935,
          1.455471611236058,
          0.4262483065173007,
          -1.1011863485263866,
          0.36393070625865315,
          -0.3828540123202687,
          0.07374167084754127,
          -1.3446917941460133,
          -0.07602512088167016,
          2.131579084083562,
          0.8633118511617681,
          0.9567443066299663,
          -0.35082901706021047,
          0.5353353137007961,
          -0.06072553628984715,
          0.4216056690056466,
          1.8201523623294387,
          -1.4207116091443348,
          -0.24445402467878669,
          1.0790482734281726,
          -0.301775352771489,
          -0.463830499688751,
          -0.48449348616253807,
          -0.8952937264879816,
          -0.17464315190589047,
          -1.5690068772777155
         ],
         "y": [
          0.4647073083742839,
          -0.05638983549159592,
          0.8211639860066423,
          -0.5302111813539075,
          -0.026095626254060273,
          0.934819749012539,
          -0.06881896608775859,
          0.7431747218014507,
          -0.6634138417015264,
          -0.6407659494255311,
          -2.0830026972903197,
          1.8045522880146014,
          1.037149625547556,
          0.3248740795752661,
          0.16422555997258756,
          -0.04448673216754261,
          -1.1666989664863299,
          -0.34489031820823246,
          0.023191019187505314,
          -1.130997876996157,
          0.6537048033347655,
          -2.008977265519097,
          2.1187636059019828,
          -0.14720374779769907,
          -0.4119883895674882,
          -0.01889786289040426,
          -0.5408825560442116,
          0.6532664735645086,
          0.3019048417424934,
          1.6458305129952842,
          0.6030209295808521,
          -0.3623998992628467,
          -1.354212000595378,
          -1.172657051102667,
          -0.1769801146101835,
          2.2055905103394196,
          0.2760796035999615,
          -1.7813429624595076,
          0.7750526626200264,
          -0.5805198523009042,
          -1.0618189104978328,
          0.18946634999859532,
          0.381459586503324,
          -0.9242275271954474,
          -0.5628414484788141,
          -0.8638503681130342,
          -0.12409497161196388,
          1.0458509752935239,
          -0.695096587506082,
          1.2734349572542032,
          0.24242678837999837,
          -0.5467390258304995,
          -0.6363370209478098,
          2.013175801488738,
          0.7725826019693162,
          -0.3915999325975337,
          -0.21384985463778458,
          1.4732988178499873,
          -1.946677160191751,
          0.40084042312757945,
          1.3366011084629332,
          -0.3613636341442311,
          0.5298250484301542,
          1.4558635024058049,
          -0.6318727492567257,
          -0.8227985700773811,
          -0.5377019717823004,
          -1.7902939476280129,
          -0.26846879662803125,
          1.465181281886347,
          2.3219711044551956,
          0.9250989703211202,
          0.8916825245438201,
          -1.1517637591562595,
          -0.19150262412323274,
          1.4792770255841388,
          1.6861949140510182,
          0.4512015631832032,
          0.1485498153576192,
          0.7032594474993233,
          1.398402958112115,
          -0.0031789942556199823,
          -0.6032519124226736,
          0.9550811638193741,
          1.737666005127905,
          1.060053557429989,
          1.2895208947773007,
          -1.1953320328355028,
          1.782261738784618,
          1.9306290169917022,
          -0.7425207838161446,
          -0.9754342092359741,
          0.9982550336125903,
          0.04387350789025311,
          -0.6029540220032642,
          -0.3176203472281875,
          1.3016837317080092,
          1.319139155169162,
          0.60300051445889,
          -0.4734361308297189
         ]
        }
       ],
       "layout": {
        "legend": {
         "bgcolor": "#F5F6F9",
         "font": {
          "color": "#4D5663"
         }
        },
        "paper_bgcolor": "#F5F6F9",
        "plot_bgcolor": "#F5F6F9",
        "template": {
         "data": {
          "bar": [
           {
            "error_x": {
             "color": "#2a3f5f"
            },
            "error_y": {
             "color": "#2a3f5f"
            },
            "marker": {
             "line": {
              "color": "#E5ECF6",
              "width": 0.5
             }
            },
            "type": "bar"
           }
          ],
          "barpolar": [
           {
            "marker": {
             "line": {
              "color": "#E5ECF6",
              "width": 0.5
             }
            },
            "type": "barpolar"
           }
          ],
          "carpet": [
           {
            "aaxis": {
             "endlinecolor": "#2a3f5f",
             "gridcolor": "white",
             "linecolor": "white",
             "minorgridcolor": "white",
             "startlinecolor": "#2a3f5f"
            },
            "baxis": {
             "endlinecolor": "#2a3f5f",
             "gridcolor": "white",
             "linecolor": "white",
             "minorgridcolor": "white",
             "startlinecolor": "#2a3f5f"
            },
            "type": "carpet"
           }
          ],
          "choropleth": [
           {
            "colorbar": {
             "outlinewidth": 0,
             "ticks": ""
            },
            "type": "choropleth"
           }
          ],
          "contour": [
           {
            "colorbar": {
             "outlinewidth": 0,
             "ticks": ""
            },
            "colorscale": [
             [
              0,
              "#0d0887"
             ],
             [
              0.1111111111111111,
              "#46039f"
             ],
             [
              0.2222222222222222,
              "#7201a8"
             ],
             [
              0.3333333333333333,
              "#9c179e"
             ],
             [
              0.4444444444444444,
              "#bd3786"
             ],
             [
              0.5555555555555556,
              "#d8576b"
             ],
             [
              0.6666666666666666,
              "#ed7953"
             ],
             [
              0.7777777777777778,
              "#fb9f3a"
             ],
             [
              0.8888888888888888,
              "#fdca26"
             ],
             [
              1,
              "#f0f921"
             ]
            ],
            "type": "contour"
           }
          ],
          "contourcarpet": [
           {
            "colorbar": {
             "outlinewidth": 0,
             "ticks": ""
            },
            "type": "contourcarpet"
           }
          ],
          "heatmap": [
           {
            "colorbar": {
             "outlinewidth": 0,
             "ticks": ""
            },
            "colorscale": [
             [
              0,
              "#0d0887"
             ],
             [
              0.1111111111111111,
              "#46039f"
             ],
             [
              0.2222222222222222,
              "#7201a8"
             ],
             [
              0.3333333333333333,
              "#9c179e"
             ],
             [
              0.4444444444444444,
              "#bd3786"
             ],
             [
              0.5555555555555556,
              "#d8576b"
             ],
             [
              0.6666666666666666,
              "#ed7953"
             ],
             [
              0.7777777777777778,
              "#fb9f3a"
             ],
             [
              0.8888888888888888,
              "#fdca26"
             ],
             [
              1,
              "#f0f921"
             ]
            ],
            "type": "heatmap"
           }
          ],
          "heatmapgl": [
           {
            "colorbar": {
             "outlinewidth": 0,
             "ticks": ""
            },
            "colorscale": [
             [
              0,
              "#0d0887"
             ],
             [
              0.1111111111111111,
              "#46039f"
             ],
             [
              0.2222222222222222,
              "#7201a8"
             ],
             [
              0.3333333333333333,
              "#9c179e"
             ],
             [
              0.4444444444444444,
              "#bd3786"
             ],
             [
              0.5555555555555556,
              "#d8576b"
             ],
             [
              0.6666666666666666,
              "#ed7953"
             ],
             [
              0.7777777777777778,
              "#fb9f3a"
             ],
             [
              0.8888888888888888,
              "#fdca26"
             ],
             [
              1,
              "#f0f921"
             ]
            ],
            "type": "heatmapgl"
           }
          ],
          "histogram": [
           {
            "marker": {
             "colorbar": {
              "outlinewidth": 0,
              "ticks": ""
             }
            },
            "type": "histogram"
           }
          ],
          "histogram2d": [
           {
            "colorbar": {
             "outlinewidth": 0,
             "ticks": ""
            },
            "colorscale": [
             [
              0,
              "#0d0887"
             ],
             [
              0.1111111111111111,
              "#46039f"
             ],
             [
              0.2222222222222222,
              "#7201a8"
             ],
             [
              0.3333333333333333,
              "#9c179e"
             ],
             [
              0.4444444444444444,
              "#bd3786"
             ],
             [
              0.5555555555555556,
              "#d8576b"
             ],
             [
              0.6666666666666666,
              "#ed7953"
             ],
             [
              0.7777777777777778,
              "#fb9f3a"
             ],
             [
              0.8888888888888888,
              "#fdca26"
             ],
             [
              1,
              "#f0f921"
             ]
            ],
            "type": "histogram2d"
           }
          ],
          "histogram2dcontour": [
           {
            "colorbar": {
             "outlinewidth": 0,
             "ticks": ""
            },
            "colorscale": [
             [
              0,
              "#0d0887"
             ],
             [
              0.1111111111111111,
              "#46039f"
             ],
             [
              0.2222222222222222,
              "#7201a8"
             ],
             [
              0.3333333333333333,
              "#9c179e"
             ],
             [
              0.4444444444444444,
              "#bd3786"
             ],
             [
              0.5555555555555556,
              "#d8576b"
             ],
             [
              0.6666666666666666,
              "#ed7953"
             ],
             [
              0.7777777777777778,
              "#fb9f3a"
             ],
             [
              0.8888888888888888,
              "#fdca26"
             ],
             [
              1,
              "#f0f921"
             ]
            ],
            "type": "histogram2dcontour"
           }
          ],
          "mesh3d": [
           {
            "colorbar": {
             "outlinewidth": 0,
             "ticks": ""
            },
            "type": "mesh3d"
           }
          ],
          "parcoords": [
           {
            "line": {
             "colorbar": {
              "outlinewidth": 0,
              "ticks": ""
             }
            },
            "type": "parcoords"
           }
          ],
          "pie": [
           {
            "automargin": true,
            "type": "pie"
           }
          ],
          "scatter": [
           {
            "marker": {
             "colorbar": {
              "outlinewidth": 0,
              "ticks": ""
             }
            },
            "type": "scatter"
           }
          ],
          "scatter3d": [
           {
            "line": {
             "colorbar": {
              "outlinewidth": 0,
              "ticks": ""
             }
            },
            "marker": {
             "colorbar": {
              "outlinewidth": 0,
              "ticks": ""
             }
            },
            "type": "scatter3d"
           }
          ],
          "scattercarpet": [
           {
            "marker": {
             "colorbar": {
              "outlinewidth": 0,
              "ticks": ""
             }
            },
            "type": "scattercarpet"
           }
          ],
          "scattergeo": [
           {
            "marker": {
             "colorbar": {
              "outlinewidth": 0,
              "ticks": ""
             }
            },
            "type": "scattergeo"
           }
          ],
          "scattergl": [
           {
            "marker": {
             "colorbar": {
              "outlinewidth": 0,
              "ticks": ""
             }
            },
            "type": "scattergl"
           }
          ],
          "scattermapbox": [
           {
            "marker": {
             "colorbar": {
              "outlinewidth": 0,
              "ticks": ""
             }
            },
            "type": "scattermapbox"
           }
          ],
          "scatterpolar": [
           {
            "marker": {
             "colorbar": {
              "outlinewidth": 0,
              "ticks": ""
             }
            },
            "type": "scatterpolar"
           }
          ],
          "scatterpolargl": [
           {
            "marker": {
             "colorbar": {
              "outlinewidth": 0,
              "ticks": ""
             }
            },
            "type": "scatterpolargl"
           }
          ],
          "scatterternary": [
           {
            "marker": {
             "colorbar": {
              "outlinewidth": 0,
              "ticks": ""
             }
            },
            "type": "scatterternary"
           }
          ],
          "surface": [
           {
            "colorbar": {
             "outlinewidth": 0,
             "ticks": ""
            },
            "colorscale": [
             [
              0,
              "#0d0887"
             ],
             [
              0.1111111111111111,
              "#46039f"
             ],
             [
              0.2222222222222222,
              "#7201a8"
             ],
             [
              0.3333333333333333,
              "#9c179e"
             ],
             [
              0.4444444444444444,
              "#bd3786"
             ],
             [
              0.5555555555555556,
              "#d8576b"
             ],
             [
              0.6666666666666666,
              "#ed7953"
             ],
             [
              0.7777777777777778,
              "#fb9f3a"
             ],
             [
              0.8888888888888888,
              "#fdca26"
             ],
             [
              1,
              "#f0f921"
             ]
            ],
            "type": "surface"
           }
          ],
          "table": [
           {
            "cells": {
             "fill": {
              "color": "#EBF0F8"
             },
             "line": {
              "color": "white"
             }
            },
            "header": {
             "fill": {
              "color": "#C8D4E3"
             },
             "line": {
              "color": "white"
             }
            },
            "type": "table"
           }
          ]
         },
         "layout": {
          "annotationdefaults": {
           "arrowcolor": "#2a3f5f",
           "arrowhead": 0,
           "arrowwidth": 1
          },
          "coloraxis": {
           "colorbar": {
            "outlinewidth": 0,
            "ticks": ""
           }
          },
          "colorscale": {
           "diverging": [
            [
             0,
             "#8e0152"
            ],
            [
             0.1,
             "#c51b7d"
            ],
            [
             0.2,
             "#de77ae"
            ],
            [
             0.3,
             "#f1b6da"
            ],
            [
             0.4,
             "#fde0ef"
            ],
            [
             0.5,
             "#f7f7f7"
            ],
            [
             0.6,
             "#e6f5d0"
            ],
            [
             0.7,
             "#b8e186"
            ],
            [
             0.8,
             "#7fbc41"
            ],
            [
             0.9,
             "#4d9221"
            ],
            [
             1,
             "#276419"
            ]
           ],
           "sequential": [
            [
             0,
             "#0d0887"
            ],
            [
             0.1111111111111111,
             "#46039f"
            ],
            [
             0.2222222222222222,
             "#7201a8"
            ],
            [
             0.3333333333333333,
             "#9c179e"
            ],
            [
             0.4444444444444444,
             "#bd3786"
            ],
            [
             0.5555555555555556,
             "#d8576b"
            ],
            [
             0.6666666666666666,
             "#ed7953"
            ],
            [
             0.7777777777777778,
             "#fb9f3a"
            ],
            [
             0.8888888888888888,
             "#fdca26"
            ],
            [
             1,
             "#f0f921"
            ]
           ],
           "sequentialminus": [
            [
             0,
             "#0d0887"
            ],
            [
             0.1111111111111111,
             "#46039f"
            ],
            [
             0.2222222222222222,
             "#7201a8"
            ],
            [
             0.3333333333333333,
             "#9c179e"
            ],
            [
             0.4444444444444444,
             "#bd3786"
            ],
            [
             0.5555555555555556,
             "#d8576b"
            ],
            [
             0.6666666666666666,
             "#ed7953"
            ],
            [
             0.7777777777777778,
             "#fb9f3a"
            ],
            [
             0.8888888888888888,
             "#fdca26"
            ],
            [
             1,
             "#f0f921"
            ]
           ]
          },
          "colorway": [
           "#636efa",
           "#EF553B",
           "#00cc96",
           "#ab63fa",
           "#FFA15A",
           "#19d3f3",
           "#FF6692",
           "#B6E880",
           "#FF97FF",
           "#FECB52"
          ],
          "font": {
           "color": "#2a3f5f"
          },
          "geo": {
           "bgcolor": "white",
           "lakecolor": "white",
           "landcolor": "#E5ECF6",
           "showlakes": true,
           "showland": true,
           "subunitcolor": "white"
          },
          "hoverlabel": {
           "align": "left"
          },
          "hovermode": "closest",
          "mapbox": {
           "style": "light"
          },
          "paper_bgcolor": "white",
          "plot_bgcolor": "#E5ECF6",
          "polar": {
           "angularaxis": {
            "gridcolor": "white",
            "linecolor": "white",
            "ticks": ""
           },
           "bgcolor": "#E5ECF6",
           "radialaxis": {
            "gridcolor": "white",
            "linecolor": "white",
            "ticks": ""
           }
          },
          "scene": {
           "xaxis": {
            "backgroundcolor": "#E5ECF6",
            "gridcolor": "white",
            "gridwidth": 2,
            "linecolor": "white",
            "showbackground": true,
            "ticks": "",
            "zerolinecolor": "white"
           },
           "yaxis": {
            "backgroundcolor": "#E5ECF6",
            "gridcolor": "white",
            "gridwidth": 2,
            "linecolor": "white",
            "showbackground": true,
            "ticks": "",
            "zerolinecolor": "white"
           },
           "zaxis": {
            "backgroundcolor": "#E5ECF6",
            "gridcolor": "white",
            "gridwidth": 2,
            "linecolor": "white",
            "showbackground": true,
            "ticks": "",
            "zerolinecolor": "white"
           }
          },
          "shapedefaults": {
           "line": {
            "color": "#2a3f5f"
           }
          },
          "ternary": {
           "aaxis": {
            "gridcolor": "white",
            "linecolor": "white",
            "ticks": ""
           },
           "baxis": {
            "gridcolor": "white",
            "linecolor": "white",
            "ticks": ""
           },
           "bgcolor": "#E5ECF6",
           "caxis": {
            "gridcolor": "white",
            "linecolor": "white",
            "ticks": ""
           }
          },
          "title": {
           "x": 0.05
          },
          "xaxis": {
           "automargin": true,
           "gridcolor": "white",
           "linecolor": "white",
           "ticks": "",
           "title": {
            "standoff": 15
           },
           "zerolinecolor": "white",
           "zerolinewidth": 2
          },
          "yaxis": {
           "automargin": true,
           "gridcolor": "white",
           "linecolor": "white",
           "ticks": "",
           "title": {
            "standoff": 15
           },
           "zerolinecolor": "white",
           "zerolinewidth": 2
          }
         }
        },
        "title": {
         "font": {
          "color": "#4D5663"
         }
        },
        "xaxis": {
         "gridcolor": "#E1E5ED",
         "showgrid": true,
         "tickfont": {
          "color": "#4D5663"
         },
         "title": {
          "font": {
           "color": "#4D5663"
          },
          "text": ""
         },
         "zerolinecolor": "#E1E5ED"
        },
        "yaxis": {
         "gridcolor": "#E1E5ED",
         "showgrid": true,
         "tickfont": {
          "color": "#4D5663"
         },
         "title": {
          "font": {
           "color": "#4D5663"
          },
          "text": ""
         },
         "zerolinecolor": "#E1E5ED"
        }
       }
      },
      "text/html": [
       "<div>\n",
       "        \n",
       "        \n",
       "            <div id=\"89b5dc30-0453-4ebb-b3e4-a9cf51d0c5ce\" class=\"plotly-graph-div\" style=\"height:525px; width:100%;\"></div>\n",
       "            <script type=\"text/javascript\">\n",
       "                require([\"plotly\"], function(Plotly) {\n",
       "                    window.PLOTLYENV=window.PLOTLYENV || {};\n",
       "                    window.PLOTLYENV.BASE_URL='https://plot.ly';\n",
       "                    \n",
       "                if (document.getElementById(\"89b5dc30-0453-4ebb-b3e4-a9cf51d0c5ce\")) {\n",
       "                    Plotly.newPlot(\n",
       "                        '89b5dc30-0453-4ebb-b3e4-a9cf51d0c5ce',\n",
       "                        [{\"line\": {\"color\": \"rgba(255, 153, 51, 1.0)\", \"dash\": \"solid\", \"shape\": \"linear\", \"width\": 1.3}, \"mode\": \"lines\", \"name\": \"B\", \"text\": \"\", \"type\": \"scatter\", \"x\": [-0.5009543608026148, -0.4204615151389094, -0.49553283935936165, 0.7657304693445539, -0.07847397916945117, 0.6700761884302777, 1.6148887957746296, -0.14346731599489548, -0.2665864011088299, 1.5203733905118066, -1.6225831980015681, -0.0010036338978958532, -0.20764556384936733, 1.2211140213435423, 0.7616648705923982, 0.8511236141237207, -0.11514925363568562, -0.20936138521130568, -0.23694314875636666, -1.41396658714284, -0.7197209408930788, -0.21986205769332937, 1.0281717480256272, -0.34491294269628503, 1.8387982177216249, 1.7454245898531036, 0.40475695887285834, 0.38445221563913434, 0.09096690376723829, -0.5452474872683721, 0.36883064898417145, 0.471064900436615, 0.08943939927300605, -0.04711988398954826, -0.377726634293231, 0.7896939082042002, 0.2834844224400587, -0.3712372134953554, -0.8239234838514105, -0.24380479792713633, 0.8021227623642619, 0.8595077643277932, -0.89133910900524, -0.08704741110358603, 1.1154306476276132, -0.8232991534045231, 0.03951476468379789, -0.5897579157424271, 0.48638772034887495, -0.23689141912829995, -0.849875469508366, 1.2033244290804135, -0.9707942664404414, 0.5345692965058876, 0.24185563713696623, -1.2480718435113924, -1.9764817321890251, 0.17398462490394964, -0.2958648071038704, -0.9073789839128634, -0.320061959697221, -1.2894563780049575, 0.8162202543091142, 0.7279819747659728, 0.5016314636811545, -1.6350473403411654, 1.112226070703627, -1.3798198056686024, 0.03712506450794439, 0.8725646848428592, -0.062491031397570555, -1.283446523292469, 0.8042769164891135, -1.2878267604909532, -2.4243449762842935, 1.455471611236058, 0.4262483065173007, -1.1011863485263866, 0.36393070625865315, -0.3828540123202687, 0.07374167084754127, -1.3446917941460133, -0.07602512088167016, 2.131579084083562, 0.8633118511617681, 0.9567443066299663, -0.35082901706021047, 0.5353353137007961, -0.06072553628984715, 0.4216056690056466, 1.8201523623294387, -1.4207116091443348, -0.24445402467878669, 1.0790482734281726, -0.301775352771489, -0.463830499688751, -0.48449348616253807, -0.8952937264879816, -0.17464315190589047, -1.5690068772777155], \"y\": [0.4647073083742839, -0.05638983549159592, 0.8211639860066423, -0.5302111813539075, -0.026095626254060273, 0.934819749012539, -0.06881896608775859, 0.7431747218014507, -0.6634138417015264, -0.6407659494255311, -2.0830026972903197, 1.8045522880146014, 1.037149625547556, 0.3248740795752661, 0.16422555997258756, -0.04448673216754261, -1.1666989664863299, -0.34489031820823246, 0.023191019187505314, -1.130997876996157, 0.6537048033347655, -2.008977265519097, 2.1187636059019828, -0.14720374779769907, -0.4119883895674882, -0.01889786289040426, -0.5408825560442116, 0.6532664735645086, 0.3019048417424934, 1.6458305129952842, 0.6030209295808521, -0.3623998992628467, -1.354212000595378, -1.172657051102667, -0.1769801146101835, 2.2055905103394196, 0.2760796035999615, -1.7813429624595076, 0.7750526626200264, -0.5805198523009042, -1.0618189104978328, 0.18946634999859532, 0.381459586503324, -0.9242275271954474, -0.5628414484788141, -0.8638503681130342, -0.12409497161196388, 1.0458509752935239, -0.695096587506082, 1.2734349572542032, 0.24242678837999837, -0.5467390258304995, -0.6363370209478098, 2.013175801488738, 0.7725826019693162, -0.3915999325975337, -0.21384985463778458, 1.4732988178499873, -1.946677160191751, 0.40084042312757945, 1.3366011084629332, -0.3613636341442311, 0.5298250484301542, 1.4558635024058049, -0.6318727492567257, -0.8227985700773811, -0.5377019717823004, -1.7902939476280129, -0.26846879662803125, 1.465181281886347, 2.3219711044551956, 0.9250989703211202, 0.8916825245438201, -1.1517637591562595, -0.19150262412323274, 1.4792770255841388, 1.6861949140510182, 0.4512015631832032, 0.1485498153576192, 0.7032594474993233, 1.398402958112115, -0.0031789942556199823, -0.6032519124226736, 0.9550811638193741, 1.737666005127905, 1.060053557429989, 1.2895208947773007, -1.1953320328355028, 1.782261738784618, 1.9306290169917022, -0.7425207838161446, -0.9754342092359741, 0.9982550336125903, 0.04387350789025311, -0.6029540220032642, -0.3176203472281875, 1.3016837317080092, 1.319139155169162, 0.60300051445889, -0.4734361308297189]}],\n",
       "                        {\"legend\": {\"bgcolor\": \"#F5F6F9\", \"font\": {\"color\": \"#4D5663\"}}, \"paper_bgcolor\": \"#F5F6F9\", \"plot_bgcolor\": \"#F5F6F9\", \"template\": {\"data\": {\"bar\": [{\"error_x\": {\"color\": \"#2a3f5f\"}, \"error_y\": {\"color\": \"#2a3f5f\"}, \"marker\": {\"line\": {\"color\": \"#E5ECF6\", \"width\": 0.5}}, \"type\": \"bar\"}], \"barpolar\": [{\"marker\": {\"line\": {\"color\": \"#E5ECF6\", \"width\": 0.5}}, \"type\": \"barpolar\"}], \"carpet\": [{\"aaxis\": {\"endlinecolor\": \"#2a3f5f\", \"gridcolor\": \"white\", \"linecolor\": \"white\", \"minorgridcolor\": \"white\", \"startlinecolor\": \"#2a3f5f\"}, \"baxis\": {\"endlinecolor\": \"#2a3f5f\", \"gridcolor\": \"white\", \"linecolor\": \"white\", \"minorgridcolor\": \"white\", \"startlinecolor\": \"#2a3f5f\"}, \"type\": \"carpet\"}], \"choropleth\": [{\"colorbar\": {\"outlinewidth\": 0, \"ticks\": \"\"}, \"type\": \"choropleth\"}], \"contour\": [{\"colorbar\": {\"outlinewidth\": 0, \"ticks\": \"\"}, \"colorscale\": [[0.0, \"#0d0887\"], [0.1111111111111111, \"#46039f\"], [0.2222222222222222, \"#7201a8\"], [0.3333333333333333, \"#9c179e\"], [0.4444444444444444, \"#bd3786\"], [0.5555555555555556, \"#d8576b\"], [0.6666666666666666, \"#ed7953\"], [0.7777777777777778, \"#fb9f3a\"], [0.8888888888888888, \"#fdca26\"], [1.0, \"#f0f921\"]], \"type\": \"contour\"}], \"contourcarpet\": [{\"colorbar\": {\"outlinewidth\": 0, \"ticks\": \"\"}, \"type\": \"contourcarpet\"}], \"heatmap\": [{\"colorbar\": {\"outlinewidth\": 0, \"ticks\": \"\"}, \"colorscale\": [[0.0, \"#0d0887\"], [0.1111111111111111, \"#46039f\"], [0.2222222222222222, \"#7201a8\"], [0.3333333333333333, \"#9c179e\"], [0.4444444444444444, \"#bd3786\"], [0.5555555555555556, \"#d8576b\"], [0.6666666666666666, \"#ed7953\"], [0.7777777777777778, \"#fb9f3a\"], [0.8888888888888888, \"#fdca26\"], [1.0, \"#f0f921\"]], \"type\": \"heatmap\"}], \"heatmapgl\": [{\"colorbar\": {\"outlinewidth\": 0, \"ticks\": \"\"}, \"colorscale\": [[0.0, \"#0d0887\"], [0.1111111111111111, \"#46039f\"], [0.2222222222222222, \"#7201a8\"], [0.3333333333333333, \"#9c179e\"], [0.4444444444444444, \"#bd3786\"], [0.5555555555555556, \"#d8576b\"], [0.6666666666666666, \"#ed7953\"], [0.7777777777777778, \"#fb9f3a\"], [0.8888888888888888, \"#fdca26\"], [1.0, \"#f0f921\"]], \"type\": \"heatmapgl\"}], \"histogram\": [{\"marker\": {\"colorbar\": {\"outlinewidth\": 0, \"ticks\": \"\"}}, \"type\": \"histogram\"}], \"histogram2d\": [{\"colorbar\": {\"outlinewidth\": 0, \"ticks\": \"\"}, \"colorscale\": [[0.0, \"#0d0887\"], [0.1111111111111111, \"#46039f\"], [0.2222222222222222, \"#7201a8\"], [0.3333333333333333, \"#9c179e\"], [0.4444444444444444, \"#bd3786\"], [0.5555555555555556, \"#d8576b\"], [0.6666666666666666, \"#ed7953\"], [0.7777777777777778, \"#fb9f3a\"], [0.8888888888888888, \"#fdca26\"], [1.0, \"#f0f921\"]], \"type\": \"histogram2d\"}], \"histogram2dcontour\": [{\"colorbar\": {\"outlinewidth\": 0, \"ticks\": \"\"}, \"colorscale\": [[0.0, \"#0d0887\"], [0.1111111111111111, \"#46039f\"], [0.2222222222222222, \"#7201a8\"], [0.3333333333333333, \"#9c179e\"], [0.4444444444444444, \"#bd3786\"], [0.5555555555555556, \"#d8576b\"], [0.6666666666666666, \"#ed7953\"], [0.7777777777777778, \"#fb9f3a\"], [0.8888888888888888, \"#fdca26\"], [1.0, \"#f0f921\"]], \"type\": \"histogram2dcontour\"}], \"mesh3d\": [{\"colorbar\": {\"outlinewidth\": 0, \"ticks\": \"\"}, \"type\": \"mesh3d\"}], \"parcoords\": [{\"line\": {\"colorbar\": {\"outlinewidth\": 0, \"ticks\": \"\"}}, \"type\": \"parcoords\"}], \"pie\": [{\"automargin\": true, \"type\": \"pie\"}], \"scatter\": [{\"marker\": {\"colorbar\": {\"outlinewidth\": 0, \"ticks\": \"\"}}, \"type\": \"scatter\"}], \"scatter3d\": [{\"line\": {\"colorbar\": {\"outlinewidth\": 0, \"ticks\": \"\"}}, \"marker\": {\"colorbar\": {\"outlinewidth\": 0, \"ticks\": \"\"}}, \"type\": \"scatter3d\"}], \"scattercarpet\": [{\"marker\": {\"colorbar\": {\"outlinewidth\": 0, \"ticks\": \"\"}}, \"type\": \"scattercarpet\"}], \"scattergeo\": [{\"marker\": {\"colorbar\": {\"outlinewidth\": 0, \"ticks\": \"\"}}, \"type\": \"scattergeo\"}], \"scattergl\": [{\"marker\": {\"colorbar\": {\"outlinewidth\": 0, \"ticks\": \"\"}}, \"type\": \"scattergl\"}], \"scattermapbox\": [{\"marker\": {\"colorbar\": {\"outlinewidth\": 0, \"ticks\": \"\"}}, \"type\": \"scattermapbox\"}], \"scatterpolar\": [{\"marker\": {\"colorbar\": {\"outlinewidth\": 0, \"ticks\": \"\"}}, \"type\": \"scatterpolar\"}], \"scatterpolargl\": [{\"marker\": {\"colorbar\": {\"outlinewidth\": 0, \"ticks\": \"\"}}, \"type\": \"scatterpolargl\"}], \"scatterternary\": [{\"marker\": {\"colorbar\": {\"outlinewidth\": 0, \"ticks\": \"\"}}, \"type\": \"scatterternary\"}], \"surface\": [{\"colorbar\": {\"outlinewidth\": 0, \"ticks\": \"\"}, \"colorscale\": [[0.0, \"#0d0887\"], [0.1111111111111111, \"#46039f\"], [0.2222222222222222, \"#7201a8\"], [0.3333333333333333, \"#9c179e\"], [0.4444444444444444, \"#bd3786\"], [0.5555555555555556, \"#d8576b\"], [0.6666666666666666, \"#ed7953\"], [0.7777777777777778, \"#fb9f3a\"], [0.8888888888888888, \"#fdca26\"], [1.0, \"#f0f921\"]], \"type\": \"surface\"}], \"table\": [{\"cells\": {\"fill\": {\"color\": \"#EBF0F8\"}, \"line\": {\"color\": \"white\"}}, \"header\": {\"fill\": {\"color\": \"#C8D4E3\"}, \"line\": {\"color\": \"white\"}}, \"type\": \"table\"}]}, \"layout\": {\"annotationdefaults\": {\"arrowcolor\": \"#2a3f5f\", \"arrowhead\": 0, \"arrowwidth\": 1}, \"coloraxis\": {\"colorbar\": {\"outlinewidth\": 0, \"ticks\": \"\"}}, \"colorscale\": {\"diverging\": [[0, \"#8e0152\"], [0.1, \"#c51b7d\"], [0.2, \"#de77ae\"], [0.3, \"#f1b6da\"], [0.4, \"#fde0ef\"], [0.5, \"#f7f7f7\"], [0.6, \"#e6f5d0\"], [0.7, \"#b8e186\"], [0.8, \"#7fbc41\"], [0.9, \"#4d9221\"], [1, \"#276419\"]], \"sequential\": [[0.0, \"#0d0887\"], [0.1111111111111111, \"#46039f\"], [0.2222222222222222, \"#7201a8\"], [0.3333333333333333, \"#9c179e\"], [0.4444444444444444, \"#bd3786\"], [0.5555555555555556, \"#d8576b\"], [0.6666666666666666, \"#ed7953\"], [0.7777777777777778, \"#fb9f3a\"], [0.8888888888888888, \"#fdca26\"], [1.0, \"#f0f921\"]], \"sequentialminus\": [[0.0, \"#0d0887\"], [0.1111111111111111, \"#46039f\"], [0.2222222222222222, \"#7201a8\"], [0.3333333333333333, \"#9c179e\"], [0.4444444444444444, \"#bd3786\"], [0.5555555555555556, \"#d8576b\"], [0.6666666666666666, \"#ed7953\"], [0.7777777777777778, \"#fb9f3a\"], [0.8888888888888888, \"#fdca26\"], [1.0, \"#f0f921\"]]}, \"colorway\": [\"#636efa\", \"#EF553B\", \"#00cc96\", \"#ab63fa\", \"#FFA15A\", \"#19d3f3\", \"#FF6692\", \"#B6E880\", \"#FF97FF\", \"#FECB52\"], \"font\": {\"color\": \"#2a3f5f\"}, \"geo\": {\"bgcolor\": \"white\", \"lakecolor\": \"white\", \"landcolor\": \"#E5ECF6\", \"showlakes\": true, \"showland\": true, \"subunitcolor\": \"white\"}, \"hoverlabel\": {\"align\": \"left\"}, \"hovermode\": \"closest\", \"mapbox\": {\"style\": \"light\"}, \"paper_bgcolor\": \"white\", \"plot_bgcolor\": \"#E5ECF6\", \"polar\": {\"angularaxis\": {\"gridcolor\": \"white\", \"linecolor\": \"white\", \"ticks\": \"\"}, \"bgcolor\": \"#E5ECF6\", \"radialaxis\": {\"gridcolor\": \"white\", \"linecolor\": \"white\", \"ticks\": \"\"}}, \"scene\": {\"xaxis\": {\"backgroundcolor\": \"#E5ECF6\", \"gridcolor\": \"white\", \"gridwidth\": 2, \"linecolor\": \"white\", \"showbackground\": true, \"ticks\": \"\", \"zerolinecolor\": \"white\"}, \"yaxis\": {\"backgroundcolor\": \"#E5ECF6\", \"gridcolor\": \"white\", \"gridwidth\": 2, \"linecolor\": \"white\", \"showbackground\": true, \"ticks\": \"\", \"zerolinecolor\": \"white\"}, \"zaxis\": {\"backgroundcolor\": \"#E5ECF6\", \"gridcolor\": \"white\", \"gridwidth\": 2, \"linecolor\": \"white\", \"showbackground\": true, \"ticks\": \"\", \"zerolinecolor\": \"white\"}}, \"shapedefaults\": {\"line\": {\"color\": \"#2a3f5f\"}}, \"ternary\": {\"aaxis\": {\"gridcolor\": \"white\", \"linecolor\": \"white\", \"ticks\": \"\"}, \"baxis\": {\"gridcolor\": \"white\", \"linecolor\": \"white\", \"ticks\": \"\"}, \"bgcolor\": \"#E5ECF6\", \"caxis\": {\"gridcolor\": \"white\", \"linecolor\": \"white\", \"ticks\": \"\"}}, \"title\": {\"x\": 0.05}, \"xaxis\": {\"automargin\": true, \"gridcolor\": \"white\", \"linecolor\": \"white\", \"ticks\": \"\", \"title\": {\"standoff\": 15}, \"zerolinecolor\": \"white\", \"zerolinewidth\": 2}, \"yaxis\": {\"automargin\": true, \"gridcolor\": \"white\", \"linecolor\": \"white\", \"ticks\": \"\", \"title\": {\"standoff\": 15}, \"zerolinecolor\": \"white\", \"zerolinewidth\": 2}}}, \"title\": {\"font\": {\"color\": \"#4D5663\"}}, \"xaxis\": {\"gridcolor\": \"#E1E5ED\", \"showgrid\": true, \"tickfont\": {\"color\": \"#4D5663\"}, \"title\": {\"font\": {\"color\": \"#4D5663\"}, \"text\": \"\"}, \"zerolinecolor\": \"#E1E5ED\"}, \"yaxis\": {\"gridcolor\": \"#E1E5ED\", \"showgrid\": true, \"tickfont\": {\"color\": \"#4D5663\"}, \"title\": {\"font\": {\"color\": \"#4D5663\"}, \"text\": \"\"}, \"zerolinecolor\": \"#E1E5ED\"}},\n",
       "                        {\"showLink\": true, \"linkText\": \"Export to plot.ly\", \"plotlyServerURL\": \"https://plot.ly\", \"responsive\": true}\n",
       "                    ).then(function(){\n",
       "                            \n",
       "var gd = document.getElementById('89b5dc30-0453-4ebb-b3e4-a9cf51d0c5ce');\n",
       "var x = new MutationObserver(function (mutations, observer) {{\n",
       "        var display = window.getComputedStyle(gd).display;\n",
       "        if (!display || display === 'none') {{\n",
       "            console.log([gd, 'removed!']);\n",
       "            Plotly.purge(gd);\n",
       "            observer.disconnect();\n",
       "        }}\n",
       "}});\n",
       "\n",
       "// Listen for the removal of the full notebook cells\n",
       "var notebookContainer = gd.closest('#notebook-container');\n",
       "if (notebookContainer) {{\n",
       "    x.observe(notebookContainer, {childList: true});\n",
       "}}\n",
       "\n",
       "// Listen for the clearing of the current output cell\n",
       "var outputEl = gd.closest('.output');\n",
       "if (outputEl) {{\n",
       "    x.observe(outputEl, {childList: true});\n",
       "}}\n",
       "\n",
       "                        })\n",
       "                };\n",
       "                });\n",
       "            </script>\n",
       "        </div>"
      ]
     },
     "metadata": {},
     "output_type": "display_data"
    }
   ],
   "source": [
    "df.iplot(kind='scatter',x='A',y='B') "
   ]
  },
  {
   "cell_type": "code",
   "execution_count": 24,
   "metadata": {},
   "outputs": [
    {
     "data": {
      "application/vnd.plotly.v1+json": {
       "config": {
        "linkText": "Export to plot.ly",
        "plotlyServerURL": "https://plot.ly",
        "showLink": true
       },
       "data": [
        {
         "line": {
          "color": "rgba(255, 153, 51, 1.0)",
          "dash": "solid",
          "shape": "linear",
          "width": 1.3
         },
         "marker": {
          "size": 20,
          "symbol": "circle"
         },
         "mode": "markers",
         "name": "B",
         "text": "",
         "type": "scatter",
         "x": [
          -0.5009543608026148,
          -0.4204615151389094,
          -0.49553283935936165,
          0.7657304693445539,
          -0.07847397916945117,
          0.6700761884302777,
          1.6148887957746296,
          -0.14346731599489548,
          -0.2665864011088299,
          1.5203733905118066,
          -1.6225831980015681,
          -0.0010036338978958532,
          -0.20764556384936733,
          1.2211140213435423,
          0.7616648705923982,
          0.8511236141237207,
          -0.11514925363568562,
          -0.20936138521130568,
          -0.23694314875636666,
          -1.41396658714284,
          -0.7197209408930788,
          -0.21986205769332937,
          1.0281717480256272,
          -0.34491294269628503,
          1.8387982177216249,
          1.7454245898531036,
          0.40475695887285834,
          0.38445221563913434,
          0.09096690376723829,
          -0.5452474872683721,
          0.36883064898417145,
          0.471064900436615,
          0.08943939927300605,
          -0.04711988398954826,
          -0.377726634293231,
          0.7896939082042002,
          0.2834844224400587,
          -0.3712372134953554,
          -0.8239234838514105,
          -0.24380479792713633,
          0.8021227623642619,
          0.8595077643277932,
          -0.89133910900524,
          -0.08704741110358603,
          1.1154306476276132,
          -0.8232991534045231,
          0.03951476468379789,
          -0.5897579157424271,
          0.48638772034887495,
          -0.23689141912829995,
          -0.849875469508366,
          1.2033244290804135,
          -0.9707942664404414,
          0.5345692965058876,
          0.24185563713696623,
          -1.2480718435113924,
          -1.9764817321890251,
          0.17398462490394964,
          -0.2958648071038704,
          -0.9073789839128634,
          -0.320061959697221,
          -1.2894563780049575,
          0.8162202543091142,
          0.7279819747659728,
          0.5016314636811545,
          -1.6350473403411654,
          1.112226070703627,
          -1.3798198056686024,
          0.03712506450794439,
          0.8725646848428592,
          -0.062491031397570555,
          -1.283446523292469,
          0.8042769164891135,
          -1.2878267604909532,
          -2.4243449762842935,
          1.455471611236058,
          0.4262483065173007,
          -1.1011863485263866,
          0.36393070625865315,
          -0.3828540123202687,
          0.07374167084754127,
          -1.3446917941460133,
          -0.07602512088167016,
          2.131579084083562,
          0.8633118511617681,
          0.9567443066299663,
          -0.35082901706021047,
          0.5353353137007961,
          -0.06072553628984715,
          0.4216056690056466,
          1.8201523623294387,
          -1.4207116091443348,
          -0.24445402467878669,
          1.0790482734281726,
          -0.301775352771489,
          -0.463830499688751,
          -0.48449348616253807,
          -0.8952937264879816,
          -0.17464315190589047,
          -1.5690068772777155
         ],
         "y": [
          0.4647073083742839,
          -0.05638983549159592,
          0.8211639860066423,
          -0.5302111813539075,
          -0.026095626254060273,
          0.934819749012539,
          -0.06881896608775859,
          0.7431747218014507,
          -0.6634138417015264,
          -0.6407659494255311,
          -2.0830026972903197,
          1.8045522880146014,
          1.037149625547556,
          0.3248740795752661,
          0.16422555997258756,
          -0.04448673216754261,
          -1.1666989664863299,
          -0.34489031820823246,
          0.023191019187505314,
          -1.130997876996157,
          0.6537048033347655,
          -2.008977265519097,
          2.1187636059019828,
          -0.14720374779769907,
          -0.4119883895674882,
          -0.01889786289040426,
          -0.5408825560442116,
          0.6532664735645086,
          0.3019048417424934,
          1.6458305129952842,
          0.6030209295808521,
          -0.3623998992628467,
          -1.354212000595378,
          -1.172657051102667,
          -0.1769801146101835,
          2.2055905103394196,
          0.2760796035999615,
          -1.7813429624595076,
          0.7750526626200264,
          -0.5805198523009042,
          -1.0618189104978328,
          0.18946634999859532,
          0.381459586503324,
          -0.9242275271954474,
          -0.5628414484788141,
          -0.8638503681130342,
          -0.12409497161196388,
          1.0458509752935239,
          -0.695096587506082,
          1.2734349572542032,
          0.24242678837999837,
          -0.5467390258304995,
          -0.6363370209478098,
          2.013175801488738,
          0.7725826019693162,
          -0.3915999325975337,
          -0.21384985463778458,
          1.4732988178499873,
          -1.946677160191751,
          0.40084042312757945,
          1.3366011084629332,
          -0.3613636341442311,
          0.5298250484301542,
          1.4558635024058049,
          -0.6318727492567257,
          -0.8227985700773811,
          -0.5377019717823004,
          -1.7902939476280129,
          -0.26846879662803125,
          1.465181281886347,
          2.3219711044551956,
          0.9250989703211202,
          0.8916825245438201,
          -1.1517637591562595,
          -0.19150262412323274,
          1.4792770255841388,
          1.6861949140510182,
          0.4512015631832032,
          0.1485498153576192,
          0.7032594474993233,
          1.398402958112115,
          -0.0031789942556199823,
          -0.6032519124226736,
          0.9550811638193741,
          1.737666005127905,
          1.060053557429989,
          1.2895208947773007,
          -1.1953320328355028,
          1.782261738784618,
          1.9306290169917022,
          -0.7425207838161446,
          -0.9754342092359741,
          0.9982550336125903,
          0.04387350789025311,
          -0.6029540220032642,
          -0.3176203472281875,
          1.3016837317080092,
          1.319139155169162,
          0.60300051445889,
          -0.4734361308297189
         ]
        }
       ],
       "layout": {
        "legend": {
         "bgcolor": "#F5F6F9",
         "font": {
          "color": "#4D5663"
         }
        },
        "paper_bgcolor": "#F5F6F9",
        "plot_bgcolor": "#F5F6F9",
        "template": {
         "data": {
          "bar": [
           {
            "error_x": {
             "color": "#2a3f5f"
            },
            "error_y": {
             "color": "#2a3f5f"
            },
            "marker": {
             "line": {
              "color": "#E5ECF6",
              "width": 0.5
             }
            },
            "type": "bar"
           }
          ],
          "barpolar": [
           {
            "marker": {
             "line": {
              "color": "#E5ECF6",
              "width": 0.5
             }
            },
            "type": "barpolar"
           }
          ],
          "carpet": [
           {
            "aaxis": {
             "endlinecolor": "#2a3f5f",
             "gridcolor": "white",
             "linecolor": "white",
             "minorgridcolor": "white",
             "startlinecolor": "#2a3f5f"
            },
            "baxis": {
             "endlinecolor": "#2a3f5f",
             "gridcolor": "white",
             "linecolor": "white",
             "minorgridcolor": "white",
             "startlinecolor": "#2a3f5f"
            },
            "type": "carpet"
           }
          ],
          "choropleth": [
           {
            "colorbar": {
             "outlinewidth": 0,
             "ticks": ""
            },
            "type": "choropleth"
           }
          ],
          "contour": [
           {
            "colorbar": {
             "outlinewidth": 0,
             "ticks": ""
            },
            "colorscale": [
             [
              0,
              "#0d0887"
             ],
             [
              0.1111111111111111,
              "#46039f"
             ],
             [
              0.2222222222222222,
              "#7201a8"
             ],
             [
              0.3333333333333333,
              "#9c179e"
             ],
             [
              0.4444444444444444,
              "#bd3786"
             ],
             [
              0.5555555555555556,
              "#d8576b"
             ],
             [
              0.6666666666666666,
              "#ed7953"
             ],
             [
              0.7777777777777778,
              "#fb9f3a"
             ],
             [
              0.8888888888888888,
              "#fdca26"
             ],
             [
              1,
              "#f0f921"
             ]
            ],
            "type": "contour"
           }
          ],
          "contourcarpet": [
           {
            "colorbar": {
             "outlinewidth": 0,
             "ticks": ""
            },
            "type": "contourcarpet"
           }
          ],
          "heatmap": [
           {
            "colorbar": {
             "outlinewidth": 0,
             "ticks": ""
            },
            "colorscale": [
             [
              0,
              "#0d0887"
             ],
             [
              0.1111111111111111,
              "#46039f"
             ],
             [
              0.2222222222222222,
              "#7201a8"
             ],
             [
              0.3333333333333333,
              "#9c179e"
             ],
             [
              0.4444444444444444,
              "#bd3786"
             ],
             [
              0.5555555555555556,
              "#d8576b"
             ],
             [
              0.6666666666666666,
              "#ed7953"
             ],
             [
              0.7777777777777778,
              "#fb9f3a"
             ],
             [
              0.8888888888888888,
              "#fdca26"
             ],
             [
              1,
              "#f0f921"
             ]
            ],
            "type": "heatmap"
           }
          ],
          "heatmapgl": [
           {
            "colorbar": {
             "outlinewidth": 0,
             "ticks": ""
            },
            "colorscale": [
             [
              0,
              "#0d0887"
             ],
             [
              0.1111111111111111,
              "#46039f"
             ],
             [
              0.2222222222222222,
              "#7201a8"
             ],
             [
              0.3333333333333333,
              "#9c179e"
             ],
             [
              0.4444444444444444,
              "#bd3786"
             ],
             [
              0.5555555555555556,
              "#d8576b"
             ],
             [
              0.6666666666666666,
              "#ed7953"
             ],
             [
              0.7777777777777778,
              "#fb9f3a"
             ],
             [
              0.8888888888888888,
              "#fdca26"
             ],
             [
              1,
              "#f0f921"
             ]
            ],
            "type": "heatmapgl"
           }
          ],
          "histogram": [
           {
            "marker": {
             "colorbar": {
              "outlinewidth": 0,
              "ticks": ""
             }
            },
            "type": "histogram"
           }
          ],
          "histogram2d": [
           {
            "colorbar": {
             "outlinewidth": 0,
             "ticks": ""
            },
            "colorscale": [
             [
              0,
              "#0d0887"
             ],
             [
              0.1111111111111111,
              "#46039f"
             ],
             [
              0.2222222222222222,
              "#7201a8"
             ],
             [
              0.3333333333333333,
              "#9c179e"
             ],
             [
              0.4444444444444444,
              "#bd3786"
             ],
             [
              0.5555555555555556,
              "#d8576b"
             ],
             [
              0.6666666666666666,
              "#ed7953"
             ],
             [
              0.7777777777777778,
              "#fb9f3a"
             ],
             [
              0.8888888888888888,
              "#fdca26"
             ],
             [
              1,
              "#f0f921"
             ]
            ],
            "type": "histogram2d"
           }
          ],
          "histogram2dcontour": [
           {
            "colorbar": {
             "outlinewidth": 0,
             "ticks": ""
            },
            "colorscale": [
             [
              0,
              "#0d0887"
             ],
             [
              0.1111111111111111,
              "#46039f"
             ],
             [
              0.2222222222222222,
              "#7201a8"
             ],
             [
              0.3333333333333333,
              "#9c179e"
             ],
             [
              0.4444444444444444,
              "#bd3786"
             ],
             [
              0.5555555555555556,
              "#d8576b"
             ],
             [
              0.6666666666666666,
              "#ed7953"
             ],
             [
              0.7777777777777778,
              "#fb9f3a"
             ],
             [
              0.8888888888888888,
              "#fdca26"
             ],
             [
              1,
              "#f0f921"
             ]
            ],
            "type": "histogram2dcontour"
           }
          ],
          "mesh3d": [
           {
            "colorbar": {
             "outlinewidth": 0,
             "ticks": ""
            },
            "type": "mesh3d"
           }
          ],
          "parcoords": [
           {
            "line": {
             "colorbar": {
              "outlinewidth": 0,
              "ticks": ""
             }
            },
            "type": "parcoords"
           }
          ],
          "pie": [
           {
            "automargin": true,
            "type": "pie"
           }
          ],
          "scatter": [
           {
            "marker": {
             "colorbar": {
              "outlinewidth": 0,
              "ticks": ""
             }
            },
            "type": "scatter"
           }
          ],
          "scatter3d": [
           {
            "line": {
             "colorbar": {
              "outlinewidth": 0,
              "ticks": ""
             }
            },
            "marker": {
             "colorbar": {
              "outlinewidth": 0,
              "ticks": ""
             }
            },
            "type": "scatter3d"
           }
          ],
          "scattercarpet": [
           {
            "marker": {
             "colorbar": {
              "outlinewidth": 0,
              "ticks": ""
             }
            },
            "type": "scattercarpet"
           }
          ],
          "scattergeo": [
           {
            "marker": {
             "colorbar": {
              "outlinewidth": 0,
              "ticks": ""
             }
            },
            "type": "scattergeo"
           }
          ],
          "scattergl": [
           {
            "marker": {
             "colorbar": {
              "outlinewidth": 0,
              "ticks": ""
             }
            },
            "type": "scattergl"
           }
          ],
          "scattermapbox": [
           {
            "marker": {
             "colorbar": {
              "outlinewidth": 0,
              "ticks": ""
             }
            },
            "type": "scattermapbox"
           }
          ],
          "scatterpolar": [
           {
            "marker": {
             "colorbar": {
              "outlinewidth": 0,
              "ticks": ""
             }
            },
            "type": "scatterpolar"
           }
          ],
          "scatterpolargl": [
           {
            "marker": {
             "colorbar": {
              "outlinewidth": 0,
              "ticks": ""
             }
            },
            "type": "scatterpolargl"
           }
          ],
          "scatterternary": [
           {
            "marker": {
             "colorbar": {
              "outlinewidth": 0,
              "ticks": ""
             }
            },
            "type": "scatterternary"
           }
          ],
          "surface": [
           {
            "colorbar": {
             "outlinewidth": 0,
             "ticks": ""
            },
            "colorscale": [
             [
              0,
              "#0d0887"
             ],
             [
              0.1111111111111111,
              "#46039f"
             ],
             [
              0.2222222222222222,
              "#7201a8"
             ],
             [
              0.3333333333333333,
              "#9c179e"
             ],
             [
              0.4444444444444444,
              "#bd3786"
             ],
             [
              0.5555555555555556,
              "#d8576b"
             ],
             [
              0.6666666666666666,
              "#ed7953"
             ],
             [
              0.7777777777777778,
              "#fb9f3a"
             ],
             [
              0.8888888888888888,
              "#fdca26"
             ],
             [
              1,
              "#f0f921"
             ]
            ],
            "type": "surface"
           }
          ],
          "table": [
           {
            "cells": {
             "fill": {
              "color": "#EBF0F8"
             },
             "line": {
              "color": "white"
             }
            },
            "header": {
             "fill": {
              "color": "#C8D4E3"
             },
             "line": {
              "color": "white"
             }
            },
            "type": "table"
           }
          ]
         },
         "layout": {
          "annotationdefaults": {
           "arrowcolor": "#2a3f5f",
           "arrowhead": 0,
           "arrowwidth": 1
          },
          "coloraxis": {
           "colorbar": {
            "outlinewidth": 0,
            "ticks": ""
           }
          },
          "colorscale": {
           "diverging": [
            [
             0,
             "#8e0152"
            ],
            [
             0.1,
             "#c51b7d"
            ],
            [
             0.2,
             "#de77ae"
            ],
            [
             0.3,
             "#f1b6da"
            ],
            [
             0.4,
             "#fde0ef"
            ],
            [
             0.5,
             "#f7f7f7"
            ],
            [
             0.6,
             "#e6f5d0"
            ],
            [
             0.7,
             "#b8e186"
            ],
            [
             0.8,
             "#7fbc41"
            ],
            [
             0.9,
             "#4d9221"
            ],
            [
             1,
             "#276419"
            ]
           ],
           "sequential": [
            [
             0,
             "#0d0887"
            ],
            [
             0.1111111111111111,
             "#46039f"
            ],
            [
             0.2222222222222222,
             "#7201a8"
            ],
            [
             0.3333333333333333,
             "#9c179e"
            ],
            [
             0.4444444444444444,
             "#bd3786"
            ],
            [
             0.5555555555555556,
             "#d8576b"
            ],
            [
             0.6666666666666666,
             "#ed7953"
            ],
            [
             0.7777777777777778,
             "#fb9f3a"
            ],
            [
             0.8888888888888888,
             "#fdca26"
            ],
            [
             1,
             "#f0f921"
            ]
           ],
           "sequentialminus": [
            [
             0,
             "#0d0887"
            ],
            [
             0.1111111111111111,
             "#46039f"
            ],
            [
             0.2222222222222222,
             "#7201a8"
            ],
            [
             0.3333333333333333,
             "#9c179e"
            ],
            [
             0.4444444444444444,
             "#bd3786"
            ],
            [
             0.5555555555555556,
             "#d8576b"
            ],
            [
             0.6666666666666666,
             "#ed7953"
            ],
            [
             0.7777777777777778,
             "#fb9f3a"
            ],
            [
             0.8888888888888888,
             "#fdca26"
            ],
            [
             1,
             "#f0f921"
            ]
           ]
          },
          "colorway": [
           "#636efa",
           "#EF553B",
           "#00cc96",
           "#ab63fa",
           "#FFA15A",
           "#19d3f3",
           "#FF6692",
           "#B6E880",
           "#FF97FF",
           "#FECB52"
          ],
          "font": {
           "color": "#2a3f5f"
          },
          "geo": {
           "bgcolor": "white",
           "lakecolor": "white",
           "landcolor": "#E5ECF6",
           "showlakes": true,
           "showland": true,
           "subunitcolor": "white"
          },
          "hoverlabel": {
           "align": "left"
          },
          "hovermode": "closest",
          "mapbox": {
           "style": "light"
          },
          "paper_bgcolor": "white",
          "plot_bgcolor": "#E5ECF6",
          "polar": {
           "angularaxis": {
            "gridcolor": "white",
            "linecolor": "white",
            "ticks": ""
           },
           "bgcolor": "#E5ECF6",
           "radialaxis": {
            "gridcolor": "white",
            "linecolor": "white",
            "ticks": ""
           }
          },
          "scene": {
           "xaxis": {
            "backgroundcolor": "#E5ECF6",
            "gridcolor": "white",
            "gridwidth": 2,
            "linecolor": "white",
            "showbackground": true,
            "ticks": "",
            "zerolinecolor": "white"
           },
           "yaxis": {
            "backgroundcolor": "#E5ECF6",
            "gridcolor": "white",
            "gridwidth": 2,
            "linecolor": "white",
            "showbackground": true,
            "ticks": "",
            "zerolinecolor": "white"
           },
           "zaxis": {
            "backgroundcolor": "#E5ECF6",
            "gridcolor": "white",
            "gridwidth": 2,
            "linecolor": "white",
            "showbackground": true,
            "ticks": "",
            "zerolinecolor": "white"
           }
          },
          "shapedefaults": {
           "line": {
            "color": "#2a3f5f"
           }
          },
          "ternary": {
           "aaxis": {
            "gridcolor": "white",
            "linecolor": "white",
            "ticks": ""
           },
           "baxis": {
            "gridcolor": "white",
            "linecolor": "white",
            "ticks": ""
           },
           "bgcolor": "#E5ECF6",
           "caxis": {
            "gridcolor": "white",
            "linecolor": "white",
            "ticks": ""
           }
          },
          "title": {
           "x": 0.05
          },
          "xaxis": {
           "automargin": true,
           "gridcolor": "white",
           "linecolor": "white",
           "ticks": "",
           "title": {
            "standoff": 15
           },
           "zerolinecolor": "white",
           "zerolinewidth": 2
          },
          "yaxis": {
           "automargin": true,
           "gridcolor": "white",
           "linecolor": "white",
           "ticks": "",
           "title": {
            "standoff": 15
           },
           "zerolinecolor": "white",
           "zerolinewidth": 2
          }
         }
        },
        "title": {
         "font": {
          "color": "#4D5663"
         }
        },
        "xaxis": {
         "gridcolor": "#E1E5ED",
         "showgrid": true,
         "tickfont": {
          "color": "#4D5663"
         },
         "title": {
          "font": {
           "color": "#4D5663"
          },
          "text": ""
         },
         "zerolinecolor": "#E1E5ED"
        },
        "yaxis": {
         "gridcolor": "#E1E5ED",
         "showgrid": true,
         "tickfont": {
          "color": "#4D5663"
         },
         "title": {
          "font": {
           "color": "#4D5663"
          },
          "text": ""
         },
         "zerolinecolor": "#E1E5ED"
        }
       }
      },
      "text/html": [
       "<div>\n",
       "        \n",
       "        \n",
       "            <div id=\"8e3329c7-ff03-4154-ab0b-c4d07d83da6c\" class=\"plotly-graph-div\" style=\"height:525px; width:100%;\"></div>\n",
       "            <script type=\"text/javascript\">\n",
       "                require([\"plotly\"], function(Plotly) {\n",
       "                    window.PLOTLYENV=window.PLOTLYENV || {};\n",
       "                    window.PLOTLYENV.BASE_URL='https://plot.ly';\n",
       "                    \n",
       "                if (document.getElementById(\"8e3329c7-ff03-4154-ab0b-c4d07d83da6c\")) {\n",
       "                    Plotly.newPlot(\n",
       "                        '8e3329c7-ff03-4154-ab0b-c4d07d83da6c',\n",
       "                        [{\"line\": {\"color\": \"rgba(255, 153, 51, 1.0)\", \"dash\": \"solid\", \"shape\": \"linear\", \"width\": 1.3}, \"marker\": {\"size\": 20, \"symbol\": \"circle\"}, \"mode\": \"markers\", \"name\": \"B\", \"text\": \"\", \"type\": \"scatter\", \"x\": [-0.5009543608026148, -0.4204615151389094, -0.49553283935936165, 0.7657304693445539, -0.07847397916945117, 0.6700761884302777, 1.6148887957746296, -0.14346731599489548, -0.2665864011088299, 1.5203733905118066, -1.6225831980015681, -0.0010036338978958532, -0.20764556384936733, 1.2211140213435423, 0.7616648705923982, 0.8511236141237207, -0.11514925363568562, -0.20936138521130568, -0.23694314875636666, -1.41396658714284, -0.7197209408930788, -0.21986205769332937, 1.0281717480256272, -0.34491294269628503, 1.8387982177216249, 1.7454245898531036, 0.40475695887285834, 0.38445221563913434, 0.09096690376723829, -0.5452474872683721, 0.36883064898417145, 0.471064900436615, 0.08943939927300605, -0.04711988398954826, -0.377726634293231, 0.7896939082042002, 0.2834844224400587, -0.3712372134953554, -0.8239234838514105, -0.24380479792713633, 0.8021227623642619, 0.8595077643277932, -0.89133910900524, -0.08704741110358603, 1.1154306476276132, -0.8232991534045231, 0.03951476468379789, -0.5897579157424271, 0.48638772034887495, -0.23689141912829995, -0.849875469508366, 1.2033244290804135, -0.9707942664404414, 0.5345692965058876, 0.24185563713696623, -1.2480718435113924, -1.9764817321890251, 0.17398462490394964, -0.2958648071038704, -0.9073789839128634, -0.320061959697221, -1.2894563780049575, 0.8162202543091142, 0.7279819747659728, 0.5016314636811545, -1.6350473403411654, 1.112226070703627, -1.3798198056686024, 0.03712506450794439, 0.8725646848428592, -0.062491031397570555, -1.283446523292469, 0.8042769164891135, -1.2878267604909532, -2.4243449762842935, 1.455471611236058, 0.4262483065173007, -1.1011863485263866, 0.36393070625865315, -0.3828540123202687, 0.07374167084754127, -1.3446917941460133, -0.07602512088167016, 2.131579084083562, 0.8633118511617681, 0.9567443066299663, -0.35082901706021047, 0.5353353137007961, -0.06072553628984715, 0.4216056690056466, 1.8201523623294387, -1.4207116091443348, -0.24445402467878669, 1.0790482734281726, -0.301775352771489, -0.463830499688751, -0.48449348616253807, -0.8952937264879816, -0.17464315190589047, -1.5690068772777155], \"y\": [0.4647073083742839, -0.05638983549159592, 0.8211639860066423, -0.5302111813539075, -0.026095626254060273, 0.934819749012539, -0.06881896608775859, 0.7431747218014507, -0.6634138417015264, -0.6407659494255311, -2.0830026972903197, 1.8045522880146014, 1.037149625547556, 0.3248740795752661, 0.16422555997258756, -0.04448673216754261, -1.1666989664863299, -0.34489031820823246, 0.023191019187505314, -1.130997876996157, 0.6537048033347655, -2.008977265519097, 2.1187636059019828, -0.14720374779769907, -0.4119883895674882, -0.01889786289040426, -0.5408825560442116, 0.6532664735645086, 0.3019048417424934, 1.6458305129952842, 0.6030209295808521, -0.3623998992628467, -1.354212000595378, -1.172657051102667, -0.1769801146101835, 2.2055905103394196, 0.2760796035999615, -1.7813429624595076, 0.7750526626200264, -0.5805198523009042, -1.0618189104978328, 0.18946634999859532, 0.381459586503324, -0.9242275271954474, -0.5628414484788141, -0.8638503681130342, -0.12409497161196388, 1.0458509752935239, -0.695096587506082, 1.2734349572542032, 0.24242678837999837, -0.5467390258304995, -0.6363370209478098, 2.013175801488738, 0.7725826019693162, -0.3915999325975337, -0.21384985463778458, 1.4732988178499873, -1.946677160191751, 0.40084042312757945, 1.3366011084629332, -0.3613636341442311, 0.5298250484301542, 1.4558635024058049, -0.6318727492567257, -0.8227985700773811, -0.5377019717823004, -1.7902939476280129, -0.26846879662803125, 1.465181281886347, 2.3219711044551956, 0.9250989703211202, 0.8916825245438201, -1.1517637591562595, -0.19150262412323274, 1.4792770255841388, 1.6861949140510182, 0.4512015631832032, 0.1485498153576192, 0.7032594474993233, 1.398402958112115, -0.0031789942556199823, -0.6032519124226736, 0.9550811638193741, 1.737666005127905, 1.060053557429989, 1.2895208947773007, -1.1953320328355028, 1.782261738784618, 1.9306290169917022, -0.7425207838161446, -0.9754342092359741, 0.9982550336125903, 0.04387350789025311, -0.6029540220032642, -0.3176203472281875, 1.3016837317080092, 1.319139155169162, 0.60300051445889, -0.4734361308297189]}],\n",
       "                        {\"legend\": {\"bgcolor\": \"#F5F6F9\", \"font\": {\"color\": \"#4D5663\"}}, \"paper_bgcolor\": \"#F5F6F9\", \"plot_bgcolor\": \"#F5F6F9\", \"template\": {\"data\": {\"bar\": [{\"error_x\": {\"color\": \"#2a3f5f\"}, \"error_y\": {\"color\": \"#2a3f5f\"}, \"marker\": {\"line\": {\"color\": \"#E5ECF6\", \"width\": 0.5}}, \"type\": \"bar\"}], \"barpolar\": [{\"marker\": {\"line\": {\"color\": \"#E5ECF6\", \"width\": 0.5}}, \"type\": \"barpolar\"}], \"carpet\": [{\"aaxis\": {\"endlinecolor\": \"#2a3f5f\", \"gridcolor\": \"white\", \"linecolor\": \"white\", \"minorgridcolor\": \"white\", \"startlinecolor\": \"#2a3f5f\"}, \"baxis\": {\"endlinecolor\": \"#2a3f5f\", \"gridcolor\": \"white\", \"linecolor\": \"white\", \"minorgridcolor\": \"white\", \"startlinecolor\": \"#2a3f5f\"}, \"type\": \"carpet\"}], \"choropleth\": [{\"colorbar\": {\"outlinewidth\": 0, \"ticks\": \"\"}, \"type\": \"choropleth\"}], \"contour\": [{\"colorbar\": {\"outlinewidth\": 0, \"ticks\": \"\"}, \"colorscale\": [[0.0, \"#0d0887\"], [0.1111111111111111, \"#46039f\"], [0.2222222222222222, \"#7201a8\"], [0.3333333333333333, \"#9c179e\"], [0.4444444444444444, \"#bd3786\"], [0.5555555555555556, \"#d8576b\"], [0.6666666666666666, \"#ed7953\"], [0.7777777777777778, \"#fb9f3a\"], [0.8888888888888888, \"#fdca26\"], [1.0, \"#f0f921\"]], \"type\": \"contour\"}], \"contourcarpet\": [{\"colorbar\": {\"outlinewidth\": 0, \"ticks\": \"\"}, \"type\": \"contourcarpet\"}], \"heatmap\": [{\"colorbar\": {\"outlinewidth\": 0, \"ticks\": \"\"}, \"colorscale\": [[0.0, \"#0d0887\"], [0.1111111111111111, \"#46039f\"], [0.2222222222222222, \"#7201a8\"], [0.3333333333333333, \"#9c179e\"], [0.4444444444444444, \"#bd3786\"], [0.5555555555555556, \"#d8576b\"], [0.6666666666666666, \"#ed7953\"], [0.7777777777777778, \"#fb9f3a\"], [0.8888888888888888, \"#fdca26\"], [1.0, \"#f0f921\"]], \"type\": \"heatmap\"}], \"heatmapgl\": [{\"colorbar\": {\"outlinewidth\": 0, \"ticks\": \"\"}, \"colorscale\": [[0.0, \"#0d0887\"], [0.1111111111111111, \"#46039f\"], [0.2222222222222222, \"#7201a8\"], [0.3333333333333333, \"#9c179e\"], [0.4444444444444444, \"#bd3786\"], [0.5555555555555556, \"#d8576b\"], [0.6666666666666666, \"#ed7953\"], [0.7777777777777778, \"#fb9f3a\"], [0.8888888888888888, \"#fdca26\"], [1.0, \"#f0f921\"]], \"type\": \"heatmapgl\"}], \"histogram\": [{\"marker\": {\"colorbar\": {\"outlinewidth\": 0, \"ticks\": \"\"}}, \"type\": \"histogram\"}], \"histogram2d\": [{\"colorbar\": {\"outlinewidth\": 0, \"ticks\": \"\"}, \"colorscale\": [[0.0, \"#0d0887\"], [0.1111111111111111, \"#46039f\"], [0.2222222222222222, \"#7201a8\"], [0.3333333333333333, \"#9c179e\"], [0.4444444444444444, \"#bd3786\"], [0.5555555555555556, \"#d8576b\"], [0.6666666666666666, \"#ed7953\"], [0.7777777777777778, \"#fb9f3a\"], [0.8888888888888888, \"#fdca26\"], [1.0, \"#f0f921\"]], \"type\": \"histogram2d\"}], \"histogram2dcontour\": [{\"colorbar\": {\"outlinewidth\": 0, \"ticks\": \"\"}, \"colorscale\": [[0.0, \"#0d0887\"], [0.1111111111111111, \"#46039f\"], [0.2222222222222222, \"#7201a8\"], [0.3333333333333333, \"#9c179e\"], [0.4444444444444444, \"#bd3786\"], [0.5555555555555556, \"#d8576b\"], [0.6666666666666666, \"#ed7953\"], [0.7777777777777778, \"#fb9f3a\"], [0.8888888888888888, \"#fdca26\"], [1.0, \"#f0f921\"]], \"type\": \"histogram2dcontour\"}], \"mesh3d\": [{\"colorbar\": {\"outlinewidth\": 0, \"ticks\": \"\"}, \"type\": \"mesh3d\"}], \"parcoords\": [{\"line\": {\"colorbar\": {\"outlinewidth\": 0, \"ticks\": \"\"}}, \"type\": \"parcoords\"}], \"pie\": [{\"automargin\": true, \"type\": \"pie\"}], \"scatter\": [{\"marker\": {\"colorbar\": {\"outlinewidth\": 0, \"ticks\": \"\"}}, \"type\": \"scatter\"}], \"scatter3d\": [{\"line\": {\"colorbar\": {\"outlinewidth\": 0, \"ticks\": \"\"}}, \"marker\": {\"colorbar\": {\"outlinewidth\": 0, \"ticks\": \"\"}}, \"type\": \"scatter3d\"}], \"scattercarpet\": [{\"marker\": {\"colorbar\": {\"outlinewidth\": 0, \"ticks\": \"\"}}, \"type\": \"scattercarpet\"}], \"scattergeo\": [{\"marker\": {\"colorbar\": {\"outlinewidth\": 0, \"ticks\": \"\"}}, \"type\": \"scattergeo\"}], \"scattergl\": [{\"marker\": {\"colorbar\": {\"outlinewidth\": 0, \"ticks\": \"\"}}, \"type\": \"scattergl\"}], \"scattermapbox\": [{\"marker\": {\"colorbar\": {\"outlinewidth\": 0, \"ticks\": \"\"}}, \"type\": \"scattermapbox\"}], \"scatterpolar\": [{\"marker\": {\"colorbar\": {\"outlinewidth\": 0, \"ticks\": \"\"}}, \"type\": \"scatterpolar\"}], \"scatterpolargl\": [{\"marker\": {\"colorbar\": {\"outlinewidth\": 0, \"ticks\": \"\"}}, \"type\": \"scatterpolargl\"}], \"scatterternary\": [{\"marker\": {\"colorbar\": {\"outlinewidth\": 0, \"ticks\": \"\"}}, \"type\": \"scatterternary\"}], \"surface\": [{\"colorbar\": {\"outlinewidth\": 0, \"ticks\": \"\"}, \"colorscale\": [[0.0, \"#0d0887\"], [0.1111111111111111, \"#46039f\"], [0.2222222222222222, \"#7201a8\"], [0.3333333333333333, \"#9c179e\"], [0.4444444444444444, \"#bd3786\"], [0.5555555555555556, \"#d8576b\"], [0.6666666666666666, \"#ed7953\"], [0.7777777777777778, \"#fb9f3a\"], [0.8888888888888888, \"#fdca26\"], [1.0, \"#f0f921\"]], \"type\": \"surface\"}], \"table\": [{\"cells\": {\"fill\": {\"color\": \"#EBF0F8\"}, \"line\": {\"color\": \"white\"}}, \"header\": {\"fill\": {\"color\": \"#C8D4E3\"}, \"line\": {\"color\": \"white\"}}, \"type\": \"table\"}]}, \"layout\": {\"annotationdefaults\": {\"arrowcolor\": \"#2a3f5f\", \"arrowhead\": 0, \"arrowwidth\": 1}, \"coloraxis\": {\"colorbar\": {\"outlinewidth\": 0, \"ticks\": \"\"}}, \"colorscale\": {\"diverging\": [[0, \"#8e0152\"], [0.1, \"#c51b7d\"], [0.2, \"#de77ae\"], [0.3, \"#f1b6da\"], [0.4, \"#fde0ef\"], [0.5, \"#f7f7f7\"], [0.6, \"#e6f5d0\"], [0.7, \"#b8e186\"], [0.8, \"#7fbc41\"], [0.9, \"#4d9221\"], [1, \"#276419\"]], \"sequential\": [[0.0, \"#0d0887\"], [0.1111111111111111, \"#46039f\"], [0.2222222222222222, \"#7201a8\"], [0.3333333333333333, \"#9c179e\"], [0.4444444444444444, \"#bd3786\"], [0.5555555555555556, \"#d8576b\"], [0.6666666666666666, \"#ed7953\"], [0.7777777777777778, \"#fb9f3a\"], [0.8888888888888888, \"#fdca26\"], [1.0, \"#f0f921\"]], \"sequentialminus\": [[0.0, \"#0d0887\"], [0.1111111111111111, \"#46039f\"], [0.2222222222222222, \"#7201a8\"], [0.3333333333333333, \"#9c179e\"], [0.4444444444444444, \"#bd3786\"], [0.5555555555555556, \"#d8576b\"], [0.6666666666666666, \"#ed7953\"], [0.7777777777777778, \"#fb9f3a\"], [0.8888888888888888, \"#fdca26\"], [1.0, \"#f0f921\"]]}, \"colorway\": [\"#636efa\", \"#EF553B\", \"#00cc96\", \"#ab63fa\", \"#FFA15A\", \"#19d3f3\", \"#FF6692\", \"#B6E880\", \"#FF97FF\", \"#FECB52\"], \"font\": {\"color\": \"#2a3f5f\"}, \"geo\": {\"bgcolor\": \"white\", \"lakecolor\": \"white\", \"landcolor\": \"#E5ECF6\", \"showlakes\": true, \"showland\": true, \"subunitcolor\": \"white\"}, \"hoverlabel\": {\"align\": \"left\"}, \"hovermode\": \"closest\", \"mapbox\": {\"style\": \"light\"}, \"paper_bgcolor\": \"white\", \"plot_bgcolor\": \"#E5ECF6\", \"polar\": {\"angularaxis\": {\"gridcolor\": \"white\", \"linecolor\": \"white\", \"ticks\": \"\"}, \"bgcolor\": \"#E5ECF6\", \"radialaxis\": {\"gridcolor\": \"white\", \"linecolor\": \"white\", \"ticks\": \"\"}}, \"scene\": {\"xaxis\": {\"backgroundcolor\": \"#E5ECF6\", \"gridcolor\": \"white\", \"gridwidth\": 2, \"linecolor\": \"white\", \"showbackground\": true, \"ticks\": \"\", \"zerolinecolor\": \"white\"}, \"yaxis\": {\"backgroundcolor\": \"#E5ECF6\", \"gridcolor\": \"white\", \"gridwidth\": 2, \"linecolor\": \"white\", \"showbackground\": true, \"ticks\": \"\", \"zerolinecolor\": \"white\"}, \"zaxis\": {\"backgroundcolor\": \"#E5ECF6\", \"gridcolor\": \"white\", \"gridwidth\": 2, \"linecolor\": \"white\", \"showbackground\": true, \"ticks\": \"\", \"zerolinecolor\": \"white\"}}, \"shapedefaults\": {\"line\": {\"color\": \"#2a3f5f\"}}, \"ternary\": {\"aaxis\": {\"gridcolor\": \"white\", \"linecolor\": \"white\", \"ticks\": \"\"}, \"baxis\": {\"gridcolor\": \"white\", \"linecolor\": \"white\", \"ticks\": \"\"}, \"bgcolor\": \"#E5ECF6\", \"caxis\": {\"gridcolor\": \"white\", \"linecolor\": \"white\", \"ticks\": \"\"}}, \"title\": {\"x\": 0.05}, \"xaxis\": {\"automargin\": true, \"gridcolor\": \"white\", \"linecolor\": \"white\", \"ticks\": \"\", \"title\": {\"standoff\": 15}, \"zerolinecolor\": \"white\", \"zerolinewidth\": 2}, \"yaxis\": {\"automargin\": true, \"gridcolor\": \"white\", \"linecolor\": \"white\", \"ticks\": \"\", \"title\": {\"standoff\": 15}, \"zerolinecolor\": \"white\", \"zerolinewidth\": 2}}}, \"title\": {\"font\": {\"color\": \"#4D5663\"}}, \"xaxis\": {\"gridcolor\": \"#E1E5ED\", \"showgrid\": true, \"tickfont\": {\"color\": \"#4D5663\"}, \"title\": {\"font\": {\"color\": \"#4D5663\"}, \"text\": \"\"}, \"zerolinecolor\": \"#E1E5ED\"}, \"yaxis\": {\"gridcolor\": \"#E1E5ED\", \"showgrid\": true, \"tickfont\": {\"color\": \"#4D5663\"}, \"title\": {\"font\": {\"color\": \"#4D5663\"}, \"text\": \"\"}, \"zerolinecolor\": \"#E1E5ED\"}},\n",
       "                        {\"showLink\": true, \"linkText\": \"Export to plot.ly\", \"plotlyServerURL\": \"https://plot.ly\", \"responsive\": true}\n",
       "                    ).then(function(){\n",
       "                            \n",
       "var gd = document.getElementById('8e3329c7-ff03-4154-ab0b-c4d07d83da6c');\n",
       "var x = new MutationObserver(function (mutations, observer) {{\n",
       "        var display = window.getComputedStyle(gd).display;\n",
       "        if (!display || display === 'none') {{\n",
       "            console.log([gd, 'removed!']);\n",
       "            Plotly.purge(gd);\n",
       "            observer.disconnect();\n",
       "        }}\n",
       "}});\n",
       "\n",
       "// Listen for the removal of the full notebook cells\n",
       "var notebookContainer = gd.closest('#notebook-container');\n",
       "if (notebookContainer) {{\n",
       "    x.observe(notebookContainer, {childList: true});\n",
       "}}\n",
       "\n",
       "// Listen for the clearing of the current output cell\n",
       "var outputEl = gd.closest('.output');\n",
       "if (outputEl) {{\n",
       "    x.observe(outputEl, {childList: true});\n",
       "}}\n",
       "\n",
       "                        })\n",
       "                };\n",
       "                });\n",
       "            </script>\n",
       "        </div>"
      ]
     },
     "metadata": {},
     "output_type": "display_data"
    }
   ],
   "source": [
    "df.iplot(kind='scatter',x='A',y='B',mode='markers',size=20)"
   ]
  },
  {
   "cell_type": "code",
   "execution_count": 27,
   "metadata": {},
   "outputs": [],
   "source": [
    "# iplot of plotly and cufflinks for barplot"
   ]
  },
  {
   "cell_type": "code",
   "execution_count": 28,
   "metadata": {},
   "outputs": [
    {
     "data": {
      "text/html": [
       "<div>\n",
       "<style scoped>\n",
       "    .dataframe tbody tr th:only-of-type {\n",
       "        vertical-align: middle;\n",
       "    }\n",
       "\n",
       "    .dataframe tbody tr th {\n",
       "        vertical-align: top;\n",
       "    }\n",
       "\n",
       "    .dataframe thead th {\n",
       "        text-align: right;\n",
       "    }\n",
       "</style>\n",
       "<table border=\"1\" class=\"dataframe\">\n",
       "  <thead>\n",
       "    <tr style=\"text-align: right;\">\n",
       "      <th></th>\n",
       "      <th>Category</th>\n",
       "      <th>Values</th>\n",
       "    </tr>\n",
       "  </thead>\n",
       "  <tbody>\n",
       "    <tr>\n",
       "      <th>0</th>\n",
       "      <td>A</td>\n",
       "      <td>32</td>\n",
       "    </tr>\n",
       "    <tr>\n",
       "      <th>1</th>\n",
       "      <td>B</td>\n",
       "      <td>43</td>\n",
       "    </tr>\n",
       "    <tr>\n",
       "      <th>2</th>\n",
       "      <td>C</td>\n",
       "      <td>50</td>\n",
       "    </tr>\n",
       "  </tbody>\n",
       "</table>\n",
       "</div>"
      ],
      "text/plain": [
       "  Category  Values\n",
       "0        A      32\n",
       "1        B      43\n",
       "2        C      50"
      ]
     },
     "execution_count": 28,
     "metadata": {},
     "output_type": "execute_result"
    }
   ],
   "source": [
    "df2"
   ]
  },
  {
   "cell_type": "code",
   "execution_count": 30,
   "metadata": {},
   "outputs": [
    {
     "data": {
      "application/vnd.plotly.v1+json": {
       "config": {
        "linkText": "Export to plot.ly",
        "plotlyServerURL": "https://plot.ly",
        "showLink": true
       },
       "data": [
        {
         "marker": {
          "color": "rgba(255, 153, 51, 0.6)",
          "line": {
           "color": "rgba(255, 153, 51, 1.0)",
           "width": 1
          }
         },
         "name": "Values",
         "orientation": "v",
         "text": "",
         "type": "bar",
         "x": [
          "A",
          "B",
          "C"
         ],
         "y": [
          32,
          43,
          50
         ]
        }
       ],
       "layout": {
        "legend": {
         "bgcolor": "#F5F6F9",
         "font": {
          "color": "#4D5663"
         }
        },
        "paper_bgcolor": "#F5F6F9",
        "plot_bgcolor": "#F5F6F9",
        "template": {
         "data": {
          "bar": [
           {
            "error_x": {
             "color": "#2a3f5f"
            },
            "error_y": {
             "color": "#2a3f5f"
            },
            "marker": {
             "line": {
              "color": "#E5ECF6",
              "width": 0.5
             }
            },
            "type": "bar"
           }
          ],
          "barpolar": [
           {
            "marker": {
             "line": {
              "color": "#E5ECF6",
              "width": 0.5
             }
            },
            "type": "barpolar"
           }
          ],
          "carpet": [
           {
            "aaxis": {
             "endlinecolor": "#2a3f5f",
             "gridcolor": "white",
             "linecolor": "white",
             "minorgridcolor": "white",
             "startlinecolor": "#2a3f5f"
            },
            "baxis": {
             "endlinecolor": "#2a3f5f",
             "gridcolor": "white",
             "linecolor": "white",
             "minorgridcolor": "white",
             "startlinecolor": "#2a3f5f"
            },
            "type": "carpet"
           }
          ],
          "choropleth": [
           {
            "colorbar": {
             "outlinewidth": 0,
             "ticks": ""
            },
            "type": "choropleth"
           }
          ],
          "contour": [
           {
            "colorbar": {
             "outlinewidth": 0,
             "ticks": ""
            },
            "colorscale": [
             [
              0,
              "#0d0887"
             ],
             [
              0.1111111111111111,
              "#46039f"
             ],
             [
              0.2222222222222222,
              "#7201a8"
             ],
             [
              0.3333333333333333,
              "#9c179e"
             ],
             [
              0.4444444444444444,
              "#bd3786"
             ],
             [
              0.5555555555555556,
              "#d8576b"
             ],
             [
              0.6666666666666666,
              "#ed7953"
             ],
             [
              0.7777777777777778,
              "#fb9f3a"
             ],
             [
              0.8888888888888888,
              "#fdca26"
             ],
             [
              1,
              "#f0f921"
             ]
            ],
            "type": "contour"
           }
          ],
          "contourcarpet": [
           {
            "colorbar": {
             "outlinewidth": 0,
             "ticks": ""
            },
            "type": "contourcarpet"
           }
          ],
          "heatmap": [
           {
            "colorbar": {
             "outlinewidth": 0,
             "ticks": ""
            },
            "colorscale": [
             [
              0,
              "#0d0887"
             ],
             [
              0.1111111111111111,
              "#46039f"
             ],
             [
              0.2222222222222222,
              "#7201a8"
             ],
             [
              0.3333333333333333,
              "#9c179e"
             ],
             [
              0.4444444444444444,
              "#bd3786"
             ],
             [
              0.5555555555555556,
              "#d8576b"
             ],
             [
              0.6666666666666666,
              "#ed7953"
             ],
             [
              0.7777777777777778,
              "#fb9f3a"
             ],
             [
              0.8888888888888888,
              "#fdca26"
             ],
             [
              1,
              "#f0f921"
             ]
            ],
            "type": "heatmap"
           }
          ],
          "heatmapgl": [
           {
            "colorbar": {
             "outlinewidth": 0,
             "ticks": ""
            },
            "colorscale": [
             [
              0,
              "#0d0887"
             ],
             [
              0.1111111111111111,
              "#46039f"
             ],
             [
              0.2222222222222222,
              "#7201a8"
             ],
             [
              0.3333333333333333,
              "#9c179e"
             ],
             [
              0.4444444444444444,
              "#bd3786"
             ],
             [
              0.5555555555555556,
              "#d8576b"
             ],
             [
              0.6666666666666666,
              "#ed7953"
             ],
             [
              0.7777777777777778,
              "#fb9f3a"
             ],
             [
              0.8888888888888888,
              "#fdca26"
             ],
             [
              1,
              "#f0f921"
             ]
            ],
            "type": "heatmapgl"
           }
          ],
          "histogram": [
           {
            "marker": {
             "colorbar": {
              "outlinewidth": 0,
              "ticks": ""
             }
            },
            "type": "histogram"
           }
          ],
          "histogram2d": [
           {
            "colorbar": {
             "outlinewidth": 0,
             "ticks": ""
            },
            "colorscale": [
             [
              0,
              "#0d0887"
             ],
             [
              0.1111111111111111,
              "#46039f"
             ],
             [
              0.2222222222222222,
              "#7201a8"
             ],
             [
              0.3333333333333333,
              "#9c179e"
             ],
             [
              0.4444444444444444,
              "#bd3786"
             ],
             [
              0.5555555555555556,
              "#d8576b"
             ],
             [
              0.6666666666666666,
              "#ed7953"
             ],
             [
              0.7777777777777778,
              "#fb9f3a"
             ],
             [
              0.8888888888888888,
              "#fdca26"
             ],
             [
              1,
              "#f0f921"
             ]
            ],
            "type": "histogram2d"
           }
          ],
          "histogram2dcontour": [
           {
            "colorbar": {
             "outlinewidth": 0,
             "ticks": ""
            },
            "colorscale": [
             [
              0,
              "#0d0887"
             ],
             [
              0.1111111111111111,
              "#46039f"
             ],
             [
              0.2222222222222222,
              "#7201a8"
             ],
             [
              0.3333333333333333,
              "#9c179e"
             ],
             [
              0.4444444444444444,
              "#bd3786"
             ],
             [
              0.5555555555555556,
              "#d8576b"
             ],
             [
              0.6666666666666666,
              "#ed7953"
             ],
             [
              0.7777777777777778,
              "#fb9f3a"
             ],
             [
              0.8888888888888888,
              "#fdca26"
             ],
             [
              1,
              "#f0f921"
             ]
            ],
            "type": "histogram2dcontour"
           }
          ],
          "mesh3d": [
           {
            "colorbar": {
             "outlinewidth": 0,
             "ticks": ""
            },
            "type": "mesh3d"
           }
          ],
          "parcoords": [
           {
            "line": {
             "colorbar": {
              "outlinewidth": 0,
              "ticks": ""
             }
            },
            "type": "parcoords"
           }
          ],
          "pie": [
           {
            "automargin": true,
            "type": "pie"
           }
          ],
          "scatter": [
           {
            "marker": {
             "colorbar": {
              "outlinewidth": 0,
              "ticks": ""
             }
            },
            "type": "scatter"
           }
          ],
          "scatter3d": [
           {
            "line": {
             "colorbar": {
              "outlinewidth": 0,
              "ticks": ""
             }
            },
            "marker": {
             "colorbar": {
              "outlinewidth": 0,
              "ticks": ""
             }
            },
            "type": "scatter3d"
           }
          ],
          "scattercarpet": [
           {
            "marker": {
             "colorbar": {
              "outlinewidth": 0,
              "ticks": ""
             }
            },
            "type": "scattercarpet"
           }
          ],
          "scattergeo": [
           {
            "marker": {
             "colorbar": {
              "outlinewidth": 0,
              "ticks": ""
             }
            },
            "type": "scattergeo"
           }
          ],
          "scattergl": [
           {
            "marker": {
             "colorbar": {
              "outlinewidth": 0,
              "ticks": ""
             }
            },
            "type": "scattergl"
           }
          ],
          "scattermapbox": [
           {
            "marker": {
             "colorbar": {
              "outlinewidth": 0,
              "ticks": ""
             }
            },
            "type": "scattermapbox"
           }
          ],
          "scatterpolar": [
           {
            "marker": {
             "colorbar": {
              "outlinewidth": 0,
              "ticks": ""
             }
            },
            "type": "scatterpolar"
           }
          ],
          "scatterpolargl": [
           {
            "marker": {
             "colorbar": {
              "outlinewidth": 0,
              "ticks": ""
             }
            },
            "type": "scatterpolargl"
           }
          ],
          "scatterternary": [
           {
            "marker": {
             "colorbar": {
              "outlinewidth": 0,
              "ticks": ""
             }
            },
            "type": "scatterternary"
           }
          ],
          "surface": [
           {
            "colorbar": {
             "outlinewidth": 0,
             "ticks": ""
            },
            "colorscale": [
             [
              0,
              "#0d0887"
             ],
             [
              0.1111111111111111,
              "#46039f"
             ],
             [
              0.2222222222222222,
              "#7201a8"
             ],
             [
              0.3333333333333333,
              "#9c179e"
             ],
             [
              0.4444444444444444,
              "#bd3786"
             ],
             [
              0.5555555555555556,
              "#d8576b"
             ],
             [
              0.6666666666666666,
              "#ed7953"
             ],
             [
              0.7777777777777778,
              "#fb9f3a"
             ],
             [
              0.8888888888888888,
              "#fdca26"
             ],
             [
              1,
              "#f0f921"
             ]
            ],
            "type": "surface"
           }
          ],
          "table": [
           {
            "cells": {
             "fill": {
              "color": "#EBF0F8"
             },
             "line": {
              "color": "white"
             }
            },
            "header": {
             "fill": {
              "color": "#C8D4E3"
             },
             "line": {
              "color": "white"
             }
            },
            "type": "table"
           }
          ]
         },
         "layout": {
          "annotationdefaults": {
           "arrowcolor": "#2a3f5f",
           "arrowhead": 0,
           "arrowwidth": 1
          },
          "coloraxis": {
           "colorbar": {
            "outlinewidth": 0,
            "ticks": ""
           }
          },
          "colorscale": {
           "diverging": [
            [
             0,
             "#8e0152"
            ],
            [
             0.1,
             "#c51b7d"
            ],
            [
             0.2,
             "#de77ae"
            ],
            [
             0.3,
             "#f1b6da"
            ],
            [
             0.4,
             "#fde0ef"
            ],
            [
             0.5,
             "#f7f7f7"
            ],
            [
             0.6,
             "#e6f5d0"
            ],
            [
             0.7,
             "#b8e186"
            ],
            [
             0.8,
             "#7fbc41"
            ],
            [
             0.9,
             "#4d9221"
            ],
            [
             1,
             "#276419"
            ]
           ],
           "sequential": [
            [
             0,
             "#0d0887"
            ],
            [
             0.1111111111111111,
             "#46039f"
            ],
            [
             0.2222222222222222,
             "#7201a8"
            ],
            [
             0.3333333333333333,
             "#9c179e"
            ],
            [
             0.4444444444444444,
             "#bd3786"
            ],
            [
             0.5555555555555556,
             "#d8576b"
            ],
            [
             0.6666666666666666,
             "#ed7953"
            ],
            [
             0.7777777777777778,
             "#fb9f3a"
            ],
            [
             0.8888888888888888,
             "#fdca26"
            ],
            [
             1,
             "#f0f921"
            ]
           ],
           "sequentialminus": [
            [
             0,
             "#0d0887"
            ],
            [
             0.1111111111111111,
             "#46039f"
            ],
            [
             0.2222222222222222,
             "#7201a8"
            ],
            [
             0.3333333333333333,
             "#9c179e"
            ],
            [
             0.4444444444444444,
             "#bd3786"
            ],
            [
             0.5555555555555556,
             "#d8576b"
            ],
            [
             0.6666666666666666,
             "#ed7953"
            ],
            [
             0.7777777777777778,
             "#fb9f3a"
            ],
            [
             0.8888888888888888,
             "#fdca26"
            ],
            [
             1,
             "#f0f921"
            ]
           ]
          },
          "colorway": [
           "#636efa",
           "#EF553B",
           "#00cc96",
           "#ab63fa",
           "#FFA15A",
           "#19d3f3",
           "#FF6692",
           "#B6E880",
           "#FF97FF",
           "#FECB52"
          ],
          "font": {
           "color": "#2a3f5f"
          },
          "geo": {
           "bgcolor": "white",
           "lakecolor": "white",
           "landcolor": "#E5ECF6",
           "showlakes": true,
           "showland": true,
           "subunitcolor": "white"
          },
          "hoverlabel": {
           "align": "left"
          },
          "hovermode": "closest",
          "mapbox": {
           "style": "light"
          },
          "paper_bgcolor": "white",
          "plot_bgcolor": "#E5ECF6",
          "polar": {
           "angularaxis": {
            "gridcolor": "white",
            "linecolor": "white",
            "ticks": ""
           },
           "bgcolor": "#E5ECF6",
           "radialaxis": {
            "gridcolor": "white",
            "linecolor": "white",
            "ticks": ""
           }
          },
          "scene": {
           "xaxis": {
            "backgroundcolor": "#E5ECF6",
            "gridcolor": "white",
            "gridwidth": 2,
            "linecolor": "white",
            "showbackground": true,
            "ticks": "",
            "zerolinecolor": "white"
           },
           "yaxis": {
            "backgroundcolor": "#E5ECF6",
            "gridcolor": "white",
            "gridwidth": 2,
            "linecolor": "white",
            "showbackground": true,
            "ticks": "",
            "zerolinecolor": "white"
           },
           "zaxis": {
            "backgroundcolor": "#E5ECF6",
            "gridcolor": "white",
            "gridwidth": 2,
            "linecolor": "white",
            "showbackground": true,
            "ticks": "",
            "zerolinecolor": "white"
           }
          },
          "shapedefaults": {
           "line": {
            "color": "#2a3f5f"
           }
          },
          "ternary": {
           "aaxis": {
            "gridcolor": "white",
            "linecolor": "white",
            "ticks": ""
           },
           "baxis": {
            "gridcolor": "white",
            "linecolor": "white",
            "ticks": ""
           },
           "bgcolor": "#E5ECF6",
           "caxis": {
            "gridcolor": "white",
            "linecolor": "white",
            "ticks": ""
           }
          },
          "title": {
           "x": 0.05
          },
          "xaxis": {
           "automargin": true,
           "gridcolor": "white",
           "linecolor": "white",
           "ticks": "",
           "title": {
            "standoff": 15
           },
           "zerolinecolor": "white",
           "zerolinewidth": 2
          },
          "yaxis": {
           "automargin": true,
           "gridcolor": "white",
           "linecolor": "white",
           "ticks": "",
           "title": {
            "standoff": 15
           },
           "zerolinecolor": "white",
           "zerolinewidth": 2
          }
         }
        },
        "title": {
         "font": {
          "color": "#4D5663"
         }
        },
        "xaxis": {
         "gridcolor": "#E1E5ED",
         "showgrid": true,
         "tickfont": {
          "color": "#4D5663"
         },
         "title": {
          "font": {
           "color": "#4D5663"
          },
          "text": ""
         },
         "zerolinecolor": "#E1E5ED"
        },
        "yaxis": {
         "gridcolor": "#E1E5ED",
         "showgrid": true,
         "tickfont": {
          "color": "#4D5663"
         },
         "title": {
          "font": {
           "color": "#4D5663"
          },
          "text": ""
         },
         "zerolinecolor": "#E1E5ED"
        }
       }
      },
      "text/html": [
       "<div>\n",
       "        \n",
       "        \n",
       "            <div id=\"25db4528-f3ee-4f3a-95a0-e020aef20349\" class=\"plotly-graph-div\" style=\"height:525px; width:100%;\"></div>\n",
       "            <script type=\"text/javascript\">\n",
       "                require([\"plotly\"], function(Plotly) {\n",
       "                    window.PLOTLYENV=window.PLOTLYENV || {};\n",
       "                    window.PLOTLYENV.BASE_URL='https://plot.ly';\n",
       "                    \n",
       "                if (document.getElementById(\"25db4528-f3ee-4f3a-95a0-e020aef20349\")) {\n",
       "                    Plotly.newPlot(\n",
       "                        '25db4528-f3ee-4f3a-95a0-e020aef20349',\n",
       "                        [{\"marker\": {\"color\": \"rgba(255, 153, 51, 0.6)\", \"line\": {\"color\": \"rgba(255, 153, 51, 1.0)\", \"width\": 1}}, \"name\": \"Values\", \"orientation\": \"v\", \"text\": \"\", \"type\": \"bar\", \"x\": [\"A\", \"B\", \"C\"], \"y\": [32, 43, 50]}],\n",
       "                        {\"legend\": {\"bgcolor\": \"#F5F6F9\", \"font\": {\"color\": \"#4D5663\"}}, \"paper_bgcolor\": \"#F5F6F9\", \"plot_bgcolor\": \"#F5F6F9\", \"template\": {\"data\": {\"bar\": [{\"error_x\": {\"color\": \"#2a3f5f\"}, \"error_y\": {\"color\": \"#2a3f5f\"}, \"marker\": {\"line\": {\"color\": \"#E5ECF6\", \"width\": 0.5}}, \"type\": \"bar\"}], \"barpolar\": [{\"marker\": {\"line\": {\"color\": \"#E5ECF6\", \"width\": 0.5}}, \"type\": \"barpolar\"}], \"carpet\": [{\"aaxis\": {\"endlinecolor\": \"#2a3f5f\", \"gridcolor\": \"white\", \"linecolor\": \"white\", \"minorgridcolor\": \"white\", \"startlinecolor\": \"#2a3f5f\"}, \"baxis\": {\"endlinecolor\": \"#2a3f5f\", \"gridcolor\": \"white\", \"linecolor\": \"white\", \"minorgridcolor\": \"white\", \"startlinecolor\": \"#2a3f5f\"}, \"type\": \"carpet\"}], \"choropleth\": [{\"colorbar\": {\"outlinewidth\": 0, \"ticks\": \"\"}, \"type\": \"choropleth\"}], \"contour\": [{\"colorbar\": {\"outlinewidth\": 0, \"ticks\": \"\"}, \"colorscale\": [[0.0, \"#0d0887\"], [0.1111111111111111, \"#46039f\"], [0.2222222222222222, \"#7201a8\"], [0.3333333333333333, \"#9c179e\"], [0.4444444444444444, \"#bd3786\"], [0.5555555555555556, \"#d8576b\"], [0.6666666666666666, \"#ed7953\"], [0.7777777777777778, \"#fb9f3a\"], [0.8888888888888888, \"#fdca26\"], [1.0, \"#f0f921\"]], \"type\": \"contour\"}], \"contourcarpet\": [{\"colorbar\": {\"outlinewidth\": 0, \"ticks\": \"\"}, \"type\": \"contourcarpet\"}], \"heatmap\": [{\"colorbar\": {\"outlinewidth\": 0, \"ticks\": \"\"}, \"colorscale\": [[0.0, \"#0d0887\"], [0.1111111111111111, \"#46039f\"], [0.2222222222222222, \"#7201a8\"], [0.3333333333333333, \"#9c179e\"], [0.4444444444444444, \"#bd3786\"], [0.5555555555555556, \"#d8576b\"], [0.6666666666666666, \"#ed7953\"], [0.7777777777777778, \"#fb9f3a\"], [0.8888888888888888, \"#fdca26\"], [1.0, \"#f0f921\"]], \"type\": \"heatmap\"}], \"heatmapgl\": [{\"colorbar\": {\"outlinewidth\": 0, \"ticks\": \"\"}, \"colorscale\": [[0.0, \"#0d0887\"], [0.1111111111111111, \"#46039f\"], [0.2222222222222222, \"#7201a8\"], [0.3333333333333333, \"#9c179e\"], [0.4444444444444444, \"#bd3786\"], [0.5555555555555556, \"#d8576b\"], [0.6666666666666666, \"#ed7953\"], [0.7777777777777778, \"#fb9f3a\"], [0.8888888888888888, \"#fdca26\"], [1.0, \"#f0f921\"]], \"type\": \"heatmapgl\"}], \"histogram\": [{\"marker\": {\"colorbar\": {\"outlinewidth\": 0, \"ticks\": \"\"}}, \"type\": \"histogram\"}], \"histogram2d\": [{\"colorbar\": {\"outlinewidth\": 0, \"ticks\": \"\"}, \"colorscale\": [[0.0, \"#0d0887\"], [0.1111111111111111, \"#46039f\"], [0.2222222222222222, \"#7201a8\"], [0.3333333333333333, \"#9c179e\"], [0.4444444444444444, \"#bd3786\"], [0.5555555555555556, \"#d8576b\"], [0.6666666666666666, \"#ed7953\"], [0.7777777777777778, \"#fb9f3a\"], [0.8888888888888888, \"#fdca26\"], [1.0, \"#f0f921\"]], \"type\": \"histogram2d\"}], \"histogram2dcontour\": [{\"colorbar\": {\"outlinewidth\": 0, \"ticks\": \"\"}, \"colorscale\": [[0.0, \"#0d0887\"], [0.1111111111111111, \"#46039f\"], [0.2222222222222222, \"#7201a8\"], [0.3333333333333333, \"#9c179e\"], [0.4444444444444444, \"#bd3786\"], [0.5555555555555556, \"#d8576b\"], [0.6666666666666666, \"#ed7953\"], [0.7777777777777778, \"#fb9f3a\"], [0.8888888888888888, \"#fdca26\"], [1.0, \"#f0f921\"]], \"type\": \"histogram2dcontour\"}], \"mesh3d\": [{\"colorbar\": {\"outlinewidth\": 0, \"ticks\": \"\"}, \"type\": \"mesh3d\"}], \"parcoords\": [{\"line\": {\"colorbar\": {\"outlinewidth\": 0, \"ticks\": \"\"}}, \"type\": \"parcoords\"}], \"pie\": [{\"automargin\": true, \"type\": \"pie\"}], \"scatter\": [{\"marker\": {\"colorbar\": {\"outlinewidth\": 0, \"ticks\": \"\"}}, \"type\": \"scatter\"}], \"scatter3d\": [{\"line\": {\"colorbar\": {\"outlinewidth\": 0, \"ticks\": \"\"}}, \"marker\": {\"colorbar\": {\"outlinewidth\": 0, \"ticks\": \"\"}}, \"type\": \"scatter3d\"}], \"scattercarpet\": [{\"marker\": {\"colorbar\": {\"outlinewidth\": 0, \"ticks\": \"\"}}, \"type\": \"scattercarpet\"}], \"scattergeo\": [{\"marker\": {\"colorbar\": {\"outlinewidth\": 0, \"ticks\": \"\"}}, \"type\": \"scattergeo\"}], \"scattergl\": [{\"marker\": {\"colorbar\": {\"outlinewidth\": 0, \"ticks\": \"\"}}, \"type\": \"scattergl\"}], \"scattermapbox\": [{\"marker\": {\"colorbar\": {\"outlinewidth\": 0, \"ticks\": \"\"}}, \"type\": \"scattermapbox\"}], \"scatterpolar\": [{\"marker\": {\"colorbar\": {\"outlinewidth\": 0, \"ticks\": \"\"}}, \"type\": \"scatterpolar\"}], \"scatterpolargl\": [{\"marker\": {\"colorbar\": {\"outlinewidth\": 0, \"ticks\": \"\"}}, \"type\": \"scatterpolargl\"}], \"scatterternary\": [{\"marker\": {\"colorbar\": {\"outlinewidth\": 0, \"ticks\": \"\"}}, \"type\": \"scatterternary\"}], \"surface\": [{\"colorbar\": {\"outlinewidth\": 0, \"ticks\": \"\"}, \"colorscale\": [[0.0, \"#0d0887\"], [0.1111111111111111, \"#46039f\"], [0.2222222222222222, \"#7201a8\"], [0.3333333333333333, \"#9c179e\"], [0.4444444444444444, \"#bd3786\"], [0.5555555555555556, \"#d8576b\"], [0.6666666666666666, \"#ed7953\"], [0.7777777777777778, \"#fb9f3a\"], [0.8888888888888888, \"#fdca26\"], [1.0, \"#f0f921\"]], \"type\": \"surface\"}], \"table\": [{\"cells\": {\"fill\": {\"color\": \"#EBF0F8\"}, \"line\": {\"color\": \"white\"}}, \"header\": {\"fill\": {\"color\": \"#C8D4E3\"}, \"line\": {\"color\": \"white\"}}, \"type\": \"table\"}]}, \"layout\": {\"annotationdefaults\": {\"arrowcolor\": \"#2a3f5f\", \"arrowhead\": 0, \"arrowwidth\": 1}, \"coloraxis\": {\"colorbar\": {\"outlinewidth\": 0, \"ticks\": \"\"}}, \"colorscale\": {\"diverging\": [[0, \"#8e0152\"], [0.1, \"#c51b7d\"], [0.2, \"#de77ae\"], [0.3, \"#f1b6da\"], [0.4, \"#fde0ef\"], [0.5, \"#f7f7f7\"], [0.6, \"#e6f5d0\"], [0.7, \"#b8e186\"], [0.8, \"#7fbc41\"], [0.9, \"#4d9221\"], [1, \"#276419\"]], \"sequential\": [[0.0, \"#0d0887\"], [0.1111111111111111, \"#46039f\"], [0.2222222222222222, \"#7201a8\"], [0.3333333333333333, \"#9c179e\"], [0.4444444444444444, \"#bd3786\"], [0.5555555555555556, \"#d8576b\"], [0.6666666666666666, \"#ed7953\"], [0.7777777777777778, \"#fb9f3a\"], [0.8888888888888888, \"#fdca26\"], [1.0, \"#f0f921\"]], \"sequentialminus\": [[0.0, \"#0d0887\"], [0.1111111111111111, \"#46039f\"], [0.2222222222222222, \"#7201a8\"], [0.3333333333333333, \"#9c179e\"], [0.4444444444444444, \"#bd3786\"], [0.5555555555555556, \"#d8576b\"], [0.6666666666666666, \"#ed7953\"], [0.7777777777777778, \"#fb9f3a\"], [0.8888888888888888, \"#fdca26\"], [1.0, \"#f0f921\"]]}, \"colorway\": [\"#636efa\", \"#EF553B\", \"#00cc96\", \"#ab63fa\", \"#FFA15A\", \"#19d3f3\", \"#FF6692\", \"#B6E880\", \"#FF97FF\", \"#FECB52\"], \"font\": {\"color\": \"#2a3f5f\"}, \"geo\": {\"bgcolor\": \"white\", \"lakecolor\": \"white\", \"landcolor\": \"#E5ECF6\", \"showlakes\": true, \"showland\": true, \"subunitcolor\": \"white\"}, \"hoverlabel\": {\"align\": \"left\"}, \"hovermode\": \"closest\", \"mapbox\": {\"style\": \"light\"}, \"paper_bgcolor\": \"white\", \"plot_bgcolor\": \"#E5ECF6\", \"polar\": {\"angularaxis\": {\"gridcolor\": \"white\", \"linecolor\": \"white\", \"ticks\": \"\"}, \"bgcolor\": \"#E5ECF6\", \"radialaxis\": {\"gridcolor\": \"white\", \"linecolor\": \"white\", \"ticks\": \"\"}}, \"scene\": {\"xaxis\": {\"backgroundcolor\": \"#E5ECF6\", \"gridcolor\": \"white\", \"gridwidth\": 2, \"linecolor\": \"white\", \"showbackground\": true, \"ticks\": \"\", \"zerolinecolor\": \"white\"}, \"yaxis\": {\"backgroundcolor\": \"#E5ECF6\", \"gridcolor\": \"white\", \"gridwidth\": 2, \"linecolor\": \"white\", \"showbackground\": true, \"ticks\": \"\", \"zerolinecolor\": \"white\"}, \"zaxis\": {\"backgroundcolor\": \"#E5ECF6\", \"gridcolor\": \"white\", \"gridwidth\": 2, \"linecolor\": \"white\", \"showbackground\": true, \"ticks\": \"\", \"zerolinecolor\": \"white\"}}, \"shapedefaults\": {\"line\": {\"color\": \"#2a3f5f\"}}, \"ternary\": {\"aaxis\": {\"gridcolor\": \"white\", \"linecolor\": \"white\", \"ticks\": \"\"}, \"baxis\": {\"gridcolor\": \"white\", \"linecolor\": \"white\", \"ticks\": \"\"}, \"bgcolor\": \"#E5ECF6\", \"caxis\": {\"gridcolor\": \"white\", \"linecolor\": \"white\", \"ticks\": \"\"}}, \"title\": {\"x\": 0.05}, \"xaxis\": {\"automargin\": true, \"gridcolor\": \"white\", \"linecolor\": \"white\", \"ticks\": \"\", \"title\": {\"standoff\": 15}, \"zerolinecolor\": \"white\", \"zerolinewidth\": 2}, \"yaxis\": {\"automargin\": true, \"gridcolor\": \"white\", \"linecolor\": \"white\", \"ticks\": \"\", \"title\": {\"standoff\": 15}, \"zerolinecolor\": \"white\", \"zerolinewidth\": 2}}}, \"title\": {\"font\": {\"color\": \"#4D5663\"}}, \"xaxis\": {\"gridcolor\": \"#E1E5ED\", \"showgrid\": true, \"tickfont\": {\"color\": \"#4D5663\"}, \"title\": {\"font\": {\"color\": \"#4D5663\"}, \"text\": \"\"}, \"zerolinecolor\": \"#E1E5ED\"}, \"yaxis\": {\"gridcolor\": \"#E1E5ED\", \"showgrid\": true, \"tickfont\": {\"color\": \"#4D5663\"}, \"title\": {\"font\": {\"color\": \"#4D5663\"}, \"text\": \"\"}, \"zerolinecolor\": \"#E1E5ED\"}},\n",
       "                        {\"showLink\": true, \"linkText\": \"Export to plot.ly\", \"plotlyServerURL\": \"https://plot.ly\", \"responsive\": true}\n",
       "                    ).then(function(){\n",
       "                            \n",
       "var gd = document.getElementById('25db4528-f3ee-4f3a-95a0-e020aef20349');\n",
       "var x = new MutationObserver(function (mutations, observer) {{\n",
       "        var display = window.getComputedStyle(gd).display;\n",
       "        if (!display || display === 'none') {{\n",
       "            console.log([gd, 'removed!']);\n",
       "            Plotly.purge(gd);\n",
       "            observer.disconnect();\n",
       "        }}\n",
       "}});\n",
       "\n",
       "// Listen for the removal of the full notebook cells\n",
       "var notebookContainer = gd.closest('#notebook-container');\n",
       "if (notebookContainer) {{\n",
       "    x.observe(notebookContainer, {childList: true});\n",
       "}}\n",
       "\n",
       "// Listen for the clearing of the current output cell\n",
       "var outputEl = gd.closest('.output');\n",
       "if (outputEl) {{\n",
       "    x.observe(outputEl, {childList: true});\n",
       "}}\n",
       "\n",
       "                        })\n",
       "                };\n",
       "                });\n",
       "            </script>\n",
       "        </div>"
      ]
     },
     "metadata": {},
     "output_type": "display_data"
    }
   ],
   "source": [
    "df2.iplot(kind='bar',x='Category',y='Values') # can use a group by or aggregate on the data to make better sense"
   ]
  },
  {
   "cell_type": "code",
   "execution_count": 31,
   "metadata": {},
   "outputs": [
    {
     "data": {
      "text/html": [
       "<div>\n",
       "<style scoped>\n",
       "    .dataframe tbody tr th:only-of-type {\n",
       "        vertical-align: middle;\n",
       "    }\n",
       "\n",
       "    .dataframe tbody tr th {\n",
       "        vertical-align: top;\n",
       "    }\n",
       "\n",
       "    .dataframe thead th {\n",
       "        text-align: right;\n",
       "    }\n",
       "</style>\n",
       "<table border=\"1\" class=\"dataframe\">\n",
       "  <thead>\n",
       "    <tr style=\"text-align: right;\">\n",
       "      <th></th>\n",
       "      <th>A</th>\n",
       "      <th>B</th>\n",
       "      <th>C</th>\n",
       "      <th>D</th>\n",
       "    </tr>\n",
       "  </thead>\n",
       "  <tbody>\n",
       "    <tr>\n",
       "      <th>0</th>\n",
       "      <td>-0.500954</td>\n",
       "      <td>0.464707</td>\n",
       "      <td>-0.403160</td>\n",
       "      <td>0.728926</td>\n",
       "    </tr>\n",
       "    <tr>\n",
       "      <th>1</th>\n",
       "      <td>-0.420462</td>\n",
       "      <td>-0.056390</td>\n",
       "      <td>-1.360055</td>\n",
       "      <td>0.691208</td>\n",
       "    </tr>\n",
       "    <tr>\n",
       "      <th>2</th>\n",
       "      <td>-0.495533</td>\n",
       "      <td>0.821164</td>\n",
       "      <td>0.710634</td>\n",
       "      <td>0.818816</td>\n",
       "    </tr>\n",
       "    <tr>\n",
       "      <th>3</th>\n",
       "      <td>0.765730</td>\n",
       "      <td>-0.530211</td>\n",
       "      <td>-0.917767</td>\n",
       "      <td>-0.300057</td>\n",
       "    </tr>\n",
       "    <tr>\n",
       "      <th>4</th>\n",
       "      <td>-0.078474</td>\n",
       "      <td>-0.026096</td>\n",
       "      <td>0.068839</td>\n",
       "      <td>-1.401765</td>\n",
       "    </tr>\n",
       "    <tr>\n",
       "      <th>...</th>\n",
       "      <td>...</td>\n",
       "      <td>...</td>\n",
       "      <td>...</td>\n",
       "      <td>...</td>\n",
       "    </tr>\n",
       "    <tr>\n",
       "      <th>95</th>\n",
       "      <td>-0.463830</td>\n",
       "      <td>-0.317620</td>\n",
       "      <td>-0.629613</td>\n",
       "      <td>2.529539</td>\n",
       "    </tr>\n",
       "    <tr>\n",
       "      <th>96</th>\n",
       "      <td>-0.484493</td>\n",
       "      <td>1.301684</td>\n",
       "      <td>-0.415234</td>\n",
       "      <td>0.555495</td>\n",
       "    </tr>\n",
       "    <tr>\n",
       "      <th>97</th>\n",
       "      <td>-0.895294</td>\n",
       "      <td>1.319139</td>\n",
       "      <td>0.432186</td>\n",
       "      <td>0.614159</td>\n",
       "    </tr>\n",
       "    <tr>\n",
       "      <th>98</th>\n",
       "      <td>-0.174643</td>\n",
       "      <td>0.603001</td>\n",
       "      <td>0.793499</td>\n",
       "      <td>0.148641</td>\n",
       "    </tr>\n",
       "    <tr>\n",
       "      <th>99</th>\n",
       "      <td>-1.569007</td>\n",
       "      <td>-0.473436</td>\n",
       "      <td>-0.473630</td>\n",
       "      <td>0.313343</td>\n",
       "    </tr>\n",
       "  </tbody>\n",
       "</table>\n",
       "<p>100 rows × 4 columns</p>\n",
       "</div>"
      ],
      "text/plain": [
       "           A         B         C         D\n",
       "0  -0.500954  0.464707 -0.403160  0.728926\n",
       "1  -0.420462 -0.056390 -1.360055  0.691208\n",
       "2  -0.495533  0.821164  0.710634  0.818816\n",
       "3   0.765730 -0.530211 -0.917767 -0.300057\n",
       "4  -0.078474 -0.026096  0.068839 -1.401765\n",
       "..       ...       ...       ...       ...\n",
       "95 -0.463830 -0.317620 -0.629613  2.529539\n",
       "96 -0.484493  1.301684 -0.415234  0.555495\n",
       "97 -0.895294  1.319139  0.432186  0.614159\n",
       "98 -0.174643  0.603001  0.793499  0.148641\n",
       "99 -1.569007 -0.473436 -0.473630  0.313343\n",
       "\n",
       "[100 rows x 4 columns]"
      ]
     },
     "execution_count": 31,
     "metadata": {},
     "output_type": "execute_result"
    }
   ],
   "source": [
    "df"
   ]
  },
  {
   "cell_type": "code",
   "execution_count": 33,
   "metadata": {},
   "outputs": [
    {
     "data": {
      "application/vnd.plotly.v1+json": {
       "config": {
        "linkText": "Export to plot.ly",
        "plotlyServerURL": "https://plot.ly",
        "showLink": true
       },
       "data": [
        {
         "marker": {
          "color": "rgba(255, 153, 51, 0.6)",
          "line": {
           "color": "rgba(255, 153, 51, 1.0)",
           "width": 1
          }
         },
         "name": "A",
         "orientation": "v",
         "text": "",
         "type": "bar",
         "x": [
          0,
          1,
          2,
          3,
          4,
          5,
          6,
          7,
          8,
          9,
          10,
          11,
          12,
          13,
          14,
          15,
          16,
          17,
          18,
          19,
          20,
          21,
          22,
          23,
          24,
          25,
          26,
          27,
          28,
          29,
          30,
          31,
          32,
          33,
          34,
          35,
          36,
          37,
          38,
          39,
          40,
          41,
          42,
          43,
          44,
          45,
          46,
          47,
          48,
          49,
          50,
          51,
          52,
          53,
          54,
          55,
          56,
          57,
          58,
          59,
          60,
          61,
          62,
          63,
          64,
          65,
          66,
          67,
          68,
          69,
          70,
          71,
          72,
          73,
          74,
          75,
          76,
          77,
          78,
          79,
          80,
          81,
          82,
          83,
          84,
          85,
          86,
          87,
          88,
          89,
          90,
          91,
          92,
          93,
          94,
          95,
          96,
          97,
          98,
          99
         ],
         "y": [
          -0.5009543608026148,
          -0.4204615151389094,
          -0.49553283935936165,
          0.7657304693445539,
          -0.07847397916945117,
          0.6700761884302777,
          1.6148887957746296,
          -0.14346731599489548,
          -0.2665864011088299,
          1.5203733905118066,
          -1.6225831980015681,
          -0.0010036338978958532,
          -0.20764556384936733,
          1.2211140213435423,
          0.7616648705923982,
          0.8511236141237207,
          -0.11514925363568562,
          -0.20936138521130568,
          -0.23694314875636666,
          -1.41396658714284,
          -0.7197209408930788,
          -0.21986205769332937,
          1.0281717480256272,
          -0.34491294269628503,
          1.8387982177216249,
          1.7454245898531036,
          0.40475695887285834,
          0.38445221563913434,
          0.09096690376723829,
          -0.5452474872683721,
          0.36883064898417145,
          0.471064900436615,
          0.08943939927300605,
          -0.04711988398954826,
          -0.377726634293231,
          0.7896939082042002,
          0.2834844224400587,
          -0.3712372134953554,
          -0.8239234838514105,
          -0.24380479792713633,
          0.8021227623642619,
          0.8595077643277932,
          -0.89133910900524,
          -0.08704741110358603,
          1.1154306476276132,
          -0.8232991534045231,
          0.03951476468379789,
          -0.5897579157424271,
          0.48638772034887495,
          -0.23689141912829995,
          -0.849875469508366,
          1.2033244290804135,
          -0.9707942664404414,
          0.5345692965058876,
          0.24185563713696623,
          -1.2480718435113924,
          -1.9764817321890251,
          0.17398462490394964,
          -0.2958648071038704,
          -0.9073789839128634,
          -0.320061959697221,
          -1.2894563780049575,
          0.8162202543091142,
          0.7279819747659728,
          0.5016314636811545,
          -1.6350473403411654,
          1.112226070703627,
          -1.3798198056686024,
          0.03712506450794439,
          0.8725646848428592,
          -0.062491031397570555,
          -1.283446523292469,
          0.8042769164891135,
          -1.2878267604909532,
          -2.4243449762842935,
          1.455471611236058,
          0.4262483065173007,
          -1.1011863485263866,
          0.36393070625865315,
          -0.3828540123202687,
          0.07374167084754127,
          -1.3446917941460133,
          -0.07602512088167016,
          2.131579084083562,
          0.8633118511617681,
          0.9567443066299663,
          -0.35082901706021047,
          0.5353353137007961,
          -0.06072553628984715,
          0.4216056690056466,
          1.8201523623294387,
          -1.4207116091443348,
          -0.24445402467878669,
          1.0790482734281726,
          -0.301775352771489,
          -0.463830499688751,
          -0.48449348616253807,
          -0.8952937264879816,
          -0.17464315190589047,
          -1.5690068772777155
         ]
        },
        {
         "marker": {
          "color": "rgba(55, 128, 191, 0.6)",
          "line": {
           "color": "rgba(55, 128, 191, 1.0)",
           "width": 1
          }
         },
         "name": "B",
         "orientation": "v",
         "text": "",
         "type": "bar",
         "x": [
          0,
          1,
          2,
          3,
          4,
          5,
          6,
          7,
          8,
          9,
          10,
          11,
          12,
          13,
          14,
          15,
          16,
          17,
          18,
          19,
          20,
          21,
          22,
          23,
          24,
          25,
          26,
          27,
          28,
          29,
          30,
          31,
          32,
          33,
          34,
          35,
          36,
          37,
          38,
          39,
          40,
          41,
          42,
          43,
          44,
          45,
          46,
          47,
          48,
          49,
          50,
          51,
          52,
          53,
          54,
          55,
          56,
          57,
          58,
          59,
          60,
          61,
          62,
          63,
          64,
          65,
          66,
          67,
          68,
          69,
          70,
          71,
          72,
          73,
          74,
          75,
          76,
          77,
          78,
          79,
          80,
          81,
          82,
          83,
          84,
          85,
          86,
          87,
          88,
          89,
          90,
          91,
          92,
          93,
          94,
          95,
          96,
          97,
          98,
          99
         ],
         "y": [
          0.4647073083742839,
          -0.05638983549159592,
          0.8211639860066423,
          -0.5302111813539075,
          -0.026095626254060273,
          0.934819749012539,
          -0.06881896608775859,
          0.7431747218014507,
          -0.6634138417015264,
          -0.6407659494255311,
          -2.0830026972903197,
          1.8045522880146014,
          1.037149625547556,
          0.3248740795752661,
          0.16422555997258756,
          -0.04448673216754261,
          -1.1666989664863299,
          -0.34489031820823246,
          0.023191019187505314,
          -1.130997876996157,
          0.6537048033347655,
          -2.008977265519097,
          2.1187636059019828,
          -0.14720374779769907,
          -0.4119883895674882,
          -0.01889786289040426,
          -0.5408825560442116,
          0.6532664735645086,
          0.3019048417424934,
          1.6458305129952842,
          0.6030209295808521,
          -0.3623998992628467,
          -1.354212000595378,
          -1.172657051102667,
          -0.1769801146101835,
          2.2055905103394196,
          0.2760796035999615,
          -1.7813429624595076,
          0.7750526626200264,
          -0.5805198523009042,
          -1.0618189104978328,
          0.18946634999859532,
          0.381459586503324,
          -0.9242275271954474,
          -0.5628414484788141,
          -0.8638503681130342,
          -0.12409497161196388,
          1.0458509752935239,
          -0.695096587506082,
          1.2734349572542032,
          0.24242678837999837,
          -0.5467390258304995,
          -0.6363370209478098,
          2.013175801488738,
          0.7725826019693162,
          -0.3915999325975337,
          -0.21384985463778458,
          1.4732988178499873,
          -1.946677160191751,
          0.40084042312757945,
          1.3366011084629332,
          -0.3613636341442311,
          0.5298250484301542,
          1.4558635024058049,
          -0.6318727492567257,
          -0.8227985700773811,
          -0.5377019717823004,
          -1.7902939476280129,
          -0.26846879662803125,
          1.465181281886347,
          2.3219711044551956,
          0.9250989703211202,
          0.8916825245438201,
          -1.1517637591562595,
          -0.19150262412323274,
          1.4792770255841388,
          1.6861949140510182,
          0.4512015631832032,
          0.1485498153576192,
          0.7032594474993233,
          1.398402958112115,
          -0.0031789942556199823,
          -0.6032519124226736,
          0.9550811638193741,
          1.737666005127905,
          1.060053557429989,
          1.2895208947773007,
          -1.1953320328355028,
          1.782261738784618,
          1.9306290169917022,
          -0.7425207838161446,
          -0.9754342092359741,
          0.9982550336125903,
          0.04387350789025311,
          -0.6029540220032642,
          -0.3176203472281875,
          1.3016837317080092,
          1.319139155169162,
          0.60300051445889,
          -0.4734361308297189
         ]
        },
        {
         "marker": {
          "color": "rgba(50, 171, 96, 0.6)",
          "line": {
           "color": "rgba(50, 171, 96, 1.0)",
           "width": 1
          }
         },
         "name": "C",
         "orientation": "v",
         "text": "",
         "type": "bar",
         "x": [
          0,
          1,
          2,
          3,
          4,
          5,
          6,
          7,
          8,
          9,
          10,
          11,
          12,
          13,
          14,
          15,
          16,
          17,
          18,
          19,
          20,
          21,
          22,
          23,
          24,
          25,
          26,
          27,
          28,
          29,
          30,
          31,
          32,
          33,
          34,
          35,
          36,
          37,
          38,
          39,
          40,
          41,
          42,
          43,
          44,
          45,
          46,
          47,
          48,
          49,
          50,
          51,
          52,
          53,
          54,
          55,
          56,
          57,
          58,
          59,
          60,
          61,
          62,
          63,
          64,
          65,
          66,
          67,
          68,
          69,
          70,
          71,
          72,
          73,
          74,
          75,
          76,
          77,
          78,
          79,
          80,
          81,
          82,
          83,
          84,
          85,
          86,
          87,
          88,
          89,
          90,
          91,
          92,
          93,
          94,
          95,
          96,
          97,
          98,
          99
         ],
         "y": [
          -0.40315973833766044,
          -1.360054681543459,
          0.7106343682785928,
          -0.9177669533408417,
          0.06883949789015524,
          0.01696296847514918,
          -0.44393478997380553,
          -0.7198535392505376,
          -0.7875483593999346,
          1.9155416094569315,
          0.6583623881679307,
          0.5376709735739473,
          1.0405012466708365,
          -0.23171979820644356,
          -0.3744126532426237,
          -1.1618515687799378,
          -1.3964253535908646,
          0.5769970040773327,
          -1.0835044014698794,
          0.5747678743329491,
          -0.11827539408021497,
          0.2151484932585146,
          0.08078309448514429,
          -2.037047352546062,
          -1.390219773530132,
          0.09167606324494677,
          -0.7235507708580192,
          -0.5405884558003439,
          -1.2811560263191193,
          -0.4543060750192719,
          -1.1165034510234548,
          0.3000613728191319,
          -0.05289080065345519,
          0.362704088345904,
          -0.9680892848574593,
          0.6680708701581071,
          -0.8231344948245031,
          0.715348855171547,
          0.5650247434328161,
          -0.5773761355342275,
          -0.9286783479833696,
          0.7776532703274646,
          -0.12317469719040205,
          -1.1513332111873045,
          0.5063978291626221,
          -0.8742393811420719,
          1.9156488862245638,
          -1.0865525250496144,
          0.44206782103104286,
          0.9026685461629094,
          2.895994875542977,
          1.1285450455156265,
          1.1841356567838248,
          0.19876360513024213,
          1.4886716994001934,
          -0.3327270700698986,
          -0.5621700345151495,
          -0.5847259828949196,
          -1.2846401342555829,
          -0.6016000623194985,
          -0.09861791991283785,
          1.1816530601740363,
          -0.6908357948875438,
          0.3171310416057197,
          0.7552121889991846,
          -2.3888071483371647,
          -1.1485383178467785,
          0.5897185443197643,
          -0.36845595698948597,
          -0.5717563197990444,
          -0.14214523110978153,
          0.0004170052383094638,
          -0.18461428501604366,
          -0.1052252881648122,
          -0.8292749236373992,
          -0.08997556334434115,
          1.2644372314371435,
          2.0832196408139105,
          0.38676730762963063,
          1.4060141059133717,
          -1.3360038713603481,
          0.34749778659436176,
          -0.33806765343092926,
          1.4157584416445,
          -0.7594413490741586,
          -1.762295996654411,
          0.5617175196967619,
          1.7970365337189476,
          -1.0303904420141936,
          -0.9645790425198174,
          0.9914171618392057,
          -0.10285713286924551,
          -0.8135392007267539,
          0.7187908001826215,
          -0.09528272118315335,
          -0.6296134228433697,
          -0.4152341746240974,
          0.4321855310892845,
          0.7934990376332662,
          -0.4736302553853124
         ]
        },
        {
         "marker": {
          "color": "rgba(128, 0, 128, 0.6)",
          "line": {
           "color": "rgba(128, 0, 128, 1.0)",
           "width": 1
          }
         },
         "name": "D",
         "orientation": "v",
         "text": "",
         "type": "bar",
         "x": [
          0,
          1,
          2,
          3,
          4,
          5,
          6,
          7,
          8,
          9,
          10,
          11,
          12,
          13,
          14,
          15,
          16,
          17,
          18,
          19,
          20,
          21,
          22,
          23,
          24,
          25,
          26,
          27,
          28,
          29,
          30,
          31,
          32,
          33,
          34,
          35,
          36,
          37,
          38,
          39,
          40,
          41,
          42,
          43,
          44,
          45,
          46,
          47,
          48,
          49,
          50,
          51,
          52,
          53,
          54,
          55,
          56,
          57,
          58,
          59,
          60,
          61,
          62,
          63,
          64,
          65,
          66,
          67,
          68,
          69,
          70,
          71,
          72,
          73,
          74,
          75,
          76,
          77,
          78,
          79,
          80,
          81,
          82,
          83,
          84,
          85,
          86,
          87,
          88,
          89,
          90,
          91,
          92,
          93,
          94,
          95,
          96,
          97,
          98,
          99
         ],
         "y": [
          0.7289264925102457,
          0.6912077819830305,
          0.8188163578461918,
          -0.30005691761790504,
          -1.4017653130971819,
          0.7418167945956171,
          -1.3072947407549396,
          0.5238505847258861,
          -0.5815439940403195,
          -0.8792388115836571,
          -1.033454430129768,
          0.7403640958737788,
          -1.0588129764174565,
          -0.7771680087119067,
          -1.6617547956883958,
          -1.5914907424879152,
          -1.0160879667124922,
          1.2678132647838818,
          -0.16793391008686473,
          1.0101429611574362,
          1.8032134050852269,
          -0.8999362203146547,
          -0.8539426072478293,
          -0.8009195843748494,
          -0.3664154121540123,
          -0.6107229900880933,
          -0.3350158000287844,
          0.38272189449206223,
          -1.851550337554075,
          1.2840629959739345,
          -0.8612530460386267,
          1.000086231202697,
          -1.3419411720416599,
          -1.0589510959940858,
          1.3923268650795624,
          -0.11210822226961702,
          -0.5842141681440038,
          -0.029178560040188175,
          -0.47118804612841253,
          0.24960142722219547,
          1.1707027090074467,
          -0.5605349045267657,
          -0.5611008894719185,
          1.5079015447793083,
          -0.7149551059987138,
          0.1438353136292474,
          0.8265123257903583,
          -0.023327793020397707,
          -0.6879816871193085,
          -0.19529967496198097,
          -0.30628224009133753,
          -0.8297173264276736,
          0.8345054934481003,
          0.5792416853511556,
          1.5935219415190103,
          -1.4883411834823808,
          0.7293186817888184,
          0.355228253069335,
          -1.3171366027193092,
          -0.056434275320834004,
          -0.5948376052025565,
          0.5778833712404194,
          0.4722524495743788,
          -0.23223626436639552,
          0.4902558443320463,
          1.2950182054810377,
          -1.7760625858810606,
          -0.6227729304429062,
          -0.5991623946916326,
          -0.4982592912885508,
          -1.49314260325824,
          0.9396270239918765,
          0.6009626436464006,
          1.3100598156970285,
          -0.07742400265272653,
          -0.2243421864407254,
          0.1739583018508991,
          -0.5440884129977694,
          -0.905632736795812,
          -0.8238665725545118,
          0.3257163950575212,
          -1.353642736504197,
          0.1249865569350151,
          1.1471228394269801,
          0.01849814702931045,
          1.7175961052390785,
          0.580982847441958,
          0.3738800828849592,
          0.22981324840051287,
          0.09748587227584486,
          0.6838294695060558,
          -1.1805057378264823,
          0.295612020998169,
          0.815165130870034,
          -0.9725072594716221,
          2.529538533955411,
          0.5554954891446603,
          0.61415886993306,
          0.14864075840154758,
          0.31334340852487175
         ]
        }
       ],
       "layout": {
        "legend": {
         "bgcolor": "#F5F6F9",
         "font": {
          "color": "#4D5663"
         }
        },
        "paper_bgcolor": "#F5F6F9",
        "plot_bgcolor": "#F5F6F9",
        "template": {
         "data": {
          "bar": [
           {
            "error_x": {
             "color": "#2a3f5f"
            },
            "error_y": {
             "color": "#2a3f5f"
            },
            "marker": {
             "line": {
              "color": "#E5ECF6",
              "width": 0.5
             }
            },
            "type": "bar"
           }
          ],
          "barpolar": [
           {
            "marker": {
             "line": {
              "color": "#E5ECF6",
              "width": 0.5
             }
            },
            "type": "barpolar"
           }
          ],
          "carpet": [
           {
            "aaxis": {
             "endlinecolor": "#2a3f5f",
             "gridcolor": "white",
             "linecolor": "white",
             "minorgridcolor": "white",
             "startlinecolor": "#2a3f5f"
            },
            "baxis": {
             "endlinecolor": "#2a3f5f",
             "gridcolor": "white",
             "linecolor": "white",
             "minorgridcolor": "white",
             "startlinecolor": "#2a3f5f"
            },
            "type": "carpet"
           }
          ],
          "choropleth": [
           {
            "colorbar": {
             "outlinewidth": 0,
             "ticks": ""
            },
            "type": "choropleth"
           }
          ],
          "contour": [
           {
            "colorbar": {
             "outlinewidth": 0,
             "ticks": ""
            },
            "colorscale": [
             [
              0,
              "#0d0887"
             ],
             [
              0.1111111111111111,
              "#46039f"
             ],
             [
              0.2222222222222222,
              "#7201a8"
             ],
             [
              0.3333333333333333,
              "#9c179e"
             ],
             [
              0.4444444444444444,
              "#bd3786"
             ],
             [
              0.5555555555555556,
              "#d8576b"
             ],
             [
              0.6666666666666666,
              "#ed7953"
             ],
             [
              0.7777777777777778,
              "#fb9f3a"
             ],
             [
              0.8888888888888888,
              "#fdca26"
             ],
             [
              1,
              "#f0f921"
             ]
            ],
            "type": "contour"
           }
          ],
          "contourcarpet": [
           {
            "colorbar": {
             "outlinewidth": 0,
             "ticks": ""
            },
            "type": "contourcarpet"
           }
          ],
          "heatmap": [
           {
            "colorbar": {
             "outlinewidth": 0,
             "ticks": ""
            },
            "colorscale": [
             [
              0,
              "#0d0887"
             ],
             [
              0.1111111111111111,
              "#46039f"
             ],
             [
              0.2222222222222222,
              "#7201a8"
             ],
             [
              0.3333333333333333,
              "#9c179e"
             ],
             [
              0.4444444444444444,
              "#bd3786"
             ],
             [
              0.5555555555555556,
              "#d8576b"
             ],
             [
              0.6666666666666666,
              "#ed7953"
             ],
             [
              0.7777777777777778,
              "#fb9f3a"
             ],
             [
              0.8888888888888888,
              "#fdca26"
             ],
             [
              1,
              "#f0f921"
             ]
            ],
            "type": "heatmap"
           }
          ],
          "heatmapgl": [
           {
            "colorbar": {
             "outlinewidth": 0,
             "ticks": ""
            },
            "colorscale": [
             [
              0,
              "#0d0887"
             ],
             [
              0.1111111111111111,
              "#46039f"
             ],
             [
              0.2222222222222222,
              "#7201a8"
             ],
             [
              0.3333333333333333,
              "#9c179e"
             ],
             [
              0.4444444444444444,
              "#bd3786"
             ],
             [
              0.5555555555555556,
              "#d8576b"
             ],
             [
              0.6666666666666666,
              "#ed7953"
             ],
             [
              0.7777777777777778,
              "#fb9f3a"
             ],
             [
              0.8888888888888888,
              "#fdca26"
             ],
             [
              1,
              "#f0f921"
             ]
            ],
            "type": "heatmapgl"
           }
          ],
          "histogram": [
           {
            "marker": {
             "colorbar": {
              "outlinewidth": 0,
              "ticks": ""
             }
            },
            "type": "histogram"
           }
          ],
          "histogram2d": [
           {
            "colorbar": {
             "outlinewidth": 0,
             "ticks": ""
            },
            "colorscale": [
             [
              0,
              "#0d0887"
             ],
             [
              0.1111111111111111,
              "#46039f"
             ],
             [
              0.2222222222222222,
              "#7201a8"
             ],
             [
              0.3333333333333333,
              "#9c179e"
             ],
             [
              0.4444444444444444,
              "#bd3786"
             ],
             [
              0.5555555555555556,
              "#d8576b"
             ],
             [
              0.6666666666666666,
              "#ed7953"
             ],
             [
              0.7777777777777778,
              "#fb9f3a"
             ],
             [
              0.8888888888888888,
              "#fdca26"
             ],
             [
              1,
              "#f0f921"
             ]
            ],
            "type": "histogram2d"
           }
          ],
          "histogram2dcontour": [
           {
            "colorbar": {
             "outlinewidth": 0,
             "ticks": ""
            },
            "colorscale": [
             [
              0,
              "#0d0887"
             ],
             [
              0.1111111111111111,
              "#46039f"
             ],
             [
              0.2222222222222222,
              "#7201a8"
             ],
             [
              0.3333333333333333,
              "#9c179e"
             ],
             [
              0.4444444444444444,
              "#bd3786"
             ],
             [
              0.5555555555555556,
              "#d8576b"
             ],
             [
              0.6666666666666666,
              "#ed7953"
             ],
             [
              0.7777777777777778,
              "#fb9f3a"
             ],
             [
              0.8888888888888888,
              "#fdca26"
             ],
             [
              1,
              "#f0f921"
             ]
            ],
            "type": "histogram2dcontour"
           }
          ],
          "mesh3d": [
           {
            "colorbar": {
             "outlinewidth": 0,
             "ticks": ""
            },
            "type": "mesh3d"
           }
          ],
          "parcoords": [
           {
            "line": {
             "colorbar": {
              "outlinewidth": 0,
              "ticks": ""
             }
            },
            "type": "parcoords"
           }
          ],
          "pie": [
           {
            "automargin": true,
            "type": "pie"
           }
          ],
          "scatter": [
           {
            "marker": {
             "colorbar": {
              "outlinewidth": 0,
              "ticks": ""
             }
            },
            "type": "scatter"
           }
          ],
          "scatter3d": [
           {
            "line": {
             "colorbar": {
              "outlinewidth": 0,
              "ticks": ""
             }
            },
            "marker": {
             "colorbar": {
              "outlinewidth": 0,
              "ticks": ""
             }
            },
            "type": "scatter3d"
           }
          ],
          "scattercarpet": [
           {
            "marker": {
             "colorbar": {
              "outlinewidth": 0,
              "ticks": ""
             }
            },
            "type": "scattercarpet"
           }
          ],
          "scattergeo": [
           {
            "marker": {
             "colorbar": {
              "outlinewidth": 0,
              "ticks": ""
             }
            },
            "type": "scattergeo"
           }
          ],
          "scattergl": [
           {
            "marker": {
             "colorbar": {
              "outlinewidth": 0,
              "ticks": ""
             }
            },
            "type": "scattergl"
           }
          ],
          "scattermapbox": [
           {
            "marker": {
             "colorbar": {
              "outlinewidth": 0,
              "ticks": ""
             }
            },
            "type": "scattermapbox"
           }
          ],
          "scatterpolar": [
           {
            "marker": {
             "colorbar": {
              "outlinewidth": 0,
              "ticks": ""
             }
            },
            "type": "scatterpolar"
           }
          ],
          "scatterpolargl": [
           {
            "marker": {
             "colorbar": {
              "outlinewidth": 0,
              "ticks": ""
             }
            },
            "type": "scatterpolargl"
           }
          ],
          "scatterternary": [
           {
            "marker": {
             "colorbar": {
              "outlinewidth": 0,
              "ticks": ""
             }
            },
            "type": "scatterternary"
           }
          ],
          "surface": [
           {
            "colorbar": {
             "outlinewidth": 0,
             "ticks": ""
            },
            "colorscale": [
             [
              0,
              "#0d0887"
             ],
             [
              0.1111111111111111,
              "#46039f"
             ],
             [
              0.2222222222222222,
              "#7201a8"
             ],
             [
              0.3333333333333333,
              "#9c179e"
             ],
             [
              0.4444444444444444,
              "#bd3786"
             ],
             [
              0.5555555555555556,
              "#d8576b"
             ],
             [
              0.6666666666666666,
              "#ed7953"
             ],
             [
              0.7777777777777778,
              "#fb9f3a"
             ],
             [
              0.8888888888888888,
              "#fdca26"
             ],
             [
              1,
              "#f0f921"
             ]
            ],
            "type": "surface"
           }
          ],
          "table": [
           {
            "cells": {
             "fill": {
              "color": "#EBF0F8"
             },
             "line": {
              "color": "white"
             }
            },
            "header": {
             "fill": {
              "color": "#C8D4E3"
             },
             "line": {
              "color": "white"
             }
            },
            "type": "table"
           }
          ]
         },
         "layout": {
          "annotationdefaults": {
           "arrowcolor": "#2a3f5f",
           "arrowhead": 0,
           "arrowwidth": 1
          },
          "coloraxis": {
           "colorbar": {
            "outlinewidth": 0,
            "ticks": ""
           }
          },
          "colorscale": {
           "diverging": [
            [
             0,
             "#8e0152"
            ],
            [
             0.1,
             "#c51b7d"
            ],
            [
             0.2,
             "#de77ae"
            ],
            [
             0.3,
             "#f1b6da"
            ],
            [
             0.4,
             "#fde0ef"
            ],
            [
             0.5,
             "#f7f7f7"
            ],
            [
             0.6,
             "#e6f5d0"
            ],
            [
             0.7,
             "#b8e186"
            ],
            [
             0.8,
             "#7fbc41"
            ],
            [
             0.9,
             "#4d9221"
            ],
            [
             1,
             "#276419"
            ]
           ],
           "sequential": [
            [
             0,
             "#0d0887"
            ],
            [
             0.1111111111111111,
             "#46039f"
            ],
            [
             0.2222222222222222,
             "#7201a8"
            ],
            [
             0.3333333333333333,
             "#9c179e"
            ],
            [
             0.4444444444444444,
             "#bd3786"
            ],
            [
             0.5555555555555556,
             "#d8576b"
            ],
            [
             0.6666666666666666,
             "#ed7953"
            ],
            [
             0.7777777777777778,
             "#fb9f3a"
            ],
            [
             0.8888888888888888,
             "#fdca26"
            ],
            [
             1,
             "#f0f921"
            ]
           ],
           "sequentialminus": [
            [
             0,
             "#0d0887"
            ],
            [
             0.1111111111111111,
             "#46039f"
            ],
            [
             0.2222222222222222,
             "#7201a8"
            ],
            [
             0.3333333333333333,
             "#9c179e"
            ],
            [
             0.4444444444444444,
             "#bd3786"
            ],
            [
             0.5555555555555556,
             "#d8576b"
            ],
            [
             0.6666666666666666,
             "#ed7953"
            ],
            [
             0.7777777777777778,
             "#fb9f3a"
            ],
            [
             0.8888888888888888,
             "#fdca26"
            ],
            [
             1,
             "#f0f921"
            ]
           ]
          },
          "colorway": [
           "#636efa",
           "#EF553B",
           "#00cc96",
           "#ab63fa",
           "#FFA15A",
           "#19d3f3",
           "#FF6692",
           "#B6E880",
           "#FF97FF",
           "#FECB52"
          ],
          "font": {
           "color": "#2a3f5f"
          },
          "geo": {
           "bgcolor": "white",
           "lakecolor": "white",
           "landcolor": "#E5ECF6",
           "showlakes": true,
           "showland": true,
           "subunitcolor": "white"
          },
          "hoverlabel": {
           "align": "left"
          },
          "hovermode": "closest",
          "mapbox": {
           "style": "light"
          },
          "paper_bgcolor": "white",
          "plot_bgcolor": "#E5ECF6",
          "polar": {
           "angularaxis": {
            "gridcolor": "white",
            "linecolor": "white",
            "ticks": ""
           },
           "bgcolor": "#E5ECF6",
           "radialaxis": {
            "gridcolor": "white",
            "linecolor": "white",
            "ticks": ""
           }
          },
          "scene": {
           "xaxis": {
            "backgroundcolor": "#E5ECF6",
            "gridcolor": "white",
            "gridwidth": 2,
            "linecolor": "white",
            "showbackground": true,
            "ticks": "",
            "zerolinecolor": "white"
           },
           "yaxis": {
            "backgroundcolor": "#E5ECF6",
            "gridcolor": "white",
            "gridwidth": 2,
            "linecolor": "white",
            "showbackground": true,
            "ticks": "",
            "zerolinecolor": "white"
           },
           "zaxis": {
            "backgroundcolor": "#E5ECF6",
            "gridcolor": "white",
            "gridwidth": 2,
            "linecolor": "white",
            "showbackground": true,
            "ticks": "",
            "zerolinecolor": "white"
           }
          },
          "shapedefaults": {
           "line": {
            "color": "#2a3f5f"
           }
          },
          "ternary": {
           "aaxis": {
            "gridcolor": "white",
            "linecolor": "white",
            "ticks": ""
           },
           "baxis": {
            "gridcolor": "white",
            "linecolor": "white",
            "ticks": ""
           },
           "bgcolor": "#E5ECF6",
           "caxis": {
            "gridcolor": "white",
            "linecolor": "white",
            "ticks": ""
           }
          },
          "title": {
           "x": 0.05
          },
          "xaxis": {
           "automargin": true,
           "gridcolor": "white",
           "linecolor": "white",
           "ticks": "",
           "title": {
            "standoff": 15
           },
           "zerolinecolor": "white",
           "zerolinewidth": 2
          },
          "yaxis": {
           "automargin": true,
           "gridcolor": "white",
           "linecolor": "white",
           "ticks": "",
           "title": {
            "standoff": 15
           },
           "zerolinecolor": "white",
           "zerolinewidth": 2
          }
         }
        },
        "title": {
         "font": {
          "color": "#4D5663"
         }
        },
        "xaxis": {
         "gridcolor": "#E1E5ED",
         "showgrid": true,
         "tickfont": {
          "color": "#4D5663"
         },
         "title": {
          "font": {
           "color": "#4D5663"
          },
          "text": ""
         },
         "zerolinecolor": "#E1E5ED"
        },
        "yaxis": {
         "gridcolor": "#E1E5ED",
         "showgrid": true,
         "tickfont": {
          "color": "#4D5663"
         },
         "title": {
          "font": {
           "color": "#4D5663"
          },
          "text": ""
         },
         "zerolinecolor": "#E1E5ED"
        }
       }
      },
      "text/html": [
       "<div>\n",
       "        \n",
       "        \n",
       "            <div id=\"2035135a-00a6-4c92-b3b1-9c9056668557\" class=\"plotly-graph-div\" style=\"height:525px; width:100%;\"></div>\n",
       "            <script type=\"text/javascript\">\n",
       "                require([\"plotly\"], function(Plotly) {\n",
       "                    window.PLOTLYENV=window.PLOTLYENV || {};\n",
       "                    window.PLOTLYENV.BASE_URL='https://plot.ly';\n",
       "                    \n",
       "                if (document.getElementById(\"2035135a-00a6-4c92-b3b1-9c9056668557\")) {\n",
       "                    Plotly.newPlot(\n",
       "                        '2035135a-00a6-4c92-b3b1-9c9056668557',\n",
       "                        [{\"marker\": {\"color\": \"rgba(255, 153, 51, 0.6)\", \"line\": {\"color\": \"rgba(255, 153, 51, 1.0)\", \"width\": 1}}, \"name\": \"A\", \"orientation\": \"v\", \"text\": \"\", \"type\": \"bar\", \"x\": [0, 1, 2, 3, 4, 5, 6, 7, 8, 9, 10, 11, 12, 13, 14, 15, 16, 17, 18, 19, 20, 21, 22, 23, 24, 25, 26, 27, 28, 29, 30, 31, 32, 33, 34, 35, 36, 37, 38, 39, 40, 41, 42, 43, 44, 45, 46, 47, 48, 49, 50, 51, 52, 53, 54, 55, 56, 57, 58, 59, 60, 61, 62, 63, 64, 65, 66, 67, 68, 69, 70, 71, 72, 73, 74, 75, 76, 77, 78, 79, 80, 81, 82, 83, 84, 85, 86, 87, 88, 89, 90, 91, 92, 93, 94, 95, 96, 97, 98, 99], \"y\": [-0.5009543608026148, -0.4204615151389094, -0.49553283935936165, 0.7657304693445539, -0.07847397916945117, 0.6700761884302777, 1.6148887957746296, -0.14346731599489548, -0.2665864011088299, 1.5203733905118066, -1.6225831980015681, -0.0010036338978958532, -0.20764556384936733, 1.2211140213435423, 0.7616648705923982, 0.8511236141237207, -0.11514925363568562, -0.20936138521130568, -0.23694314875636666, -1.41396658714284, -0.7197209408930788, -0.21986205769332937, 1.0281717480256272, -0.34491294269628503, 1.8387982177216249, 1.7454245898531036, 0.40475695887285834, 0.38445221563913434, 0.09096690376723829, -0.5452474872683721, 0.36883064898417145, 0.471064900436615, 0.08943939927300605, -0.04711988398954826, -0.377726634293231, 0.7896939082042002, 0.2834844224400587, -0.3712372134953554, -0.8239234838514105, -0.24380479792713633, 0.8021227623642619, 0.8595077643277932, -0.89133910900524, -0.08704741110358603, 1.1154306476276132, -0.8232991534045231, 0.03951476468379789, -0.5897579157424271, 0.48638772034887495, -0.23689141912829995, -0.849875469508366, 1.2033244290804135, -0.9707942664404414, 0.5345692965058876, 0.24185563713696623, -1.2480718435113924, -1.9764817321890251, 0.17398462490394964, -0.2958648071038704, -0.9073789839128634, -0.320061959697221, -1.2894563780049575, 0.8162202543091142, 0.7279819747659728, 0.5016314636811545, -1.6350473403411654, 1.112226070703627, -1.3798198056686024, 0.03712506450794439, 0.8725646848428592, -0.062491031397570555, -1.283446523292469, 0.8042769164891135, -1.2878267604909532, -2.4243449762842935, 1.455471611236058, 0.4262483065173007, -1.1011863485263866, 0.36393070625865315, -0.3828540123202687, 0.07374167084754127, -1.3446917941460133, -0.07602512088167016, 2.131579084083562, 0.8633118511617681, 0.9567443066299663, -0.35082901706021047, 0.5353353137007961, -0.06072553628984715, 0.4216056690056466, 1.8201523623294387, -1.4207116091443348, -0.24445402467878669, 1.0790482734281726, -0.301775352771489, -0.463830499688751, -0.48449348616253807, -0.8952937264879816, -0.17464315190589047, -1.5690068772777155]}, {\"marker\": {\"color\": \"rgba(55, 128, 191, 0.6)\", \"line\": {\"color\": \"rgba(55, 128, 191, 1.0)\", \"width\": 1}}, \"name\": \"B\", \"orientation\": \"v\", \"text\": \"\", \"type\": \"bar\", \"x\": [0, 1, 2, 3, 4, 5, 6, 7, 8, 9, 10, 11, 12, 13, 14, 15, 16, 17, 18, 19, 20, 21, 22, 23, 24, 25, 26, 27, 28, 29, 30, 31, 32, 33, 34, 35, 36, 37, 38, 39, 40, 41, 42, 43, 44, 45, 46, 47, 48, 49, 50, 51, 52, 53, 54, 55, 56, 57, 58, 59, 60, 61, 62, 63, 64, 65, 66, 67, 68, 69, 70, 71, 72, 73, 74, 75, 76, 77, 78, 79, 80, 81, 82, 83, 84, 85, 86, 87, 88, 89, 90, 91, 92, 93, 94, 95, 96, 97, 98, 99], \"y\": [0.4647073083742839, -0.05638983549159592, 0.8211639860066423, -0.5302111813539075, -0.026095626254060273, 0.934819749012539, -0.06881896608775859, 0.7431747218014507, -0.6634138417015264, -0.6407659494255311, -2.0830026972903197, 1.8045522880146014, 1.037149625547556, 0.3248740795752661, 0.16422555997258756, -0.04448673216754261, -1.1666989664863299, -0.34489031820823246, 0.023191019187505314, -1.130997876996157, 0.6537048033347655, -2.008977265519097, 2.1187636059019828, -0.14720374779769907, -0.4119883895674882, -0.01889786289040426, -0.5408825560442116, 0.6532664735645086, 0.3019048417424934, 1.6458305129952842, 0.6030209295808521, -0.3623998992628467, -1.354212000595378, -1.172657051102667, -0.1769801146101835, 2.2055905103394196, 0.2760796035999615, -1.7813429624595076, 0.7750526626200264, -0.5805198523009042, -1.0618189104978328, 0.18946634999859532, 0.381459586503324, -0.9242275271954474, -0.5628414484788141, -0.8638503681130342, -0.12409497161196388, 1.0458509752935239, -0.695096587506082, 1.2734349572542032, 0.24242678837999837, -0.5467390258304995, -0.6363370209478098, 2.013175801488738, 0.7725826019693162, -0.3915999325975337, -0.21384985463778458, 1.4732988178499873, -1.946677160191751, 0.40084042312757945, 1.3366011084629332, -0.3613636341442311, 0.5298250484301542, 1.4558635024058049, -0.6318727492567257, -0.8227985700773811, -0.5377019717823004, -1.7902939476280129, -0.26846879662803125, 1.465181281886347, 2.3219711044551956, 0.9250989703211202, 0.8916825245438201, -1.1517637591562595, -0.19150262412323274, 1.4792770255841388, 1.6861949140510182, 0.4512015631832032, 0.1485498153576192, 0.7032594474993233, 1.398402958112115, -0.0031789942556199823, -0.6032519124226736, 0.9550811638193741, 1.737666005127905, 1.060053557429989, 1.2895208947773007, -1.1953320328355028, 1.782261738784618, 1.9306290169917022, -0.7425207838161446, -0.9754342092359741, 0.9982550336125903, 0.04387350789025311, -0.6029540220032642, -0.3176203472281875, 1.3016837317080092, 1.319139155169162, 0.60300051445889, -0.4734361308297189]}, {\"marker\": {\"color\": \"rgba(50, 171, 96, 0.6)\", \"line\": {\"color\": \"rgba(50, 171, 96, 1.0)\", \"width\": 1}}, \"name\": \"C\", \"orientation\": \"v\", \"text\": \"\", \"type\": \"bar\", \"x\": [0, 1, 2, 3, 4, 5, 6, 7, 8, 9, 10, 11, 12, 13, 14, 15, 16, 17, 18, 19, 20, 21, 22, 23, 24, 25, 26, 27, 28, 29, 30, 31, 32, 33, 34, 35, 36, 37, 38, 39, 40, 41, 42, 43, 44, 45, 46, 47, 48, 49, 50, 51, 52, 53, 54, 55, 56, 57, 58, 59, 60, 61, 62, 63, 64, 65, 66, 67, 68, 69, 70, 71, 72, 73, 74, 75, 76, 77, 78, 79, 80, 81, 82, 83, 84, 85, 86, 87, 88, 89, 90, 91, 92, 93, 94, 95, 96, 97, 98, 99], \"y\": [-0.40315973833766044, -1.360054681543459, 0.7106343682785928, -0.9177669533408417, 0.06883949789015524, 0.01696296847514918, -0.44393478997380553, -0.7198535392505376, -0.7875483593999346, 1.9155416094569315, 0.6583623881679307, 0.5376709735739473, 1.0405012466708365, -0.23171979820644356, -0.3744126532426237, -1.1618515687799378, -1.3964253535908646, 0.5769970040773327, -1.0835044014698794, 0.5747678743329491, -0.11827539408021497, 0.2151484932585146, 0.08078309448514429, -2.037047352546062, -1.390219773530132, 0.09167606324494677, -0.7235507708580192, -0.5405884558003439, -1.2811560263191193, -0.4543060750192719, -1.1165034510234548, 0.3000613728191319, -0.05289080065345519, 0.362704088345904, -0.9680892848574593, 0.6680708701581071, -0.8231344948245031, 0.715348855171547, 0.5650247434328161, -0.5773761355342275, -0.9286783479833696, 0.7776532703274646, -0.12317469719040205, -1.1513332111873045, 0.5063978291626221, -0.8742393811420719, 1.9156488862245638, -1.0865525250496144, 0.44206782103104286, 0.9026685461629094, 2.895994875542977, 1.1285450455156265, 1.1841356567838248, 0.19876360513024213, 1.4886716994001934, -0.3327270700698986, -0.5621700345151495, -0.5847259828949196, -1.2846401342555829, -0.6016000623194985, -0.09861791991283785, 1.1816530601740363, -0.6908357948875438, 0.3171310416057197, 0.7552121889991846, -2.3888071483371647, -1.1485383178467785, 0.5897185443197643, -0.36845595698948597, -0.5717563197990444, -0.14214523110978153, 0.0004170052383094638, -0.18461428501604366, -0.1052252881648122, -0.8292749236373992, -0.08997556334434115, 1.2644372314371435, 2.0832196408139105, 0.38676730762963063, 1.4060141059133717, -1.3360038713603481, 0.34749778659436176, -0.33806765343092926, 1.4157584416445, -0.7594413490741586, -1.762295996654411, 0.5617175196967619, 1.7970365337189476, -1.0303904420141936, -0.9645790425198174, 0.9914171618392057, -0.10285713286924551, -0.8135392007267539, 0.7187908001826215, -0.09528272118315335, -0.6296134228433697, -0.4152341746240974, 0.4321855310892845, 0.7934990376332662, -0.4736302553853124]}, {\"marker\": {\"color\": \"rgba(128, 0, 128, 0.6)\", \"line\": {\"color\": \"rgba(128, 0, 128, 1.0)\", \"width\": 1}}, \"name\": \"D\", \"orientation\": \"v\", \"text\": \"\", \"type\": \"bar\", \"x\": [0, 1, 2, 3, 4, 5, 6, 7, 8, 9, 10, 11, 12, 13, 14, 15, 16, 17, 18, 19, 20, 21, 22, 23, 24, 25, 26, 27, 28, 29, 30, 31, 32, 33, 34, 35, 36, 37, 38, 39, 40, 41, 42, 43, 44, 45, 46, 47, 48, 49, 50, 51, 52, 53, 54, 55, 56, 57, 58, 59, 60, 61, 62, 63, 64, 65, 66, 67, 68, 69, 70, 71, 72, 73, 74, 75, 76, 77, 78, 79, 80, 81, 82, 83, 84, 85, 86, 87, 88, 89, 90, 91, 92, 93, 94, 95, 96, 97, 98, 99], \"y\": [0.7289264925102457, 0.6912077819830305, 0.8188163578461918, -0.30005691761790504, -1.4017653130971819, 0.7418167945956171, -1.3072947407549396, 0.5238505847258861, -0.5815439940403195, -0.8792388115836571, -1.033454430129768, 0.7403640958737788, -1.0588129764174565, -0.7771680087119067, -1.6617547956883958, -1.5914907424879152, -1.0160879667124922, 1.2678132647838818, -0.16793391008686473, 1.0101429611574362, 1.8032134050852269, -0.8999362203146547, -0.8539426072478293, -0.8009195843748494, -0.3664154121540123, -0.6107229900880933, -0.3350158000287844, 0.38272189449206223, -1.851550337554075, 1.2840629959739345, -0.8612530460386267, 1.000086231202697, -1.3419411720416599, -1.0589510959940858, 1.3923268650795624, -0.11210822226961702, -0.5842141681440038, -0.029178560040188175, -0.47118804612841253, 0.24960142722219547, 1.1707027090074467, -0.5605349045267657, -0.5611008894719185, 1.5079015447793083, -0.7149551059987138, 0.1438353136292474, 0.8265123257903583, -0.023327793020397707, -0.6879816871193085, -0.19529967496198097, -0.30628224009133753, -0.8297173264276736, 0.8345054934481003, 0.5792416853511556, 1.5935219415190103, -1.4883411834823808, 0.7293186817888184, 0.355228253069335, -1.3171366027193092, -0.056434275320834004, -0.5948376052025565, 0.5778833712404194, 0.4722524495743788, -0.23223626436639552, 0.4902558443320463, 1.2950182054810377, -1.7760625858810606, -0.6227729304429062, -0.5991623946916326, -0.4982592912885508, -1.49314260325824, 0.9396270239918765, 0.6009626436464006, 1.3100598156970285, -0.07742400265272653, -0.2243421864407254, 0.1739583018508991, -0.5440884129977694, -0.905632736795812, -0.8238665725545118, 0.3257163950575212, -1.353642736504197, 0.1249865569350151, 1.1471228394269801, 0.01849814702931045, 1.7175961052390785, 0.580982847441958, 0.3738800828849592, 0.22981324840051287, 0.09748587227584486, 0.6838294695060558, -1.1805057378264823, 0.295612020998169, 0.815165130870034, -0.9725072594716221, 2.529538533955411, 0.5554954891446603, 0.61415886993306, 0.14864075840154758, 0.31334340852487175]}],\n",
       "                        {\"legend\": {\"bgcolor\": \"#F5F6F9\", \"font\": {\"color\": \"#4D5663\"}}, \"paper_bgcolor\": \"#F5F6F9\", \"plot_bgcolor\": \"#F5F6F9\", \"template\": {\"data\": {\"bar\": [{\"error_x\": {\"color\": \"#2a3f5f\"}, \"error_y\": {\"color\": \"#2a3f5f\"}, \"marker\": {\"line\": {\"color\": \"#E5ECF6\", \"width\": 0.5}}, \"type\": \"bar\"}], \"barpolar\": [{\"marker\": {\"line\": {\"color\": \"#E5ECF6\", \"width\": 0.5}}, \"type\": \"barpolar\"}], \"carpet\": [{\"aaxis\": {\"endlinecolor\": \"#2a3f5f\", \"gridcolor\": \"white\", \"linecolor\": \"white\", \"minorgridcolor\": \"white\", \"startlinecolor\": \"#2a3f5f\"}, \"baxis\": {\"endlinecolor\": \"#2a3f5f\", \"gridcolor\": \"white\", \"linecolor\": \"white\", \"minorgridcolor\": \"white\", \"startlinecolor\": \"#2a3f5f\"}, \"type\": \"carpet\"}], \"choropleth\": [{\"colorbar\": {\"outlinewidth\": 0, \"ticks\": \"\"}, \"type\": \"choropleth\"}], \"contour\": [{\"colorbar\": {\"outlinewidth\": 0, \"ticks\": \"\"}, \"colorscale\": [[0.0, \"#0d0887\"], [0.1111111111111111, \"#46039f\"], [0.2222222222222222, \"#7201a8\"], [0.3333333333333333, \"#9c179e\"], [0.4444444444444444, \"#bd3786\"], [0.5555555555555556, \"#d8576b\"], [0.6666666666666666, \"#ed7953\"], [0.7777777777777778, \"#fb9f3a\"], [0.8888888888888888, \"#fdca26\"], [1.0, \"#f0f921\"]], \"type\": \"contour\"}], \"contourcarpet\": [{\"colorbar\": {\"outlinewidth\": 0, \"ticks\": \"\"}, \"type\": \"contourcarpet\"}], \"heatmap\": [{\"colorbar\": {\"outlinewidth\": 0, \"ticks\": \"\"}, \"colorscale\": [[0.0, \"#0d0887\"], [0.1111111111111111, \"#46039f\"], [0.2222222222222222, \"#7201a8\"], [0.3333333333333333, \"#9c179e\"], [0.4444444444444444, \"#bd3786\"], [0.5555555555555556, \"#d8576b\"], [0.6666666666666666, \"#ed7953\"], [0.7777777777777778, \"#fb9f3a\"], [0.8888888888888888, \"#fdca26\"], [1.0, \"#f0f921\"]], \"type\": \"heatmap\"}], \"heatmapgl\": [{\"colorbar\": {\"outlinewidth\": 0, \"ticks\": \"\"}, \"colorscale\": [[0.0, \"#0d0887\"], [0.1111111111111111, \"#46039f\"], [0.2222222222222222, \"#7201a8\"], [0.3333333333333333, \"#9c179e\"], [0.4444444444444444, \"#bd3786\"], [0.5555555555555556, \"#d8576b\"], [0.6666666666666666, \"#ed7953\"], [0.7777777777777778, \"#fb9f3a\"], [0.8888888888888888, \"#fdca26\"], [1.0, \"#f0f921\"]], \"type\": \"heatmapgl\"}], \"histogram\": [{\"marker\": {\"colorbar\": {\"outlinewidth\": 0, \"ticks\": \"\"}}, \"type\": \"histogram\"}], \"histogram2d\": [{\"colorbar\": {\"outlinewidth\": 0, \"ticks\": \"\"}, \"colorscale\": [[0.0, \"#0d0887\"], [0.1111111111111111, \"#46039f\"], [0.2222222222222222, \"#7201a8\"], [0.3333333333333333, \"#9c179e\"], [0.4444444444444444, \"#bd3786\"], [0.5555555555555556, \"#d8576b\"], [0.6666666666666666, \"#ed7953\"], [0.7777777777777778, \"#fb9f3a\"], [0.8888888888888888, \"#fdca26\"], [1.0, \"#f0f921\"]], \"type\": \"histogram2d\"}], \"histogram2dcontour\": [{\"colorbar\": {\"outlinewidth\": 0, \"ticks\": \"\"}, \"colorscale\": [[0.0, \"#0d0887\"], [0.1111111111111111, \"#46039f\"], [0.2222222222222222, \"#7201a8\"], [0.3333333333333333, \"#9c179e\"], [0.4444444444444444, \"#bd3786\"], [0.5555555555555556, \"#d8576b\"], [0.6666666666666666, \"#ed7953\"], [0.7777777777777778, \"#fb9f3a\"], [0.8888888888888888, \"#fdca26\"], [1.0, \"#f0f921\"]], \"type\": \"histogram2dcontour\"}], \"mesh3d\": [{\"colorbar\": {\"outlinewidth\": 0, \"ticks\": \"\"}, \"type\": \"mesh3d\"}], \"parcoords\": [{\"line\": {\"colorbar\": {\"outlinewidth\": 0, \"ticks\": \"\"}}, \"type\": \"parcoords\"}], \"pie\": [{\"automargin\": true, \"type\": \"pie\"}], \"scatter\": [{\"marker\": {\"colorbar\": {\"outlinewidth\": 0, \"ticks\": \"\"}}, \"type\": \"scatter\"}], \"scatter3d\": [{\"line\": {\"colorbar\": {\"outlinewidth\": 0, \"ticks\": \"\"}}, \"marker\": {\"colorbar\": {\"outlinewidth\": 0, \"ticks\": \"\"}}, \"type\": \"scatter3d\"}], \"scattercarpet\": [{\"marker\": {\"colorbar\": {\"outlinewidth\": 0, \"ticks\": \"\"}}, \"type\": \"scattercarpet\"}], \"scattergeo\": [{\"marker\": {\"colorbar\": {\"outlinewidth\": 0, \"ticks\": \"\"}}, \"type\": \"scattergeo\"}], \"scattergl\": [{\"marker\": {\"colorbar\": {\"outlinewidth\": 0, \"ticks\": \"\"}}, \"type\": \"scattergl\"}], \"scattermapbox\": [{\"marker\": {\"colorbar\": {\"outlinewidth\": 0, \"ticks\": \"\"}}, \"type\": \"scattermapbox\"}], \"scatterpolar\": [{\"marker\": {\"colorbar\": {\"outlinewidth\": 0, \"ticks\": \"\"}}, \"type\": \"scatterpolar\"}], \"scatterpolargl\": [{\"marker\": {\"colorbar\": {\"outlinewidth\": 0, \"ticks\": \"\"}}, \"type\": \"scatterpolargl\"}], \"scatterternary\": [{\"marker\": {\"colorbar\": {\"outlinewidth\": 0, \"ticks\": \"\"}}, \"type\": \"scatterternary\"}], \"surface\": [{\"colorbar\": {\"outlinewidth\": 0, \"ticks\": \"\"}, \"colorscale\": [[0.0, \"#0d0887\"], [0.1111111111111111, \"#46039f\"], [0.2222222222222222, \"#7201a8\"], [0.3333333333333333, \"#9c179e\"], [0.4444444444444444, \"#bd3786\"], [0.5555555555555556, \"#d8576b\"], [0.6666666666666666, \"#ed7953\"], [0.7777777777777778, \"#fb9f3a\"], [0.8888888888888888, \"#fdca26\"], [1.0, \"#f0f921\"]], \"type\": \"surface\"}], \"table\": [{\"cells\": {\"fill\": {\"color\": \"#EBF0F8\"}, \"line\": {\"color\": \"white\"}}, \"header\": {\"fill\": {\"color\": \"#C8D4E3\"}, \"line\": {\"color\": \"white\"}}, \"type\": \"table\"}]}, \"layout\": {\"annotationdefaults\": {\"arrowcolor\": \"#2a3f5f\", \"arrowhead\": 0, \"arrowwidth\": 1}, \"coloraxis\": {\"colorbar\": {\"outlinewidth\": 0, \"ticks\": \"\"}}, \"colorscale\": {\"diverging\": [[0, \"#8e0152\"], [0.1, \"#c51b7d\"], [0.2, \"#de77ae\"], [0.3, \"#f1b6da\"], [0.4, \"#fde0ef\"], [0.5, \"#f7f7f7\"], [0.6, \"#e6f5d0\"], [0.7, \"#b8e186\"], [0.8, \"#7fbc41\"], [0.9, \"#4d9221\"], [1, \"#276419\"]], \"sequential\": [[0.0, \"#0d0887\"], [0.1111111111111111, \"#46039f\"], [0.2222222222222222, \"#7201a8\"], [0.3333333333333333, \"#9c179e\"], [0.4444444444444444, \"#bd3786\"], [0.5555555555555556, \"#d8576b\"], [0.6666666666666666, \"#ed7953\"], [0.7777777777777778, \"#fb9f3a\"], [0.8888888888888888, \"#fdca26\"], [1.0, \"#f0f921\"]], \"sequentialminus\": [[0.0, \"#0d0887\"], [0.1111111111111111, \"#46039f\"], [0.2222222222222222, \"#7201a8\"], [0.3333333333333333, \"#9c179e\"], [0.4444444444444444, \"#bd3786\"], [0.5555555555555556, \"#d8576b\"], [0.6666666666666666, \"#ed7953\"], [0.7777777777777778, \"#fb9f3a\"], [0.8888888888888888, \"#fdca26\"], [1.0, \"#f0f921\"]]}, \"colorway\": [\"#636efa\", \"#EF553B\", \"#00cc96\", \"#ab63fa\", \"#FFA15A\", \"#19d3f3\", \"#FF6692\", \"#B6E880\", \"#FF97FF\", \"#FECB52\"], \"font\": {\"color\": \"#2a3f5f\"}, \"geo\": {\"bgcolor\": \"white\", \"lakecolor\": \"white\", \"landcolor\": \"#E5ECF6\", \"showlakes\": true, \"showland\": true, \"subunitcolor\": \"white\"}, \"hoverlabel\": {\"align\": \"left\"}, \"hovermode\": \"closest\", \"mapbox\": {\"style\": \"light\"}, \"paper_bgcolor\": \"white\", \"plot_bgcolor\": \"#E5ECF6\", \"polar\": {\"angularaxis\": {\"gridcolor\": \"white\", \"linecolor\": \"white\", \"ticks\": \"\"}, \"bgcolor\": \"#E5ECF6\", \"radialaxis\": {\"gridcolor\": \"white\", \"linecolor\": \"white\", \"ticks\": \"\"}}, \"scene\": {\"xaxis\": {\"backgroundcolor\": \"#E5ECF6\", \"gridcolor\": \"white\", \"gridwidth\": 2, \"linecolor\": \"white\", \"showbackground\": true, \"ticks\": \"\", \"zerolinecolor\": \"white\"}, \"yaxis\": {\"backgroundcolor\": \"#E5ECF6\", \"gridcolor\": \"white\", \"gridwidth\": 2, \"linecolor\": \"white\", \"showbackground\": true, \"ticks\": \"\", \"zerolinecolor\": \"white\"}, \"zaxis\": {\"backgroundcolor\": \"#E5ECF6\", \"gridcolor\": \"white\", \"gridwidth\": 2, \"linecolor\": \"white\", \"showbackground\": true, \"ticks\": \"\", \"zerolinecolor\": \"white\"}}, \"shapedefaults\": {\"line\": {\"color\": \"#2a3f5f\"}}, \"ternary\": {\"aaxis\": {\"gridcolor\": \"white\", \"linecolor\": \"white\", \"ticks\": \"\"}, \"baxis\": {\"gridcolor\": \"white\", \"linecolor\": \"white\", \"ticks\": \"\"}, \"bgcolor\": \"#E5ECF6\", \"caxis\": {\"gridcolor\": \"white\", \"linecolor\": \"white\", \"ticks\": \"\"}}, \"title\": {\"x\": 0.05}, \"xaxis\": {\"automargin\": true, \"gridcolor\": \"white\", \"linecolor\": \"white\", \"ticks\": \"\", \"title\": {\"standoff\": 15}, \"zerolinecolor\": \"white\", \"zerolinewidth\": 2}, \"yaxis\": {\"automargin\": true, \"gridcolor\": \"white\", \"linecolor\": \"white\", \"ticks\": \"\", \"title\": {\"standoff\": 15}, \"zerolinecolor\": \"white\", \"zerolinewidth\": 2}}}, \"title\": {\"font\": {\"color\": \"#4D5663\"}}, \"xaxis\": {\"gridcolor\": \"#E1E5ED\", \"showgrid\": true, \"tickfont\": {\"color\": \"#4D5663\"}, \"title\": {\"font\": {\"color\": \"#4D5663\"}, \"text\": \"\"}, \"zerolinecolor\": \"#E1E5ED\"}, \"yaxis\": {\"gridcolor\": \"#E1E5ED\", \"showgrid\": true, \"tickfont\": {\"color\": \"#4D5663\"}, \"title\": {\"font\": {\"color\": \"#4D5663\"}, \"text\": \"\"}, \"zerolinecolor\": \"#E1E5ED\"}},\n",
       "                        {\"showLink\": true, \"linkText\": \"Export to plot.ly\", \"plotlyServerURL\": \"https://plot.ly\", \"responsive\": true}\n",
       "                    ).then(function(){\n",
       "                            \n",
       "var gd = document.getElementById('2035135a-00a6-4c92-b3b1-9c9056668557');\n",
       "var x = new MutationObserver(function (mutations, observer) {{\n",
       "        var display = window.getComputedStyle(gd).display;\n",
       "        if (!display || display === 'none') {{\n",
       "            console.log([gd, 'removed!']);\n",
       "            Plotly.purge(gd);\n",
       "            observer.disconnect();\n",
       "        }}\n",
       "}});\n",
       "\n",
       "// Listen for the removal of the full notebook cells\n",
       "var notebookContainer = gd.closest('#notebook-container');\n",
       "if (notebookContainer) {{\n",
       "    x.observe(notebookContainer, {childList: true});\n",
       "}}\n",
       "\n",
       "// Listen for the clearing of the current output cell\n",
       "var outputEl = gd.closest('.output');\n",
       "if (outputEl) {{\n",
       "    x.observe(outputEl, {childList: true});\n",
       "}}\n",
       "\n",
       "                        })\n",
       "                };\n",
       "                });\n",
       "            </script>\n",
       "        </div>"
      ]
     },
     "metadata": {},
     "output_type": "display_data"
    }
   ],
   "source": [
    "df.iplot(kind='bar') # this isnt what we want, so we need to agg or group by"
   ]
  },
  {
   "cell_type": "code",
   "execution_count": 37,
   "metadata": {},
   "outputs": [
    {
     "data": {
      "application/vnd.plotly.v1+json": {
       "config": {
        "linkText": "Export to plot.ly",
        "plotlyServerURL": "https://plot.ly",
        "showLink": true
       },
       "data": [
        {
         "marker": {
          "color": "rgba(255, 153, 51, 0.6)",
          "line": {
           "color": "rgba(255, 153, 51, 1.0)",
           "width": 1
          }
         },
         "name": "None",
         "orientation": "v",
         "text": "",
         "type": "bar",
         "x": [
          "A",
          "B",
          "C",
          "D"
         ],
         "y": [
          100,
          100,
          100,
          100
         ]
        }
       ],
       "layout": {
        "legend": {
         "bgcolor": "#F5F6F9",
         "font": {
          "color": "#4D5663"
         }
        },
        "paper_bgcolor": "#F5F6F9",
        "plot_bgcolor": "#F5F6F9",
        "template": {
         "data": {
          "bar": [
           {
            "error_x": {
             "color": "#2a3f5f"
            },
            "error_y": {
             "color": "#2a3f5f"
            },
            "marker": {
             "line": {
              "color": "#E5ECF6",
              "width": 0.5
             }
            },
            "type": "bar"
           }
          ],
          "barpolar": [
           {
            "marker": {
             "line": {
              "color": "#E5ECF6",
              "width": 0.5
             }
            },
            "type": "barpolar"
           }
          ],
          "carpet": [
           {
            "aaxis": {
             "endlinecolor": "#2a3f5f",
             "gridcolor": "white",
             "linecolor": "white",
             "minorgridcolor": "white",
             "startlinecolor": "#2a3f5f"
            },
            "baxis": {
             "endlinecolor": "#2a3f5f",
             "gridcolor": "white",
             "linecolor": "white",
             "minorgridcolor": "white",
             "startlinecolor": "#2a3f5f"
            },
            "type": "carpet"
           }
          ],
          "choropleth": [
           {
            "colorbar": {
             "outlinewidth": 0,
             "ticks": ""
            },
            "type": "choropleth"
           }
          ],
          "contour": [
           {
            "colorbar": {
             "outlinewidth": 0,
             "ticks": ""
            },
            "colorscale": [
             [
              0,
              "#0d0887"
             ],
             [
              0.1111111111111111,
              "#46039f"
             ],
             [
              0.2222222222222222,
              "#7201a8"
             ],
             [
              0.3333333333333333,
              "#9c179e"
             ],
             [
              0.4444444444444444,
              "#bd3786"
             ],
             [
              0.5555555555555556,
              "#d8576b"
             ],
             [
              0.6666666666666666,
              "#ed7953"
             ],
             [
              0.7777777777777778,
              "#fb9f3a"
             ],
             [
              0.8888888888888888,
              "#fdca26"
             ],
             [
              1,
              "#f0f921"
             ]
            ],
            "type": "contour"
           }
          ],
          "contourcarpet": [
           {
            "colorbar": {
             "outlinewidth": 0,
             "ticks": ""
            },
            "type": "contourcarpet"
           }
          ],
          "heatmap": [
           {
            "colorbar": {
             "outlinewidth": 0,
             "ticks": ""
            },
            "colorscale": [
             [
              0,
              "#0d0887"
             ],
             [
              0.1111111111111111,
              "#46039f"
             ],
             [
              0.2222222222222222,
              "#7201a8"
             ],
             [
              0.3333333333333333,
              "#9c179e"
             ],
             [
              0.4444444444444444,
              "#bd3786"
             ],
             [
              0.5555555555555556,
              "#d8576b"
             ],
             [
              0.6666666666666666,
              "#ed7953"
             ],
             [
              0.7777777777777778,
              "#fb9f3a"
             ],
             [
              0.8888888888888888,
              "#fdca26"
             ],
             [
              1,
              "#f0f921"
             ]
            ],
            "type": "heatmap"
           }
          ],
          "heatmapgl": [
           {
            "colorbar": {
             "outlinewidth": 0,
             "ticks": ""
            },
            "colorscale": [
             [
              0,
              "#0d0887"
             ],
             [
              0.1111111111111111,
              "#46039f"
             ],
             [
              0.2222222222222222,
              "#7201a8"
             ],
             [
              0.3333333333333333,
              "#9c179e"
             ],
             [
              0.4444444444444444,
              "#bd3786"
             ],
             [
              0.5555555555555556,
              "#d8576b"
             ],
             [
              0.6666666666666666,
              "#ed7953"
             ],
             [
              0.7777777777777778,
              "#fb9f3a"
             ],
             [
              0.8888888888888888,
              "#fdca26"
             ],
             [
              1,
              "#f0f921"
             ]
            ],
            "type": "heatmapgl"
           }
          ],
          "histogram": [
           {
            "marker": {
             "colorbar": {
              "outlinewidth": 0,
              "ticks": ""
             }
            },
            "type": "histogram"
           }
          ],
          "histogram2d": [
           {
            "colorbar": {
             "outlinewidth": 0,
             "ticks": ""
            },
            "colorscale": [
             [
              0,
              "#0d0887"
             ],
             [
              0.1111111111111111,
              "#46039f"
             ],
             [
              0.2222222222222222,
              "#7201a8"
             ],
             [
              0.3333333333333333,
              "#9c179e"
             ],
             [
              0.4444444444444444,
              "#bd3786"
             ],
             [
              0.5555555555555556,
              "#d8576b"
             ],
             [
              0.6666666666666666,
              "#ed7953"
             ],
             [
              0.7777777777777778,
              "#fb9f3a"
             ],
             [
              0.8888888888888888,
              "#fdca26"
             ],
             [
              1,
              "#f0f921"
             ]
            ],
            "type": "histogram2d"
           }
          ],
          "histogram2dcontour": [
           {
            "colorbar": {
             "outlinewidth": 0,
             "ticks": ""
            },
            "colorscale": [
             [
              0,
              "#0d0887"
             ],
             [
              0.1111111111111111,
              "#46039f"
             ],
             [
              0.2222222222222222,
              "#7201a8"
             ],
             [
              0.3333333333333333,
              "#9c179e"
             ],
             [
              0.4444444444444444,
              "#bd3786"
             ],
             [
              0.5555555555555556,
              "#d8576b"
             ],
             [
              0.6666666666666666,
              "#ed7953"
             ],
             [
              0.7777777777777778,
              "#fb9f3a"
             ],
             [
              0.8888888888888888,
              "#fdca26"
             ],
             [
              1,
              "#f0f921"
             ]
            ],
            "type": "histogram2dcontour"
           }
          ],
          "mesh3d": [
           {
            "colorbar": {
             "outlinewidth": 0,
             "ticks": ""
            },
            "type": "mesh3d"
           }
          ],
          "parcoords": [
           {
            "line": {
             "colorbar": {
              "outlinewidth": 0,
              "ticks": ""
             }
            },
            "type": "parcoords"
           }
          ],
          "pie": [
           {
            "automargin": true,
            "type": "pie"
           }
          ],
          "scatter": [
           {
            "marker": {
             "colorbar": {
              "outlinewidth": 0,
              "ticks": ""
             }
            },
            "type": "scatter"
           }
          ],
          "scatter3d": [
           {
            "line": {
             "colorbar": {
              "outlinewidth": 0,
              "ticks": ""
             }
            },
            "marker": {
             "colorbar": {
              "outlinewidth": 0,
              "ticks": ""
             }
            },
            "type": "scatter3d"
           }
          ],
          "scattercarpet": [
           {
            "marker": {
             "colorbar": {
              "outlinewidth": 0,
              "ticks": ""
             }
            },
            "type": "scattercarpet"
           }
          ],
          "scattergeo": [
           {
            "marker": {
             "colorbar": {
              "outlinewidth": 0,
              "ticks": ""
             }
            },
            "type": "scattergeo"
           }
          ],
          "scattergl": [
           {
            "marker": {
             "colorbar": {
              "outlinewidth": 0,
              "ticks": ""
             }
            },
            "type": "scattergl"
           }
          ],
          "scattermapbox": [
           {
            "marker": {
             "colorbar": {
              "outlinewidth": 0,
              "ticks": ""
             }
            },
            "type": "scattermapbox"
           }
          ],
          "scatterpolar": [
           {
            "marker": {
             "colorbar": {
              "outlinewidth": 0,
              "ticks": ""
             }
            },
            "type": "scatterpolar"
           }
          ],
          "scatterpolargl": [
           {
            "marker": {
             "colorbar": {
              "outlinewidth": 0,
              "ticks": ""
             }
            },
            "type": "scatterpolargl"
           }
          ],
          "scatterternary": [
           {
            "marker": {
             "colorbar": {
              "outlinewidth": 0,
              "ticks": ""
             }
            },
            "type": "scatterternary"
           }
          ],
          "surface": [
           {
            "colorbar": {
             "outlinewidth": 0,
             "ticks": ""
            },
            "colorscale": [
             [
              0,
              "#0d0887"
             ],
             [
              0.1111111111111111,
              "#46039f"
             ],
             [
              0.2222222222222222,
              "#7201a8"
             ],
             [
              0.3333333333333333,
              "#9c179e"
             ],
             [
              0.4444444444444444,
              "#bd3786"
             ],
             [
              0.5555555555555556,
              "#d8576b"
             ],
             [
              0.6666666666666666,
              "#ed7953"
             ],
             [
              0.7777777777777778,
              "#fb9f3a"
             ],
             [
              0.8888888888888888,
              "#fdca26"
             ],
             [
              1,
              "#f0f921"
             ]
            ],
            "type": "surface"
           }
          ],
          "table": [
           {
            "cells": {
             "fill": {
              "color": "#EBF0F8"
             },
             "line": {
              "color": "white"
             }
            },
            "header": {
             "fill": {
              "color": "#C8D4E3"
             },
             "line": {
              "color": "white"
             }
            },
            "type": "table"
           }
          ]
         },
         "layout": {
          "annotationdefaults": {
           "arrowcolor": "#2a3f5f",
           "arrowhead": 0,
           "arrowwidth": 1
          },
          "coloraxis": {
           "colorbar": {
            "outlinewidth": 0,
            "ticks": ""
           }
          },
          "colorscale": {
           "diverging": [
            [
             0,
             "#8e0152"
            ],
            [
             0.1,
             "#c51b7d"
            ],
            [
             0.2,
             "#de77ae"
            ],
            [
             0.3,
             "#f1b6da"
            ],
            [
             0.4,
             "#fde0ef"
            ],
            [
             0.5,
             "#f7f7f7"
            ],
            [
             0.6,
             "#e6f5d0"
            ],
            [
             0.7,
             "#b8e186"
            ],
            [
             0.8,
             "#7fbc41"
            ],
            [
             0.9,
             "#4d9221"
            ],
            [
             1,
             "#276419"
            ]
           ],
           "sequential": [
            [
             0,
             "#0d0887"
            ],
            [
             0.1111111111111111,
             "#46039f"
            ],
            [
             0.2222222222222222,
             "#7201a8"
            ],
            [
             0.3333333333333333,
             "#9c179e"
            ],
            [
             0.4444444444444444,
             "#bd3786"
            ],
            [
             0.5555555555555556,
             "#d8576b"
            ],
            [
             0.6666666666666666,
             "#ed7953"
            ],
            [
             0.7777777777777778,
             "#fb9f3a"
            ],
            [
             0.8888888888888888,
             "#fdca26"
            ],
            [
             1,
             "#f0f921"
            ]
           ],
           "sequentialminus": [
            [
             0,
             "#0d0887"
            ],
            [
             0.1111111111111111,
             "#46039f"
            ],
            [
             0.2222222222222222,
             "#7201a8"
            ],
            [
             0.3333333333333333,
             "#9c179e"
            ],
            [
             0.4444444444444444,
             "#bd3786"
            ],
            [
             0.5555555555555556,
             "#d8576b"
            ],
            [
             0.6666666666666666,
             "#ed7953"
            ],
            [
             0.7777777777777778,
             "#fb9f3a"
            ],
            [
             0.8888888888888888,
             "#fdca26"
            ],
            [
             1,
             "#f0f921"
            ]
           ]
          },
          "colorway": [
           "#636efa",
           "#EF553B",
           "#00cc96",
           "#ab63fa",
           "#FFA15A",
           "#19d3f3",
           "#FF6692",
           "#B6E880",
           "#FF97FF",
           "#FECB52"
          ],
          "font": {
           "color": "#2a3f5f"
          },
          "geo": {
           "bgcolor": "white",
           "lakecolor": "white",
           "landcolor": "#E5ECF6",
           "showlakes": true,
           "showland": true,
           "subunitcolor": "white"
          },
          "hoverlabel": {
           "align": "left"
          },
          "hovermode": "closest",
          "mapbox": {
           "style": "light"
          },
          "paper_bgcolor": "white",
          "plot_bgcolor": "#E5ECF6",
          "polar": {
           "angularaxis": {
            "gridcolor": "white",
            "linecolor": "white",
            "ticks": ""
           },
           "bgcolor": "#E5ECF6",
           "radialaxis": {
            "gridcolor": "white",
            "linecolor": "white",
            "ticks": ""
           }
          },
          "scene": {
           "xaxis": {
            "backgroundcolor": "#E5ECF6",
            "gridcolor": "white",
            "gridwidth": 2,
            "linecolor": "white",
            "showbackground": true,
            "ticks": "",
            "zerolinecolor": "white"
           },
           "yaxis": {
            "backgroundcolor": "#E5ECF6",
            "gridcolor": "white",
            "gridwidth": 2,
            "linecolor": "white",
            "showbackground": true,
            "ticks": "",
            "zerolinecolor": "white"
           },
           "zaxis": {
            "backgroundcolor": "#E5ECF6",
            "gridcolor": "white",
            "gridwidth": 2,
            "linecolor": "white",
            "showbackground": true,
            "ticks": "",
            "zerolinecolor": "white"
           }
          },
          "shapedefaults": {
           "line": {
            "color": "#2a3f5f"
           }
          },
          "ternary": {
           "aaxis": {
            "gridcolor": "white",
            "linecolor": "white",
            "ticks": ""
           },
           "baxis": {
            "gridcolor": "white",
            "linecolor": "white",
            "ticks": ""
           },
           "bgcolor": "#E5ECF6",
           "caxis": {
            "gridcolor": "white",
            "linecolor": "white",
            "ticks": ""
           }
          },
          "title": {
           "x": 0.05
          },
          "xaxis": {
           "automargin": true,
           "gridcolor": "white",
           "linecolor": "white",
           "ticks": "",
           "title": {
            "standoff": 15
           },
           "zerolinecolor": "white",
           "zerolinewidth": 2
          },
          "yaxis": {
           "automargin": true,
           "gridcolor": "white",
           "linecolor": "white",
           "ticks": "",
           "title": {
            "standoff": 15
           },
           "zerolinecolor": "white",
           "zerolinewidth": 2
          }
         }
        },
        "title": {
         "font": {
          "color": "#4D5663"
         }
        },
        "xaxis": {
         "gridcolor": "#E1E5ED",
         "showgrid": true,
         "tickfont": {
          "color": "#4D5663"
         },
         "title": {
          "font": {
           "color": "#4D5663"
          },
          "text": ""
         },
         "zerolinecolor": "#E1E5ED"
        },
        "yaxis": {
         "gridcolor": "#E1E5ED",
         "showgrid": true,
         "tickfont": {
          "color": "#4D5663"
         },
         "title": {
          "font": {
           "color": "#4D5663"
          },
          "text": ""
         },
         "zerolinecolor": "#E1E5ED"
        }
       }
      },
      "text/html": [
       "<div>\n",
       "        \n",
       "        \n",
       "            <div id=\"fe01fb64-8383-454a-b0c3-243747c09d57\" class=\"plotly-graph-div\" style=\"height:525px; width:100%;\"></div>\n",
       "            <script type=\"text/javascript\">\n",
       "                require([\"plotly\"], function(Plotly) {\n",
       "                    window.PLOTLYENV=window.PLOTLYENV || {};\n",
       "                    window.PLOTLYENV.BASE_URL='https://plot.ly';\n",
       "                    \n",
       "                if (document.getElementById(\"fe01fb64-8383-454a-b0c3-243747c09d57\")) {\n",
       "                    Plotly.newPlot(\n",
       "                        'fe01fb64-8383-454a-b0c3-243747c09d57',\n",
       "                        [{\"marker\": {\"color\": \"rgba(255, 153, 51, 0.6)\", \"line\": {\"color\": \"rgba(255, 153, 51, 1.0)\", \"width\": 1}}, \"name\": \"None\", \"orientation\": \"v\", \"text\": \"\", \"type\": \"bar\", \"x\": [\"A\", \"B\", \"C\", \"D\"], \"y\": [100, 100, 100, 100]}],\n",
       "                        {\"legend\": {\"bgcolor\": \"#F5F6F9\", \"font\": {\"color\": \"#4D5663\"}}, \"paper_bgcolor\": \"#F5F6F9\", \"plot_bgcolor\": \"#F5F6F9\", \"template\": {\"data\": {\"bar\": [{\"error_x\": {\"color\": \"#2a3f5f\"}, \"error_y\": {\"color\": \"#2a3f5f\"}, \"marker\": {\"line\": {\"color\": \"#E5ECF6\", \"width\": 0.5}}, \"type\": \"bar\"}], \"barpolar\": [{\"marker\": {\"line\": {\"color\": \"#E5ECF6\", \"width\": 0.5}}, \"type\": \"barpolar\"}], \"carpet\": [{\"aaxis\": {\"endlinecolor\": \"#2a3f5f\", \"gridcolor\": \"white\", \"linecolor\": \"white\", \"minorgridcolor\": \"white\", \"startlinecolor\": \"#2a3f5f\"}, \"baxis\": {\"endlinecolor\": \"#2a3f5f\", \"gridcolor\": \"white\", \"linecolor\": \"white\", \"minorgridcolor\": \"white\", \"startlinecolor\": \"#2a3f5f\"}, \"type\": \"carpet\"}], \"choropleth\": [{\"colorbar\": {\"outlinewidth\": 0, \"ticks\": \"\"}, \"type\": \"choropleth\"}], \"contour\": [{\"colorbar\": {\"outlinewidth\": 0, \"ticks\": \"\"}, \"colorscale\": [[0.0, \"#0d0887\"], [0.1111111111111111, \"#46039f\"], [0.2222222222222222, \"#7201a8\"], [0.3333333333333333, \"#9c179e\"], [0.4444444444444444, \"#bd3786\"], [0.5555555555555556, \"#d8576b\"], [0.6666666666666666, \"#ed7953\"], [0.7777777777777778, \"#fb9f3a\"], [0.8888888888888888, \"#fdca26\"], [1.0, \"#f0f921\"]], \"type\": \"contour\"}], \"contourcarpet\": [{\"colorbar\": {\"outlinewidth\": 0, \"ticks\": \"\"}, \"type\": \"contourcarpet\"}], \"heatmap\": [{\"colorbar\": {\"outlinewidth\": 0, \"ticks\": \"\"}, \"colorscale\": [[0.0, \"#0d0887\"], [0.1111111111111111, \"#46039f\"], [0.2222222222222222, \"#7201a8\"], [0.3333333333333333, \"#9c179e\"], [0.4444444444444444, \"#bd3786\"], [0.5555555555555556, \"#d8576b\"], [0.6666666666666666, \"#ed7953\"], [0.7777777777777778, \"#fb9f3a\"], [0.8888888888888888, \"#fdca26\"], [1.0, \"#f0f921\"]], \"type\": \"heatmap\"}], \"heatmapgl\": [{\"colorbar\": {\"outlinewidth\": 0, \"ticks\": \"\"}, \"colorscale\": [[0.0, \"#0d0887\"], [0.1111111111111111, \"#46039f\"], [0.2222222222222222, \"#7201a8\"], [0.3333333333333333, \"#9c179e\"], [0.4444444444444444, \"#bd3786\"], [0.5555555555555556, \"#d8576b\"], [0.6666666666666666, \"#ed7953\"], [0.7777777777777778, \"#fb9f3a\"], [0.8888888888888888, \"#fdca26\"], [1.0, \"#f0f921\"]], \"type\": \"heatmapgl\"}], \"histogram\": [{\"marker\": {\"colorbar\": {\"outlinewidth\": 0, \"ticks\": \"\"}}, \"type\": \"histogram\"}], \"histogram2d\": [{\"colorbar\": {\"outlinewidth\": 0, \"ticks\": \"\"}, \"colorscale\": [[0.0, \"#0d0887\"], [0.1111111111111111, \"#46039f\"], [0.2222222222222222, \"#7201a8\"], [0.3333333333333333, \"#9c179e\"], [0.4444444444444444, \"#bd3786\"], [0.5555555555555556, \"#d8576b\"], [0.6666666666666666, \"#ed7953\"], [0.7777777777777778, \"#fb9f3a\"], [0.8888888888888888, \"#fdca26\"], [1.0, \"#f0f921\"]], \"type\": \"histogram2d\"}], \"histogram2dcontour\": [{\"colorbar\": {\"outlinewidth\": 0, \"ticks\": \"\"}, \"colorscale\": [[0.0, \"#0d0887\"], [0.1111111111111111, \"#46039f\"], [0.2222222222222222, \"#7201a8\"], [0.3333333333333333, \"#9c179e\"], [0.4444444444444444, \"#bd3786\"], [0.5555555555555556, \"#d8576b\"], [0.6666666666666666, \"#ed7953\"], [0.7777777777777778, \"#fb9f3a\"], [0.8888888888888888, \"#fdca26\"], [1.0, \"#f0f921\"]], \"type\": \"histogram2dcontour\"}], \"mesh3d\": [{\"colorbar\": {\"outlinewidth\": 0, \"ticks\": \"\"}, \"type\": \"mesh3d\"}], \"parcoords\": [{\"line\": {\"colorbar\": {\"outlinewidth\": 0, \"ticks\": \"\"}}, \"type\": \"parcoords\"}], \"pie\": [{\"automargin\": true, \"type\": \"pie\"}], \"scatter\": [{\"marker\": {\"colorbar\": {\"outlinewidth\": 0, \"ticks\": \"\"}}, \"type\": \"scatter\"}], \"scatter3d\": [{\"line\": {\"colorbar\": {\"outlinewidth\": 0, \"ticks\": \"\"}}, \"marker\": {\"colorbar\": {\"outlinewidth\": 0, \"ticks\": \"\"}}, \"type\": \"scatter3d\"}], \"scattercarpet\": [{\"marker\": {\"colorbar\": {\"outlinewidth\": 0, \"ticks\": \"\"}}, \"type\": \"scattercarpet\"}], \"scattergeo\": [{\"marker\": {\"colorbar\": {\"outlinewidth\": 0, \"ticks\": \"\"}}, \"type\": \"scattergeo\"}], \"scattergl\": [{\"marker\": {\"colorbar\": {\"outlinewidth\": 0, \"ticks\": \"\"}}, \"type\": \"scattergl\"}], \"scattermapbox\": [{\"marker\": {\"colorbar\": {\"outlinewidth\": 0, \"ticks\": \"\"}}, \"type\": \"scattermapbox\"}], \"scatterpolar\": [{\"marker\": {\"colorbar\": {\"outlinewidth\": 0, \"ticks\": \"\"}}, \"type\": \"scatterpolar\"}], \"scatterpolargl\": [{\"marker\": {\"colorbar\": {\"outlinewidth\": 0, \"ticks\": \"\"}}, \"type\": \"scatterpolargl\"}], \"scatterternary\": [{\"marker\": {\"colorbar\": {\"outlinewidth\": 0, \"ticks\": \"\"}}, \"type\": \"scatterternary\"}], \"surface\": [{\"colorbar\": {\"outlinewidth\": 0, \"ticks\": \"\"}, \"colorscale\": [[0.0, \"#0d0887\"], [0.1111111111111111, \"#46039f\"], [0.2222222222222222, \"#7201a8\"], [0.3333333333333333, \"#9c179e\"], [0.4444444444444444, \"#bd3786\"], [0.5555555555555556, \"#d8576b\"], [0.6666666666666666, \"#ed7953\"], [0.7777777777777778, \"#fb9f3a\"], [0.8888888888888888, \"#fdca26\"], [1.0, \"#f0f921\"]], \"type\": \"surface\"}], \"table\": [{\"cells\": {\"fill\": {\"color\": \"#EBF0F8\"}, \"line\": {\"color\": \"white\"}}, \"header\": {\"fill\": {\"color\": \"#C8D4E3\"}, \"line\": {\"color\": \"white\"}}, \"type\": \"table\"}]}, \"layout\": {\"annotationdefaults\": {\"arrowcolor\": \"#2a3f5f\", \"arrowhead\": 0, \"arrowwidth\": 1}, \"coloraxis\": {\"colorbar\": {\"outlinewidth\": 0, \"ticks\": \"\"}}, \"colorscale\": {\"diverging\": [[0, \"#8e0152\"], [0.1, \"#c51b7d\"], [0.2, \"#de77ae\"], [0.3, \"#f1b6da\"], [0.4, \"#fde0ef\"], [0.5, \"#f7f7f7\"], [0.6, \"#e6f5d0\"], [0.7, \"#b8e186\"], [0.8, \"#7fbc41\"], [0.9, \"#4d9221\"], [1, \"#276419\"]], \"sequential\": [[0.0, \"#0d0887\"], [0.1111111111111111, \"#46039f\"], [0.2222222222222222, \"#7201a8\"], [0.3333333333333333, \"#9c179e\"], [0.4444444444444444, \"#bd3786\"], [0.5555555555555556, \"#d8576b\"], [0.6666666666666666, \"#ed7953\"], [0.7777777777777778, \"#fb9f3a\"], [0.8888888888888888, \"#fdca26\"], [1.0, \"#f0f921\"]], \"sequentialminus\": [[0.0, \"#0d0887\"], [0.1111111111111111, \"#46039f\"], [0.2222222222222222, \"#7201a8\"], [0.3333333333333333, \"#9c179e\"], [0.4444444444444444, \"#bd3786\"], [0.5555555555555556, \"#d8576b\"], [0.6666666666666666, \"#ed7953\"], [0.7777777777777778, \"#fb9f3a\"], [0.8888888888888888, \"#fdca26\"], [1.0, \"#f0f921\"]]}, \"colorway\": [\"#636efa\", \"#EF553B\", \"#00cc96\", \"#ab63fa\", \"#FFA15A\", \"#19d3f3\", \"#FF6692\", \"#B6E880\", \"#FF97FF\", \"#FECB52\"], \"font\": {\"color\": \"#2a3f5f\"}, \"geo\": {\"bgcolor\": \"white\", \"lakecolor\": \"white\", \"landcolor\": \"#E5ECF6\", \"showlakes\": true, \"showland\": true, \"subunitcolor\": \"white\"}, \"hoverlabel\": {\"align\": \"left\"}, \"hovermode\": \"closest\", \"mapbox\": {\"style\": \"light\"}, \"paper_bgcolor\": \"white\", \"plot_bgcolor\": \"#E5ECF6\", \"polar\": {\"angularaxis\": {\"gridcolor\": \"white\", \"linecolor\": \"white\", \"ticks\": \"\"}, \"bgcolor\": \"#E5ECF6\", \"radialaxis\": {\"gridcolor\": \"white\", \"linecolor\": \"white\", \"ticks\": \"\"}}, \"scene\": {\"xaxis\": {\"backgroundcolor\": \"#E5ECF6\", \"gridcolor\": \"white\", \"gridwidth\": 2, \"linecolor\": \"white\", \"showbackground\": true, \"ticks\": \"\", \"zerolinecolor\": \"white\"}, \"yaxis\": {\"backgroundcolor\": \"#E5ECF6\", \"gridcolor\": \"white\", \"gridwidth\": 2, \"linecolor\": \"white\", \"showbackground\": true, \"ticks\": \"\", \"zerolinecolor\": \"white\"}, \"zaxis\": {\"backgroundcolor\": \"#E5ECF6\", \"gridcolor\": \"white\", \"gridwidth\": 2, \"linecolor\": \"white\", \"showbackground\": true, \"ticks\": \"\", \"zerolinecolor\": \"white\"}}, \"shapedefaults\": {\"line\": {\"color\": \"#2a3f5f\"}}, \"ternary\": {\"aaxis\": {\"gridcolor\": \"white\", \"linecolor\": \"white\", \"ticks\": \"\"}, \"baxis\": {\"gridcolor\": \"white\", \"linecolor\": \"white\", \"ticks\": \"\"}, \"bgcolor\": \"#E5ECF6\", \"caxis\": {\"gridcolor\": \"white\", \"linecolor\": \"white\", \"ticks\": \"\"}}, \"title\": {\"x\": 0.05}, \"xaxis\": {\"automargin\": true, \"gridcolor\": \"white\", \"linecolor\": \"white\", \"ticks\": \"\", \"title\": {\"standoff\": 15}, \"zerolinecolor\": \"white\", \"zerolinewidth\": 2}, \"yaxis\": {\"automargin\": true, \"gridcolor\": \"white\", \"linecolor\": \"white\", \"ticks\": \"\", \"title\": {\"standoff\": 15}, \"zerolinecolor\": \"white\", \"zerolinewidth\": 2}}}, \"title\": {\"font\": {\"color\": \"#4D5663\"}}, \"xaxis\": {\"gridcolor\": \"#E1E5ED\", \"showgrid\": true, \"tickfont\": {\"color\": \"#4D5663\"}, \"title\": {\"font\": {\"color\": \"#4D5663\"}, \"text\": \"\"}, \"zerolinecolor\": \"#E1E5ED\"}, \"yaxis\": {\"gridcolor\": \"#E1E5ED\", \"showgrid\": true, \"tickfont\": {\"color\": \"#4D5663\"}, \"title\": {\"font\": {\"color\": \"#4D5663\"}, \"text\": \"\"}, \"zerolinecolor\": \"#E1E5ED\"}},\n",
       "                        {\"showLink\": true, \"linkText\": \"Export to plot.ly\", \"plotlyServerURL\": \"https://plot.ly\", \"responsive\": true}\n",
       "                    ).then(function(){\n",
       "                            \n",
       "var gd = document.getElementById('fe01fb64-8383-454a-b0c3-243747c09d57');\n",
       "var x = new MutationObserver(function (mutations, observer) {{\n",
       "        var display = window.getComputedStyle(gd).display;\n",
       "        if (!display || display === 'none') {{\n",
       "            console.log([gd, 'removed!']);\n",
       "            Plotly.purge(gd);\n",
       "            observer.disconnect();\n",
       "        }}\n",
       "}});\n",
       "\n",
       "// Listen for the removal of the full notebook cells\n",
       "var notebookContainer = gd.closest('#notebook-container');\n",
       "if (notebookContainer) {{\n",
       "    x.observe(notebookContainer, {childList: true});\n",
       "}}\n",
       "\n",
       "// Listen for the clearing of the current output cell\n",
       "var outputEl = gd.closest('.output');\n",
       "if (outputEl) {{\n",
       "    x.observe(outputEl, {childList: true});\n",
       "}}\n",
       "\n",
       "                        })\n",
       "                };\n",
       "                });\n",
       "            </script>\n",
       "        </div>"
      ]
     },
     "metadata": {},
     "output_type": "display_data"
    }
   ],
   "source": [
    "df.count().iplot(kind='bar') # counting the instanaces of each column, but also not what we want"
   ]
  },
  {
   "cell_type": "code",
   "execution_count": 38,
   "metadata": {},
   "outputs": [],
   "source": [
    "# iplot with bar plot becomes more powerful with you hit it with an aggregate function"
   ]
  },
  {
   "cell_type": "code",
   "execution_count": 39,
   "metadata": {},
   "outputs": [
    {
     "data": {
      "application/vnd.plotly.v1+json": {
       "config": {
        "linkText": "Export to plot.ly",
        "plotlyServerURL": "https://plot.ly",
        "showLink": true
       },
       "data": [
        {
         "marker": {
          "color": "rgba(255, 153, 51, 0.6)",
          "line": {
           "color": "rgba(255, 153, 51, 1.0)",
           "width": 1
          }
         },
         "name": "None",
         "orientation": "v",
         "text": "",
         "type": "bar",
         "x": [
          "A",
          "B",
          "C",
          "D"
         ],
         "y": [
          -1.4795535729291749,
          17.20942118045442,
          -6.250277624869664,
          -3.7859323405098997
         ]
        }
       ],
       "layout": {
        "legend": {
         "bgcolor": "#F5F6F9",
         "font": {
          "color": "#4D5663"
         }
        },
        "paper_bgcolor": "#F5F6F9",
        "plot_bgcolor": "#F5F6F9",
        "template": {
         "data": {
          "bar": [
           {
            "error_x": {
             "color": "#2a3f5f"
            },
            "error_y": {
             "color": "#2a3f5f"
            },
            "marker": {
             "line": {
              "color": "#E5ECF6",
              "width": 0.5
             }
            },
            "type": "bar"
           }
          ],
          "barpolar": [
           {
            "marker": {
             "line": {
              "color": "#E5ECF6",
              "width": 0.5
             }
            },
            "type": "barpolar"
           }
          ],
          "carpet": [
           {
            "aaxis": {
             "endlinecolor": "#2a3f5f",
             "gridcolor": "white",
             "linecolor": "white",
             "minorgridcolor": "white",
             "startlinecolor": "#2a3f5f"
            },
            "baxis": {
             "endlinecolor": "#2a3f5f",
             "gridcolor": "white",
             "linecolor": "white",
             "minorgridcolor": "white",
             "startlinecolor": "#2a3f5f"
            },
            "type": "carpet"
           }
          ],
          "choropleth": [
           {
            "colorbar": {
             "outlinewidth": 0,
             "ticks": ""
            },
            "type": "choropleth"
           }
          ],
          "contour": [
           {
            "colorbar": {
             "outlinewidth": 0,
             "ticks": ""
            },
            "colorscale": [
             [
              0,
              "#0d0887"
             ],
             [
              0.1111111111111111,
              "#46039f"
             ],
             [
              0.2222222222222222,
              "#7201a8"
             ],
             [
              0.3333333333333333,
              "#9c179e"
             ],
             [
              0.4444444444444444,
              "#bd3786"
             ],
             [
              0.5555555555555556,
              "#d8576b"
             ],
             [
              0.6666666666666666,
              "#ed7953"
             ],
             [
              0.7777777777777778,
              "#fb9f3a"
             ],
             [
              0.8888888888888888,
              "#fdca26"
             ],
             [
              1,
              "#f0f921"
             ]
            ],
            "type": "contour"
           }
          ],
          "contourcarpet": [
           {
            "colorbar": {
             "outlinewidth": 0,
             "ticks": ""
            },
            "type": "contourcarpet"
           }
          ],
          "heatmap": [
           {
            "colorbar": {
             "outlinewidth": 0,
             "ticks": ""
            },
            "colorscale": [
             [
              0,
              "#0d0887"
             ],
             [
              0.1111111111111111,
              "#46039f"
             ],
             [
              0.2222222222222222,
              "#7201a8"
             ],
             [
              0.3333333333333333,
              "#9c179e"
             ],
             [
              0.4444444444444444,
              "#bd3786"
             ],
             [
              0.5555555555555556,
              "#d8576b"
             ],
             [
              0.6666666666666666,
              "#ed7953"
             ],
             [
              0.7777777777777778,
              "#fb9f3a"
             ],
             [
              0.8888888888888888,
              "#fdca26"
             ],
             [
              1,
              "#f0f921"
             ]
            ],
            "type": "heatmap"
           }
          ],
          "heatmapgl": [
           {
            "colorbar": {
             "outlinewidth": 0,
             "ticks": ""
            },
            "colorscale": [
             [
              0,
              "#0d0887"
             ],
             [
              0.1111111111111111,
              "#46039f"
             ],
             [
              0.2222222222222222,
              "#7201a8"
             ],
             [
              0.3333333333333333,
              "#9c179e"
             ],
             [
              0.4444444444444444,
              "#bd3786"
             ],
             [
              0.5555555555555556,
              "#d8576b"
             ],
             [
              0.6666666666666666,
              "#ed7953"
             ],
             [
              0.7777777777777778,
              "#fb9f3a"
             ],
             [
              0.8888888888888888,
              "#fdca26"
             ],
             [
              1,
              "#f0f921"
             ]
            ],
            "type": "heatmapgl"
           }
          ],
          "histogram": [
           {
            "marker": {
             "colorbar": {
              "outlinewidth": 0,
              "ticks": ""
             }
            },
            "type": "histogram"
           }
          ],
          "histogram2d": [
           {
            "colorbar": {
             "outlinewidth": 0,
             "ticks": ""
            },
            "colorscale": [
             [
              0,
              "#0d0887"
             ],
             [
              0.1111111111111111,
              "#46039f"
             ],
             [
              0.2222222222222222,
              "#7201a8"
             ],
             [
              0.3333333333333333,
              "#9c179e"
             ],
             [
              0.4444444444444444,
              "#bd3786"
             ],
             [
              0.5555555555555556,
              "#d8576b"
             ],
             [
              0.6666666666666666,
              "#ed7953"
             ],
             [
              0.7777777777777778,
              "#fb9f3a"
             ],
             [
              0.8888888888888888,
              "#fdca26"
             ],
             [
              1,
              "#f0f921"
             ]
            ],
            "type": "histogram2d"
           }
          ],
          "histogram2dcontour": [
           {
            "colorbar": {
             "outlinewidth": 0,
             "ticks": ""
            },
            "colorscale": [
             [
              0,
              "#0d0887"
             ],
             [
              0.1111111111111111,
              "#46039f"
             ],
             [
              0.2222222222222222,
              "#7201a8"
             ],
             [
              0.3333333333333333,
              "#9c179e"
             ],
             [
              0.4444444444444444,
              "#bd3786"
             ],
             [
              0.5555555555555556,
              "#d8576b"
             ],
             [
              0.6666666666666666,
              "#ed7953"
             ],
             [
              0.7777777777777778,
              "#fb9f3a"
             ],
             [
              0.8888888888888888,
              "#fdca26"
             ],
             [
              1,
              "#f0f921"
             ]
            ],
            "type": "histogram2dcontour"
           }
          ],
          "mesh3d": [
           {
            "colorbar": {
             "outlinewidth": 0,
             "ticks": ""
            },
            "type": "mesh3d"
           }
          ],
          "parcoords": [
           {
            "line": {
             "colorbar": {
              "outlinewidth": 0,
              "ticks": ""
             }
            },
            "type": "parcoords"
           }
          ],
          "pie": [
           {
            "automargin": true,
            "type": "pie"
           }
          ],
          "scatter": [
           {
            "marker": {
             "colorbar": {
              "outlinewidth": 0,
              "ticks": ""
             }
            },
            "type": "scatter"
           }
          ],
          "scatter3d": [
           {
            "line": {
             "colorbar": {
              "outlinewidth": 0,
              "ticks": ""
             }
            },
            "marker": {
             "colorbar": {
              "outlinewidth": 0,
              "ticks": ""
             }
            },
            "type": "scatter3d"
           }
          ],
          "scattercarpet": [
           {
            "marker": {
             "colorbar": {
              "outlinewidth": 0,
              "ticks": ""
             }
            },
            "type": "scattercarpet"
           }
          ],
          "scattergeo": [
           {
            "marker": {
             "colorbar": {
              "outlinewidth": 0,
              "ticks": ""
             }
            },
            "type": "scattergeo"
           }
          ],
          "scattergl": [
           {
            "marker": {
             "colorbar": {
              "outlinewidth": 0,
              "ticks": ""
             }
            },
            "type": "scattergl"
           }
          ],
          "scattermapbox": [
           {
            "marker": {
             "colorbar": {
              "outlinewidth": 0,
              "ticks": ""
             }
            },
            "type": "scattermapbox"
           }
          ],
          "scatterpolar": [
           {
            "marker": {
             "colorbar": {
              "outlinewidth": 0,
              "ticks": ""
             }
            },
            "type": "scatterpolar"
           }
          ],
          "scatterpolargl": [
           {
            "marker": {
             "colorbar": {
              "outlinewidth": 0,
              "ticks": ""
             }
            },
            "type": "scatterpolargl"
           }
          ],
          "scatterternary": [
           {
            "marker": {
             "colorbar": {
              "outlinewidth": 0,
              "ticks": ""
             }
            },
            "type": "scatterternary"
           }
          ],
          "surface": [
           {
            "colorbar": {
             "outlinewidth": 0,
             "ticks": ""
            },
            "colorscale": [
             [
              0,
              "#0d0887"
             ],
             [
              0.1111111111111111,
              "#46039f"
             ],
             [
              0.2222222222222222,
              "#7201a8"
             ],
             [
              0.3333333333333333,
              "#9c179e"
             ],
             [
              0.4444444444444444,
              "#bd3786"
             ],
             [
              0.5555555555555556,
              "#d8576b"
             ],
             [
              0.6666666666666666,
              "#ed7953"
             ],
             [
              0.7777777777777778,
              "#fb9f3a"
             ],
             [
              0.8888888888888888,
              "#fdca26"
             ],
             [
              1,
              "#f0f921"
             ]
            ],
            "type": "surface"
           }
          ],
          "table": [
           {
            "cells": {
             "fill": {
              "color": "#EBF0F8"
             },
             "line": {
              "color": "white"
             }
            },
            "header": {
             "fill": {
              "color": "#C8D4E3"
             },
             "line": {
              "color": "white"
             }
            },
            "type": "table"
           }
          ]
         },
         "layout": {
          "annotationdefaults": {
           "arrowcolor": "#2a3f5f",
           "arrowhead": 0,
           "arrowwidth": 1
          },
          "coloraxis": {
           "colorbar": {
            "outlinewidth": 0,
            "ticks": ""
           }
          },
          "colorscale": {
           "diverging": [
            [
             0,
             "#8e0152"
            ],
            [
             0.1,
             "#c51b7d"
            ],
            [
             0.2,
             "#de77ae"
            ],
            [
             0.3,
             "#f1b6da"
            ],
            [
             0.4,
             "#fde0ef"
            ],
            [
             0.5,
             "#f7f7f7"
            ],
            [
             0.6,
             "#e6f5d0"
            ],
            [
             0.7,
             "#b8e186"
            ],
            [
             0.8,
             "#7fbc41"
            ],
            [
             0.9,
             "#4d9221"
            ],
            [
             1,
             "#276419"
            ]
           ],
           "sequential": [
            [
             0,
             "#0d0887"
            ],
            [
             0.1111111111111111,
             "#46039f"
            ],
            [
             0.2222222222222222,
             "#7201a8"
            ],
            [
             0.3333333333333333,
             "#9c179e"
            ],
            [
             0.4444444444444444,
             "#bd3786"
            ],
            [
             0.5555555555555556,
             "#d8576b"
            ],
            [
             0.6666666666666666,
             "#ed7953"
            ],
            [
             0.7777777777777778,
             "#fb9f3a"
            ],
            [
             0.8888888888888888,
             "#fdca26"
            ],
            [
             1,
             "#f0f921"
            ]
           ],
           "sequentialminus": [
            [
             0,
             "#0d0887"
            ],
            [
             0.1111111111111111,
             "#46039f"
            ],
            [
             0.2222222222222222,
             "#7201a8"
            ],
            [
             0.3333333333333333,
             "#9c179e"
            ],
            [
             0.4444444444444444,
             "#bd3786"
            ],
            [
             0.5555555555555556,
             "#d8576b"
            ],
            [
             0.6666666666666666,
             "#ed7953"
            ],
            [
             0.7777777777777778,
             "#fb9f3a"
            ],
            [
             0.8888888888888888,
             "#fdca26"
            ],
            [
             1,
             "#f0f921"
            ]
           ]
          },
          "colorway": [
           "#636efa",
           "#EF553B",
           "#00cc96",
           "#ab63fa",
           "#FFA15A",
           "#19d3f3",
           "#FF6692",
           "#B6E880",
           "#FF97FF",
           "#FECB52"
          ],
          "font": {
           "color": "#2a3f5f"
          },
          "geo": {
           "bgcolor": "white",
           "lakecolor": "white",
           "landcolor": "#E5ECF6",
           "showlakes": true,
           "showland": true,
           "subunitcolor": "white"
          },
          "hoverlabel": {
           "align": "left"
          },
          "hovermode": "closest",
          "mapbox": {
           "style": "light"
          },
          "paper_bgcolor": "white",
          "plot_bgcolor": "#E5ECF6",
          "polar": {
           "angularaxis": {
            "gridcolor": "white",
            "linecolor": "white",
            "ticks": ""
           },
           "bgcolor": "#E5ECF6",
           "radialaxis": {
            "gridcolor": "white",
            "linecolor": "white",
            "ticks": ""
           }
          },
          "scene": {
           "xaxis": {
            "backgroundcolor": "#E5ECF6",
            "gridcolor": "white",
            "gridwidth": 2,
            "linecolor": "white",
            "showbackground": true,
            "ticks": "",
            "zerolinecolor": "white"
           },
           "yaxis": {
            "backgroundcolor": "#E5ECF6",
            "gridcolor": "white",
            "gridwidth": 2,
            "linecolor": "white",
            "showbackground": true,
            "ticks": "",
            "zerolinecolor": "white"
           },
           "zaxis": {
            "backgroundcolor": "#E5ECF6",
            "gridcolor": "white",
            "gridwidth": 2,
            "linecolor": "white",
            "showbackground": true,
            "ticks": "",
            "zerolinecolor": "white"
           }
          },
          "shapedefaults": {
           "line": {
            "color": "#2a3f5f"
           }
          },
          "ternary": {
           "aaxis": {
            "gridcolor": "white",
            "linecolor": "white",
            "ticks": ""
           },
           "baxis": {
            "gridcolor": "white",
            "linecolor": "white",
            "ticks": ""
           },
           "bgcolor": "#E5ECF6",
           "caxis": {
            "gridcolor": "white",
            "linecolor": "white",
            "ticks": ""
           }
          },
          "title": {
           "x": 0.05
          },
          "xaxis": {
           "automargin": true,
           "gridcolor": "white",
           "linecolor": "white",
           "ticks": "",
           "title": {
            "standoff": 15
           },
           "zerolinecolor": "white",
           "zerolinewidth": 2
          },
          "yaxis": {
           "automargin": true,
           "gridcolor": "white",
           "linecolor": "white",
           "ticks": "",
           "title": {
            "standoff": 15
           },
           "zerolinecolor": "white",
           "zerolinewidth": 2
          }
         }
        },
        "title": {
         "font": {
          "color": "#4D5663"
         }
        },
        "xaxis": {
         "gridcolor": "#E1E5ED",
         "showgrid": true,
         "tickfont": {
          "color": "#4D5663"
         },
         "title": {
          "font": {
           "color": "#4D5663"
          },
          "text": ""
         },
         "zerolinecolor": "#E1E5ED"
        },
        "yaxis": {
         "gridcolor": "#E1E5ED",
         "showgrid": true,
         "tickfont": {
          "color": "#4D5663"
         },
         "title": {
          "font": {
           "color": "#4D5663"
          },
          "text": ""
         },
         "zerolinecolor": "#E1E5ED"
        }
       }
      },
      "text/html": [
       "<div>\n",
       "        \n",
       "        \n",
       "            <div id=\"0870bc62-85ad-4f46-97bd-5d17a127c54e\" class=\"plotly-graph-div\" style=\"height:525px; width:100%;\"></div>\n",
       "            <script type=\"text/javascript\">\n",
       "                require([\"plotly\"], function(Plotly) {\n",
       "                    window.PLOTLYENV=window.PLOTLYENV || {};\n",
       "                    window.PLOTLYENV.BASE_URL='https://plot.ly';\n",
       "                    \n",
       "                if (document.getElementById(\"0870bc62-85ad-4f46-97bd-5d17a127c54e\")) {\n",
       "                    Plotly.newPlot(\n",
       "                        '0870bc62-85ad-4f46-97bd-5d17a127c54e',\n",
       "                        [{\"marker\": {\"color\": \"rgba(255, 153, 51, 0.6)\", \"line\": {\"color\": \"rgba(255, 153, 51, 1.0)\", \"width\": 1}}, \"name\": \"None\", \"orientation\": \"v\", \"text\": \"\", \"type\": \"bar\", \"x\": [\"A\", \"B\", \"C\", \"D\"], \"y\": [-1.4795535729291749, 17.20942118045442, -6.250277624869664, -3.7859323405098997]}],\n",
       "                        {\"legend\": {\"bgcolor\": \"#F5F6F9\", \"font\": {\"color\": \"#4D5663\"}}, \"paper_bgcolor\": \"#F5F6F9\", \"plot_bgcolor\": \"#F5F6F9\", \"template\": {\"data\": {\"bar\": [{\"error_x\": {\"color\": \"#2a3f5f\"}, \"error_y\": {\"color\": \"#2a3f5f\"}, \"marker\": {\"line\": {\"color\": \"#E5ECF6\", \"width\": 0.5}}, \"type\": \"bar\"}], \"barpolar\": [{\"marker\": {\"line\": {\"color\": \"#E5ECF6\", \"width\": 0.5}}, \"type\": \"barpolar\"}], \"carpet\": [{\"aaxis\": {\"endlinecolor\": \"#2a3f5f\", \"gridcolor\": \"white\", \"linecolor\": \"white\", \"minorgridcolor\": \"white\", \"startlinecolor\": \"#2a3f5f\"}, \"baxis\": {\"endlinecolor\": \"#2a3f5f\", \"gridcolor\": \"white\", \"linecolor\": \"white\", \"minorgridcolor\": \"white\", \"startlinecolor\": \"#2a3f5f\"}, \"type\": \"carpet\"}], \"choropleth\": [{\"colorbar\": {\"outlinewidth\": 0, \"ticks\": \"\"}, \"type\": \"choropleth\"}], \"contour\": [{\"colorbar\": {\"outlinewidth\": 0, \"ticks\": \"\"}, \"colorscale\": [[0.0, \"#0d0887\"], [0.1111111111111111, \"#46039f\"], [0.2222222222222222, \"#7201a8\"], [0.3333333333333333, \"#9c179e\"], [0.4444444444444444, \"#bd3786\"], [0.5555555555555556, \"#d8576b\"], [0.6666666666666666, \"#ed7953\"], [0.7777777777777778, \"#fb9f3a\"], [0.8888888888888888, \"#fdca26\"], [1.0, \"#f0f921\"]], \"type\": \"contour\"}], \"contourcarpet\": [{\"colorbar\": {\"outlinewidth\": 0, \"ticks\": \"\"}, \"type\": \"contourcarpet\"}], \"heatmap\": [{\"colorbar\": {\"outlinewidth\": 0, \"ticks\": \"\"}, \"colorscale\": [[0.0, \"#0d0887\"], [0.1111111111111111, \"#46039f\"], [0.2222222222222222, \"#7201a8\"], [0.3333333333333333, \"#9c179e\"], [0.4444444444444444, \"#bd3786\"], [0.5555555555555556, \"#d8576b\"], [0.6666666666666666, \"#ed7953\"], [0.7777777777777778, \"#fb9f3a\"], [0.8888888888888888, \"#fdca26\"], [1.0, \"#f0f921\"]], \"type\": \"heatmap\"}], \"heatmapgl\": [{\"colorbar\": {\"outlinewidth\": 0, \"ticks\": \"\"}, \"colorscale\": [[0.0, \"#0d0887\"], [0.1111111111111111, \"#46039f\"], [0.2222222222222222, \"#7201a8\"], [0.3333333333333333, \"#9c179e\"], [0.4444444444444444, \"#bd3786\"], [0.5555555555555556, \"#d8576b\"], [0.6666666666666666, \"#ed7953\"], [0.7777777777777778, \"#fb9f3a\"], [0.8888888888888888, \"#fdca26\"], [1.0, \"#f0f921\"]], \"type\": \"heatmapgl\"}], \"histogram\": [{\"marker\": {\"colorbar\": {\"outlinewidth\": 0, \"ticks\": \"\"}}, \"type\": \"histogram\"}], \"histogram2d\": [{\"colorbar\": {\"outlinewidth\": 0, \"ticks\": \"\"}, \"colorscale\": [[0.0, \"#0d0887\"], [0.1111111111111111, \"#46039f\"], [0.2222222222222222, \"#7201a8\"], [0.3333333333333333, \"#9c179e\"], [0.4444444444444444, \"#bd3786\"], [0.5555555555555556, \"#d8576b\"], [0.6666666666666666, \"#ed7953\"], [0.7777777777777778, \"#fb9f3a\"], [0.8888888888888888, \"#fdca26\"], [1.0, \"#f0f921\"]], \"type\": \"histogram2d\"}], \"histogram2dcontour\": [{\"colorbar\": {\"outlinewidth\": 0, \"ticks\": \"\"}, \"colorscale\": [[0.0, \"#0d0887\"], [0.1111111111111111, \"#46039f\"], [0.2222222222222222, \"#7201a8\"], [0.3333333333333333, \"#9c179e\"], [0.4444444444444444, \"#bd3786\"], [0.5555555555555556, \"#d8576b\"], [0.6666666666666666, \"#ed7953\"], [0.7777777777777778, \"#fb9f3a\"], [0.8888888888888888, \"#fdca26\"], [1.0, \"#f0f921\"]], \"type\": \"histogram2dcontour\"}], \"mesh3d\": [{\"colorbar\": {\"outlinewidth\": 0, \"ticks\": \"\"}, \"type\": \"mesh3d\"}], \"parcoords\": [{\"line\": {\"colorbar\": {\"outlinewidth\": 0, \"ticks\": \"\"}}, \"type\": \"parcoords\"}], \"pie\": [{\"automargin\": true, \"type\": \"pie\"}], \"scatter\": [{\"marker\": {\"colorbar\": {\"outlinewidth\": 0, \"ticks\": \"\"}}, \"type\": \"scatter\"}], \"scatter3d\": [{\"line\": {\"colorbar\": {\"outlinewidth\": 0, \"ticks\": \"\"}}, \"marker\": {\"colorbar\": {\"outlinewidth\": 0, \"ticks\": \"\"}}, \"type\": \"scatter3d\"}], \"scattercarpet\": [{\"marker\": {\"colorbar\": {\"outlinewidth\": 0, \"ticks\": \"\"}}, \"type\": \"scattercarpet\"}], \"scattergeo\": [{\"marker\": {\"colorbar\": {\"outlinewidth\": 0, \"ticks\": \"\"}}, \"type\": \"scattergeo\"}], \"scattergl\": [{\"marker\": {\"colorbar\": {\"outlinewidth\": 0, \"ticks\": \"\"}}, \"type\": \"scattergl\"}], \"scattermapbox\": [{\"marker\": {\"colorbar\": {\"outlinewidth\": 0, \"ticks\": \"\"}}, \"type\": \"scattermapbox\"}], \"scatterpolar\": [{\"marker\": {\"colorbar\": {\"outlinewidth\": 0, \"ticks\": \"\"}}, \"type\": \"scatterpolar\"}], \"scatterpolargl\": [{\"marker\": {\"colorbar\": {\"outlinewidth\": 0, \"ticks\": \"\"}}, \"type\": \"scatterpolargl\"}], \"scatterternary\": [{\"marker\": {\"colorbar\": {\"outlinewidth\": 0, \"ticks\": \"\"}}, \"type\": \"scatterternary\"}], \"surface\": [{\"colorbar\": {\"outlinewidth\": 0, \"ticks\": \"\"}, \"colorscale\": [[0.0, \"#0d0887\"], [0.1111111111111111, \"#46039f\"], [0.2222222222222222, \"#7201a8\"], [0.3333333333333333, \"#9c179e\"], [0.4444444444444444, \"#bd3786\"], [0.5555555555555556, \"#d8576b\"], [0.6666666666666666, \"#ed7953\"], [0.7777777777777778, \"#fb9f3a\"], [0.8888888888888888, \"#fdca26\"], [1.0, \"#f0f921\"]], \"type\": \"surface\"}], \"table\": [{\"cells\": {\"fill\": {\"color\": \"#EBF0F8\"}, \"line\": {\"color\": \"white\"}}, \"header\": {\"fill\": {\"color\": \"#C8D4E3\"}, \"line\": {\"color\": \"white\"}}, \"type\": \"table\"}]}, \"layout\": {\"annotationdefaults\": {\"arrowcolor\": \"#2a3f5f\", \"arrowhead\": 0, \"arrowwidth\": 1}, \"coloraxis\": {\"colorbar\": {\"outlinewidth\": 0, \"ticks\": \"\"}}, \"colorscale\": {\"diverging\": [[0, \"#8e0152\"], [0.1, \"#c51b7d\"], [0.2, \"#de77ae\"], [0.3, \"#f1b6da\"], [0.4, \"#fde0ef\"], [0.5, \"#f7f7f7\"], [0.6, \"#e6f5d0\"], [0.7, \"#b8e186\"], [0.8, \"#7fbc41\"], [0.9, \"#4d9221\"], [1, \"#276419\"]], \"sequential\": [[0.0, \"#0d0887\"], [0.1111111111111111, \"#46039f\"], [0.2222222222222222, \"#7201a8\"], [0.3333333333333333, \"#9c179e\"], [0.4444444444444444, \"#bd3786\"], [0.5555555555555556, \"#d8576b\"], [0.6666666666666666, \"#ed7953\"], [0.7777777777777778, \"#fb9f3a\"], [0.8888888888888888, \"#fdca26\"], [1.0, \"#f0f921\"]], \"sequentialminus\": [[0.0, \"#0d0887\"], [0.1111111111111111, \"#46039f\"], [0.2222222222222222, \"#7201a8\"], [0.3333333333333333, \"#9c179e\"], [0.4444444444444444, \"#bd3786\"], [0.5555555555555556, \"#d8576b\"], [0.6666666666666666, \"#ed7953\"], [0.7777777777777778, \"#fb9f3a\"], [0.8888888888888888, \"#fdca26\"], [1.0, \"#f0f921\"]]}, \"colorway\": [\"#636efa\", \"#EF553B\", \"#00cc96\", \"#ab63fa\", \"#FFA15A\", \"#19d3f3\", \"#FF6692\", \"#B6E880\", \"#FF97FF\", \"#FECB52\"], \"font\": {\"color\": \"#2a3f5f\"}, \"geo\": {\"bgcolor\": \"white\", \"lakecolor\": \"white\", \"landcolor\": \"#E5ECF6\", \"showlakes\": true, \"showland\": true, \"subunitcolor\": \"white\"}, \"hoverlabel\": {\"align\": \"left\"}, \"hovermode\": \"closest\", \"mapbox\": {\"style\": \"light\"}, \"paper_bgcolor\": \"white\", \"plot_bgcolor\": \"#E5ECF6\", \"polar\": {\"angularaxis\": {\"gridcolor\": \"white\", \"linecolor\": \"white\", \"ticks\": \"\"}, \"bgcolor\": \"#E5ECF6\", \"radialaxis\": {\"gridcolor\": \"white\", \"linecolor\": \"white\", \"ticks\": \"\"}}, \"scene\": {\"xaxis\": {\"backgroundcolor\": \"#E5ECF6\", \"gridcolor\": \"white\", \"gridwidth\": 2, \"linecolor\": \"white\", \"showbackground\": true, \"ticks\": \"\", \"zerolinecolor\": \"white\"}, \"yaxis\": {\"backgroundcolor\": \"#E5ECF6\", \"gridcolor\": \"white\", \"gridwidth\": 2, \"linecolor\": \"white\", \"showbackground\": true, \"ticks\": \"\", \"zerolinecolor\": \"white\"}, \"zaxis\": {\"backgroundcolor\": \"#E5ECF6\", \"gridcolor\": \"white\", \"gridwidth\": 2, \"linecolor\": \"white\", \"showbackground\": true, \"ticks\": \"\", \"zerolinecolor\": \"white\"}}, \"shapedefaults\": {\"line\": {\"color\": \"#2a3f5f\"}}, \"ternary\": {\"aaxis\": {\"gridcolor\": \"white\", \"linecolor\": \"white\", \"ticks\": \"\"}, \"baxis\": {\"gridcolor\": \"white\", \"linecolor\": \"white\", \"ticks\": \"\"}, \"bgcolor\": \"#E5ECF6\", \"caxis\": {\"gridcolor\": \"white\", \"linecolor\": \"white\", \"ticks\": \"\"}}, \"title\": {\"x\": 0.05}, \"xaxis\": {\"automargin\": true, \"gridcolor\": \"white\", \"linecolor\": \"white\", \"ticks\": \"\", \"title\": {\"standoff\": 15}, \"zerolinecolor\": \"white\", \"zerolinewidth\": 2}, \"yaxis\": {\"automargin\": true, \"gridcolor\": \"white\", \"linecolor\": \"white\", \"ticks\": \"\", \"title\": {\"standoff\": 15}, \"zerolinecolor\": \"white\", \"zerolinewidth\": 2}}}, \"title\": {\"font\": {\"color\": \"#4D5663\"}}, \"xaxis\": {\"gridcolor\": \"#E1E5ED\", \"showgrid\": true, \"tickfont\": {\"color\": \"#4D5663\"}, \"title\": {\"font\": {\"color\": \"#4D5663\"}, \"text\": \"\"}, \"zerolinecolor\": \"#E1E5ED\"}, \"yaxis\": {\"gridcolor\": \"#E1E5ED\", \"showgrid\": true, \"tickfont\": {\"color\": \"#4D5663\"}, \"title\": {\"font\": {\"color\": \"#4D5663\"}, \"text\": \"\"}, \"zerolinecolor\": \"#E1E5ED\"}},\n",
       "                        {\"showLink\": true, \"linkText\": \"Export to plot.ly\", \"plotlyServerURL\": \"https://plot.ly\", \"responsive\": true}\n",
       "                    ).then(function(){\n",
       "                            \n",
       "var gd = document.getElementById('0870bc62-85ad-4f46-97bd-5d17a127c54e');\n",
       "var x = new MutationObserver(function (mutations, observer) {{\n",
       "        var display = window.getComputedStyle(gd).display;\n",
       "        if (!display || display === 'none') {{\n",
       "            console.log([gd, 'removed!']);\n",
       "            Plotly.purge(gd);\n",
       "            observer.disconnect();\n",
       "        }}\n",
       "}});\n",
       "\n",
       "// Listen for the removal of the full notebook cells\n",
       "var notebookContainer = gd.closest('#notebook-container');\n",
       "if (notebookContainer) {{\n",
       "    x.observe(notebookContainer, {childList: true});\n",
       "}}\n",
       "\n",
       "// Listen for the clearing of the current output cell\n",
       "var outputEl = gd.closest('.output');\n",
       "if (outputEl) {{\n",
       "    x.observe(outputEl, {childList: true});\n",
       "}}\n",
       "\n",
       "                        })\n",
       "                };\n",
       "                });\n",
       "            </script>\n",
       "        </div>"
      ]
     },
     "metadata": {},
     "output_type": "display_data"
    }
   ],
   "source": [
    "df.sum().iplot(kind='bar') # cant take the sum of each column, and this is more meaningful"
   ]
  },
  {
   "cell_type": "code",
   "execution_count": 40,
   "metadata": {},
   "outputs": [],
   "source": [
    "# Box Plots"
   ]
  },
  {
   "cell_type": "code",
   "execution_count": 42,
   "metadata": {},
   "outputs": [
    {
     "data": {
      "application/vnd.plotly.v1+json": {
       "config": {
        "linkText": "Export to plot.ly",
        "plotlyServerURL": "https://plot.ly",
        "showLink": true
       },
       "data": [
        {
         "boxpoints": false,
         "line": {
          "width": 1.3
         },
         "marker": {
          "color": "rgba(255, 153, 51, 1.0)"
         },
         "name": "A",
         "orientation": "v",
         "type": "box",
         "y": [
          -0.5009543608026148,
          -0.4204615151389094,
          -0.49553283935936165,
          0.7657304693445539,
          -0.07847397916945117,
          0.6700761884302777,
          1.6148887957746296,
          -0.14346731599489548,
          -0.2665864011088299,
          1.5203733905118066,
          -1.6225831980015681,
          -0.0010036338978958532,
          -0.20764556384936733,
          1.2211140213435423,
          0.7616648705923982,
          0.8511236141237207,
          -0.11514925363568562,
          -0.20936138521130568,
          -0.23694314875636666,
          -1.41396658714284,
          -0.7197209408930788,
          -0.21986205769332937,
          1.0281717480256272,
          -0.34491294269628503,
          1.8387982177216249,
          1.7454245898531036,
          0.40475695887285834,
          0.38445221563913434,
          0.09096690376723829,
          -0.5452474872683721,
          0.36883064898417145,
          0.471064900436615,
          0.08943939927300605,
          -0.04711988398954826,
          -0.377726634293231,
          0.7896939082042002,
          0.2834844224400587,
          -0.3712372134953554,
          -0.8239234838514105,
          -0.24380479792713633,
          0.8021227623642619,
          0.8595077643277932,
          -0.89133910900524,
          -0.08704741110358603,
          1.1154306476276132,
          -0.8232991534045231,
          0.03951476468379789,
          -0.5897579157424271,
          0.48638772034887495,
          -0.23689141912829995,
          -0.849875469508366,
          1.2033244290804135,
          -0.9707942664404414,
          0.5345692965058876,
          0.24185563713696623,
          -1.2480718435113924,
          -1.9764817321890251,
          0.17398462490394964,
          -0.2958648071038704,
          -0.9073789839128634,
          -0.320061959697221,
          -1.2894563780049575,
          0.8162202543091142,
          0.7279819747659728,
          0.5016314636811545,
          -1.6350473403411654,
          1.112226070703627,
          -1.3798198056686024,
          0.03712506450794439,
          0.8725646848428592,
          -0.062491031397570555,
          -1.283446523292469,
          0.8042769164891135,
          -1.2878267604909532,
          -2.4243449762842935,
          1.455471611236058,
          0.4262483065173007,
          -1.1011863485263866,
          0.36393070625865315,
          -0.3828540123202687,
          0.07374167084754127,
          -1.3446917941460133,
          -0.07602512088167016,
          2.131579084083562,
          0.8633118511617681,
          0.9567443066299663,
          -0.35082901706021047,
          0.5353353137007961,
          -0.06072553628984715,
          0.4216056690056466,
          1.8201523623294387,
          -1.4207116091443348,
          -0.24445402467878669,
          1.0790482734281726,
          -0.301775352771489,
          -0.463830499688751,
          -0.48449348616253807,
          -0.8952937264879816,
          -0.17464315190589047,
          -1.5690068772777155
         ]
        },
        {
         "boxpoints": false,
         "line": {
          "width": 1.3
         },
         "marker": {
          "color": "rgba(55, 128, 191, 1.0)"
         },
         "name": "B",
         "orientation": "v",
         "type": "box",
         "y": [
          0.4647073083742839,
          -0.05638983549159592,
          0.8211639860066423,
          -0.5302111813539075,
          -0.026095626254060273,
          0.934819749012539,
          -0.06881896608775859,
          0.7431747218014507,
          -0.6634138417015264,
          -0.6407659494255311,
          -2.0830026972903197,
          1.8045522880146014,
          1.037149625547556,
          0.3248740795752661,
          0.16422555997258756,
          -0.04448673216754261,
          -1.1666989664863299,
          -0.34489031820823246,
          0.023191019187505314,
          -1.130997876996157,
          0.6537048033347655,
          -2.008977265519097,
          2.1187636059019828,
          -0.14720374779769907,
          -0.4119883895674882,
          -0.01889786289040426,
          -0.5408825560442116,
          0.6532664735645086,
          0.3019048417424934,
          1.6458305129952842,
          0.6030209295808521,
          -0.3623998992628467,
          -1.354212000595378,
          -1.172657051102667,
          -0.1769801146101835,
          2.2055905103394196,
          0.2760796035999615,
          -1.7813429624595076,
          0.7750526626200264,
          -0.5805198523009042,
          -1.0618189104978328,
          0.18946634999859532,
          0.381459586503324,
          -0.9242275271954474,
          -0.5628414484788141,
          -0.8638503681130342,
          -0.12409497161196388,
          1.0458509752935239,
          -0.695096587506082,
          1.2734349572542032,
          0.24242678837999837,
          -0.5467390258304995,
          -0.6363370209478098,
          2.013175801488738,
          0.7725826019693162,
          -0.3915999325975337,
          -0.21384985463778458,
          1.4732988178499873,
          -1.946677160191751,
          0.40084042312757945,
          1.3366011084629332,
          -0.3613636341442311,
          0.5298250484301542,
          1.4558635024058049,
          -0.6318727492567257,
          -0.8227985700773811,
          -0.5377019717823004,
          -1.7902939476280129,
          -0.26846879662803125,
          1.465181281886347,
          2.3219711044551956,
          0.9250989703211202,
          0.8916825245438201,
          -1.1517637591562595,
          -0.19150262412323274,
          1.4792770255841388,
          1.6861949140510182,
          0.4512015631832032,
          0.1485498153576192,
          0.7032594474993233,
          1.398402958112115,
          -0.0031789942556199823,
          -0.6032519124226736,
          0.9550811638193741,
          1.737666005127905,
          1.060053557429989,
          1.2895208947773007,
          -1.1953320328355028,
          1.782261738784618,
          1.9306290169917022,
          -0.7425207838161446,
          -0.9754342092359741,
          0.9982550336125903,
          0.04387350789025311,
          -0.6029540220032642,
          -0.3176203472281875,
          1.3016837317080092,
          1.319139155169162,
          0.60300051445889,
          -0.4734361308297189
         ]
        },
        {
         "boxpoints": false,
         "line": {
          "width": 1.3
         },
         "marker": {
          "color": "rgba(50, 171, 96, 1.0)"
         },
         "name": "C",
         "orientation": "v",
         "type": "box",
         "y": [
          -0.40315973833766044,
          -1.360054681543459,
          0.7106343682785928,
          -0.9177669533408417,
          0.06883949789015524,
          0.01696296847514918,
          -0.44393478997380553,
          -0.7198535392505376,
          -0.7875483593999346,
          1.9155416094569315,
          0.6583623881679307,
          0.5376709735739473,
          1.0405012466708365,
          -0.23171979820644356,
          -0.3744126532426237,
          -1.1618515687799378,
          -1.3964253535908646,
          0.5769970040773327,
          -1.0835044014698794,
          0.5747678743329491,
          -0.11827539408021497,
          0.2151484932585146,
          0.08078309448514429,
          -2.037047352546062,
          -1.390219773530132,
          0.09167606324494677,
          -0.7235507708580192,
          -0.5405884558003439,
          -1.2811560263191193,
          -0.4543060750192719,
          -1.1165034510234548,
          0.3000613728191319,
          -0.05289080065345519,
          0.362704088345904,
          -0.9680892848574593,
          0.6680708701581071,
          -0.8231344948245031,
          0.715348855171547,
          0.5650247434328161,
          -0.5773761355342275,
          -0.9286783479833696,
          0.7776532703274646,
          -0.12317469719040205,
          -1.1513332111873045,
          0.5063978291626221,
          -0.8742393811420719,
          1.9156488862245638,
          -1.0865525250496144,
          0.44206782103104286,
          0.9026685461629094,
          2.895994875542977,
          1.1285450455156265,
          1.1841356567838248,
          0.19876360513024213,
          1.4886716994001934,
          -0.3327270700698986,
          -0.5621700345151495,
          -0.5847259828949196,
          -1.2846401342555829,
          -0.6016000623194985,
          -0.09861791991283785,
          1.1816530601740363,
          -0.6908357948875438,
          0.3171310416057197,
          0.7552121889991846,
          -2.3888071483371647,
          -1.1485383178467785,
          0.5897185443197643,
          -0.36845595698948597,
          -0.5717563197990444,
          -0.14214523110978153,
          0.0004170052383094638,
          -0.18461428501604366,
          -0.1052252881648122,
          -0.8292749236373992,
          -0.08997556334434115,
          1.2644372314371435,
          2.0832196408139105,
          0.38676730762963063,
          1.4060141059133717,
          -1.3360038713603481,
          0.34749778659436176,
          -0.33806765343092926,
          1.4157584416445,
          -0.7594413490741586,
          -1.762295996654411,
          0.5617175196967619,
          1.7970365337189476,
          -1.0303904420141936,
          -0.9645790425198174,
          0.9914171618392057,
          -0.10285713286924551,
          -0.8135392007267539,
          0.7187908001826215,
          -0.09528272118315335,
          -0.6296134228433697,
          -0.4152341746240974,
          0.4321855310892845,
          0.7934990376332662,
          -0.4736302553853124
         ]
        },
        {
         "boxpoints": false,
         "line": {
          "width": 1.3
         },
         "marker": {
          "color": "rgba(128, 0, 128, 1.0)"
         },
         "name": "D",
         "orientation": "v",
         "type": "box",
         "y": [
          0.7289264925102457,
          0.6912077819830305,
          0.8188163578461918,
          -0.30005691761790504,
          -1.4017653130971819,
          0.7418167945956171,
          -1.3072947407549396,
          0.5238505847258861,
          -0.5815439940403195,
          -0.8792388115836571,
          -1.033454430129768,
          0.7403640958737788,
          -1.0588129764174565,
          -0.7771680087119067,
          -1.6617547956883958,
          -1.5914907424879152,
          -1.0160879667124922,
          1.2678132647838818,
          -0.16793391008686473,
          1.0101429611574362,
          1.8032134050852269,
          -0.8999362203146547,
          -0.8539426072478293,
          -0.8009195843748494,
          -0.3664154121540123,
          -0.6107229900880933,
          -0.3350158000287844,
          0.38272189449206223,
          -1.851550337554075,
          1.2840629959739345,
          -0.8612530460386267,
          1.000086231202697,
          -1.3419411720416599,
          -1.0589510959940858,
          1.3923268650795624,
          -0.11210822226961702,
          -0.5842141681440038,
          -0.029178560040188175,
          -0.47118804612841253,
          0.24960142722219547,
          1.1707027090074467,
          -0.5605349045267657,
          -0.5611008894719185,
          1.5079015447793083,
          -0.7149551059987138,
          0.1438353136292474,
          0.8265123257903583,
          -0.023327793020397707,
          -0.6879816871193085,
          -0.19529967496198097,
          -0.30628224009133753,
          -0.8297173264276736,
          0.8345054934481003,
          0.5792416853511556,
          1.5935219415190103,
          -1.4883411834823808,
          0.7293186817888184,
          0.355228253069335,
          -1.3171366027193092,
          -0.056434275320834004,
          -0.5948376052025565,
          0.5778833712404194,
          0.4722524495743788,
          -0.23223626436639552,
          0.4902558443320463,
          1.2950182054810377,
          -1.7760625858810606,
          -0.6227729304429062,
          -0.5991623946916326,
          -0.4982592912885508,
          -1.49314260325824,
          0.9396270239918765,
          0.6009626436464006,
          1.3100598156970285,
          -0.07742400265272653,
          -0.2243421864407254,
          0.1739583018508991,
          -0.5440884129977694,
          -0.905632736795812,
          -0.8238665725545118,
          0.3257163950575212,
          -1.353642736504197,
          0.1249865569350151,
          1.1471228394269801,
          0.01849814702931045,
          1.7175961052390785,
          0.580982847441958,
          0.3738800828849592,
          0.22981324840051287,
          0.09748587227584486,
          0.6838294695060558,
          -1.1805057378264823,
          0.295612020998169,
          0.815165130870034,
          -0.9725072594716221,
          2.529538533955411,
          0.5554954891446603,
          0.61415886993306,
          0.14864075840154758,
          0.31334340852487175
         ]
        }
       ],
       "layout": {
        "legend": {
         "bgcolor": "#F5F6F9",
         "font": {
          "color": "#4D5663"
         }
        },
        "paper_bgcolor": "#F5F6F9",
        "plot_bgcolor": "#F5F6F9",
        "template": {
         "data": {
          "bar": [
           {
            "error_x": {
             "color": "#2a3f5f"
            },
            "error_y": {
             "color": "#2a3f5f"
            },
            "marker": {
             "line": {
              "color": "#E5ECF6",
              "width": 0.5
             }
            },
            "type": "bar"
           }
          ],
          "barpolar": [
           {
            "marker": {
             "line": {
              "color": "#E5ECF6",
              "width": 0.5
             }
            },
            "type": "barpolar"
           }
          ],
          "carpet": [
           {
            "aaxis": {
             "endlinecolor": "#2a3f5f",
             "gridcolor": "white",
             "linecolor": "white",
             "minorgridcolor": "white",
             "startlinecolor": "#2a3f5f"
            },
            "baxis": {
             "endlinecolor": "#2a3f5f",
             "gridcolor": "white",
             "linecolor": "white",
             "minorgridcolor": "white",
             "startlinecolor": "#2a3f5f"
            },
            "type": "carpet"
           }
          ],
          "choropleth": [
           {
            "colorbar": {
             "outlinewidth": 0,
             "ticks": ""
            },
            "type": "choropleth"
           }
          ],
          "contour": [
           {
            "colorbar": {
             "outlinewidth": 0,
             "ticks": ""
            },
            "colorscale": [
             [
              0,
              "#0d0887"
             ],
             [
              0.1111111111111111,
              "#46039f"
             ],
             [
              0.2222222222222222,
              "#7201a8"
             ],
             [
              0.3333333333333333,
              "#9c179e"
             ],
             [
              0.4444444444444444,
              "#bd3786"
             ],
             [
              0.5555555555555556,
              "#d8576b"
             ],
             [
              0.6666666666666666,
              "#ed7953"
             ],
             [
              0.7777777777777778,
              "#fb9f3a"
             ],
             [
              0.8888888888888888,
              "#fdca26"
             ],
             [
              1,
              "#f0f921"
             ]
            ],
            "type": "contour"
           }
          ],
          "contourcarpet": [
           {
            "colorbar": {
             "outlinewidth": 0,
             "ticks": ""
            },
            "type": "contourcarpet"
           }
          ],
          "heatmap": [
           {
            "colorbar": {
             "outlinewidth": 0,
             "ticks": ""
            },
            "colorscale": [
             [
              0,
              "#0d0887"
             ],
             [
              0.1111111111111111,
              "#46039f"
             ],
             [
              0.2222222222222222,
              "#7201a8"
             ],
             [
              0.3333333333333333,
              "#9c179e"
             ],
             [
              0.4444444444444444,
              "#bd3786"
             ],
             [
              0.5555555555555556,
              "#d8576b"
             ],
             [
              0.6666666666666666,
              "#ed7953"
             ],
             [
              0.7777777777777778,
              "#fb9f3a"
             ],
             [
              0.8888888888888888,
              "#fdca26"
             ],
             [
              1,
              "#f0f921"
             ]
            ],
            "type": "heatmap"
           }
          ],
          "heatmapgl": [
           {
            "colorbar": {
             "outlinewidth": 0,
             "ticks": ""
            },
            "colorscale": [
             [
              0,
              "#0d0887"
             ],
             [
              0.1111111111111111,
              "#46039f"
             ],
             [
              0.2222222222222222,
              "#7201a8"
             ],
             [
              0.3333333333333333,
              "#9c179e"
             ],
             [
              0.4444444444444444,
              "#bd3786"
             ],
             [
              0.5555555555555556,
              "#d8576b"
             ],
             [
              0.6666666666666666,
              "#ed7953"
             ],
             [
              0.7777777777777778,
              "#fb9f3a"
             ],
             [
              0.8888888888888888,
              "#fdca26"
             ],
             [
              1,
              "#f0f921"
             ]
            ],
            "type": "heatmapgl"
           }
          ],
          "histogram": [
           {
            "marker": {
             "colorbar": {
              "outlinewidth": 0,
              "ticks": ""
             }
            },
            "type": "histogram"
           }
          ],
          "histogram2d": [
           {
            "colorbar": {
             "outlinewidth": 0,
             "ticks": ""
            },
            "colorscale": [
             [
              0,
              "#0d0887"
             ],
             [
              0.1111111111111111,
              "#46039f"
             ],
             [
              0.2222222222222222,
              "#7201a8"
             ],
             [
              0.3333333333333333,
              "#9c179e"
             ],
             [
              0.4444444444444444,
              "#bd3786"
             ],
             [
              0.5555555555555556,
              "#d8576b"
             ],
             [
              0.6666666666666666,
              "#ed7953"
             ],
             [
              0.7777777777777778,
              "#fb9f3a"
             ],
             [
              0.8888888888888888,
              "#fdca26"
             ],
             [
              1,
              "#f0f921"
             ]
            ],
            "type": "histogram2d"
           }
          ],
          "histogram2dcontour": [
           {
            "colorbar": {
             "outlinewidth": 0,
             "ticks": ""
            },
            "colorscale": [
             [
              0,
              "#0d0887"
             ],
             [
              0.1111111111111111,
              "#46039f"
             ],
             [
              0.2222222222222222,
              "#7201a8"
             ],
             [
              0.3333333333333333,
              "#9c179e"
             ],
             [
              0.4444444444444444,
              "#bd3786"
             ],
             [
              0.5555555555555556,
              "#d8576b"
             ],
             [
              0.6666666666666666,
              "#ed7953"
             ],
             [
              0.7777777777777778,
              "#fb9f3a"
             ],
             [
              0.8888888888888888,
              "#fdca26"
             ],
             [
              1,
              "#f0f921"
             ]
            ],
            "type": "histogram2dcontour"
           }
          ],
          "mesh3d": [
           {
            "colorbar": {
             "outlinewidth": 0,
             "ticks": ""
            },
            "type": "mesh3d"
           }
          ],
          "parcoords": [
           {
            "line": {
             "colorbar": {
              "outlinewidth": 0,
              "ticks": ""
             }
            },
            "type": "parcoords"
           }
          ],
          "pie": [
           {
            "automargin": true,
            "type": "pie"
           }
          ],
          "scatter": [
           {
            "marker": {
             "colorbar": {
              "outlinewidth": 0,
              "ticks": ""
             }
            },
            "type": "scatter"
           }
          ],
          "scatter3d": [
           {
            "line": {
             "colorbar": {
              "outlinewidth": 0,
              "ticks": ""
             }
            },
            "marker": {
             "colorbar": {
              "outlinewidth": 0,
              "ticks": ""
             }
            },
            "type": "scatter3d"
           }
          ],
          "scattercarpet": [
           {
            "marker": {
             "colorbar": {
              "outlinewidth": 0,
              "ticks": ""
             }
            },
            "type": "scattercarpet"
           }
          ],
          "scattergeo": [
           {
            "marker": {
             "colorbar": {
              "outlinewidth": 0,
              "ticks": ""
             }
            },
            "type": "scattergeo"
           }
          ],
          "scattergl": [
           {
            "marker": {
             "colorbar": {
              "outlinewidth": 0,
              "ticks": ""
             }
            },
            "type": "scattergl"
           }
          ],
          "scattermapbox": [
           {
            "marker": {
             "colorbar": {
              "outlinewidth": 0,
              "ticks": ""
             }
            },
            "type": "scattermapbox"
           }
          ],
          "scatterpolar": [
           {
            "marker": {
             "colorbar": {
              "outlinewidth": 0,
              "ticks": ""
             }
            },
            "type": "scatterpolar"
           }
          ],
          "scatterpolargl": [
           {
            "marker": {
             "colorbar": {
              "outlinewidth": 0,
              "ticks": ""
             }
            },
            "type": "scatterpolargl"
           }
          ],
          "scatterternary": [
           {
            "marker": {
             "colorbar": {
              "outlinewidth": 0,
              "ticks": ""
             }
            },
            "type": "scatterternary"
           }
          ],
          "surface": [
           {
            "colorbar": {
             "outlinewidth": 0,
             "ticks": ""
            },
            "colorscale": [
             [
              0,
              "#0d0887"
             ],
             [
              0.1111111111111111,
              "#46039f"
             ],
             [
              0.2222222222222222,
              "#7201a8"
             ],
             [
              0.3333333333333333,
              "#9c179e"
             ],
             [
              0.4444444444444444,
              "#bd3786"
             ],
             [
              0.5555555555555556,
              "#d8576b"
             ],
             [
              0.6666666666666666,
              "#ed7953"
             ],
             [
              0.7777777777777778,
              "#fb9f3a"
             ],
             [
              0.8888888888888888,
              "#fdca26"
             ],
             [
              1,
              "#f0f921"
             ]
            ],
            "type": "surface"
           }
          ],
          "table": [
           {
            "cells": {
             "fill": {
              "color": "#EBF0F8"
             },
             "line": {
              "color": "white"
             }
            },
            "header": {
             "fill": {
              "color": "#C8D4E3"
             },
             "line": {
              "color": "white"
             }
            },
            "type": "table"
           }
          ]
         },
         "layout": {
          "annotationdefaults": {
           "arrowcolor": "#2a3f5f",
           "arrowhead": 0,
           "arrowwidth": 1
          },
          "coloraxis": {
           "colorbar": {
            "outlinewidth": 0,
            "ticks": ""
           }
          },
          "colorscale": {
           "diverging": [
            [
             0,
             "#8e0152"
            ],
            [
             0.1,
             "#c51b7d"
            ],
            [
             0.2,
             "#de77ae"
            ],
            [
             0.3,
             "#f1b6da"
            ],
            [
             0.4,
             "#fde0ef"
            ],
            [
             0.5,
             "#f7f7f7"
            ],
            [
             0.6,
             "#e6f5d0"
            ],
            [
             0.7,
             "#b8e186"
            ],
            [
             0.8,
             "#7fbc41"
            ],
            [
             0.9,
             "#4d9221"
            ],
            [
             1,
             "#276419"
            ]
           ],
           "sequential": [
            [
             0,
             "#0d0887"
            ],
            [
             0.1111111111111111,
             "#46039f"
            ],
            [
             0.2222222222222222,
             "#7201a8"
            ],
            [
             0.3333333333333333,
             "#9c179e"
            ],
            [
             0.4444444444444444,
             "#bd3786"
            ],
            [
             0.5555555555555556,
             "#d8576b"
            ],
            [
             0.6666666666666666,
             "#ed7953"
            ],
            [
             0.7777777777777778,
             "#fb9f3a"
            ],
            [
             0.8888888888888888,
             "#fdca26"
            ],
            [
             1,
             "#f0f921"
            ]
           ],
           "sequentialminus": [
            [
             0,
             "#0d0887"
            ],
            [
             0.1111111111111111,
             "#46039f"
            ],
            [
             0.2222222222222222,
             "#7201a8"
            ],
            [
             0.3333333333333333,
             "#9c179e"
            ],
            [
             0.4444444444444444,
             "#bd3786"
            ],
            [
             0.5555555555555556,
             "#d8576b"
            ],
            [
             0.6666666666666666,
             "#ed7953"
            ],
            [
             0.7777777777777778,
             "#fb9f3a"
            ],
            [
             0.8888888888888888,
             "#fdca26"
            ],
            [
             1,
             "#f0f921"
            ]
           ]
          },
          "colorway": [
           "#636efa",
           "#EF553B",
           "#00cc96",
           "#ab63fa",
           "#FFA15A",
           "#19d3f3",
           "#FF6692",
           "#B6E880",
           "#FF97FF",
           "#FECB52"
          ],
          "font": {
           "color": "#2a3f5f"
          },
          "geo": {
           "bgcolor": "white",
           "lakecolor": "white",
           "landcolor": "#E5ECF6",
           "showlakes": true,
           "showland": true,
           "subunitcolor": "white"
          },
          "hoverlabel": {
           "align": "left"
          },
          "hovermode": "closest",
          "mapbox": {
           "style": "light"
          },
          "paper_bgcolor": "white",
          "plot_bgcolor": "#E5ECF6",
          "polar": {
           "angularaxis": {
            "gridcolor": "white",
            "linecolor": "white",
            "ticks": ""
           },
           "bgcolor": "#E5ECF6",
           "radialaxis": {
            "gridcolor": "white",
            "linecolor": "white",
            "ticks": ""
           }
          },
          "scene": {
           "xaxis": {
            "backgroundcolor": "#E5ECF6",
            "gridcolor": "white",
            "gridwidth": 2,
            "linecolor": "white",
            "showbackground": true,
            "ticks": "",
            "zerolinecolor": "white"
           },
           "yaxis": {
            "backgroundcolor": "#E5ECF6",
            "gridcolor": "white",
            "gridwidth": 2,
            "linecolor": "white",
            "showbackground": true,
            "ticks": "",
            "zerolinecolor": "white"
           },
           "zaxis": {
            "backgroundcolor": "#E5ECF6",
            "gridcolor": "white",
            "gridwidth": 2,
            "linecolor": "white",
            "showbackground": true,
            "ticks": "",
            "zerolinecolor": "white"
           }
          },
          "shapedefaults": {
           "line": {
            "color": "#2a3f5f"
           }
          },
          "ternary": {
           "aaxis": {
            "gridcolor": "white",
            "linecolor": "white",
            "ticks": ""
           },
           "baxis": {
            "gridcolor": "white",
            "linecolor": "white",
            "ticks": ""
           },
           "bgcolor": "#E5ECF6",
           "caxis": {
            "gridcolor": "white",
            "linecolor": "white",
            "ticks": ""
           }
          },
          "title": {
           "x": 0.05
          },
          "xaxis": {
           "automargin": true,
           "gridcolor": "white",
           "linecolor": "white",
           "ticks": "",
           "title": {
            "standoff": 15
           },
           "zerolinecolor": "white",
           "zerolinewidth": 2
          },
          "yaxis": {
           "automargin": true,
           "gridcolor": "white",
           "linecolor": "white",
           "ticks": "",
           "title": {
            "standoff": 15
           },
           "zerolinecolor": "white",
           "zerolinewidth": 2
          }
         }
        },
        "title": {
         "font": {
          "color": "#4D5663"
         }
        },
        "xaxis": {
         "gridcolor": "#E1E5ED",
         "showgrid": true,
         "tickfont": {
          "color": "#4D5663"
         },
         "title": {
          "font": {
           "color": "#4D5663"
          },
          "text": ""
         },
         "zerolinecolor": "#E1E5ED"
        },
        "yaxis": {
         "gridcolor": "#E1E5ED",
         "showgrid": true,
         "tickfont": {
          "color": "#4D5663"
         },
         "title": {
          "font": {
           "color": "#4D5663"
          },
          "text": ""
         },
         "zerolinecolor": "#E1E5ED"
        }
       }
      },
      "text/html": [
       "<div>\n",
       "        \n",
       "        \n",
       "            <div id=\"d392ded7-948d-4c77-a426-021ce942731d\" class=\"plotly-graph-div\" style=\"height:525px; width:100%;\"></div>\n",
       "            <script type=\"text/javascript\">\n",
       "                require([\"plotly\"], function(Plotly) {\n",
       "                    window.PLOTLYENV=window.PLOTLYENV || {};\n",
       "                    window.PLOTLYENV.BASE_URL='https://plot.ly';\n",
       "                    \n",
       "                if (document.getElementById(\"d392ded7-948d-4c77-a426-021ce942731d\")) {\n",
       "                    Plotly.newPlot(\n",
       "                        'd392ded7-948d-4c77-a426-021ce942731d',\n",
       "                        [{\"boxpoints\": false, \"line\": {\"width\": 1.3}, \"marker\": {\"color\": \"rgba(255, 153, 51, 1.0)\"}, \"name\": \"A\", \"orientation\": \"v\", \"type\": \"box\", \"y\": [-0.5009543608026148, -0.4204615151389094, -0.49553283935936165, 0.7657304693445539, -0.07847397916945117, 0.6700761884302777, 1.6148887957746296, -0.14346731599489548, -0.2665864011088299, 1.5203733905118066, -1.6225831980015681, -0.0010036338978958532, -0.20764556384936733, 1.2211140213435423, 0.7616648705923982, 0.8511236141237207, -0.11514925363568562, -0.20936138521130568, -0.23694314875636666, -1.41396658714284, -0.7197209408930788, -0.21986205769332937, 1.0281717480256272, -0.34491294269628503, 1.8387982177216249, 1.7454245898531036, 0.40475695887285834, 0.38445221563913434, 0.09096690376723829, -0.5452474872683721, 0.36883064898417145, 0.471064900436615, 0.08943939927300605, -0.04711988398954826, -0.377726634293231, 0.7896939082042002, 0.2834844224400587, -0.3712372134953554, -0.8239234838514105, -0.24380479792713633, 0.8021227623642619, 0.8595077643277932, -0.89133910900524, -0.08704741110358603, 1.1154306476276132, -0.8232991534045231, 0.03951476468379789, -0.5897579157424271, 0.48638772034887495, -0.23689141912829995, -0.849875469508366, 1.2033244290804135, -0.9707942664404414, 0.5345692965058876, 0.24185563713696623, -1.2480718435113924, -1.9764817321890251, 0.17398462490394964, -0.2958648071038704, -0.9073789839128634, -0.320061959697221, -1.2894563780049575, 0.8162202543091142, 0.7279819747659728, 0.5016314636811545, -1.6350473403411654, 1.112226070703627, -1.3798198056686024, 0.03712506450794439, 0.8725646848428592, -0.062491031397570555, -1.283446523292469, 0.8042769164891135, -1.2878267604909532, -2.4243449762842935, 1.455471611236058, 0.4262483065173007, -1.1011863485263866, 0.36393070625865315, -0.3828540123202687, 0.07374167084754127, -1.3446917941460133, -0.07602512088167016, 2.131579084083562, 0.8633118511617681, 0.9567443066299663, -0.35082901706021047, 0.5353353137007961, -0.06072553628984715, 0.4216056690056466, 1.8201523623294387, -1.4207116091443348, -0.24445402467878669, 1.0790482734281726, -0.301775352771489, -0.463830499688751, -0.48449348616253807, -0.8952937264879816, -0.17464315190589047, -1.5690068772777155]}, {\"boxpoints\": false, \"line\": {\"width\": 1.3}, \"marker\": {\"color\": \"rgba(55, 128, 191, 1.0)\"}, \"name\": \"B\", \"orientation\": \"v\", \"type\": \"box\", \"y\": [0.4647073083742839, -0.05638983549159592, 0.8211639860066423, -0.5302111813539075, -0.026095626254060273, 0.934819749012539, -0.06881896608775859, 0.7431747218014507, -0.6634138417015264, -0.6407659494255311, -2.0830026972903197, 1.8045522880146014, 1.037149625547556, 0.3248740795752661, 0.16422555997258756, -0.04448673216754261, -1.1666989664863299, -0.34489031820823246, 0.023191019187505314, -1.130997876996157, 0.6537048033347655, -2.008977265519097, 2.1187636059019828, -0.14720374779769907, -0.4119883895674882, -0.01889786289040426, -0.5408825560442116, 0.6532664735645086, 0.3019048417424934, 1.6458305129952842, 0.6030209295808521, -0.3623998992628467, -1.354212000595378, -1.172657051102667, -0.1769801146101835, 2.2055905103394196, 0.2760796035999615, -1.7813429624595076, 0.7750526626200264, -0.5805198523009042, -1.0618189104978328, 0.18946634999859532, 0.381459586503324, -0.9242275271954474, -0.5628414484788141, -0.8638503681130342, -0.12409497161196388, 1.0458509752935239, -0.695096587506082, 1.2734349572542032, 0.24242678837999837, -0.5467390258304995, -0.6363370209478098, 2.013175801488738, 0.7725826019693162, -0.3915999325975337, -0.21384985463778458, 1.4732988178499873, -1.946677160191751, 0.40084042312757945, 1.3366011084629332, -0.3613636341442311, 0.5298250484301542, 1.4558635024058049, -0.6318727492567257, -0.8227985700773811, -0.5377019717823004, -1.7902939476280129, -0.26846879662803125, 1.465181281886347, 2.3219711044551956, 0.9250989703211202, 0.8916825245438201, -1.1517637591562595, -0.19150262412323274, 1.4792770255841388, 1.6861949140510182, 0.4512015631832032, 0.1485498153576192, 0.7032594474993233, 1.398402958112115, -0.0031789942556199823, -0.6032519124226736, 0.9550811638193741, 1.737666005127905, 1.060053557429989, 1.2895208947773007, -1.1953320328355028, 1.782261738784618, 1.9306290169917022, -0.7425207838161446, -0.9754342092359741, 0.9982550336125903, 0.04387350789025311, -0.6029540220032642, -0.3176203472281875, 1.3016837317080092, 1.319139155169162, 0.60300051445889, -0.4734361308297189]}, {\"boxpoints\": false, \"line\": {\"width\": 1.3}, \"marker\": {\"color\": \"rgba(50, 171, 96, 1.0)\"}, \"name\": \"C\", \"orientation\": \"v\", \"type\": \"box\", \"y\": [-0.40315973833766044, -1.360054681543459, 0.7106343682785928, -0.9177669533408417, 0.06883949789015524, 0.01696296847514918, -0.44393478997380553, -0.7198535392505376, -0.7875483593999346, 1.9155416094569315, 0.6583623881679307, 0.5376709735739473, 1.0405012466708365, -0.23171979820644356, -0.3744126532426237, -1.1618515687799378, -1.3964253535908646, 0.5769970040773327, -1.0835044014698794, 0.5747678743329491, -0.11827539408021497, 0.2151484932585146, 0.08078309448514429, -2.037047352546062, -1.390219773530132, 0.09167606324494677, -0.7235507708580192, -0.5405884558003439, -1.2811560263191193, -0.4543060750192719, -1.1165034510234548, 0.3000613728191319, -0.05289080065345519, 0.362704088345904, -0.9680892848574593, 0.6680708701581071, -0.8231344948245031, 0.715348855171547, 0.5650247434328161, -0.5773761355342275, -0.9286783479833696, 0.7776532703274646, -0.12317469719040205, -1.1513332111873045, 0.5063978291626221, -0.8742393811420719, 1.9156488862245638, -1.0865525250496144, 0.44206782103104286, 0.9026685461629094, 2.895994875542977, 1.1285450455156265, 1.1841356567838248, 0.19876360513024213, 1.4886716994001934, -0.3327270700698986, -0.5621700345151495, -0.5847259828949196, -1.2846401342555829, -0.6016000623194985, -0.09861791991283785, 1.1816530601740363, -0.6908357948875438, 0.3171310416057197, 0.7552121889991846, -2.3888071483371647, -1.1485383178467785, 0.5897185443197643, -0.36845595698948597, -0.5717563197990444, -0.14214523110978153, 0.0004170052383094638, -0.18461428501604366, -0.1052252881648122, -0.8292749236373992, -0.08997556334434115, 1.2644372314371435, 2.0832196408139105, 0.38676730762963063, 1.4060141059133717, -1.3360038713603481, 0.34749778659436176, -0.33806765343092926, 1.4157584416445, -0.7594413490741586, -1.762295996654411, 0.5617175196967619, 1.7970365337189476, -1.0303904420141936, -0.9645790425198174, 0.9914171618392057, -0.10285713286924551, -0.8135392007267539, 0.7187908001826215, -0.09528272118315335, -0.6296134228433697, -0.4152341746240974, 0.4321855310892845, 0.7934990376332662, -0.4736302553853124]}, {\"boxpoints\": false, \"line\": {\"width\": 1.3}, \"marker\": {\"color\": \"rgba(128, 0, 128, 1.0)\"}, \"name\": \"D\", \"orientation\": \"v\", \"type\": \"box\", \"y\": [0.7289264925102457, 0.6912077819830305, 0.8188163578461918, -0.30005691761790504, -1.4017653130971819, 0.7418167945956171, -1.3072947407549396, 0.5238505847258861, -0.5815439940403195, -0.8792388115836571, -1.033454430129768, 0.7403640958737788, -1.0588129764174565, -0.7771680087119067, -1.6617547956883958, -1.5914907424879152, -1.0160879667124922, 1.2678132647838818, -0.16793391008686473, 1.0101429611574362, 1.8032134050852269, -0.8999362203146547, -0.8539426072478293, -0.8009195843748494, -0.3664154121540123, -0.6107229900880933, -0.3350158000287844, 0.38272189449206223, -1.851550337554075, 1.2840629959739345, -0.8612530460386267, 1.000086231202697, -1.3419411720416599, -1.0589510959940858, 1.3923268650795624, -0.11210822226961702, -0.5842141681440038, -0.029178560040188175, -0.47118804612841253, 0.24960142722219547, 1.1707027090074467, -0.5605349045267657, -0.5611008894719185, 1.5079015447793083, -0.7149551059987138, 0.1438353136292474, 0.8265123257903583, -0.023327793020397707, -0.6879816871193085, -0.19529967496198097, -0.30628224009133753, -0.8297173264276736, 0.8345054934481003, 0.5792416853511556, 1.5935219415190103, -1.4883411834823808, 0.7293186817888184, 0.355228253069335, -1.3171366027193092, -0.056434275320834004, -0.5948376052025565, 0.5778833712404194, 0.4722524495743788, -0.23223626436639552, 0.4902558443320463, 1.2950182054810377, -1.7760625858810606, -0.6227729304429062, -0.5991623946916326, -0.4982592912885508, -1.49314260325824, 0.9396270239918765, 0.6009626436464006, 1.3100598156970285, -0.07742400265272653, -0.2243421864407254, 0.1739583018508991, -0.5440884129977694, -0.905632736795812, -0.8238665725545118, 0.3257163950575212, -1.353642736504197, 0.1249865569350151, 1.1471228394269801, 0.01849814702931045, 1.7175961052390785, 0.580982847441958, 0.3738800828849592, 0.22981324840051287, 0.09748587227584486, 0.6838294695060558, -1.1805057378264823, 0.295612020998169, 0.815165130870034, -0.9725072594716221, 2.529538533955411, 0.5554954891446603, 0.61415886993306, 0.14864075840154758, 0.31334340852487175]}],\n",
       "                        {\"legend\": {\"bgcolor\": \"#F5F6F9\", \"font\": {\"color\": \"#4D5663\"}}, \"paper_bgcolor\": \"#F5F6F9\", \"plot_bgcolor\": \"#F5F6F9\", \"template\": {\"data\": {\"bar\": [{\"error_x\": {\"color\": \"#2a3f5f\"}, \"error_y\": {\"color\": \"#2a3f5f\"}, \"marker\": {\"line\": {\"color\": \"#E5ECF6\", \"width\": 0.5}}, \"type\": \"bar\"}], \"barpolar\": [{\"marker\": {\"line\": {\"color\": \"#E5ECF6\", \"width\": 0.5}}, \"type\": \"barpolar\"}], \"carpet\": [{\"aaxis\": {\"endlinecolor\": \"#2a3f5f\", \"gridcolor\": \"white\", \"linecolor\": \"white\", \"minorgridcolor\": \"white\", \"startlinecolor\": \"#2a3f5f\"}, \"baxis\": {\"endlinecolor\": \"#2a3f5f\", \"gridcolor\": \"white\", \"linecolor\": \"white\", \"minorgridcolor\": \"white\", \"startlinecolor\": \"#2a3f5f\"}, \"type\": \"carpet\"}], \"choropleth\": [{\"colorbar\": {\"outlinewidth\": 0, \"ticks\": \"\"}, \"type\": \"choropleth\"}], \"contour\": [{\"colorbar\": {\"outlinewidth\": 0, \"ticks\": \"\"}, \"colorscale\": [[0.0, \"#0d0887\"], [0.1111111111111111, \"#46039f\"], [0.2222222222222222, \"#7201a8\"], [0.3333333333333333, \"#9c179e\"], [0.4444444444444444, \"#bd3786\"], [0.5555555555555556, \"#d8576b\"], [0.6666666666666666, \"#ed7953\"], [0.7777777777777778, \"#fb9f3a\"], [0.8888888888888888, \"#fdca26\"], [1.0, \"#f0f921\"]], \"type\": \"contour\"}], \"contourcarpet\": [{\"colorbar\": {\"outlinewidth\": 0, \"ticks\": \"\"}, \"type\": \"contourcarpet\"}], \"heatmap\": [{\"colorbar\": {\"outlinewidth\": 0, \"ticks\": \"\"}, \"colorscale\": [[0.0, \"#0d0887\"], [0.1111111111111111, \"#46039f\"], [0.2222222222222222, \"#7201a8\"], [0.3333333333333333, \"#9c179e\"], [0.4444444444444444, \"#bd3786\"], [0.5555555555555556, \"#d8576b\"], [0.6666666666666666, \"#ed7953\"], [0.7777777777777778, \"#fb9f3a\"], [0.8888888888888888, \"#fdca26\"], [1.0, \"#f0f921\"]], \"type\": \"heatmap\"}], \"heatmapgl\": [{\"colorbar\": {\"outlinewidth\": 0, \"ticks\": \"\"}, \"colorscale\": [[0.0, \"#0d0887\"], [0.1111111111111111, \"#46039f\"], [0.2222222222222222, \"#7201a8\"], [0.3333333333333333, \"#9c179e\"], [0.4444444444444444, \"#bd3786\"], [0.5555555555555556, \"#d8576b\"], [0.6666666666666666, \"#ed7953\"], [0.7777777777777778, \"#fb9f3a\"], [0.8888888888888888, \"#fdca26\"], [1.0, \"#f0f921\"]], \"type\": \"heatmapgl\"}], \"histogram\": [{\"marker\": {\"colorbar\": {\"outlinewidth\": 0, \"ticks\": \"\"}}, \"type\": \"histogram\"}], \"histogram2d\": [{\"colorbar\": {\"outlinewidth\": 0, \"ticks\": \"\"}, \"colorscale\": [[0.0, \"#0d0887\"], [0.1111111111111111, \"#46039f\"], [0.2222222222222222, \"#7201a8\"], [0.3333333333333333, \"#9c179e\"], [0.4444444444444444, \"#bd3786\"], [0.5555555555555556, \"#d8576b\"], [0.6666666666666666, \"#ed7953\"], [0.7777777777777778, \"#fb9f3a\"], [0.8888888888888888, \"#fdca26\"], [1.0, \"#f0f921\"]], \"type\": \"histogram2d\"}], \"histogram2dcontour\": [{\"colorbar\": {\"outlinewidth\": 0, \"ticks\": \"\"}, \"colorscale\": [[0.0, \"#0d0887\"], [0.1111111111111111, \"#46039f\"], [0.2222222222222222, \"#7201a8\"], [0.3333333333333333, \"#9c179e\"], [0.4444444444444444, \"#bd3786\"], [0.5555555555555556, \"#d8576b\"], [0.6666666666666666, \"#ed7953\"], [0.7777777777777778, \"#fb9f3a\"], [0.8888888888888888, \"#fdca26\"], [1.0, \"#f0f921\"]], \"type\": \"histogram2dcontour\"}], \"mesh3d\": [{\"colorbar\": {\"outlinewidth\": 0, \"ticks\": \"\"}, \"type\": \"mesh3d\"}], \"parcoords\": [{\"line\": {\"colorbar\": {\"outlinewidth\": 0, \"ticks\": \"\"}}, \"type\": \"parcoords\"}], \"pie\": [{\"automargin\": true, \"type\": \"pie\"}], \"scatter\": [{\"marker\": {\"colorbar\": {\"outlinewidth\": 0, \"ticks\": \"\"}}, \"type\": \"scatter\"}], \"scatter3d\": [{\"line\": {\"colorbar\": {\"outlinewidth\": 0, \"ticks\": \"\"}}, \"marker\": {\"colorbar\": {\"outlinewidth\": 0, \"ticks\": \"\"}}, \"type\": \"scatter3d\"}], \"scattercarpet\": [{\"marker\": {\"colorbar\": {\"outlinewidth\": 0, \"ticks\": \"\"}}, \"type\": \"scattercarpet\"}], \"scattergeo\": [{\"marker\": {\"colorbar\": {\"outlinewidth\": 0, \"ticks\": \"\"}}, \"type\": \"scattergeo\"}], \"scattergl\": [{\"marker\": {\"colorbar\": {\"outlinewidth\": 0, \"ticks\": \"\"}}, \"type\": \"scattergl\"}], \"scattermapbox\": [{\"marker\": {\"colorbar\": {\"outlinewidth\": 0, \"ticks\": \"\"}}, \"type\": \"scattermapbox\"}], \"scatterpolar\": [{\"marker\": {\"colorbar\": {\"outlinewidth\": 0, \"ticks\": \"\"}}, \"type\": \"scatterpolar\"}], \"scatterpolargl\": [{\"marker\": {\"colorbar\": {\"outlinewidth\": 0, \"ticks\": \"\"}}, \"type\": \"scatterpolargl\"}], \"scatterternary\": [{\"marker\": {\"colorbar\": {\"outlinewidth\": 0, \"ticks\": \"\"}}, \"type\": \"scatterternary\"}], \"surface\": [{\"colorbar\": {\"outlinewidth\": 0, \"ticks\": \"\"}, \"colorscale\": [[0.0, \"#0d0887\"], [0.1111111111111111, \"#46039f\"], [0.2222222222222222, \"#7201a8\"], [0.3333333333333333, \"#9c179e\"], [0.4444444444444444, \"#bd3786\"], [0.5555555555555556, \"#d8576b\"], [0.6666666666666666, \"#ed7953\"], [0.7777777777777778, \"#fb9f3a\"], [0.8888888888888888, \"#fdca26\"], [1.0, \"#f0f921\"]], \"type\": \"surface\"}], \"table\": [{\"cells\": {\"fill\": {\"color\": \"#EBF0F8\"}, \"line\": {\"color\": \"white\"}}, \"header\": {\"fill\": {\"color\": \"#C8D4E3\"}, \"line\": {\"color\": \"white\"}}, \"type\": \"table\"}]}, \"layout\": {\"annotationdefaults\": {\"arrowcolor\": \"#2a3f5f\", \"arrowhead\": 0, \"arrowwidth\": 1}, \"coloraxis\": {\"colorbar\": {\"outlinewidth\": 0, \"ticks\": \"\"}}, \"colorscale\": {\"diverging\": [[0, \"#8e0152\"], [0.1, \"#c51b7d\"], [0.2, \"#de77ae\"], [0.3, \"#f1b6da\"], [0.4, \"#fde0ef\"], [0.5, \"#f7f7f7\"], [0.6, \"#e6f5d0\"], [0.7, \"#b8e186\"], [0.8, \"#7fbc41\"], [0.9, \"#4d9221\"], [1, \"#276419\"]], \"sequential\": [[0.0, \"#0d0887\"], [0.1111111111111111, \"#46039f\"], [0.2222222222222222, \"#7201a8\"], [0.3333333333333333, \"#9c179e\"], [0.4444444444444444, \"#bd3786\"], [0.5555555555555556, \"#d8576b\"], [0.6666666666666666, \"#ed7953\"], [0.7777777777777778, \"#fb9f3a\"], [0.8888888888888888, \"#fdca26\"], [1.0, \"#f0f921\"]], \"sequentialminus\": [[0.0, \"#0d0887\"], [0.1111111111111111, \"#46039f\"], [0.2222222222222222, \"#7201a8\"], [0.3333333333333333, \"#9c179e\"], [0.4444444444444444, \"#bd3786\"], [0.5555555555555556, \"#d8576b\"], [0.6666666666666666, \"#ed7953\"], [0.7777777777777778, \"#fb9f3a\"], [0.8888888888888888, \"#fdca26\"], [1.0, \"#f0f921\"]]}, \"colorway\": [\"#636efa\", \"#EF553B\", \"#00cc96\", \"#ab63fa\", \"#FFA15A\", \"#19d3f3\", \"#FF6692\", \"#B6E880\", \"#FF97FF\", \"#FECB52\"], \"font\": {\"color\": \"#2a3f5f\"}, \"geo\": {\"bgcolor\": \"white\", \"lakecolor\": \"white\", \"landcolor\": \"#E5ECF6\", \"showlakes\": true, \"showland\": true, \"subunitcolor\": \"white\"}, \"hoverlabel\": {\"align\": \"left\"}, \"hovermode\": \"closest\", \"mapbox\": {\"style\": \"light\"}, \"paper_bgcolor\": \"white\", \"plot_bgcolor\": \"#E5ECF6\", \"polar\": {\"angularaxis\": {\"gridcolor\": \"white\", \"linecolor\": \"white\", \"ticks\": \"\"}, \"bgcolor\": \"#E5ECF6\", \"radialaxis\": {\"gridcolor\": \"white\", \"linecolor\": \"white\", \"ticks\": \"\"}}, \"scene\": {\"xaxis\": {\"backgroundcolor\": \"#E5ECF6\", \"gridcolor\": \"white\", \"gridwidth\": 2, \"linecolor\": \"white\", \"showbackground\": true, \"ticks\": \"\", \"zerolinecolor\": \"white\"}, \"yaxis\": {\"backgroundcolor\": \"#E5ECF6\", \"gridcolor\": \"white\", \"gridwidth\": 2, \"linecolor\": \"white\", \"showbackground\": true, \"ticks\": \"\", \"zerolinecolor\": \"white\"}, \"zaxis\": {\"backgroundcolor\": \"#E5ECF6\", \"gridcolor\": \"white\", \"gridwidth\": 2, \"linecolor\": \"white\", \"showbackground\": true, \"ticks\": \"\", \"zerolinecolor\": \"white\"}}, \"shapedefaults\": {\"line\": {\"color\": \"#2a3f5f\"}}, \"ternary\": {\"aaxis\": {\"gridcolor\": \"white\", \"linecolor\": \"white\", \"ticks\": \"\"}, \"baxis\": {\"gridcolor\": \"white\", \"linecolor\": \"white\", \"ticks\": \"\"}, \"bgcolor\": \"#E5ECF6\", \"caxis\": {\"gridcolor\": \"white\", \"linecolor\": \"white\", \"ticks\": \"\"}}, \"title\": {\"x\": 0.05}, \"xaxis\": {\"automargin\": true, \"gridcolor\": \"white\", \"linecolor\": \"white\", \"ticks\": \"\", \"title\": {\"standoff\": 15}, \"zerolinecolor\": \"white\", \"zerolinewidth\": 2}, \"yaxis\": {\"automargin\": true, \"gridcolor\": \"white\", \"linecolor\": \"white\", \"ticks\": \"\", \"title\": {\"standoff\": 15}, \"zerolinecolor\": \"white\", \"zerolinewidth\": 2}}}, \"title\": {\"font\": {\"color\": \"#4D5663\"}}, \"xaxis\": {\"gridcolor\": \"#E1E5ED\", \"showgrid\": true, \"tickfont\": {\"color\": \"#4D5663\"}, \"title\": {\"font\": {\"color\": \"#4D5663\"}, \"text\": \"\"}, \"zerolinecolor\": \"#E1E5ED\"}, \"yaxis\": {\"gridcolor\": \"#E1E5ED\", \"showgrid\": true, \"tickfont\": {\"color\": \"#4D5663\"}, \"title\": {\"font\": {\"color\": \"#4D5663\"}, \"text\": \"\"}, \"zerolinecolor\": \"#E1E5ED\"}},\n",
       "                        {\"showLink\": true, \"linkText\": \"Export to plot.ly\", \"plotlyServerURL\": \"https://plot.ly\", \"responsive\": true}\n",
       "                    ).then(function(){\n",
       "                            \n",
       "var gd = document.getElementById('d392ded7-948d-4c77-a426-021ce942731d');\n",
       "var x = new MutationObserver(function (mutations, observer) {{\n",
       "        var display = window.getComputedStyle(gd).display;\n",
       "        if (!display || display === 'none') {{\n",
       "            console.log([gd, 'removed!']);\n",
       "            Plotly.purge(gd);\n",
       "            observer.disconnect();\n",
       "        }}\n",
       "}});\n",
       "\n",
       "// Listen for the removal of the full notebook cells\n",
       "var notebookContainer = gd.closest('#notebook-container');\n",
       "if (notebookContainer) {{\n",
       "    x.observe(notebookContainer, {childList: true});\n",
       "}}\n",
       "\n",
       "// Listen for the clearing of the current output cell\n",
       "var outputEl = gd.closest('.output');\n",
       "if (outputEl) {{\n",
       "    x.observe(outputEl, {childList: true});\n",
       "}}\n",
       "\n",
       "                        })\n",
       "                };\n",
       "                });\n",
       "            </script>\n",
       "        </div>"
      ]
     },
     "metadata": {},
     "output_type": "display_data"
    }
   ],
   "source": [
    "df.iplot(kind='box')"
   ]
  },
  {
   "cell_type": "code",
   "execution_count": 44,
   "metadata": {},
   "outputs": [],
   "source": [
    "# 3D surface plot"
   ]
  },
  {
   "cell_type": "code",
   "execution_count": 46,
   "metadata": {},
   "outputs": [],
   "source": [
    "df3 = pd.DataFrame({'x':[1,2,3,4,5],'y':[10,20,30,20,10],'z':[500,400,300,200,100]}) # create 3rd df"
   ]
  },
  {
   "cell_type": "code",
   "execution_count": 48,
   "metadata": {},
   "outputs": [
    {
     "data": {
      "text/html": [
       "<div>\n",
       "<style scoped>\n",
       "    .dataframe tbody tr th:only-of-type {\n",
       "        vertical-align: middle;\n",
       "    }\n",
       "\n",
       "    .dataframe tbody tr th {\n",
       "        vertical-align: top;\n",
       "    }\n",
       "\n",
       "    .dataframe thead th {\n",
       "        text-align: right;\n",
       "    }\n",
       "</style>\n",
       "<table border=\"1\" class=\"dataframe\">\n",
       "  <thead>\n",
       "    <tr style=\"text-align: right;\">\n",
       "      <th></th>\n",
       "      <th>x</th>\n",
       "      <th>y</th>\n",
       "      <th>z</th>\n",
       "    </tr>\n",
       "  </thead>\n",
       "  <tbody>\n",
       "    <tr>\n",
       "      <th>0</th>\n",
       "      <td>1</td>\n",
       "      <td>10</td>\n",
       "      <td>500</td>\n",
       "    </tr>\n",
       "    <tr>\n",
       "      <th>1</th>\n",
       "      <td>2</td>\n",
       "      <td>20</td>\n",
       "      <td>400</td>\n",
       "    </tr>\n",
       "    <tr>\n",
       "      <th>2</th>\n",
       "      <td>3</td>\n",
       "      <td>30</td>\n",
       "      <td>300</td>\n",
       "    </tr>\n",
       "    <tr>\n",
       "      <th>3</th>\n",
       "      <td>4</td>\n",
       "      <td>20</td>\n",
       "      <td>200</td>\n",
       "    </tr>\n",
       "    <tr>\n",
       "      <th>4</th>\n",
       "      <td>5</td>\n",
       "      <td>10</td>\n",
       "      <td>100</td>\n",
       "    </tr>\n",
       "  </tbody>\n",
       "</table>\n",
       "</div>"
      ],
      "text/plain": [
       "   x   y    z\n",
       "0  1  10  500\n",
       "1  2  20  400\n",
       "2  3  30  300\n",
       "3  4  20  200\n",
       "4  5  10  100"
      ]
     },
     "execution_count": 48,
     "metadata": {},
     "output_type": "execute_result"
    }
   ],
   "source": [
    "df3 # this is 3d of values or 3 variables we will work with "
   ]
  },
  {
   "cell_type": "code",
   "execution_count": 50,
   "metadata": {},
   "outputs": [
    {
     "data": {
      "application/vnd.plotly.v1+json": {
       "config": {
        "linkText": "Export to plot.ly",
        "plotlyServerURL": "https://plot.ly",
        "showLink": true
       },
       "data": [
        {
         "colorscale": [
          [
           0,
           "rgb(255, 153, 51)"
          ],
          [
           0.1111111111111111,
           "rgb(55, 128, 191)"
          ],
          [
           0.2222222222222222,
           "rgb(50, 171, 96)"
          ],
          [
           0.3333333333333333,
           "rgb(128, 0, 128)"
          ],
          [
           0.4444444444444444,
           "rgb(219, 64, 82)"
          ],
          [
           0.5555555555555556,
           "rgb(0, 128, 128)"
          ],
          [
           0.6666666666666666,
           "rgb(255, 255, 51)"
          ],
          [
           0.7777777777777778,
           "rgb(128, 128, 0)"
          ],
          [
           0.8888888888888888,
           "rgb(251, 128, 114)"
          ],
          [
           1,
           "rgb(128, 177, 211)"
          ]
         ],
         "type": "surface",
         "x": [
          0,
          1,
          2,
          3,
          4
         ],
         "y": [
          "x",
          "y",
          "z"
         ],
         "z": [
          [
           1,
           2,
           3,
           4,
           5
          ],
          [
           10,
           20,
           30,
           20,
           10
          ],
          [
           500,
           400,
           300,
           200,
           100
          ]
         ]
        }
       ],
       "layout": {
        "legend": {
         "bgcolor": "#F5F6F9",
         "font": {
          "color": "#4D5663"
         }
        },
        "paper_bgcolor": "#F5F6F9",
        "plot_bgcolor": "#F5F6F9",
        "template": {
         "data": {
          "bar": [
           {
            "error_x": {
             "color": "#2a3f5f"
            },
            "error_y": {
             "color": "#2a3f5f"
            },
            "marker": {
             "line": {
              "color": "#E5ECF6",
              "width": 0.5
             }
            },
            "type": "bar"
           }
          ],
          "barpolar": [
           {
            "marker": {
             "line": {
              "color": "#E5ECF6",
              "width": 0.5
             }
            },
            "type": "barpolar"
           }
          ],
          "carpet": [
           {
            "aaxis": {
             "endlinecolor": "#2a3f5f",
             "gridcolor": "white",
             "linecolor": "white",
             "minorgridcolor": "white",
             "startlinecolor": "#2a3f5f"
            },
            "baxis": {
             "endlinecolor": "#2a3f5f",
             "gridcolor": "white",
             "linecolor": "white",
             "minorgridcolor": "white",
             "startlinecolor": "#2a3f5f"
            },
            "type": "carpet"
           }
          ],
          "choropleth": [
           {
            "colorbar": {
             "outlinewidth": 0,
             "ticks": ""
            },
            "type": "choropleth"
           }
          ],
          "contour": [
           {
            "colorbar": {
             "outlinewidth": 0,
             "ticks": ""
            },
            "colorscale": [
             [
              0,
              "#0d0887"
             ],
             [
              0.1111111111111111,
              "#46039f"
             ],
             [
              0.2222222222222222,
              "#7201a8"
             ],
             [
              0.3333333333333333,
              "#9c179e"
             ],
             [
              0.4444444444444444,
              "#bd3786"
             ],
             [
              0.5555555555555556,
              "#d8576b"
             ],
             [
              0.6666666666666666,
              "#ed7953"
             ],
             [
              0.7777777777777778,
              "#fb9f3a"
             ],
             [
              0.8888888888888888,
              "#fdca26"
             ],
             [
              1,
              "#f0f921"
             ]
            ],
            "type": "contour"
           }
          ],
          "contourcarpet": [
           {
            "colorbar": {
             "outlinewidth": 0,
             "ticks": ""
            },
            "type": "contourcarpet"
           }
          ],
          "heatmap": [
           {
            "colorbar": {
             "outlinewidth": 0,
             "ticks": ""
            },
            "colorscale": [
             [
              0,
              "#0d0887"
             ],
             [
              0.1111111111111111,
              "#46039f"
             ],
             [
              0.2222222222222222,
              "#7201a8"
             ],
             [
              0.3333333333333333,
              "#9c179e"
             ],
             [
              0.4444444444444444,
              "#bd3786"
             ],
             [
              0.5555555555555556,
              "#d8576b"
             ],
             [
              0.6666666666666666,
              "#ed7953"
             ],
             [
              0.7777777777777778,
              "#fb9f3a"
             ],
             [
              0.8888888888888888,
              "#fdca26"
             ],
             [
              1,
              "#f0f921"
             ]
            ],
            "type": "heatmap"
           }
          ],
          "heatmapgl": [
           {
            "colorbar": {
             "outlinewidth": 0,
             "ticks": ""
            },
            "colorscale": [
             [
              0,
              "#0d0887"
             ],
             [
              0.1111111111111111,
              "#46039f"
             ],
             [
              0.2222222222222222,
              "#7201a8"
             ],
             [
              0.3333333333333333,
              "#9c179e"
             ],
             [
              0.4444444444444444,
              "#bd3786"
             ],
             [
              0.5555555555555556,
              "#d8576b"
             ],
             [
              0.6666666666666666,
              "#ed7953"
             ],
             [
              0.7777777777777778,
              "#fb9f3a"
             ],
             [
              0.8888888888888888,
              "#fdca26"
             ],
             [
              1,
              "#f0f921"
             ]
            ],
            "type": "heatmapgl"
           }
          ],
          "histogram": [
           {
            "marker": {
             "colorbar": {
              "outlinewidth": 0,
              "ticks": ""
             }
            },
            "type": "histogram"
           }
          ],
          "histogram2d": [
           {
            "colorbar": {
             "outlinewidth": 0,
             "ticks": ""
            },
            "colorscale": [
             [
              0,
              "#0d0887"
             ],
             [
              0.1111111111111111,
              "#46039f"
             ],
             [
              0.2222222222222222,
              "#7201a8"
             ],
             [
              0.3333333333333333,
              "#9c179e"
             ],
             [
              0.4444444444444444,
              "#bd3786"
             ],
             [
              0.5555555555555556,
              "#d8576b"
             ],
             [
              0.6666666666666666,
              "#ed7953"
             ],
             [
              0.7777777777777778,
              "#fb9f3a"
             ],
             [
              0.8888888888888888,
              "#fdca26"
             ],
             [
              1,
              "#f0f921"
             ]
            ],
            "type": "histogram2d"
           }
          ],
          "histogram2dcontour": [
           {
            "colorbar": {
             "outlinewidth": 0,
             "ticks": ""
            },
            "colorscale": [
             [
              0,
              "#0d0887"
             ],
             [
              0.1111111111111111,
              "#46039f"
             ],
             [
              0.2222222222222222,
              "#7201a8"
             ],
             [
              0.3333333333333333,
              "#9c179e"
             ],
             [
              0.4444444444444444,
              "#bd3786"
             ],
             [
              0.5555555555555556,
              "#d8576b"
             ],
             [
              0.6666666666666666,
              "#ed7953"
             ],
             [
              0.7777777777777778,
              "#fb9f3a"
             ],
             [
              0.8888888888888888,
              "#fdca26"
             ],
             [
              1,
              "#f0f921"
             ]
            ],
            "type": "histogram2dcontour"
           }
          ],
          "mesh3d": [
           {
            "colorbar": {
             "outlinewidth": 0,
             "ticks": ""
            },
            "type": "mesh3d"
           }
          ],
          "parcoords": [
           {
            "line": {
             "colorbar": {
              "outlinewidth": 0,
              "ticks": ""
             }
            },
            "type": "parcoords"
           }
          ],
          "pie": [
           {
            "automargin": true,
            "type": "pie"
           }
          ],
          "scatter": [
           {
            "marker": {
             "colorbar": {
              "outlinewidth": 0,
              "ticks": ""
             }
            },
            "type": "scatter"
           }
          ],
          "scatter3d": [
           {
            "line": {
             "colorbar": {
              "outlinewidth": 0,
              "ticks": ""
             }
            },
            "marker": {
             "colorbar": {
              "outlinewidth": 0,
              "ticks": ""
             }
            },
            "type": "scatter3d"
           }
          ],
          "scattercarpet": [
           {
            "marker": {
             "colorbar": {
              "outlinewidth": 0,
              "ticks": ""
             }
            },
            "type": "scattercarpet"
           }
          ],
          "scattergeo": [
           {
            "marker": {
             "colorbar": {
              "outlinewidth": 0,
              "ticks": ""
             }
            },
            "type": "scattergeo"
           }
          ],
          "scattergl": [
           {
            "marker": {
             "colorbar": {
              "outlinewidth": 0,
              "ticks": ""
             }
            },
            "type": "scattergl"
           }
          ],
          "scattermapbox": [
           {
            "marker": {
             "colorbar": {
              "outlinewidth": 0,
              "ticks": ""
             }
            },
            "type": "scattermapbox"
           }
          ],
          "scatterpolar": [
           {
            "marker": {
             "colorbar": {
              "outlinewidth": 0,
              "ticks": ""
             }
            },
            "type": "scatterpolar"
           }
          ],
          "scatterpolargl": [
           {
            "marker": {
             "colorbar": {
              "outlinewidth": 0,
              "ticks": ""
             }
            },
            "type": "scatterpolargl"
           }
          ],
          "scatterternary": [
           {
            "marker": {
             "colorbar": {
              "outlinewidth": 0,
              "ticks": ""
             }
            },
            "type": "scatterternary"
           }
          ],
          "surface": [
           {
            "colorbar": {
             "outlinewidth": 0,
             "ticks": ""
            },
            "colorscale": [
             [
              0,
              "#0d0887"
             ],
             [
              0.1111111111111111,
              "#46039f"
             ],
             [
              0.2222222222222222,
              "#7201a8"
             ],
             [
              0.3333333333333333,
              "#9c179e"
             ],
             [
              0.4444444444444444,
              "#bd3786"
             ],
             [
              0.5555555555555556,
              "#d8576b"
             ],
             [
              0.6666666666666666,
              "#ed7953"
             ],
             [
              0.7777777777777778,
              "#fb9f3a"
             ],
             [
              0.8888888888888888,
              "#fdca26"
             ],
             [
              1,
              "#f0f921"
             ]
            ],
            "type": "surface"
           }
          ],
          "table": [
           {
            "cells": {
             "fill": {
              "color": "#EBF0F8"
             },
             "line": {
              "color": "white"
             }
            },
            "header": {
             "fill": {
              "color": "#C8D4E3"
             },
             "line": {
              "color": "white"
             }
            },
            "type": "table"
           }
          ]
         },
         "layout": {
          "annotationdefaults": {
           "arrowcolor": "#2a3f5f",
           "arrowhead": 0,
           "arrowwidth": 1
          },
          "coloraxis": {
           "colorbar": {
            "outlinewidth": 0,
            "ticks": ""
           }
          },
          "colorscale": {
           "diverging": [
            [
             0,
             "#8e0152"
            ],
            [
             0.1,
             "#c51b7d"
            ],
            [
             0.2,
             "#de77ae"
            ],
            [
             0.3,
             "#f1b6da"
            ],
            [
             0.4,
             "#fde0ef"
            ],
            [
             0.5,
             "#f7f7f7"
            ],
            [
             0.6,
             "#e6f5d0"
            ],
            [
             0.7,
             "#b8e186"
            ],
            [
             0.8,
             "#7fbc41"
            ],
            [
             0.9,
             "#4d9221"
            ],
            [
             1,
             "#276419"
            ]
           ],
           "sequential": [
            [
             0,
             "#0d0887"
            ],
            [
             0.1111111111111111,
             "#46039f"
            ],
            [
             0.2222222222222222,
             "#7201a8"
            ],
            [
             0.3333333333333333,
             "#9c179e"
            ],
            [
             0.4444444444444444,
             "#bd3786"
            ],
            [
             0.5555555555555556,
             "#d8576b"
            ],
            [
             0.6666666666666666,
             "#ed7953"
            ],
            [
             0.7777777777777778,
             "#fb9f3a"
            ],
            [
             0.8888888888888888,
             "#fdca26"
            ],
            [
             1,
             "#f0f921"
            ]
           ],
           "sequentialminus": [
            [
             0,
             "#0d0887"
            ],
            [
             0.1111111111111111,
             "#46039f"
            ],
            [
             0.2222222222222222,
             "#7201a8"
            ],
            [
             0.3333333333333333,
             "#9c179e"
            ],
            [
             0.4444444444444444,
             "#bd3786"
            ],
            [
             0.5555555555555556,
             "#d8576b"
            ],
            [
             0.6666666666666666,
             "#ed7953"
            ],
            [
             0.7777777777777778,
             "#fb9f3a"
            ],
            [
             0.8888888888888888,
             "#fdca26"
            ],
            [
             1,
             "#f0f921"
            ]
           ]
          },
          "colorway": [
           "#636efa",
           "#EF553B",
           "#00cc96",
           "#ab63fa",
           "#FFA15A",
           "#19d3f3",
           "#FF6692",
           "#B6E880",
           "#FF97FF",
           "#FECB52"
          ],
          "font": {
           "color": "#2a3f5f"
          },
          "geo": {
           "bgcolor": "white",
           "lakecolor": "white",
           "landcolor": "#E5ECF6",
           "showlakes": true,
           "showland": true,
           "subunitcolor": "white"
          },
          "hoverlabel": {
           "align": "left"
          },
          "hovermode": "closest",
          "mapbox": {
           "style": "light"
          },
          "paper_bgcolor": "white",
          "plot_bgcolor": "#E5ECF6",
          "polar": {
           "angularaxis": {
            "gridcolor": "white",
            "linecolor": "white",
            "ticks": ""
           },
           "bgcolor": "#E5ECF6",
           "radialaxis": {
            "gridcolor": "white",
            "linecolor": "white",
            "ticks": ""
           }
          },
          "scene": {
           "xaxis": {
            "backgroundcolor": "#E5ECF6",
            "gridcolor": "white",
            "gridwidth": 2,
            "linecolor": "white",
            "showbackground": true,
            "ticks": "",
            "zerolinecolor": "white"
           },
           "yaxis": {
            "backgroundcolor": "#E5ECF6",
            "gridcolor": "white",
            "gridwidth": 2,
            "linecolor": "white",
            "showbackground": true,
            "ticks": "",
            "zerolinecolor": "white"
           },
           "zaxis": {
            "backgroundcolor": "#E5ECF6",
            "gridcolor": "white",
            "gridwidth": 2,
            "linecolor": "white",
            "showbackground": true,
            "ticks": "",
            "zerolinecolor": "white"
           }
          },
          "shapedefaults": {
           "line": {
            "color": "#2a3f5f"
           }
          },
          "ternary": {
           "aaxis": {
            "gridcolor": "white",
            "linecolor": "white",
            "ticks": ""
           },
           "baxis": {
            "gridcolor": "white",
            "linecolor": "white",
            "ticks": ""
           },
           "bgcolor": "#E5ECF6",
           "caxis": {
            "gridcolor": "white",
            "linecolor": "white",
            "ticks": ""
           }
          },
          "title": {
           "x": 0.05
          },
          "xaxis": {
           "automargin": true,
           "gridcolor": "white",
           "linecolor": "white",
           "ticks": "",
           "title": {
            "standoff": 15
           },
           "zerolinecolor": "white",
           "zerolinewidth": 2
          },
          "yaxis": {
           "automargin": true,
           "gridcolor": "white",
           "linecolor": "white",
           "ticks": "",
           "title": {
            "standoff": 15
           },
           "zerolinecolor": "white",
           "zerolinewidth": 2
          }
         }
        },
        "title": {
         "font": {
          "color": "#4D5663"
         }
        },
        "xaxis": {
         "gridcolor": "#E1E5ED",
         "showgrid": true,
         "tickfont": {
          "color": "#4D5663"
         },
         "title": {
          "font": {
           "color": "#4D5663"
          },
          "text": ""
         },
         "zerolinecolor": "#E1E5ED"
        },
        "yaxis": {
         "gridcolor": "#E1E5ED",
         "showgrid": true,
         "tickfont": {
          "color": "#4D5663"
         },
         "title": {
          "font": {
           "color": "#4D5663"
          },
          "text": ""
         },
         "zerolinecolor": "#E1E5ED"
        }
       }
      },
      "text/html": [
       "<div>\n",
       "        \n",
       "        \n",
       "            <div id=\"eee6d655-583f-4044-843b-f0317fa4e7fa\" class=\"plotly-graph-div\" style=\"height:525px; width:100%;\"></div>\n",
       "            <script type=\"text/javascript\">\n",
       "                require([\"plotly\"], function(Plotly) {\n",
       "                    window.PLOTLYENV=window.PLOTLYENV || {};\n",
       "                    window.PLOTLYENV.BASE_URL='https://plot.ly';\n",
       "                    \n",
       "                if (document.getElementById(\"eee6d655-583f-4044-843b-f0317fa4e7fa\")) {\n",
       "                    Plotly.newPlot(\n",
       "                        'eee6d655-583f-4044-843b-f0317fa4e7fa',\n",
       "                        [{\"colorscale\": [[0.0, \"rgb(255, 153, 51)\"], [0.1111111111111111, \"rgb(55, 128, 191)\"], [0.2222222222222222, \"rgb(50, 171, 96)\"], [0.3333333333333333, \"rgb(128, 0, 128)\"], [0.4444444444444444, \"rgb(219, 64, 82)\"], [0.5555555555555556, \"rgb(0, 128, 128)\"], [0.6666666666666666, \"rgb(255, 255, 51)\"], [0.7777777777777778, \"rgb(128, 128, 0)\"], [0.8888888888888888, \"rgb(251, 128, 114)\"], [1.0, \"rgb(128, 177, 211)\"]], \"type\": \"surface\", \"x\": [0, 1, 2, 3, 4], \"y\": [\"x\", \"y\", \"z\"], \"z\": [[1, 2, 3, 4, 5], [10, 20, 30, 20, 10], [500, 400, 300, 200, 100]]}],\n",
       "                        {\"legend\": {\"bgcolor\": \"#F5F6F9\", \"font\": {\"color\": \"#4D5663\"}}, \"paper_bgcolor\": \"#F5F6F9\", \"plot_bgcolor\": \"#F5F6F9\", \"template\": {\"data\": {\"bar\": [{\"error_x\": {\"color\": \"#2a3f5f\"}, \"error_y\": {\"color\": \"#2a3f5f\"}, \"marker\": {\"line\": {\"color\": \"#E5ECF6\", \"width\": 0.5}}, \"type\": \"bar\"}], \"barpolar\": [{\"marker\": {\"line\": {\"color\": \"#E5ECF6\", \"width\": 0.5}}, \"type\": \"barpolar\"}], \"carpet\": [{\"aaxis\": {\"endlinecolor\": \"#2a3f5f\", \"gridcolor\": \"white\", \"linecolor\": \"white\", \"minorgridcolor\": \"white\", \"startlinecolor\": \"#2a3f5f\"}, \"baxis\": {\"endlinecolor\": \"#2a3f5f\", \"gridcolor\": \"white\", \"linecolor\": \"white\", \"minorgridcolor\": \"white\", \"startlinecolor\": \"#2a3f5f\"}, \"type\": \"carpet\"}], \"choropleth\": [{\"colorbar\": {\"outlinewidth\": 0, \"ticks\": \"\"}, \"type\": \"choropleth\"}], \"contour\": [{\"colorbar\": {\"outlinewidth\": 0, \"ticks\": \"\"}, \"colorscale\": [[0.0, \"#0d0887\"], [0.1111111111111111, \"#46039f\"], [0.2222222222222222, \"#7201a8\"], [0.3333333333333333, \"#9c179e\"], [0.4444444444444444, \"#bd3786\"], [0.5555555555555556, \"#d8576b\"], [0.6666666666666666, \"#ed7953\"], [0.7777777777777778, \"#fb9f3a\"], [0.8888888888888888, \"#fdca26\"], [1.0, \"#f0f921\"]], \"type\": \"contour\"}], \"contourcarpet\": [{\"colorbar\": {\"outlinewidth\": 0, \"ticks\": \"\"}, \"type\": \"contourcarpet\"}], \"heatmap\": [{\"colorbar\": {\"outlinewidth\": 0, \"ticks\": \"\"}, \"colorscale\": [[0.0, \"#0d0887\"], [0.1111111111111111, \"#46039f\"], [0.2222222222222222, \"#7201a8\"], [0.3333333333333333, \"#9c179e\"], [0.4444444444444444, \"#bd3786\"], [0.5555555555555556, \"#d8576b\"], [0.6666666666666666, \"#ed7953\"], [0.7777777777777778, \"#fb9f3a\"], [0.8888888888888888, \"#fdca26\"], [1.0, \"#f0f921\"]], \"type\": \"heatmap\"}], \"heatmapgl\": [{\"colorbar\": {\"outlinewidth\": 0, \"ticks\": \"\"}, \"colorscale\": [[0.0, \"#0d0887\"], [0.1111111111111111, \"#46039f\"], [0.2222222222222222, \"#7201a8\"], [0.3333333333333333, \"#9c179e\"], [0.4444444444444444, \"#bd3786\"], [0.5555555555555556, \"#d8576b\"], [0.6666666666666666, \"#ed7953\"], [0.7777777777777778, \"#fb9f3a\"], [0.8888888888888888, \"#fdca26\"], [1.0, \"#f0f921\"]], \"type\": \"heatmapgl\"}], \"histogram\": [{\"marker\": {\"colorbar\": {\"outlinewidth\": 0, \"ticks\": \"\"}}, \"type\": \"histogram\"}], \"histogram2d\": [{\"colorbar\": {\"outlinewidth\": 0, \"ticks\": \"\"}, \"colorscale\": [[0.0, \"#0d0887\"], [0.1111111111111111, \"#46039f\"], [0.2222222222222222, \"#7201a8\"], [0.3333333333333333, \"#9c179e\"], [0.4444444444444444, \"#bd3786\"], [0.5555555555555556, \"#d8576b\"], [0.6666666666666666, \"#ed7953\"], [0.7777777777777778, \"#fb9f3a\"], [0.8888888888888888, \"#fdca26\"], [1.0, \"#f0f921\"]], \"type\": \"histogram2d\"}], \"histogram2dcontour\": [{\"colorbar\": {\"outlinewidth\": 0, \"ticks\": \"\"}, \"colorscale\": [[0.0, \"#0d0887\"], [0.1111111111111111, \"#46039f\"], [0.2222222222222222, \"#7201a8\"], [0.3333333333333333, \"#9c179e\"], [0.4444444444444444, \"#bd3786\"], [0.5555555555555556, \"#d8576b\"], [0.6666666666666666, \"#ed7953\"], [0.7777777777777778, \"#fb9f3a\"], [0.8888888888888888, \"#fdca26\"], [1.0, \"#f0f921\"]], \"type\": \"histogram2dcontour\"}], \"mesh3d\": [{\"colorbar\": {\"outlinewidth\": 0, \"ticks\": \"\"}, \"type\": \"mesh3d\"}], \"parcoords\": [{\"line\": {\"colorbar\": {\"outlinewidth\": 0, \"ticks\": \"\"}}, \"type\": \"parcoords\"}], \"pie\": [{\"automargin\": true, \"type\": \"pie\"}], \"scatter\": [{\"marker\": {\"colorbar\": {\"outlinewidth\": 0, \"ticks\": \"\"}}, \"type\": \"scatter\"}], \"scatter3d\": [{\"line\": {\"colorbar\": {\"outlinewidth\": 0, \"ticks\": \"\"}}, \"marker\": {\"colorbar\": {\"outlinewidth\": 0, \"ticks\": \"\"}}, \"type\": \"scatter3d\"}], \"scattercarpet\": [{\"marker\": {\"colorbar\": {\"outlinewidth\": 0, \"ticks\": \"\"}}, \"type\": \"scattercarpet\"}], \"scattergeo\": [{\"marker\": {\"colorbar\": {\"outlinewidth\": 0, \"ticks\": \"\"}}, \"type\": \"scattergeo\"}], \"scattergl\": [{\"marker\": {\"colorbar\": {\"outlinewidth\": 0, \"ticks\": \"\"}}, \"type\": \"scattergl\"}], \"scattermapbox\": [{\"marker\": {\"colorbar\": {\"outlinewidth\": 0, \"ticks\": \"\"}}, \"type\": \"scattermapbox\"}], \"scatterpolar\": [{\"marker\": {\"colorbar\": {\"outlinewidth\": 0, \"ticks\": \"\"}}, \"type\": \"scatterpolar\"}], \"scatterpolargl\": [{\"marker\": {\"colorbar\": {\"outlinewidth\": 0, \"ticks\": \"\"}}, \"type\": \"scatterpolargl\"}], \"scatterternary\": [{\"marker\": {\"colorbar\": {\"outlinewidth\": 0, \"ticks\": \"\"}}, \"type\": \"scatterternary\"}], \"surface\": [{\"colorbar\": {\"outlinewidth\": 0, \"ticks\": \"\"}, \"colorscale\": [[0.0, \"#0d0887\"], [0.1111111111111111, \"#46039f\"], [0.2222222222222222, \"#7201a8\"], [0.3333333333333333, \"#9c179e\"], [0.4444444444444444, \"#bd3786\"], [0.5555555555555556, \"#d8576b\"], [0.6666666666666666, \"#ed7953\"], [0.7777777777777778, \"#fb9f3a\"], [0.8888888888888888, \"#fdca26\"], [1.0, \"#f0f921\"]], \"type\": \"surface\"}], \"table\": [{\"cells\": {\"fill\": {\"color\": \"#EBF0F8\"}, \"line\": {\"color\": \"white\"}}, \"header\": {\"fill\": {\"color\": \"#C8D4E3\"}, \"line\": {\"color\": \"white\"}}, \"type\": \"table\"}]}, \"layout\": {\"annotationdefaults\": {\"arrowcolor\": \"#2a3f5f\", \"arrowhead\": 0, \"arrowwidth\": 1}, \"coloraxis\": {\"colorbar\": {\"outlinewidth\": 0, \"ticks\": \"\"}}, \"colorscale\": {\"diverging\": [[0, \"#8e0152\"], [0.1, \"#c51b7d\"], [0.2, \"#de77ae\"], [0.3, \"#f1b6da\"], [0.4, \"#fde0ef\"], [0.5, \"#f7f7f7\"], [0.6, \"#e6f5d0\"], [0.7, \"#b8e186\"], [0.8, \"#7fbc41\"], [0.9, \"#4d9221\"], [1, \"#276419\"]], \"sequential\": [[0.0, \"#0d0887\"], [0.1111111111111111, \"#46039f\"], [0.2222222222222222, \"#7201a8\"], [0.3333333333333333, \"#9c179e\"], [0.4444444444444444, \"#bd3786\"], [0.5555555555555556, \"#d8576b\"], [0.6666666666666666, \"#ed7953\"], [0.7777777777777778, \"#fb9f3a\"], [0.8888888888888888, \"#fdca26\"], [1.0, \"#f0f921\"]], \"sequentialminus\": [[0.0, \"#0d0887\"], [0.1111111111111111, \"#46039f\"], [0.2222222222222222, \"#7201a8\"], [0.3333333333333333, \"#9c179e\"], [0.4444444444444444, \"#bd3786\"], [0.5555555555555556, \"#d8576b\"], [0.6666666666666666, \"#ed7953\"], [0.7777777777777778, \"#fb9f3a\"], [0.8888888888888888, \"#fdca26\"], [1.0, \"#f0f921\"]]}, \"colorway\": [\"#636efa\", \"#EF553B\", \"#00cc96\", \"#ab63fa\", \"#FFA15A\", \"#19d3f3\", \"#FF6692\", \"#B6E880\", \"#FF97FF\", \"#FECB52\"], \"font\": {\"color\": \"#2a3f5f\"}, \"geo\": {\"bgcolor\": \"white\", \"lakecolor\": \"white\", \"landcolor\": \"#E5ECF6\", \"showlakes\": true, \"showland\": true, \"subunitcolor\": \"white\"}, \"hoverlabel\": {\"align\": \"left\"}, \"hovermode\": \"closest\", \"mapbox\": {\"style\": \"light\"}, \"paper_bgcolor\": \"white\", \"plot_bgcolor\": \"#E5ECF6\", \"polar\": {\"angularaxis\": {\"gridcolor\": \"white\", \"linecolor\": \"white\", \"ticks\": \"\"}, \"bgcolor\": \"#E5ECF6\", \"radialaxis\": {\"gridcolor\": \"white\", \"linecolor\": \"white\", \"ticks\": \"\"}}, \"scene\": {\"xaxis\": {\"backgroundcolor\": \"#E5ECF6\", \"gridcolor\": \"white\", \"gridwidth\": 2, \"linecolor\": \"white\", \"showbackground\": true, \"ticks\": \"\", \"zerolinecolor\": \"white\"}, \"yaxis\": {\"backgroundcolor\": \"#E5ECF6\", \"gridcolor\": \"white\", \"gridwidth\": 2, \"linecolor\": \"white\", \"showbackground\": true, \"ticks\": \"\", \"zerolinecolor\": \"white\"}, \"zaxis\": {\"backgroundcolor\": \"#E5ECF6\", \"gridcolor\": \"white\", \"gridwidth\": 2, \"linecolor\": \"white\", \"showbackground\": true, \"ticks\": \"\", \"zerolinecolor\": \"white\"}}, \"shapedefaults\": {\"line\": {\"color\": \"#2a3f5f\"}}, \"ternary\": {\"aaxis\": {\"gridcolor\": \"white\", \"linecolor\": \"white\", \"ticks\": \"\"}, \"baxis\": {\"gridcolor\": \"white\", \"linecolor\": \"white\", \"ticks\": \"\"}, \"bgcolor\": \"#E5ECF6\", \"caxis\": {\"gridcolor\": \"white\", \"linecolor\": \"white\", \"ticks\": \"\"}}, \"title\": {\"x\": 0.05}, \"xaxis\": {\"automargin\": true, \"gridcolor\": \"white\", \"linecolor\": \"white\", \"ticks\": \"\", \"title\": {\"standoff\": 15}, \"zerolinecolor\": \"white\", \"zerolinewidth\": 2}, \"yaxis\": {\"automargin\": true, \"gridcolor\": \"white\", \"linecolor\": \"white\", \"ticks\": \"\", \"title\": {\"standoff\": 15}, \"zerolinecolor\": \"white\", \"zerolinewidth\": 2}}}, \"title\": {\"font\": {\"color\": \"#4D5663\"}}, \"xaxis\": {\"gridcolor\": \"#E1E5ED\", \"showgrid\": true, \"tickfont\": {\"color\": \"#4D5663\"}, \"title\": {\"font\": {\"color\": \"#4D5663\"}, \"text\": \"\"}, \"zerolinecolor\": \"#E1E5ED\"}, \"yaxis\": {\"gridcolor\": \"#E1E5ED\", \"showgrid\": true, \"tickfont\": {\"color\": \"#4D5663\"}, \"title\": {\"font\": {\"color\": \"#4D5663\"}, \"text\": \"\"}, \"zerolinecolor\": \"#E1E5ED\"}},\n",
       "                        {\"showLink\": true, \"linkText\": \"Export to plot.ly\", \"plotlyServerURL\": \"https://plot.ly\", \"responsive\": true}\n",
       "                    ).then(function(){\n",
       "                            \n",
       "var gd = document.getElementById('eee6d655-583f-4044-843b-f0317fa4e7fa');\n",
       "var x = new MutationObserver(function (mutations, observer) {{\n",
       "        var display = window.getComputedStyle(gd).display;\n",
       "        if (!display || display === 'none') {{\n",
       "            console.log([gd, 'removed!']);\n",
       "            Plotly.purge(gd);\n",
       "            observer.disconnect();\n",
       "        }}\n",
       "}});\n",
       "\n",
       "// Listen for the removal of the full notebook cells\n",
       "var notebookContainer = gd.closest('#notebook-container');\n",
       "if (notebookContainer) {{\n",
       "    x.observe(notebookContainer, {childList: true});\n",
       "}}\n",
       "\n",
       "// Listen for the clearing of the current output cell\n",
       "var outputEl = gd.closest('.output');\n",
       "if (outputEl) {{\n",
       "    x.observe(outputEl, {childList: true});\n",
       "}}\n",
       "\n",
       "                        })\n",
       "                };\n",
       "                });\n",
       "            </script>\n",
       "        </div>"
      ]
     },
     "metadata": {},
     "output_type": "display_data"
    }
   ],
   "source": [
    "df3.iplot(kind='surface')"
   ]
  },
  {
   "cell_type": "code",
   "execution_count": 51,
   "metadata": {},
   "outputs": [],
   "source": [
    "df3 = pd.DataFrame({'x':[1,2,3,4,5],'y':[10,20,30,20,10],'z':[5,4,3,2,1]}) # changing the z values"
   ]
  },
  {
   "cell_type": "code",
   "execution_count": 52,
   "metadata": {},
   "outputs": [
    {
     "data": {
      "application/vnd.plotly.v1+json": {
       "config": {
        "linkText": "Export to plot.ly",
        "plotlyServerURL": "https://plot.ly",
        "showLink": true
       },
       "data": [
        {
         "colorscale": [
          [
           0,
           "rgb(255, 153, 51)"
          ],
          [
           0.1111111111111111,
           "rgb(55, 128, 191)"
          ],
          [
           0.2222222222222222,
           "rgb(50, 171, 96)"
          ],
          [
           0.3333333333333333,
           "rgb(128, 0, 128)"
          ],
          [
           0.4444444444444444,
           "rgb(219, 64, 82)"
          ],
          [
           0.5555555555555556,
           "rgb(0, 128, 128)"
          ],
          [
           0.6666666666666666,
           "rgb(255, 255, 51)"
          ],
          [
           0.7777777777777778,
           "rgb(128, 128, 0)"
          ],
          [
           0.8888888888888888,
           "rgb(251, 128, 114)"
          ],
          [
           1,
           "rgb(128, 177, 211)"
          ]
         ],
         "type": "surface",
         "x": [
          0,
          1,
          2,
          3,
          4
         ],
         "y": [
          "x",
          "y",
          "z"
         ],
         "z": [
          [
           1,
           2,
           3,
           4,
           5
          ],
          [
           10,
           20,
           30,
           20,
           10
          ],
          [
           5,
           4,
           3,
           2,
           1
          ]
         ]
        }
       ],
       "layout": {
        "legend": {
         "bgcolor": "#F5F6F9",
         "font": {
          "color": "#4D5663"
         }
        },
        "paper_bgcolor": "#F5F6F9",
        "plot_bgcolor": "#F5F6F9",
        "template": {
         "data": {
          "bar": [
           {
            "error_x": {
             "color": "#2a3f5f"
            },
            "error_y": {
             "color": "#2a3f5f"
            },
            "marker": {
             "line": {
              "color": "#E5ECF6",
              "width": 0.5
             }
            },
            "type": "bar"
           }
          ],
          "barpolar": [
           {
            "marker": {
             "line": {
              "color": "#E5ECF6",
              "width": 0.5
             }
            },
            "type": "barpolar"
           }
          ],
          "carpet": [
           {
            "aaxis": {
             "endlinecolor": "#2a3f5f",
             "gridcolor": "white",
             "linecolor": "white",
             "minorgridcolor": "white",
             "startlinecolor": "#2a3f5f"
            },
            "baxis": {
             "endlinecolor": "#2a3f5f",
             "gridcolor": "white",
             "linecolor": "white",
             "minorgridcolor": "white",
             "startlinecolor": "#2a3f5f"
            },
            "type": "carpet"
           }
          ],
          "choropleth": [
           {
            "colorbar": {
             "outlinewidth": 0,
             "ticks": ""
            },
            "type": "choropleth"
           }
          ],
          "contour": [
           {
            "colorbar": {
             "outlinewidth": 0,
             "ticks": ""
            },
            "colorscale": [
             [
              0,
              "#0d0887"
             ],
             [
              0.1111111111111111,
              "#46039f"
             ],
             [
              0.2222222222222222,
              "#7201a8"
             ],
             [
              0.3333333333333333,
              "#9c179e"
             ],
             [
              0.4444444444444444,
              "#bd3786"
             ],
             [
              0.5555555555555556,
              "#d8576b"
             ],
             [
              0.6666666666666666,
              "#ed7953"
             ],
             [
              0.7777777777777778,
              "#fb9f3a"
             ],
             [
              0.8888888888888888,
              "#fdca26"
             ],
             [
              1,
              "#f0f921"
             ]
            ],
            "type": "contour"
           }
          ],
          "contourcarpet": [
           {
            "colorbar": {
             "outlinewidth": 0,
             "ticks": ""
            },
            "type": "contourcarpet"
           }
          ],
          "heatmap": [
           {
            "colorbar": {
             "outlinewidth": 0,
             "ticks": ""
            },
            "colorscale": [
             [
              0,
              "#0d0887"
             ],
             [
              0.1111111111111111,
              "#46039f"
             ],
             [
              0.2222222222222222,
              "#7201a8"
             ],
             [
              0.3333333333333333,
              "#9c179e"
             ],
             [
              0.4444444444444444,
              "#bd3786"
             ],
             [
              0.5555555555555556,
              "#d8576b"
             ],
             [
              0.6666666666666666,
              "#ed7953"
             ],
             [
              0.7777777777777778,
              "#fb9f3a"
             ],
             [
              0.8888888888888888,
              "#fdca26"
             ],
             [
              1,
              "#f0f921"
             ]
            ],
            "type": "heatmap"
           }
          ],
          "heatmapgl": [
           {
            "colorbar": {
             "outlinewidth": 0,
             "ticks": ""
            },
            "colorscale": [
             [
              0,
              "#0d0887"
             ],
             [
              0.1111111111111111,
              "#46039f"
             ],
             [
              0.2222222222222222,
              "#7201a8"
             ],
             [
              0.3333333333333333,
              "#9c179e"
             ],
             [
              0.4444444444444444,
              "#bd3786"
             ],
             [
              0.5555555555555556,
              "#d8576b"
             ],
             [
              0.6666666666666666,
              "#ed7953"
             ],
             [
              0.7777777777777778,
              "#fb9f3a"
             ],
             [
              0.8888888888888888,
              "#fdca26"
             ],
             [
              1,
              "#f0f921"
             ]
            ],
            "type": "heatmapgl"
           }
          ],
          "histogram": [
           {
            "marker": {
             "colorbar": {
              "outlinewidth": 0,
              "ticks": ""
             }
            },
            "type": "histogram"
           }
          ],
          "histogram2d": [
           {
            "colorbar": {
             "outlinewidth": 0,
             "ticks": ""
            },
            "colorscale": [
             [
              0,
              "#0d0887"
             ],
             [
              0.1111111111111111,
              "#46039f"
             ],
             [
              0.2222222222222222,
              "#7201a8"
             ],
             [
              0.3333333333333333,
              "#9c179e"
             ],
             [
              0.4444444444444444,
              "#bd3786"
             ],
             [
              0.5555555555555556,
              "#d8576b"
             ],
             [
              0.6666666666666666,
              "#ed7953"
             ],
             [
              0.7777777777777778,
              "#fb9f3a"
             ],
             [
              0.8888888888888888,
              "#fdca26"
             ],
             [
              1,
              "#f0f921"
             ]
            ],
            "type": "histogram2d"
           }
          ],
          "histogram2dcontour": [
           {
            "colorbar": {
             "outlinewidth": 0,
             "ticks": ""
            },
            "colorscale": [
             [
              0,
              "#0d0887"
             ],
             [
              0.1111111111111111,
              "#46039f"
             ],
             [
              0.2222222222222222,
              "#7201a8"
             ],
             [
              0.3333333333333333,
              "#9c179e"
             ],
             [
              0.4444444444444444,
              "#bd3786"
             ],
             [
              0.5555555555555556,
              "#d8576b"
             ],
             [
              0.6666666666666666,
              "#ed7953"
             ],
             [
              0.7777777777777778,
              "#fb9f3a"
             ],
             [
              0.8888888888888888,
              "#fdca26"
             ],
             [
              1,
              "#f0f921"
             ]
            ],
            "type": "histogram2dcontour"
           }
          ],
          "mesh3d": [
           {
            "colorbar": {
             "outlinewidth": 0,
             "ticks": ""
            },
            "type": "mesh3d"
           }
          ],
          "parcoords": [
           {
            "line": {
             "colorbar": {
              "outlinewidth": 0,
              "ticks": ""
             }
            },
            "type": "parcoords"
           }
          ],
          "pie": [
           {
            "automargin": true,
            "type": "pie"
           }
          ],
          "scatter": [
           {
            "marker": {
             "colorbar": {
              "outlinewidth": 0,
              "ticks": ""
             }
            },
            "type": "scatter"
           }
          ],
          "scatter3d": [
           {
            "line": {
             "colorbar": {
              "outlinewidth": 0,
              "ticks": ""
             }
            },
            "marker": {
             "colorbar": {
              "outlinewidth": 0,
              "ticks": ""
             }
            },
            "type": "scatter3d"
           }
          ],
          "scattercarpet": [
           {
            "marker": {
             "colorbar": {
              "outlinewidth": 0,
              "ticks": ""
             }
            },
            "type": "scattercarpet"
           }
          ],
          "scattergeo": [
           {
            "marker": {
             "colorbar": {
              "outlinewidth": 0,
              "ticks": ""
             }
            },
            "type": "scattergeo"
           }
          ],
          "scattergl": [
           {
            "marker": {
             "colorbar": {
              "outlinewidth": 0,
              "ticks": ""
             }
            },
            "type": "scattergl"
           }
          ],
          "scattermapbox": [
           {
            "marker": {
             "colorbar": {
              "outlinewidth": 0,
              "ticks": ""
             }
            },
            "type": "scattermapbox"
           }
          ],
          "scatterpolar": [
           {
            "marker": {
             "colorbar": {
              "outlinewidth": 0,
              "ticks": ""
             }
            },
            "type": "scatterpolar"
           }
          ],
          "scatterpolargl": [
           {
            "marker": {
             "colorbar": {
              "outlinewidth": 0,
              "ticks": ""
             }
            },
            "type": "scatterpolargl"
           }
          ],
          "scatterternary": [
           {
            "marker": {
             "colorbar": {
              "outlinewidth": 0,
              "ticks": ""
             }
            },
            "type": "scatterternary"
           }
          ],
          "surface": [
           {
            "colorbar": {
             "outlinewidth": 0,
             "ticks": ""
            },
            "colorscale": [
             [
              0,
              "#0d0887"
             ],
             [
              0.1111111111111111,
              "#46039f"
             ],
             [
              0.2222222222222222,
              "#7201a8"
             ],
             [
              0.3333333333333333,
              "#9c179e"
             ],
             [
              0.4444444444444444,
              "#bd3786"
             ],
             [
              0.5555555555555556,
              "#d8576b"
             ],
             [
              0.6666666666666666,
              "#ed7953"
             ],
             [
              0.7777777777777778,
              "#fb9f3a"
             ],
             [
              0.8888888888888888,
              "#fdca26"
             ],
             [
              1,
              "#f0f921"
             ]
            ],
            "type": "surface"
           }
          ],
          "table": [
           {
            "cells": {
             "fill": {
              "color": "#EBF0F8"
             },
             "line": {
              "color": "white"
             }
            },
            "header": {
             "fill": {
              "color": "#C8D4E3"
             },
             "line": {
              "color": "white"
             }
            },
            "type": "table"
           }
          ]
         },
         "layout": {
          "annotationdefaults": {
           "arrowcolor": "#2a3f5f",
           "arrowhead": 0,
           "arrowwidth": 1
          },
          "coloraxis": {
           "colorbar": {
            "outlinewidth": 0,
            "ticks": ""
           }
          },
          "colorscale": {
           "diverging": [
            [
             0,
             "#8e0152"
            ],
            [
             0.1,
             "#c51b7d"
            ],
            [
             0.2,
             "#de77ae"
            ],
            [
             0.3,
             "#f1b6da"
            ],
            [
             0.4,
             "#fde0ef"
            ],
            [
             0.5,
             "#f7f7f7"
            ],
            [
             0.6,
             "#e6f5d0"
            ],
            [
             0.7,
             "#b8e186"
            ],
            [
             0.8,
             "#7fbc41"
            ],
            [
             0.9,
             "#4d9221"
            ],
            [
             1,
             "#276419"
            ]
           ],
           "sequential": [
            [
             0,
             "#0d0887"
            ],
            [
             0.1111111111111111,
             "#46039f"
            ],
            [
             0.2222222222222222,
             "#7201a8"
            ],
            [
             0.3333333333333333,
             "#9c179e"
            ],
            [
             0.4444444444444444,
             "#bd3786"
            ],
            [
             0.5555555555555556,
             "#d8576b"
            ],
            [
             0.6666666666666666,
             "#ed7953"
            ],
            [
             0.7777777777777778,
             "#fb9f3a"
            ],
            [
             0.8888888888888888,
             "#fdca26"
            ],
            [
             1,
             "#f0f921"
            ]
           ],
           "sequentialminus": [
            [
             0,
             "#0d0887"
            ],
            [
             0.1111111111111111,
             "#46039f"
            ],
            [
             0.2222222222222222,
             "#7201a8"
            ],
            [
             0.3333333333333333,
             "#9c179e"
            ],
            [
             0.4444444444444444,
             "#bd3786"
            ],
            [
             0.5555555555555556,
             "#d8576b"
            ],
            [
             0.6666666666666666,
             "#ed7953"
            ],
            [
             0.7777777777777778,
             "#fb9f3a"
            ],
            [
             0.8888888888888888,
             "#fdca26"
            ],
            [
             1,
             "#f0f921"
            ]
           ]
          },
          "colorway": [
           "#636efa",
           "#EF553B",
           "#00cc96",
           "#ab63fa",
           "#FFA15A",
           "#19d3f3",
           "#FF6692",
           "#B6E880",
           "#FF97FF",
           "#FECB52"
          ],
          "font": {
           "color": "#2a3f5f"
          },
          "geo": {
           "bgcolor": "white",
           "lakecolor": "white",
           "landcolor": "#E5ECF6",
           "showlakes": true,
           "showland": true,
           "subunitcolor": "white"
          },
          "hoverlabel": {
           "align": "left"
          },
          "hovermode": "closest",
          "mapbox": {
           "style": "light"
          },
          "paper_bgcolor": "white",
          "plot_bgcolor": "#E5ECF6",
          "polar": {
           "angularaxis": {
            "gridcolor": "white",
            "linecolor": "white",
            "ticks": ""
           },
           "bgcolor": "#E5ECF6",
           "radialaxis": {
            "gridcolor": "white",
            "linecolor": "white",
            "ticks": ""
           }
          },
          "scene": {
           "xaxis": {
            "backgroundcolor": "#E5ECF6",
            "gridcolor": "white",
            "gridwidth": 2,
            "linecolor": "white",
            "showbackground": true,
            "ticks": "",
            "zerolinecolor": "white"
           },
           "yaxis": {
            "backgroundcolor": "#E5ECF6",
            "gridcolor": "white",
            "gridwidth": 2,
            "linecolor": "white",
            "showbackground": true,
            "ticks": "",
            "zerolinecolor": "white"
           },
           "zaxis": {
            "backgroundcolor": "#E5ECF6",
            "gridcolor": "white",
            "gridwidth": 2,
            "linecolor": "white",
            "showbackground": true,
            "ticks": "",
            "zerolinecolor": "white"
           }
          },
          "shapedefaults": {
           "line": {
            "color": "#2a3f5f"
           }
          },
          "ternary": {
           "aaxis": {
            "gridcolor": "white",
            "linecolor": "white",
            "ticks": ""
           },
           "baxis": {
            "gridcolor": "white",
            "linecolor": "white",
            "ticks": ""
           },
           "bgcolor": "#E5ECF6",
           "caxis": {
            "gridcolor": "white",
            "linecolor": "white",
            "ticks": ""
           }
          },
          "title": {
           "x": 0.05
          },
          "xaxis": {
           "automargin": true,
           "gridcolor": "white",
           "linecolor": "white",
           "ticks": "",
           "title": {
            "standoff": 15
           },
           "zerolinecolor": "white",
           "zerolinewidth": 2
          },
          "yaxis": {
           "automargin": true,
           "gridcolor": "white",
           "linecolor": "white",
           "ticks": "",
           "title": {
            "standoff": 15
           },
           "zerolinecolor": "white",
           "zerolinewidth": 2
          }
         }
        },
        "title": {
         "font": {
          "color": "#4D5663"
         }
        },
        "xaxis": {
         "gridcolor": "#E1E5ED",
         "showgrid": true,
         "tickfont": {
          "color": "#4D5663"
         },
         "title": {
          "font": {
           "color": "#4D5663"
          },
          "text": ""
         },
         "zerolinecolor": "#E1E5ED"
        },
        "yaxis": {
         "gridcolor": "#E1E5ED",
         "showgrid": true,
         "tickfont": {
          "color": "#4D5663"
         },
         "title": {
          "font": {
           "color": "#4D5663"
          },
          "text": ""
         },
         "zerolinecolor": "#E1E5ED"
        }
       }
      },
      "text/html": [
       "<div>\n",
       "        \n",
       "        \n",
       "            <div id=\"c5696a88-668d-499b-b911-48e103b61093\" class=\"plotly-graph-div\" style=\"height:525px; width:100%;\"></div>\n",
       "            <script type=\"text/javascript\">\n",
       "                require([\"plotly\"], function(Plotly) {\n",
       "                    window.PLOTLYENV=window.PLOTLYENV || {};\n",
       "                    window.PLOTLYENV.BASE_URL='https://plot.ly';\n",
       "                    \n",
       "                if (document.getElementById(\"c5696a88-668d-499b-b911-48e103b61093\")) {\n",
       "                    Plotly.newPlot(\n",
       "                        'c5696a88-668d-499b-b911-48e103b61093',\n",
       "                        [{\"colorscale\": [[0.0, \"rgb(255, 153, 51)\"], [0.1111111111111111, \"rgb(55, 128, 191)\"], [0.2222222222222222, \"rgb(50, 171, 96)\"], [0.3333333333333333, \"rgb(128, 0, 128)\"], [0.4444444444444444, \"rgb(219, 64, 82)\"], [0.5555555555555556, \"rgb(0, 128, 128)\"], [0.6666666666666666, \"rgb(255, 255, 51)\"], [0.7777777777777778, \"rgb(128, 128, 0)\"], [0.8888888888888888, \"rgb(251, 128, 114)\"], [1.0, \"rgb(128, 177, 211)\"]], \"type\": \"surface\", \"x\": [0, 1, 2, 3, 4], \"y\": [\"x\", \"y\", \"z\"], \"z\": [[1, 2, 3, 4, 5], [10, 20, 30, 20, 10], [5, 4, 3, 2, 1]]}],\n",
       "                        {\"legend\": {\"bgcolor\": \"#F5F6F9\", \"font\": {\"color\": \"#4D5663\"}}, \"paper_bgcolor\": \"#F5F6F9\", \"plot_bgcolor\": \"#F5F6F9\", \"template\": {\"data\": {\"bar\": [{\"error_x\": {\"color\": \"#2a3f5f\"}, \"error_y\": {\"color\": \"#2a3f5f\"}, \"marker\": {\"line\": {\"color\": \"#E5ECF6\", \"width\": 0.5}}, \"type\": \"bar\"}], \"barpolar\": [{\"marker\": {\"line\": {\"color\": \"#E5ECF6\", \"width\": 0.5}}, \"type\": \"barpolar\"}], \"carpet\": [{\"aaxis\": {\"endlinecolor\": \"#2a3f5f\", \"gridcolor\": \"white\", \"linecolor\": \"white\", \"minorgridcolor\": \"white\", \"startlinecolor\": \"#2a3f5f\"}, \"baxis\": {\"endlinecolor\": \"#2a3f5f\", \"gridcolor\": \"white\", \"linecolor\": \"white\", \"minorgridcolor\": \"white\", \"startlinecolor\": \"#2a3f5f\"}, \"type\": \"carpet\"}], \"choropleth\": [{\"colorbar\": {\"outlinewidth\": 0, \"ticks\": \"\"}, \"type\": \"choropleth\"}], \"contour\": [{\"colorbar\": {\"outlinewidth\": 0, \"ticks\": \"\"}, \"colorscale\": [[0.0, \"#0d0887\"], [0.1111111111111111, \"#46039f\"], [0.2222222222222222, \"#7201a8\"], [0.3333333333333333, \"#9c179e\"], [0.4444444444444444, \"#bd3786\"], [0.5555555555555556, \"#d8576b\"], [0.6666666666666666, \"#ed7953\"], [0.7777777777777778, \"#fb9f3a\"], [0.8888888888888888, \"#fdca26\"], [1.0, \"#f0f921\"]], \"type\": \"contour\"}], \"contourcarpet\": [{\"colorbar\": {\"outlinewidth\": 0, \"ticks\": \"\"}, \"type\": \"contourcarpet\"}], \"heatmap\": [{\"colorbar\": {\"outlinewidth\": 0, \"ticks\": \"\"}, \"colorscale\": [[0.0, \"#0d0887\"], [0.1111111111111111, \"#46039f\"], [0.2222222222222222, \"#7201a8\"], [0.3333333333333333, \"#9c179e\"], [0.4444444444444444, \"#bd3786\"], [0.5555555555555556, \"#d8576b\"], [0.6666666666666666, \"#ed7953\"], [0.7777777777777778, \"#fb9f3a\"], [0.8888888888888888, \"#fdca26\"], [1.0, \"#f0f921\"]], \"type\": \"heatmap\"}], \"heatmapgl\": [{\"colorbar\": {\"outlinewidth\": 0, \"ticks\": \"\"}, \"colorscale\": [[0.0, \"#0d0887\"], [0.1111111111111111, \"#46039f\"], [0.2222222222222222, \"#7201a8\"], [0.3333333333333333, \"#9c179e\"], [0.4444444444444444, \"#bd3786\"], [0.5555555555555556, \"#d8576b\"], [0.6666666666666666, \"#ed7953\"], [0.7777777777777778, \"#fb9f3a\"], [0.8888888888888888, \"#fdca26\"], [1.0, \"#f0f921\"]], \"type\": \"heatmapgl\"}], \"histogram\": [{\"marker\": {\"colorbar\": {\"outlinewidth\": 0, \"ticks\": \"\"}}, \"type\": \"histogram\"}], \"histogram2d\": [{\"colorbar\": {\"outlinewidth\": 0, \"ticks\": \"\"}, \"colorscale\": [[0.0, \"#0d0887\"], [0.1111111111111111, \"#46039f\"], [0.2222222222222222, \"#7201a8\"], [0.3333333333333333, \"#9c179e\"], [0.4444444444444444, \"#bd3786\"], [0.5555555555555556, \"#d8576b\"], [0.6666666666666666, \"#ed7953\"], [0.7777777777777778, \"#fb9f3a\"], [0.8888888888888888, \"#fdca26\"], [1.0, \"#f0f921\"]], \"type\": \"histogram2d\"}], \"histogram2dcontour\": [{\"colorbar\": {\"outlinewidth\": 0, \"ticks\": \"\"}, \"colorscale\": [[0.0, \"#0d0887\"], [0.1111111111111111, \"#46039f\"], [0.2222222222222222, \"#7201a8\"], [0.3333333333333333, \"#9c179e\"], [0.4444444444444444, \"#bd3786\"], [0.5555555555555556, \"#d8576b\"], [0.6666666666666666, \"#ed7953\"], [0.7777777777777778, \"#fb9f3a\"], [0.8888888888888888, \"#fdca26\"], [1.0, \"#f0f921\"]], \"type\": \"histogram2dcontour\"}], \"mesh3d\": [{\"colorbar\": {\"outlinewidth\": 0, \"ticks\": \"\"}, \"type\": \"mesh3d\"}], \"parcoords\": [{\"line\": {\"colorbar\": {\"outlinewidth\": 0, \"ticks\": \"\"}}, \"type\": \"parcoords\"}], \"pie\": [{\"automargin\": true, \"type\": \"pie\"}], \"scatter\": [{\"marker\": {\"colorbar\": {\"outlinewidth\": 0, \"ticks\": \"\"}}, \"type\": \"scatter\"}], \"scatter3d\": [{\"line\": {\"colorbar\": {\"outlinewidth\": 0, \"ticks\": \"\"}}, \"marker\": {\"colorbar\": {\"outlinewidth\": 0, \"ticks\": \"\"}}, \"type\": \"scatter3d\"}], \"scattercarpet\": [{\"marker\": {\"colorbar\": {\"outlinewidth\": 0, \"ticks\": \"\"}}, \"type\": \"scattercarpet\"}], \"scattergeo\": [{\"marker\": {\"colorbar\": {\"outlinewidth\": 0, \"ticks\": \"\"}}, \"type\": \"scattergeo\"}], \"scattergl\": [{\"marker\": {\"colorbar\": {\"outlinewidth\": 0, \"ticks\": \"\"}}, \"type\": \"scattergl\"}], \"scattermapbox\": [{\"marker\": {\"colorbar\": {\"outlinewidth\": 0, \"ticks\": \"\"}}, \"type\": \"scattermapbox\"}], \"scatterpolar\": [{\"marker\": {\"colorbar\": {\"outlinewidth\": 0, \"ticks\": \"\"}}, \"type\": \"scatterpolar\"}], \"scatterpolargl\": [{\"marker\": {\"colorbar\": {\"outlinewidth\": 0, \"ticks\": \"\"}}, \"type\": \"scatterpolargl\"}], \"scatterternary\": [{\"marker\": {\"colorbar\": {\"outlinewidth\": 0, \"ticks\": \"\"}}, \"type\": \"scatterternary\"}], \"surface\": [{\"colorbar\": {\"outlinewidth\": 0, \"ticks\": \"\"}, \"colorscale\": [[0.0, \"#0d0887\"], [0.1111111111111111, \"#46039f\"], [0.2222222222222222, \"#7201a8\"], [0.3333333333333333, \"#9c179e\"], [0.4444444444444444, \"#bd3786\"], [0.5555555555555556, \"#d8576b\"], [0.6666666666666666, \"#ed7953\"], [0.7777777777777778, \"#fb9f3a\"], [0.8888888888888888, \"#fdca26\"], [1.0, \"#f0f921\"]], \"type\": \"surface\"}], \"table\": [{\"cells\": {\"fill\": {\"color\": \"#EBF0F8\"}, \"line\": {\"color\": \"white\"}}, \"header\": {\"fill\": {\"color\": \"#C8D4E3\"}, \"line\": {\"color\": \"white\"}}, \"type\": \"table\"}]}, \"layout\": {\"annotationdefaults\": {\"arrowcolor\": \"#2a3f5f\", \"arrowhead\": 0, \"arrowwidth\": 1}, \"coloraxis\": {\"colorbar\": {\"outlinewidth\": 0, \"ticks\": \"\"}}, \"colorscale\": {\"diverging\": [[0, \"#8e0152\"], [0.1, \"#c51b7d\"], [0.2, \"#de77ae\"], [0.3, \"#f1b6da\"], [0.4, \"#fde0ef\"], [0.5, \"#f7f7f7\"], [0.6, \"#e6f5d0\"], [0.7, \"#b8e186\"], [0.8, \"#7fbc41\"], [0.9, \"#4d9221\"], [1, \"#276419\"]], \"sequential\": [[0.0, \"#0d0887\"], [0.1111111111111111, \"#46039f\"], [0.2222222222222222, \"#7201a8\"], [0.3333333333333333, \"#9c179e\"], [0.4444444444444444, \"#bd3786\"], [0.5555555555555556, \"#d8576b\"], [0.6666666666666666, \"#ed7953\"], [0.7777777777777778, \"#fb9f3a\"], [0.8888888888888888, \"#fdca26\"], [1.0, \"#f0f921\"]], \"sequentialminus\": [[0.0, \"#0d0887\"], [0.1111111111111111, \"#46039f\"], [0.2222222222222222, \"#7201a8\"], [0.3333333333333333, \"#9c179e\"], [0.4444444444444444, \"#bd3786\"], [0.5555555555555556, \"#d8576b\"], [0.6666666666666666, \"#ed7953\"], [0.7777777777777778, \"#fb9f3a\"], [0.8888888888888888, \"#fdca26\"], [1.0, \"#f0f921\"]]}, \"colorway\": [\"#636efa\", \"#EF553B\", \"#00cc96\", \"#ab63fa\", \"#FFA15A\", \"#19d3f3\", \"#FF6692\", \"#B6E880\", \"#FF97FF\", \"#FECB52\"], \"font\": {\"color\": \"#2a3f5f\"}, \"geo\": {\"bgcolor\": \"white\", \"lakecolor\": \"white\", \"landcolor\": \"#E5ECF6\", \"showlakes\": true, \"showland\": true, \"subunitcolor\": \"white\"}, \"hoverlabel\": {\"align\": \"left\"}, \"hovermode\": \"closest\", \"mapbox\": {\"style\": \"light\"}, \"paper_bgcolor\": \"white\", \"plot_bgcolor\": \"#E5ECF6\", \"polar\": {\"angularaxis\": {\"gridcolor\": \"white\", \"linecolor\": \"white\", \"ticks\": \"\"}, \"bgcolor\": \"#E5ECF6\", \"radialaxis\": {\"gridcolor\": \"white\", \"linecolor\": \"white\", \"ticks\": \"\"}}, \"scene\": {\"xaxis\": {\"backgroundcolor\": \"#E5ECF6\", \"gridcolor\": \"white\", \"gridwidth\": 2, \"linecolor\": \"white\", \"showbackground\": true, \"ticks\": \"\", \"zerolinecolor\": \"white\"}, \"yaxis\": {\"backgroundcolor\": \"#E5ECF6\", \"gridcolor\": \"white\", \"gridwidth\": 2, \"linecolor\": \"white\", \"showbackground\": true, \"ticks\": \"\", \"zerolinecolor\": \"white\"}, \"zaxis\": {\"backgroundcolor\": \"#E5ECF6\", \"gridcolor\": \"white\", \"gridwidth\": 2, \"linecolor\": \"white\", \"showbackground\": true, \"ticks\": \"\", \"zerolinecolor\": \"white\"}}, \"shapedefaults\": {\"line\": {\"color\": \"#2a3f5f\"}}, \"ternary\": {\"aaxis\": {\"gridcolor\": \"white\", \"linecolor\": \"white\", \"ticks\": \"\"}, \"baxis\": {\"gridcolor\": \"white\", \"linecolor\": \"white\", \"ticks\": \"\"}, \"bgcolor\": \"#E5ECF6\", \"caxis\": {\"gridcolor\": \"white\", \"linecolor\": \"white\", \"ticks\": \"\"}}, \"title\": {\"x\": 0.05}, \"xaxis\": {\"automargin\": true, \"gridcolor\": \"white\", \"linecolor\": \"white\", \"ticks\": \"\", \"title\": {\"standoff\": 15}, \"zerolinecolor\": \"white\", \"zerolinewidth\": 2}, \"yaxis\": {\"automargin\": true, \"gridcolor\": \"white\", \"linecolor\": \"white\", \"ticks\": \"\", \"title\": {\"standoff\": 15}, \"zerolinecolor\": \"white\", \"zerolinewidth\": 2}}}, \"title\": {\"font\": {\"color\": \"#4D5663\"}}, \"xaxis\": {\"gridcolor\": \"#E1E5ED\", \"showgrid\": true, \"tickfont\": {\"color\": \"#4D5663\"}, \"title\": {\"font\": {\"color\": \"#4D5663\"}, \"text\": \"\"}, \"zerolinecolor\": \"#E1E5ED\"}, \"yaxis\": {\"gridcolor\": \"#E1E5ED\", \"showgrid\": true, \"tickfont\": {\"color\": \"#4D5663\"}, \"title\": {\"font\": {\"color\": \"#4D5663\"}, \"text\": \"\"}, \"zerolinecolor\": \"#E1E5ED\"}},\n",
       "                        {\"showLink\": true, \"linkText\": \"Export to plot.ly\", \"plotlyServerURL\": \"https://plot.ly\", \"responsive\": true}\n",
       "                    ).then(function(){\n",
       "                            \n",
       "var gd = document.getElementById('c5696a88-668d-499b-b911-48e103b61093');\n",
       "var x = new MutationObserver(function (mutations, observer) {{\n",
       "        var display = window.getComputedStyle(gd).display;\n",
       "        if (!display || display === 'none') {{\n",
       "            console.log([gd, 'removed!']);\n",
       "            Plotly.purge(gd);\n",
       "            observer.disconnect();\n",
       "        }}\n",
       "}});\n",
       "\n",
       "// Listen for the removal of the full notebook cells\n",
       "var notebookContainer = gd.closest('#notebook-container');\n",
       "if (notebookContainer) {{\n",
       "    x.observe(notebookContainer, {childList: true});\n",
       "}}\n",
       "\n",
       "// Listen for the clearing of the current output cell\n",
       "var outputEl = gd.closest('.output');\n",
       "if (outputEl) {{\n",
       "    x.observe(outputEl, {childList: true});\n",
       "}}\n",
       "\n",
       "                        })\n",
       "                };\n",
       "                });\n",
       "            </script>\n",
       "        </div>"
      ]
     },
     "metadata": {},
     "output_type": "display_data"
    }
   ],
   "source": [
    "df3.iplot(kind='surface')"
   ]
  },
  {
   "cell_type": "code",
   "execution_count": 53,
   "metadata": {},
   "outputs": [
    {
     "data": {
      "application/vnd.plotly.v1+json": {
       "config": {
        "linkText": "Export to plot.ly",
        "plotlyServerURL": "https://plot.ly",
        "showLink": true
       },
       "data": [
        {
         "colorscale": [
          [
           0,
           "rgb(165,0,38)"
          ],
          [
           0.1,
           "rgb(215,48,39)"
          ],
          [
           0.2,
           "rgb(244,109,67)"
          ],
          [
           0.3,
           "rgb(253,174,97)"
          ],
          [
           0.4,
           "rgb(254,224,144)"
          ],
          [
           0.5,
           "rgb(255,255,191)"
          ],
          [
           0.6,
           "rgb(224,243,248)"
          ],
          [
           0.7,
           "rgb(171,217,233)"
          ],
          [
           0.8,
           "rgb(116,173,209)"
          ],
          [
           0.9,
           "rgb(69,117,180)"
          ],
          [
           1,
           "rgb(49,54,149)"
          ]
         ],
         "type": "surface",
         "x": [
          0,
          1,
          2,
          3,
          4
         ],
         "y": [
          "x",
          "y",
          "z"
         ],
         "z": [
          [
           1,
           2,
           3,
           4,
           5
          ],
          [
           10,
           20,
           30,
           20,
           10
          ],
          [
           5,
           4,
           3,
           2,
           1
          ]
         ]
        }
       ],
       "layout": {
        "legend": {
         "bgcolor": "#F5F6F9",
         "font": {
          "color": "#4D5663"
         }
        },
        "paper_bgcolor": "#F5F6F9",
        "plot_bgcolor": "#F5F6F9",
        "template": {
         "data": {
          "bar": [
           {
            "error_x": {
             "color": "#2a3f5f"
            },
            "error_y": {
             "color": "#2a3f5f"
            },
            "marker": {
             "line": {
              "color": "#E5ECF6",
              "width": 0.5
             }
            },
            "type": "bar"
           }
          ],
          "barpolar": [
           {
            "marker": {
             "line": {
              "color": "#E5ECF6",
              "width": 0.5
             }
            },
            "type": "barpolar"
           }
          ],
          "carpet": [
           {
            "aaxis": {
             "endlinecolor": "#2a3f5f",
             "gridcolor": "white",
             "linecolor": "white",
             "minorgridcolor": "white",
             "startlinecolor": "#2a3f5f"
            },
            "baxis": {
             "endlinecolor": "#2a3f5f",
             "gridcolor": "white",
             "linecolor": "white",
             "minorgridcolor": "white",
             "startlinecolor": "#2a3f5f"
            },
            "type": "carpet"
           }
          ],
          "choropleth": [
           {
            "colorbar": {
             "outlinewidth": 0,
             "ticks": ""
            },
            "type": "choropleth"
           }
          ],
          "contour": [
           {
            "colorbar": {
             "outlinewidth": 0,
             "ticks": ""
            },
            "colorscale": [
             [
              0,
              "#0d0887"
             ],
             [
              0.1111111111111111,
              "#46039f"
             ],
             [
              0.2222222222222222,
              "#7201a8"
             ],
             [
              0.3333333333333333,
              "#9c179e"
             ],
             [
              0.4444444444444444,
              "#bd3786"
             ],
             [
              0.5555555555555556,
              "#d8576b"
             ],
             [
              0.6666666666666666,
              "#ed7953"
             ],
             [
              0.7777777777777778,
              "#fb9f3a"
             ],
             [
              0.8888888888888888,
              "#fdca26"
             ],
             [
              1,
              "#f0f921"
             ]
            ],
            "type": "contour"
           }
          ],
          "contourcarpet": [
           {
            "colorbar": {
             "outlinewidth": 0,
             "ticks": ""
            },
            "type": "contourcarpet"
           }
          ],
          "heatmap": [
           {
            "colorbar": {
             "outlinewidth": 0,
             "ticks": ""
            },
            "colorscale": [
             [
              0,
              "#0d0887"
             ],
             [
              0.1111111111111111,
              "#46039f"
             ],
             [
              0.2222222222222222,
              "#7201a8"
             ],
             [
              0.3333333333333333,
              "#9c179e"
             ],
             [
              0.4444444444444444,
              "#bd3786"
             ],
             [
              0.5555555555555556,
              "#d8576b"
             ],
             [
              0.6666666666666666,
              "#ed7953"
             ],
             [
              0.7777777777777778,
              "#fb9f3a"
             ],
             [
              0.8888888888888888,
              "#fdca26"
             ],
             [
              1,
              "#f0f921"
             ]
            ],
            "type": "heatmap"
           }
          ],
          "heatmapgl": [
           {
            "colorbar": {
             "outlinewidth": 0,
             "ticks": ""
            },
            "colorscale": [
             [
              0,
              "#0d0887"
             ],
             [
              0.1111111111111111,
              "#46039f"
             ],
             [
              0.2222222222222222,
              "#7201a8"
             ],
             [
              0.3333333333333333,
              "#9c179e"
             ],
             [
              0.4444444444444444,
              "#bd3786"
             ],
             [
              0.5555555555555556,
              "#d8576b"
             ],
             [
              0.6666666666666666,
              "#ed7953"
             ],
             [
              0.7777777777777778,
              "#fb9f3a"
             ],
             [
              0.8888888888888888,
              "#fdca26"
             ],
             [
              1,
              "#f0f921"
             ]
            ],
            "type": "heatmapgl"
           }
          ],
          "histogram": [
           {
            "marker": {
             "colorbar": {
              "outlinewidth": 0,
              "ticks": ""
             }
            },
            "type": "histogram"
           }
          ],
          "histogram2d": [
           {
            "colorbar": {
             "outlinewidth": 0,
             "ticks": ""
            },
            "colorscale": [
             [
              0,
              "#0d0887"
             ],
             [
              0.1111111111111111,
              "#46039f"
             ],
             [
              0.2222222222222222,
              "#7201a8"
             ],
             [
              0.3333333333333333,
              "#9c179e"
             ],
             [
              0.4444444444444444,
              "#bd3786"
             ],
             [
              0.5555555555555556,
              "#d8576b"
             ],
             [
              0.6666666666666666,
              "#ed7953"
             ],
             [
              0.7777777777777778,
              "#fb9f3a"
             ],
             [
              0.8888888888888888,
              "#fdca26"
             ],
             [
              1,
              "#f0f921"
             ]
            ],
            "type": "histogram2d"
           }
          ],
          "histogram2dcontour": [
           {
            "colorbar": {
             "outlinewidth": 0,
             "ticks": ""
            },
            "colorscale": [
             [
              0,
              "#0d0887"
             ],
             [
              0.1111111111111111,
              "#46039f"
             ],
             [
              0.2222222222222222,
              "#7201a8"
             ],
             [
              0.3333333333333333,
              "#9c179e"
             ],
             [
              0.4444444444444444,
              "#bd3786"
             ],
             [
              0.5555555555555556,
              "#d8576b"
             ],
             [
              0.6666666666666666,
              "#ed7953"
             ],
             [
              0.7777777777777778,
              "#fb9f3a"
             ],
             [
              0.8888888888888888,
              "#fdca26"
             ],
             [
              1,
              "#f0f921"
             ]
            ],
            "type": "histogram2dcontour"
           }
          ],
          "mesh3d": [
           {
            "colorbar": {
             "outlinewidth": 0,
             "ticks": ""
            },
            "type": "mesh3d"
           }
          ],
          "parcoords": [
           {
            "line": {
             "colorbar": {
              "outlinewidth": 0,
              "ticks": ""
             }
            },
            "type": "parcoords"
           }
          ],
          "pie": [
           {
            "automargin": true,
            "type": "pie"
           }
          ],
          "scatter": [
           {
            "marker": {
             "colorbar": {
              "outlinewidth": 0,
              "ticks": ""
             }
            },
            "type": "scatter"
           }
          ],
          "scatter3d": [
           {
            "line": {
             "colorbar": {
              "outlinewidth": 0,
              "ticks": ""
             }
            },
            "marker": {
             "colorbar": {
              "outlinewidth": 0,
              "ticks": ""
             }
            },
            "type": "scatter3d"
           }
          ],
          "scattercarpet": [
           {
            "marker": {
             "colorbar": {
              "outlinewidth": 0,
              "ticks": ""
             }
            },
            "type": "scattercarpet"
           }
          ],
          "scattergeo": [
           {
            "marker": {
             "colorbar": {
              "outlinewidth": 0,
              "ticks": ""
             }
            },
            "type": "scattergeo"
           }
          ],
          "scattergl": [
           {
            "marker": {
             "colorbar": {
              "outlinewidth": 0,
              "ticks": ""
             }
            },
            "type": "scattergl"
           }
          ],
          "scattermapbox": [
           {
            "marker": {
             "colorbar": {
              "outlinewidth": 0,
              "ticks": ""
             }
            },
            "type": "scattermapbox"
           }
          ],
          "scatterpolar": [
           {
            "marker": {
             "colorbar": {
              "outlinewidth": 0,
              "ticks": ""
             }
            },
            "type": "scatterpolar"
           }
          ],
          "scatterpolargl": [
           {
            "marker": {
             "colorbar": {
              "outlinewidth": 0,
              "ticks": ""
             }
            },
            "type": "scatterpolargl"
           }
          ],
          "scatterternary": [
           {
            "marker": {
             "colorbar": {
              "outlinewidth": 0,
              "ticks": ""
             }
            },
            "type": "scatterternary"
           }
          ],
          "surface": [
           {
            "colorbar": {
             "outlinewidth": 0,
             "ticks": ""
            },
            "colorscale": [
             [
              0,
              "#0d0887"
             ],
             [
              0.1111111111111111,
              "#46039f"
             ],
             [
              0.2222222222222222,
              "#7201a8"
             ],
             [
              0.3333333333333333,
              "#9c179e"
             ],
             [
              0.4444444444444444,
              "#bd3786"
             ],
             [
              0.5555555555555556,
              "#d8576b"
             ],
             [
              0.6666666666666666,
              "#ed7953"
             ],
             [
              0.7777777777777778,
              "#fb9f3a"
             ],
             [
              0.8888888888888888,
              "#fdca26"
             ],
             [
              1,
              "#f0f921"
             ]
            ],
            "type": "surface"
           }
          ],
          "table": [
           {
            "cells": {
             "fill": {
              "color": "#EBF0F8"
             },
             "line": {
              "color": "white"
             }
            },
            "header": {
             "fill": {
              "color": "#C8D4E3"
             },
             "line": {
              "color": "white"
             }
            },
            "type": "table"
           }
          ]
         },
         "layout": {
          "annotationdefaults": {
           "arrowcolor": "#2a3f5f",
           "arrowhead": 0,
           "arrowwidth": 1
          },
          "coloraxis": {
           "colorbar": {
            "outlinewidth": 0,
            "ticks": ""
           }
          },
          "colorscale": {
           "diverging": [
            [
             0,
             "#8e0152"
            ],
            [
             0.1,
             "#c51b7d"
            ],
            [
             0.2,
             "#de77ae"
            ],
            [
             0.3,
             "#f1b6da"
            ],
            [
             0.4,
             "#fde0ef"
            ],
            [
             0.5,
             "#f7f7f7"
            ],
            [
             0.6,
             "#e6f5d0"
            ],
            [
             0.7,
             "#b8e186"
            ],
            [
             0.8,
             "#7fbc41"
            ],
            [
             0.9,
             "#4d9221"
            ],
            [
             1,
             "#276419"
            ]
           ],
           "sequential": [
            [
             0,
             "#0d0887"
            ],
            [
             0.1111111111111111,
             "#46039f"
            ],
            [
             0.2222222222222222,
             "#7201a8"
            ],
            [
             0.3333333333333333,
             "#9c179e"
            ],
            [
             0.4444444444444444,
             "#bd3786"
            ],
            [
             0.5555555555555556,
             "#d8576b"
            ],
            [
             0.6666666666666666,
             "#ed7953"
            ],
            [
             0.7777777777777778,
             "#fb9f3a"
            ],
            [
             0.8888888888888888,
             "#fdca26"
            ],
            [
             1,
             "#f0f921"
            ]
           ],
           "sequentialminus": [
            [
             0,
             "#0d0887"
            ],
            [
             0.1111111111111111,
             "#46039f"
            ],
            [
             0.2222222222222222,
             "#7201a8"
            ],
            [
             0.3333333333333333,
             "#9c179e"
            ],
            [
             0.4444444444444444,
             "#bd3786"
            ],
            [
             0.5555555555555556,
             "#d8576b"
            ],
            [
             0.6666666666666666,
             "#ed7953"
            ],
            [
             0.7777777777777778,
             "#fb9f3a"
            ],
            [
             0.8888888888888888,
             "#fdca26"
            ],
            [
             1,
             "#f0f921"
            ]
           ]
          },
          "colorway": [
           "#636efa",
           "#EF553B",
           "#00cc96",
           "#ab63fa",
           "#FFA15A",
           "#19d3f3",
           "#FF6692",
           "#B6E880",
           "#FF97FF",
           "#FECB52"
          ],
          "font": {
           "color": "#2a3f5f"
          },
          "geo": {
           "bgcolor": "white",
           "lakecolor": "white",
           "landcolor": "#E5ECF6",
           "showlakes": true,
           "showland": true,
           "subunitcolor": "white"
          },
          "hoverlabel": {
           "align": "left"
          },
          "hovermode": "closest",
          "mapbox": {
           "style": "light"
          },
          "paper_bgcolor": "white",
          "plot_bgcolor": "#E5ECF6",
          "polar": {
           "angularaxis": {
            "gridcolor": "white",
            "linecolor": "white",
            "ticks": ""
           },
           "bgcolor": "#E5ECF6",
           "radialaxis": {
            "gridcolor": "white",
            "linecolor": "white",
            "ticks": ""
           }
          },
          "scene": {
           "xaxis": {
            "backgroundcolor": "#E5ECF6",
            "gridcolor": "white",
            "gridwidth": 2,
            "linecolor": "white",
            "showbackground": true,
            "ticks": "",
            "zerolinecolor": "white"
           },
           "yaxis": {
            "backgroundcolor": "#E5ECF6",
            "gridcolor": "white",
            "gridwidth": 2,
            "linecolor": "white",
            "showbackground": true,
            "ticks": "",
            "zerolinecolor": "white"
           },
           "zaxis": {
            "backgroundcolor": "#E5ECF6",
            "gridcolor": "white",
            "gridwidth": 2,
            "linecolor": "white",
            "showbackground": true,
            "ticks": "",
            "zerolinecolor": "white"
           }
          },
          "shapedefaults": {
           "line": {
            "color": "#2a3f5f"
           }
          },
          "ternary": {
           "aaxis": {
            "gridcolor": "white",
            "linecolor": "white",
            "ticks": ""
           },
           "baxis": {
            "gridcolor": "white",
            "linecolor": "white",
            "ticks": ""
           },
           "bgcolor": "#E5ECF6",
           "caxis": {
            "gridcolor": "white",
            "linecolor": "white",
            "ticks": ""
           }
          },
          "title": {
           "x": 0.05
          },
          "xaxis": {
           "automargin": true,
           "gridcolor": "white",
           "linecolor": "white",
           "ticks": "",
           "title": {
            "standoff": 15
           },
           "zerolinecolor": "white",
           "zerolinewidth": 2
          },
          "yaxis": {
           "automargin": true,
           "gridcolor": "white",
           "linecolor": "white",
           "ticks": "",
           "title": {
            "standoff": 15
           },
           "zerolinecolor": "white",
           "zerolinewidth": 2
          }
         }
        },
        "title": {
         "font": {
          "color": "#4D5663"
         }
        },
        "xaxis": {
         "gridcolor": "#E1E5ED",
         "showgrid": true,
         "tickfont": {
          "color": "#4D5663"
         },
         "title": {
          "font": {
           "color": "#4D5663"
          },
          "text": ""
         },
         "zerolinecolor": "#E1E5ED"
        },
        "yaxis": {
         "gridcolor": "#E1E5ED",
         "showgrid": true,
         "tickfont": {
          "color": "#4D5663"
         },
         "title": {
          "font": {
           "color": "#4D5663"
          },
          "text": ""
         },
         "zerolinecolor": "#E1E5ED"
        }
       }
      },
      "text/html": [
       "<div>\n",
       "        \n",
       "        \n",
       "            <div id=\"79e47b0c-ab79-45d3-aec1-84f8ea7906b1\" class=\"plotly-graph-div\" style=\"height:525px; width:100%;\"></div>\n",
       "            <script type=\"text/javascript\">\n",
       "                require([\"plotly\"], function(Plotly) {\n",
       "                    window.PLOTLYENV=window.PLOTLYENV || {};\n",
       "                    window.PLOTLYENV.BASE_URL='https://plot.ly';\n",
       "                    \n",
       "                if (document.getElementById(\"79e47b0c-ab79-45d3-aec1-84f8ea7906b1\")) {\n",
       "                    Plotly.newPlot(\n",
       "                        '79e47b0c-ab79-45d3-aec1-84f8ea7906b1',\n",
       "                        [{\"colorscale\": [[0.0, \"rgb(165,0,38)\"], [0.1, \"rgb(215,48,39)\"], [0.2, \"rgb(244,109,67)\"], [0.3, \"rgb(253,174,97)\"], [0.4, \"rgb(254,224,144)\"], [0.5, \"rgb(255,255,191)\"], [0.6, \"rgb(224,243,248)\"], [0.7, \"rgb(171,217,233)\"], [0.8, \"rgb(116,173,209)\"], [0.9, \"rgb(69,117,180)\"], [1.0, \"rgb(49,54,149)\"]], \"type\": \"surface\", \"x\": [0, 1, 2, 3, 4], \"y\": [\"x\", \"y\", \"z\"], \"z\": [[1, 2, 3, 4, 5], [10, 20, 30, 20, 10], [5, 4, 3, 2, 1]]}],\n",
       "                        {\"legend\": {\"bgcolor\": \"#F5F6F9\", \"font\": {\"color\": \"#4D5663\"}}, \"paper_bgcolor\": \"#F5F6F9\", \"plot_bgcolor\": \"#F5F6F9\", \"template\": {\"data\": {\"bar\": [{\"error_x\": {\"color\": \"#2a3f5f\"}, \"error_y\": {\"color\": \"#2a3f5f\"}, \"marker\": {\"line\": {\"color\": \"#E5ECF6\", \"width\": 0.5}}, \"type\": \"bar\"}], \"barpolar\": [{\"marker\": {\"line\": {\"color\": \"#E5ECF6\", \"width\": 0.5}}, \"type\": \"barpolar\"}], \"carpet\": [{\"aaxis\": {\"endlinecolor\": \"#2a3f5f\", \"gridcolor\": \"white\", \"linecolor\": \"white\", \"minorgridcolor\": \"white\", \"startlinecolor\": \"#2a3f5f\"}, \"baxis\": {\"endlinecolor\": \"#2a3f5f\", \"gridcolor\": \"white\", \"linecolor\": \"white\", \"minorgridcolor\": \"white\", \"startlinecolor\": \"#2a3f5f\"}, \"type\": \"carpet\"}], \"choropleth\": [{\"colorbar\": {\"outlinewidth\": 0, \"ticks\": \"\"}, \"type\": \"choropleth\"}], \"contour\": [{\"colorbar\": {\"outlinewidth\": 0, \"ticks\": \"\"}, \"colorscale\": [[0.0, \"#0d0887\"], [0.1111111111111111, \"#46039f\"], [0.2222222222222222, \"#7201a8\"], [0.3333333333333333, \"#9c179e\"], [0.4444444444444444, \"#bd3786\"], [0.5555555555555556, \"#d8576b\"], [0.6666666666666666, \"#ed7953\"], [0.7777777777777778, \"#fb9f3a\"], [0.8888888888888888, \"#fdca26\"], [1.0, \"#f0f921\"]], \"type\": \"contour\"}], \"contourcarpet\": [{\"colorbar\": {\"outlinewidth\": 0, \"ticks\": \"\"}, \"type\": \"contourcarpet\"}], \"heatmap\": [{\"colorbar\": {\"outlinewidth\": 0, \"ticks\": \"\"}, \"colorscale\": [[0.0, \"#0d0887\"], [0.1111111111111111, \"#46039f\"], [0.2222222222222222, \"#7201a8\"], [0.3333333333333333, \"#9c179e\"], [0.4444444444444444, \"#bd3786\"], [0.5555555555555556, \"#d8576b\"], [0.6666666666666666, \"#ed7953\"], [0.7777777777777778, \"#fb9f3a\"], [0.8888888888888888, \"#fdca26\"], [1.0, \"#f0f921\"]], \"type\": \"heatmap\"}], \"heatmapgl\": [{\"colorbar\": {\"outlinewidth\": 0, \"ticks\": \"\"}, \"colorscale\": [[0.0, \"#0d0887\"], [0.1111111111111111, \"#46039f\"], [0.2222222222222222, \"#7201a8\"], [0.3333333333333333, \"#9c179e\"], [0.4444444444444444, \"#bd3786\"], [0.5555555555555556, \"#d8576b\"], [0.6666666666666666, \"#ed7953\"], [0.7777777777777778, \"#fb9f3a\"], [0.8888888888888888, \"#fdca26\"], [1.0, \"#f0f921\"]], \"type\": \"heatmapgl\"}], \"histogram\": [{\"marker\": {\"colorbar\": {\"outlinewidth\": 0, \"ticks\": \"\"}}, \"type\": \"histogram\"}], \"histogram2d\": [{\"colorbar\": {\"outlinewidth\": 0, \"ticks\": \"\"}, \"colorscale\": [[0.0, \"#0d0887\"], [0.1111111111111111, \"#46039f\"], [0.2222222222222222, \"#7201a8\"], [0.3333333333333333, \"#9c179e\"], [0.4444444444444444, \"#bd3786\"], [0.5555555555555556, \"#d8576b\"], [0.6666666666666666, \"#ed7953\"], [0.7777777777777778, \"#fb9f3a\"], [0.8888888888888888, \"#fdca26\"], [1.0, \"#f0f921\"]], \"type\": \"histogram2d\"}], \"histogram2dcontour\": [{\"colorbar\": {\"outlinewidth\": 0, \"ticks\": \"\"}, \"colorscale\": [[0.0, \"#0d0887\"], [0.1111111111111111, \"#46039f\"], [0.2222222222222222, \"#7201a8\"], [0.3333333333333333, \"#9c179e\"], [0.4444444444444444, \"#bd3786\"], [0.5555555555555556, \"#d8576b\"], [0.6666666666666666, \"#ed7953\"], [0.7777777777777778, \"#fb9f3a\"], [0.8888888888888888, \"#fdca26\"], [1.0, \"#f0f921\"]], \"type\": \"histogram2dcontour\"}], \"mesh3d\": [{\"colorbar\": {\"outlinewidth\": 0, \"ticks\": \"\"}, \"type\": \"mesh3d\"}], \"parcoords\": [{\"line\": {\"colorbar\": {\"outlinewidth\": 0, \"ticks\": \"\"}}, \"type\": \"parcoords\"}], \"pie\": [{\"automargin\": true, \"type\": \"pie\"}], \"scatter\": [{\"marker\": {\"colorbar\": {\"outlinewidth\": 0, \"ticks\": \"\"}}, \"type\": \"scatter\"}], \"scatter3d\": [{\"line\": {\"colorbar\": {\"outlinewidth\": 0, \"ticks\": \"\"}}, \"marker\": {\"colorbar\": {\"outlinewidth\": 0, \"ticks\": \"\"}}, \"type\": \"scatter3d\"}], \"scattercarpet\": [{\"marker\": {\"colorbar\": {\"outlinewidth\": 0, \"ticks\": \"\"}}, \"type\": \"scattercarpet\"}], \"scattergeo\": [{\"marker\": {\"colorbar\": {\"outlinewidth\": 0, \"ticks\": \"\"}}, \"type\": \"scattergeo\"}], \"scattergl\": [{\"marker\": {\"colorbar\": {\"outlinewidth\": 0, \"ticks\": \"\"}}, \"type\": \"scattergl\"}], \"scattermapbox\": [{\"marker\": {\"colorbar\": {\"outlinewidth\": 0, \"ticks\": \"\"}}, \"type\": \"scattermapbox\"}], \"scatterpolar\": [{\"marker\": {\"colorbar\": {\"outlinewidth\": 0, \"ticks\": \"\"}}, \"type\": \"scatterpolar\"}], \"scatterpolargl\": [{\"marker\": {\"colorbar\": {\"outlinewidth\": 0, \"ticks\": \"\"}}, \"type\": \"scatterpolargl\"}], \"scatterternary\": [{\"marker\": {\"colorbar\": {\"outlinewidth\": 0, \"ticks\": \"\"}}, \"type\": \"scatterternary\"}], \"surface\": [{\"colorbar\": {\"outlinewidth\": 0, \"ticks\": \"\"}, \"colorscale\": [[0.0, \"#0d0887\"], [0.1111111111111111, \"#46039f\"], [0.2222222222222222, \"#7201a8\"], [0.3333333333333333, \"#9c179e\"], [0.4444444444444444, \"#bd3786\"], [0.5555555555555556, \"#d8576b\"], [0.6666666666666666, \"#ed7953\"], [0.7777777777777778, \"#fb9f3a\"], [0.8888888888888888, \"#fdca26\"], [1.0, \"#f0f921\"]], \"type\": \"surface\"}], \"table\": [{\"cells\": {\"fill\": {\"color\": \"#EBF0F8\"}, \"line\": {\"color\": \"white\"}}, \"header\": {\"fill\": {\"color\": \"#C8D4E3\"}, \"line\": {\"color\": \"white\"}}, \"type\": \"table\"}]}, \"layout\": {\"annotationdefaults\": {\"arrowcolor\": \"#2a3f5f\", \"arrowhead\": 0, \"arrowwidth\": 1}, \"coloraxis\": {\"colorbar\": {\"outlinewidth\": 0, \"ticks\": \"\"}}, \"colorscale\": {\"diverging\": [[0, \"#8e0152\"], [0.1, \"#c51b7d\"], [0.2, \"#de77ae\"], [0.3, \"#f1b6da\"], [0.4, \"#fde0ef\"], [0.5, \"#f7f7f7\"], [0.6, \"#e6f5d0\"], [0.7, \"#b8e186\"], [0.8, \"#7fbc41\"], [0.9, \"#4d9221\"], [1, \"#276419\"]], \"sequential\": [[0.0, \"#0d0887\"], [0.1111111111111111, \"#46039f\"], [0.2222222222222222, \"#7201a8\"], [0.3333333333333333, \"#9c179e\"], [0.4444444444444444, \"#bd3786\"], [0.5555555555555556, \"#d8576b\"], [0.6666666666666666, \"#ed7953\"], [0.7777777777777778, \"#fb9f3a\"], [0.8888888888888888, \"#fdca26\"], [1.0, \"#f0f921\"]], \"sequentialminus\": [[0.0, \"#0d0887\"], [0.1111111111111111, \"#46039f\"], [0.2222222222222222, \"#7201a8\"], [0.3333333333333333, \"#9c179e\"], [0.4444444444444444, \"#bd3786\"], [0.5555555555555556, \"#d8576b\"], [0.6666666666666666, \"#ed7953\"], [0.7777777777777778, \"#fb9f3a\"], [0.8888888888888888, \"#fdca26\"], [1.0, \"#f0f921\"]]}, \"colorway\": [\"#636efa\", \"#EF553B\", \"#00cc96\", \"#ab63fa\", \"#FFA15A\", \"#19d3f3\", \"#FF6692\", \"#B6E880\", \"#FF97FF\", \"#FECB52\"], \"font\": {\"color\": \"#2a3f5f\"}, \"geo\": {\"bgcolor\": \"white\", \"lakecolor\": \"white\", \"landcolor\": \"#E5ECF6\", \"showlakes\": true, \"showland\": true, \"subunitcolor\": \"white\"}, \"hoverlabel\": {\"align\": \"left\"}, \"hovermode\": \"closest\", \"mapbox\": {\"style\": \"light\"}, \"paper_bgcolor\": \"white\", \"plot_bgcolor\": \"#E5ECF6\", \"polar\": {\"angularaxis\": {\"gridcolor\": \"white\", \"linecolor\": \"white\", \"ticks\": \"\"}, \"bgcolor\": \"#E5ECF6\", \"radialaxis\": {\"gridcolor\": \"white\", \"linecolor\": \"white\", \"ticks\": \"\"}}, \"scene\": {\"xaxis\": {\"backgroundcolor\": \"#E5ECF6\", \"gridcolor\": \"white\", \"gridwidth\": 2, \"linecolor\": \"white\", \"showbackground\": true, \"ticks\": \"\", \"zerolinecolor\": \"white\"}, \"yaxis\": {\"backgroundcolor\": \"#E5ECF6\", \"gridcolor\": \"white\", \"gridwidth\": 2, \"linecolor\": \"white\", \"showbackground\": true, \"ticks\": \"\", \"zerolinecolor\": \"white\"}, \"zaxis\": {\"backgroundcolor\": \"#E5ECF6\", \"gridcolor\": \"white\", \"gridwidth\": 2, \"linecolor\": \"white\", \"showbackground\": true, \"ticks\": \"\", \"zerolinecolor\": \"white\"}}, \"shapedefaults\": {\"line\": {\"color\": \"#2a3f5f\"}}, \"ternary\": {\"aaxis\": {\"gridcolor\": \"white\", \"linecolor\": \"white\", \"ticks\": \"\"}, \"baxis\": {\"gridcolor\": \"white\", \"linecolor\": \"white\", \"ticks\": \"\"}, \"bgcolor\": \"#E5ECF6\", \"caxis\": {\"gridcolor\": \"white\", \"linecolor\": \"white\", \"ticks\": \"\"}}, \"title\": {\"x\": 0.05}, \"xaxis\": {\"automargin\": true, \"gridcolor\": \"white\", \"linecolor\": \"white\", \"ticks\": \"\", \"title\": {\"standoff\": 15}, \"zerolinecolor\": \"white\", \"zerolinewidth\": 2}, \"yaxis\": {\"automargin\": true, \"gridcolor\": \"white\", \"linecolor\": \"white\", \"ticks\": \"\", \"title\": {\"standoff\": 15}, \"zerolinecolor\": \"white\", \"zerolinewidth\": 2}}}, \"title\": {\"font\": {\"color\": \"#4D5663\"}}, \"xaxis\": {\"gridcolor\": \"#E1E5ED\", \"showgrid\": true, \"tickfont\": {\"color\": \"#4D5663\"}, \"title\": {\"font\": {\"color\": \"#4D5663\"}, \"text\": \"\"}, \"zerolinecolor\": \"#E1E5ED\"}, \"yaxis\": {\"gridcolor\": \"#E1E5ED\", \"showgrid\": true, \"tickfont\": {\"color\": \"#4D5663\"}, \"title\": {\"font\": {\"color\": \"#4D5663\"}, \"text\": \"\"}, \"zerolinecolor\": \"#E1E5ED\"}},\n",
       "                        {\"showLink\": true, \"linkText\": \"Export to plot.ly\", \"plotlyServerURL\": \"https://plot.ly\", \"responsive\": true}\n",
       "                    ).then(function(){\n",
       "                            \n",
       "var gd = document.getElementById('79e47b0c-ab79-45d3-aec1-84f8ea7906b1');\n",
       "var x = new MutationObserver(function (mutations, observer) {{\n",
       "        var display = window.getComputedStyle(gd).display;\n",
       "        if (!display || display === 'none') {{\n",
       "            console.log([gd, 'removed!']);\n",
       "            Plotly.purge(gd);\n",
       "            observer.disconnect();\n",
       "        }}\n",
       "}});\n",
       "\n",
       "// Listen for the removal of the full notebook cells\n",
       "var notebookContainer = gd.closest('#notebook-container');\n",
       "if (notebookContainer) {{\n",
       "    x.observe(notebookContainer, {childList: true});\n",
       "}}\n",
       "\n",
       "// Listen for the clearing of the current output cell\n",
       "var outputEl = gd.closest('.output');\n",
       "if (outputEl) {{\n",
       "    x.observe(outputEl, {childList: true});\n",
       "}}\n",
       "\n",
       "                        })\n",
       "                };\n",
       "                });\n",
       "            </script>\n",
       "        </div>"
      ]
     },
     "metadata": {},
     "output_type": "display_data"
    }
   ],
   "source": [
    "df3.iplot(kind='surface',colorscale='rdylbu') # add color, not a direct matchup to matplotlib colors though "
   ]
  },
  {
   "cell_type": "code",
   "execution_count": 56,
   "metadata": {},
   "outputs": [
    {
     "data": {
      "application/vnd.plotly.v1+json": {
       "config": {
        "linkText": "Export to plot.ly",
        "plotlyServerURL": "https://plot.ly",
        "showLink": true
       },
       "data": [
        {
         "histfunc": "count",
         "histnorm": "",
         "marker": {
          "color": "rgba(255, 153, 51, 1.0)",
          "line": {
           "color": "#4D5663",
           "width": 1.3
          }
         },
         "name": "A",
         "opacity": 0.8,
         "orientation": "v",
         "type": "histogram",
         "x": [
          -0.5009543608026148,
          -0.4204615151389094,
          -0.49553283935936165,
          0.7657304693445539,
          -0.07847397916945117,
          0.6700761884302777,
          1.6148887957746296,
          -0.14346731599489548,
          -0.2665864011088299,
          1.5203733905118066,
          -1.6225831980015681,
          -0.0010036338978958532,
          -0.20764556384936733,
          1.2211140213435423,
          0.7616648705923982,
          0.8511236141237207,
          -0.11514925363568562,
          -0.20936138521130568,
          -0.23694314875636666,
          -1.41396658714284,
          -0.7197209408930788,
          -0.21986205769332937,
          1.0281717480256272,
          -0.34491294269628503,
          1.8387982177216249,
          1.7454245898531036,
          0.40475695887285834,
          0.38445221563913434,
          0.09096690376723829,
          -0.5452474872683721,
          0.36883064898417145,
          0.471064900436615,
          0.08943939927300605,
          -0.04711988398954826,
          -0.377726634293231,
          0.7896939082042002,
          0.2834844224400587,
          -0.3712372134953554,
          -0.8239234838514105,
          -0.24380479792713633,
          0.8021227623642619,
          0.8595077643277932,
          -0.89133910900524,
          -0.08704741110358603,
          1.1154306476276132,
          -0.8232991534045231,
          0.03951476468379789,
          -0.5897579157424271,
          0.48638772034887495,
          -0.23689141912829995,
          -0.849875469508366,
          1.2033244290804135,
          -0.9707942664404414,
          0.5345692965058876,
          0.24185563713696623,
          -1.2480718435113924,
          -1.9764817321890251,
          0.17398462490394964,
          -0.2958648071038704,
          -0.9073789839128634,
          -0.320061959697221,
          -1.2894563780049575,
          0.8162202543091142,
          0.7279819747659728,
          0.5016314636811545,
          -1.6350473403411654,
          1.112226070703627,
          -1.3798198056686024,
          0.03712506450794439,
          0.8725646848428592,
          -0.062491031397570555,
          -1.283446523292469,
          0.8042769164891135,
          -1.2878267604909532,
          -2.4243449762842935,
          1.455471611236058,
          0.4262483065173007,
          -1.1011863485263866,
          0.36393070625865315,
          -0.3828540123202687,
          0.07374167084754127,
          -1.3446917941460133,
          -0.07602512088167016,
          2.131579084083562,
          0.8633118511617681,
          0.9567443066299663,
          -0.35082901706021047,
          0.5353353137007961,
          -0.06072553628984715,
          0.4216056690056466,
          1.8201523623294387,
          -1.4207116091443348,
          -0.24445402467878669,
          1.0790482734281726,
          -0.301775352771489,
          -0.463830499688751,
          -0.48449348616253807,
          -0.8952937264879816,
          -0.17464315190589047,
          -1.5690068772777155
         ]
        }
       ],
       "layout": {
        "barmode": "overlay",
        "legend": {
         "bgcolor": "#F5F6F9",
         "font": {
          "color": "#4D5663"
         }
        },
        "paper_bgcolor": "#F5F6F9",
        "plot_bgcolor": "#F5F6F9",
        "template": {
         "data": {
          "bar": [
           {
            "error_x": {
             "color": "#2a3f5f"
            },
            "error_y": {
             "color": "#2a3f5f"
            },
            "marker": {
             "line": {
              "color": "#E5ECF6",
              "width": 0.5
             }
            },
            "type": "bar"
           }
          ],
          "barpolar": [
           {
            "marker": {
             "line": {
              "color": "#E5ECF6",
              "width": 0.5
             }
            },
            "type": "barpolar"
           }
          ],
          "carpet": [
           {
            "aaxis": {
             "endlinecolor": "#2a3f5f",
             "gridcolor": "white",
             "linecolor": "white",
             "minorgridcolor": "white",
             "startlinecolor": "#2a3f5f"
            },
            "baxis": {
             "endlinecolor": "#2a3f5f",
             "gridcolor": "white",
             "linecolor": "white",
             "minorgridcolor": "white",
             "startlinecolor": "#2a3f5f"
            },
            "type": "carpet"
           }
          ],
          "choropleth": [
           {
            "colorbar": {
             "outlinewidth": 0,
             "ticks": ""
            },
            "type": "choropleth"
           }
          ],
          "contour": [
           {
            "colorbar": {
             "outlinewidth": 0,
             "ticks": ""
            },
            "colorscale": [
             [
              0,
              "#0d0887"
             ],
             [
              0.1111111111111111,
              "#46039f"
             ],
             [
              0.2222222222222222,
              "#7201a8"
             ],
             [
              0.3333333333333333,
              "#9c179e"
             ],
             [
              0.4444444444444444,
              "#bd3786"
             ],
             [
              0.5555555555555556,
              "#d8576b"
             ],
             [
              0.6666666666666666,
              "#ed7953"
             ],
             [
              0.7777777777777778,
              "#fb9f3a"
             ],
             [
              0.8888888888888888,
              "#fdca26"
             ],
             [
              1,
              "#f0f921"
             ]
            ],
            "type": "contour"
           }
          ],
          "contourcarpet": [
           {
            "colorbar": {
             "outlinewidth": 0,
             "ticks": ""
            },
            "type": "contourcarpet"
           }
          ],
          "heatmap": [
           {
            "colorbar": {
             "outlinewidth": 0,
             "ticks": ""
            },
            "colorscale": [
             [
              0,
              "#0d0887"
             ],
             [
              0.1111111111111111,
              "#46039f"
             ],
             [
              0.2222222222222222,
              "#7201a8"
             ],
             [
              0.3333333333333333,
              "#9c179e"
             ],
             [
              0.4444444444444444,
              "#bd3786"
             ],
             [
              0.5555555555555556,
              "#d8576b"
             ],
             [
              0.6666666666666666,
              "#ed7953"
             ],
             [
              0.7777777777777778,
              "#fb9f3a"
             ],
             [
              0.8888888888888888,
              "#fdca26"
             ],
             [
              1,
              "#f0f921"
             ]
            ],
            "type": "heatmap"
           }
          ],
          "heatmapgl": [
           {
            "colorbar": {
             "outlinewidth": 0,
             "ticks": ""
            },
            "colorscale": [
             [
              0,
              "#0d0887"
             ],
             [
              0.1111111111111111,
              "#46039f"
             ],
             [
              0.2222222222222222,
              "#7201a8"
             ],
             [
              0.3333333333333333,
              "#9c179e"
             ],
             [
              0.4444444444444444,
              "#bd3786"
             ],
             [
              0.5555555555555556,
              "#d8576b"
             ],
             [
              0.6666666666666666,
              "#ed7953"
             ],
             [
              0.7777777777777778,
              "#fb9f3a"
             ],
             [
              0.8888888888888888,
              "#fdca26"
             ],
             [
              1,
              "#f0f921"
             ]
            ],
            "type": "heatmapgl"
           }
          ],
          "histogram": [
           {
            "marker": {
             "colorbar": {
              "outlinewidth": 0,
              "ticks": ""
             }
            },
            "type": "histogram"
           }
          ],
          "histogram2d": [
           {
            "colorbar": {
             "outlinewidth": 0,
             "ticks": ""
            },
            "colorscale": [
             [
              0,
              "#0d0887"
             ],
             [
              0.1111111111111111,
              "#46039f"
             ],
             [
              0.2222222222222222,
              "#7201a8"
             ],
             [
              0.3333333333333333,
              "#9c179e"
             ],
             [
              0.4444444444444444,
              "#bd3786"
             ],
             [
              0.5555555555555556,
              "#d8576b"
             ],
             [
              0.6666666666666666,
              "#ed7953"
             ],
             [
              0.7777777777777778,
              "#fb9f3a"
             ],
             [
              0.8888888888888888,
              "#fdca26"
             ],
             [
              1,
              "#f0f921"
             ]
            ],
            "type": "histogram2d"
           }
          ],
          "histogram2dcontour": [
           {
            "colorbar": {
             "outlinewidth": 0,
             "ticks": ""
            },
            "colorscale": [
             [
              0,
              "#0d0887"
             ],
             [
              0.1111111111111111,
              "#46039f"
             ],
             [
              0.2222222222222222,
              "#7201a8"
             ],
             [
              0.3333333333333333,
              "#9c179e"
             ],
             [
              0.4444444444444444,
              "#bd3786"
             ],
             [
              0.5555555555555556,
              "#d8576b"
             ],
             [
              0.6666666666666666,
              "#ed7953"
             ],
             [
              0.7777777777777778,
              "#fb9f3a"
             ],
             [
              0.8888888888888888,
              "#fdca26"
             ],
             [
              1,
              "#f0f921"
             ]
            ],
            "type": "histogram2dcontour"
           }
          ],
          "mesh3d": [
           {
            "colorbar": {
             "outlinewidth": 0,
             "ticks": ""
            },
            "type": "mesh3d"
           }
          ],
          "parcoords": [
           {
            "line": {
             "colorbar": {
              "outlinewidth": 0,
              "ticks": ""
             }
            },
            "type": "parcoords"
           }
          ],
          "pie": [
           {
            "automargin": true,
            "type": "pie"
           }
          ],
          "scatter": [
           {
            "marker": {
             "colorbar": {
              "outlinewidth": 0,
              "ticks": ""
             }
            },
            "type": "scatter"
           }
          ],
          "scatter3d": [
           {
            "line": {
             "colorbar": {
              "outlinewidth": 0,
              "ticks": ""
             }
            },
            "marker": {
             "colorbar": {
              "outlinewidth": 0,
              "ticks": ""
             }
            },
            "type": "scatter3d"
           }
          ],
          "scattercarpet": [
           {
            "marker": {
             "colorbar": {
              "outlinewidth": 0,
              "ticks": ""
             }
            },
            "type": "scattercarpet"
           }
          ],
          "scattergeo": [
           {
            "marker": {
             "colorbar": {
              "outlinewidth": 0,
              "ticks": ""
             }
            },
            "type": "scattergeo"
           }
          ],
          "scattergl": [
           {
            "marker": {
             "colorbar": {
              "outlinewidth": 0,
              "ticks": ""
             }
            },
            "type": "scattergl"
           }
          ],
          "scattermapbox": [
           {
            "marker": {
             "colorbar": {
              "outlinewidth": 0,
              "ticks": ""
             }
            },
            "type": "scattermapbox"
           }
          ],
          "scatterpolar": [
           {
            "marker": {
             "colorbar": {
              "outlinewidth": 0,
              "ticks": ""
             }
            },
            "type": "scatterpolar"
           }
          ],
          "scatterpolargl": [
           {
            "marker": {
             "colorbar": {
              "outlinewidth": 0,
              "ticks": ""
             }
            },
            "type": "scatterpolargl"
           }
          ],
          "scatterternary": [
           {
            "marker": {
             "colorbar": {
              "outlinewidth": 0,
              "ticks": ""
             }
            },
            "type": "scatterternary"
           }
          ],
          "surface": [
           {
            "colorbar": {
             "outlinewidth": 0,
             "ticks": ""
            },
            "colorscale": [
             [
              0,
              "#0d0887"
             ],
             [
              0.1111111111111111,
              "#46039f"
             ],
             [
              0.2222222222222222,
              "#7201a8"
             ],
             [
              0.3333333333333333,
              "#9c179e"
             ],
             [
              0.4444444444444444,
              "#bd3786"
             ],
             [
              0.5555555555555556,
              "#d8576b"
             ],
             [
              0.6666666666666666,
              "#ed7953"
             ],
             [
              0.7777777777777778,
              "#fb9f3a"
             ],
             [
              0.8888888888888888,
              "#fdca26"
             ],
             [
              1,
              "#f0f921"
             ]
            ],
            "type": "surface"
           }
          ],
          "table": [
           {
            "cells": {
             "fill": {
              "color": "#EBF0F8"
             },
             "line": {
              "color": "white"
             }
            },
            "header": {
             "fill": {
              "color": "#C8D4E3"
             },
             "line": {
              "color": "white"
             }
            },
            "type": "table"
           }
          ]
         },
         "layout": {
          "annotationdefaults": {
           "arrowcolor": "#2a3f5f",
           "arrowhead": 0,
           "arrowwidth": 1
          },
          "coloraxis": {
           "colorbar": {
            "outlinewidth": 0,
            "ticks": ""
           }
          },
          "colorscale": {
           "diverging": [
            [
             0,
             "#8e0152"
            ],
            [
             0.1,
             "#c51b7d"
            ],
            [
             0.2,
             "#de77ae"
            ],
            [
             0.3,
             "#f1b6da"
            ],
            [
             0.4,
             "#fde0ef"
            ],
            [
             0.5,
             "#f7f7f7"
            ],
            [
             0.6,
             "#e6f5d0"
            ],
            [
             0.7,
             "#b8e186"
            ],
            [
             0.8,
             "#7fbc41"
            ],
            [
             0.9,
             "#4d9221"
            ],
            [
             1,
             "#276419"
            ]
           ],
           "sequential": [
            [
             0,
             "#0d0887"
            ],
            [
             0.1111111111111111,
             "#46039f"
            ],
            [
             0.2222222222222222,
             "#7201a8"
            ],
            [
             0.3333333333333333,
             "#9c179e"
            ],
            [
             0.4444444444444444,
             "#bd3786"
            ],
            [
             0.5555555555555556,
             "#d8576b"
            ],
            [
             0.6666666666666666,
             "#ed7953"
            ],
            [
             0.7777777777777778,
             "#fb9f3a"
            ],
            [
             0.8888888888888888,
             "#fdca26"
            ],
            [
             1,
             "#f0f921"
            ]
           ],
           "sequentialminus": [
            [
             0,
             "#0d0887"
            ],
            [
             0.1111111111111111,
             "#46039f"
            ],
            [
             0.2222222222222222,
             "#7201a8"
            ],
            [
             0.3333333333333333,
             "#9c179e"
            ],
            [
             0.4444444444444444,
             "#bd3786"
            ],
            [
             0.5555555555555556,
             "#d8576b"
            ],
            [
             0.6666666666666666,
             "#ed7953"
            ],
            [
             0.7777777777777778,
             "#fb9f3a"
            ],
            [
             0.8888888888888888,
             "#fdca26"
            ],
            [
             1,
             "#f0f921"
            ]
           ]
          },
          "colorway": [
           "#636efa",
           "#EF553B",
           "#00cc96",
           "#ab63fa",
           "#FFA15A",
           "#19d3f3",
           "#FF6692",
           "#B6E880",
           "#FF97FF",
           "#FECB52"
          ],
          "font": {
           "color": "#2a3f5f"
          },
          "geo": {
           "bgcolor": "white",
           "lakecolor": "white",
           "landcolor": "#E5ECF6",
           "showlakes": true,
           "showland": true,
           "subunitcolor": "white"
          },
          "hoverlabel": {
           "align": "left"
          },
          "hovermode": "closest",
          "mapbox": {
           "style": "light"
          },
          "paper_bgcolor": "white",
          "plot_bgcolor": "#E5ECF6",
          "polar": {
           "angularaxis": {
            "gridcolor": "white",
            "linecolor": "white",
            "ticks": ""
           },
           "bgcolor": "#E5ECF6",
           "radialaxis": {
            "gridcolor": "white",
            "linecolor": "white",
            "ticks": ""
           }
          },
          "scene": {
           "xaxis": {
            "backgroundcolor": "#E5ECF6",
            "gridcolor": "white",
            "gridwidth": 2,
            "linecolor": "white",
            "showbackground": true,
            "ticks": "",
            "zerolinecolor": "white"
           },
           "yaxis": {
            "backgroundcolor": "#E5ECF6",
            "gridcolor": "white",
            "gridwidth": 2,
            "linecolor": "white",
            "showbackground": true,
            "ticks": "",
            "zerolinecolor": "white"
           },
           "zaxis": {
            "backgroundcolor": "#E5ECF6",
            "gridcolor": "white",
            "gridwidth": 2,
            "linecolor": "white",
            "showbackground": true,
            "ticks": "",
            "zerolinecolor": "white"
           }
          },
          "shapedefaults": {
           "line": {
            "color": "#2a3f5f"
           }
          },
          "ternary": {
           "aaxis": {
            "gridcolor": "white",
            "linecolor": "white",
            "ticks": ""
           },
           "baxis": {
            "gridcolor": "white",
            "linecolor": "white",
            "ticks": ""
           },
           "bgcolor": "#E5ECF6",
           "caxis": {
            "gridcolor": "white",
            "linecolor": "white",
            "ticks": ""
           }
          },
          "title": {
           "x": 0.05
          },
          "xaxis": {
           "automargin": true,
           "gridcolor": "white",
           "linecolor": "white",
           "ticks": "",
           "title": {
            "standoff": 15
           },
           "zerolinecolor": "white",
           "zerolinewidth": 2
          },
          "yaxis": {
           "automargin": true,
           "gridcolor": "white",
           "linecolor": "white",
           "ticks": "",
           "title": {
            "standoff": 15
           },
           "zerolinecolor": "white",
           "zerolinewidth": 2
          }
         }
        },
        "title": {
         "font": {
          "color": "#4D5663"
         }
        },
        "xaxis": {
         "gridcolor": "#E1E5ED",
         "showgrid": true,
         "tickfont": {
          "color": "#4D5663"
         },
         "title": {
          "font": {
           "color": "#4D5663"
          },
          "text": ""
         },
         "zerolinecolor": "#E1E5ED"
        },
        "yaxis": {
         "gridcolor": "#E1E5ED",
         "showgrid": true,
         "tickfont": {
          "color": "#4D5663"
         },
         "title": {
          "font": {
           "color": "#4D5663"
          },
          "text": ""
         },
         "zerolinecolor": "#E1E5ED"
        }
       }
      },
      "text/html": [
       "<div>\n",
       "        \n",
       "        \n",
       "            <div id=\"02fbb241-b1d7-45fd-8ae4-6618e6637911\" class=\"plotly-graph-div\" style=\"height:525px; width:100%;\"></div>\n",
       "            <script type=\"text/javascript\">\n",
       "                require([\"plotly\"], function(Plotly) {\n",
       "                    window.PLOTLYENV=window.PLOTLYENV || {};\n",
       "                    window.PLOTLYENV.BASE_URL='https://plot.ly';\n",
       "                    \n",
       "                if (document.getElementById(\"02fbb241-b1d7-45fd-8ae4-6618e6637911\")) {\n",
       "                    Plotly.newPlot(\n",
       "                        '02fbb241-b1d7-45fd-8ae4-6618e6637911',\n",
       "                        [{\"histfunc\": \"count\", \"histnorm\": \"\", \"marker\": {\"color\": \"rgba(255, 153, 51, 1.0)\", \"line\": {\"color\": \"#4D5663\", \"width\": 1.3}}, \"name\": \"A\", \"opacity\": 0.8, \"orientation\": \"v\", \"type\": \"histogram\", \"x\": [-0.5009543608026148, -0.4204615151389094, -0.49553283935936165, 0.7657304693445539, -0.07847397916945117, 0.6700761884302777, 1.6148887957746296, -0.14346731599489548, -0.2665864011088299, 1.5203733905118066, -1.6225831980015681, -0.0010036338978958532, -0.20764556384936733, 1.2211140213435423, 0.7616648705923982, 0.8511236141237207, -0.11514925363568562, -0.20936138521130568, -0.23694314875636666, -1.41396658714284, -0.7197209408930788, -0.21986205769332937, 1.0281717480256272, -0.34491294269628503, 1.8387982177216249, 1.7454245898531036, 0.40475695887285834, 0.38445221563913434, 0.09096690376723829, -0.5452474872683721, 0.36883064898417145, 0.471064900436615, 0.08943939927300605, -0.04711988398954826, -0.377726634293231, 0.7896939082042002, 0.2834844224400587, -0.3712372134953554, -0.8239234838514105, -0.24380479792713633, 0.8021227623642619, 0.8595077643277932, -0.89133910900524, -0.08704741110358603, 1.1154306476276132, -0.8232991534045231, 0.03951476468379789, -0.5897579157424271, 0.48638772034887495, -0.23689141912829995, -0.849875469508366, 1.2033244290804135, -0.9707942664404414, 0.5345692965058876, 0.24185563713696623, -1.2480718435113924, -1.9764817321890251, 0.17398462490394964, -0.2958648071038704, -0.9073789839128634, -0.320061959697221, -1.2894563780049575, 0.8162202543091142, 0.7279819747659728, 0.5016314636811545, -1.6350473403411654, 1.112226070703627, -1.3798198056686024, 0.03712506450794439, 0.8725646848428592, -0.062491031397570555, -1.283446523292469, 0.8042769164891135, -1.2878267604909532, -2.4243449762842935, 1.455471611236058, 0.4262483065173007, -1.1011863485263866, 0.36393070625865315, -0.3828540123202687, 0.07374167084754127, -1.3446917941460133, -0.07602512088167016, 2.131579084083562, 0.8633118511617681, 0.9567443066299663, -0.35082901706021047, 0.5353353137007961, -0.06072553628984715, 0.4216056690056466, 1.8201523623294387, -1.4207116091443348, -0.24445402467878669, 1.0790482734281726, -0.301775352771489, -0.463830499688751, -0.48449348616253807, -0.8952937264879816, -0.17464315190589047, -1.5690068772777155]}],\n",
       "                        {\"barmode\": \"overlay\", \"legend\": {\"bgcolor\": \"#F5F6F9\", \"font\": {\"color\": \"#4D5663\"}}, \"paper_bgcolor\": \"#F5F6F9\", \"plot_bgcolor\": \"#F5F6F9\", \"template\": {\"data\": {\"bar\": [{\"error_x\": {\"color\": \"#2a3f5f\"}, \"error_y\": {\"color\": \"#2a3f5f\"}, \"marker\": {\"line\": {\"color\": \"#E5ECF6\", \"width\": 0.5}}, \"type\": \"bar\"}], \"barpolar\": [{\"marker\": {\"line\": {\"color\": \"#E5ECF6\", \"width\": 0.5}}, \"type\": \"barpolar\"}], \"carpet\": [{\"aaxis\": {\"endlinecolor\": \"#2a3f5f\", \"gridcolor\": \"white\", \"linecolor\": \"white\", \"minorgridcolor\": \"white\", \"startlinecolor\": \"#2a3f5f\"}, \"baxis\": {\"endlinecolor\": \"#2a3f5f\", \"gridcolor\": \"white\", \"linecolor\": \"white\", \"minorgridcolor\": \"white\", \"startlinecolor\": \"#2a3f5f\"}, \"type\": \"carpet\"}], \"choropleth\": [{\"colorbar\": {\"outlinewidth\": 0, \"ticks\": \"\"}, \"type\": \"choropleth\"}], \"contour\": [{\"colorbar\": {\"outlinewidth\": 0, \"ticks\": \"\"}, \"colorscale\": [[0.0, \"#0d0887\"], [0.1111111111111111, \"#46039f\"], [0.2222222222222222, \"#7201a8\"], [0.3333333333333333, \"#9c179e\"], [0.4444444444444444, \"#bd3786\"], [0.5555555555555556, \"#d8576b\"], [0.6666666666666666, \"#ed7953\"], [0.7777777777777778, \"#fb9f3a\"], [0.8888888888888888, \"#fdca26\"], [1.0, \"#f0f921\"]], \"type\": \"contour\"}], \"contourcarpet\": [{\"colorbar\": {\"outlinewidth\": 0, \"ticks\": \"\"}, \"type\": \"contourcarpet\"}], \"heatmap\": [{\"colorbar\": {\"outlinewidth\": 0, \"ticks\": \"\"}, \"colorscale\": [[0.0, \"#0d0887\"], [0.1111111111111111, \"#46039f\"], [0.2222222222222222, \"#7201a8\"], [0.3333333333333333, \"#9c179e\"], [0.4444444444444444, \"#bd3786\"], [0.5555555555555556, \"#d8576b\"], [0.6666666666666666, \"#ed7953\"], [0.7777777777777778, \"#fb9f3a\"], [0.8888888888888888, \"#fdca26\"], [1.0, \"#f0f921\"]], \"type\": \"heatmap\"}], \"heatmapgl\": [{\"colorbar\": {\"outlinewidth\": 0, \"ticks\": \"\"}, \"colorscale\": [[0.0, \"#0d0887\"], [0.1111111111111111, \"#46039f\"], [0.2222222222222222, \"#7201a8\"], [0.3333333333333333, \"#9c179e\"], [0.4444444444444444, \"#bd3786\"], [0.5555555555555556, \"#d8576b\"], [0.6666666666666666, \"#ed7953\"], [0.7777777777777778, \"#fb9f3a\"], [0.8888888888888888, \"#fdca26\"], [1.0, \"#f0f921\"]], \"type\": \"heatmapgl\"}], \"histogram\": [{\"marker\": {\"colorbar\": {\"outlinewidth\": 0, \"ticks\": \"\"}}, \"type\": \"histogram\"}], \"histogram2d\": [{\"colorbar\": {\"outlinewidth\": 0, \"ticks\": \"\"}, \"colorscale\": [[0.0, \"#0d0887\"], [0.1111111111111111, \"#46039f\"], [0.2222222222222222, \"#7201a8\"], [0.3333333333333333, \"#9c179e\"], [0.4444444444444444, \"#bd3786\"], [0.5555555555555556, \"#d8576b\"], [0.6666666666666666, \"#ed7953\"], [0.7777777777777778, \"#fb9f3a\"], [0.8888888888888888, \"#fdca26\"], [1.0, \"#f0f921\"]], \"type\": \"histogram2d\"}], \"histogram2dcontour\": [{\"colorbar\": {\"outlinewidth\": 0, \"ticks\": \"\"}, \"colorscale\": [[0.0, \"#0d0887\"], [0.1111111111111111, \"#46039f\"], [0.2222222222222222, \"#7201a8\"], [0.3333333333333333, \"#9c179e\"], [0.4444444444444444, \"#bd3786\"], [0.5555555555555556, \"#d8576b\"], [0.6666666666666666, \"#ed7953\"], [0.7777777777777778, \"#fb9f3a\"], [0.8888888888888888, \"#fdca26\"], [1.0, \"#f0f921\"]], \"type\": \"histogram2dcontour\"}], \"mesh3d\": [{\"colorbar\": {\"outlinewidth\": 0, \"ticks\": \"\"}, \"type\": \"mesh3d\"}], \"parcoords\": [{\"line\": {\"colorbar\": {\"outlinewidth\": 0, \"ticks\": \"\"}}, \"type\": \"parcoords\"}], \"pie\": [{\"automargin\": true, \"type\": \"pie\"}], \"scatter\": [{\"marker\": {\"colorbar\": {\"outlinewidth\": 0, \"ticks\": \"\"}}, \"type\": \"scatter\"}], \"scatter3d\": [{\"line\": {\"colorbar\": {\"outlinewidth\": 0, \"ticks\": \"\"}}, \"marker\": {\"colorbar\": {\"outlinewidth\": 0, \"ticks\": \"\"}}, \"type\": \"scatter3d\"}], \"scattercarpet\": [{\"marker\": {\"colorbar\": {\"outlinewidth\": 0, \"ticks\": \"\"}}, \"type\": \"scattercarpet\"}], \"scattergeo\": [{\"marker\": {\"colorbar\": {\"outlinewidth\": 0, \"ticks\": \"\"}}, \"type\": \"scattergeo\"}], \"scattergl\": [{\"marker\": {\"colorbar\": {\"outlinewidth\": 0, \"ticks\": \"\"}}, \"type\": \"scattergl\"}], \"scattermapbox\": [{\"marker\": {\"colorbar\": {\"outlinewidth\": 0, \"ticks\": \"\"}}, \"type\": \"scattermapbox\"}], \"scatterpolar\": [{\"marker\": {\"colorbar\": {\"outlinewidth\": 0, \"ticks\": \"\"}}, \"type\": \"scatterpolar\"}], \"scatterpolargl\": [{\"marker\": {\"colorbar\": {\"outlinewidth\": 0, \"ticks\": \"\"}}, \"type\": \"scatterpolargl\"}], \"scatterternary\": [{\"marker\": {\"colorbar\": {\"outlinewidth\": 0, \"ticks\": \"\"}}, \"type\": \"scatterternary\"}], \"surface\": [{\"colorbar\": {\"outlinewidth\": 0, \"ticks\": \"\"}, \"colorscale\": [[0.0, \"#0d0887\"], [0.1111111111111111, \"#46039f\"], [0.2222222222222222, \"#7201a8\"], [0.3333333333333333, \"#9c179e\"], [0.4444444444444444, \"#bd3786\"], [0.5555555555555556, \"#d8576b\"], [0.6666666666666666, \"#ed7953\"], [0.7777777777777778, \"#fb9f3a\"], [0.8888888888888888, \"#fdca26\"], [1.0, \"#f0f921\"]], \"type\": \"surface\"}], \"table\": [{\"cells\": {\"fill\": {\"color\": \"#EBF0F8\"}, \"line\": {\"color\": \"white\"}}, \"header\": {\"fill\": {\"color\": \"#C8D4E3\"}, \"line\": {\"color\": \"white\"}}, \"type\": \"table\"}]}, \"layout\": {\"annotationdefaults\": {\"arrowcolor\": \"#2a3f5f\", \"arrowhead\": 0, \"arrowwidth\": 1}, \"coloraxis\": {\"colorbar\": {\"outlinewidth\": 0, \"ticks\": \"\"}}, \"colorscale\": {\"diverging\": [[0, \"#8e0152\"], [0.1, \"#c51b7d\"], [0.2, \"#de77ae\"], [0.3, \"#f1b6da\"], [0.4, \"#fde0ef\"], [0.5, \"#f7f7f7\"], [0.6, \"#e6f5d0\"], [0.7, \"#b8e186\"], [0.8, \"#7fbc41\"], [0.9, \"#4d9221\"], [1, \"#276419\"]], \"sequential\": [[0.0, \"#0d0887\"], [0.1111111111111111, \"#46039f\"], [0.2222222222222222, \"#7201a8\"], [0.3333333333333333, \"#9c179e\"], [0.4444444444444444, \"#bd3786\"], [0.5555555555555556, \"#d8576b\"], [0.6666666666666666, \"#ed7953\"], [0.7777777777777778, \"#fb9f3a\"], [0.8888888888888888, \"#fdca26\"], [1.0, \"#f0f921\"]], \"sequentialminus\": [[0.0, \"#0d0887\"], [0.1111111111111111, \"#46039f\"], [0.2222222222222222, \"#7201a8\"], [0.3333333333333333, \"#9c179e\"], [0.4444444444444444, \"#bd3786\"], [0.5555555555555556, \"#d8576b\"], [0.6666666666666666, \"#ed7953\"], [0.7777777777777778, \"#fb9f3a\"], [0.8888888888888888, \"#fdca26\"], [1.0, \"#f0f921\"]]}, \"colorway\": [\"#636efa\", \"#EF553B\", \"#00cc96\", \"#ab63fa\", \"#FFA15A\", \"#19d3f3\", \"#FF6692\", \"#B6E880\", \"#FF97FF\", \"#FECB52\"], \"font\": {\"color\": \"#2a3f5f\"}, \"geo\": {\"bgcolor\": \"white\", \"lakecolor\": \"white\", \"landcolor\": \"#E5ECF6\", \"showlakes\": true, \"showland\": true, \"subunitcolor\": \"white\"}, \"hoverlabel\": {\"align\": \"left\"}, \"hovermode\": \"closest\", \"mapbox\": {\"style\": \"light\"}, \"paper_bgcolor\": \"white\", \"plot_bgcolor\": \"#E5ECF6\", \"polar\": {\"angularaxis\": {\"gridcolor\": \"white\", \"linecolor\": \"white\", \"ticks\": \"\"}, \"bgcolor\": \"#E5ECF6\", \"radialaxis\": {\"gridcolor\": \"white\", \"linecolor\": \"white\", \"ticks\": \"\"}}, \"scene\": {\"xaxis\": {\"backgroundcolor\": \"#E5ECF6\", \"gridcolor\": \"white\", \"gridwidth\": 2, \"linecolor\": \"white\", \"showbackground\": true, \"ticks\": \"\", \"zerolinecolor\": \"white\"}, \"yaxis\": {\"backgroundcolor\": \"#E5ECF6\", \"gridcolor\": \"white\", \"gridwidth\": 2, \"linecolor\": \"white\", \"showbackground\": true, \"ticks\": \"\", \"zerolinecolor\": \"white\"}, \"zaxis\": {\"backgroundcolor\": \"#E5ECF6\", \"gridcolor\": \"white\", \"gridwidth\": 2, \"linecolor\": \"white\", \"showbackground\": true, \"ticks\": \"\", \"zerolinecolor\": \"white\"}}, \"shapedefaults\": {\"line\": {\"color\": \"#2a3f5f\"}}, \"ternary\": {\"aaxis\": {\"gridcolor\": \"white\", \"linecolor\": \"white\", \"ticks\": \"\"}, \"baxis\": {\"gridcolor\": \"white\", \"linecolor\": \"white\", \"ticks\": \"\"}, \"bgcolor\": \"#E5ECF6\", \"caxis\": {\"gridcolor\": \"white\", \"linecolor\": \"white\", \"ticks\": \"\"}}, \"title\": {\"x\": 0.05}, \"xaxis\": {\"automargin\": true, \"gridcolor\": \"white\", \"linecolor\": \"white\", \"ticks\": \"\", \"title\": {\"standoff\": 15}, \"zerolinecolor\": \"white\", \"zerolinewidth\": 2}, \"yaxis\": {\"automargin\": true, \"gridcolor\": \"white\", \"linecolor\": \"white\", \"ticks\": \"\", \"title\": {\"standoff\": 15}, \"zerolinecolor\": \"white\", \"zerolinewidth\": 2}}}, \"title\": {\"font\": {\"color\": \"#4D5663\"}}, \"xaxis\": {\"gridcolor\": \"#E1E5ED\", \"showgrid\": true, \"tickfont\": {\"color\": \"#4D5663\"}, \"title\": {\"font\": {\"color\": \"#4D5663\"}, \"text\": \"\"}, \"zerolinecolor\": \"#E1E5ED\"}, \"yaxis\": {\"gridcolor\": \"#E1E5ED\", \"showgrid\": true, \"tickfont\": {\"color\": \"#4D5663\"}, \"title\": {\"font\": {\"color\": \"#4D5663\"}, \"text\": \"\"}, \"zerolinecolor\": \"#E1E5ED\"}},\n",
       "                        {\"showLink\": true, \"linkText\": \"Export to plot.ly\", \"plotlyServerURL\": \"https://plot.ly\", \"responsive\": true}\n",
       "                    ).then(function(){\n",
       "                            \n",
       "var gd = document.getElementById('02fbb241-b1d7-45fd-8ae4-6618e6637911');\n",
       "var x = new MutationObserver(function (mutations, observer) {{\n",
       "        var display = window.getComputedStyle(gd).display;\n",
       "        if (!display || display === 'none') {{\n",
       "            console.log([gd, 'removed!']);\n",
       "            Plotly.purge(gd);\n",
       "            observer.disconnect();\n",
       "        }}\n",
       "}});\n",
       "\n",
       "// Listen for the removal of the full notebook cells\n",
       "var notebookContainer = gd.closest('#notebook-container');\n",
       "if (notebookContainer) {{\n",
       "    x.observe(notebookContainer, {childList: true});\n",
       "}}\n",
       "\n",
       "// Listen for the clearing of the current output cell\n",
       "var outputEl = gd.closest('.output');\n",
       "if (outputEl) {{\n",
       "    x.observe(outputEl, {childList: true});\n",
       "}}\n",
       "\n",
       "                        })\n",
       "                };\n",
       "                });\n",
       "            </script>\n",
       "        </div>"
      ]
     },
     "metadata": {},
     "output_type": "display_data"
    }
   ],
   "source": [
    "df['A'].iplot(kind='hist')"
   ]
  },
  {
   "cell_type": "code",
   "execution_count": 58,
   "metadata": {},
   "outputs": [
    {
     "data": {
      "application/vnd.plotly.v1+json": {
       "config": {
        "linkText": "Export to plot.ly",
        "plotlyServerURL": "https://plot.ly",
        "showLink": true
       },
       "data": [
        {
         "histfunc": "count",
         "histnorm": "",
         "marker": {
          "color": "rgba(255, 153, 51, 1.0)",
          "line": {
           "color": "#4D5663",
           "width": 1.3
          }
         },
         "name": "A",
         "nbinsx": 50,
         "opacity": 0.8,
         "orientation": "v",
         "type": "histogram",
         "x": [
          -0.5009543608026148,
          -0.4204615151389094,
          -0.49553283935936165,
          0.7657304693445539,
          -0.07847397916945117,
          0.6700761884302777,
          1.6148887957746296,
          -0.14346731599489548,
          -0.2665864011088299,
          1.5203733905118066,
          -1.6225831980015681,
          -0.0010036338978958532,
          -0.20764556384936733,
          1.2211140213435423,
          0.7616648705923982,
          0.8511236141237207,
          -0.11514925363568562,
          -0.20936138521130568,
          -0.23694314875636666,
          -1.41396658714284,
          -0.7197209408930788,
          -0.21986205769332937,
          1.0281717480256272,
          -0.34491294269628503,
          1.8387982177216249,
          1.7454245898531036,
          0.40475695887285834,
          0.38445221563913434,
          0.09096690376723829,
          -0.5452474872683721,
          0.36883064898417145,
          0.471064900436615,
          0.08943939927300605,
          -0.04711988398954826,
          -0.377726634293231,
          0.7896939082042002,
          0.2834844224400587,
          -0.3712372134953554,
          -0.8239234838514105,
          -0.24380479792713633,
          0.8021227623642619,
          0.8595077643277932,
          -0.89133910900524,
          -0.08704741110358603,
          1.1154306476276132,
          -0.8232991534045231,
          0.03951476468379789,
          -0.5897579157424271,
          0.48638772034887495,
          -0.23689141912829995,
          -0.849875469508366,
          1.2033244290804135,
          -0.9707942664404414,
          0.5345692965058876,
          0.24185563713696623,
          -1.2480718435113924,
          -1.9764817321890251,
          0.17398462490394964,
          -0.2958648071038704,
          -0.9073789839128634,
          -0.320061959697221,
          -1.2894563780049575,
          0.8162202543091142,
          0.7279819747659728,
          0.5016314636811545,
          -1.6350473403411654,
          1.112226070703627,
          -1.3798198056686024,
          0.03712506450794439,
          0.8725646848428592,
          -0.062491031397570555,
          -1.283446523292469,
          0.8042769164891135,
          -1.2878267604909532,
          -2.4243449762842935,
          1.455471611236058,
          0.4262483065173007,
          -1.1011863485263866,
          0.36393070625865315,
          -0.3828540123202687,
          0.07374167084754127,
          -1.3446917941460133,
          -0.07602512088167016,
          2.131579084083562,
          0.8633118511617681,
          0.9567443066299663,
          -0.35082901706021047,
          0.5353353137007961,
          -0.06072553628984715,
          0.4216056690056466,
          1.8201523623294387,
          -1.4207116091443348,
          -0.24445402467878669,
          1.0790482734281726,
          -0.301775352771489,
          -0.463830499688751,
          -0.48449348616253807,
          -0.8952937264879816,
          -0.17464315190589047,
          -1.5690068772777155
         ]
        }
       ],
       "layout": {
        "barmode": "overlay",
        "legend": {
         "bgcolor": "#F5F6F9",
         "font": {
          "color": "#4D5663"
         }
        },
        "paper_bgcolor": "#F5F6F9",
        "plot_bgcolor": "#F5F6F9",
        "template": {
         "data": {
          "bar": [
           {
            "error_x": {
             "color": "#2a3f5f"
            },
            "error_y": {
             "color": "#2a3f5f"
            },
            "marker": {
             "line": {
              "color": "#E5ECF6",
              "width": 0.5
             }
            },
            "type": "bar"
           }
          ],
          "barpolar": [
           {
            "marker": {
             "line": {
              "color": "#E5ECF6",
              "width": 0.5
             }
            },
            "type": "barpolar"
           }
          ],
          "carpet": [
           {
            "aaxis": {
             "endlinecolor": "#2a3f5f",
             "gridcolor": "white",
             "linecolor": "white",
             "minorgridcolor": "white",
             "startlinecolor": "#2a3f5f"
            },
            "baxis": {
             "endlinecolor": "#2a3f5f",
             "gridcolor": "white",
             "linecolor": "white",
             "minorgridcolor": "white",
             "startlinecolor": "#2a3f5f"
            },
            "type": "carpet"
           }
          ],
          "choropleth": [
           {
            "colorbar": {
             "outlinewidth": 0,
             "ticks": ""
            },
            "type": "choropleth"
           }
          ],
          "contour": [
           {
            "colorbar": {
             "outlinewidth": 0,
             "ticks": ""
            },
            "colorscale": [
             [
              0,
              "#0d0887"
             ],
             [
              0.1111111111111111,
              "#46039f"
             ],
             [
              0.2222222222222222,
              "#7201a8"
             ],
             [
              0.3333333333333333,
              "#9c179e"
             ],
             [
              0.4444444444444444,
              "#bd3786"
             ],
             [
              0.5555555555555556,
              "#d8576b"
             ],
             [
              0.6666666666666666,
              "#ed7953"
             ],
             [
              0.7777777777777778,
              "#fb9f3a"
             ],
             [
              0.8888888888888888,
              "#fdca26"
             ],
             [
              1,
              "#f0f921"
             ]
            ],
            "type": "contour"
           }
          ],
          "contourcarpet": [
           {
            "colorbar": {
             "outlinewidth": 0,
             "ticks": ""
            },
            "type": "contourcarpet"
           }
          ],
          "heatmap": [
           {
            "colorbar": {
             "outlinewidth": 0,
             "ticks": ""
            },
            "colorscale": [
             [
              0,
              "#0d0887"
             ],
             [
              0.1111111111111111,
              "#46039f"
             ],
             [
              0.2222222222222222,
              "#7201a8"
             ],
             [
              0.3333333333333333,
              "#9c179e"
             ],
             [
              0.4444444444444444,
              "#bd3786"
             ],
             [
              0.5555555555555556,
              "#d8576b"
             ],
             [
              0.6666666666666666,
              "#ed7953"
             ],
             [
              0.7777777777777778,
              "#fb9f3a"
             ],
             [
              0.8888888888888888,
              "#fdca26"
             ],
             [
              1,
              "#f0f921"
             ]
            ],
            "type": "heatmap"
           }
          ],
          "heatmapgl": [
           {
            "colorbar": {
             "outlinewidth": 0,
             "ticks": ""
            },
            "colorscale": [
             [
              0,
              "#0d0887"
             ],
             [
              0.1111111111111111,
              "#46039f"
             ],
             [
              0.2222222222222222,
              "#7201a8"
             ],
             [
              0.3333333333333333,
              "#9c179e"
             ],
             [
              0.4444444444444444,
              "#bd3786"
             ],
             [
              0.5555555555555556,
              "#d8576b"
             ],
             [
              0.6666666666666666,
              "#ed7953"
             ],
             [
              0.7777777777777778,
              "#fb9f3a"
             ],
             [
              0.8888888888888888,
              "#fdca26"
             ],
             [
              1,
              "#f0f921"
             ]
            ],
            "type": "heatmapgl"
           }
          ],
          "histogram": [
           {
            "marker": {
             "colorbar": {
              "outlinewidth": 0,
              "ticks": ""
             }
            },
            "type": "histogram"
           }
          ],
          "histogram2d": [
           {
            "colorbar": {
             "outlinewidth": 0,
             "ticks": ""
            },
            "colorscale": [
             [
              0,
              "#0d0887"
             ],
             [
              0.1111111111111111,
              "#46039f"
             ],
             [
              0.2222222222222222,
              "#7201a8"
             ],
             [
              0.3333333333333333,
              "#9c179e"
             ],
             [
              0.4444444444444444,
              "#bd3786"
             ],
             [
              0.5555555555555556,
              "#d8576b"
             ],
             [
              0.6666666666666666,
              "#ed7953"
             ],
             [
              0.7777777777777778,
              "#fb9f3a"
             ],
             [
              0.8888888888888888,
              "#fdca26"
             ],
             [
              1,
              "#f0f921"
             ]
            ],
            "type": "histogram2d"
           }
          ],
          "histogram2dcontour": [
           {
            "colorbar": {
             "outlinewidth": 0,
             "ticks": ""
            },
            "colorscale": [
             [
              0,
              "#0d0887"
             ],
             [
              0.1111111111111111,
              "#46039f"
             ],
             [
              0.2222222222222222,
              "#7201a8"
             ],
             [
              0.3333333333333333,
              "#9c179e"
             ],
             [
              0.4444444444444444,
              "#bd3786"
             ],
             [
              0.5555555555555556,
              "#d8576b"
             ],
             [
              0.6666666666666666,
              "#ed7953"
             ],
             [
              0.7777777777777778,
              "#fb9f3a"
             ],
             [
              0.8888888888888888,
              "#fdca26"
             ],
             [
              1,
              "#f0f921"
             ]
            ],
            "type": "histogram2dcontour"
           }
          ],
          "mesh3d": [
           {
            "colorbar": {
             "outlinewidth": 0,
             "ticks": ""
            },
            "type": "mesh3d"
           }
          ],
          "parcoords": [
           {
            "line": {
             "colorbar": {
              "outlinewidth": 0,
              "ticks": ""
             }
            },
            "type": "parcoords"
           }
          ],
          "pie": [
           {
            "automargin": true,
            "type": "pie"
           }
          ],
          "scatter": [
           {
            "marker": {
             "colorbar": {
              "outlinewidth": 0,
              "ticks": ""
             }
            },
            "type": "scatter"
           }
          ],
          "scatter3d": [
           {
            "line": {
             "colorbar": {
              "outlinewidth": 0,
              "ticks": ""
             }
            },
            "marker": {
             "colorbar": {
              "outlinewidth": 0,
              "ticks": ""
             }
            },
            "type": "scatter3d"
           }
          ],
          "scattercarpet": [
           {
            "marker": {
             "colorbar": {
              "outlinewidth": 0,
              "ticks": ""
             }
            },
            "type": "scattercarpet"
           }
          ],
          "scattergeo": [
           {
            "marker": {
             "colorbar": {
              "outlinewidth": 0,
              "ticks": ""
             }
            },
            "type": "scattergeo"
           }
          ],
          "scattergl": [
           {
            "marker": {
             "colorbar": {
              "outlinewidth": 0,
              "ticks": ""
             }
            },
            "type": "scattergl"
           }
          ],
          "scattermapbox": [
           {
            "marker": {
             "colorbar": {
              "outlinewidth": 0,
              "ticks": ""
             }
            },
            "type": "scattermapbox"
           }
          ],
          "scatterpolar": [
           {
            "marker": {
             "colorbar": {
              "outlinewidth": 0,
              "ticks": ""
             }
            },
            "type": "scatterpolar"
           }
          ],
          "scatterpolargl": [
           {
            "marker": {
             "colorbar": {
              "outlinewidth": 0,
              "ticks": ""
             }
            },
            "type": "scatterpolargl"
           }
          ],
          "scatterternary": [
           {
            "marker": {
             "colorbar": {
              "outlinewidth": 0,
              "ticks": ""
             }
            },
            "type": "scatterternary"
           }
          ],
          "surface": [
           {
            "colorbar": {
             "outlinewidth": 0,
             "ticks": ""
            },
            "colorscale": [
             [
              0,
              "#0d0887"
             ],
             [
              0.1111111111111111,
              "#46039f"
             ],
             [
              0.2222222222222222,
              "#7201a8"
             ],
             [
              0.3333333333333333,
              "#9c179e"
             ],
             [
              0.4444444444444444,
              "#bd3786"
             ],
             [
              0.5555555555555556,
              "#d8576b"
             ],
             [
              0.6666666666666666,
              "#ed7953"
             ],
             [
              0.7777777777777778,
              "#fb9f3a"
             ],
             [
              0.8888888888888888,
              "#fdca26"
             ],
             [
              1,
              "#f0f921"
             ]
            ],
            "type": "surface"
           }
          ],
          "table": [
           {
            "cells": {
             "fill": {
              "color": "#EBF0F8"
             },
             "line": {
              "color": "white"
             }
            },
            "header": {
             "fill": {
              "color": "#C8D4E3"
             },
             "line": {
              "color": "white"
             }
            },
            "type": "table"
           }
          ]
         },
         "layout": {
          "annotationdefaults": {
           "arrowcolor": "#2a3f5f",
           "arrowhead": 0,
           "arrowwidth": 1
          },
          "coloraxis": {
           "colorbar": {
            "outlinewidth": 0,
            "ticks": ""
           }
          },
          "colorscale": {
           "diverging": [
            [
             0,
             "#8e0152"
            ],
            [
             0.1,
             "#c51b7d"
            ],
            [
             0.2,
             "#de77ae"
            ],
            [
             0.3,
             "#f1b6da"
            ],
            [
             0.4,
             "#fde0ef"
            ],
            [
             0.5,
             "#f7f7f7"
            ],
            [
             0.6,
             "#e6f5d0"
            ],
            [
             0.7,
             "#b8e186"
            ],
            [
             0.8,
             "#7fbc41"
            ],
            [
             0.9,
             "#4d9221"
            ],
            [
             1,
             "#276419"
            ]
           ],
           "sequential": [
            [
             0,
             "#0d0887"
            ],
            [
             0.1111111111111111,
             "#46039f"
            ],
            [
             0.2222222222222222,
             "#7201a8"
            ],
            [
             0.3333333333333333,
             "#9c179e"
            ],
            [
             0.4444444444444444,
             "#bd3786"
            ],
            [
             0.5555555555555556,
             "#d8576b"
            ],
            [
             0.6666666666666666,
             "#ed7953"
            ],
            [
             0.7777777777777778,
             "#fb9f3a"
            ],
            [
             0.8888888888888888,
             "#fdca26"
            ],
            [
             1,
             "#f0f921"
            ]
           ],
           "sequentialminus": [
            [
             0,
             "#0d0887"
            ],
            [
             0.1111111111111111,
             "#46039f"
            ],
            [
             0.2222222222222222,
             "#7201a8"
            ],
            [
             0.3333333333333333,
             "#9c179e"
            ],
            [
             0.4444444444444444,
             "#bd3786"
            ],
            [
             0.5555555555555556,
             "#d8576b"
            ],
            [
             0.6666666666666666,
             "#ed7953"
            ],
            [
             0.7777777777777778,
             "#fb9f3a"
            ],
            [
             0.8888888888888888,
             "#fdca26"
            ],
            [
             1,
             "#f0f921"
            ]
           ]
          },
          "colorway": [
           "#636efa",
           "#EF553B",
           "#00cc96",
           "#ab63fa",
           "#FFA15A",
           "#19d3f3",
           "#FF6692",
           "#B6E880",
           "#FF97FF",
           "#FECB52"
          ],
          "font": {
           "color": "#2a3f5f"
          },
          "geo": {
           "bgcolor": "white",
           "lakecolor": "white",
           "landcolor": "#E5ECF6",
           "showlakes": true,
           "showland": true,
           "subunitcolor": "white"
          },
          "hoverlabel": {
           "align": "left"
          },
          "hovermode": "closest",
          "mapbox": {
           "style": "light"
          },
          "paper_bgcolor": "white",
          "plot_bgcolor": "#E5ECF6",
          "polar": {
           "angularaxis": {
            "gridcolor": "white",
            "linecolor": "white",
            "ticks": ""
           },
           "bgcolor": "#E5ECF6",
           "radialaxis": {
            "gridcolor": "white",
            "linecolor": "white",
            "ticks": ""
           }
          },
          "scene": {
           "xaxis": {
            "backgroundcolor": "#E5ECF6",
            "gridcolor": "white",
            "gridwidth": 2,
            "linecolor": "white",
            "showbackground": true,
            "ticks": "",
            "zerolinecolor": "white"
           },
           "yaxis": {
            "backgroundcolor": "#E5ECF6",
            "gridcolor": "white",
            "gridwidth": 2,
            "linecolor": "white",
            "showbackground": true,
            "ticks": "",
            "zerolinecolor": "white"
           },
           "zaxis": {
            "backgroundcolor": "#E5ECF6",
            "gridcolor": "white",
            "gridwidth": 2,
            "linecolor": "white",
            "showbackground": true,
            "ticks": "",
            "zerolinecolor": "white"
           }
          },
          "shapedefaults": {
           "line": {
            "color": "#2a3f5f"
           }
          },
          "ternary": {
           "aaxis": {
            "gridcolor": "white",
            "linecolor": "white",
            "ticks": ""
           },
           "baxis": {
            "gridcolor": "white",
            "linecolor": "white",
            "ticks": ""
           },
           "bgcolor": "#E5ECF6",
           "caxis": {
            "gridcolor": "white",
            "linecolor": "white",
            "ticks": ""
           }
          },
          "title": {
           "x": 0.05
          },
          "xaxis": {
           "automargin": true,
           "gridcolor": "white",
           "linecolor": "white",
           "ticks": "",
           "title": {
            "standoff": 15
           },
           "zerolinecolor": "white",
           "zerolinewidth": 2
          },
          "yaxis": {
           "automargin": true,
           "gridcolor": "white",
           "linecolor": "white",
           "ticks": "",
           "title": {
            "standoff": 15
           },
           "zerolinecolor": "white",
           "zerolinewidth": 2
          }
         }
        },
        "title": {
         "font": {
          "color": "#4D5663"
         }
        },
        "xaxis": {
         "gridcolor": "#E1E5ED",
         "showgrid": true,
         "tickfont": {
          "color": "#4D5663"
         },
         "title": {
          "font": {
           "color": "#4D5663"
          },
          "text": ""
         },
         "zerolinecolor": "#E1E5ED"
        },
        "yaxis": {
         "gridcolor": "#E1E5ED",
         "showgrid": true,
         "tickfont": {
          "color": "#4D5663"
         },
         "title": {
          "font": {
           "color": "#4D5663"
          },
          "text": ""
         },
         "zerolinecolor": "#E1E5ED"
        }
       }
      },
      "text/html": [
       "<div>\n",
       "        \n",
       "        \n",
       "            <div id=\"d2f71841-8e10-42fb-8a6c-443a6088c7d8\" class=\"plotly-graph-div\" style=\"height:525px; width:100%;\"></div>\n",
       "            <script type=\"text/javascript\">\n",
       "                require([\"plotly\"], function(Plotly) {\n",
       "                    window.PLOTLYENV=window.PLOTLYENV || {};\n",
       "                    window.PLOTLYENV.BASE_URL='https://plot.ly';\n",
       "                    \n",
       "                if (document.getElementById(\"d2f71841-8e10-42fb-8a6c-443a6088c7d8\")) {\n",
       "                    Plotly.newPlot(\n",
       "                        'd2f71841-8e10-42fb-8a6c-443a6088c7d8',\n",
       "                        [{\"histfunc\": \"count\", \"histnorm\": \"\", \"marker\": {\"color\": \"rgba(255, 153, 51, 1.0)\", \"line\": {\"color\": \"#4D5663\", \"width\": 1.3}}, \"name\": \"A\", \"nbinsx\": 50, \"opacity\": 0.8, \"orientation\": \"v\", \"type\": \"histogram\", \"x\": [-0.5009543608026148, -0.4204615151389094, -0.49553283935936165, 0.7657304693445539, -0.07847397916945117, 0.6700761884302777, 1.6148887957746296, -0.14346731599489548, -0.2665864011088299, 1.5203733905118066, -1.6225831980015681, -0.0010036338978958532, -0.20764556384936733, 1.2211140213435423, 0.7616648705923982, 0.8511236141237207, -0.11514925363568562, -0.20936138521130568, -0.23694314875636666, -1.41396658714284, -0.7197209408930788, -0.21986205769332937, 1.0281717480256272, -0.34491294269628503, 1.8387982177216249, 1.7454245898531036, 0.40475695887285834, 0.38445221563913434, 0.09096690376723829, -0.5452474872683721, 0.36883064898417145, 0.471064900436615, 0.08943939927300605, -0.04711988398954826, -0.377726634293231, 0.7896939082042002, 0.2834844224400587, -0.3712372134953554, -0.8239234838514105, -0.24380479792713633, 0.8021227623642619, 0.8595077643277932, -0.89133910900524, -0.08704741110358603, 1.1154306476276132, -0.8232991534045231, 0.03951476468379789, -0.5897579157424271, 0.48638772034887495, -0.23689141912829995, -0.849875469508366, 1.2033244290804135, -0.9707942664404414, 0.5345692965058876, 0.24185563713696623, -1.2480718435113924, -1.9764817321890251, 0.17398462490394964, -0.2958648071038704, -0.9073789839128634, -0.320061959697221, -1.2894563780049575, 0.8162202543091142, 0.7279819747659728, 0.5016314636811545, -1.6350473403411654, 1.112226070703627, -1.3798198056686024, 0.03712506450794439, 0.8725646848428592, -0.062491031397570555, -1.283446523292469, 0.8042769164891135, -1.2878267604909532, -2.4243449762842935, 1.455471611236058, 0.4262483065173007, -1.1011863485263866, 0.36393070625865315, -0.3828540123202687, 0.07374167084754127, -1.3446917941460133, -0.07602512088167016, 2.131579084083562, 0.8633118511617681, 0.9567443066299663, -0.35082901706021047, 0.5353353137007961, -0.06072553628984715, 0.4216056690056466, 1.8201523623294387, -1.4207116091443348, -0.24445402467878669, 1.0790482734281726, -0.301775352771489, -0.463830499688751, -0.48449348616253807, -0.8952937264879816, -0.17464315190589047, -1.5690068772777155]}],\n",
       "                        {\"barmode\": \"overlay\", \"legend\": {\"bgcolor\": \"#F5F6F9\", \"font\": {\"color\": \"#4D5663\"}}, \"paper_bgcolor\": \"#F5F6F9\", \"plot_bgcolor\": \"#F5F6F9\", \"template\": {\"data\": {\"bar\": [{\"error_x\": {\"color\": \"#2a3f5f\"}, \"error_y\": {\"color\": \"#2a3f5f\"}, \"marker\": {\"line\": {\"color\": \"#E5ECF6\", \"width\": 0.5}}, \"type\": \"bar\"}], \"barpolar\": [{\"marker\": {\"line\": {\"color\": \"#E5ECF6\", \"width\": 0.5}}, \"type\": \"barpolar\"}], \"carpet\": [{\"aaxis\": {\"endlinecolor\": \"#2a3f5f\", \"gridcolor\": \"white\", \"linecolor\": \"white\", \"minorgridcolor\": \"white\", \"startlinecolor\": \"#2a3f5f\"}, \"baxis\": {\"endlinecolor\": \"#2a3f5f\", \"gridcolor\": \"white\", \"linecolor\": \"white\", \"minorgridcolor\": \"white\", \"startlinecolor\": \"#2a3f5f\"}, \"type\": \"carpet\"}], \"choropleth\": [{\"colorbar\": {\"outlinewidth\": 0, \"ticks\": \"\"}, \"type\": \"choropleth\"}], \"contour\": [{\"colorbar\": {\"outlinewidth\": 0, \"ticks\": \"\"}, \"colorscale\": [[0.0, \"#0d0887\"], [0.1111111111111111, \"#46039f\"], [0.2222222222222222, \"#7201a8\"], [0.3333333333333333, \"#9c179e\"], [0.4444444444444444, \"#bd3786\"], [0.5555555555555556, \"#d8576b\"], [0.6666666666666666, \"#ed7953\"], [0.7777777777777778, \"#fb9f3a\"], [0.8888888888888888, \"#fdca26\"], [1.0, \"#f0f921\"]], \"type\": \"contour\"}], \"contourcarpet\": [{\"colorbar\": {\"outlinewidth\": 0, \"ticks\": \"\"}, \"type\": \"contourcarpet\"}], \"heatmap\": [{\"colorbar\": {\"outlinewidth\": 0, \"ticks\": \"\"}, \"colorscale\": [[0.0, \"#0d0887\"], [0.1111111111111111, \"#46039f\"], [0.2222222222222222, \"#7201a8\"], [0.3333333333333333, \"#9c179e\"], [0.4444444444444444, \"#bd3786\"], [0.5555555555555556, \"#d8576b\"], [0.6666666666666666, \"#ed7953\"], [0.7777777777777778, \"#fb9f3a\"], [0.8888888888888888, \"#fdca26\"], [1.0, \"#f0f921\"]], \"type\": \"heatmap\"}], \"heatmapgl\": [{\"colorbar\": {\"outlinewidth\": 0, \"ticks\": \"\"}, \"colorscale\": [[0.0, \"#0d0887\"], [0.1111111111111111, \"#46039f\"], [0.2222222222222222, \"#7201a8\"], [0.3333333333333333, \"#9c179e\"], [0.4444444444444444, \"#bd3786\"], [0.5555555555555556, \"#d8576b\"], [0.6666666666666666, \"#ed7953\"], [0.7777777777777778, \"#fb9f3a\"], [0.8888888888888888, \"#fdca26\"], [1.0, \"#f0f921\"]], \"type\": \"heatmapgl\"}], \"histogram\": [{\"marker\": {\"colorbar\": {\"outlinewidth\": 0, \"ticks\": \"\"}}, \"type\": \"histogram\"}], \"histogram2d\": [{\"colorbar\": {\"outlinewidth\": 0, \"ticks\": \"\"}, \"colorscale\": [[0.0, \"#0d0887\"], [0.1111111111111111, \"#46039f\"], [0.2222222222222222, \"#7201a8\"], [0.3333333333333333, \"#9c179e\"], [0.4444444444444444, \"#bd3786\"], [0.5555555555555556, \"#d8576b\"], [0.6666666666666666, \"#ed7953\"], [0.7777777777777778, \"#fb9f3a\"], [0.8888888888888888, \"#fdca26\"], [1.0, \"#f0f921\"]], \"type\": \"histogram2d\"}], \"histogram2dcontour\": [{\"colorbar\": {\"outlinewidth\": 0, \"ticks\": \"\"}, \"colorscale\": [[0.0, \"#0d0887\"], [0.1111111111111111, \"#46039f\"], [0.2222222222222222, \"#7201a8\"], [0.3333333333333333, \"#9c179e\"], [0.4444444444444444, \"#bd3786\"], [0.5555555555555556, \"#d8576b\"], [0.6666666666666666, \"#ed7953\"], [0.7777777777777778, \"#fb9f3a\"], [0.8888888888888888, \"#fdca26\"], [1.0, \"#f0f921\"]], \"type\": \"histogram2dcontour\"}], \"mesh3d\": [{\"colorbar\": {\"outlinewidth\": 0, \"ticks\": \"\"}, \"type\": \"mesh3d\"}], \"parcoords\": [{\"line\": {\"colorbar\": {\"outlinewidth\": 0, \"ticks\": \"\"}}, \"type\": \"parcoords\"}], \"pie\": [{\"automargin\": true, \"type\": \"pie\"}], \"scatter\": [{\"marker\": {\"colorbar\": {\"outlinewidth\": 0, \"ticks\": \"\"}}, \"type\": \"scatter\"}], \"scatter3d\": [{\"line\": {\"colorbar\": {\"outlinewidth\": 0, \"ticks\": \"\"}}, \"marker\": {\"colorbar\": {\"outlinewidth\": 0, \"ticks\": \"\"}}, \"type\": \"scatter3d\"}], \"scattercarpet\": [{\"marker\": {\"colorbar\": {\"outlinewidth\": 0, \"ticks\": \"\"}}, \"type\": \"scattercarpet\"}], \"scattergeo\": [{\"marker\": {\"colorbar\": {\"outlinewidth\": 0, \"ticks\": \"\"}}, \"type\": \"scattergeo\"}], \"scattergl\": [{\"marker\": {\"colorbar\": {\"outlinewidth\": 0, \"ticks\": \"\"}}, \"type\": \"scattergl\"}], \"scattermapbox\": [{\"marker\": {\"colorbar\": {\"outlinewidth\": 0, \"ticks\": \"\"}}, \"type\": \"scattermapbox\"}], \"scatterpolar\": [{\"marker\": {\"colorbar\": {\"outlinewidth\": 0, \"ticks\": \"\"}}, \"type\": \"scatterpolar\"}], \"scatterpolargl\": [{\"marker\": {\"colorbar\": {\"outlinewidth\": 0, \"ticks\": \"\"}}, \"type\": \"scatterpolargl\"}], \"scatterternary\": [{\"marker\": {\"colorbar\": {\"outlinewidth\": 0, \"ticks\": \"\"}}, \"type\": \"scatterternary\"}], \"surface\": [{\"colorbar\": {\"outlinewidth\": 0, \"ticks\": \"\"}, \"colorscale\": [[0.0, \"#0d0887\"], [0.1111111111111111, \"#46039f\"], [0.2222222222222222, \"#7201a8\"], [0.3333333333333333, \"#9c179e\"], [0.4444444444444444, \"#bd3786\"], [0.5555555555555556, \"#d8576b\"], [0.6666666666666666, \"#ed7953\"], [0.7777777777777778, \"#fb9f3a\"], [0.8888888888888888, \"#fdca26\"], [1.0, \"#f0f921\"]], \"type\": \"surface\"}], \"table\": [{\"cells\": {\"fill\": {\"color\": \"#EBF0F8\"}, \"line\": {\"color\": \"white\"}}, \"header\": {\"fill\": {\"color\": \"#C8D4E3\"}, \"line\": {\"color\": \"white\"}}, \"type\": \"table\"}]}, \"layout\": {\"annotationdefaults\": {\"arrowcolor\": \"#2a3f5f\", \"arrowhead\": 0, \"arrowwidth\": 1}, \"coloraxis\": {\"colorbar\": {\"outlinewidth\": 0, \"ticks\": \"\"}}, \"colorscale\": {\"diverging\": [[0, \"#8e0152\"], [0.1, \"#c51b7d\"], [0.2, \"#de77ae\"], [0.3, \"#f1b6da\"], [0.4, \"#fde0ef\"], [0.5, \"#f7f7f7\"], [0.6, \"#e6f5d0\"], [0.7, \"#b8e186\"], [0.8, \"#7fbc41\"], [0.9, \"#4d9221\"], [1, \"#276419\"]], \"sequential\": [[0.0, \"#0d0887\"], [0.1111111111111111, \"#46039f\"], [0.2222222222222222, \"#7201a8\"], [0.3333333333333333, \"#9c179e\"], [0.4444444444444444, \"#bd3786\"], [0.5555555555555556, \"#d8576b\"], [0.6666666666666666, \"#ed7953\"], [0.7777777777777778, \"#fb9f3a\"], [0.8888888888888888, \"#fdca26\"], [1.0, \"#f0f921\"]], \"sequentialminus\": [[0.0, \"#0d0887\"], [0.1111111111111111, \"#46039f\"], [0.2222222222222222, \"#7201a8\"], [0.3333333333333333, \"#9c179e\"], [0.4444444444444444, \"#bd3786\"], [0.5555555555555556, \"#d8576b\"], [0.6666666666666666, \"#ed7953\"], [0.7777777777777778, \"#fb9f3a\"], [0.8888888888888888, \"#fdca26\"], [1.0, \"#f0f921\"]]}, \"colorway\": [\"#636efa\", \"#EF553B\", \"#00cc96\", \"#ab63fa\", \"#FFA15A\", \"#19d3f3\", \"#FF6692\", \"#B6E880\", \"#FF97FF\", \"#FECB52\"], \"font\": {\"color\": \"#2a3f5f\"}, \"geo\": {\"bgcolor\": \"white\", \"lakecolor\": \"white\", \"landcolor\": \"#E5ECF6\", \"showlakes\": true, \"showland\": true, \"subunitcolor\": \"white\"}, \"hoverlabel\": {\"align\": \"left\"}, \"hovermode\": \"closest\", \"mapbox\": {\"style\": \"light\"}, \"paper_bgcolor\": \"white\", \"plot_bgcolor\": \"#E5ECF6\", \"polar\": {\"angularaxis\": {\"gridcolor\": \"white\", \"linecolor\": \"white\", \"ticks\": \"\"}, \"bgcolor\": \"#E5ECF6\", \"radialaxis\": {\"gridcolor\": \"white\", \"linecolor\": \"white\", \"ticks\": \"\"}}, \"scene\": {\"xaxis\": {\"backgroundcolor\": \"#E5ECF6\", \"gridcolor\": \"white\", \"gridwidth\": 2, \"linecolor\": \"white\", \"showbackground\": true, \"ticks\": \"\", \"zerolinecolor\": \"white\"}, \"yaxis\": {\"backgroundcolor\": \"#E5ECF6\", \"gridcolor\": \"white\", \"gridwidth\": 2, \"linecolor\": \"white\", \"showbackground\": true, \"ticks\": \"\", \"zerolinecolor\": \"white\"}, \"zaxis\": {\"backgroundcolor\": \"#E5ECF6\", \"gridcolor\": \"white\", \"gridwidth\": 2, \"linecolor\": \"white\", \"showbackground\": true, \"ticks\": \"\", \"zerolinecolor\": \"white\"}}, \"shapedefaults\": {\"line\": {\"color\": \"#2a3f5f\"}}, \"ternary\": {\"aaxis\": {\"gridcolor\": \"white\", \"linecolor\": \"white\", \"ticks\": \"\"}, \"baxis\": {\"gridcolor\": \"white\", \"linecolor\": \"white\", \"ticks\": \"\"}, \"bgcolor\": \"#E5ECF6\", \"caxis\": {\"gridcolor\": \"white\", \"linecolor\": \"white\", \"ticks\": \"\"}}, \"title\": {\"x\": 0.05}, \"xaxis\": {\"automargin\": true, \"gridcolor\": \"white\", \"linecolor\": \"white\", \"ticks\": \"\", \"title\": {\"standoff\": 15}, \"zerolinecolor\": \"white\", \"zerolinewidth\": 2}, \"yaxis\": {\"automargin\": true, \"gridcolor\": \"white\", \"linecolor\": \"white\", \"ticks\": \"\", \"title\": {\"standoff\": 15}, \"zerolinecolor\": \"white\", \"zerolinewidth\": 2}}}, \"title\": {\"font\": {\"color\": \"#4D5663\"}}, \"xaxis\": {\"gridcolor\": \"#E1E5ED\", \"showgrid\": true, \"tickfont\": {\"color\": \"#4D5663\"}, \"title\": {\"font\": {\"color\": \"#4D5663\"}, \"text\": \"\"}, \"zerolinecolor\": \"#E1E5ED\"}, \"yaxis\": {\"gridcolor\": \"#E1E5ED\", \"showgrid\": true, \"tickfont\": {\"color\": \"#4D5663\"}, \"title\": {\"font\": {\"color\": \"#4D5663\"}, \"text\": \"\"}, \"zerolinecolor\": \"#E1E5ED\"}},\n",
       "                        {\"showLink\": true, \"linkText\": \"Export to plot.ly\", \"plotlyServerURL\": \"https://plot.ly\", \"responsive\": true}\n",
       "                    ).then(function(){\n",
       "                            \n",
       "var gd = document.getElementById('d2f71841-8e10-42fb-8a6c-443a6088c7d8');\n",
       "var x = new MutationObserver(function (mutations, observer) {{\n",
       "        var display = window.getComputedStyle(gd).display;\n",
       "        if (!display || display === 'none') {{\n",
       "            console.log([gd, 'removed!']);\n",
       "            Plotly.purge(gd);\n",
       "            observer.disconnect();\n",
       "        }}\n",
       "}});\n",
       "\n",
       "// Listen for the removal of the full notebook cells\n",
       "var notebookContainer = gd.closest('#notebook-container');\n",
       "if (notebookContainer) {{\n",
       "    x.observe(notebookContainer, {childList: true});\n",
       "}}\n",
       "\n",
       "// Listen for the clearing of the current output cell\n",
       "var outputEl = gd.closest('.output');\n",
       "if (outputEl) {{\n",
       "    x.observe(outputEl, {childList: true});\n",
       "}}\n",
       "\n",
       "                        })\n",
       "                };\n",
       "                });\n",
       "            </script>\n",
       "        </div>"
      ]
     },
     "metadata": {},
     "output_type": "display_data"
    }
   ],
   "source": [
    "df['A'].iplot(kind='hist',bins=50)"
   ]
  },
  {
   "cell_type": "code",
   "execution_count": 60,
   "metadata": {},
   "outputs": [
    {
     "data": {
      "application/vnd.plotly.v1+json": {
       "config": {
        "linkText": "Export to plot.ly",
        "plotlyServerURL": "https://plot.ly",
        "showLink": true
       },
       "data": [
        {
         "histfunc": "count",
         "histnorm": "",
         "marker": {
          "color": "rgba(255, 153, 51, 1.0)",
          "line": {
           "color": "#4D5663",
           "width": 1.3
          }
         },
         "name": "A",
         "opacity": 0.8,
         "orientation": "v",
         "type": "histogram",
         "x": [
          -0.5009543608026148,
          -0.4204615151389094,
          -0.49553283935936165,
          0.7657304693445539,
          -0.07847397916945117,
          0.6700761884302777,
          1.6148887957746296,
          -0.14346731599489548,
          -0.2665864011088299,
          1.5203733905118066,
          -1.6225831980015681,
          -0.0010036338978958532,
          -0.20764556384936733,
          1.2211140213435423,
          0.7616648705923982,
          0.8511236141237207,
          -0.11514925363568562,
          -0.20936138521130568,
          -0.23694314875636666,
          -1.41396658714284,
          -0.7197209408930788,
          -0.21986205769332937,
          1.0281717480256272,
          -0.34491294269628503,
          1.8387982177216249,
          1.7454245898531036,
          0.40475695887285834,
          0.38445221563913434,
          0.09096690376723829,
          -0.5452474872683721,
          0.36883064898417145,
          0.471064900436615,
          0.08943939927300605,
          -0.04711988398954826,
          -0.377726634293231,
          0.7896939082042002,
          0.2834844224400587,
          -0.3712372134953554,
          -0.8239234838514105,
          -0.24380479792713633,
          0.8021227623642619,
          0.8595077643277932,
          -0.89133910900524,
          -0.08704741110358603,
          1.1154306476276132,
          -0.8232991534045231,
          0.03951476468379789,
          -0.5897579157424271,
          0.48638772034887495,
          -0.23689141912829995,
          -0.849875469508366,
          1.2033244290804135,
          -0.9707942664404414,
          0.5345692965058876,
          0.24185563713696623,
          -1.2480718435113924,
          -1.9764817321890251,
          0.17398462490394964,
          -0.2958648071038704,
          -0.9073789839128634,
          -0.320061959697221,
          -1.2894563780049575,
          0.8162202543091142,
          0.7279819747659728,
          0.5016314636811545,
          -1.6350473403411654,
          1.112226070703627,
          -1.3798198056686024,
          0.03712506450794439,
          0.8725646848428592,
          -0.062491031397570555,
          -1.283446523292469,
          0.8042769164891135,
          -1.2878267604909532,
          -2.4243449762842935,
          1.455471611236058,
          0.4262483065173007,
          -1.1011863485263866,
          0.36393070625865315,
          -0.3828540123202687,
          0.07374167084754127,
          -1.3446917941460133,
          -0.07602512088167016,
          2.131579084083562,
          0.8633118511617681,
          0.9567443066299663,
          -0.35082901706021047,
          0.5353353137007961,
          -0.06072553628984715,
          0.4216056690056466,
          1.8201523623294387,
          -1.4207116091443348,
          -0.24445402467878669,
          1.0790482734281726,
          -0.301775352771489,
          -0.463830499688751,
          -0.48449348616253807,
          -0.8952937264879816,
          -0.17464315190589047,
          -1.5690068772777155
         ]
        },
        {
         "histfunc": "count",
         "histnorm": "",
         "marker": {
          "color": "rgba(55, 128, 191, 1.0)",
          "line": {
           "color": "#4D5663",
           "width": 1.3
          }
         },
         "name": "B",
         "opacity": 0.8,
         "orientation": "v",
         "type": "histogram",
         "x": [
          0.4647073083742839,
          -0.05638983549159592,
          0.8211639860066423,
          -0.5302111813539075,
          -0.026095626254060273,
          0.934819749012539,
          -0.06881896608775859,
          0.7431747218014507,
          -0.6634138417015264,
          -0.6407659494255311,
          -2.0830026972903197,
          1.8045522880146014,
          1.037149625547556,
          0.3248740795752661,
          0.16422555997258756,
          -0.04448673216754261,
          -1.1666989664863299,
          -0.34489031820823246,
          0.023191019187505314,
          -1.130997876996157,
          0.6537048033347655,
          -2.008977265519097,
          2.1187636059019828,
          -0.14720374779769907,
          -0.4119883895674882,
          -0.01889786289040426,
          -0.5408825560442116,
          0.6532664735645086,
          0.3019048417424934,
          1.6458305129952842,
          0.6030209295808521,
          -0.3623998992628467,
          -1.354212000595378,
          -1.172657051102667,
          -0.1769801146101835,
          2.2055905103394196,
          0.2760796035999615,
          -1.7813429624595076,
          0.7750526626200264,
          -0.5805198523009042,
          -1.0618189104978328,
          0.18946634999859532,
          0.381459586503324,
          -0.9242275271954474,
          -0.5628414484788141,
          -0.8638503681130342,
          -0.12409497161196388,
          1.0458509752935239,
          -0.695096587506082,
          1.2734349572542032,
          0.24242678837999837,
          -0.5467390258304995,
          -0.6363370209478098,
          2.013175801488738,
          0.7725826019693162,
          -0.3915999325975337,
          -0.21384985463778458,
          1.4732988178499873,
          -1.946677160191751,
          0.40084042312757945,
          1.3366011084629332,
          -0.3613636341442311,
          0.5298250484301542,
          1.4558635024058049,
          -0.6318727492567257,
          -0.8227985700773811,
          -0.5377019717823004,
          -1.7902939476280129,
          -0.26846879662803125,
          1.465181281886347,
          2.3219711044551956,
          0.9250989703211202,
          0.8916825245438201,
          -1.1517637591562595,
          -0.19150262412323274,
          1.4792770255841388,
          1.6861949140510182,
          0.4512015631832032,
          0.1485498153576192,
          0.7032594474993233,
          1.398402958112115,
          -0.0031789942556199823,
          -0.6032519124226736,
          0.9550811638193741,
          1.737666005127905,
          1.060053557429989,
          1.2895208947773007,
          -1.1953320328355028,
          1.782261738784618,
          1.9306290169917022,
          -0.7425207838161446,
          -0.9754342092359741,
          0.9982550336125903,
          0.04387350789025311,
          -0.6029540220032642,
          -0.3176203472281875,
          1.3016837317080092,
          1.319139155169162,
          0.60300051445889,
          -0.4734361308297189
         ]
        },
        {
         "histfunc": "count",
         "histnorm": "",
         "marker": {
          "color": "rgba(50, 171, 96, 1.0)",
          "line": {
           "color": "#4D5663",
           "width": 1.3
          }
         },
         "name": "C",
         "opacity": 0.8,
         "orientation": "v",
         "type": "histogram",
         "x": [
          -0.40315973833766044,
          -1.360054681543459,
          0.7106343682785928,
          -0.9177669533408417,
          0.06883949789015524,
          0.01696296847514918,
          -0.44393478997380553,
          -0.7198535392505376,
          -0.7875483593999346,
          1.9155416094569315,
          0.6583623881679307,
          0.5376709735739473,
          1.0405012466708365,
          -0.23171979820644356,
          -0.3744126532426237,
          -1.1618515687799378,
          -1.3964253535908646,
          0.5769970040773327,
          -1.0835044014698794,
          0.5747678743329491,
          -0.11827539408021497,
          0.2151484932585146,
          0.08078309448514429,
          -2.037047352546062,
          -1.390219773530132,
          0.09167606324494677,
          -0.7235507708580192,
          -0.5405884558003439,
          -1.2811560263191193,
          -0.4543060750192719,
          -1.1165034510234548,
          0.3000613728191319,
          -0.05289080065345519,
          0.362704088345904,
          -0.9680892848574593,
          0.6680708701581071,
          -0.8231344948245031,
          0.715348855171547,
          0.5650247434328161,
          -0.5773761355342275,
          -0.9286783479833696,
          0.7776532703274646,
          -0.12317469719040205,
          -1.1513332111873045,
          0.5063978291626221,
          -0.8742393811420719,
          1.9156488862245638,
          -1.0865525250496144,
          0.44206782103104286,
          0.9026685461629094,
          2.895994875542977,
          1.1285450455156265,
          1.1841356567838248,
          0.19876360513024213,
          1.4886716994001934,
          -0.3327270700698986,
          -0.5621700345151495,
          -0.5847259828949196,
          -1.2846401342555829,
          -0.6016000623194985,
          -0.09861791991283785,
          1.1816530601740363,
          -0.6908357948875438,
          0.3171310416057197,
          0.7552121889991846,
          -2.3888071483371647,
          -1.1485383178467785,
          0.5897185443197643,
          -0.36845595698948597,
          -0.5717563197990444,
          -0.14214523110978153,
          0.0004170052383094638,
          -0.18461428501604366,
          -0.1052252881648122,
          -0.8292749236373992,
          -0.08997556334434115,
          1.2644372314371435,
          2.0832196408139105,
          0.38676730762963063,
          1.4060141059133717,
          -1.3360038713603481,
          0.34749778659436176,
          -0.33806765343092926,
          1.4157584416445,
          -0.7594413490741586,
          -1.762295996654411,
          0.5617175196967619,
          1.7970365337189476,
          -1.0303904420141936,
          -0.9645790425198174,
          0.9914171618392057,
          -0.10285713286924551,
          -0.8135392007267539,
          0.7187908001826215,
          -0.09528272118315335,
          -0.6296134228433697,
          -0.4152341746240974,
          0.4321855310892845,
          0.7934990376332662,
          -0.4736302553853124
         ]
        },
        {
         "histfunc": "count",
         "histnorm": "",
         "marker": {
          "color": "rgba(128, 0, 128, 1.0)",
          "line": {
           "color": "#4D5663",
           "width": 1.3
          }
         },
         "name": "D",
         "opacity": 0.8,
         "orientation": "v",
         "type": "histogram",
         "x": [
          0.7289264925102457,
          0.6912077819830305,
          0.8188163578461918,
          -0.30005691761790504,
          -1.4017653130971819,
          0.7418167945956171,
          -1.3072947407549396,
          0.5238505847258861,
          -0.5815439940403195,
          -0.8792388115836571,
          -1.033454430129768,
          0.7403640958737788,
          -1.0588129764174565,
          -0.7771680087119067,
          -1.6617547956883958,
          -1.5914907424879152,
          -1.0160879667124922,
          1.2678132647838818,
          -0.16793391008686473,
          1.0101429611574362,
          1.8032134050852269,
          -0.8999362203146547,
          -0.8539426072478293,
          -0.8009195843748494,
          -0.3664154121540123,
          -0.6107229900880933,
          -0.3350158000287844,
          0.38272189449206223,
          -1.851550337554075,
          1.2840629959739345,
          -0.8612530460386267,
          1.000086231202697,
          -1.3419411720416599,
          -1.0589510959940858,
          1.3923268650795624,
          -0.11210822226961702,
          -0.5842141681440038,
          -0.029178560040188175,
          -0.47118804612841253,
          0.24960142722219547,
          1.1707027090074467,
          -0.5605349045267657,
          -0.5611008894719185,
          1.5079015447793083,
          -0.7149551059987138,
          0.1438353136292474,
          0.8265123257903583,
          -0.023327793020397707,
          -0.6879816871193085,
          -0.19529967496198097,
          -0.30628224009133753,
          -0.8297173264276736,
          0.8345054934481003,
          0.5792416853511556,
          1.5935219415190103,
          -1.4883411834823808,
          0.7293186817888184,
          0.355228253069335,
          -1.3171366027193092,
          -0.056434275320834004,
          -0.5948376052025565,
          0.5778833712404194,
          0.4722524495743788,
          -0.23223626436639552,
          0.4902558443320463,
          1.2950182054810377,
          -1.7760625858810606,
          -0.6227729304429062,
          -0.5991623946916326,
          -0.4982592912885508,
          -1.49314260325824,
          0.9396270239918765,
          0.6009626436464006,
          1.3100598156970285,
          -0.07742400265272653,
          -0.2243421864407254,
          0.1739583018508991,
          -0.5440884129977694,
          -0.905632736795812,
          -0.8238665725545118,
          0.3257163950575212,
          -1.353642736504197,
          0.1249865569350151,
          1.1471228394269801,
          0.01849814702931045,
          1.7175961052390785,
          0.580982847441958,
          0.3738800828849592,
          0.22981324840051287,
          0.09748587227584486,
          0.6838294695060558,
          -1.1805057378264823,
          0.295612020998169,
          0.815165130870034,
          -0.9725072594716221,
          2.529538533955411,
          0.5554954891446603,
          0.61415886993306,
          0.14864075840154758,
          0.31334340852487175
         ]
        }
       ],
       "layout": {
        "barmode": "overlay",
        "legend": {
         "bgcolor": "#F5F6F9",
         "font": {
          "color": "#4D5663"
         }
        },
        "paper_bgcolor": "#F5F6F9",
        "plot_bgcolor": "#F5F6F9",
        "template": {
         "data": {
          "bar": [
           {
            "error_x": {
             "color": "#2a3f5f"
            },
            "error_y": {
             "color": "#2a3f5f"
            },
            "marker": {
             "line": {
              "color": "#E5ECF6",
              "width": 0.5
             }
            },
            "type": "bar"
           }
          ],
          "barpolar": [
           {
            "marker": {
             "line": {
              "color": "#E5ECF6",
              "width": 0.5
             }
            },
            "type": "barpolar"
           }
          ],
          "carpet": [
           {
            "aaxis": {
             "endlinecolor": "#2a3f5f",
             "gridcolor": "white",
             "linecolor": "white",
             "minorgridcolor": "white",
             "startlinecolor": "#2a3f5f"
            },
            "baxis": {
             "endlinecolor": "#2a3f5f",
             "gridcolor": "white",
             "linecolor": "white",
             "minorgridcolor": "white",
             "startlinecolor": "#2a3f5f"
            },
            "type": "carpet"
           }
          ],
          "choropleth": [
           {
            "colorbar": {
             "outlinewidth": 0,
             "ticks": ""
            },
            "type": "choropleth"
           }
          ],
          "contour": [
           {
            "colorbar": {
             "outlinewidth": 0,
             "ticks": ""
            },
            "colorscale": [
             [
              0,
              "#0d0887"
             ],
             [
              0.1111111111111111,
              "#46039f"
             ],
             [
              0.2222222222222222,
              "#7201a8"
             ],
             [
              0.3333333333333333,
              "#9c179e"
             ],
             [
              0.4444444444444444,
              "#bd3786"
             ],
             [
              0.5555555555555556,
              "#d8576b"
             ],
             [
              0.6666666666666666,
              "#ed7953"
             ],
             [
              0.7777777777777778,
              "#fb9f3a"
             ],
             [
              0.8888888888888888,
              "#fdca26"
             ],
             [
              1,
              "#f0f921"
             ]
            ],
            "type": "contour"
           }
          ],
          "contourcarpet": [
           {
            "colorbar": {
             "outlinewidth": 0,
             "ticks": ""
            },
            "type": "contourcarpet"
           }
          ],
          "heatmap": [
           {
            "colorbar": {
             "outlinewidth": 0,
             "ticks": ""
            },
            "colorscale": [
             [
              0,
              "#0d0887"
             ],
             [
              0.1111111111111111,
              "#46039f"
             ],
             [
              0.2222222222222222,
              "#7201a8"
             ],
             [
              0.3333333333333333,
              "#9c179e"
             ],
             [
              0.4444444444444444,
              "#bd3786"
             ],
             [
              0.5555555555555556,
              "#d8576b"
             ],
             [
              0.6666666666666666,
              "#ed7953"
             ],
             [
              0.7777777777777778,
              "#fb9f3a"
             ],
             [
              0.8888888888888888,
              "#fdca26"
             ],
             [
              1,
              "#f0f921"
             ]
            ],
            "type": "heatmap"
           }
          ],
          "heatmapgl": [
           {
            "colorbar": {
             "outlinewidth": 0,
             "ticks": ""
            },
            "colorscale": [
             [
              0,
              "#0d0887"
             ],
             [
              0.1111111111111111,
              "#46039f"
             ],
             [
              0.2222222222222222,
              "#7201a8"
             ],
             [
              0.3333333333333333,
              "#9c179e"
             ],
             [
              0.4444444444444444,
              "#bd3786"
             ],
             [
              0.5555555555555556,
              "#d8576b"
             ],
             [
              0.6666666666666666,
              "#ed7953"
             ],
             [
              0.7777777777777778,
              "#fb9f3a"
             ],
             [
              0.8888888888888888,
              "#fdca26"
             ],
             [
              1,
              "#f0f921"
             ]
            ],
            "type": "heatmapgl"
           }
          ],
          "histogram": [
           {
            "marker": {
             "colorbar": {
              "outlinewidth": 0,
              "ticks": ""
             }
            },
            "type": "histogram"
           }
          ],
          "histogram2d": [
           {
            "colorbar": {
             "outlinewidth": 0,
             "ticks": ""
            },
            "colorscale": [
             [
              0,
              "#0d0887"
             ],
             [
              0.1111111111111111,
              "#46039f"
             ],
             [
              0.2222222222222222,
              "#7201a8"
             ],
             [
              0.3333333333333333,
              "#9c179e"
             ],
             [
              0.4444444444444444,
              "#bd3786"
             ],
             [
              0.5555555555555556,
              "#d8576b"
             ],
             [
              0.6666666666666666,
              "#ed7953"
             ],
             [
              0.7777777777777778,
              "#fb9f3a"
             ],
             [
              0.8888888888888888,
              "#fdca26"
             ],
             [
              1,
              "#f0f921"
             ]
            ],
            "type": "histogram2d"
           }
          ],
          "histogram2dcontour": [
           {
            "colorbar": {
             "outlinewidth": 0,
             "ticks": ""
            },
            "colorscale": [
             [
              0,
              "#0d0887"
             ],
             [
              0.1111111111111111,
              "#46039f"
             ],
             [
              0.2222222222222222,
              "#7201a8"
             ],
             [
              0.3333333333333333,
              "#9c179e"
             ],
             [
              0.4444444444444444,
              "#bd3786"
             ],
             [
              0.5555555555555556,
              "#d8576b"
             ],
             [
              0.6666666666666666,
              "#ed7953"
             ],
             [
              0.7777777777777778,
              "#fb9f3a"
             ],
             [
              0.8888888888888888,
              "#fdca26"
             ],
             [
              1,
              "#f0f921"
             ]
            ],
            "type": "histogram2dcontour"
           }
          ],
          "mesh3d": [
           {
            "colorbar": {
             "outlinewidth": 0,
             "ticks": ""
            },
            "type": "mesh3d"
           }
          ],
          "parcoords": [
           {
            "line": {
             "colorbar": {
              "outlinewidth": 0,
              "ticks": ""
             }
            },
            "type": "parcoords"
           }
          ],
          "pie": [
           {
            "automargin": true,
            "type": "pie"
           }
          ],
          "scatter": [
           {
            "marker": {
             "colorbar": {
              "outlinewidth": 0,
              "ticks": ""
             }
            },
            "type": "scatter"
           }
          ],
          "scatter3d": [
           {
            "line": {
             "colorbar": {
              "outlinewidth": 0,
              "ticks": ""
             }
            },
            "marker": {
             "colorbar": {
              "outlinewidth": 0,
              "ticks": ""
             }
            },
            "type": "scatter3d"
           }
          ],
          "scattercarpet": [
           {
            "marker": {
             "colorbar": {
              "outlinewidth": 0,
              "ticks": ""
             }
            },
            "type": "scattercarpet"
           }
          ],
          "scattergeo": [
           {
            "marker": {
             "colorbar": {
              "outlinewidth": 0,
              "ticks": ""
             }
            },
            "type": "scattergeo"
           }
          ],
          "scattergl": [
           {
            "marker": {
             "colorbar": {
              "outlinewidth": 0,
              "ticks": ""
             }
            },
            "type": "scattergl"
           }
          ],
          "scattermapbox": [
           {
            "marker": {
             "colorbar": {
              "outlinewidth": 0,
              "ticks": ""
             }
            },
            "type": "scattermapbox"
           }
          ],
          "scatterpolar": [
           {
            "marker": {
             "colorbar": {
              "outlinewidth": 0,
              "ticks": ""
             }
            },
            "type": "scatterpolar"
           }
          ],
          "scatterpolargl": [
           {
            "marker": {
             "colorbar": {
              "outlinewidth": 0,
              "ticks": ""
             }
            },
            "type": "scatterpolargl"
           }
          ],
          "scatterternary": [
           {
            "marker": {
             "colorbar": {
              "outlinewidth": 0,
              "ticks": ""
             }
            },
            "type": "scatterternary"
           }
          ],
          "surface": [
           {
            "colorbar": {
             "outlinewidth": 0,
             "ticks": ""
            },
            "colorscale": [
             [
              0,
              "#0d0887"
             ],
             [
              0.1111111111111111,
              "#46039f"
             ],
             [
              0.2222222222222222,
              "#7201a8"
             ],
             [
              0.3333333333333333,
              "#9c179e"
             ],
             [
              0.4444444444444444,
              "#bd3786"
             ],
             [
              0.5555555555555556,
              "#d8576b"
             ],
             [
              0.6666666666666666,
              "#ed7953"
             ],
             [
              0.7777777777777778,
              "#fb9f3a"
             ],
             [
              0.8888888888888888,
              "#fdca26"
             ],
             [
              1,
              "#f0f921"
             ]
            ],
            "type": "surface"
           }
          ],
          "table": [
           {
            "cells": {
             "fill": {
              "color": "#EBF0F8"
             },
             "line": {
              "color": "white"
             }
            },
            "header": {
             "fill": {
              "color": "#C8D4E3"
             },
             "line": {
              "color": "white"
             }
            },
            "type": "table"
           }
          ]
         },
         "layout": {
          "annotationdefaults": {
           "arrowcolor": "#2a3f5f",
           "arrowhead": 0,
           "arrowwidth": 1
          },
          "coloraxis": {
           "colorbar": {
            "outlinewidth": 0,
            "ticks": ""
           }
          },
          "colorscale": {
           "diverging": [
            [
             0,
             "#8e0152"
            ],
            [
             0.1,
             "#c51b7d"
            ],
            [
             0.2,
             "#de77ae"
            ],
            [
             0.3,
             "#f1b6da"
            ],
            [
             0.4,
             "#fde0ef"
            ],
            [
             0.5,
             "#f7f7f7"
            ],
            [
             0.6,
             "#e6f5d0"
            ],
            [
             0.7,
             "#b8e186"
            ],
            [
             0.8,
             "#7fbc41"
            ],
            [
             0.9,
             "#4d9221"
            ],
            [
             1,
             "#276419"
            ]
           ],
           "sequential": [
            [
             0,
             "#0d0887"
            ],
            [
             0.1111111111111111,
             "#46039f"
            ],
            [
             0.2222222222222222,
             "#7201a8"
            ],
            [
             0.3333333333333333,
             "#9c179e"
            ],
            [
             0.4444444444444444,
             "#bd3786"
            ],
            [
             0.5555555555555556,
             "#d8576b"
            ],
            [
             0.6666666666666666,
             "#ed7953"
            ],
            [
             0.7777777777777778,
             "#fb9f3a"
            ],
            [
             0.8888888888888888,
             "#fdca26"
            ],
            [
             1,
             "#f0f921"
            ]
           ],
           "sequentialminus": [
            [
             0,
             "#0d0887"
            ],
            [
             0.1111111111111111,
             "#46039f"
            ],
            [
             0.2222222222222222,
             "#7201a8"
            ],
            [
             0.3333333333333333,
             "#9c179e"
            ],
            [
             0.4444444444444444,
             "#bd3786"
            ],
            [
             0.5555555555555556,
             "#d8576b"
            ],
            [
             0.6666666666666666,
             "#ed7953"
            ],
            [
             0.7777777777777778,
             "#fb9f3a"
            ],
            [
             0.8888888888888888,
             "#fdca26"
            ],
            [
             1,
             "#f0f921"
            ]
           ]
          },
          "colorway": [
           "#636efa",
           "#EF553B",
           "#00cc96",
           "#ab63fa",
           "#FFA15A",
           "#19d3f3",
           "#FF6692",
           "#B6E880",
           "#FF97FF",
           "#FECB52"
          ],
          "font": {
           "color": "#2a3f5f"
          },
          "geo": {
           "bgcolor": "white",
           "lakecolor": "white",
           "landcolor": "#E5ECF6",
           "showlakes": true,
           "showland": true,
           "subunitcolor": "white"
          },
          "hoverlabel": {
           "align": "left"
          },
          "hovermode": "closest",
          "mapbox": {
           "style": "light"
          },
          "paper_bgcolor": "white",
          "plot_bgcolor": "#E5ECF6",
          "polar": {
           "angularaxis": {
            "gridcolor": "white",
            "linecolor": "white",
            "ticks": ""
           },
           "bgcolor": "#E5ECF6",
           "radialaxis": {
            "gridcolor": "white",
            "linecolor": "white",
            "ticks": ""
           }
          },
          "scene": {
           "xaxis": {
            "backgroundcolor": "#E5ECF6",
            "gridcolor": "white",
            "gridwidth": 2,
            "linecolor": "white",
            "showbackground": true,
            "ticks": "",
            "zerolinecolor": "white"
           },
           "yaxis": {
            "backgroundcolor": "#E5ECF6",
            "gridcolor": "white",
            "gridwidth": 2,
            "linecolor": "white",
            "showbackground": true,
            "ticks": "",
            "zerolinecolor": "white"
           },
           "zaxis": {
            "backgroundcolor": "#E5ECF6",
            "gridcolor": "white",
            "gridwidth": 2,
            "linecolor": "white",
            "showbackground": true,
            "ticks": "",
            "zerolinecolor": "white"
           }
          },
          "shapedefaults": {
           "line": {
            "color": "#2a3f5f"
           }
          },
          "ternary": {
           "aaxis": {
            "gridcolor": "white",
            "linecolor": "white",
            "ticks": ""
           },
           "baxis": {
            "gridcolor": "white",
            "linecolor": "white",
            "ticks": ""
           },
           "bgcolor": "#E5ECF6",
           "caxis": {
            "gridcolor": "white",
            "linecolor": "white",
            "ticks": ""
           }
          },
          "title": {
           "x": 0.05
          },
          "xaxis": {
           "automargin": true,
           "gridcolor": "white",
           "linecolor": "white",
           "ticks": "",
           "title": {
            "standoff": 15
           },
           "zerolinecolor": "white",
           "zerolinewidth": 2
          },
          "yaxis": {
           "automargin": true,
           "gridcolor": "white",
           "linecolor": "white",
           "ticks": "",
           "title": {
            "standoff": 15
           },
           "zerolinecolor": "white",
           "zerolinewidth": 2
          }
         }
        },
        "title": {
         "font": {
          "color": "#4D5663"
         }
        },
        "xaxis": {
         "gridcolor": "#E1E5ED",
         "showgrid": true,
         "tickfont": {
          "color": "#4D5663"
         },
         "title": {
          "font": {
           "color": "#4D5663"
          },
          "text": ""
         },
         "zerolinecolor": "#E1E5ED"
        },
        "yaxis": {
         "gridcolor": "#E1E5ED",
         "showgrid": true,
         "tickfont": {
          "color": "#4D5663"
         },
         "title": {
          "font": {
           "color": "#4D5663"
          },
          "text": ""
         },
         "zerolinecolor": "#E1E5ED"
        }
       }
      },
      "text/html": [
       "<div>\n",
       "        \n",
       "        \n",
       "            <div id=\"21989db8-f968-4d37-9fee-e4df0359d520\" class=\"plotly-graph-div\" style=\"height:525px; width:100%;\"></div>\n",
       "            <script type=\"text/javascript\">\n",
       "                require([\"plotly\"], function(Plotly) {\n",
       "                    window.PLOTLYENV=window.PLOTLYENV || {};\n",
       "                    window.PLOTLYENV.BASE_URL='https://plot.ly';\n",
       "                    \n",
       "                if (document.getElementById(\"21989db8-f968-4d37-9fee-e4df0359d520\")) {\n",
       "                    Plotly.newPlot(\n",
       "                        '21989db8-f968-4d37-9fee-e4df0359d520',\n",
       "                        [{\"histfunc\": \"count\", \"histnorm\": \"\", \"marker\": {\"color\": \"rgba(255, 153, 51, 1.0)\", \"line\": {\"color\": \"#4D5663\", \"width\": 1.3}}, \"name\": \"A\", \"opacity\": 0.8, \"orientation\": \"v\", \"type\": \"histogram\", \"x\": [-0.5009543608026148, -0.4204615151389094, -0.49553283935936165, 0.7657304693445539, -0.07847397916945117, 0.6700761884302777, 1.6148887957746296, -0.14346731599489548, -0.2665864011088299, 1.5203733905118066, -1.6225831980015681, -0.0010036338978958532, -0.20764556384936733, 1.2211140213435423, 0.7616648705923982, 0.8511236141237207, -0.11514925363568562, -0.20936138521130568, -0.23694314875636666, -1.41396658714284, -0.7197209408930788, -0.21986205769332937, 1.0281717480256272, -0.34491294269628503, 1.8387982177216249, 1.7454245898531036, 0.40475695887285834, 0.38445221563913434, 0.09096690376723829, -0.5452474872683721, 0.36883064898417145, 0.471064900436615, 0.08943939927300605, -0.04711988398954826, -0.377726634293231, 0.7896939082042002, 0.2834844224400587, -0.3712372134953554, -0.8239234838514105, -0.24380479792713633, 0.8021227623642619, 0.8595077643277932, -0.89133910900524, -0.08704741110358603, 1.1154306476276132, -0.8232991534045231, 0.03951476468379789, -0.5897579157424271, 0.48638772034887495, -0.23689141912829995, -0.849875469508366, 1.2033244290804135, -0.9707942664404414, 0.5345692965058876, 0.24185563713696623, -1.2480718435113924, -1.9764817321890251, 0.17398462490394964, -0.2958648071038704, -0.9073789839128634, -0.320061959697221, -1.2894563780049575, 0.8162202543091142, 0.7279819747659728, 0.5016314636811545, -1.6350473403411654, 1.112226070703627, -1.3798198056686024, 0.03712506450794439, 0.8725646848428592, -0.062491031397570555, -1.283446523292469, 0.8042769164891135, -1.2878267604909532, -2.4243449762842935, 1.455471611236058, 0.4262483065173007, -1.1011863485263866, 0.36393070625865315, -0.3828540123202687, 0.07374167084754127, -1.3446917941460133, -0.07602512088167016, 2.131579084083562, 0.8633118511617681, 0.9567443066299663, -0.35082901706021047, 0.5353353137007961, -0.06072553628984715, 0.4216056690056466, 1.8201523623294387, -1.4207116091443348, -0.24445402467878669, 1.0790482734281726, -0.301775352771489, -0.463830499688751, -0.48449348616253807, -0.8952937264879816, -0.17464315190589047, -1.5690068772777155]}, {\"histfunc\": \"count\", \"histnorm\": \"\", \"marker\": {\"color\": \"rgba(55, 128, 191, 1.0)\", \"line\": {\"color\": \"#4D5663\", \"width\": 1.3}}, \"name\": \"B\", \"opacity\": 0.8, \"orientation\": \"v\", \"type\": \"histogram\", \"x\": [0.4647073083742839, -0.05638983549159592, 0.8211639860066423, -0.5302111813539075, -0.026095626254060273, 0.934819749012539, -0.06881896608775859, 0.7431747218014507, -0.6634138417015264, -0.6407659494255311, -2.0830026972903197, 1.8045522880146014, 1.037149625547556, 0.3248740795752661, 0.16422555997258756, -0.04448673216754261, -1.1666989664863299, -0.34489031820823246, 0.023191019187505314, -1.130997876996157, 0.6537048033347655, -2.008977265519097, 2.1187636059019828, -0.14720374779769907, -0.4119883895674882, -0.01889786289040426, -0.5408825560442116, 0.6532664735645086, 0.3019048417424934, 1.6458305129952842, 0.6030209295808521, -0.3623998992628467, -1.354212000595378, -1.172657051102667, -0.1769801146101835, 2.2055905103394196, 0.2760796035999615, -1.7813429624595076, 0.7750526626200264, -0.5805198523009042, -1.0618189104978328, 0.18946634999859532, 0.381459586503324, -0.9242275271954474, -0.5628414484788141, -0.8638503681130342, -0.12409497161196388, 1.0458509752935239, -0.695096587506082, 1.2734349572542032, 0.24242678837999837, -0.5467390258304995, -0.6363370209478098, 2.013175801488738, 0.7725826019693162, -0.3915999325975337, -0.21384985463778458, 1.4732988178499873, -1.946677160191751, 0.40084042312757945, 1.3366011084629332, -0.3613636341442311, 0.5298250484301542, 1.4558635024058049, -0.6318727492567257, -0.8227985700773811, -0.5377019717823004, -1.7902939476280129, -0.26846879662803125, 1.465181281886347, 2.3219711044551956, 0.9250989703211202, 0.8916825245438201, -1.1517637591562595, -0.19150262412323274, 1.4792770255841388, 1.6861949140510182, 0.4512015631832032, 0.1485498153576192, 0.7032594474993233, 1.398402958112115, -0.0031789942556199823, -0.6032519124226736, 0.9550811638193741, 1.737666005127905, 1.060053557429989, 1.2895208947773007, -1.1953320328355028, 1.782261738784618, 1.9306290169917022, -0.7425207838161446, -0.9754342092359741, 0.9982550336125903, 0.04387350789025311, -0.6029540220032642, -0.3176203472281875, 1.3016837317080092, 1.319139155169162, 0.60300051445889, -0.4734361308297189]}, {\"histfunc\": \"count\", \"histnorm\": \"\", \"marker\": {\"color\": \"rgba(50, 171, 96, 1.0)\", \"line\": {\"color\": \"#4D5663\", \"width\": 1.3}}, \"name\": \"C\", \"opacity\": 0.8, \"orientation\": \"v\", \"type\": \"histogram\", \"x\": [-0.40315973833766044, -1.360054681543459, 0.7106343682785928, -0.9177669533408417, 0.06883949789015524, 0.01696296847514918, -0.44393478997380553, -0.7198535392505376, -0.7875483593999346, 1.9155416094569315, 0.6583623881679307, 0.5376709735739473, 1.0405012466708365, -0.23171979820644356, -0.3744126532426237, -1.1618515687799378, -1.3964253535908646, 0.5769970040773327, -1.0835044014698794, 0.5747678743329491, -0.11827539408021497, 0.2151484932585146, 0.08078309448514429, -2.037047352546062, -1.390219773530132, 0.09167606324494677, -0.7235507708580192, -0.5405884558003439, -1.2811560263191193, -0.4543060750192719, -1.1165034510234548, 0.3000613728191319, -0.05289080065345519, 0.362704088345904, -0.9680892848574593, 0.6680708701581071, -0.8231344948245031, 0.715348855171547, 0.5650247434328161, -0.5773761355342275, -0.9286783479833696, 0.7776532703274646, -0.12317469719040205, -1.1513332111873045, 0.5063978291626221, -0.8742393811420719, 1.9156488862245638, -1.0865525250496144, 0.44206782103104286, 0.9026685461629094, 2.895994875542977, 1.1285450455156265, 1.1841356567838248, 0.19876360513024213, 1.4886716994001934, -0.3327270700698986, -0.5621700345151495, -0.5847259828949196, -1.2846401342555829, -0.6016000623194985, -0.09861791991283785, 1.1816530601740363, -0.6908357948875438, 0.3171310416057197, 0.7552121889991846, -2.3888071483371647, -1.1485383178467785, 0.5897185443197643, -0.36845595698948597, -0.5717563197990444, -0.14214523110978153, 0.0004170052383094638, -0.18461428501604366, -0.1052252881648122, -0.8292749236373992, -0.08997556334434115, 1.2644372314371435, 2.0832196408139105, 0.38676730762963063, 1.4060141059133717, -1.3360038713603481, 0.34749778659436176, -0.33806765343092926, 1.4157584416445, -0.7594413490741586, -1.762295996654411, 0.5617175196967619, 1.7970365337189476, -1.0303904420141936, -0.9645790425198174, 0.9914171618392057, -0.10285713286924551, -0.8135392007267539, 0.7187908001826215, -0.09528272118315335, -0.6296134228433697, -0.4152341746240974, 0.4321855310892845, 0.7934990376332662, -0.4736302553853124]}, {\"histfunc\": \"count\", \"histnorm\": \"\", \"marker\": {\"color\": \"rgba(128, 0, 128, 1.0)\", \"line\": {\"color\": \"#4D5663\", \"width\": 1.3}}, \"name\": \"D\", \"opacity\": 0.8, \"orientation\": \"v\", \"type\": \"histogram\", \"x\": [0.7289264925102457, 0.6912077819830305, 0.8188163578461918, -0.30005691761790504, -1.4017653130971819, 0.7418167945956171, -1.3072947407549396, 0.5238505847258861, -0.5815439940403195, -0.8792388115836571, -1.033454430129768, 0.7403640958737788, -1.0588129764174565, -0.7771680087119067, -1.6617547956883958, -1.5914907424879152, -1.0160879667124922, 1.2678132647838818, -0.16793391008686473, 1.0101429611574362, 1.8032134050852269, -0.8999362203146547, -0.8539426072478293, -0.8009195843748494, -0.3664154121540123, -0.6107229900880933, -0.3350158000287844, 0.38272189449206223, -1.851550337554075, 1.2840629959739345, -0.8612530460386267, 1.000086231202697, -1.3419411720416599, -1.0589510959940858, 1.3923268650795624, -0.11210822226961702, -0.5842141681440038, -0.029178560040188175, -0.47118804612841253, 0.24960142722219547, 1.1707027090074467, -0.5605349045267657, -0.5611008894719185, 1.5079015447793083, -0.7149551059987138, 0.1438353136292474, 0.8265123257903583, -0.023327793020397707, -0.6879816871193085, -0.19529967496198097, -0.30628224009133753, -0.8297173264276736, 0.8345054934481003, 0.5792416853511556, 1.5935219415190103, -1.4883411834823808, 0.7293186817888184, 0.355228253069335, -1.3171366027193092, -0.056434275320834004, -0.5948376052025565, 0.5778833712404194, 0.4722524495743788, -0.23223626436639552, 0.4902558443320463, 1.2950182054810377, -1.7760625858810606, -0.6227729304429062, -0.5991623946916326, -0.4982592912885508, -1.49314260325824, 0.9396270239918765, 0.6009626436464006, 1.3100598156970285, -0.07742400265272653, -0.2243421864407254, 0.1739583018508991, -0.5440884129977694, -0.905632736795812, -0.8238665725545118, 0.3257163950575212, -1.353642736504197, 0.1249865569350151, 1.1471228394269801, 0.01849814702931045, 1.7175961052390785, 0.580982847441958, 0.3738800828849592, 0.22981324840051287, 0.09748587227584486, 0.6838294695060558, -1.1805057378264823, 0.295612020998169, 0.815165130870034, -0.9725072594716221, 2.529538533955411, 0.5554954891446603, 0.61415886993306, 0.14864075840154758, 0.31334340852487175]}],\n",
       "                        {\"barmode\": \"overlay\", \"legend\": {\"bgcolor\": \"#F5F6F9\", \"font\": {\"color\": \"#4D5663\"}}, \"paper_bgcolor\": \"#F5F6F9\", \"plot_bgcolor\": \"#F5F6F9\", \"template\": {\"data\": {\"bar\": [{\"error_x\": {\"color\": \"#2a3f5f\"}, \"error_y\": {\"color\": \"#2a3f5f\"}, \"marker\": {\"line\": {\"color\": \"#E5ECF6\", \"width\": 0.5}}, \"type\": \"bar\"}], \"barpolar\": [{\"marker\": {\"line\": {\"color\": \"#E5ECF6\", \"width\": 0.5}}, \"type\": \"barpolar\"}], \"carpet\": [{\"aaxis\": {\"endlinecolor\": \"#2a3f5f\", \"gridcolor\": \"white\", \"linecolor\": \"white\", \"minorgridcolor\": \"white\", \"startlinecolor\": \"#2a3f5f\"}, \"baxis\": {\"endlinecolor\": \"#2a3f5f\", \"gridcolor\": \"white\", \"linecolor\": \"white\", \"minorgridcolor\": \"white\", \"startlinecolor\": \"#2a3f5f\"}, \"type\": \"carpet\"}], \"choropleth\": [{\"colorbar\": {\"outlinewidth\": 0, \"ticks\": \"\"}, \"type\": \"choropleth\"}], \"contour\": [{\"colorbar\": {\"outlinewidth\": 0, \"ticks\": \"\"}, \"colorscale\": [[0.0, \"#0d0887\"], [0.1111111111111111, \"#46039f\"], [0.2222222222222222, \"#7201a8\"], [0.3333333333333333, \"#9c179e\"], [0.4444444444444444, \"#bd3786\"], [0.5555555555555556, \"#d8576b\"], [0.6666666666666666, \"#ed7953\"], [0.7777777777777778, \"#fb9f3a\"], [0.8888888888888888, \"#fdca26\"], [1.0, \"#f0f921\"]], \"type\": \"contour\"}], \"contourcarpet\": [{\"colorbar\": {\"outlinewidth\": 0, \"ticks\": \"\"}, \"type\": \"contourcarpet\"}], \"heatmap\": [{\"colorbar\": {\"outlinewidth\": 0, \"ticks\": \"\"}, \"colorscale\": [[0.0, \"#0d0887\"], [0.1111111111111111, \"#46039f\"], [0.2222222222222222, \"#7201a8\"], [0.3333333333333333, \"#9c179e\"], [0.4444444444444444, \"#bd3786\"], [0.5555555555555556, \"#d8576b\"], [0.6666666666666666, \"#ed7953\"], [0.7777777777777778, \"#fb9f3a\"], [0.8888888888888888, \"#fdca26\"], [1.0, \"#f0f921\"]], \"type\": \"heatmap\"}], \"heatmapgl\": [{\"colorbar\": {\"outlinewidth\": 0, \"ticks\": \"\"}, \"colorscale\": [[0.0, \"#0d0887\"], [0.1111111111111111, \"#46039f\"], [0.2222222222222222, \"#7201a8\"], [0.3333333333333333, \"#9c179e\"], [0.4444444444444444, \"#bd3786\"], [0.5555555555555556, \"#d8576b\"], [0.6666666666666666, \"#ed7953\"], [0.7777777777777778, \"#fb9f3a\"], [0.8888888888888888, \"#fdca26\"], [1.0, \"#f0f921\"]], \"type\": \"heatmapgl\"}], \"histogram\": [{\"marker\": {\"colorbar\": {\"outlinewidth\": 0, \"ticks\": \"\"}}, \"type\": \"histogram\"}], \"histogram2d\": [{\"colorbar\": {\"outlinewidth\": 0, \"ticks\": \"\"}, \"colorscale\": [[0.0, \"#0d0887\"], [0.1111111111111111, \"#46039f\"], [0.2222222222222222, \"#7201a8\"], [0.3333333333333333, \"#9c179e\"], [0.4444444444444444, \"#bd3786\"], [0.5555555555555556, \"#d8576b\"], [0.6666666666666666, \"#ed7953\"], [0.7777777777777778, \"#fb9f3a\"], [0.8888888888888888, \"#fdca26\"], [1.0, \"#f0f921\"]], \"type\": \"histogram2d\"}], \"histogram2dcontour\": [{\"colorbar\": {\"outlinewidth\": 0, \"ticks\": \"\"}, \"colorscale\": [[0.0, \"#0d0887\"], [0.1111111111111111, \"#46039f\"], [0.2222222222222222, \"#7201a8\"], [0.3333333333333333, \"#9c179e\"], [0.4444444444444444, \"#bd3786\"], [0.5555555555555556, \"#d8576b\"], [0.6666666666666666, \"#ed7953\"], [0.7777777777777778, \"#fb9f3a\"], [0.8888888888888888, \"#fdca26\"], [1.0, \"#f0f921\"]], \"type\": \"histogram2dcontour\"}], \"mesh3d\": [{\"colorbar\": {\"outlinewidth\": 0, \"ticks\": \"\"}, \"type\": \"mesh3d\"}], \"parcoords\": [{\"line\": {\"colorbar\": {\"outlinewidth\": 0, \"ticks\": \"\"}}, \"type\": \"parcoords\"}], \"pie\": [{\"automargin\": true, \"type\": \"pie\"}], \"scatter\": [{\"marker\": {\"colorbar\": {\"outlinewidth\": 0, \"ticks\": \"\"}}, \"type\": \"scatter\"}], \"scatter3d\": [{\"line\": {\"colorbar\": {\"outlinewidth\": 0, \"ticks\": \"\"}}, \"marker\": {\"colorbar\": {\"outlinewidth\": 0, \"ticks\": \"\"}}, \"type\": \"scatter3d\"}], \"scattercarpet\": [{\"marker\": {\"colorbar\": {\"outlinewidth\": 0, \"ticks\": \"\"}}, \"type\": \"scattercarpet\"}], \"scattergeo\": [{\"marker\": {\"colorbar\": {\"outlinewidth\": 0, \"ticks\": \"\"}}, \"type\": \"scattergeo\"}], \"scattergl\": [{\"marker\": {\"colorbar\": {\"outlinewidth\": 0, \"ticks\": \"\"}}, \"type\": \"scattergl\"}], \"scattermapbox\": [{\"marker\": {\"colorbar\": {\"outlinewidth\": 0, \"ticks\": \"\"}}, \"type\": \"scattermapbox\"}], \"scatterpolar\": [{\"marker\": {\"colorbar\": {\"outlinewidth\": 0, \"ticks\": \"\"}}, \"type\": \"scatterpolar\"}], \"scatterpolargl\": [{\"marker\": {\"colorbar\": {\"outlinewidth\": 0, \"ticks\": \"\"}}, \"type\": \"scatterpolargl\"}], \"scatterternary\": [{\"marker\": {\"colorbar\": {\"outlinewidth\": 0, \"ticks\": \"\"}}, \"type\": \"scatterternary\"}], \"surface\": [{\"colorbar\": {\"outlinewidth\": 0, \"ticks\": \"\"}, \"colorscale\": [[0.0, \"#0d0887\"], [0.1111111111111111, \"#46039f\"], [0.2222222222222222, \"#7201a8\"], [0.3333333333333333, \"#9c179e\"], [0.4444444444444444, \"#bd3786\"], [0.5555555555555556, \"#d8576b\"], [0.6666666666666666, \"#ed7953\"], [0.7777777777777778, \"#fb9f3a\"], [0.8888888888888888, \"#fdca26\"], [1.0, \"#f0f921\"]], \"type\": \"surface\"}], \"table\": [{\"cells\": {\"fill\": {\"color\": \"#EBF0F8\"}, \"line\": {\"color\": \"white\"}}, \"header\": {\"fill\": {\"color\": \"#C8D4E3\"}, \"line\": {\"color\": \"white\"}}, \"type\": \"table\"}]}, \"layout\": {\"annotationdefaults\": {\"arrowcolor\": \"#2a3f5f\", \"arrowhead\": 0, \"arrowwidth\": 1}, \"coloraxis\": {\"colorbar\": {\"outlinewidth\": 0, \"ticks\": \"\"}}, \"colorscale\": {\"diverging\": [[0, \"#8e0152\"], [0.1, \"#c51b7d\"], [0.2, \"#de77ae\"], [0.3, \"#f1b6da\"], [0.4, \"#fde0ef\"], [0.5, \"#f7f7f7\"], [0.6, \"#e6f5d0\"], [0.7, \"#b8e186\"], [0.8, \"#7fbc41\"], [0.9, \"#4d9221\"], [1, \"#276419\"]], \"sequential\": [[0.0, \"#0d0887\"], [0.1111111111111111, \"#46039f\"], [0.2222222222222222, \"#7201a8\"], [0.3333333333333333, \"#9c179e\"], [0.4444444444444444, \"#bd3786\"], [0.5555555555555556, \"#d8576b\"], [0.6666666666666666, \"#ed7953\"], [0.7777777777777778, \"#fb9f3a\"], [0.8888888888888888, \"#fdca26\"], [1.0, \"#f0f921\"]], \"sequentialminus\": [[0.0, \"#0d0887\"], [0.1111111111111111, \"#46039f\"], [0.2222222222222222, \"#7201a8\"], [0.3333333333333333, \"#9c179e\"], [0.4444444444444444, \"#bd3786\"], [0.5555555555555556, \"#d8576b\"], [0.6666666666666666, \"#ed7953\"], [0.7777777777777778, \"#fb9f3a\"], [0.8888888888888888, \"#fdca26\"], [1.0, \"#f0f921\"]]}, \"colorway\": [\"#636efa\", \"#EF553B\", \"#00cc96\", \"#ab63fa\", \"#FFA15A\", \"#19d3f3\", \"#FF6692\", \"#B6E880\", \"#FF97FF\", \"#FECB52\"], \"font\": {\"color\": \"#2a3f5f\"}, \"geo\": {\"bgcolor\": \"white\", \"lakecolor\": \"white\", \"landcolor\": \"#E5ECF6\", \"showlakes\": true, \"showland\": true, \"subunitcolor\": \"white\"}, \"hoverlabel\": {\"align\": \"left\"}, \"hovermode\": \"closest\", \"mapbox\": {\"style\": \"light\"}, \"paper_bgcolor\": \"white\", \"plot_bgcolor\": \"#E5ECF6\", \"polar\": {\"angularaxis\": {\"gridcolor\": \"white\", \"linecolor\": \"white\", \"ticks\": \"\"}, \"bgcolor\": \"#E5ECF6\", \"radialaxis\": {\"gridcolor\": \"white\", \"linecolor\": \"white\", \"ticks\": \"\"}}, \"scene\": {\"xaxis\": {\"backgroundcolor\": \"#E5ECF6\", \"gridcolor\": \"white\", \"gridwidth\": 2, \"linecolor\": \"white\", \"showbackground\": true, \"ticks\": \"\", \"zerolinecolor\": \"white\"}, \"yaxis\": {\"backgroundcolor\": \"#E5ECF6\", \"gridcolor\": \"white\", \"gridwidth\": 2, \"linecolor\": \"white\", \"showbackground\": true, \"ticks\": \"\", \"zerolinecolor\": \"white\"}, \"zaxis\": {\"backgroundcolor\": \"#E5ECF6\", \"gridcolor\": \"white\", \"gridwidth\": 2, \"linecolor\": \"white\", \"showbackground\": true, \"ticks\": \"\", \"zerolinecolor\": \"white\"}}, \"shapedefaults\": {\"line\": {\"color\": \"#2a3f5f\"}}, \"ternary\": {\"aaxis\": {\"gridcolor\": \"white\", \"linecolor\": \"white\", \"ticks\": \"\"}, \"baxis\": {\"gridcolor\": \"white\", \"linecolor\": \"white\", \"ticks\": \"\"}, \"bgcolor\": \"#E5ECF6\", \"caxis\": {\"gridcolor\": \"white\", \"linecolor\": \"white\", \"ticks\": \"\"}}, \"title\": {\"x\": 0.05}, \"xaxis\": {\"automargin\": true, \"gridcolor\": \"white\", \"linecolor\": \"white\", \"ticks\": \"\", \"title\": {\"standoff\": 15}, \"zerolinecolor\": \"white\", \"zerolinewidth\": 2}, \"yaxis\": {\"automargin\": true, \"gridcolor\": \"white\", \"linecolor\": \"white\", \"ticks\": \"\", \"title\": {\"standoff\": 15}, \"zerolinecolor\": \"white\", \"zerolinewidth\": 2}}}, \"title\": {\"font\": {\"color\": \"#4D5663\"}}, \"xaxis\": {\"gridcolor\": \"#E1E5ED\", \"showgrid\": true, \"tickfont\": {\"color\": \"#4D5663\"}, \"title\": {\"font\": {\"color\": \"#4D5663\"}, \"text\": \"\"}, \"zerolinecolor\": \"#E1E5ED\"}, \"yaxis\": {\"gridcolor\": \"#E1E5ED\", \"showgrid\": true, \"tickfont\": {\"color\": \"#4D5663\"}, \"title\": {\"font\": {\"color\": \"#4D5663\"}, \"text\": \"\"}, \"zerolinecolor\": \"#E1E5ED\"}},\n",
       "                        {\"showLink\": true, \"linkText\": \"Export to plot.ly\", \"plotlyServerURL\": \"https://plot.ly\", \"responsive\": true}\n",
       "                    ).then(function(){\n",
       "                            \n",
       "var gd = document.getElementById('21989db8-f968-4d37-9fee-e4df0359d520');\n",
       "var x = new MutationObserver(function (mutations, observer) {{\n",
       "        var display = window.getComputedStyle(gd).display;\n",
       "        if (!display || display === 'none') {{\n",
       "            console.log([gd, 'removed!']);\n",
       "            Plotly.purge(gd);\n",
       "            observer.disconnect();\n",
       "        }}\n",
       "}});\n",
       "\n",
       "// Listen for the removal of the full notebook cells\n",
       "var notebookContainer = gd.closest('#notebook-container');\n",
       "if (notebookContainer) {{\n",
       "    x.observe(notebookContainer, {childList: true});\n",
       "}}\n",
       "\n",
       "// Listen for the clearing of the current output cell\n",
       "var outputEl = gd.closest('.output');\n",
       "if (outputEl) {{\n",
       "    x.observe(outputEl, {childList: true});\n",
       "}}\n",
       "\n",
       "                        })\n",
       "                };\n",
       "                });\n",
       "            </script>\n",
       "        </div>"
      ]
     },
     "metadata": {},
     "output_type": "display_data"
    }
   ],
   "source": [
    "df.iplot(kind='hist') # passing in entire df will give an overlap of everything, and can turn on and off what you want to peel away"
   ]
  },
  {
   "cell_type": "code",
   "execution_count": 63,
   "metadata": {},
   "outputs": [
    {
     "data": {
      "application/vnd.plotly.v1+json": {
       "config": {
        "linkText": "Export to plot.ly",
        "plotlyServerURL": "https://plot.ly",
        "showLink": true
       },
       "data": [
        {
         "line": {
          "color": "rgba(255, 153, 51, 1.0)",
          "dash": "solid",
          "shape": "linear",
          "width": 1.3
         },
         "mode": "lines",
         "name": "A",
         "text": "",
         "type": "scatter",
         "x": [
          0,
          1,
          2,
          3,
          4,
          5,
          6,
          7,
          8,
          9,
          10,
          11,
          12,
          13,
          14,
          15,
          16,
          17,
          18,
          19,
          20,
          21,
          22,
          23,
          24,
          25,
          26,
          27,
          28,
          29,
          30,
          31,
          32,
          33,
          34,
          35,
          36,
          37,
          38,
          39,
          40,
          41,
          42,
          43,
          44,
          45,
          46,
          47,
          48,
          49,
          50,
          51,
          52,
          53,
          54,
          55,
          56,
          57,
          58,
          59,
          60,
          61,
          62,
          63,
          64,
          65,
          66,
          67,
          68,
          69,
          70,
          71,
          72,
          73,
          74,
          75,
          76,
          77,
          78,
          79,
          80,
          81,
          82,
          83,
          84,
          85,
          86,
          87,
          88,
          89,
          90,
          91,
          92,
          93,
          94,
          95,
          96,
          97,
          98,
          99
         ],
         "y": [
          -0.5009543608026148,
          -0.4204615151389094,
          -0.49553283935936165,
          0.7657304693445539,
          -0.07847397916945117,
          0.6700761884302777,
          1.6148887957746296,
          -0.14346731599489548,
          -0.2665864011088299,
          1.5203733905118066,
          -1.6225831980015681,
          -0.0010036338978958532,
          -0.20764556384936733,
          1.2211140213435423,
          0.7616648705923982,
          0.8511236141237207,
          -0.11514925363568562,
          -0.20936138521130568,
          -0.23694314875636666,
          -1.41396658714284,
          -0.7197209408930788,
          -0.21986205769332937,
          1.0281717480256272,
          -0.34491294269628503,
          1.8387982177216249,
          1.7454245898531036,
          0.40475695887285834,
          0.38445221563913434,
          0.09096690376723829,
          -0.5452474872683721,
          0.36883064898417145,
          0.471064900436615,
          0.08943939927300605,
          -0.04711988398954826,
          -0.377726634293231,
          0.7896939082042002,
          0.2834844224400587,
          -0.3712372134953554,
          -0.8239234838514105,
          -0.24380479792713633,
          0.8021227623642619,
          0.8595077643277932,
          -0.89133910900524,
          -0.08704741110358603,
          1.1154306476276132,
          -0.8232991534045231,
          0.03951476468379789,
          -0.5897579157424271,
          0.48638772034887495,
          -0.23689141912829995,
          -0.849875469508366,
          1.2033244290804135,
          -0.9707942664404414,
          0.5345692965058876,
          0.24185563713696623,
          -1.2480718435113924,
          -1.9764817321890251,
          0.17398462490394964,
          -0.2958648071038704,
          -0.9073789839128634,
          -0.320061959697221,
          -1.2894563780049575,
          0.8162202543091142,
          0.7279819747659728,
          0.5016314636811545,
          -1.6350473403411654,
          1.112226070703627,
          -1.3798198056686024,
          0.03712506450794439,
          0.8725646848428592,
          -0.062491031397570555,
          -1.283446523292469,
          0.8042769164891135,
          -1.2878267604909532,
          -2.4243449762842935,
          1.455471611236058,
          0.4262483065173007,
          -1.1011863485263866,
          0.36393070625865315,
          -0.3828540123202687,
          0.07374167084754127,
          -1.3446917941460133,
          -0.07602512088167016,
          2.131579084083562,
          0.8633118511617681,
          0.9567443066299663,
          -0.35082901706021047,
          0.5353353137007961,
          -0.06072553628984715,
          0.4216056690056466,
          1.8201523623294387,
          -1.4207116091443348,
          -0.24445402467878669,
          1.0790482734281726,
          -0.301775352771489,
          -0.463830499688751,
          -0.48449348616253807,
          -0.8952937264879816,
          -0.17464315190589047,
          -1.5690068772777155
         ]
        },
        {
         "line": {
          "color": "rgba(55, 128, 191, 1.0)",
          "dash": "solid",
          "shape": "linear",
          "width": 1.3
         },
         "mode": "lines",
         "name": "B",
         "text": "",
         "type": "scatter",
         "x": [
          0,
          1,
          2,
          3,
          4,
          5,
          6,
          7,
          8,
          9,
          10,
          11,
          12,
          13,
          14,
          15,
          16,
          17,
          18,
          19,
          20,
          21,
          22,
          23,
          24,
          25,
          26,
          27,
          28,
          29,
          30,
          31,
          32,
          33,
          34,
          35,
          36,
          37,
          38,
          39,
          40,
          41,
          42,
          43,
          44,
          45,
          46,
          47,
          48,
          49,
          50,
          51,
          52,
          53,
          54,
          55,
          56,
          57,
          58,
          59,
          60,
          61,
          62,
          63,
          64,
          65,
          66,
          67,
          68,
          69,
          70,
          71,
          72,
          73,
          74,
          75,
          76,
          77,
          78,
          79,
          80,
          81,
          82,
          83,
          84,
          85,
          86,
          87,
          88,
          89,
          90,
          91,
          92,
          93,
          94,
          95,
          96,
          97,
          98,
          99
         ],
         "y": [
          0.4647073083742839,
          -0.05638983549159592,
          0.8211639860066423,
          -0.5302111813539075,
          -0.026095626254060273,
          0.934819749012539,
          -0.06881896608775859,
          0.7431747218014507,
          -0.6634138417015264,
          -0.6407659494255311,
          -2.0830026972903197,
          1.8045522880146014,
          1.037149625547556,
          0.3248740795752661,
          0.16422555997258756,
          -0.04448673216754261,
          -1.1666989664863299,
          -0.34489031820823246,
          0.023191019187505314,
          -1.130997876996157,
          0.6537048033347655,
          -2.008977265519097,
          2.1187636059019828,
          -0.14720374779769907,
          -0.4119883895674882,
          -0.01889786289040426,
          -0.5408825560442116,
          0.6532664735645086,
          0.3019048417424934,
          1.6458305129952842,
          0.6030209295808521,
          -0.3623998992628467,
          -1.354212000595378,
          -1.172657051102667,
          -0.1769801146101835,
          2.2055905103394196,
          0.2760796035999615,
          -1.7813429624595076,
          0.7750526626200264,
          -0.5805198523009042,
          -1.0618189104978328,
          0.18946634999859532,
          0.381459586503324,
          -0.9242275271954474,
          -0.5628414484788141,
          -0.8638503681130342,
          -0.12409497161196388,
          1.0458509752935239,
          -0.695096587506082,
          1.2734349572542032,
          0.24242678837999837,
          -0.5467390258304995,
          -0.6363370209478098,
          2.013175801488738,
          0.7725826019693162,
          -0.3915999325975337,
          -0.21384985463778458,
          1.4732988178499873,
          -1.946677160191751,
          0.40084042312757945,
          1.3366011084629332,
          -0.3613636341442311,
          0.5298250484301542,
          1.4558635024058049,
          -0.6318727492567257,
          -0.8227985700773811,
          -0.5377019717823004,
          -1.7902939476280129,
          -0.26846879662803125,
          1.465181281886347,
          2.3219711044551956,
          0.9250989703211202,
          0.8916825245438201,
          -1.1517637591562595,
          -0.19150262412323274,
          1.4792770255841388,
          1.6861949140510182,
          0.4512015631832032,
          0.1485498153576192,
          0.7032594474993233,
          1.398402958112115,
          -0.0031789942556199823,
          -0.6032519124226736,
          0.9550811638193741,
          1.737666005127905,
          1.060053557429989,
          1.2895208947773007,
          -1.1953320328355028,
          1.782261738784618,
          1.9306290169917022,
          -0.7425207838161446,
          -0.9754342092359741,
          0.9982550336125903,
          0.04387350789025311,
          -0.6029540220032642,
          -0.3176203472281875,
          1.3016837317080092,
          1.319139155169162,
          0.60300051445889,
          -0.4734361308297189
         ]
        },
        {
         "connectgaps": false,
         "fill": "tozeroy",
         "line": {
          "color": "green",
          "dash": "solid",
          "shape": "linear",
          "width": 0.5
         },
         "mode": "lines",
         "name": "Spread",
         "showlegend": false,
         "type": "scatter",
         "x": [
          0,
          1,
          2,
          3,
          4,
          5,
          6,
          7,
          8,
          9,
          10,
          11,
          12,
          13,
          14,
          15,
          16,
          17,
          18,
          19,
          20,
          21,
          22,
          23,
          24,
          25,
          26,
          27,
          28,
          29,
          30,
          31,
          32,
          33,
          34,
          35,
          36,
          37,
          38,
          39,
          40,
          41,
          42,
          43,
          44,
          45,
          46,
          47,
          48,
          49,
          50,
          51,
          52,
          53,
          54,
          55,
          56,
          57,
          58,
          59,
          60,
          61,
          62,
          63,
          64,
          65,
          66,
          67,
          68,
          69,
          70,
          71,
          72,
          73,
          74,
          75,
          76,
          77,
          78,
          79,
          80,
          81,
          82,
          83,
          84,
          85,
          86,
          87,
          88,
          89,
          90,
          91,
          92,
          93,
          94,
          95,
          96,
          97,
          98,
          99
         ],
         "xaxis": "x2",
         "y": [
          "",
          "",
          "",
          1.2959416506984613,
          "",
          "",
          1.6837077618623881,
          "",
          0.3968274405926965,
          2.1611393399373378,
          0.4604194992887516,
          "",
          "",
          0.8962399417682763,
          0.5974393106198106,
          0.8956103462912633,
          1.0515497128506444,
          0.13552893299692678,
          "",
          "",
          "",
          1.7891152078257677,
          "",
          "",
          2.250786607289113,
          1.7643224527435077,
          0.94563951491707,
          "",
          "",
          "",
          "",
          0.8334647996994617,
          1.443651399868384,
          1.1255371671131187,
          "",
          "",
          0.007404818840097249,
          1.4101057489641522,
          "",
          0.33671505437376786,
          1.8639416728620948,
          0.6700414143291978,
          "",
          0.8371801160918614,
          1.6782720961064275,
          0.040551214708511085,
          0.16360973629576175,
          "",
          1.181484307854957,
          "",
          "",
          1.7500634549109129,
          "",
          "",
          "",
          "",
          "",
          "",
          1.6508123530878804,
          "",
          "",
          "",
          0.28639520587895995,
          "",
          1.13350421293788,
          "",
          1.6499280424859273,
          0.41047414195941045,
          0.30559386113597564,
          "",
          "",
          "",
          "",
          "",
          "",
          "",
          "",
          "",
          0.21538089090103393,
          "",
          "",
          "",
          0.5272267915410035,
          1.1764979202641876,
          "",
          "",
          "",
          1.730667346536299,
          "",
          "",
          2.5626731461455834,
          "",
          "",
          1.0351747655379195,
          0.3011786692317752,
          "",
          "",
          "",
          "",
          ""
         ],
         "yaxis": "y2"
        },
        {
         "connectgaps": false,
         "fill": "tozeroy",
         "line": {
          "color": "red",
          "dash": "solid",
          "shape": "linear",
          "width": 0.5
         },
         "mode": "lines",
         "name": "Spread",
         "showlegend": false,
         "type": "scatter",
         "x": [
          0,
          1,
          2,
          3,
          4,
          5,
          6,
          7,
          8,
          9,
          10,
          11,
          12,
          13,
          14,
          15,
          16,
          17,
          18,
          19,
          20,
          21,
          22,
          23,
          24,
          25,
          26,
          27,
          28,
          29,
          30,
          31,
          32,
          33,
          34,
          35,
          36,
          37,
          38,
          39,
          40,
          41,
          42,
          43,
          44,
          45,
          46,
          47,
          48,
          49,
          50,
          51,
          52,
          53,
          54,
          55,
          56,
          57,
          58,
          59,
          60,
          61,
          62,
          63,
          64,
          65,
          66,
          67,
          68,
          69,
          70,
          71,
          72,
          73,
          74,
          75,
          76,
          77,
          78,
          79,
          80,
          81,
          82,
          83,
          84,
          85,
          86,
          87,
          88,
          89,
          90,
          91,
          92,
          93,
          94,
          95,
          96,
          97,
          98,
          99
         ],
         "xaxis": "x2",
         "y": [
          -0.9656616691768987,
          -0.36407167964731346,
          -1.3166968253660039,
          "",
          -0.052378352915390905,
          -0.26474356058226123,
          "",
          -0.8866420377963462,
          "",
          "",
          "",
          -1.8055559219124973,
          -1.2447951893969234,
          "",
          "",
          "",
          "",
          "",
          -0.26013416794387195,
          -0.2829687101466829,
          -1.3734257442278444,
          "",
          -1.0905918578763556,
          -0.19770919489858596,
          "",
          "",
          "",
          -0.2688142579253743,
          -0.2109379379752551,
          -2.1910780002636563,
          -0.23419028059668062,
          "",
          "",
          "",
          -0.2007465196830475,
          -1.4158966021352195,
          "",
          "",
          -1.5989761464714367,
          "",
          "",
          "",
          -1.272798695508564,
          "",
          "",
          "",
          "",
          -1.635608891035951,
          "",
          -1.5103263763825032,
          -1.0923022578883643,
          "",
          -0.33445724549263167,
          -1.4786065049828503,
          -0.5307269648323499,
          -0.8564719109138588,
          -1.7626318775512406,
          -1.2993141929460377,
          "",
          -1.308219407040443,
          -1.6566630681601542,
          -0.9280927438607264,
          "",
          -0.727881527639832,
          "",
          -0.8122487702637843,
          "",
          "",
          "",
          -0.5926165970434878,
          -2.384462135852766,
          -2.208545493613589,
          -0.08740560805470665,
          -0.13606300133469373,
          -2.2328423521610605,
          -0.02380541434808081,
          -1.2599466075337173,
          -1.5523879117095898,
          "",
          -1.086113459819592,
          -1.3246612872645736,
          -1.3415127998903933,
          "",
          "",
          -0.8743541539661368,
          -0.10330925080002262,
          -1.640349911837511,
          "",
          -1.8429872750744651,
          -1.5090233479860555,
          "",
          -0.4452773999083607,
          -1.242709058291377,
          "",
          "",
          -0.14621015246056351,
          -1.7861772178705473,
          -2.2144328816571437,
          -0.7776436663647806,
          -1.0955707464479967
         ],
         "yaxis": "y2"
        }
       ],
       "layout": {
        "hovermode": "x",
        "legend": {
         "bgcolor": "#F5F6F9",
         "font": {
          "color": "#4D5663"
         }
        },
        "paper_bgcolor": "#F5F6F9",
        "plot_bgcolor": "#F5F6F9",
        "template": {
         "data": {
          "bar": [
           {
            "error_x": {
             "color": "#2a3f5f"
            },
            "error_y": {
             "color": "#2a3f5f"
            },
            "marker": {
             "line": {
              "color": "#E5ECF6",
              "width": 0.5
             }
            },
            "type": "bar"
           }
          ],
          "barpolar": [
           {
            "marker": {
             "line": {
              "color": "#E5ECF6",
              "width": 0.5
             }
            },
            "type": "barpolar"
           }
          ],
          "carpet": [
           {
            "aaxis": {
             "endlinecolor": "#2a3f5f",
             "gridcolor": "white",
             "linecolor": "white",
             "minorgridcolor": "white",
             "startlinecolor": "#2a3f5f"
            },
            "baxis": {
             "endlinecolor": "#2a3f5f",
             "gridcolor": "white",
             "linecolor": "white",
             "minorgridcolor": "white",
             "startlinecolor": "#2a3f5f"
            },
            "type": "carpet"
           }
          ],
          "choropleth": [
           {
            "colorbar": {
             "outlinewidth": 0,
             "ticks": ""
            },
            "type": "choropleth"
           }
          ],
          "contour": [
           {
            "colorbar": {
             "outlinewidth": 0,
             "ticks": ""
            },
            "colorscale": [
             [
              0,
              "#0d0887"
             ],
             [
              0.1111111111111111,
              "#46039f"
             ],
             [
              0.2222222222222222,
              "#7201a8"
             ],
             [
              0.3333333333333333,
              "#9c179e"
             ],
             [
              0.4444444444444444,
              "#bd3786"
             ],
             [
              0.5555555555555556,
              "#d8576b"
             ],
             [
              0.6666666666666666,
              "#ed7953"
             ],
             [
              0.7777777777777778,
              "#fb9f3a"
             ],
             [
              0.8888888888888888,
              "#fdca26"
             ],
             [
              1,
              "#f0f921"
             ]
            ],
            "type": "contour"
           }
          ],
          "contourcarpet": [
           {
            "colorbar": {
             "outlinewidth": 0,
             "ticks": ""
            },
            "type": "contourcarpet"
           }
          ],
          "heatmap": [
           {
            "colorbar": {
             "outlinewidth": 0,
             "ticks": ""
            },
            "colorscale": [
             [
              0,
              "#0d0887"
             ],
             [
              0.1111111111111111,
              "#46039f"
             ],
             [
              0.2222222222222222,
              "#7201a8"
             ],
             [
              0.3333333333333333,
              "#9c179e"
             ],
             [
              0.4444444444444444,
              "#bd3786"
             ],
             [
              0.5555555555555556,
              "#d8576b"
             ],
             [
              0.6666666666666666,
              "#ed7953"
             ],
             [
              0.7777777777777778,
              "#fb9f3a"
             ],
             [
              0.8888888888888888,
              "#fdca26"
             ],
             [
              1,
              "#f0f921"
             ]
            ],
            "type": "heatmap"
           }
          ],
          "heatmapgl": [
           {
            "colorbar": {
             "outlinewidth": 0,
             "ticks": ""
            },
            "colorscale": [
             [
              0,
              "#0d0887"
             ],
             [
              0.1111111111111111,
              "#46039f"
             ],
             [
              0.2222222222222222,
              "#7201a8"
             ],
             [
              0.3333333333333333,
              "#9c179e"
             ],
             [
              0.4444444444444444,
              "#bd3786"
             ],
             [
              0.5555555555555556,
              "#d8576b"
             ],
             [
              0.6666666666666666,
              "#ed7953"
             ],
             [
              0.7777777777777778,
              "#fb9f3a"
             ],
             [
              0.8888888888888888,
              "#fdca26"
             ],
             [
              1,
              "#f0f921"
             ]
            ],
            "type": "heatmapgl"
           }
          ],
          "histogram": [
           {
            "marker": {
             "colorbar": {
              "outlinewidth": 0,
              "ticks": ""
             }
            },
            "type": "histogram"
           }
          ],
          "histogram2d": [
           {
            "colorbar": {
             "outlinewidth": 0,
             "ticks": ""
            },
            "colorscale": [
             [
              0,
              "#0d0887"
             ],
             [
              0.1111111111111111,
              "#46039f"
             ],
             [
              0.2222222222222222,
              "#7201a8"
             ],
             [
              0.3333333333333333,
              "#9c179e"
             ],
             [
              0.4444444444444444,
              "#bd3786"
             ],
             [
              0.5555555555555556,
              "#d8576b"
             ],
             [
              0.6666666666666666,
              "#ed7953"
             ],
             [
              0.7777777777777778,
              "#fb9f3a"
             ],
             [
              0.8888888888888888,
              "#fdca26"
             ],
             [
              1,
              "#f0f921"
             ]
            ],
            "type": "histogram2d"
           }
          ],
          "histogram2dcontour": [
           {
            "colorbar": {
             "outlinewidth": 0,
             "ticks": ""
            },
            "colorscale": [
             [
              0,
              "#0d0887"
             ],
             [
              0.1111111111111111,
              "#46039f"
             ],
             [
              0.2222222222222222,
              "#7201a8"
             ],
             [
              0.3333333333333333,
              "#9c179e"
             ],
             [
              0.4444444444444444,
              "#bd3786"
             ],
             [
              0.5555555555555556,
              "#d8576b"
             ],
             [
              0.6666666666666666,
              "#ed7953"
             ],
             [
              0.7777777777777778,
              "#fb9f3a"
             ],
             [
              0.8888888888888888,
              "#fdca26"
             ],
             [
              1,
              "#f0f921"
             ]
            ],
            "type": "histogram2dcontour"
           }
          ],
          "mesh3d": [
           {
            "colorbar": {
             "outlinewidth": 0,
             "ticks": ""
            },
            "type": "mesh3d"
           }
          ],
          "parcoords": [
           {
            "line": {
             "colorbar": {
              "outlinewidth": 0,
              "ticks": ""
             }
            },
            "type": "parcoords"
           }
          ],
          "pie": [
           {
            "automargin": true,
            "type": "pie"
           }
          ],
          "scatter": [
           {
            "marker": {
             "colorbar": {
              "outlinewidth": 0,
              "ticks": ""
             }
            },
            "type": "scatter"
           }
          ],
          "scatter3d": [
           {
            "line": {
             "colorbar": {
              "outlinewidth": 0,
              "ticks": ""
             }
            },
            "marker": {
             "colorbar": {
              "outlinewidth": 0,
              "ticks": ""
             }
            },
            "type": "scatter3d"
           }
          ],
          "scattercarpet": [
           {
            "marker": {
             "colorbar": {
              "outlinewidth": 0,
              "ticks": ""
             }
            },
            "type": "scattercarpet"
           }
          ],
          "scattergeo": [
           {
            "marker": {
             "colorbar": {
              "outlinewidth": 0,
              "ticks": ""
             }
            },
            "type": "scattergeo"
           }
          ],
          "scattergl": [
           {
            "marker": {
             "colorbar": {
              "outlinewidth": 0,
              "ticks": ""
             }
            },
            "type": "scattergl"
           }
          ],
          "scattermapbox": [
           {
            "marker": {
             "colorbar": {
              "outlinewidth": 0,
              "ticks": ""
             }
            },
            "type": "scattermapbox"
           }
          ],
          "scatterpolar": [
           {
            "marker": {
             "colorbar": {
              "outlinewidth": 0,
              "ticks": ""
             }
            },
            "type": "scatterpolar"
           }
          ],
          "scatterpolargl": [
           {
            "marker": {
             "colorbar": {
              "outlinewidth": 0,
              "ticks": ""
             }
            },
            "type": "scatterpolargl"
           }
          ],
          "scatterternary": [
           {
            "marker": {
             "colorbar": {
              "outlinewidth": 0,
              "ticks": ""
             }
            },
            "type": "scatterternary"
           }
          ],
          "surface": [
           {
            "colorbar": {
             "outlinewidth": 0,
             "ticks": ""
            },
            "colorscale": [
             [
              0,
              "#0d0887"
             ],
             [
              0.1111111111111111,
              "#46039f"
             ],
             [
              0.2222222222222222,
              "#7201a8"
             ],
             [
              0.3333333333333333,
              "#9c179e"
             ],
             [
              0.4444444444444444,
              "#bd3786"
             ],
             [
              0.5555555555555556,
              "#d8576b"
             ],
             [
              0.6666666666666666,
              "#ed7953"
             ],
             [
              0.7777777777777778,
              "#fb9f3a"
             ],
             [
              0.8888888888888888,
              "#fdca26"
             ],
             [
              1,
              "#f0f921"
             ]
            ],
            "type": "surface"
           }
          ],
          "table": [
           {
            "cells": {
             "fill": {
              "color": "#EBF0F8"
             },
             "line": {
              "color": "white"
             }
            },
            "header": {
             "fill": {
              "color": "#C8D4E3"
             },
             "line": {
              "color": "white"
             }
            },
            "type": "table"
           }
          ]
         },
         "layout": {
          "annotationdefaults": {
           "arrowcolor": "#2a3f5f",
           "arrowhead": 0,
           "arrowwidth": 1
          },
          "coloraxis": {
           "colorbar": {
            "outlinewidth": 0,
            "ticks": ""
           }
          },
          "colorscale": {
           "diverging": [
            [
             0,
             "#8e0152"
            ],
            [
             0.1,
             "#c51b7d"
            ],
            [
             0.2,
             "#de77ae"
            ],
            [
             0.3,
             "#f1b6da"
            ],
            [
             0.4,
             "#fde0ef"
            ],
            [
             0.5,
             "#f7f7f7"
            ],
            [
             0.6,
             "#e6f5d0"
            ],
            [
             0.7,
             "#b8e186"
            ],
            [
             0.8,
             "#7fbc41"
            ],
            [
             0.9,
             "#4d9221"
            ],
            [
             1,
             "#276419"
            ]
           ],
           "sequential": [
            [
             0,
             "#0d0887"
            ],
            [
             0.1111111111111111,
             "#46039f"
            ],
            [
             0.2222222222222222,
             "#7201a8"
            ],
            [
             0.3333333333333333,
             "#9c179e"
            ],
            [
             0.4444444444444444,
             "#bd3786"
            ],
            [
             0.5555555555555556,
             "#d8576b"
            ],
            [
             0.6666666666666666,
             "#ed7953"
            ],
            [
             0.7777777777777778,
             "#fb9f3a"
            ],
            [
             0.8888888888888888,
             "#fdca26"
            ],
            [
             1,
             "#f0f921"
            ]
           ],
           "sequentialminus": [
            [
             0,
             "#0d0887"
            ],
            [
             0.1111111111111111,
             "#46039f"
            ],
            [
             0.2222222222222222,
             "#7201a8"
            ],
            [
             0.3333333333333333,
             "#9c179e"
            ],
            [
             0.4444444444444444,
             "#bd3786"
            ],
            [
             0.5555555555555556,
             "#d8576b"
            ],
            [
             0.6666666666666666,
             "#ed7953"
            ],
            [
             0.7777777777777778,
             "#fb9f3a"
            ],
            [
             0.8888888888888888,
             "#fdca26"
            ],
            [
             1,
             "#f0f921"
            ]
           ]
          },
          "colorway": [
           "#636efa",
           "#EF553B",
           "#00cc96",
           "#ab63fa",
           "#FFA15A",
           "#19d3f3",
           "#FF6692",
           "#B6E880",
           "#FF97FF",
           "#FECB52"
          ],
          "font": {
           "color": "#2a3f5f"
          },
          "geo": {
           "bgcolor": "white",
           "lakecolor": "white",
           "landcolor": "#E5ECF6",
           "showlakes": true,
           "showland": true,
           "subunitcolor": "white"
          },
          "hoverlabel": {
           "align": "left"
          },
          "hovermode": "closest",
          "mapbox": {
           "style": "light"
          },
          "paper_bgcolor": "white",
          "plot_bgcolor": "#E5ECF6",
          "polar": {
           "angularaxis": {
            "gridcolor": "white",
            "linecolor": "white",
            "ticks": ""
           },
           "bgcolor": "#E5ECF6",
           "radialaxis": {
            "gridcolor": "white",
            "linecolor": "white",
            "ticks": ""
           }
          },
          "scene": {
           "xaxis": {
            "backgroundcolor": "#E5ECF6",
            "gridcolor": "white",
            "gridwidth": 2,
            "linecolor": "white",
            "showbackground": true,
            "ticks": "",
            "zerolinecolor": "white"
           },
           "yaxis": {
            "backgroundcolor": "#E5ECF6",
            "gridcolor": "white",
            "gridwidth": 2,
            "linecolor": "white",
            "showbackground": true,
            "ticks": "",
            "zerolinecolor": "white"
           },
           "zaxis": {
            "backgroundcolor": "#E5ECF6",
            "gridcolor": "white",
            "gridwidth": 2,
            "linecolor": "white",
            "showbackground": true,
            "ticks": "",
            "zerolinecolor": "white"
           }
          },
          "shapedefaults": {
           "line": {
            "color": "#2a3f5f"
           }
          },
          "ternary": {
           "aaxis": {
            "gridcolor": "white",
            "linecolor": "white",
            "ticks": ""
           },
           "baxis": {
            "gridcolor": "white",
            "linecolor": "white",
            "ticks": ""
           },
           "bgcolor": "#E5ECF6",
           "caxis": {
            "gridcolor": "white",
            "linecolor": "white",
            "ticks": ""
           }
          },
          "title": {
           "x": 0.05
          },
          "xaxis": {
           "automargin": true,
           "gridcolor": "white",
           "linecolor": "white",
           "ticks": "",
           "title": {
            "standoff": 15
           },
           "zerolinecolor": "white",
           "zerolinewidth": 2
          },
          "yaxis": {
           "automargin": true,
           "gridcolor": "white",
           "linecolor": "white",
           "ticks": "",
           "title": {
            "standoff": 15
           },
           "zerolinecolor": "white",
           "zerolinewidth": 2
          }
         }
        },
        "title": {
         "font": {
          "color": "#4D5663"
         }
        },
        "xaxis": {
         "gridcolor": "#E1E5ED",
         "showgrid": true,
         "tickfont": {
          "color": "#4D5663"
         },
         "title": {
          "font": {
           "color": "#4D5663"
          },
          "text": ""
         },
         "zerolinecolor": "#E1E5ED"
        },
        "xaxis2": {
         "anchor": "y2",
         "gridcolor": "#E1E5ED",
         "showgrid": true,
         "showticklabels": false,
         "tickfont": {
          "color": "#4D5663"
         },
         "title": {
          "font": {
           "color": "#4D5663"
          },
          "text": ""
         },
         "zerolinecolor": "#E1E5ED"
        },
        "yaxis": {
         "domain": [
          0.3,
          1
         ],
         "gridcolor": "#E1E5ED",
         "showgrid": true,
         "tickfont": {
          "color": "#4D5663"
         },
         "title": {
          "font": {
           "color": "#4D5663"
          },
          "text": ""
         },
         "zerolinecolor": "#E1E5ED"
        },
        "yaxis2": {
         "domain": [
          0,
          0.25
         ],
         "gridcolor": "#E1E5ED",
         "showgrid": true,
         "tickfont": {
          "color": "#4D5663"
         },
         "title": {
          "font": {
           "color": "#4D5663"
          },
          "text": "Spread"
         },
         "zerolinecolor": "#E1E5ED"
        }
       }
      },
      "text/html": [
       "<div>\n",
       "        \n",
       "        \n",
       "            <div id=\"50639297-a119-4719-8661-9c1aa785c0b6\" class=\"plotly-graph-div\" style=\"height:525px; width:100%;\"></div>\n",
       "            <script type=\"text/javascript\">\n",
       "                require([\"plotly\"], function(Plotly) {\n",
       "                    window.PLOTLYENV=window.PLOTLYENV || {};\n",
       "                    window.PLOTLYENV.BASE_URL='https://plot.ly';\n",
       "                    \n",
       "                if (document.getElementById(\"50639297-a119-4719-8661-9c1aa785c0b6\")) {\n",
       "                    Plotly.newPlot(\n",
       "                        '50639297-a119-4719-8661-9c1aa785c0b6',\n",
       "                        [{\"line\": {\"color\": \"rgba(255, 153, 51, 1.0)\", \"dash\": \"solid\", \"shape\": \"linear\", \"width\": 1.3}, \"mode\": \"lines\", \"name\": \"A\", \"text\": \"\", \"type\": \"scatter\", \"x\": [0, 1, 2, 3, 4, 5, 6, 7, 8, 9, 10, 11, 12, 13, 14, 15, 16, 17, 18, 19, 20, 21, 22, 23, 24, 25, 26, 27, 28, 29, 30, 31, 32, 33, 34, 35, 36, 37, 38, 39, 40, 41, 42, 43, 44, 45, 46, 47, 48, 49, 50, 51, 52, 53, 54, 55, 56, 57, 58, 59, 60, 61, 62, 63, 64, 65, 66, 67, 68, 69, 70, 71, 72, 73, 74, 75, 76, 77, 78, 79, 80, 81, 82, 83, 84, 85, 86, 87, 88, 89, 90, 91, 92, 93, 94, 95, 96, 97, 98, 99], \"y\": [-0.5009543608026148, -0.4204615151389094, -0.49553283935936165, 0.7657304693445539, -0.07847397916945117, 0.6700761884302777, 1.6148887957746296, -0.14346731599489548, -0.2665864011088299, 1.5203733905118066, -1.6225831980015681, -0.0010036338978958532, -0.20764556384936733, 1.2211140213435423, 0.7616648705923982, 0.8511236141237207, -0.11514925363568562, -0.20936138521130568, -0.23694314875636666, -1.41396658714284, -0.7197209408930788, -0.21986205769332937, 1.0281717480256272, -0.34491294269628503, 1.8387982177216249, 1.7454245898531036, 0.40475695887285834, 0.38445221563913434, 0.09096690376723829, -0.5452474872683721, 0.36883064898417145, 0.471064900436615, 0.08943939927300605, -0.04711988398954826, -0.377726634293231, 0.7896939082042002, 0.2834844224400587, -0.3712372134953554, -0.8239234838514105, -0.24380479792713633, 0.8021227623642619, 0.8595077643277932, -0.89133910900524, -0.08704741110358603, 1.1154306476276132, -0.8232991534045231, 0.03951476468379789, -0.5897579157424271, 0.48638772034887495, -0.23689141912829995, -0.849875469508366, 1.2033244290804135, -0.9707942664404414, 0.5345692965058876, 0.24185563713696623, -1.2480718435113924, -1.9764817321890251, 0.17398462490394964, -0.2958648071038704, -0.9073789839128634, -0.320061959697221, -1.2894563780049575, 0.8162202543091142, 0.7279819747659728, 0.5016314636811545, -1.6350473403411654, 1.112226070703627, -1.3798198056686024, 0.03712506450794439, 0.8725646848428592, -0.062491031397570555, -1.283446523292469, 0.8042769164891135, -1.2878267604909532, -2.4243449762842935, 1.455471611236058, 0.4262483065173007, -1.1011863485263866, 0.36393070625865315, -0.3828540123202687, 0.07374167084754127, -1.3446917941460133, -0.07602512088167016, 2.131579084083562, 0.8633118511617681, 0.9567443066299663, -0.35082901706021047, 0.5353353137007961, -0.06072553628984715, 0.4216056690056466, 1.8201523623294387, -1.4207116091443348, -0.24445402467878669, 1.0790482734281726, -0.301775352771489, -0.463830499688751, -0.48449348616253807, -0.8952937264879816, -0.17464315190589047, -1.5690068772777155]}, {\"line\": {\"color\": \"rgba(55, 128, 191, 1.0)\", \"dash\": \"solid\", \"shape\": \"linear\", \"width\": 1.3}, \"mode\": \"lines\", \"name\": \"B\", \"text\": \"\", \"type\": \"scatter\", \"x\": [0, 1, 2, 3, 4, 5, 6, 7, 8, 9, 10, 11, 12, 13, 14, 15, 16, 17, 18, 19, 20, 21, 22, 23, 24, 25, 26, 27, 28, 29, 30, 31, 32, 33, 34, 35, 36, 37, 38, 39, 40, 41, 42, 43, 44, 45, 46, 47, 48, 49, 50, 51, 52, 53, 54, 55, 56, 57, 58, 59, 60, 61, 62, 63, 64, 65, 66, 67, 68, 69, 70, 71, 72, 73, 74, 75, 76, 77, 78, 79, 80, 81, 82, 83, 84, 85, 86, 87, 88, 89, 90, 91, 92, 93, 94, 95, 96, 97, 98, 99], \"y\": [0.4647073083742839, -0.05638983549159592, 0.8211639860066423, -0.5302111813539075, -0.026095626254060273, 0.934819749012539, -0.06881896608775859, 0.7431747218014507, -0.6634138417015264, -0.6407659494255311, -2.0830026972903197, 1.8045522880146014, 1.037149625547556, 0.3248740795752661, 0.16422555997258756, -0.04448673216754261, -1.1666989664863299, -0.34489031820823246, 0.023191019187505314, -1.130997876996157, 0.6537048033347655, -2.008977265519097, 2.1187636059019828, -0.14720374779769907, -0.4119883895674882, -0.01889786289040426, -0.5408825560442116, 0.6532664735645086, 0.3019048417424934, 1.6458305129952842, 0.6030209295808521, -0.3623998992628467, -1.354212000595378, -1.172657051102667, -0.1769801146101835, 2.2055905103394196, 0.2760796035999615, -1.7813429624595076, 0.7750526626200264, -0.5805198523009042, -1.0618189104978328, 0.18946634999859532, 0.381459586503324, -0.9242275271954474, -0.5628414484788141, -0.8638503681130342, -0.12409497161196388, 1.0458509752935239, -0.695096587506082, 1.2734349572542032, 0.24242678837999837, -0.5467390258304995, -0.6363370209478098, 2.013175801488738, 0.7725826019693162, -0.3915999325975337, -0.21384985463778458, 1.4732988178499873, -1.946677160191751, 0.40084042312757945, 1.3366011084629332, -0.3613636341442311, 0.5298250484301542, 1.4558635024058049, -0.6318727492567257, -0.8227985700773811, -0.5377019717823004, -1.7902939476280129, -0.26846879662803125, 1.465181281886347, 2.3219711044551956, 0.9250989703211202, 0.8916825245438201, -1.1517637591562595, -0.19150262412323274, 1.4792770255841388, 1.6861949140510182, 0.4512015631832032, 0.1485498153576192, 0.7032594474993233, 1.398402958112115, -0.0031789942556199823, -0.6032519124226736, 0.9550811638193741, 1.737666005127905, 1.060053557429989, 1.2895208947773007, -1.1953320328355028, 1.782261738784618, 1.9306290169917022, -0.7425207838161446, -0.9754342092359741, 0.9982550336125903, 0.04387350789025311, -0.6029540220032642, -0.3176203472281875, 1.3016837317080092, 1.319139155169162, 0.60300051445889, -0.4734361308297189]}, {\"connectgaps\": false, \"fill\": \"tozeroy\", \"line\": {\"color\": \"green\", \"dash\": \"solid\", \"shape\": \"linear\", \"width\": 0.5}, \"mode\": \"lines\", \"name\": \"Spread\", \"showlegend\": false, \"type\": \"scatter\", \"x\": [0, 1, 2, 3, 4, 5, 6, 7, 8, 9, 10, 11, 12, 13, 14, 15, 16, 17, 18, 19, 20, 21, 22, 23, 24, 25, 26, 27, 28, 29, 30, 31, 32, 33, 34, 35, 36, 37, 38, 39, 40, 41, 42, 43, 44, 45, 46, 47, 48, 49, 50, 51, 52, 53, 54, 55, 56, 57, 58, 59, 60, 61, 62, 63, 64, 65, 66, 67, 68, 69, 70, 71, 72, 73, 74, 75, 76, 77, 78, 79, 80, 81, 82, 83, 84, 85, 86, 87, 88, 89, 90, 91, 92, 93, 94, 95, 96, 97, 98, 99], \"xaxis\": \"x2\", \"y\": [\"\", \"\", \"\", 1.2959416506984613, \"\", \"\", 1.6837077618623881, \"\", 0.3968274405926965, 2.1611393399373378, 0.4604194992887516, \"\", \"\", 0.8962399417682763, 0.5974393106198106, 0.8956103462912633, 1.0515497128506444, 0.13552893299692678, \"\", \"\", \"\", 1.7891152078257677, \"\", \"\", 2.250786607289113, 1.7643224527435077, 0.94563951491707, \"\", \"\", \"\", \"\", 0.8334647996994617, 1.443651399868384, 1.1255371671131187, \"\", \"\", 0.007404818840097249, 1.4101057489641522, \"\", 0.33671505437376786, 1.8639416728620948, 0.6700414143291978, \"\", 0.8371801160918614, 1.6782720961064275, 0.040551214708511085, 0.16360973629576175, \"\", 1.181484307854957, \"\", \"\", 1.7500634549109129, \"\", \"\", \"\", \"\", \"\", \"\", 1.6508123530878804, \"\", \"\", \"\", 0.28639520587895995, \"\", 1.13350421293788, \"\", 1.6499280424859273, 0.41047414195941045, 0.30559386113597564, \"\", \"\", \"\", \"\", \"\", \"\", \"\", \"\", \"\", 0.21538089090103393, \"\", \"\", \"\", 0.5272267915410035, 1.1764979202641876, \"\", \"\", \"\", 1.730667346536299, \"\", \"\", 2.5626731461455834, \"\", \"\", 1.0351747655379195, 0.3011786692317752, \"\", \"\", \"\", \"\", \"\"], \"yaxis\": \"y2\"}, {\"connectgaps\": false, \"fill\": \"tozeroy\", \"line\": {\"color\": \"red\", \"dash\": \"solid\", \"shape\": \"linear\", \"width\": 0.5}, \"mode\": \"lines\", \"name\": \"Spread\", \"showlegend\": false, \"type\": \"scatter\", \"x\": [0, 1, 2, 3, 4, 5, 6, 7, 8, 9, 10, 11, 12, 13, 14, 15, 16, 17, 18, 19, 20, 21, 22, 23, 24, 25, 26, 27, 28, 29, 30, 31, 32, 33, 34, 35, 36, 37, 38, 39, 40, 41, 42, 43, 44, 45, 46, 47, 48, 49, 50, 51, 52, 53, 54, 55, 56, 57, 58, 59, 60, 61, 62, 63, 64, 65, 66, 67, 68, 69, 70, 71, 72, 73, 74, 75, 76, 77, 78, 79, 80, 81, 82, 83, 84, 85, 86, 87, 88, 89, 90, 91, 92, 93, 94, 95, 96, 97, 98, 99], \"xaxis\": \"x2\", \"y\": [-0.9656616691768987, -0.36407167964731346, -1.3166968253660039, \"\", -0.052378352915390905, -0.26474356058226123, \"\", -0.8866420377963462, \"\", \"\", \"\", -1.8055559219124973, -1.2447951893969234, \"\", \"\", \"\", \"\", \"\", -0.26013416794387195, -0.2829687101466829, -1.3734257442278444, \"\", -1.0905918578763556, -0.19770919489858596, \"\", \"\", \"\", -0.2688142579253743, -0.2109379379752551, -2.1910780002636563, -0.23419028059668062, \"\", \"\", \"\", -0.2007465196830475, -1.4158966021352195, \"\", \"\", -1.5989761464714367, \"\", \"\", \"\", -1.272798695508564, \"\", \"\", \"\", \"\", -1.635608891035951, \"\", -1.5103263763825032, -1.0923022578883643, \"\", -0.33445724549263167, -1.4786065049828503, -0.5307269648323499, -0.8564719109138588, -1.7626318775512406, -1.2993141929460377, \"\", -1.308219407040443, -1.6566630681601542, -0.9280927438607264, \"\", -0.727881527639832, \"\", -0.8122487702637843, \"\", \"\", \"\", -0.5926165970434878, -2.384462135852766, -2.208545493613589, -0.08740560805470665, -0.13606300133469373, -2.2328423521610605, -0.02380541434808081, -1.2599466075337173, -1.5523879117095898, \"\", -1.086113459819592, -1.3246612872645736, -1.3415127998903933, \"\", \"\", -0.8743541539661368, -0.10330925080002262, -1.640349911837511, \"\", -1.8429872750744651, -1.5090233479860555, \"\", -0.4452773999083607, -1.242709058291377, \"\", \"\", -0.14621015246056351, -1.7861772178705473, -2.2144328816571437, -0.7776436663647806, -1.0955707464479967], \"yaxis\": \"y2\"}],\n",
       "                        {\"hovermode\": \"x\", \"legend\": {\"bgcolor\": \"#F5F6F9\", \"font\": {\"color\": \"#4D5663\"}}, \"paper_bgcolor\": \"#F5F6F9\", \"plot_bgcolor\": \"#F5F6F9\", \"template\": {\"data\": {\"bar\": [{\"error_x\": {\"color\": \"#2a3f5f\"}, \"error_y\": {\"color\": \"#2a3f5f\"}, \"marker\": {\"line\": {\"color\": \"#E5ECF6\", \"width\": 0.5}}, \"type\": \"bar\"}], \"barpolar\": [{\"marker\": {\"line\": {\"color\": \"#E5ECF6\", \"width\": 0.5}}, \"type\": \"barpolar\"}], \"carpet\": [{\"aaxis\": {\"endlinecolor\": \"#2a3f5f\", \"gridcolor\": \"white\", \"linecolor\": \"white\", \"minorgridcolor\": \"white\", \"startlinecolor\": \"#2a3f5f\"}, \"baxis\": {\"endlinecolor\": \"#2a3f5f\", \"gridcolor\": \"white\", \"linecolor\": \"white\", \"minorgridcolor\": \"white\", \"startlinecolor\": \"#2a3f5f\"}, \"type\": \"carpet\"}], \"choropleth\": [{\"colorbar\": {\"outlinewidth\": 0, \"ticks\": \"\"}, \"type\": \"choropleth\"}], \"contour\": [{\"colorbar\": {\"outlinewidth\": 0, \"ticks\": \"\"}, \"colorscale\": [[0.0, \"#0d0887\"], [0.1111111111111111, \"#46039f\"], [0.2222222222222222, \"#7201a8\"], [0.3333333333333333, \"#9c179e\"], [0.4444444444444444, \"#bd3786\"], [0.5555555555555556, \"#d8576b\"], [0.6666666666666666, \"#ed7953\"], [0.7777777777777778, \"#fb9f3a\"], [0.8888888888888888, \"#fdca26\"], [1.0, \"#f0f921\"]], \"type\": \"contour\"}], \"contourcarpet\": [{\"colorbar\": {\"outlinewidth\": 0, \"ticks\": \"\"}, \"type\": \"contourcarpet\"}], \"heatmap\": [{\"colorbar\": {\"outlinewidth\": 0, \"ticks\": \"\"}, \"colorscale\": [[0.0, \"#0d0887\"], [0.1111111111111111, \"#46039f\"], [0.2222222222222222, \"#7201a8\"], [0.3333333333333333, \"#9c179e\"], [0.4444444444444444, \"#bd3786\"], [0.5555555555555556, \"#d8576b\"], [0.6666666666666666, \"#ed7953\"], [0.7777777777777778, \"#fb9f3a\"], [0.8888888888888888, \"#fdca26\"], [1.0, \"#f0f921\"]], \"type\": \"heatmap\"}], \"heatmapgl\": [{\"colorbar\": {\"outlinewidth\": 0, \"ticks\": \"\"}, \"colorscale\": [[0.0, \"#0d0887\"], [0.1111111111111111, \"#46039f\"], [0.2222222222222222, \"#7201a8\"], [0.3333333333333333, \"#9c179e\"], [0.4444444444444444, \"#bd3786\"], [0.5555555555555556, \"#d8576b\"], [0.6666666666666666, \"#ed7953\"], [0.7777777777777778, \"#fb9f3a\"], [0.8888888888888888, \"#fdca26\"], [1.0, \"#f0f921\"]], \"type\": \"heatmapgl\"}], \"histogram\": [{\"marker\": {\"colorbar\": {\"outlinewidth\": 0, \"ticks\": \"\"}}, \"type\": \"histogram\"}], \"histogram2d\": [{\"colorbar\": {\"outlinewidth\": 0, \"ticks\": \"\"}, \"colorscale\": [[0.0, \"#0d0887\"], [0.1111111111111111, \"#46039f\"], [0.2222222222222222, \"#7201a8\"], [0.3333333333333333, \"#9c179e\"], [0.4444444444444444, \"#bd3786\"], [0.5555555555555556, \"#d8576b\"], [0.6666666666666666, \"#ed7953\"], [0.7777777777777778, \"#fb9f3a\"], [0.8888888888888888, \"#fdca26\"], [1.0, \"#f0f921\"]], \"type\": \"histogram2d\"}], \"histogram2dcontour\": [{\"colorbar\": {\"outlinewidth\": 0, \"ticks\": \"\"}, \"colorscale\": [[0.0, \"#0d0887\"], [0.1111111111111111, \"#46039f\"], [0.2222222222222222, \"#7201a8\"], [0.3333333333333333, \"#9c179e\"], [0.4444444444444444, \"#bd3786\"], [0.5555555555555556, \"#d8576b\"], [0.6666666666666666, \"#ed7953\"], [0.7777777777777778, \"#fb9f3a\"], [0.8888888888888888, \"#fdca26\"], [1.0, \"#f0f921\"]], \"type\": \"histogram2dcontour\"}], \"mesh3d\": [{\"colorbar\": {\"outlinewidth\": 0, \"ticks\": \"\"}, \"type\": \"mesh3d\"}], \"parcoords\": [{\"line\": {\"colorbar\": {\"outlinewidth\": 0, \"ticks\": \"\"}}, \"type\": \"parcoords\"}], \"pie\": [{\"automargin\": true, \"type\": \"pie\"}], \"scatter\": [{\"marker\": {\"colorbar\": {\"outlinewidth\": 0, \"ticks\": \"\"}}, \"type\": \"scatter\"}], \"scatter3d\": [{\"line\": {\"colorbar\": {\"outlinewidth\": 0, \"ticks\": \"\"}}, \"marker\": {\"colorbar\": {\"outlinewidth\": 0, \"ticks\": \"\"}}, \"type\": \"scatter3d\"}], \"scattercarpet\": [{\"marker\": {\"colorbar\": {\"outlinewidth\": 0, \"ticks\": \"\"}}, \"type\": \"scattercarpet\"}], \"scattergeo\": [{\"marker\": {\"colorbar\": {\"outlinewidth\": 0, \"ticks\": \"\"}}, \"type\": \"scattergeo\"}], \"scattergl\": [{\"marker\": {\"colorbar\": {\"outlinewidth\": 0, \"ticks\": \"\"}}, \"type\": \"scattergl\"}], \"scattermapbox\": [{\"marker\": {\"colorbar\": {\"outlinewidth\": 0, \"ticks\": \"\"}}, \"type\": \"scattermapbox\"}], \"scatterpolar\": [{\"marker\": {\"colorbar\": {\"outlinewidth\": 0, \"ticks\": \"\"}}, \"type\": \"scatterpolar\"}], \"scatterpolargl\": [{\"marker\": {\"colorbar\": {\"outlinewidth\": 0, \"ticks\": \"\"}}, \"type\": \"scatterpolargl\"}], \"scatterternary\": [{\"marker\": {\"colorbar\": {\"outlinewidth\": 0, \"ticks\": \"\"}}, \"type\": \"scatterternary\"}], \"surface\": [{\"colorbar\": {\"outlinewidth\": 0, \"ticks\": \"\"}, \"colorscale\": [[0.0, \"#0d0887\"], [0.1111111111111111, \"#46039f\"], [0.2222222222222222, \"#7201a8\"], [0.3333333333333333, \"#9c179e\"], [0.4444444444444444, \"#bd3786\"], [0.5555555555555556, \"#d8576b\"], [0.6666666666666666, \"#ed7953\"], [0.7777777777777778, \"#fb9f3a\"], [0.8888888888888888, \"#fdca26\"], [1.0, \"#f0f921\"]], \"type\": \"surface\"}], \"table\": [{\"cells\": {\"fill\": {\"color\": \"#EBF0F8\"}, \"line\": {\"color\": \"white\"}}, \"header\": {\"fill\": {\"color\": \"#C8D4E3\"}, \"line\": {\"color\": \"white\"}}, \"type\": \"table\"}]}, \"layout\": {\"annotationdefaults\": {\"arrowcolor\": \"#2a3f5f\", \"arrowhead\": 0, \"arrowwidth\": 1}, \"coloraxis\": {\"colorbar\": {\"outlinewidth\": 0, \"ticks\": \"\"}}, \"colorscale\": {\"diverging\": [[0, \"#8e0152\"], [0.1, \"#c51b7d\"], [0.2, \"#de77ae\"], [0.3, \"#f1b6da\"], [0.4, \"#fde0ef\"], [0.5, \"#f7f7f7\"], [0.6, \"#e6f5d0\"], [0.7, \"#b8e186\"], [0.8, \"#7fbc41\"], [0.9, \"#4d9221\"], [1, \"#276419\"]], \"sequential\": [[0.0, \"#0d0887\"], [0.1111111111111111, \"#46039f\"], [0.2222222222222222, \"#7201a8\"], [0.3333333333333333, \"#9c179e\"], [0.4444444444444444, \"#bd3786\"], [0.5555555555555556, \"#d8576b\"], [0.6666666666666666, \"#ed7953\"], [0.7777777777777778, \"#fb9f3a\"], [0.8888888888888888, \"#fdca26\"], [1.0, \"#f0f921\"]], \"sequentialminus\": [[0.0, \"#0d0887\"], [0.1111111111111111, \"#46039f\"], [0.2222222222222222, \"#7201a8\"], [0.3333333333333333, \"#9c179e\"], [0.4444444444444444, \"#bd3786\"], [0.5555555555555556, \"#d8576b\"], [0.6666666666666666, \"#ed7953\"], [0.7777777777777778, \"#fb9f3a\"], [0.8888888888888888, \"#fdca26\"], [1.0, \"#f0f921\"]]}, \"colorway\": [\"#636efa\", \"#EF553B\", \"#00cc96\", \"#ab63fa\", \"#FFA15A\", \"#19d3f3\", \"#FF6692\", \"#B6E880\", \"#FF97FF\", \"#FECB52\"], \"font\": {\"color\": \"#2a3f5f\"}, \"geo\": {\"bgcolor\": \"white\", \"lakecolor\": \"white\", \"landcolor\": \"#E5ECF6\", \"showlakes\": true, \"showland\": true, \"subunitcolor\": \"white\"}, \"hoverlabel\": {\"align\": \"left\"}, \"hovermode\": \"closest\", \"mapbox\": {\"style\": \"light\"}, \"paper_bgcolor\": \"white\", \"plot_bgcolor\": \"#E5ECF6\", \"polar\": {\"angularaxis\": {\"gridcolor\": \"white\", \"linecolor\": \"white\", \"ticks\": \"\"}, \"bgcolor\": \"#E5ECF6\", \"radialaxis\": {\"gridcolor\": \"white\", \"linecolor\": \"white\", \"ticks\": \"\"}}, \"scene\": {\"xaxis\": {\"backgroundcolor\": \"#E5ECF6\", \"gridcolor\": \"white\", \"gridwidth\": 2, \"linecolor\": \"white\", \"showbackground\": true, \"ticks\": \"\", \"zerolinecolor\": \"white\"}, \"yaxis\": {\"backgroundcolor\": \"#E5ECF6\", \"gridcolor\": \"white\", \"gridwidth\": 2, \"linecolor\": \"white\", \"showbackground\": true, \"ticks\": \"\", \"zerolinecolor\": \"white\"}, \"zaxis\": {\"backgroundcolor\": \"#E5ECF6\", \"gridcolor\": \"white\", \"gridwidth\": 2, \"linecolor\": \"white\", \"showbackground\": true, \"ticks\": \"\", \"zerolinecolor\": \"white\"}}, \"shapedefaults\": {\"line\": {\"color\": \"#2a3f5f\"}}, \"ternary\": {\"aaxis\": {\"gridcolor\": \"white\", \"linecolor\": \"white\", \"ticks\": \"\"}, \"baxis\": {\"gridcolor\": \"white\", \"linecolor\": \"white\", \"ticks\": \"\"}, \"bgcolor\": \"#E5ECF6\", \"caxis\": {\"gridcolor\": \"white\", \"linecolor\": \"white\", \"ticks\": \"\"}}, \"title\": {\"x\": 0.05}, \"xaxis\": {\"automargin\": true, \"gridcolor\": \"white\", \"linecolor\": \"white\", \"ticks\": \"\", \"title\": {\"standoff\": 15}, \"zerolinecolor\": \"white\", \"zerolinewidth\": 2}, \"yaxis\": {\"automargin\": true, \"gridcolor\": \"white\", \"linecolor\": \"white\", \"ticks\": \"\", \"title\": {\"standoff\": 15}, \"zerolinecolor\": \"white\", \"zerolinewidth\": 2}}}, \"title\": {\"font\": {\"color\": \"#4D5663\"}}, \"xaxis\": {\"gridcolor\": \"#E1E5ED\", \"showgrid\": true, \"tickfont\": {\"color\": \"#4D5663\"}, \"title\": {\"font\": {\"color\": \"#4D5663\"}, \"text\": \"\"}, \"zerolinecolor\": \"#E1E5ED\"}, \"xaxis2\": {\"anchor\": \"y2\", \"gridcolor\": \"#E1E5ED\", \"showgrid\": true, \"showticklabels\": false, \"tickfont\": {\"color\": \"#4D5663\"}, \"title\": {\"font\": {\"color\": \"#4D5663\"}, \"text\": \"\"}, \"zerolinecolor\": \"#E1E5ED\"}, \"yaxis\": {\"domain\": [0.3, 1], \"gridcolor\": \"#E1E5ED\", \"showgrid\": true, \"tickfont\": {\"color\": \"#4D5663\"}, \"title\": {\"font\": {\"color\": \"#4D5663\"}, \"text\": \"\"}, \"zerolinecolor\": \"#E1E5ED\"}, \"yaxis2\": {\"domain\": [0, 0.25], \"gridcolor\": \"#E1E5ED\", \"showgrid\": true, \"tickfont\": {\"color\": \"#4D5663\"}, \"title\": {\"font\": {\"color\": \"#4D5663\"}, \"text\": \"Spread\"}, \"zerolinecolor\": \"#E1E5ED\"}},\n",
       "                        {\"showLink\": true, \"linkText\": \"Export to plot.ly\", \"plotlyServerURL\": \"https://plot.ly\", \"responsive\": true}\n",
       "                    ).then(function(){\n",
       "                            \n",
       "var gd = document.getElementById('50639297-a119-4719-8661-9c1aa785c0b6');\n",
       "var x = new MutationObserver(function (mutations, observer) {{\n",
       "        var display = window.getComputedStyle(gd).display;\n",
       "        if (!display || display === 'none') {{\n",
       "            console.log([gd, 'removed!']);\n",
       "            Plotly.purge(gd);\n",
       "            observer.disconnect();\n",
       "        }}\n",
       "}});\n",
       "\n",
       "// Listen for the removal of the full notebook cells\n",
       "var notebookContainer = gd.closest('#notebook-container');\n",
       "if (notebookContainer) {{\n",
       "    x.observe(notebookContainer, {childList: true});\n",
       "}}\n",
       "\n",
       "// Listen for the clearing of the current output cell\n",
       "var outputEl = gd.closest('.output');\n",
       "if (outputEl) {{\n",
       "    x.observe(outputEl, {childList: true});\n",
       "}}\n",
       "\n",
       "                        })\n",
       "                };\n",
       "                });\n",
       "            </script>\n",
       "        </div>"
      ]
     },
     "metadata": {},
     "output_type": "display_data"
    }
   ],
   "source": [
    "df[['A','B']].iplot(kind='spread') # spread layout, very informative"
   ]
  },
  {
   "cell_type": "code",
   "execution_count": 64,
   "metadata": {},
   "outputs": [],
   "source": [
    "# bubble plot"
   ]
  },
  {
   "cell_type": "code",
   "execution_count": 66,
   "metadata": {},
   "outputs": [
    {
     "data": {
      "application/vnd.plotly.v1+json": {
       "config": {
        "linkText": "Export to plot.ly",
        "plotlyServerURL": "https://plot.ly",
        "showLink": true
       },
       "data": [
        {
         "marker": {
          "color": [
           "rgb(255, 153, 51)",
           "rgb(55, 128, 191)",
           "rgb(50, 171, 96)",
           "rgb(128, 0, 128)",
           "rgb(219, 64, 82)",
           "rgb(0, 128, 128)",
           "rgb(255, 255, 51)",
           "rgb(128, 128, 0)",
           "rgb(251, 128, 114)",
           "rgb(128, 177, 211)"
          ],
          "line": {
           "width": 1.3
          },
          "size": [
           49,
           31,
           70,
           39,
           58,
           57,
           48,
           43,
           42,
           93,
           69,
           67,
           76,
           52,
           50,
           35,
           30,
           68,
           36,
           68,
           54,
           61,
           58,
           18,
           30,
           58,
           43,
           46,
           32,
           48,
           36,
           62,
           56,
           64,
           38,
           69,
           41,
           70,
           67,
           46,
           39,
           71,
           54,
           35,
           66,
           40,
           93,
           36,
           65,
           74,
           112,
           78,
           79,
           60,
           85,
           50,
           46,
           46,
           32,
           45,
           55,
           79,
           44,
           63,
           71,
           12,
           35,
           68,
           50,
           46,
           54,
           57,
           53,
           55,
           41,
           55,
           81,
           96,
           64,
           83,
           31,
           63,
           50,
           83,
           42,
           23,
           67,
           91,
           37,
           38,
           75,
           55,
           41,
           70,
           55,
           45,
           49,
           65,
           72,
           48
          ],
          "symbol": "circle"
         },
         "mode": "markers",
         "text": "",
         "type": "scatter",
         "x": [
          -0.5009543608026148,
          -0.4204615151389094,
          -0.49553283935936165,
          0.7657304693445539,
          -0.07847397916945117,
          0.6700761884302777,
          1.6148887957746296,
          -0.14346731599489548,
          -0.2665864011088299,
          1.5203733905118066,
          -1.6225831980015681,
          -0.0010036338978958532,
          -0.20764556384936733,
          1.2211140213435423,
          0.7616648705923982,
          0.8511236141237207,
          -0.11514925363568562,
          -0.20936138521130568,
          -0.23694314875636666,
          -1.41396658714284,
          -0.7197209408930788,
          -0.21986205769332937,
          1.0281717480256272,
          -0.34491294269628503,
          1.8387982177216249,
          1.7454245898531036,
          0.40475695887285834,
          0.38445221563913434,
          0.09096690376723829,
          -0.5452474872683721,
          0.36883064898417145,
          0.471064900436615,
          0.08943939927300605,
          -0.04711988398954826,
          -0.377726634293231,
          0.7896939082042002,
          0.2834844224400587,
          -0.3712372134953554,
          -0.8239234838514105,
          -0.24380479792713633,
          0.8021227623642619,
          0.8595077643277932,
          -0.89133910900524,
          -0.08704741110358603,
          1.1154306476276132,
          -0.8232991534045231,
          0.03951476468379789,
          -0.5897579157424271,
          0.48638772034887495,
          -0.23689141912829995,
          -0.849875469508366,
          1.2033244290804135,
          -0.9707942664404414,
          0.5345692965058876,
          0.24185563713696623,
          -1.2480718435113924,
          -1.9764817321890251,
          0.17398462490394964,
          -0.2958648071038704,
          -0.9073789839128634,
          -0.320061959697221,
          -1.2894563780049575,
          0.8162202543091142,
          0.7279819747659728,
          0.5016314636811545,
          -1.6350473403411654,
          1.112226070703627,
          -1.3798198056686024,
          0.03712506450794439,
          0.8725646848428592,
          -0.062491031397570555,
          -1.283446523292469,
          0.8042769164891135,
          -1.2878267604909532,
          -2.4243449762842935,
          1.455471611236058,
          0.4262483065173007,
          -1.1011863485263866,
          0.36393070625865315,
          -0.3828540123202687,
          0.07374167084754127,
          -1.3446917941460133,
          -0.07602512088167016,
          2.131579084083562,
          0.8633118511617681,
          0.9567443066299663,
          -0.35082901706021047,
          0.5353353137007961,
          -0.06072553628984715,
          0.4216056690056466,
          1.8201523623294387,
          -1.4207116091443348,
          -0.24445402467878669,
          1.0790482734281726,
          -0.301775352771489,
          -0.463830499688751,
          -0.48449348616253807,
          -0.8952937264879816,
          -0.17464315190589047,
          -1.5690068772777155
         ],
         "y": [
          0.4647073083742839,
          -0.05638983549159592,
          0.8211639860066423,
          -0.5302111813539075,
          -0.026095626254060273,
          0.934819749012539,
          -0.06881896608775859,
          0.7431747218014507,
          -0.6634138417015264,
          -0.6407659494255311,
          -2.0830026972903197,
          1.8045522880146014,
          1.037149625547556,
          0.3248740795752661,
          0.16422555997258756,
          -0.04448673216754261,
          -1.1666989664863299,
          -0.34489031820823246,
          0.023191019187505314,
          -1.130997876996157,
          0.6537048033347655,
          -2.008977265519097,
          2.1187636059019828,
          -0.14720374779769907,
          -0.4119883895674882,
          -0.01889786289040426,
          -0.5408825560442116,
          0.6532664735645086,
          0.3019048417424934,
          1.6458305129952842,
          0.6030209295808521,
          -0.3623998992628467,
          -1.354212000595378,
          -1.172657051102667,
          -0.1769801146101835,
          2.2055905103394196,
          0.2760796035999615,
          -1.7813429624595076,
          0.7750526626200264,
          -0.5805198523009042,
          -1.0618189104978328,
          0.18946634999859532,
          0.381459586503324,
          -0.9242275271954474,
          -0.5628414484788141,
          -0.8638503681130342,
          -0.12409497161196388,
          1.0458509752935239,
          -0.695096587506082,
          1.2734349572542032,
          0.24242678837999837,
          -0.5467390258304995,
          -0.6363370209478098,
          2.013175801488738,
          0.7725826019693162,
          -0.3915999325975337,
          -0.21384985463778458,
          1.4732988178499873,
          -1.946677160191751,
          0.40084042312757945,
          1.3366011084629332,
          -0.3613636341442311,
          0.5298250484301542,
          1.4558635024058049,
          -0.6318727492567257,
          -0.8227985700773811,
          -0.5377019717823004,
          -1.7902939476280129,
          -0.26846879662803125,
          1.465181281886347,
          2.3219711044551956,
          0.9250989703211202,
          0.8916825245438201,
          -1.1517637591562595,
          -0.19150262412323274,
          1.4792770255841388,
          1.6861949140510182,
          0.4512015631832032,
          0.1485498153576192,
          0.7032594474993233,
          1.398402958112115,
          -0.0031789942556199823,
          -0.6032519124226736,
          0.9550811638193741,
          1.737666005127905,
          1.060053557429989,
          1.2895208947773007,
          -1.1953320328355028,
          1.782261738784618,
          1.9306290169917022,
          -0.7425207838161446,
          -0.9754342092359741,
          0.9982550336125903,
          0.04387350789025311,
          -0.6029540220032642,
          -0.3176203472281875,
          1.3016837317080092,
          1.319139155169162,
          0.60300051445889,
          -0.4734361308297189
         ]
        }
       ],
       "layout": {
        "legend": {
         "bgcolor": "#F5F6F9",
         "font": {
          "color": "#4D5663"
         }
        },
        "paper_bgcolor": "#F5F6F9",
        "plot_bgcolor": "#F5F6F9",
        "template": {
         "data": {
          "bar": [
           {
            "error_x": {
             "color": "#2a3f5f"
            },
            "error_y": {
             "color": "#2a3f5f"
            },
            "marker": {
             "line": {
              "color": "#E5ECF6",
              "width": 0.5
             }
            },
            "type": "bar"
           }
          ],
          "barpolar": [
           {
            "marker": {
             "line": {
              "color": "#E5ECF6",
              "width": 0.5
             }
            },
            "type": "barpolar"
           }
          ],
          "carpet": [
           {
            "aaxis": {
             "endlinecolor": "#2a3f5f",
             "gridcolor": "white",
             "linecolor": "white",
             "minorgridcolor": "white",
             "startlinecolor": "#2a3f5f"
            },
            "baxis": {
             "endlinecolor": "#2a3f5f",
             "gridcolor": "white",
             "linecolor": "white",
             "minorgridcolor": "white",
             "startlinecolor": "#2a3f5f"
            },
            "type": "carpet"
           }
          ],
          "choropleth": [
           {
            "colorbar": {
             "outlinewidth": 0,
             "ticks": ""
            },
            "type": "choropleth"
           }
          ],
          "contour": [
           {
            "colorbar": {
             "outlinewidth": 0,
             "ticks": ""
            },
            "colorscale": [
             [
              0,
              "#0d0887"
             ],
             [
              0.1111111111111111,
              "#46039f"
             ],
             [
              0.2222222222222222,
              "#7201a8"
             ],
             [
              0.3333333333333333,
              "#9c179e"
             ],
             [
              0.4444444444444444,
              "#bd3786"
             ],
             [
              0.5555555555555556,
              "#d8576b"
             ],
             [
              0.6666666666666666,
              "#ed7953"
             ],
             [
              0.7777777777777778,
              "#fb9f3a"
             ],
             [
              0.8888888888888888,
              "#fdca26"
             ],
             [
              1,
              "#f0f921"
             ]
            ],
            "type": "contour"
           }
          ],
          "contourcarpet": [
           {
            "colorbar": {
             "outlinewidth": 0,
             "ticks": ""
            },
            "type": "contourcarpet"
           }
          ],
          "heatmap": [
           {
            "colorbar": {
             "outlinewidth": 0,
             "ticks": ""
            },
            "colorscale": [
             [
              0,
              "#0d0887"
             ],
             [
              0.1111111111111111,
              "#46039f"
             ],
             [
              0.2222222222222222,
              "#7201a8"
             ],
             [
              0.3333333333333333,
              "#9c179e"
             ],
             [
              0.4444444444444444,
              "#bd3786"
             ],
             [
              0.5555555555555556,
              "#d8576b"
             ],
             [
              0.6666666666666666,
              "#ed7953"
             ],
             [
              0.7777777777777778,
              "#fb9f3a"
             ],
             [
              0.8888888888888888,
              "#fdca26"
             ],
             [
              1,
              "#f0f921"
             ]
            ],
            "type": "heatmap"
           }
          ],
          "heatmapgl": [
           {
            "colorbar": {
             "outlinewidth": 0,
             "ticks": ""
            },
            "colorscale": [
             [
              0,
              "#0d0887"
             ],
             [
              0.1111111111111111,
              "#46039f"
             ],
             [
              0.2222222222222222,
              "#7201a8"
             ],
             [
              0.3333333333333333,
              "#9c179e"
             ],
             [
              0.4444444444444444,
              "#bd3786"
             ],
             [
              0.5555555555555556,
              "#d8576b"
             ],
             [
              0.6666666666666666,
              "#ed7953"
             ],
             [
              0.7777777777777778,
              "#fb9f3a"
             ],
             [
              0.8888888888888888,
              "#fdca26"
             ],
             [
              1,
              "#f0f921"
             ]
            ],
            "type": "heatmapgl"
           }
          ],
          "histogram": [
           {
            "marker": {
             "colorbar": {
              "outlinewidth": 0,
              "ticks": ""
             }
            },
            "type": "histogram"
           }
          ],
          "histogram2d": [
           {
            "colorbar": {
             "outlinewidth": 0,
             "ticks": ""
            },
            "colorscale": [
             [
              0,
              "#0d0887"
             ],
             [
              0.1111111111111111,
              "#46039f"
             ],
             [
              0.2222222222222222,
              "#7201a8"
             ],
             [
              0.3333333333333333,
              "#9c179e"
             ],
             [
              0.4444444444444444,
              "#bd3786"
             ],
             [
              0.5555555555555556,
              "#d8576b"
             ],
             [
              0.6666666666666666,
              "#ed7953"
             ],
             [
              0.7777777777777778,
              "#fb9f3a"
             ],
             [
              0.8888888888888888,
              "#fdca26"
             ],
             [
              1,
              "#f0f921"
             ]
            ],
            "type": "histogram2d"
           }
          ],
          "histogram2dcontour": [
           {
            "colorbar": {
             "outlinewidth": 0,
             "ticks": ""
            },
            "colorscale": [
             [
              0,
              "#0d0887"
             ],
             [
              0.1111111111111111,
              "#46039f"
             ],
             [
              0.2222222222222222,
              "#7201a8"
             ],
             [
              0.3333333333333333,
              "#9c179e"
             ],
             [
              0.4444444444444444,
              "#bd3786"
             ],
             [
              0.5555555555555556,
              "#d8576b"
             ],
             [
              0.6666666666666666,
              "#ed7953"
             ],
             [
              0.7777777777777778,
              "#fb9f3a"
             ],
             [
              0.8888888888888888,
              "#fdca26"
             ],
             [
              1,
              "#f0f921"
             ]
            ],
            "type": "histogram2dcontour"
           }
          ],
          "mesh3d": [
           {
            "colorbar": {
             "outlinewidth": 0,
             "ticks": ""
            },
            "type": "mesh3d"
           }
          ],
          "parcoords": [
           {
            "line": {
             "colorbar": {
              "outlinewidth": 0,
              "ticks": ""
             }
            },
            "type": "parcoords"
           }
          ],
          "pie": [
           {
            "automargin": true,
            "type": "pie"
           }
          ],
          "scatter": [
           {
            "marker": {
             "colorbar": {
              "outlinewidth": 0,
              "ticks": ""
             }
            },
            "type": "scatter"
           }
          ],
          "scatter3d": [
           {
            "line": {
             "colorbar": {
              "outlinewidth": 0,
              "ticks": ""
             }
            },
            "marker": {
             "colorbar": {
              "outlinewidth": 0,
              "ticks": ""
             }
            },
            "type": "scatter3d"
           }
          ],
          "scattercarpet": [
           {
            "marker": {
             "colorbar": {
              "outlinewidth": 0,
              "ticks": ""
             }
            },
            "type": "scattercarpet"
           }
          ],
          "scattergeo": [
           {
            "marker": {
             "colorbar": {
              "outlinewidth": 0,
              "ticks": ""
             }
            },
            "type": "scattergeo"
           }
          ],
          "scattergl": [
           {
            "marker": {
             "colorbar": {
              "outlinewidth": 0,
              "ticks": ""
             }
            },
            "type": "scattergl"
           }
          ],
          "scattermapbox": [
           {
            "marker": {
             "colorbar": {
              "outlinewidth": 0,
              "ticks": ""
             }
            },
            "type": "scattermapbox"
           }
          ],
          "scatterpolar": [
           {
            "marker": {
             "colorbar": {
              "outlinewidth": 0,
              "ticks": ""
             }
            },
            "type": "scatterpolar"
           }
          ],
          "scatterpolargl": [
           {
            "marker": {
             "colorbar": {
              "outlinewidth": 0,
              "ticks": ""
             }
            },
            "type": "scatterpolargl"
           }
          ],
          "scatterternary": [
           {
            "marker": {
             "colorbar": {
              "outlinewidth": 0,
              "ticks": ""
             }
            },
            "type": "scatterternary"
           }
          ],
          "surface": [
           {
            "colorbar": {
             "outlinewidth": 0,
             "ticks": ""
            },
            "colorscale": [
             [
              0,
              "#0d0887"
             ],
             [
              0.1111111111111111,
              "#46039f"
             ],
             [
              0.2222222222222222,
              "#7201a8"
             ],
             [
              0.3333333333333333,
              "#9c179e"
             ],
             [
              0.4444444444444444,
              "#bd3786"
             ],
             [
              0.5555555555555556,
              "#d8576b"
             ],
             [
              0.6666666666666666,
              "#ed7953"
             ],
             [
              0.7777777777777778,
              "#fb9f3a"
             ],
             [
              0.8888888888888888,
              "#fdca26"
             ],
             [
              1,
              "#f0f921"
             ]
            ],
            "type": "surface"
           }
          ],
          "table": [
           {
            "cells": {
             "fill": {
              "color": "#EBF0F8"
             },
             "line": {
              "color": "white"
             }
            },
            "header": {
             "fill": {
              "color": "#C8D4E3"
             },
             "line": {
              "color": "white"
             }
            },
            "type": "table"
           }
          ]
         },
         "layout": {
          "annotationdefaults": {
           "arrowcolor": "#2a3f5f",
           "arrowhead": 0,
           "arrowwidth": 1
          },
          "coloraxis": {
           "colorbar": {
            "outlinewidth": 0,
            "ticks": ""
           }
          },
          "colorscale": {
           "diverging": [
            [
             0,
             "#8e0152"
            ],
            [
             0.1,
             "#c51b7d"
            ],
            [
             0.2,
             "#de77ae"
            ],
            [
             0.3,
             "#f1b6da"
            ],
            [
             0.4,
             "#fde0ef"
            ],
            [
             0.5,
             "#f7f7f7"
            ],
            [
             0.6,
             "#e6f5d0"
            ],
            [
             0.7,
             "#b8e186"
            ],
            [
             0.8,
             "#7fbc41"
            ],
            [
             0.9,
             "#4d9221"
            ],
            [
             1,
             "#276419"
            ]
           ],
           "sequential": [
            [
             0,
             "#0d0887"
            ],
            [
             0.1111111111111111,
             "#46039f"
            ],
            [
             0.2222222222222222,
             "#7201a8"
            ],
            [
             0.3333333333333333,
             "#9c179e"
            ],
            [
             0.4444444444444444,
             "#bd3786"
            ],
            [
             0.5555555555555556,
             "#d8576b"
            ],
            [
             0.6666666666666666,
             "#ed7953"
            ],
            [
             0.7777777777777778,
             "#fb9f3a"
            ],
            [
             0.8888888888888888,
             "#fdca26"
            ],
            [
             1,
             "#f0f921"
            ]
           ],
           "sequentialminus": [
            [
             0,
             "#0d0887"
            ],
            [
             0.1111111111111111,
             "#46039f"
            ],
            [
             0.2222222222222222,
             "#7201a8"
            ],
            [
             0.3333333333333333,
             "#9c179e"
            ],
            [
             0.4444444444444444,
             "#bd3786"
            ],
            [
             0.5555555555555556,
             "#d8576b"
            ],
            [
             0.6666666666666666,
             "#ed7953"
            ],
            [
             0.7777777777777778,
             "#fb9f3a"
            ],
            [
             0.8888888888888888,
             "#fdca26"
            ],
            [
             1,
             "#f0f921"
            ]
           ]
          },
          "colorway": [
           "#636efa",
           "#EF553B",
           "#00cc96",
           "#ab63fa",
           "#FFA15A",
           "#19d3f3",
           "#FF6692",
           "#B6E880",
           "#FF97FF",
           "#FECB52"
          ],
          "font": {
           "color": "#2a3f5f"
          },
          "geo": {
           "bgcolor": "white",
           "lakecolor": "white",
           "landcolor": "#E5ECF6",
           "showlakes": true,
           "showland": true,
           "subunitcolor": "white"
          },
          "hoverlabel": {
           "align": "left"
          },
          "hovermode": "closest",
          "mapbox": {
           "style": "light"
          },
          "paper_bgcolor": "white",
          "plot_bgcolor": "#E5ECF6",
          "polar": {
           "angularaxis": {
            "gridcolor": "white",
            "linecolor": "white",
            "ticks": ""
           },
           "bgcolor": "#E5ECF6",
           "radialaxis": {
            "gridcolor": "white",
            "linecolor": "white",
            "ticks": ""
           }
          },
          "scene": {
           "xaxis": {
            "backgroundcolor": "#E5ECF6",
            "gridcolor": "white",
            "gridwidth": 2,
            "linecolor": "white",
            "showbackground": true,
            "ticks": "",
            "zerolinecolor": "white"
           },
           "yaxis": {
            "backgroundcolor": "#E5ECF6",
            "gridcolor": "white",
            "gridwidth": 2,
            "linecolor": "white",
            "showbackground": true,
            "ticks": "",
            "zerolinecolor": "white"
           },
           "zaxis": {
            "backgroundcolor": "#E5ECF6",
            "gridcolor": "white",
            "gridwidth": 2,
            "linecolor": "white",
            "showbackground": true,
            "ticks": "",
            "zerolinecolor": "white"
           }
          },
          "shapedefaults": {
           "line": {
            "color": "#2a3f5f"
           }
          },
          "ternary": {
           "aaxis": {
            "gridcolor": "white",
            "linecolor": "white",
            "ticks": ""
           },
           "baxis": {
            "gridcolor": "white",
            "linecolor": "white",
            "ticks": ""
           },
           "bgcolor": "#E5ECF6",
           "caxis": {
            "gridcolor": "white",
            "linecolor": "white",
            "ticks": ""
           }
          },
          "title": {
           "x": 0.05
          },
          "xaxis": {
           "automargin": true,
           "gridcolor": "white",
           "linecolor": "white",
           "ticks": "",
           "title": {
            "standoff": 15
           },
           "zerolinecolor": "white",
           "zerolinewidth": 2
          },
          "yaxis": {
           "automargin": true,
           "gridcolor": "white",
           "linecolor": "white",
           "ticks": "",
           "title": {
            "standoff": 15
           },
           "zerolinecolor": "white",
           "zerolinewidth": 2
          }
         }
        },
        "title": {
         "font": {
          "color": "#4D5663"
         }
        },
        "xaxis": {
         "gridcolor": "#E1E5ED",
         "showgrid": true,
         "tickfont": {
          "color": "#4D5663"
         },
         "title": {
          "font": {
           "color": "#4D5663"
          },
          "text": ""
         },
         "zerolinecolor": "#E1E5ED"
        },
        "yaxis": {
         "gridcolor": "#E1E5ED",
         "showgrid": true,
         "tickfont": {
          "color": "#4D5663"
         },
         "title": {
          "font": {
           "color": "#4D5663"
          },
          "text": ""
         },
         "zerolinecolor": "#E1E5ED"
        }
       }
      },
      "text/html": [
       "<div>\n",
       "        \n",
       "        \n",
       "            <div id=\"ef502b4c-ba53-49db-99c4-be4941806f3f\" class=\"plotly-graph-div\" style=\"height:525px; width:100%;\"></div>\n",
       "            <script type=\"text/javascript\">\n",
       "                require([\"plotly\"], function(Plotly) {\n",
       "                    window.PLOTLYENV=window.PLOTLYENV || {};\n",
       "                    window.PLOTLYENV.BASE_URL='https://plot.ly';\n",
       "                    \n",
       "                if (document.getElementById(\"ef502b4c-ba53-49db-99c4-be4941806f3f\")) {\n",
       "                    Plotly.newPlot(\n",
       "                        'ef502b4c-ba53-49db-99c4-be4941806f3f',\n",
       "                        [{\"marker\": {\"color\": [\"rgb(255, 153, 51)\", \"rgb(55, 128, 191)\", \"rgb(50, 171, 96)\", \"rgb(128, 0, 128)\", \"rgb(219, 64, 82)\", \"rgb(0, 128, 128)\", \"rgb(255, 255, 51)\", \"rgb(128, 128, 0)\", \"rgb(251, 128, 114)\", \"rgb(128, 177, 211)\"], \"line\": {\"width\": 1.3}, \"size\": [49, 31, 70, 39, 58, 57, 48, 43, 42, 93, 69, 67, 76, 52, 50, 35, 30, 68, 36, 68, 54, 61, 58, 18, 30, 58, 43, 46, 32, 48, 36, 62, 56, 64, 38, 69, 41, 70, 67, 46, 39, 71, 54, 35, 66, 40, 93, 36, 65, 74, 112, 78, 79, 60, 85, 50, 46, 46, 32, 45, 55, 79, 44, 63, 71, 12, 35, 68, 50, 46, 54, 57, 53, 55, 41, 55, 81, 96, 64, 83, 31, 63, 50, 83, 42, 23, 67, 91, 37, 38, 75, 55, 41, 70, 55, 45, 49, 65, 72, 48], \"symbol\": \"circle\"}, \"mode\": \"markers\", \"text\": \"\", \"type\": \"scatter\", \"x\": [-0.5009543608026148, -0.4204615151389094, -0.49553283935936165, 0.7657304693445539, -0.07847397916945117, 0.6700761884302777, 1.6148887957746296, -0.14346731599489548, -0.2665864011088299, 1.5203733905118066, -1.6225831980015681, -0.0010036338978958532, -0.20764556384936733, 1.2211140213435423, 0.7616648705923982, 0.8511236141237207, -0.11514925363568562, -0.20936138521130568, -0.23694314875636666, -1.41396658714284, -0.7197209408930788, -0.21986205769332937, 1.0281717480256272, -0.34491294269628503, 1.8387982177216249, 1.7454245898531036, 0.40475695887285834, 0.38445221563913434, 0.09096690376723829, -0.5452474872683721, 0.36883064898417145, 0.471064900436615, 0.08943939927300605, -0.04711988398954826, -0.377726634293231, 0.7896939082042002, 0.2834844224400587, -0.3712372134953554, -0.8239234838514105, -0.24380479792713633, 0.8021227623642619, 0.8595077643277932, -0.89133910900524, -0.08704741110358603, 1.1154306476276132, -0.8232991534045231, 0.03951476468379789, -0.5897579157424271, 0.48638772034887495, -0.23689141912829995, -0.849875469508366, 1.2033244290804135, -0.9707942664404414, 0.5345692965058876, 0.24185563713696623, -1.2480718435113924, -1.9764817321890251, 0.17398462490394964, -0.2958648071038704, -0.9073789839128634, -0.320061959697221, -1.2894563780049575, 0.8162202543091142, 0.7279819747659728, 0.5016314636811545, -1.6350473403411654, 1.112226070703627, -1.3798198056686024, 0.03712506450794439, 0.8725646848428592, -0.062491031397570555, -1.283446523292469, 0.8042769164891135, -1.2878267604909532, -2.4243449762842935, 1.455471611236058, 0.4262483065173007, -1.1011863485263866, 0.36393070625865315, -0.3828540123202687, 0.07374167084754127, -1.3446917941460133, -0.07602512088167016, 2.131579084083562, 0.8633118511617681, 0.9567443066299663, -0.35082901706021047, 0.5353353137007961, -0.06072553628984715, 0.4216056690056466, 1.8201523623294387, -1.4207116091443348, -0.24445402467878669, 1.0790482734281726, -0.301775352771489, -0.463830499688751, -0.48449348616253807, -0.8952937264879816, -0.17464315190589047, -1.5690068772777155], \"y\": [0.4647073083742839, -0.05638983549159592, 0.8211639860066423, -0.5302111813539075, -0.026095626254060273, 0.934819749012539, -0.06881896608775859, 0.7431747218014507, -0.6634138417015264, -0.6407659494255311, -2.0830026972903197, 1.8045522880146014, 1.037149625547556, 0.3248740795752661, 0.16422555997258756, -0.04448673216754261, -1.1666989664863299, -0.34489031820823246, 0.023191019187505314, -1.130997876996157, 0.6537048033347655, -2.008977265519097, 2.1187636059019828, -0.14720374779769907, -0.4119883895674882, -0.01889786289040426, -0.5408825560442116, 0.6532664735645086, 0.3019048417424934, 1.6458305129952842, 0.6030209295808521, -0.3623998992628467, -1.354212000595378, -1.172657051102667, -0.1769801146101835, 2.2055905103394196, 0.2760796035999615, -1.7813429624595076, 0.7750526626200264, -0.5805198523009042, -1.0618189104978328, 0.18946634999859532, 0.381459586503324, -0.9242275271954474, -0.5628414484788141, -0.8638503681130342, -0.12409497161196388, 1.0458509752935239, -0.695096587506082, 1.2734349572542032, 0.24242678837999837, -0.5467390258304995, -0.6363370209478098, 2.013175801488738, 0.7725826019693162, -0.3915999325975337, -0.21384985463778458, 1.4732988178499873, -1.946677160191751, 0.40084042312757945, 1.3366011084629332, -0.3613636341442311, 0.5298250484301542, 1.4558635024058049, -0.6318727492567257, -0.8227985700773811, -0.5377019717823004, -1.7902939476280129, -0.26846879662803125, 1.465181281886347, 2.3219711044551956, 0.9250989703211202, 0.8916825245438201, -1.1517637591562595, -0.19150262412323274, 1.4792770255841388, 1.6861949140510182, 0.4512015631832032, 0.1485498153576192, 0.7032594474993233, 1.398402958112115, -0.0031789942556199823, -0.6032519124226736, 0.9550811638193741, 1.737666005127905, 1.060053557429989, 1.2895208947773007, -1.1953320328355028, 1.782261738784618, 1.9306290169917022, -0.7425207838161446, -0.9754342092359741, 0.9982550336125903, 0.04387350789025311, -0.6029540220032642, -0.3176203472281875, 1.3016837317080092, 1.319139155169162, 0.60300051445889, -0.4734361308297189]}],\n",
       "                        {\"legend\": {\"bgcolor\": \"#F5F6F9\", \"font\": {\"color\": \"#4D5663\"}}, \"paper_bgcolor\": \"#F5F6F9\", \"plot_bgcolor\": \"#F5F6F9\", \"template\": {\"data\": {\"bar\": [{\"error_x\": {\"color\": \"#2a3f5f\"}, \"error_y\": {\"color\": \"#2a3f5f\"}, \"marker\": {\"line\": {\"color\": \"#E5ECF6\", \"width\": 0.5}}, \"type\": \"bar\"}], \"barpolar\": [{\"marker\": {\"line\": {\"color\": \"#E5ECF6\", \"width\": 0.5}}, \"type\": \"barpolar\"}], \"carpet\": [{\"aaxis\": {\"endlinecolor\": \"#2a3f5f\", \"gridcolor\": \"white\", \"linecolor\": \"white\", \"minorgridcolor\": \"white\", \"startlinecolor\": \"#2a3f5f\"}, \"baxis\": {\"endlinecolor\": \"#2a3f5f\", \"gridcolor\": \"white\", \"linecolor\": \"white\", \"minorgridcolor\": \"white\", \"startlinecolor\": \"#2a3f5f\"}, \"type\": \"carpet\"}], \"choropleth\": [{\"colorbar\": {\"outlinewidth\": 0, \"ticks\": \"\"}, \"type\": \"choropleth\"}], \"contour\": [{\"colorbar\": {\"outlinewidth\": 0, \"ticks\": \"\"}, \"colorscale\": [[0.0, \"#0d0887\"], [0.1111111111111111, \"#46039f\"], [0.2222222222222222, \"#7201a8\"], [0.3333333333333333, \"#9c179e\"], [0.4444444444444444, \"#bd3786\"], [0.5555555555555556, \"#d8576b\"], [0.6666666666666666, \"#ed7953\"], [0.7777777777777778, \"#fb9f3a\"], [0.8888888888888888, \"#fdca26\"], [1.0, \"#f0f921\"]], \"type\": \"contour\"}], \"contourcarpet\": [{\"colorbar\": {\"outlinewidth\": 0, \"ticks\": \"\"}, \"type\": \"contourcarpet\"}], \"heatmap\": [{\"colorbar\": {\"outlinewidth\": 0, \"ticks\": \"\"}, \"colorscale\": [[0.0, \"#0d0887\"], [0.1111111111111111, \"#46039f\"], [0.2222222222222222, \"#7201a8\"], [0.3333333333333333, \"#9c179e\"], [0.4444444444444444, \"#bd3786\"], [0.5555555555555556, \"#d8576b\"], [0.6666666666666666, \"#ed7953\"], [0.7777777777777778, \"#fb9f3a\"], [0.8888888888888888, \"#fdca26\"], [1.0, \"#f0f921\"]], \"type\": \"heatmap\"}], \"heatmapgl\": [{\"colorbar\": {\"outlinewidth\": 0, \"ticks\": \"\"}, \"colorscale\": [[0.0, \"#0d0887\"], [0.1111111111111111, \"#46039f\"], [0.2222222222222222, \"#7201a8\"], [0.3333333333333333, \"#9c179e\"], [0.4444444444444444, \"#bd3786\"], [0.5555555555555556, \"#d8576b\"], [0.6666666666666666, \"#ed7953\"], [0.7777777777777778, \"#fb9f3a\"], [0.8888888888888888, \"#fdca26\"], [1.0, \"#f0f921\"]], \"type\": \"heatmapgl\"}], \"histogram\": [{\"marker\": {\"colorbar\": {\"outlinewidth\": 0, \"ticks\": \"\"}}, \"type\": \"histogram\"}], \"histogram2d\": [{\"colorbar\": {\"outlinewidth\": 0, \"ticks\": \"\"}, \"colorscale\": [[0.0, \"#0d0887\"], [0.1111111111111111, \"#46039f\"], [0.2222222222222222, \"#7201a8\"], [0.3333333333333333, \"#9c179e\"], [0.4444444444444444, \"#bd3786\"], [0.5555555555555556, \"#d8576b\"], [0.6666666666666666, \"#ed7953\"], [0.7777777777777778, \"#fb9f3a\"], [0.8888888888888888, \"#fdca26\"], [1.0, \"#f0f921\"]], \"type\": \"histogram2d\"}], \"histogram2dcontour\": [{\"colorbar\": {\"outlinewidth\": 0, \"ticks\": \"\"}, \"colorscale\": [[0.0, \"#0d0887\"], [0.1111111111111111, \"#46039f\"], [0.2222222222222222, \"#7201a8\"], [0.3333333333333333, \"#9c179e\"], [0.4444444444444444, \"#bd3786\"], [0.5555555555555556, \"#d8576b\"], [0.6666666666666666, \"#ed7953\"], [0.7777777777777778, \"#fb9f3a\"], [0.8888888888888888, \"#fdca26\"], [1.0, \"#f0f921\"]], \"type\": \"histogram2dcontour\"}], \"mesh3d\": [{\"colorbar\": {\"outlinewidth\": 0, \"ticks\": \"\"}, \"type\": \"mesh3d\"}], \"parcoords\": [{\"line\": {\"colorbar\": {\"outlinewidth\": 0, \"ticks\": \"\"}}, \"type\": \"parcoords\"}], \"pie\": [{\"automargin\": true, \"type\": \"pie\"}], \"scatter\": [{\"marker\": {\"colorbar\": {\"outlinewidth\": 0, \"ticks\": \"\"}}, \"type\": \"scatter\"}], \"scatter3d\": [{\"line\": {\"colorbar\": {\"outlinewidth\": 0, \"ticks\": \"\"}}, \"marker\": {\"colorbar\": {\"outlinewidth\": 0, \"ticks\": \"\"}}, \"type\": \"scatter3d\"}], \"scattercarpet\": [{\"marker\": {\"colorbar\": {\"outlinewidth\": 0, \"ticks\": \"\"}}, \"type\": \"scattercarpet\"}], \"scattergeo\": [{\"marker\": {\"colorbar\": {\"outlinewidth\": 0, \"ticks\": \"\"}}, \"type\": \"scattergeo\"}], \"scattergl\": [{\"marker\": {\"colorbar\": {\"outlinewidth\": 0, \"ticks\": \"\"}}, \"type\": \"scattergl\"}], \"scattermapbox\": [{\"marker\": {\"colorbar\": {\"outlinewidth\": 0, \"ticks\": \"\"}}, \"type\": \"scattermapbox\"}], \"scatterpolar\": [{\"marker\": {\"colorbar\": {\"outlinewidth\": 0, \"ticks\": \"\"}}, \"type\": \"scatterpolar\"}], \"scatterpolargl\": [{\"marker\": {\"colorbar\": {\"outlinewidth\": 0, \"ticks\": \"\"}}, \"type\": \"scatterpolargl\"}], \"scatterternary\": [{\"marker\": {\"colorbar\": {\"outlinewidth\": 0, \"ticks\": \"\"}}, \"type\": \"scatterternary\"}], \"surface\": [{\"colorbar\": {\"outlinewidth\": 0, \"ticks\": \"\"}, \"colorscale\": [[0.0, \"#0d0887\"], [0.1111111111111111, \"#46039f\"], [0.2222222222222222, \"#7201a8\"], [0.3333333333333333, \"#9c179e\"], [0.4444444444444444, \"#bd3786\"], [0.5555555555555556, \"#d8576b\"], [0.6666666666666666, \"#ed7953\"], [0.7777777777777778, \"#fb9f3a\"], [0.8888888888888888, \"#fdca26\"], [1.0, \"#f0f921\"]], \"type\": \"surface\"}], \"table\": [{\"cells\": {\"fill\": {\"color\": \"#EBF0F8\"}, \"line\": {\"color\": \"white\"}}, \"header\": {\"fill\": {\"color\": \"#C8D4E3\"}, \"line\": {\"color\": \"white\"}}, \"type\": \"table\"}]}, \"layout\": {\"annotationdefaults\": {\"arrowcolor\": \"#2a3f5f\", \"arrowhead\": 0, \"arrowwidth\": 1}, \"coloraxis\": {\"colorbar\": {\"outlinewidth\": 0, \"ticks\": \"\"}}, \"colorscale\": {\"diverging\": [[0, \"#8e0152\"], [0.1, \"#c51b7d\"], [0.2, \"#de77ae\"], [0.3, \"#f1b6da\"], [0.4, \"#fde0ef\"], [0.5, \"#f7f7f7\"], [0.6, \"#e6f5d0\"], [0.7, \"#b8e186\"], [0.8, \"#7fbc41\"], [0.9, \"#4d9221\"], [1, \"#276419\"]], \"sequential\": [[0.0, \"#0d0887\"], [0.1111111111111111, \"#46039f\"], [0.2222222222222222, \"#7201a8\"], [0.3333333333333333, \"#9c179e\"], [0.4444444444444444, \"#bd3786\"], [0.5555555555555556, \"#d8576b\"], [0.6666666666666666, \"#ed7953\"], [0.7777777777777778, \"#fb9f3a\"], [0.8888888888888888, \"#fdca26\"], [1.0, \"#f0f921\"]], \"sequentialminus\": [[0.0, \"#0d0887\"], [0.1111111111111111, \"#46039f\"], [0.2222222222222222, \"#7201a8\"], [0.3333333333333333, \"#9c179e\"], [0.4444444444444444, \"#bd3786\"], [0.5555555555555556, \"#d8576b\"], [0.6666666666666666, \"#ed7953\"], [0.7777777777777778, \"#fb9f3a\"], [0.8888888888888888, \"#fdca26\"], [1.0, \"#f0f921\"]]}, \"colorway\": [\"#636efa\", \"#EF553B\", \"#00cc96\", \"#ab63fa\", \"#FFA15A\", \"#19d3f3\", \"#FF6692\", \"#B6E880\", \"#FF97FF\", \"#FECB52\"], \"font\": {\"color\": \"#2a3f5f\"}, \"geo\": {\"bgcolor\": \"white\", \"lakecolor\": \"white\", \"landcolor\": \"#E5ECF6\", \"showlakes\": true, \"showland\": true, \"subunitcolor\": \"white\"}, \"hoverlabel\": {\"align\": \"left\"}, \"hovermode\": \"closest\", \"mapbox\": {\"style\": \"light\"}, \"paper_bgcolor\": \"white\", \"plot_bgcolor\": \"#E5ECF6\", \"polar\": {\"angularaxis\": {\"gridcolor\": \"white\", \"linecolor\": \"white\", \"ticks\": \"\"}, \"bgcolor\": \"#E5ECF6\", \"radialaxis\": {\"gridcolor\": \"white\", \"linecolor\": \"white\", \"ticks\": \"\"}}, \"scene\": {\"xaxis\": {\"backgroundcolor\": \"#E5ECF6\", \"gridcolor\": \"white\", \"gridwidth\": 2, \"linecolor\": \"white\", \"showbackground\": true, \"ticks\": \"\", \"zerolinecolor\": \"white\"}, \"yaxis\": {\"backgroundcolor\": \"#E5ECF6\", \"gridcolor\": \"white\", \"gridwidth\": 2, \"linecolor\": \"white\", \"showbackground\": true, \"ticks\": \"\", \"zerolinecolor\": \"white\"}, \"zaxis\": {\"backgroundcolor\": \"#E5ECF6\", \"gridcolor\": \"white\", \"gridwidth\": 2, \"linecolor\": \"white\", \"showbackground\": true, \"ticks\": \"\", \"zerolinecolor\": \"white\"}}, \"shapedefaults\": {\"line\": {\"color\": \"#2a3f5f\"}}, \"ternary\": {\"aaxis\": {\"gridcolor\": \"white\", \"linecolor\": \"white\", \"ticks\": \"\"}, \"baxis\": {\"gridcolor\": \"white\", \"linecolor\": \"white\", \"ticks\": \"\"}, \"bgcolor\": \"#E5ECF6\", \"caxis\": {\"gridcolor\": \"white\", \"linecolor\": \"white\", \"ticks\": \"\"}}, \"title\": {\"x\": 0.05}, \"xaxis\": {\"automargin\": true, \"gridcolor\": \"white\", \"linecolor\": \"white\", \"ticks\": \"\", \"title\": {\"standoff\": 15}, \"zerolinecolor\": \"white\", \"zerolinewidth\": 2}, \"yaxis\": {\"automargin\": true, \"gridcolor\": \"white\", \"linecolor\": \"white\", \"ticks\": \"\", \"title\": {\"standoff\": 15}, \"zerolinecolor\": \"white\", \"zerolinewidth\": 2}}}, \"title\": {\"font\": {\"color\": \"#4D5663\"}}, \"xaxis\": {\"gridcolor\": \"#E1E5ED\", \"showgrid\": true, \"tickfont\": {\"color\": \"#4D5663\"}, \"title\": {\"font\": {\"color\": \"#4D5663\"}, \"text\": \"\"}, \"zerolinecolor\": \"#E1E5ED\"}, \"yaxis\": {\"gridcolor\": \"#E1E5ED\", \"showgrid\": true, \"tickfont\": {\"color\": \"#4D5663\"}, \"title\": {\"font\": {\"color\": \"#4D5663\"}, \"text\": \"\"}, \"zerolinecolor\": \"#E1E5ED\"}},\n",
       "                        {\"showLink\": true, \"linkText\": \"Export to plot.ly\", \"plotlyServerURL\": \"https://plot.ly\", \"responsive\": true}\n",
       "                    ).then(function(){\n",
       "                            \n",
       "var gd = document.getElementById('ef502b4c-ba53-49db-99c4-be4941806f3f');\n",
       "var x = new MutationObserver(function (mutations, observer) {{\n",
       "        var display = window.getComputedStyle(gd).display;\n",
       "        if (!display || display === 'none') {{\n",
       "            console.log([gd, 'removed!']);\n",
       "            Plotly.purge(gd);\n",
       "            observer.disconnect();\n",
       "        }}\n",
       "}});\n",
       "\n",
       "// Listen for the removal of the full notebook cells\n",
       "var notebookContainer = gd.closest('#notebook-container');\n",
       "if (notebookContainer) {{\n",
       "    x.observe(notebookContainer, {childList: true});\n",
       "}}\n",
       "\n",
       "// Listen for the clearing of the current output cell\n",
       "var outputEl = gd.closest('.output');\n",
       "if (outputEl) {{\n",
       "    x.observe(outputEl, {childList: true});\n",
       "}}\n",
       "\n",
       "                        })\n",
       "                };\n",
       "                });\n",
       "            </script>\n",
       "        </div>"
      ]
     },
     "metadata": {},
     "output_type": "display_data"
    }
   ],
   "source": [
    "df.iplot(kind='bubble',x='A',y='B',size='C')"
   ]
  },
  {
   "cell_type": "code",
   "execution_count": 70,
   "metadata": {},
   "outputs": [],
   "source": [
    "# Scatter Matrix, sim to seaborns pairplot, use with care on very large datasets "
   ]
  },
  {
   "cell_type": "code",
   "execution_count": 71,
   "metadata": {},
   "outputs": [
    {
     "data": {
      "application/vnd.plotly.v1+json": {
       "config": {
        "linkText": "Export to plot.ly",
        "plotlyServerURL": "https://plot.ly",
        "showLink": true
       },
       "data": [
        {
         "histfunc": "count",
         "histnorm": "",
         "marker": {
          "color": "rgba(255, 153, 51, 1.0)",
          "line": {
           "color": "#4D5663",
           "width": 1.3
          }
         },
         "name": "A",
         "nbinsx": 10,
         "opacity": 0.8,
         "orientation": "v",
         "type": "histogram",
         "x": [
          -0.5009543608026148,
          -0.4204615151389094,
          -0.49553283935936165,
          0.7657304693445539,
          -0.07847397916945117,
          0.6700761884302777,
          1.6148887957746296,
          -0.14346731599489548,
          -0.2665864011088299,
          1.5203733905118066,
          -1.6225831980015681,
          -0.0010036338978958532,
          -0.20764556384936733,
          1.2211140213435423,
          0.7616648705923982,
          0.8511236141237207,
          -0.11514925363568562,
          -0.20936138521130568,
          -0.23694314875636666,
          -1.41396658714284,
          -0.7197209408930788,
          -0.21986205769332937,
          1.0281717480256272,
          -0.34491294269628503,
          1.8387982177216249,
          1.7454245898531036,
          0.40475695887285834,
          0.38445221563913434,
          0.09096690376723829,
          -0.5452474872683721,
          0.36883064898417145,
          0.471064900436615,
          0.08943939927300605,
          -0.04711988398954826,
          -0.377726634293231,
          0.7896939082042002,
          0.2834844224400587,
          -0.3712372134953554,
          -0.8239234838514105,
          -0.24380479792713633,
          0.8021227623642619,
          0.8595077643277932,
          -0.89133910900524,
          -0.08704741110358603,
          1.1154306476276132,
          -0.8232991534045231,
          0.03951476468379789,
          -0.5897579157424271,
          0.48638772034887495,
          -0.23689141912829995,
          -0.849875469508366,
          1.2033244290804135,
          -0.9707942664404414,
          0.5345692965058876,
          0.24185563713696623,
          -1.2480718435113924,
          -1.9764817321890251,
          0.17398462490394964,
          -0.2958648071038704,
          -0.9073789839128634,
          -0.320061959697221,
          -1.2894563780049575,
          0.8162202543091142,
          0.7279819747659728,
          0.5016314636811545,
          -1.6350473403411654,
          1.112226070703627,
          -1.3798198056686024,
          0.03712506450794439,
          0.8725646848428592,
          -0.062491031397570555,
          -1.283446523292469,
          0.8042769164891135,
          -1.2878267604909532,
          -2.4243449762842935,
          1.455471611236058,
          0.4262483065173007,
          -1.1011863485263866,
          0.36393070625865315,
          -0.3828540123202687,
          0.07374167084754127,
          -1.3446917941460133,
          -0.07602512088167016,
          2.131579084083562,
          0.8633118511617681,
          0.9567443066299663,
          -0.35082901706021047,
          0.5353353137007961,
          -0.06072553628984715,
          0.4216056690056466,
          1.8201523623294387,
          -1.4207116091443348,
          -0.24445402467878669,
          1.0790482734281726,
          -0.301775352771489,
          -0.463830499688751,
          -0.48449348616253807,
          -0.8952937264879816,
          -0.17464315190589047,
          -1.5690068772777155
         ],
         "xaxis": "x",
         "yaxis": "y"
        },
        {
         "line": {
          "color": "rgba(128, 128, 128, 1.0)",
          "dash": "solid",
          "shape": "linear",
          "width": 1.3
         },
         "marker": {
          "size": 2,
          "symbol": "circle"
         },
         "mode": "markers",
         "name": "A",
         "text": "",
         "type": "scatter",
         "x": [
          0.4647073083742839,
          -0.05638983549159592,
          0.8211639860066423,
          -0.5302111813539075,
          -0.026095626254060273,
          0.934819749012539,
          -0.06881896608775859,
          0.7431747218014507,
          -0.6634138417015264,
          -0.6407659494255311,
          -2.0830026972903197,
          1.8045522880146014,
          1.037149625547556,
          0.3248740795752661,
          0.16422555997258756,
          -0.04448673216754261,
          -1.1666989664863299,
          -0.34489031820823246,
          0.023191019187505314,
          -1.130997876996157,
          0.6537048033347655,
          -2.008977265519097,
          2.1187636059019828,
          -0.14720374779769907,
          -0.4119883895674882,
          -0.01889786289040426,
          -0.5408825560442116,
          0.6532664735645086,
          0.3019048417424934,
          1.6458305129952842,
          0.6030209295808521,
          -0.3623998992628467,
          -1.354212000595378,
          -1.172657051102667,
          -0.1769801146101835,
          2.2055905103394196,
          0.2760796035999615,
          -1.7813429624595076,
          0.7750526626200264,
          -0.5805198523009042,
          -1.0618189104978328,
          0.18946634999859532,
          0.381459586503324,
          -0.9242275271954474,
          -0.5628414484788141,
          -0.8638503681130342,
          -0.12409497161196388,
          1.0458509752935239,
          -0.695096587506082,
          1.2734349572542032,
          0.24242678837999837,
          -0.5467390258304995,
          -0.6363370209478098,
          2.013175801488738,
          0.7725826019693162,
          -0.3915999325975337,
          -0.21384985463778458,
          1.4732988178499873,
          -1.946677160191751,
          0.40084042312757945,
          1.3366011084629332,
          -0.3613636341442311,
          0.5298250484301542,
          1.4558635024058049,
          -0.6318727492567257,
          -0.8227985700773811,
          -0.5377019717823004,
          -1.7902939476280129,
          -0.26846879662803125,
          1.465181281886347,
          2.3219711044551956,
          0.9250989703211202,
          0.8916825245438201,
          -1.1517637591562595,
          -0.19150262412323274,
          1.4792770255841388,
          1.6861949140510182,
          0.4512015631832032,
          0.1485498153576192,
          0.7032594474993233,
          1.398402958112115,
          -0.0031789942556199823,
          -0.6032519124226736,
          0.9550811638193741,
          1.737666005127905,
          1.060053557429989,
          1.2895208947773007,
          -1.1953320328355028,
          1.782261738784618,
          1.9306290169917022,
          -0.7425207838161446,
          -0.9754342092359741,
          0.9982550336125903,
          0.04387350789025311,
          -0.6029540220032642,
          -0.3176203472281875,
          1.3016837317080092,
          1.319139155169162,
          0.60300051445889,
          -0.4734361308297189
         ],
         "xaxis": "x2",
         "y": [
          -0.5009543608026148,
          -0.4204615151389094,
          -0.49553283935936165,
          0.7657304693445539,
          -0.07847397916945117,
          0.6700761884302777,
          1.6148887957746296,
          -0.14346731599489548,
          -0.2665864011088299,
          1.5203733905118066,
          -1.6225831980015681,
          -0.0010036338978958532,
          -0.20764556384936733,
          1.2211140213435423,
          0.7616648705923982,
          0.8511236141237207,
          -0.11514925363568562,
          -0.20936138521130568,
          -0.23694314875636666,
          -1.41396658714284,
          -0.7197209408930788,
          -0.21986205769332937,
          1.0281717480256272,
          -0.34491294269628503,
          1.8387982177216249,
          1.7454245898531036,
          0.40475695887285834,
          0.38445221563913434,
          0.09096690376723829,
          -0.5452474872683721,
          0.36883064898417145,
          0.471064900436615,
          0.08943939927300605,
          -0.04711988398954826,
          -0.377726634293231,
          0.7896939082042002,
          0.2834844224400587,
          -0.3712372134953554,
          -0.8239234838514105,
          -0.24380479792713633,
          0.8021227623642619,
          0.8595077643277932,
          -0.89133910900524,
          -0.08704741110358603,
          1.1154306476276132,
          -0.8232991534045231,
          0.03951476468379789,
          -0.5897579157424271,
          0.48638772034887495,
          -0.23689141912829995,
          -0.849875469508366,
          1.2033244290804135,
          -0.9707942664404414,
          0.5345692965058876,
          0.24185563713696623,
          -1.2480718435113924,
          -1.9764817321890251,
          0.17398462490394964,
          -0.2958648071038704,
          -0.9073789839128634,
          -0.320061959697221,
          -1.2894563780049575,
          0.8162202543091142,
          0.7279819747659728,
          0.5016314636811545,
          -1.6350473403411654,
          1.112226070703627,
          -1.3798198056686024,
          0.03712506450794439,
          0.8725646848428592,
          -0.062491031397570555,
          -1.283446523292469,
          0.8042769164891135,
          -1.2878267604909532,
          -2.4243449762842935,
          1.455471611236058,
          0.4262483065173007,
          -1.1011863485263866,
          0.36393070625865315,
          -0.3828540123202687,
          0.07374167084754127,
          -1.3446917941460133,
          -0.07602512088167016,
          2.131579084083562,
          0.8633118511617681,
          0.9567443066299663,
          -0.35082901706021047,
          0.5353353137007961,
          -0.06072553628984715,
          0.4216056690056466,
          1.8201523623294387,
          -1.4207116091443348,
          -0.24445402467878669,
          1.0790482734281726,
          -0.301775352771489,
          -0.463830499688751,
          -0.48449348616253807,
          -0.8952937264879816,
          -0.17464315190589047,
          -1.5690068772777155
         ],
         "yaxis": "y2"
        },
        {
         "line": {
          "color": "rgba(128, 128, 128, 1.0)",
          "dash": "solid",
          "shape": "linear",
          "width": 1.3
         },
         "marker": {
          "size": 2,
          "symbol": "circle"
         },
         "mode": "markers",
         "name": "A",
         "text": "",
         "type": "scatter",
         "x": [
          -0.40315973833766044,
          -1.360054681543459,
          0.7106343682785928,
          -0.9177669533408417,
          0.06883949789015524,
          0.01696296847514918,
          -0.44393478997380553,
          -0.7198535392505376,
          -0.7875483593999346,
          1.9155416094569315,
          0.6583623881679307,
          0.5376709735739473,
          1.0405012466708365,
          -0.23171979820644356,
          -0.3744126532426237,
          -1.1618515687799378,
          -1.3964253535908646,
          0.5769970040773327,
          -1.0835044014698794,
          0.5747678743329491,
          -0.11827539408021497,
          0.2151484932585146,
          0.08078309448514429,
          -2.037047352546062,
          -1.390219773530132,
          0.09167606324494677,
          -0.7235507708580192,
          -0.5405884558003439,
          -1.2811560263191193,
          -0.4543060750192719,
          -1.1165034510234548,
          0.3000613728191319,
          -0.05289080065345519,
          0.362704088345904,
          -0.9680892848574593,
          0.6680708701581071,
          -0.8231344948245031,
          0.715348855171547,
          0.5650247434328161,
          -0.5773761355342275,
          -0.9286783479833696,
          0.7776532703274646,
          -0.12317469719040205,
          -1.1513332111873045,
          0.5063978291626221,
          -0.8742393811420719,
          1.9156488862245638,
          -1.0865525250496144,
          0.44206782103104286,
          0.9026685461629094,
          2.895994875542977,
          1.1285450455156265,
          1.1841356567838248,
          0.19876360513024213,
          1.4886716994001934,
          -0.3327270700698986,
          -0.5621700345151495,
          -0.5847259828949196,
          -1.2846401342555829,
          -0.6016000623194985,
          -0.09861791991283785,
          1.1816530601740363,
          -0.6908357948875438,
          0.3171310416057197,
          0.7552121889991846,
          -2.3888071483371647,
          -1.1485383178467785,
          0.5897185443197643,
          -0.36845595698948597,
          -0.5717563197990444,
          -0.14214523110978153,
          0.0004170052383094638,
          -0.18461428501604366,
          -0.1052252881648122,
          -0.8292749236373992,
          -0.08997556334434115,
          1.2644372314371435,
          2.0832196408139105,
          0.38676730762963063,
          1.4060141059133717,
          -1.3360038713603481,
          0.34749778659436176,
          -0.33806765343092926,
          1.4157584416445,
          -0.7594413490741586,
          -1.762295996654411,
          0.5617175196967619,
          1.7970365337189476,
          -1.0303904420141936,
          -0.9645790425198174,
          0.9914171618392057,
          -0.10285713286924551,
          -0.8135392007267539,
          0.7187908001826215,
          -0.09528272118315335,
          -0.6296134228433697,
          -0.4152341746240974,
          0.4321855310892845,
          0.7934990376332662,
          -0.4736302553853124
         ],
         "xaxis": "x3",
         "y": [
          -0.5009543608026148,
          -0.4204615151389094,
          -0.49553283935936165,
          0.7657304693445539,
          -0.07847397916945117,
          0.6700761884302777,
          1.6148887957746296,
          -0.14346731599489548,
          -0.2665864011088299,
          1.5203733905118066,
          -1.6225831980015681,
          -0.0010036338978958532,
          -0.20764556384936733,
          1.2211140213435423,
          0.7616648705923982,
          0.8511236141237207,
          -0.11514925363568562,
          -0.20936138521130568,
          -0.23694314875636666,
          -1.41396658714284,
          -0.7197209408930788,
          -0.21986205769332937,
          1.0281717480256272,
          -0.34491294269628503,
          1.8387982177216249,
          1.7454245898531036,
          0.40475695887285834,
          0.38445221563913434,
          0.09096690376723829,
          -0.5452474872683721,
          0.36883064898417145,
          0.471064900436615,
          0.08943939927300605,
          -0.04711988398954826,
          -0.377726634293231,
          0.7896939082042002,
          0.2834844224400587,
          -0.3712372134953554,
          -0.8239234838514105,
          -0.24380479792713633,
          0.8021227623642619,
          0.8595077643277932,
          -0.89133910900524,
          -0.08704741110358603,
          1.1154306476276132,
          -0.8232991534045231,
          0.03951476468379789,
          -0.5897579157424271,
          0.48638772034887495,
          -0.23689141912829995,
          -0.849875469508366,
          1.2033244290804135,
          -0.9707942664404414,
          0.5345692965058876,
          0.24185563713696623,
          -1.2480718435113924,
          -1.9764817321890251,
          0.17398462490394964,
          -0.2958648071038704,
          -0.9073789839128634,
          -0.320061959697221,
          -1.2894563780049575,
          0.8162202543091142,
          0.7279819747659728,
          0.5016314636811545,
          -1.6350473403411654,
          1.112226070703627,
          -1.3798198056686024,
          0.03712506450794439,
          0.8725646848428592,
          -0.062491031397570555,
          -1.283446523292469,
          0.8042769164891135,
          -1.2878267604909532,
          -2.4243449762842935,
          1.455471611236058,
          0.4262483065173007,
          -1.1011863485263866,
          0.36393070625865315,
          -0.3828540123202687,
          0.07374167084754127,
          -1.3446917941460133,
          -0.07602512088167016,
          2.131579084083562,
          0.8633118511617681,
          0.9567443066299663,
          -0.35082901706021047,
          0.5353353137007961,
          -0.06072553628984715,
          0.4216056690056466,
          1.8201523623294387,
          -1.4207116091443348,
          -0.24445402467878669,
          1.0790482734281726,
          -0.301775352771489,
          -0.463830499688751,
          -0.48449348616253807,
          -0.8952937264879816,
          -0.17464315190589047,
          -1.5690068772777155
         ],
         "yaxis": "y3"
        },
        {
         "line": {
          "color": "rgba(128, 128, 128, 1.0)",
          "dash": "solid",
          "shape": "linear",
          "width": 1.3
         },
         "marker": {
          "size": 2,
          "symbol": "circle"
         },
         "mode": "markers",
         "name": "A",
         "text": "",
         "type": "scatter",
         "x": [
          0.7289264925102457,
          0.6912077819830305,
          0.8188163578461918,
          -0.30005691761790504,
          -1.4017653130971819,
          0.7418167945956171,
          -1.3072947407549396,
          0.5238505847258861,
          -0.5815439940403195,
          -0.8792388115836571,
          -1.033454430129768,
          0.7403640958737788,
          -1.0588129764174565,
          -0.7771680087119067,
          -1.6617547956883958,
          -1.5914907424879152,
          -1.0160879667124922,
          1.2678132647838818,
          -0.16793391008686473,
          1.0101429611574362,
          1.8032134050852269,
          -0.8999362203146547,
          -0.8539426072478293,
          -0.8009195843748494,
          -0.3664154121540123,
          -0.6107229900880933,
          -0.3350158000287844,
          0.38272189449206223,
          -1.851550337554075,
          1.2840629959739345,
          -0.8612530460386267,
          1.000086231202697,
          -1.3419411720416599,
          -1.0589510959940858,
          1.3923268650795624,
          -0.11210822226961702,
          -0.5842141681440038,
          -0.029178560040188175,
          -0.47118804612841253,
          0.24960142722219547,
          1.1707027090074467,
          -0.5605349045267657,
          -0.5611008894719185,
          1.5079015447793083,
          -0.7149551059987138,
          0.1438353136292474,
          0.8265123257903583,
          -0.023327793020397707,
          -0.6879816871193085,
          -0.19529967496198097,
          -0.30628224009133753,
          -0.8297173264276736,
          0.8345054934481003,
          0.5792416853511556,
          1.5935219415190103,
          -1.4883411834823808,
          0.7293186817888184,
          0.355228253069335,
          -1.3171366027193092,
          -0.056434275320834004,
          -0.5948376052025565,
          0.5778833712404194,
          0.4722524495743788,
          -0.23223626436639552,
          0.4902558443320463,
          1.2950182054810377,
          -1.7760625858810606,
          -0.6227729304429062,
          -0.5991623946916326,
          -0.4982592912885508,
          -1.49314260325824,
          0.9396270239918765,
          0.6009626436464006,
          1.3100598156970285,
          -0.07742400265272653,
          -0.2243421864407254,
          0.1739583018508991,
          -0.5440884129977694,
          -0.905632736795812,
          -0.8238665725545118,
          0.3257163950575212,
          -1.353642736504197,
          0.1249865569350151,
          1.1471228394269801,
          0.01849814702931045,
          1.7175961052390785,
          0.580982847441958,
          0.3738800828849592,
          0.22981324840051287,
          0.09748587227584486,
          0.6838294695060558,
          -1.1805057378264823,
          0.295612020998169,
          0.815165130870034,
          -0.9725072594716221,
          2.529538533955411,
          0.5554954891446603,
          0.61415886993306,
          0.14864075840154758,
          0.31334340852487175
         ],
         "xaxis": "x4",
         "y": [
          -0.5009543608026148,
          -0.4204615151389094,
          -0.49553283935936165,
          0.7657304693445539,
          -0.07847397916945117,
          0.6700761884302777,
          1.6148887957746296,
          -0.14346731599489548,
          -0.2665864011088299,
          1.5203733905118066,
          -1.6225831980015681,
          -0.0010036338978958532,
          -0.20764556384936733,
          1.2211140213435423,
          0.7616648705923982,
          0.8511236141237207,
          -0.11514925363568562,
          -0.20936138521130568,
          -0.23694314875636666,
          -1.41396658714284,
          -0.7197209408930788,
          -0.21986205769332937,
          1.0281717480256272,
          -0.34491294269628503,
          1.8387982177216249,
          1.7454245898531036,
          0.40475695887285834,
          0.38445221563913434,
          0.09096690376723829,
          -0.5452474872683721,
          0.36883064898417145,
          0.471064900436615,
          0.08943939927300605,
          -0.04711988398954826,
          -0.377726634293231,
          0.7896939082042002,
          0.2834844224400587,
          -0.3712372134953554,
          -0.8239234838514105,
          -0.24380479792713633,
          0.8021227623642619,
          0.8595077643277932,
          -0.89133910900524,
          -0.08704741110358603,
          1.1154306476276132,
          -0.8232991534045231,
          0.03951476468379789,
          -0.5897579157424271,
          0.48638772034887495,
          -0.23689141912829995,
          -0.849875469508366,
          1.2033244290804135,
          -0.9707942664404414,
          0.5345692965058876,
          0.24185563713696623,
          -1.2480718435113924,
          -1.9764817321890251,
          0.17398462490394964,
          -0.2958648071038704,
          -0.9073789839128634,
          -0.320061959697221,
          -1.2894563780049575,
          0.8162202543091142,
          0.7279819747659728,
          0.5016314636811545,
          -1.6350473403411654,
          1.112226070703627,
          -1.3798198056686024,
          0.03712506450794439,
          0.8725646848428592,
          -0.062491031397570555,
          -1.283446523292469,
          0.8042769164891135,
          -1.2878267604909532,
          -2.4243449762842935,
          1.455471611236058,
          0.4262483065173007,
          -1.1011863485263866,
          0.36393070625865315,
          -0.3828540123202687,
          0.07374167084754127,
          -1.3446917941460133,
          -0.07602512088167016,
          2.131579084083562,
          0.8633118511617681,
          0.9567443066299663,
          -0.35082901706021047,
          0.5353353137007961,
          -0.06072553628984715,
          0.4216056690056466,
          1.8201523623294387,
          -1.4207116091443348,
          -0.24445402467878669,
          1.0790482734281726,
          -0.301775352771489,
          -0.463830499688751,
          -0.48449348616253807,
          -0.8952937264879816,
          -0.17464315190589047,
          -1.5690068772777155
         ],
         "yaxis": "y4"
        },
        {
         "line": {
          "color": "rgba(128, 128, 128, 1.0)",
          "dash": "solid",
          "shape": "linear",
          "width": 1.3
         },
         "marker": {
          "size": 2,
          "symbol": "circle"
         },
         "mode": "markers",
         "name": "B",
         "text": "",
         "type": "scatter",
         "x": [
          -0.5009543608026148,
          -0.4204615151389094,
          -0.49553283935936165,
          0.7657304693445539,
          -0.07847397916945117,
          0.6700761884302777,
          1.6148887957746296,
          -0.14346731599489548,
          -0.2665864011088299,
          1.5203733905118066,
          -1.6225831980015681,
          -0.0010036338978958532,
          -0.20764556384936733,
          1.2211140213435423,
          0.7616648705923982,
          0.8511236141237207,
          -0.11514925363568562,
          -0.20936138521130568,
          -0.23694314875636666,
          -1.41396658714284,
          -0.7197209408930788,
          -0.21986205769332937,
          1.0281717480256272,
          -0.34491294269628503,
          1.8387982177216249,
          1.7454245898531036,
          0.40475695887285834,
          0.38445221563913434,
          0.09096690376723829,
          -0.5452474872683721,
          0.36883064898417145,
          0.471064900436615,
          0.08943939927300605,
          -0.04711988398954826,
          -0.377726634293231,
          0.7896939082042002,
          0.2834844224400587,
          -0.3712372134953554,
          -0.8239234838514105,
          -0.24380479792713633,
          0.8021227623642619,
          0.8595077643277932,
          -0.89133910900524,
          -0.08704741110358603,
          1.1154306476276132,
          -0.8232991534045231,
          0.03951476468379789,
          -0.5897579157424271,
          0.48638772034887495,
          -0.23689141912829995,
          -0.849875469508366,
          1.2033244290804135,
          -0.9707942664404414,
          0.5345692965058876,
          0.24185563713696623,
          -1.2480718435113924,
          -1.9764817321890251,
          0.17398462490394964,
          -0.2958648071038704,
          -0.9073789839128634,
          -0.320061959697221,
          -1.2894563780049575,
          0.8162202543091142,
          0.7279819747659728,
          0.5016314636811545,
          -1.6350473403411654,
          1.112226070703627,
          -1.3798198056686024,
          0.03712506450794439,
          0.8725646848428592,
          -0.062491031397570555,
          -1.283446523292469,
          0.8042769164891135,
          -1.2878267604909532,
          -2.4243449762842935,
          1.455471611236058,
          0.4262483065173007,
          -1.1011863485263866,
          0.36393070625865315,
          -0.3828540123202687,
          0.07374167084754127,
          -1.3446917941460133,
          -0.07602512088167016,
          2.131579084083562,
          0.8633118511617681,
          0.9567443066299663,
          -0.35082901706021047,
          0.5353353137007961,
          -0.06072553628984715,
          0.4216056690056466,
          1.8201523623294387,
          -1.4207116091443348,
          -0.24445402467878669,
          1.0790482734281726,
          -0.301775352771489,
          -0.463830499688751,
          -0.48449348616253807,
          -0.8952937264879816,
          -0.17464315190589047,
          -1.5690068772777155
         ],
         "xaxis": "x5",
         "y": [
          0.4647073083742839,
          -0.05638983549159592,
          0.8211639860066423,
          -0.5302111813539075,
          -0.026095626254060273,
          0.934819749012539,
          -0.06881896608775859,
          0.7431747218014507,
          -0.6634138417015264,
          -0.6407659494255311,
          -2.0830026972903197,
          1.8045522880146014,
          1.037149625547556,
          0.3248740795752661,
          0.16422555997258756,
          -0.04448673216754261,
          -1.1666989664863299,
          -0.34489031820823246,
          0.023191019187505314,
          -1.130997876996157,
          0.6537048033347655,
          -2.008977265519097,
          2.1187636059019828,
          -0.14720374779769907,
          -0.4119883895674882,
          -0.01889786289040426,
          -0.5408825560442116,
          0.6532664735645086,
          0.3019048417424934,
          1.6458305129952842,
          0.6030209295808521,
          -0.3623998992628467,
          -1.354212000595378,
          -1.172657051102667,
          -0.1769801146101835,
          2.2055905103394196,
          0.2760796035999615,
          -1.7813429624595076,
          0.7750526626200264,
          -0.5805198523009042,
          -1.0618189104978328,
          0.18946634999859532,
          0.381459586503324,
          -0.9242275271954474,
          -0.5628414484788141,
          -0.8638503681130342,
          -0.12409497161196388,
          1.0458509752935239,
          -0.695096587506082,
          1.2734349572542032,
          0.24242678837999837,
          -0.5467390258304995,
          -0.6363370209478098,
          2.013175801488738,
          0.7725826019693162,
          -0.3915999325975337,
          -0.21384985463778458,
          1.4732988178499873,
          -1.946677160191751,
          0.40084042312757945,
          1.3366011084629332,
          -0.3613636341442311,
          0.5298250484301542,
          1.4558635024058049,
          -0.6318727492567257,
          -0.8227985700773811,
          -0.5377019717823004,
          -1.7902939476280129,
          -0.26846879662803125,
          1.465181281886347,
          2.3219711044551956,
          0.9250989703211202,
          0.8916825245438201,
          -1.1517637591562595,
          -0.19150262412323274,
          1.4792770255841388,
          1.6861949140510182,
          0.4512015631832032,
          0.1485498153576192,
          0.7032594474993233,
          1.398402958112115,
          -0.0031789942556199823,
          -0.6032519124226736,
          0.9550811638193741,
          1.737666005127905,
          1.060053557429989,
          1.2895208947773007,
          -1.1953320328355028,
          1.782261738784618,
          1.9306290169917022,
          -0.7425207838161446,
          -0.9754342092359741,
          0.9982550336125903,
          0.04387350789025311,
          -0.6029540220032642,
          -0.3176203472281875,
          1.3016837317080092,
          1.319139155169162,
          0.60300051445889,
          -0.4734361308297189
         ],
         "yaxis": "y5"
        },
        {
         "histfunc": "count",
         "histnorm": "",
         "marker": {
          "color": "rgba(55, 128, 191, 1.0)",
          "line": {
           "color": "#4D5663",
           "width": 1.3
          }
         },
         "name": "B",
         "nbinsx": 10,
         "opacity": 0.8,
         "orientation": "v",
         "type": "histogram",
         "x": [
          0.4647073083742839,
          -0.05638983549159592,
          0.8211639860066423,
          -0.5302111813539075,
          -0.026095626254060273,
          0.934819749012539,
          -0.06881896608775859,
          0.7431747218014507,
          -0.6634138417015264,
          -0.6407659494255311,
          -2.0830026972903197,
          1.8045522880146014,
          1.037149625547556,
          0.3248740795752661,
          0.16422555997258756,
          -0.04448673216754261,
          -1.1666989664863299,
          -0.34489031820823246,
          0.023191019187505314,
          -1.130997876996157,
          0.6537048033347655,
          -2.008977265519097,
          2.1187636059019828,
          -0.14720374779769907,
          -0.4119883895674882,
          -0.01889786289040426,
          -0.5408825560442116,
          0.6532664735645086,
          0.3019048417424934,
          1.6458305129952842,
          0.6030209295808521,
          -0.3623998992628467,
          -1.354212000595378,
          -1.172657051102667,
          -0.1769801146101835,
          2.2055905103394196,
          0.2760796035999615,
          -1.7813429624595076,
          0.7750526626200264,
          -0.5805198523009042,
          -1.0618189104978328,
          0.18946634999859532,
          0.381459586503324,
          -0.9242275271954474,
          -0.5628414484788141,
          -0.8638503681130342,
          -0.12409497161196388,
          1.0458509752935239,
          -0.695096587506082,
          1.2734349572542032,
          0.24242678837999837,
          -0.5467390258304995,
          -0.6363370209478098,
          2.013175801488738,
          0.7725826019693162,
          -0.3915999325975337,
          -0.21384985463778458,
          1.4732988178499873,
          -1.946677160191751,
          0.40084042312757945,
          1.3366011084629332,
          -0.3613636341442311,
          0.5298250484301542,
          1.4558635024058049,
          -0.6318727492567257,
          -0.8227985700773811,
          -0.5377019717823004,
          -1.7902939476280129,
          -0.26846879662803125,
          1.465181281886347,
          2.3219711044551956,
          0.9250989703211202,
          0.8916825245438201,
          -1.1517637591562595,
          -0.19150262412323274,
          1.4792770255841388,
          1.6861949140510182,
          0.4512015631832032,
          0.1485498153576192,
          0.7032594474993233,
          1.398402958112115,
          -0.0031789942556199823,
          -0.6032519124226736,
          0.9550811638193741,
          1.737666005127905,
          1.060053557429989,
          1.2895208947773007,
          -1.1953320328355028,
          1.782261738784618,
          1.9306290169917022,
          -0.7425207838161446,
          -0.9754342092359741,
          0.9982550336125903,
          0.04387350789025311,
          -0.6029540220032642,
          -0.3176203472281875,
          1.3016837317080092,
          1.319139155169162,
          0.60300051445889,
          -0.4734361308297189
         ],
         "xaxis": "x6",
         "yaxis": "y6"
        },
        {
         "line": {
          "color": "rgba(128, 128, 128, 1.0)",
          "dash": "solid",
          "shape": "linear",
          "width": 1.3
         },
         "marker": {
          "size": 2,
          "symbol": "circle"
         },
         "mode": "markers",
         "name": "B",
         "text": "",
         "type": "scatter",
         "x": [
          -0.40315973833766044,
          -1.360054681543459,
          0.7106343682785928,
          -0.9177669533408417,
          0.06883949789015524,
          0.01696296847514918,
          -0.44393478997380553,
          -0.7198535392505376,
          -0.7875483593999346,
          1.9155416094569315,
          0.6583623881679307,
          0.5376709735739473,
          1.0405012466708365,
          -0.23171979820644356,
          -0.3744126532426237,
          -1.1618515687799378,
          -1.3964253535908646,
          0.5769970040773327,
          -1.0835044014698794,
          0.5747678743329491,
          -0.11827539408021497,
          0.2151484932585146,
          0.08078309448514429,
          -2.037047352546062,
          -1.390219773530132,
          0.09167606324494677,
          -0.7235507708580192,
          -0.5405884558003439,
          -1.2811560263191193,
          -0.4543060750192719,
          -1.1165034510234548,
          0.3000613728191319,
          -0.05289080065345519,
          0.362704088345904,
          -0.9680892848574593,
          0.6680708701581071,
          -0.8231344948245031,
          0.715348855171547,
          0.5650247434328161,
          -0.5773761355342275,
          -0.9286783479833696,
          0.7776532703274646,
          -0.12317469719040205,
          -1.1513332111873045,
          0.5063978291626221,
          -0.8742393811420719,
          1.9156488862245638,
          -1.0865525250496144,
          0.44206782103104286,
          0.9026685461629094,
          2.895994875542977,
          1.1285450455156265,
          1.1841356567838248,
          0.19876360513024213,
          1.4886716994001934,
          -0.3327270700698986,
          -0.5621700345151495,
          -0.5847259828949196,
          -1.2846401342555829,
          -0.6016000623194985,
          -0.09861791991283785,
          1.1816530601740363,
          -0.6908357948875438,
          0.3171310416057197,
          0.7552121889991846,
          -2.3888071483371647,
          -1.1485383178467785,
          0.5897185443197643,
          -0.36845595698948597,
          -0.5717563197990444,
          -0.14214523110978153,
          0.0004170052383094638,
          -0.18461428501604366,
          -0.1052252881648122,
          -0.8292749236373992,
          -0.08997556334434115,
          1.2644372314371435,
          2.0832196408139105,
          0.38676730762963063,
          1.4060141059133717,
          -1.3360038713603481,
          0.34749778659436176,
          -0.33806765343092926,
          1.4157584416445,
          -0.7594413490741586,
          -1.762295996654411,
          0.5617175196967619,
          1.7970365337189476,
          -1.0303904420141936,
          -0.9645790425198174,
          0.9914171618392057,
          -0.10285713286924551,
          -0.8135392007267539,
          0.7187908001826215,
          -0.09528272118315335,
          -0.6296134228433697,
          -0.4152341746240974,
          0.4321855310892845,
          0.7934990376332662,
          -0.4736302553853124
         ],
         "xaxis": "x7",
         "y": [
          0.4647073083742839,
          -0.05638983549159592,
          0.8211639860066423,
          -0.5302111813539075,
          -0.026095626254060273,
          0.934819749012539,
          -0.06881896608775859,
          0.7431747218014507,
          -0.6634138417015264,
          -0.6407659494255311,
          -2.0830026972903197,
          1.8045522880146014,
          1.037149625547556,
          0.3248740795752661,
          0.16422555997258756,
          -0.04448673216754261,
          -1.1666989664863299,
          -0.34489031820823246,
          0.023191019187505314,
          -1.130997876996157,
          0.6537048033347655,
          -2.008977265519097,
          2.1187636059019828,
          -0.14720374779769907,
          -0.4119883895674882,
          -0.01889786289040426,
          -0.5408825560442116,
          0.6532664735645086,
          0.3019048417424934,
          1.6458305129952842,
          0.6030209295808521,
          -0.3623998992628467,
          -1.354212000595378,
          -1.172657051102667,
          -0.1769801146101835,
          2.2055905103394196,
          0.2760796035999615,
          -1.7813429624595076,
          0.7750526626200264,
          -0.5805198523009042,
          -1.0618189104978328,
          0.18946634999859532,
          0.381459586503324,
          -0.9242275271954474,
          -0.5628414484788141,
          -0.8638503681130342,
          -0.12409497161196388,
          1.0458509752935239,
          -0.695096587506082,
          1.2734349572542032,
          0.24242678837999837,
          -0.5467390258304995,
          -0.6363370209478098,
          2.013175801488738,
          0.7725826019693162,
          -0.3915999325975337,
          -0.21384985463778458,
          1.4732988178499873,
          -1.946677160191751,
          0.40084042312757945,
          1.3366011084629332,
          -0.3613636341442311,
          0.5298250484301542,
          1.4558635024058049,
          -0.6318727492567257,
          -0.8227985700773811,
          -0.5377019717823004,
          -1.7902939476280129,
          -0.26846879662803125,
          1.465181281886347,
          2.3219711044551956,
          0.9250989703211202,
          0.8916825245438201,
          -1.1517637591562595,
          -0.19150262412323274,
          1.4792770255841388,
          1.6861949140510182,
          0.4512015631832032,
          0.1485498153576192,
          0.7032594474993233,
          1.398402958112115,
          -0.0031789942556199823,
          -0.6032519124226736,
          0.9550811638193741,
          1.737666005127905,
          1.060053557429989,
          1.2895208947773007,
          -1.1953320328355028,
          1.782261738784618,
          1.9306290169917022,
          -0.7425207838161446,
          -0.9754342092359741,
          0.9982550336125903,
          0.04387350789025311,
          -0.6029540220032642,
          -0.3176203472281875,
          1.3016837317080092,
          1.319139155169162,
          0.60300051445889,
          -0.4734361308297189
         ],
         "yaxis": "y7"
        },
        {
         "line": {
          "color": "rgba(128, 128, 128, 1.0)",
          "dash": "solid",
          "shape": "linear",
          "width": 1.3
         },
         "marker": {
          "size": 2,
          "symbol": "circle"
         },
         "mode": "markers",
         "name": "B",
         "text": "",
         "type": "scatter",
         "x": [
          0.7289264925102457,
          0.6912077819830305,
          0.8188163578461918,
          -0.30005691761790504,
          -1.4017653130971819,
          0.7418167945956171,
          -1.3072947407549396,
          0.5238505847258861,
          -0.5815439940403195,
          -0.8792388115836571,
          -1.033454430129768,
          0.7403640958737788,
          -1.0588129764174565,
          -0.7771680087119067,
          -1.6617547956883958,
          -1.5914907424879152,
          -1.0160879667124922,
          1.2678132647838818,
          -0.16793391008686473,
          1.0101429611574362,
          1.8032134050852269,
          -0.8999362203146547,
          -0.8539426072478293,
          -0.8009195843748494,
          -0.3664154121540123,
          -0.6107229900880933,
          -0.3350158000287844,
          0.38272189449206223,
          -1.851550337554075,
          1.2840629959739345,
          -0.8612530460386267,
          1.000086231202697,
          -1.3419411720416599,
          -1.0589510959940858,
          1.3923268650795624,
          -0.11210822226961702,
          -0.5842141681440038,
          -0.029178560040188175,
          -0.47118804612841253,
          0.24960142722219547,
          1.1707027090074467,
          -0.5605349045267657,
          -0.5611008894719185,
          1.5079015447793083,
          -0.7149551059987138,
          0.1438353136292474,
          0.8265123257903583,
          -0.023327793020397707,
          -0.6879816871193085,
          -0.19529967496198097,
          -0.30628224009133753,
          -0.8297173264276736,
          0.8345054934481003,
          0.5792416853511556,
          1.5935219415190103,
          -1.4883411834823808,
          0.7293186817888184,
          0.355228253069335,
          -1.3171366027193092,
          -0.056434275320834004,
          -0.5948376052025565,
          0.5778833712404194,
          0.4722524495743788,
          -0.23223626436639552,
          0.4902558443320463,
          1.2950182054810377,
          -1.7760625858810606,
          -0.6227729304429062,
          -0.5991623946916326,
          -0.4982592912885508,
          -1.49314260325824,
          0.9396270239918765,
          0.6009626436464006,
          1.3100598156970285,
          -0.07742400265272653,
          -0.2243421864407254,
          0.1739583018508991,
          -0.5440884129977694,
          -0.905632736795812,
          -0.8238665725545118,
          0.3257163950575212,
          -1.353642736504197,
          0.1249865569350151,
          1.1471228394269801,
          0.01849814702931045,
          1.7175961052390785,
          0.580982847441958,
          0.3738800828849592,
          0.22981324840051287,
          0.09748587227584486,
          0.6838294695060558,
          -1.1805057378264823,
          0.295612020998169,
          0.815165130870034,
          -0.9725072594716221,
          2.529538533955411,
          0.5554954891446603,
          0.61415886993306,
          0.14864075840154758,
          0.31334340852487175
         ],
         "xaxis": "x8",
         "y": [
          0.4647073083742839,
          -0.05638983549159592,
          0.8211639860066423,
          -0.5302111813539075,
          -0.026095626254060273,
          0.934819749012539,
          -0.06881896608775859,
          0.7431747218014507,
          -0.6634138417015264,
          -0.6407659494255311,
          -2.0830026972903197,
          1.8045522880146014,
          1.037149625547556,
          0.3248740795752661,
          0.16422555997258756,
          -0.04448673216754261,
          -1.1666989664863299,
          -0.34489031820823246,
          0.023191019187505314,
          -1.130997876996157,
          0.6537048033347655,
          -2.008977265519097,
          2.1187636059019828,
          -0.14720374779769907,
          -0.4119883895674882,
          -0.01889786289040426,
          -0.5408825560442116,
          0.6532664735645086,
          0.3019048417424934,
          1.6458305129952842,
          0.6030209295808521,
          -0.3623998992628467,
          -1.354212000595378,
          -1.172657051102667,
          -0.1769801146101835,
          2.2055905103394196,
          0.2760796035999615,
          -1.7813429624595076,
          0.7750526626200264,
          -0.5805198523009042,
          -1.0618189104978328,
          0.18946634999859532,
          0.381459586503324,
          -0.9242275271954474,
          -0.5628414484788141,
          -0.8638503681130342,
          -0.12409497161196388,
          1.0458509752935239,
          -0.695096587506082,
          1.2734349572542032,
          0.24242678837999837,
          -0.5467390258304995,
          -0.6363370209478098,
          2.013175801488738,
          0.7725826019693162,
          -0.3915999325975337,
          -0.21384985463778458,
          1.4732988178499873,
          -1.946677160191751,
          0.40084042312757945,
          1.3366011084629332,
          -0.3613636341442311,
          0.5298250484301542,
          1.4558635024058049,
          -0.6318727492567257,
          -0.8227985700773811,
          -0.5377019717823004,
          -1.7902939476280129,
          -0.26846879662803125,
          1.465181281886347,
          2.3219711044551956,
          0.9250989703211202,
          0.8916825245438201,
          -1.1517637591562595,
          -0.19150262412323274,
          1.4792770255841388,
          1.6861949140510182,
          0.4512015631832032,
          0.1485498153576192,
          0.7032594474993233,
          1.398402958112115,
          -0.0031789942556199823,
          -0.6032519124226736,
          0.9550811638193741,
          1.737666005127905,
          1.060053557429989,
          1.2895208947773007,
          -1.1953320328355028,
          1.782261738784618,
          1.9306290169917022,
          -0.7425207838161446,
          -0.9754342092359741,
          0.9982550336125903,
          0.04387350789025311,
          -0.6029540220032642,
          -0.3176203472281875,
          1.3016837317080092,
          1.319139155169162,
          0.60300051445889,
          -0.4734361308297189
         ],
         "yaxis": "y8"
        },
        {
         "line": {
          "color": "rgba(128, 128, 128, 1.0)",
          "dash": "solid",
          "shape": "linear",
          "width": 1.3
         },
         "marker": {
          "size": 2,
          "symbol": "circle"
         },
         "mode": "markers",
         "name": "C",
         "text": "",
         "type": "scatter",
         "x": [
          -0.5009543608026148,
          -0.4204615151389094,
          -0.49553283935936165,
          0.7657304693445539,
          -0.07847397916945117,
          0.6700761884302777,
          1.6148887957746296,
          -0.14346731599489548,
          -0.2665864011088299,
          1.5203733905118066,
          -1.6225831980015681,
          -0.0010036338978958532,
          -0.20764556384936733,
          1.2211140213435423,
          0.7616648705923982,
          0.8511236141237207,
          -0.11514925363568562,
          -0.20936138521130568,
          -0.23694314875636666,
          -1.41396658714284,
          -0.7197209408930788,
          -0.21986205769332937,
          1.0281717480256272,
          -0.34491294269628503,
          1.8387982177216249,
          1.7454245898531036,
          0.40475695887285834,
          0.38445221563913434,
          0.09096690376723829,
          -0.5452474872683721,
          0.36883064898417145,
          0.471064900436615,
          0.08943939927300605,
          -0.04711988398954826,
          -0.377726634293231,
          0.7896939082042002,
          0.2834844224400587,
          -0.3712372134953554,
          -0.8239234838514105,
          -0.24380479792713633,
          0.8021227623642619,
          0.8595077643277932,
          -0.89133910900524,
          -0.08704741110358603,
          1.1154306476276132,
          -0.8232991534045231,
          0.03951476468379789,
          -0.5897579157424271,
          0.48638772034887495,
          -0.23689141912829995,
          -0.849875469508366,
          1.2033244290804135,
          -0.9707942664404414,
          0.5345692965058876,
          0.24185563713696623,
          -1.2480718435113924,
          -1.9764817321890251,
          0.17398462490394964,
          -0.2958648071038704,
          -0.9073789839128634,
          -0.320061959697221,
          -1.2894563780049575,
          0.8162202543091142,
          0.7279819747659728,
          0.5016314636811545,
          -1.6350473403411654,
          1.112226070703627,
          -1.3798198056686024,
          0.03712506450794439,
          0.8725646848428592,
          -0.062491031397570555,
          -1.283446523292469,
          0.8042769164891135,
          -1.2878267604909532,
          -2.4243449762842935,
          1.455471611236058,
          0.4262483065173007,
          -1.1011863485263866,
          0.36393070625865315,
          -0.3828540123202687,
          0.07374167084754127,
          -1.3446917941460133,
          -0.07602512088167016,
          2.131579084083562,
          0.8633118511617681,
          0.9567443066299663,
          -0.35082901706021047,
          0.5353353137007961,
          -0.06072553628984715,
          0.4216056690056466,
          1.8201523623294387,
          -1.4207116091443348,
          -0.24445402467878669,
          1.0790482734281726,
          -0.301775352771489,
          -0.463830499688751,
          -0.48449348616253807,
          -0.8952937264879816,
          -0.17464315190589047,
          -1.5690068772777155
         ],
         "xaxis": "x9",
         "y": [
          -0.40315973833766044,
          -1.360054681543459,
          0.7106343682785928,
          -0.9177669533408417,
          0.06883949789015524,
          0.01696296847514918,
          -0.44393478997380553,
          -0.7198535392505376,
          -0.7875483593999346,
          1.9155416094569315,
          0.6583623881679307,
          0.5376709735739473,
          1.0405012466708365,
          -0.23171979820644356,
          -0.3744126532426237,
          -1.1618515687799378,
          -1.3964253535908646,
          0.5769970040773327,
          -1.0835044014698794,
          0.5747678743329491,
          -0.11827539408021497,
          0.2151484932585146,
          0.08078309448514429,
          -2.037047352546062,
          -1.390219773530132,
          0.09167606324494677,
          -0.7235507708580192,
          -0.5405884558003439,
          -1.2811560263191193,
          -0.4543060750192719,
          -1.1165034510234548,
          0.3000613728191319,
          -0.05289080065345519,
          0.362704088345904,
          -0.9680892848574593,
          0.6680708701581071,
          -0.8231344948245031,
          0.715348855171547,
          0.5650247434328161,
          -0.5773761355342275,
          -0.9286783479833696,
          0.7776532703274646,
          -0.12317469719040205,
          -1.1513332111873045,
          0.5063978291626221,
          -0.8742393811420719,
          1.9156488862245638,
          -1.0865525250496144,
          0.44206782103104286,
          0.9026685461629094,
          2.895994875542977,
          1.1285450455156265,
          1.1841356567838248,
          0.19876360513024213,
          1.4886716994001934,
          -0.3327270700698986,
          -0.5621700345151495,
          -0.5847259828949196,
          -1.2846401342555829,
          -0.6016000623194985,
          -0.09861791991283785,
          1.1816530601740363,
          -0.6908357948875438,
          0.3171310416057197,
          0.7552121889991846,
          -2.3888071483371647,
          -1.1485383178467785,
          0.5897185443197643,
          -0.36845595698948597,
          -0.5717563197990444,
          -0.14214523110978153,
          0.0004170052383094638,
          -0.18461428501604366,
          -0.1052252881648122,
          -0.8292749236373992,
          -0.08997556334434115,
          1.2644372314371435,
          2.0832196408139105,
          0.38676730762963063,
          1.4060141059133717,
          -1.3360038713603481,
          0.34749778659436176,
          -0.33806765343092926,
          1.4157584416445,
          -0.7594413490741586,
          -1.762295996654411,
          0.5617175196967619,
          1.7970365337189476,
          -1.0303904420141936,
          -0.9645790425198174,
          0.9914171618392057,
          -0.10285713286924551,
          -0.8135392007267539,
          0.7187908001826215,
          -0.09528272118315335,
          -0.6296134228433697,
          -0.4152341746240974,
          0.4321855310892845,
          0.7934990376332662,
          -0.4736302553853124
         ],
         "yaxis": "y9"
        },
        {
         "line": {
          "color": "rgba(128, 128, 128, 1.0)",
          "dash": "solid",
          "shape": "linear",
          "width": 1.3
         },
         "marker": {
          "size": 2,
          "symbol": "circle"
         },
         "mode": "markers",
         "name": "C",
         "text": "",
         "type": "scatter",
         "x": [
          0.4647073083742839,
          -0.05638983549159592,
          0.8211639860066423,
          -0.5302111813539075,
          -0.026095626254060273,
          0.934819749012539,
          -0.06881896608775859,
          0.7431747218014507,
          -0.6634138417015264,
          -0.6407659494255311,
          -2.0830026972903197,
          1.8045522880146014,
          1.037149625547556,
          0.3248740795752661,
          0.16422555997258756,
          -0.04448673216754261,
          -1.1666989664863299,
          -0.34489031820823246,
          0.023191019187505314,
          -1.130997876996157,
          0.6537048033347655,
          -2.008977265519097,
          2.1187636059019828,
          -0.14720374779769907,
          -0.4119883895674882,
          -0.01889786289040426,
          -0.5408825560442116,
          0.6532664735645086,
          0.3019048417424934,
          1.6458305129952842,
          0.6030209295808521,
          -0.3623998992628467,
          -1.354212000595378,
          -1.172657051102667,
          -0.1769801146101835,
          2.2055905103394196,
          0.2760796035999615,
          -1.7813429624595076,
          0.7750526626200264,
          -0.5805198523009042,
          -1.0618189104978328,
          0.18946634999859532,
          0.381459586503324,
          -0.9242275271954474,
          -0.5628414484788141,
          -0.8638503681130342,
          -0.12409497161196388,
          1.0458509752935239,
          -0.695096587506082,
          1.2734349572542032,
          0.24242678837999837,
          -0.5467390258304995,
          -0.6363370209478098,
          2.013175801488738,
          0.7725826019693162,
          -0.3915999325975337,
          -0.21384985463778458,
          1.4732988178499873,
          -1.946677160191751,
          0.40084042312757945,
          1.3366011084629332,
          -0.3613636341442311,
          0.5298250484301542,
          1.4558635024058049,
          -0.6318727492567257,
          -0.8227985700773811,
          -0.5377019717823004,
          -1.7902939476280129,
          -0.26846879662803125,
          1.465181281886347,
          2.3219711044551956,
          0.9250989703211202,
          0.8916825245438201,
          -1.1517637591562595,
          -0.19150262412323274,
          1.4792770255841388,
          1.6861949140510182,
          0.4512015631832032,
          0.1485498153576192,
          0.7032594474993233,
          1.398402958112115,
          -0.0031789942556199823,
          -0.6032519124226736,
          0.9550811638193741,
          1.737666005127905,
          1.060053557429989,
          1.2895208947773007,
          -1.1953320328355028,
          1.782261738784618,
          1.9306290169917022,
          -0.7425207838161446,
          -0.9754342092359741,
          0.9982550336125903,
          0.04387350789025311,
          -0.6029540220032642,
          -0.3176203472281875,
          1.3016837317080092,
          1.319139155169162,
          0.60300051445889,
          -0.4734361308297189
         ],
         "xaxis": "x10",
         "y": [
          -0.40315973833766044,
          -1.360054681543459,
          0.7106343682785928,
          -0.9177669533408417,
          0.06883949789015524,
          0.01696296847514918,
          -0.44393478997380553,
          -0.7198535392505376,
          -0.7875483593999346,
          1.9155416094569315,
          0.6583623881679307,
          0.5376709735739473,
          1.0405012466708365,
          -0.23171979820644356,
          -0.3744126532426237,
          -1.1618515687799378,
          -1.3964253535908646,
          0.5769970040773327,
          -1.0835044014698794,
          0.5747678743329491,
          -0.11827539408021497,
          0.2151484932585146,
          0.08078309448514429,
          -2.037047352546062,
          -1.390219773530132,
          0.09167606324494677,
          -0.7235507708580192,
          -0.5405884558003439,
          -1.2811560263191193,
          -0.4543060750192719,
          -1.1165034510234548,
          0.3000613728191319,
          -0.05289080065345519,
          0.362704088345904,
          -0.9680892848574593,
          0.6680708701581071,
          -0.8231344948245031,
          0.715348855171547,
          0.5650247434328161,
          -0.5773761355342275,
          -0.9286783479833696,
          0.7776532703274646,
          -0.12317469719040205,
          -1.1513332111873045,
          0.5063978291626221,
          -0.8742393811420719,
          1.9156488862245638,
          -1.0865525250496144,
          0.44206782103104286,
          0.9026685461629094,
          2.895994875542977,
          1.1285450455156265,
          1.1841356567838248,
          0.19876360513024213,
          1.4886716994001934,
          -0.3327270700698986,
          -0.5621700345151495,
          -0.5847259828949196,
          -1.2846401342555829,
          -0.6016000623194985,
          -0.09861791991283785,
          1.1816530601740363,
          -0.6908357948875438,
          0.3171310416057197,
          0.7552121889991846,
          -2.3888071483371647,
          -1.1485383178467785,
          0.5897185443197643,
          -0.36845595698948597,
          -0.5717563197990444,
          -0.14214523110978153,
          0.0004170052383094638,
          -0.18461428501604366,
          -0.1052252881648122,
          -0.8292749236373992,
          -0.08997556334434115,
          1.2644372314371435,
          2.0832196408139105,
          0.38676730762963063,
          1.4060141059133717,
          -1.3360038713603481,
          0.34749778659436176,
          -0.33806765343092926,
          1.4157584416445,
          -0.7594413490741586,
          -1.762295996654411,
          0.5617175196967619,
          1.7970365337189476,
          -1.0303904420141936,
          -0.9645790425198174,
          0.9914171618392057,
          -0.10285713286924551,
          -0.8135392007267539,
          0.7187908001826215,
          -0.09528272118315335,
          -0.6296134228433697,
          -0.4152341746240974,
          0.4321855310892845,
          0.7934990376332662,
          -0.4736302553853124
         ],
         "yaxis": "y10"
        },
        {
         "histfunc": "count",
         "histnorm": "",
         "marker": {
          "color": "rgba(50, 171, 96, 1.0)",
          "line": {
           "color": "#4D5663",
           "width": 1.3
          }
         },
         "name": "C",
         "nbinsx": 10,
         "opacity": 0.8,
         "orientation": "v",
         "type": "histogram",
         "x": [
          -0.40315973833766044,
          -1.360054681543459,
          0.7106343682785928,
          -0.9177669533408417,
          0.06883949789015524,
          0.01696296847514918,
          -0.44393478997380553,
          -0.7198535392505376,
          -0.7875483593999346,
          1.9155416094569315,
          0.6583623881679307,
          0.5376709735739473,
          1.0405012466708365,
          -0.23171979820644356,
          -0.3744126532426237,
          -1.1618515687799378,
          -1.3964253535908646,
          0.5769970040773327,
          -1.0835044014698794,
          0.5747678743329491,
          -0.11827539408021497,
          0.2151484932585146,
          0.08078309448514429,
          -2.037047352546062,
          -1.390219773530132,
          0.09167606324494677,
          -0.7235507708580192,
          -0.5405884558003439,
          -1.2811560263191193,
          -0.4543060750192719,
          -1.1165034510234548,
          0.3000613728191319,
          -0.05289080065345519,
          0.362704088345904,
          -0.9680892848574593,
          0.6680708701581071,
          -0.8231344948245031,
          0.715348855171547,
          0.5650247434328161,
          -0.5773761355342275,
          -0.9286783479833696,
          0.7776532703274646,
          -0.12317469719040205,
          -1.1513332111873045,
          0.5063978291626221,
          -0.8742393811420719,
          1.9156488862245638,
          -1.0865525250496144,
          0.44206782103104286,
          0.9026685461629094,
          2.895994875542977,
          1.1285450455156265,
          1.1841356567838248,
          0.19876360513024213,
          1.4886716994001934,
          -0.3327270700698986,
          -0.5621700345151495,
          -0.5847259828949196,
          -1.2846401342555829,
          -0.6016000623194985,
          -0.09861791991283785,
          1.1816530601740363,
          -0.6908357948875438,
          0.3171310416057197,
          0.7552121889991846,
          -2.3888071483371647,
          -1.1485383178467785,
          0.5897185443197643,
          -0.36845595698948597,
          -0.5717563197990444,
          -0.14214523110978153,
          0.0004170052383094638,
          -0.18461428501604366,
          -0.1052252881648122,
          -0.8292749236373992,
          -0.08997556334434115,
          1.2644372314371435,
          2.0832196408139105,
          0.38676730762963063,
          1.4060141059133717,
          -1.3360038713603481,
          0.34749778659436176,
          -0.33806765343092926,
          1.4157584416445,
          -0.7594413490741586,
          -1.762295996654411,
          0.5617175196967619,
          1.7970365337189476,
          -1.0303904420141936,
          -0.9645790425198174,
          0.9914171618392057,
          -0.10285713286924551,
          -0.8135392007267539,
          0.7187908001826215,
          -0.09528272118315335,
          -0.6296134228433697,
          -0.4152341746240974,
          0.4321855310892845,
          0.7934990376332662,
          -0.4736302553853124
         ],
         "xaxis": "x11",
         "yaxis": "y11"
        },
        {
         "line": {
          "color": "rgba(128, 128, 128, 1.0)",
          "dash": "solid",
          "shape": "linear",
          "width": 1.3
         },
         "marker": {
          "size": 2,
          "symbol": "circle"
         },
         "mode": "markers",
         "name": "C",
         "text": "",
         "type": "scatter",
         "x": [
          0.7289264925102457,
          0.6912077819830305,
          0.8188163578461918,
          -0.30005691761790504,
          -1.4017653130971819,
          0.7418167945956171,
          -1.3072947407549396,
          0.5238505847258861,
          -0.5815439940403195,
          -0.8792388115836571,
          -1.033454430129768,
          0.7403640958737788,
          -1.0588129764174565,
          -0.7771680087119067,
          -1.6617547956883958,
          -1.5914907424879152,
          -1.0160879667124922,
          1.2678132647838818,
          -0.16793391008686473,
          1.0101429611574362,
          1.8032134050852269,
          -0.8999362203146547,
          -0.8539426072478293,
          -0.8009195843748494,
          -0.3664154121540123,
          -0.6107229900880933,
          -0.3350158000287844,
          0.38272189449206223,
          -1.851550337554075,
          1.2840629959739345,
          -0.8612530460386267,
          1.000086231202697,
          -1.3419411720416599,
          -1.0589510959940858,
          1.3923268650795624,
          -0.11210822226961702,
          -0.5842141681440038,
          -0.029178560040188175,
          -0.47118804612841253,
          0.24960142722219547,
          1.1707027090074467,
          -0.5605349045267657,
          -0.5611008894719185,
          1.5079015447793083,
          -0.7149551059987138,
          0.1438353136292474,
          0.8265123257903583,
          -0.023327793020397707,
          -0.6879816871193085,
          -0.19529967496198097,
          -0.30628224009133753,
          -0.8297173264276736,
          0.8345054934481003,
          0.5792416853511556,
          1.5935219415190103,
          -1.4883411834823808,
          0.7293186817888184,
          0.355228253069335,
          -1.3171366027193092,
          -0.056434275320834004,
          -0.5948376052025565,
          0.5778833712404194,
          0.4722524495743788,
          -0.23223626436639552,
          0.4902558443320463,
          1.2950182054810377,
          -1.7760625858810606,
          -0.6227729304429062,
          -0.5991623946916326,
          -0.4982592912885508,
          -1.49314260325824,
          0.9396270239918765,
          0.6009626436464006,
          1.3100598156970285,
          -0.07742400265272653,
          -0.2243421864407254,
          0.1739583018508991,
          -0.5440884129977694,
          -0.905632736795812,
          -0.8238665725545118,
          0.3257163950575212,
          -1.353642736504197,
          0.1249865569350151,
          1.1471228394269801,
          0.01849814702931045,
          1.7175961052390785,
          0.580982847441958,
          0.3738800828849592,
          0.22981324840051287,
          0.09748587227584486,
          0.6838294695060558,
          -1.1805057378264823,
          0.295612020998169,
          0.815165130870034,
          -0.9725072594716221,
          2.529538533955411,
          0.5554954891446603,
          0.61415886993306,
          0.14864075840154758,
          0.31334340852487175
         ],
         "xaxis": "x12",
         "y": [
          -0.40315973833766044,
          -1.360054681543459,
          0.7106343682785928,
          -0.9177669533408417,
          0.06883949789015524,
          0.01696296847514918,
          -0.44393478997380553,
          -0.7198535392505376,
          -0.7875483593999346,
          1.9155416094569315,
          0.6583623881679307,
          0.5376709735739473,
          1.0405012466708365,
          -0.23171979820644356,
          -0.3744126532426237,
          -1.1618515687799378,
          -1.3964253535908646,
          0.5769970040773327,
          -1.0835044014698794,
          0.5747678743329491,
          -0.11827539408021497,
          0.2151484932585146,
          0.08078309448514429,
          -2.037047352546062,
          -1.390219773530132,
          0.09167606324494677,
          -0.7235507708580192,
          -0.5405884558003439,
          -1.2811560263191193,
          -0.4543060750192719,
          -1.1165034510234548,
          0.3000613728191319,
          -0.05289080065345519,
          0.362704088345904,
          -0.9680892848574593,
          0.6680708701581071,
          -0.8231344948245031,
          0.715348855171547,
          0.5650247434328161,
          -0.5773761355342275,
          -0.9286783479833696,
          0.7776532703274646,
          -0.12317469719040205,
          -1.1513332111873045,
          0.5063978291626221,
          -0.8742393811420719,
          1.9156488862245638,
          -1.0865525250496144,
          0.44206782103104286,
          0.9026685461629094,
          2.895994875542977,
          1.1285450455156265,
          1.1841356567838248,
          0.19876360513024213,
          1.4886716994001934,
          -0.3327270700698986,
          -0.5621700345151495,
          -0.5847259828949196,
          -1.2846401342555829,
          -0.6016000623194985,
          -0.09861791991283785,
          1.1816530601740363,
          -0.6908357948875438,
          0.3171310416057197,
          0.7552121889991846,
          -2.3888071483371647,
          -1.1485383178467785,
          0.5897185443197643,
          -0.36845595698948597,
          -0.5717563197990444,
          -0.14214523110978153,
          0.0004170052383094638,
          -0.18461428501604366,
          -0.1052252881648122,
          -0.8292749236373992,
          -0.08997556334434115,
          1.2644372314371435,
          2.0832196408139105,
          0.38676730762963063,
          1.4060141059133717,
          -1.3360038713603481,
          0.34749778659436176,
          -0.33806765343092926,
          1.4157584416445,
          -0.7594413490741586,
          -1.762295996654411,
          0.5617175196967619,
          1.7970365337189476,
          -1.0303904420141936,
          -0.9645790425198174,
          0.9914171618392057,
          -0.10285713286924551,
          -0.8135392007267539,
          0.7187908001826215,
          -0.09528272118315335,
          -0.6296134228433697,
          -0.4152341746240974,
          0.4321855310892845,
          0.7934990376332662,
          -0.4736302553853124
         ],
         "yaxis": "y12"
        },
        {
         "line": {
          "color": "rgba(128, 128, 128, 1.0)",
          "dash": "solid",
          "shape": "linear",
          "width": 1.3
         },
         "marker": {
          "size": 2,
          "symbol": "circle"
         },
         "mode": "markers",
         "name": "D",
         "text": "",
         "type": "scatter",
         "x": [
          -0.5009543608026148,
          -0.4204615151389094,
          -0.49553283935936165,
          0.7657304693445539,
          -0.07847397916945117,
          0.6700761884302777,
          1.6148887957746296,
          -0.14346731599489548,
          -0.2665864011088299,
          1.5203733905118066,
          -1.6225831980015681,
          -0.0010036338978958532,
          -0.20764556384936733,
          1.2211140213435423,
          0.7616648705923982,
          0.8511236141237207,
          -0.11514925363568562,
          -0.20936138521130568,
          -0.23694314875636666,
          -1.41396658714284,
          -0.7197209408930788,
          -0.21986205769332937,
          1.0281717480256272,
          -0.34491294269628503,
          1.8387982177216249,
          1.7454245898531036,
          0.40475695887285834,
          0.38445221563913434,
          0.09096690376723829,
          -0.5452474872683721,
          0.36883064898417145,
          0.471064900436615,
          0.08943939927300605,
          -0.04711988398954826,
          -0.377726634293231,
          0.7896939082042002,
          0.2834844224400587,
          -0.3712372134953554,
          -0.8239234838514105,
          -0.24380479792713633,
          0.8021227623642619,
          0.8595077643277932,
          -0.89133910900524,
          -0.08704741110358603,
          1.1154306476276132,
          -0.8232991534045231,
          0.03951476468379789,
          -0.5897579157424271,
          0.48638772034887495,
          -0.23689141912829995,
          -0.849875469508366,
          1.2033244290804135,
          -0.9707942664404414,
          0.5345692965058876,
          0.24185563713696623,
          -1.2480718435113924,
          -1.9764817321890251,
          0.17398462490394964,
          -0.2958648071038704,
          -0.9073789839128634,
          -0.320061959697221,
          -1.2894563780049575,
          0.8162202543091142,
          0.7279819747659728,
          0.5016314636811545,
          -1.6350473403411654,
          1.112226070703627,
          -1.3798198056686024,
          0.03712506450794439,
          0.8725646848428592,
          -0.062491031397570555,
          -1.283446523292469,
          0.8042769164891135,
          -1.2878267604909532,
          -2.4243449762842935,
          1.455471611236058,
          0.4262483065173007,
          -1.1011863485263866,
          0.36393070625865315,
          -0.3828540123202687,
          0.07374167084754127,
          -1.3446917941460133,
          -0.07602512088167016,
          2.131579084083562,
          0.8633118511617681,
          0.9567443066299663,
          -0.35082901706021047,
          0.5353353137007961,
          -0.06072553628984715,
          0.4216056690056466,
          1.8201523623294387,
          -1.4207116091443348,
          -0.24445402467878669,
          1.0790482734281726,
          -0.301775352771489,
          -0.463830499688751,
          -0.48449348616253807,
          -0.8952937264879816,
          -0.17464315190589047,
          -1.5690068772777155
         ],
         "xaxis": "x13",
         "y": [
          0.7289264925102457,
          0.6912077819830305,
          0.8188163578461918,
          -0.30005691761790504,
          -1.4017653130971819,
          0.7418167945956171,
          -1.3072947407549396,
          0.5238505847258861,
          -0.5815439940403195,
          -0.8792388115836571,
          -1.033454430129768,
          0.7403640958737788,
          -1.0588129764174565,
          -0.7771680087119067,
          -1.6617547956883958,
          -1.5914907424879152,
          -1.0160879667124922,
          1.2678132647838818,
          -0.16793391008686473,
          1.0101429611574362,
          1.8032134050852269,
          -0.8999362203146547,
          -0.8539426072478293,
          -0.8009195843748494,
          -0.3664154121540123,
          -0.6107229900880933,
          -0.3350158000287844,
          0.38272189449206223,
          -1.851550337554075,
          1.2840629959739345,
          -0.8612530460386267,
          1.000086231202697,
          -1.3419411720416599,
          -1.0589510959940858,
          1.3923268650795624,
          -0.11210822226961702,
          -0.5842141681440038,
          -0.029178560040188175,
          -0.47118804612841253,
          0.24960142722219547,
          1.1707027090074467,
          -0.5605349045267657,
          -0.5611008894719185,
          1.5079015447793083,
          -0.7149551059987138,
          0.1438353136292474,
          0.8265123257903583,
          -0.023327793020397707,
          -0.6879816871193085,
          -0.19529967496198097,
          -0.30628224009133753,
          -0.8297173264276736,
          0.8345054934481003,
          0.5792416853511556,
          1.5935219415190103,
          -1.4883411834823808,
          0.7293186817888184,
          0.355228253069335,
          -1.3171366027193092,
          -0.056434275320834004,
          -0.5948376052025565,
          0.5778833712404194,
          0.4722524495743788,
          -0.23223626436639552,
          0.4902558443320463,
          1.2950182054810377,
          -1.7760625858810606,
          -0.6227729304429062,
          -0.5991623946916326,
          -0.4982592912885508,
          -1.49314260325824,
          0.9396270239918765,
          0.6009626436464006,
          1.3100598156970285,
          -0.07742400265272653,
          -0.2243421864407254,
          0.1739583018508991,
          -0.5440884129977694,
          -0.905632736795812,
          -0.8238665725545118,
          0.3257163950575212,
          -1.353642736504197,
          0.1249865569350151,
          1.1471228394269801,
          0.01849814702931045,
          1.7175961052390785,
          0.580982847441958,
          0.3738800828849592,
          0.22981324840051287,
          0.09748587227584486,
          0.6838294695060558,
          -1.1805057378264823,
          0.295612020998169,
          0.815165130870034,
          -0.9725072594716221,
          2.529538533955411,
          0.5554954891446603,
          0.61415886993306,
          0.14864075840154758,
          0.31334340852487175
         ],
         "yaxis": "y13"
        },
        {
         "line": {
          "color": "rgba(128, 128, 128, 1.0)",
          "dash": "solid",
          "shape": "linear",
          "width": 1.3
         },
         "marker": {
          "size": 2,
          "symbol": "circle"
         },
         "mode": "markers",
         "name": "D",
         "text": "",
         "type": "scatter",
         "x": [
          0.4647073083742839,
          -0.05638983549159592,
          0.8211639860066423,
          -0.5302111813539075,
          -0.026095626254060273,
          0.934819749012539,
          -0.06881896608775859,
          0.7431747218014507,
          -0.6634138417015264,
          -0.6407659494255311,
          -2.0830026972903197,
          1.8045522880146014,
          1.037149625547556,
          0.3248740795752661,
          0.16422555997258756,
          -0.04448673216754261,
          -1.1666989664863299,
          -0.34489031820823246,
          0.023191019187505314,
          -1.130997876996157,
          0.6537048033347655,
          -2.008977265519097,
          2.1187636059019828,
          -0.14720374779769907,
          -0.4119883895674882,
          -0.01889786289040426,
          -0.5408825560442116,
          0.6532664735645086,
          0.3019048417424934,
          1.6458305129952842,
          0.6030209295808521,
          -0.3623998992628467,
          -1.354212000595378,
          -1.172657051102667,
          -0.1769801146101835,
          2.2055905103394196,
          0.2760796035999615,
          -1.7813429624595076,
          0.7750526626200264,
          -0.5805198523009042,
          -1.0618189104978328,
          0.18946634999859532,
          0.381459586503324,
          -0.9242275271954474,
          -0.5628414484788141,
          -0.8638503681130342,
          -0.12409497161196388,
          1.0458509752935239,
          -0.695096587506082,
          1.2734349572542032,
          0.24242678837999837,
          -0.5467390258304995,
          -0.6363370209478098,
          2.013175801488738,
          0.7725826019693162,
          -0.3915999325975337,
          -0.21384985463778458,
          1.4732988178499873,
          -1.946677160191751,
          0.40084042312757945,
          1.3366011084629332,
          -0.3613636341442311,
          0.5298250484301542,
          1.4558635024058049,
          -0.6318727492567257,
          -0.8227985700773811,
          -0.5377019717823004,
          -1.7902939476280129,
          -0.26846879662803125,
          1.465181281886347,
          2.3219711044551956,
          0.9250989703211202,
          0.8916825245438201,
          -1.1517637591562595,
          -0.19150262412323274,
          1.4792770255841388,
          1.6861949140510182,
          0.4512015631832032,
          0.1485498153576192,
          0.7032594474993233,
          1.398402958112115,
          -0.0031789942556199823,
          -0.6032519124226736,
          0.9550811638193741,
          1.737666005127905,
          1.060053557429989,
          1.2895208947773007,
          -1.1953320328355028,
          1.782261738784618,
          1.9306290169917022,
          -0.7425207838161446,
          -0.9754342092359741,
          0.9982550336125903,
          0.04387350789025311,
          -0.6029540220032642,
          -0.3176203472281875,
          1.3016837317080092,
          1.319139155169162,
          0.60300051445889,
          -0.4734361308297189
         ],
         "xaxis": "x14",
         "y": [
          0.7289264925102457,
          0.6912077819830305,
          0.8188163578461918,
          -0.30005691761790504,
          -1.4017653130971819,
          0.7418167945956171,
          -1.3072947407549396,
          0.5238505847258861,
          -0.5815439940403195,
          -0.8792388115836571,
          -1.033454430129768,
          0.7403640958737788,
          -1.0588129764174565,
          -0.7771680087119067,
          -1.6617547956883958,
          -1.5914907424879152,
          -1.0160879667124922,
          1.2678132647838818,
          -0.16793391008686473,
          1.0101429611574362,
          1.8032134050852269,
          -0.8999362203146547,
          -0.8539426072478293,
          -0.8009195843748494,
          -0.3664154121540123,
          -0.6107229900880933,
          -0.3350158000287844,
          0.38272189449206223,
          -1.851550337554075,
          1.2840629959739345,
          -0.8612530460386267,
          1.000086231202697,
          -1.3419411720416599,
          -1.0589510959940858,
          1.3923268650795624,
          -0.11210822226961702,
          -0.5842141681440038,
          -0.029178560040188175,
          -0.47118804612841253,
          0.24960142722219547,
          1.1707027090074467,
          -0.5605349045267657,
          -0.5611008894719185,
          1.5079015447793083,
          -0.7149551059987138,
          0.1438353136292474,
          0.8265123257903583,
          -0.023327793020397707,
          -0.6879816871193085,
          -0.19529967496198097,
          -0.30628224009133753,
          -0.8297173264276736,
          0.8345054934481003,
          0.5792416853511556,
          1.5935219415190103,
          -1.4883411834823808,
          0.7293186817888184,
          0.355228253069335,
          -1.3171366027193092,
          -0.056434275320834004,
          -0.5948376052025565,
          0.5778833712404194,
          0.4722524495743788,
          -0.23223626436639552,
          0.4902558443320463,
          1.2950182054810377,
          -1.7760625858810606,
          -0.6227729304429062,
          -0.5991623946916326,
          -0.4982592912885508,
          -1.49314260325824,
          0.9396270239918765,
          0.6009626436464006,
          1.3100598156970285,
          -0.07742400265272653,
          -0.2243421864407254,
          0.1739583018508991,
          -0.5440884129977694,
          -0.905632736795812,
          -0.8238665725545118,
          0.3257163950575212,
          -1.353642736504197,
          0.1249865569350151,
          1.1471228394269801,
          0.01849814702931045,
          1.7175961052390785,
          0.580982847441958,
          0.3738800828849592,
          0.22981324840051287,
          0.09748587227584486,
          0.6838294695060558,
          -1.1805057378264823,
          0.295612020998169,
          0.815165130870034,
          -0.9725072594716221,
          2.529538533955411,
          0.5554954891446603,
          0.61415886993306,
          0.14864075840154758,
          0.31334340852487175
         ],
         "yaxis": "y14"
        },
        {
         "line": {
          "color": "rgba(128, 128, 128, 1.0)",
          "dash": "solid",
          "shape": "linear",
          "width": 1.3
         },
         "marker": {
          "size": 2,
          "symbol": "circle"
         },
         "mode": "markers",
         "name": "D",
         "text": "",
         "type": "scatter",
         "x": [
          -0.40315973833766044,
          -1.360054681543459,
          0.7106343682785928,
          -0.9177669533408417,
          0.06883949789015524,
          0.01696296847514918,
          -0.44393478997380553,
          -0.7198535392505376,
          -0.7875483593999346,
          1.9155416094569315,
          0.6583623881679307,
          0.5376709735739473,
          1.0405012466708365,
          -0.23171979820644356,
          -0.3744126532426237,
          -1.1618515687799378,
          -1.3964253535908646,
          0.5769970040773327,
          -1.0835044014698794,
          0.5747678743329491,
          -0.11827539408021497,
          0.2151484932585146,
          0.08078309448514429,
          -2.037047352546062,
          -1.390219773530132,
          0.09167606324494677,
          -0.7235507708580192,
          -0.5405884558003439,
          -1.2811560263191193,
          -0.4543060750192719,
          -1.1165034510234548,
          0.3000613728191319,
          -0.05289080065345519,
          0.362704088345904,
          -0.9680892848574593,
          0.6680708701581071,
          -0.8231344948245031,
          0.715348855171547,
          0.5650247434328161,
          -0.5773761355342275,
          -0.9286783479833696,
          0.7776532703274646,
          -0.12317469719040205,
          -1.1513332111873045,
          0.5063978291626221,
          -0.8742393811420719,
          1.9156488862245638,
          -1.0865525250496144,
          0.44206782103104286,
          0.9026685461629094,
          2.895994875542977,
          1.1285450455156265,
          1.1841356567838248,
          0.19876360513024213,
          1.4886716994001934,
          -0.3327270700698986,
          -0.5621700345151495,
          -0.5847259828949196,
          -1.2846401342555829,
          -0.6016000623194985,
          -0.09861791991283785,
          1.1816530601740363,
          -0.6908357948875438,
          0.3171310416057197,
          0.7552121889991846,
          -2.3888071483371647,
          -1.1485383178467785,
          0.5897185443197643,
          -0.36845595698948597,
          -0.5717563197990444,
          -0.14214523110978153,
          0.0004170052383094638,
          -0.18461428501604366,
          -0.1052252881648122,
          -0.8292749236373992,
          -0.08997556334434115,
          1.2644372314371435,
          2.0832196408139105,
          0.38676730762963063,
          1.4060141059133717,
          -1.3360038713603481,
          0.34749778659436176,
          -0.33806765343092926,
          1.4157584416445,
          -0.7594413490741586,
          -1.762295996654411,
          0.5617175196967619,
          1.7970365337189476,
          -1.0303904420141936,
          -0.9645790425198174,
          0.9914171618392057,
          -0.10285713286924551,
          -0.8135392007267539,
          0.7187908001826215,
          -0.09528272118315335,
          -0.6296134228433697,
          -0.4152341746240974,
          0.4321855310892845,
          0.7934990376332662,
          -0.4736302553853124
         ],
         "xaxis": "x15",
         "y": [
          0.7289264925102457,
          0.6912077819830305,
          0.8188163578461918,
          -0.30005691761790504,
          -1.4017653130971819,
          0.7418167945956171,
          -1.3072947407549396,
          0.5238505847258861,
          -0.5815439940403195,
          -0.8792388115836571,
          -1.033454430129768,
          0.7403640958737788,
          -1.0588129764174565,
          -0.7771680087119067,
          -1.6617547956883958,
          -1.5914907424879152,
          -1.0160879667124922,
          1.2678132647838818,
          -0.16793391008686473,
          1.0101429611574362,
          1.8032134050852269,
          -0.8999362203146547,
          -0.8539426072478293,
          -0.8009195843748494,
          -0.3664154121540123,
          -0.6107229900880933,
          -0.3350158000287844,
          0.38272189449206223,
          -1.851550337554075,
          1.2840629959739345,
          -0.8612530460386267,
          1.000086231202697,
          -1.3419411720416599,
          -1.0589510959940858,
          1.3923268650795624,
          -0.11210822226961702,
          -0.5842141681440038,
          -0.029178560040188175,
          -0.47118804612841253,
          0.24960142722219547,
          1.1707027090074467,
          -0.5605349045267657,
          -0.5611008894719185,
          1.5079015447793083,
          -0.7149551059987138,
          0.1438353136292474,
          0.8265123257903583,
          -0.023327793020397707,
          -0.6879816871193085,
          -0.19529967496198097,
          -0.30628224009133753,
          -0.8297173264276736,
          0.8345054934481003,
          0.5792416853511556,
          1.5935219415190103,
          -1.4883411834823808,
          0.7293186817888184,
          0.355228253069335,
          -1.3171366027193092,
          -0.056434275320834004,
          -0.5948376052025565,
          0.5778833712404194,
          0.4722524495743788,
          -0.23223626436639552,
          0.4902558443320463,
          1.2950182054810377,
          -1.7760625858810606,
          -0.6227729304429062,
          -0.5991623946916326,
          -0.4982592912885508,
          -1.49314260325824,
          0.9396270239918765,
          0.6009626436464006,
          1.3100598156970285,
          -0.07742400265272653,
          -0.2243421864407254,
          0.1739583018508991,
          -0.5440884129977694,
          -0.905632736795812,
          -0.8238665725545118,
          0.3257163950575212,
          -1.353642736504197,
          0.1249865569350151,
          1.1471228394269801,
          0.01849814702931045,
          1.7175961052390785,
          0.580982847441958,
          0.3738800828849592,
          0.22981324840051287,
          0.09748587227584486,
          0.6838294695060558,
          -1.1805057378264823,
          0.295612020998169,
          0.815165130870034,
          -0.9725072594716221,
          2.529538533955411,
          0.5554954891446603,
          0.61415886993306,
          0.14864075840154758,
          0.31334340852487175
         ],
         "yaxis": "y15"
        },
        {
         "histfunc": "count",
         "histnorm": "",
         "marker": {
          "color": "rgba(128, 0, 128, 1.0)",
          "line": {
           "color": "#4D5663",
           "width": 1.3
          }
         },
         "name": "D",
         "nbinsx": 10,
         "opacity": 0.8,
         "orientation": "v",
         "type": "histogram",
         "x": [
          0.7289264925102457,
          0.6912077819830305,
          0.8188163578461918,
          -0.30005691761790504,
          -1.4017653130971819,
          0.7418167945956171,
          -1.3072947407549396,
          0.5238505847258861,
          -0.5815439940403195,
          -0.8792388115836571,
          -1.033454430129768,
          0.7403640958737788,
          -1.0588129764174565,
          -0.7771680087119067,
          -1.6617547956883958,
          -1.5914907424879152,
          -1.0160879667124922,
          1.2678132647838818,
          -0.16793391008686473,
          1.0101429611574362,
          1.8032134050852269,
          -0.8999362203146547,
          -0.8539426072478293,
          -0.8009195843748494,
          -0.3664154121540123,
          -0.6107229900880933,
          -0.3350158000287844,
          0.38272189449206223,
          -1.851550337554075,
          1.2840629959739345,
          -0.8612530460386267,
          1.000086231202697,
          -1.3419411720416599,
          -1.0589510959940858,
          1.3923268650795624,
          -0.11210822226961702,
          -0.5842141681440038,
          -0.029178560040188175,
          -0.47118804612841253,
          0.24960142722219547,
          1.1707027090074467,
          -0.5605349045267657,
          -0.5611008894719185,
          1.5079015447793083,
          -0.7149551059987138,
          0.1438353136292474,
          0.8265123257903583,
          -0.023327793020397707,
          -0.6879816871193085,
          -0.19529967496198097,
          -0.30628224009133753,
          -0.8297173264276736,
          0.8345054934481003,
          0.5792416853511556,
          1.5935219415190103,
          -1.4883411834823808,
          0.7293186817888184,
          0.355228253069335,
          -1.3171366027193092,
          -0.056434275320834004,
          -0.5948376052025565,
          0.5778833712404194,
          0.4722524495743788,
          -0.23223626436639552,
          0.4902558443320463,
          1.2950182054810377,
          -1.7760625858810606,
          -0.6227729304429062,
          -0.5991623946916326,
          -0.4982592912885508,
          -1.49314260325824,
          0.9396270239918765,
          0.6009626436464006,
          1.3100598156970285,
          -0.07742400265272653,
          -0.2243421864407254,
          0.1739583018508991,
          -0.5440884129977694,
          -0.905632736795812,
          -0.8238665725545118,
          0.3257163950575212,
          -1.353642736504197,
          0.1249865569350151,
          1.1471228394269801,
          0.01849814702931045,
          1.7175961052390785,
          0.580982847441958,
          0.3738800828849592,
          0.22981324840051287,
          0.09748587227584486,
          0.6838294695060558,
          -1.1805057378264823,
          0.295612020998169,
          0.815165130870034,
          -0.9725072594716221,
          2.529538533955411,
          0.5554954891446603,
          0.61415886993306,
          0.14864075840154758,
          0.31334340852487175
         ],
         "xaxis": "x16",
         "yaxis": "y16"
        }
       ],
       "layout": {
        "bargap": 0.02,
        "legend": {
         "bgcolor": "#F5F6F9",
         "font": {
          "color": "#4D5663"
         }
        },
        "paper_bgcolor": "#F5F6F9",
        "plot_bgcolor": "#F5F6F9",
        "showlegend": false,
        "template": {
         "data": {
          "bar": [
           {
            "error_x": {
             "color": "#2a3f5f"
            },
            "error_y": {
             "color": "#2a3f5f"
            },
            "marker": {
             "line": {
              "color": "#E5ECF6",
              "width": 0.5
             }
            },
            "type": "bar"
           }
          ],
          "barpolar": [
           {
            "marker": {
             "line": {
              "color": "#E5ECF6",
              "width": 0.5
             }
            },
            "type": "barpolar"
           }
          ],
          "carpet": [
           {
            "aaxis": {
             "endlinecolor": "#2a3f5f",
             "gridcolor": "white",
             "linecolor": "white",
             "minorgridcolor": "white",
             "startlinecolor": "#2a3f5f"
            },
            "baxis": {
             "endlinecolor": "#2a3f5f",
             "gridcolor": "white",
             "linecolor": "white",
             "minorgridcolor": "white",
             "startlinecolor": "#2a3f5f"
            },
            "type": "carpet"
           }
          ],
          "choropleth": [
           {
            "colorbar": {
             "outlinewidth": 0,
             "ticks": ""
            },
            "type": "choropleth"
           }
          ],
          "contour": [
           {
            "colorbar": {
             "outlinewidth": 0,
             "ticks": ""
            },
            "colorscale": [
             [
              0,
              "#0d0887"
             ],
             [
              0.1111111111111111,
              "#46039f"
             ],
             [
              0.2222222222222222,
              "#7201a8"
             ],
             [
              0.3333333333333333,
              "#9c179e"
             ],
             [
              0.4444444444444444,
              "#bd3786"
             ],
             [
              0.5555555555555556,
              "#d8576b"
             ],
             [
              0.6666666666666666,
              "#ed7953"
             ],
             [
              0.7777777777777778,
              "#fb9f3a"
             ],
             [
              0.8888888888888888,
              "#fdca26"
             ],
             [
              1,
              "#f0f921"
             ]
            ],
            "type": "contour"
           }
          ],
          "contourcarpet": [
           {
            "colorbar": {
             "outlinewidth": 0,
             "ticks": ""
            },
            "type": "contourcarpet"
           }
          ],
          "heatmap": [
           {
            "colorbar": {
             "outlinewidth": 0,
             "ticks": ""
            },
            "colorscale": [
             [
              0,
              "#0d0887"
             ],
             [
              0.1111111111111111,
              "#46039f"
             ],
             [
              0.2222222222222222,
              "#7201a8"
             ],
             [
              0.3333333333333333,
              "#9c179e"
             ],
             [
              0.4444444444444444,
              "#bd3786"
             ],
             [
              0.5555555555555556,
              "#d8576b"
             ],
             [
              0.6666666666666666,
              "#ed7953"
             ],
             [
              0.7777777777777778,
              "#fb9f3a"
             ],
             [
              0.8888888888888888,
              "#fdca26"
             ],
             [
              1,
              "#f0f921"
             ]
            ],
            "type": "heatmap"
           }
          ],
          "heatmapgl": [
           {
            "colorbar": {
             "outlinewidth": 0,
             "ticks": ""
            },
            "colorscale": [
             [
              0,
              "#0d0887"
             ],
             [
              0.1111111111111111,
              "#46039f"
             ],
             [
              0.2222222222222222,
              "#7201a8"
             ],
             [
              0.3333333333333333,
              "#9c179e"
             ],
             [
              0.4444444444444444,
              "#bd3786"
             ],
             [
              0.5555555555555556,
              "#d8576b"
             ],
             [
              0.6666666666666666,
              "#ed7953"
             ],
             [
              0.7777777777777778,
              "#fb9f3a"
             ],
             [
              0.8888888888888888,
              "#fdca26"
             ],
             [
              1,
              "#f0f921"
             ]
            ],
            "type": "heatmapgl"
           }
          ],
          "histogram": [
           {
            "marker": {
             "colorbar": {
              "outlinewidth": 0,
              "ticks": ""
             }
            },
            "type": "histogram"
           }
          ],
          "histogram2d": [
           {
            "colorbar": {
             "outlinewidth": 0,
             "ticks": ""
            },
            "colorscale": [
             [
              0,
              "#0d0887"
             ],
             [
              0.1111111111111111,
              "#46039f"
             ],
             [
              0.2222222222222222,
              "#7201a8"
             ],
             [
              0.3333333333333333,
              "#9c179e"
             ],
             [
              0.4444444444444444,
              "#bd3786"
             ],
             [
              0.5555555555555556,
              "#d8576b"
             ],
             [
              0.6666666666666666,
              "#ed7953"
             ],
             [
              0.7777777777777778,
              "#fb9f3a"
             ],
             [
              0.8888888888888888,
              "#fdca26"
             ],
             [
              1,
              "#f0f921"
             ]
            ],
            "type": "histogram2d"
           }
          ],
          "histogram2dcontour": [
           {
            "colorbar": {
             "outlinewidth": 0,
             "ticks": ""
            },
            "colorscale": [
             [
              0,
              "#0d0887"
             ],
             [
              0.1111111111111111,
              "#46039f"
             ],
             [
              0.2222222222222222,
              "#7201a8"
             ],
             [
              0.3333333333333333,
              "#9c179e"
             ],
             [
              0.4444444444444444,
              "#bd3786"
             ],
             [
              0.5555555555555556,
              "#d8576b"
             ],
             [
              0.6666666666666666,
              "#ed7953"
             ],
             [
              0.7777777777777778,
              "#fb9f3a"
             ],
             [
              0.8888888888888888,
              "#fdca26"
             ],
             [
              1,
              "#f0f921"
             ]
            ],
            "type": "histogram2dcontour"
           }
          ],
          "mesh3d": [
           {
            "colorbar": {
             "outlinewidth": 0,
             "ticks": ""
            },
            "type": "mesh3d"
           }
          ],
          "parcoords": [
           {
            "line": {
             "colorbar": {
              "outlinewidth": 0,
              "ticks": ""
             }
            },
            "type": "parcoords"
           }
          ],
          "pie": [
           {
            "automargin": true,
            "type": "pie"
           }
          ],
          "scatter": [
           {
            "marker": {
             "colorbar": {
              "outlinewidth": 0,
              "ticks": ""
             }
            },
            "type": "scatter"
           }
          ],
          "scatter3d": [
           {
            "line": {
             "colorbar": {
              "outlinewidth": 0,
              "ticks": ""
             }
            },
            "marker": {
             "colorbar": {
              "outlinewidth": 0,
              "ticks": ""
             }
            },
            "type": "scatter3d"
           }
          ],
          "scattercarpet": [
           {
            "marker": {
             "colorbar": {
              "outlinewidth": 0,
              "ticks": ""
             }
            },
            "type": "scattercarpet"
           }
          ],
          "scattergeo": [
           {
            "marker": {
             "colorbar": {
              "outlinewidth": 0,
              "ticks": ""
             }
            },
            "type": "scattergeo"
           }
          ],
          "scattergl": [
           {
            "marker": {
             "colorbar": {
              "outlinewidth": 0,
              "ticks": ""
             }
            },
            "type": "scattergl"
           }
          ],
          "scattermapbox": [
           {
            "marker": {
             "colorbar": {
              "outlinewidth": 0,
              "ticks": ""
             }
            },
            "type": "scattermapbox"
           }
          ],
          "scatterpolar": [
           {
            "marker": {
             "colorbar": {
              "outlinewidth": 0,
              "ticks": ""
             }
            },
            "type": "scatterpolar"
           }
          ],
          "scatterpolargl": [
           {
            "marker": {
             "colorbar": {
              "outlinewidth": 0,
              "ticks": ""
             }
            },
            "type": "scatterpolargl"
           }
          ],
          "scatterternary": [
           {
            "marker": {
             "colorbar": {
              "outlinewidth": 0,
              "ticks": ""
             }
            },
            "type": "scatterternary"
           }
          ],
          "surface": [
           {
            "colorbar": {
             "outlinewidth": 0,
             "ticks": ""
            },
            "colorscale": [
             [
              0,
              "#0d0887"
             ],
             [
              0.1111111111111111,
              "#46039f"
             ],
             [
              0.2222222222222222,
              "#7201a8"
             ],
             [
              0.3333333333333333,
              "#9c179e"
             ],
             [
              0.4444444444444444,
              "#bd3786"
             ],
             [
              0.5555555555555556,
              "#d8576b"
             ],
             [
              0.6666666666666666,
              "#ed7953"
             ],
             [
              0.7777777777777778,
              "#fb9f3a"
             ],
             [
              0.8888888888888888,
              "#fdca26"
             ],
             [
              1,
              "#f0f921"
             ]
            ],
            "type": "surface"
           }
          ],
          "table": [
           {
            "cells": {
             "fill": {
              "color": "#EBF0F8"
             },
             "line": {
              "color": "white"
             }
            },
            "header": {
             "fill": {
              "color": "#C8D4E3"
             },
             "line": {
              "color": "white"
             }
            },
            "type": "table"
           }
          ]
         },
         "layout": {
          "annotationdefaults": {
           "arrowcolor": "#2a3f5f",
           "arrowhead": 0,
           "arrowwidth": 1
          },
          "coloraxis": {
           "colorbar": {
            "outlinewidth": 0,
            "ticks": ""
           }
          },
          "colorscale": {
           "diverging": [
            [
             0,
             "#8e0152"
            ],
            [
             0.1,
             "#c51b7d"
            ],
            [
             0.2,
             "#de77ae"
            ],
            [
             0.3,
             "#f1b6da"
            ],
            [
             0.4,
             "#fde0ef"
            ],
            [
             0.5,
             "#f7f7f7"
            ],
            [
             0.6,
             "#e6f5d0"
            ],
            [
             0.7,
             "#b8e186"
            ],
            [
             0.8,
             "#7fbc41"
            ],
            [
             0.9,
             "#4d9221"
            ],
            [
             1,
             "#276419"
            ]
           ],
           "sequential": [
            [
             0,
             "#0d0887"
            ],
            [
             0.1111111111111111,
             "#46039f"
            ],
            [
             0.2222222222222222,
             "#7201a8"
            ],
            [
             0.3333333333333333,
             "#9c179e"
            ],
            [
             0.4444444444444444,
             "#bd3786"
            ],
            [
             0.5555555555555556,
             "#d8576b"
            ],
            [
             0.6666666666666666,
             "#ed7953"
            ],
            [
             0.7777777777777778,
             "#fb9f3a"
            ],
            [
             0.8888888888888888,
             "#fdca26"
            ],
            [
             1,
             "#f0f921"
            ]
           ],
           "sequentialminus": [
            [
             0,
             "#0d0887"
            ],
            [
             0.1111111111111111,
             "#46039f"
            ],
            [
             0.2222222222222222,
             "#7201a8"
            ],
            [
             0.3333333333333333,
             "#9c179e"
            ],
            [
             0.4444444444444444,
             "#bd3786"
            ],
            [
             0.5555555555555556,
             "#d8576b"
            ],
            [
             0.6666666666666666,
             "#ed7953"
            ],
            [
             0.7777777777777778,
             "#fb9f3a"
            ],
            [
             0.8888888888888888,
             "#fdca26"
            ],
            [
             1,
             "#f0f921"
            ]
           ]
          },
          "colorway": [
           "#636efa",
           "#EF553B",
           "#00cc96",
           "#ab63fa",
           "#FFA15A",
           "#19d3f3",
           "#FF6692",
           "#B6E880",
           "#FF97FF",
           "#FECB52"
          ],
          "font": {
           "color": "#2a3f5f"
          },
          "geo": {
           "bgcolor": "white",
           "lakecolor": "white",
           "landcolor": "#E5ECF6",
           "showlakes": true,
           "showland": true,
           "subunitcolor": "white"
          },
          "hoverlabel": {
           "align": "left"
          },
          "hovermode": "closest",
          "mapbox": {
           "style": "light"
          },
          "paper_bgcolor": "white",
          "plot_bgcolor": "#E5ECF6",
          "polar": {
           "angularaxis": {
            "gridcolor": "white",
            "linecolor": "white",
            "ticks": ""
           },
           "bgcolor": "#E5ECF6",
           "radialaxis": {
            "gridcolor": "white",
            "linecolor": "white",
            "ticks": ""
           }
          },
          "scene": {
           "xaxis": {
            "backgroundcolor": "#E5ECF6",
            "gridcolor": "white",
            "gridwidth": 2,
            "linecolor": "white",
            "showbackground": true,
            "ticks": "",
            "zerolinecolor": "white"
           },
           "yaxis": {
            "backgroundcolor": "#E5ECF6",
            "gridcolor": "white",
            "gridwidth": 2,
            "linecolor": "white",
            "showbackground": true,
            "ticks": "",
            "zerolinecolor": "white"
           },
           "zaxis": {
            "backgroundcolor": "#E5ECF6",
            "gridcolor": "white",
            "gridwidth": 2,
            "linecolor": "white",
            "showbackground": true,
            "ticks": "",
            "zerolinecolor": "white"
           }
          },
          "shapedefaults": {
           "line": {
            "color": "#2a3f5f"
           }
          },
          "ternary": {
           "aaxis": {
            "gridcolor": "white",
            "linecolor": "white",
            "ticks": ""
           },
           "baxis": {
            "gridcolor": "white",
            "linecolor": "white",
            "ticks": ""
           },
           "bgcolor": "#E5ECF6",
           "caxis": {
            "gridcolor": "white",
            "linecolor": "white",
            "ticks": ""
           }
          },
          "title": {
           "x": 0.05
          },
          "xaxis": {
           "automargin": true,
           "gridcolor": "white",
           "linecolor": "white",
           "ticks": "",
           "title": {
            "standoff": 15
           },
           "zerolinecolor": "white",
           "zerolinewidth": 2
          },
          "yaxis": {
           "automargin": true,
           "gridcolor": "white",
           "linecolor": "white",
           "ticks": "",
           "title": {
            "standoff": 15
           },
           "zerolinecolor": "white",
           "zerolinewidth": 2
          }
         }
        },
        "title": {
         "font": {
          "color": "#4D5663"
         }
        },
        "xaxis": {
         "anchor": "y",
         "domain": [
          0,
          0.2125
         ],
         "gridcolor": "#E1E5ED",
         "showgrid": false,
         "tickfont": {
          "color": "#4D5663"
         },
         "title": {
          "font": {
           "color": "#4D5663"
          },
          "text": ""
         },
         "zerolinecolor": "#E1E5ED"
        },
        "xaxis10": {
         "anchor": "y10",
         "domain": [
          0.2625,
          0.475
         ],
         "gridcolor": "#E1E5ED",
         "showgrid": false,
         "tickfont": {
          "color": "#4D5663"
         },
         "title": {
          "font": {
           "color": "#4D5663"
          },
          "text": ""
         },
         "zerolinecolor": "#E1E5ED"
        },
        "xaxis11": {
         "anchor": "y11",
         "domain": [
          0.525,
          0.7375
         ],
         "gridcolor": "#E1E5ED",
         "showgrid": false,
         "tickfont": {
          "color": "#4D5663"
         },
         "title": {
          "font": {
           "color": "#4D5663"
          },
          "text": ""
         },
         "zerolinecolor": "#E1E5ED"
        },
        "xaxis12": {
         "anchor": "y12",
         "domain": [
          0.7875,
          1
         ],
         "gridcolor": "#E1E5ED",
         "showgrid": false,
         "tickfont": {
          "color": "#4D5663"
         },
         "title": {
          "font": {
           "color": "#4D5663"
          },
          "text": ""
         },
         "zerolinecolor": "#E1E5ED"
        },
        "xaxis13": {
         "anchor": "y13",
         "domain": [
          0,
          0.2125
         ],
         "gridcolor": "#E1E5ED",
         "showgrid": false,
         "tickfont": {
          "color": "#4D5663"
         },
         "title": {
          "font": {
           "color": "#4D5663"
          },
          "text": ""
         },
         "zerolinecolor": "#E1E5ED"
        },
        "xaxis14": {
         "anchor": "y14",
         "domain": [
          0.2625,
          0.475
         ],
         "gridcolor": "#E1E5ED",
         "showgrid": false,
         "tickfont": {
          "color": "#4D5663"
         },
         "title": {
          "font": {
           "color": "#4D5663"
          },
          "text": ""
         },
         "zerolinecolor": "#E1E5ED"
        },
        "xaxis15": {
         "anchor": "y15",
         "domain": [
          0.525,
          0.7375
         ],
         "gridcolor": "#E1E5ED",
         "showgrid": false,
         "tickfont": {
          "color": "#4D5663"
         },
         "title": {
          "font": {
           "color": "#4D5663"
          },
          "text": ""
         },
         "zerolinecolor": "#E1E5ED"
        },
        "xaxis16": {
         "anchor": "y16",
         "domain": [
          0.7875,
          1
         ],
         "gridcolor": "#E1E5ED",
         "showgrid": false,
         "tickfont": {
          "color": "#4D5663"
         },
         "title": {
          "font": {
           "color": "#4D5663"
          },
          "text": ""
         },
         "zerolinecolor": "#E1E5ED"
        },
        "xaxis2": {
         "anchor": "y2",
         "domain": [
          0.2625,
          0.475
         ],
         "gridcolor": "#E1E5ED",
         "showgrid": false,
         "tickfont": {
          "color": "#4D5663"
         },
         "title": {
          "font": {
           "color": "#4D5663"
          },
          "text": ""
         },
         "zerolinecolor": "#E1E5ED"
        },
        "xaxis3": {
         "anchor": "y3",
         "domain": [
          0.525,
          0.7375
         ],
         "gridcolor": "#E1E5ED",
         "showgrid": false,
         "tickfont": {
          "color": "#4D5663"
         },
         "title": {
          "font": {
           "color": "#4D5663"
          },
          "text": ""
         },
         "zerolinecolor": "#E1E5ED"
        },
        "xaxis4": {
         "anchor": "y4",
         "domain": [
          0.7875,
          1
         ],
         "gridcolor": "#E1E5ED",
         "showgrid": false,
         "tickfont": {
          "color": "#4D5663"
         },
         "title": {
          "font": {
           "color": "#4D5663"
          },
          "text": ""
         },
         "zerolinecolor": "#E1E5ED"
        },
        "xaxis5": {
         "anchor": "y5",
         "domain": [
          0,
          0.2125
         ],
         "gridcolor": "#E1E5ED",
         "showgrid": false,
         "tickfont": {
          "color": "#4D5663"
         },
         "title": {
          "font": {
           "color": "#4D5663"
          },
          "text": ""
         },
         "zerolinecolor": "#E1E5ED"
        },
        "xaxis6": {
         "anchor": "y6",
         "domain": [
          0.2625,
          0.475
         ],
         "gridcolor": "#E1E5ED",
         "showgrid": false,
         "tickfont": {
          "color": "#4D5663"
         },
         "title": {
          "font": {
           "color": "#4D5663"
          },
          "text": ""
         },
         "zerolinecolor": "#E1E5ED"
        },
        "xaxis7": {
         "anchor": "y7",
         "domain": [
          0.525,
          0.7375
         ],
         "gridcolor": "#E1E5ED",
         "showgrid": false,
         "tickfont": {
          "color": "#4D5663"
         },
         "title": {
          "font": {
           "color": "#4D5663"
          },
          "text": ""
         },
         "zerolinecolor": "#E1E5ED"
        },
        "xaxis8": {
         "anchor": "y8",
         "domain": [
          0.7875,
          1
         ],
         "gridcolor": "#E1E5ED",
         "showgrid": false,
         "tickfont": {
          "color": "#4D5663"
         },
         "title": {
          "font": {
           "color": "#4D5663"
          },
          "text": ""
         },
         "zerolinecolor": "#E1E5ED"
        },
        "xaxis9": {
         "anchor": "y9",
         "domain": [
          0,
          0.2125
         ],
         "gridcolor": "#E1E5ED",
         "showgrid": false,
         "tickfont": {
          "color": "#4D5663"
         },
         "title": {
          "font": {
           "color": "#4D5663"
          },
          "text": ""
         },
         "zerolinecolor": "#E1E5ED"
        },
        "yaxis": {
         "anchor": "x",
         "domain": [
          0.8025,
          1
         ],
         "gridcolor": "#E1E5ED",
         "showgrid": false,
         "tickfont": {
          "color": "#4D5663"
         },
         "title": {
          "font": {
           "color": "#4D5663"
          },
          "text": ""
         },
         "zerolinecolor": "#E1E5ED"
        },
        "yaxis10": {
         "anchor": "x10",
         "domain": [
          0.2675,
          0.465
         ],
         "gridcolor": "#E1E5ED",
         "showgrid": false,
         "tickfont": {
          "color": "#4D5663"
         },
         "title": {
          "font": {
           "color": "#4D5663"
          },
          "text": ""
         },
         "zerolinecolor": "#E1E5ED"
        },
        "yaxis11": {
         "anchor": "x11",
         "domain": [
          0.2675,
          0.465
         ],
         "gridcolor": "#E1E5ED",
         "showgrid": false,
         "tickfont": {
          "color": "#4D5663"
         },
         "title": {
          "font": {
           "color": "#4D5663"
          },
          "text": ""
         },
         "zerolinecolor": "#E1E5ED"
        },
        "yaxis12": {
         "anchor": "x12",
         "domain": [
          0.2675,
          0.465
         ],
         "gridcolor": "#E1E5ED",
         "showgrid": false,
         "tickfont": {
          "color": "#4D5663"
         },
         "title": {
          "font": {
           "color": "#4D5663"
          },
          "text": ""
         },
         "zerolinecolor": "#E1E5ED"
        },
        "yaxis13": {
         "anchor": "x13",
         "domain": [
          0,
          0.1975
         ],
         "gridcolor": "#E1E5ED",
         "showgrid": false,
         "tickfont": {
          "color": "#4D5663"
         },
         "title": {
          "font": {
           "color": "#4D5663"
          },
          "text": ""
         },
         "zerolinecolor": "#E1E5ED"
        },
        "yaxis14": {
         "anchor": "x14",
         "domain": [
          0,
          0.1975
         ],
         "gridcolor": "#E1E5ED",
         "showgrid": false,
         "tickfont": {
          "color": "#4D5663"
         },
         "title": {
          "font": {
           "color": "#4D5663"
          },
          "text": ""
         },
         "zerolinecolor": "#E1E5ED"
        },
        "yaxis15": {
         "anchor": "x15",
         "domain": [
          0,
          0.1975
         ],
         "gridcolor": "#E1E5ED",
         "showgrid": false,
         "tickfont": {
          "color": "#4D5663"
         },
         "title": {
          "font": {
           "color": "#4D5663"
          },
          "text": ""
         },
         "zerolinecolor": "#E1E5ED"
        },
        "yaxis16": {
         "anchor": "x16",
         "domain": [
          0,
          0.1975
         ],
         "gridcolor": "#E1E5ED",
         "showgrid": false,
         "tickfont": {
          "color": "#4D5663"
         },
         "title": {
          "font": {
           "color": "#4D5663"
          },
          "text": ""
         },
         "zerolinecolor": "#E1E5ED"
        },
        "yaxis2": {
         "anchor": "x2",
         "domain": [
          0.8025,
          1
         ],
         "gridcolor": "#E1E5ED",
         "showgrid": false,
         "tickfont": {
          "color": "#4D5663"
         },
         "title": {
          "font": {
           "color": "#4D5663"
          },
          "text": ""
         },
         "zerolinecolor": "#E1E5ED"
        },
        "yaxis3": {
         "anchor": "x3",
         "domain": [
          0.8025,
          1
         ],
         "gridcolor": "#E1E5ED",
         "showgrid": false,
         "tickfont": {
          "color": "#4D5663"
         },
         "title": {
          "font": {
           "color": "#4D5663"
          },
          "text": ""
         },
         "zerolinecolor": "#E1E5ED"
        },
        "yaxis4": {
         "anchor": "x4",
         "domain": [
          0.8025,
          1
         ],
         "gridcolor": "#E1E5ED",
         "showgrid": false,
         "tickfont": {
          "color": "#4D5663"
         },
         "title": {
          "font": {
           "color": "#4D5663"
          },
          "text": ""
         },
         "zerolinecolor": "#E1E5ED"
        },
        "yaxis5": {
         "anchor": "x5",
         "domain": [
          0.535,
          0.7325
         ],
         "gridcolor": "#E1E5ED",
         "showgrid": false,
         "tickfont": {
          "color": "#4D5663"
         },
         "title": {
          "font": {
           "color": "#4D5663"
          },
          "text": ""
         },
         "zerolinecolor": "#E1E5ED"
        },
        "yaxis6": {
         "anchor": "x6",
         "domain": [
          0.535,
          0.7325
         ],
         "gridcolor": "#E1E5ED",
         "showgrid": false,
         "tickfont": {
          "color": "#4D5663"
         },
         "title": {
          "font": {
           "color": "#4D5663"
          },
          "text": ""
         },
         "zerolinecolor": "#E1E5ED"
        },
        "yaxis7": {
         "anchor": "x7",
         "domain": [
          0.535,
          0.7325
         ],
         "gridcolor": "#E1E5ED",
         "showgrid": false,
         "tickfont": {
          "color": "#4D5663"
         },
         "title": {
          "font": {
           "color": "#4D5663"
          },
          "text": ""
         },
         "zerolinecolor": "#E1E5ED"
        },
        "yaxis8": {
         "anchor": "x8",
         "domain": [
          0.535,
          0.7325
         ],
         "gridcolor": "#E1E5ED",
         "showgrid": false,
         "tickfont": {
          "color": "#4D5663"
         },
         "title": {
          "font": {
           "color": "#4D5663"
          },
          "text": ""
         },
         "zerolinecolor": "#E1E5ED"
        },
        "yaxis9": {
         "anchor": "x9",
         "domain": [
          0.2675,
          0.465
         ],
         "gridcolor": "#E1E5ED",
         "showgrid": false,
         "tickfont": {
          "color": "#4D5663"
         },
         "title": {
          "font": {
           "color": "#4D5663"
          },
          "text": ""
         },
         "zerolinecolor": "#E1E5ED"
        }
       }
      },
      "text/html": [
       "<div>\n",
       "        \n",
       "        \n",
       "            <div id=\"dd4d0279-0039-4c68-8cb5-dbd26e419b21\" class=\"plotly-graph-div\" style=\"height:525px; width:100%;\"></div>\n",
       "            <script type=\"text/javascript\">\n",
       "                require([\"plotly\"], function(Plotly) {\n",
       "                    window.PLOTLYENV=window.PLOTLYENV || {};\n",
       "                    window.PLOTLYENV.BASE_URL='https://plot.ly';\n",
       "                    \n",
       "                if (document.getElementById(\"dd4d0279-0039-4c68-8cb5-dbd26e419b21\")) {\n",
       "                    Plotly.newPlot(\n",
       "                        'dd4d0279-0039-4c68-8cb5-dbd26e419b21',\n",
       "                        [{\"histfunc\": \"count\", \"histnorm\": \"\", \"marker\": {\"color\": \"rgba(255, 153, 51, 1.0)\", \"line\": {\"color\": \"#4D5663\", \"width\": 1.3}}, \"name\": \"A\", \"nbinsx\": 10, \"opacity\": 0.8, \"orientation\": \"v\", \"type\": \"histogram\", \"x\": [-0.5009543608026148, -0.4204615151389094, -0.49553283935936165, 0.7657304693445539, -0.07847397916945117, 0.6700761884302777, 1.6148887957746296, -0.14346731599489548, -0.2665864011088299, 1.5203733905118066, -1.6225831980015681, -0.0010036338978958532, -0.20764556384936733, 1.2211140213435423, 0.7616648705923982, 0.8511236141237207, -0.11514925363568562, -0.20936138521130568, -0.23694314875636666, -1.41396658714284, -0.7197209408930788, -0.21986205769332937, 1.0281717480256272, -0.34491294269628503, 1.8387982177216249, 1.7454245898531036, 0.40475695887285834, 0.38445221563913434, 0.09096690376723829, -0.5452474872683721, 0.36883064898417145, 0.471064900436615, 0.08943939927300605, -0.04711988398954826, -0.377726634293231, 0.7896939082042002, 0.2834844224400587, -0.3712372134953554, -0.8239234838514105, -0.24380479792713633, 0.8021227623642619, 0.8595077643277932, -0.89133910900524, -0.08704741110358603, 1.1154306476276132, -0.8232991534045231, 0.03951476468379789, -0.5897579157424271, 0.48638772034887495, -0.23689141912829995, -0.849875469508366, 1.2033244290804135, -0.9707942664404414, 0.5345692965058876, 0.24185563713696623, -1.2480718435113924, -1.9764817321890251, 0.17398462490394964, -0.2958648071038704, -0.9073789839128634, -0.320061959697221, -1.2894563780049575, 0.8162202543091142, 0.7279819747659728, 0.5016314636811545, -1.6350473403411654, 1.112226070703627, -1.3798198056686024, 0.03712506450794439, 0.8725646848428592, -0.062491031397570555, -1.283446523292469, 0.8042769164891135, -1.2878267604909532, -2.4243449762842935, 1.455471611236058, 0.4262483065173007, -1.1011863485263866, 0.36393070625865315, -0.3828540123202687, 0.07374167084754127, -1.3446917941460133, -0.07602512088167016, 2.131579084083562, 0.8633118511617681, 0.9567443066299663, -0.35082901706021047, 0.5353353137007961, -0.06072553628984715, 0.4216056690056466, 1.8201523623294387, -1.4207116091443348, -0.24445402467878669, 1.0790482734281726, -0.301775352771489, -0.463830499688751, -0.48449348616253807, -0.8952937264879816, -0.17464315190589047, -1.5690068772777155], \"xaxis\": \"x\", \"yaxis\": \"y\"}, {\"line\": {\"color\": \"rgba(128, 128, 128, 1.0)\", \"dash\": \"solid\", \"shape\": \"linear\", \"width\": 1.3}, \"marker\": {\"size\": 2, \"symbol\": \"circle\"}, \"mode\": \"markers\", \"name\": \"A\", \"text\": \"\", \"type\": \"scatter\", \"x\": [0.4647073083742839, -0.05638983549159592, 0.8211639860066423, -0.5302111813539075, -0.026095626254060273, 0.934819749012539, -0.06881896608775859, 0.7431747218014507, -0.6634138417015264, -0.6407659494255311, -2.0830026972903197, 1.8045522880146014, 1.037149625547556, 0.3248740795752661, 0.16422555997258756, -0.04448673216754261, -1.1666989664863299, -0.34489031820823246, 0.023191019187505314, -1.130997876996157, 0.6537048033347655, -2.008977265519097, 2.1187636059019828, -0.14720374779769907, -0.4119883895674882, -0.01889786289040426, -0.5408825560442116, 0.6532664735645086, 0.3019048417424934, 1.6458305129952842, 0.6030209295808521, -0.3623998992628467, -1.354212000595378, -1.172657051102667, -0.1769801146101835, 2.2055905103394196, 0.2760796035999615, -1.7813429624595076, 0.7750526626200264, -0.5805198523009042, -1.0618189104978328, 0.18946634999859532, 0.381459586503324, -0.9242275271954474, -0.5628414484788141, -0.8638503681130342, -0.12409497161196388, 1.0458509752935239, -0.695096587506082, 1.2734349572542032, 0.24242678837999837, -0.5467390258304995, -0.6363370209478098, 2.013175801488738, 0.7725826019693162, -0.3915999325975337, -0.21384985463778458, 1.4732988178499873, -1.946677160191751, 0.40084042312757945, 1.3366011084629332, -0.3613636341442311, 0.5298250484301542, 1.4558635024058049, -0.6318727492567257, -0.8227985700773811, -0.5377019717823004, -1.7902939476280129, -0.26846879662803125, 1.465181281886347, 2.3219711044551956, 0.9250989703211202, 0.8916825245438201, -1.1517637591562595, -0.19150262412323274, 1.4792770255841388, 1.6861949140510182, 0.4512015631832032, 0.1485498153576192, 0.7032594474993233, 1.398402958112115, -0.0031789942556199823, -0.6032519124226736, 0.9550811638193741, 1.737666005127905, 1.060053557429989, 1.2895208947773007, -1.1953320328355028, 1.782261738784618, 1.9306290169917022, -0.7425207838161446, -0.9754342092359741, 0.9982550336125903, 0.04387350789025311, -0.6029540220032642, -0.3176203472281875, 1.3016837317080092, 1.319139155169162, 0.60300051445889, -0.4734361308297189], \"xaxis\": \"x2\", \"y\": [-0.5009543608026148, -0.4204615151389094, -0.49553283935936165, 0.7657304693445539, -0.07847397916945117, 0.6700761884302777, 1.6148887957746296, -0.14346731599489548, -0.2665864011088299, 1.5203733905118066, -1.6225831980015681, -0.0010036338978958532, -0.20764556384936733, 1.2211140213435423, 0.7616648705923982, 0.8511236141237207, -0.11514925363568562, -0.20936138521130568, -0.23694314875636666, -1.41396658714284, -0.7197209408930788, -0.21986205769332937, 1.0281717480256272, -0.34491294269628503, 1.8387982177216249, 1.7454245898531036, 0.40475695887285834, 0.38445221563913434, 0.09096690376723829, -0.5452474872683721, 0.36883064898417145, 0.471064900436615, 0.08943939927300605, -0.04711988398954826, -0.377726634293231, 0.7896939082042002, 0.2834844224400587, -0.3712372134953554, -0.8239234838514105, -0.24380479792713633, 0.8021227623642619, 0.8595077643277932, -0.89133910900524, -0.08704741110358603, 1.1154306476276132, -0.8232991534045231, 0.03951476468379789, -0.5897579157424271, 0.48638772034887495, -0.23689141912829995, -0.849875469508366, 1.2033244290804135, -0.9707942664404414, 0.5345692965058876, 0.24185563713696623, -1.2480718435113924, -1.9764817321890251, 0.17398462490394964, -0.2958648071038704, -0.9073789839128634, -0.320061959697221, -1.2894563780049575, 0.8162202543091142, 0.7279819747659728, 0.5016314636811545, -1.6350473403411654, 1.112226070703627, -1.3798198056686024, 0.03712506450794439, 0.8725646848428592, -0.062491031397570555, -1.283446523292469, 0.8042769164891135, -1.2878267604909532, -2.4243449762842935, 1.455471611236058, 0.4262483065173007, -1.1011863485263866, 0.36393070625865315, -0.3828540123202687, 0.07374167084754127, -1.3446917941460133, -0.07602512088167016, 2.131579084083562, 0.8633118511617681, 0.9567443066299663, -0.35082901706021047, 0.5353353137007961, -0.06072553628984715, 0.4216056690056466, 1.8201523623294387, -1.4207116091443348, -0.24445402467878669, 1.0790482734281726, -0.301775352771489, -0.463830499688751, -0.48449348616253807, -0.8952937264879816, -0.17464315190589047, -1.5690068772777155], \"yaxis\": \"y2\"}, {\"line\": {\"color\": \"rgba(128, 128, 128, 1.0)\", \"dash\": \"solid\", \"shape\": \"linear\", \"width\": 1.3}, \"marker\": {\"size\": 2, \"symbol\": \"circle\"}, \"mode\": \"markers\", \"name\": \"A\", \"text\": \"\", \"type\": \"scatter\", \"x\": [-0.40315973833766044, -1.360054681543459, 0.7106343682785928, -0.9177669533408417, 0.06883949789015524, 0.01696296847514918, -0.44393478997380553, -0.7198535392505376, -0.7875483593999346, 1.9155416094569315, 0.6583623881679307, 0.5376709735739473, 1.0405012466708365, -0.23171979820644356, -0.3744126532426237, -1.1618515687799378, -1.3964253535908646, 0.5769970040773327, -1.0835044014698794, 0.5747678743329491, -0.11827539408021497, 0.2151484932585146, 0.08078309448514429, -2.037047352546062, -1.390219773530132, 0.09167606324494677, -0.7235507708580192, -0.5405884558003439, -1.2811560263191193, -0.4543060750192719, -1.1165034510234548, 0.3000613728191319, -0.05289080065345519, 0.362704088345904, -0.9680892848574593, 0.6680708701581071, -0.8231344948245031, 0.715348855171547, 0.5650247434328161, -0.5773761355342275, -0.9286783479833696, 0.7776532703274646, -0.12317469719040205, -1.1513332111873045, 0.5063978291626221, -0.8742393811420719, 1.9156488862245638, -1.0865525250496144, 0.44206782103104286, 0.9026685461629094, 2.895994875542977, 1.1285450455156265, 1.1841356567838248, 0.19876360513024213, 1.4886716994001934, -0.3327270700698986, -0.5621700345151495, -0.5847259828949196, -1.2846401342555829, -0.6016000623194985, -0.09861791991283785, 1.1816530601740363, -0.6908357948875438, 0.3171310416057197, 0.7552121889991846, -2.3888071483371647, -1.1485383178467785, 0.5897185443197643, -0.36845595698948597, -0.5717563197990444, -0.14214523110978153, 0.0004170052383094638, -0.18461428501604366, -0.1052252881648122, -0.8292749236373992, -0.08997556334434115, 1.2644372314371435, 2.0832196408139105, 0.38676730762963063, 1.4060141059133717, -1.3360038713603481, 0.34749778659436176, -0.33806765343092926, 1.4157584416445, -0.7594413490741586, -1.762295996654411, 0.5617175196967619, 1.7970365337189476, -1.0303904420141936, -0.9645790425198174, 0.9914171618392057, -0.10285713286924551, -0.8135392007267539, 0.7187908001826215, -0.09528272118315335, -0.6296134228433697, -0.4152341746240974, 0.4321855310892845, 0.7934990376332662, -0.4736302553853124], \"xaxis\": \"x3\", \"y\": [-0.5009543608026148, -0.4204615151389094, -0.49553283935936165, 0.7657304693445539, -0.07847397916945117, 0.6700761884302777, 1.6148887957746296, -0.14346731599489548, -0.2665864011088299, 1.5203733905118066, -1.6225831980015681, -0.0010036338978958532, -0.20764556384936733, 1.2211140213435423, 0.7616648705923982, 0.8511236141237207, -0.11514925363568562, -0.20936138521130568, -0.23694314875636666, -1.41396658714284, -0.7197209408930788, -0.21986205769332937, 1.0281717480256272, -0.34491294269628503, 1.8387982177216249, 1.7454245898531036, 0.40475695887285834, 0.38445221563913434, 0.09096690376723829, -0.5452474872683721, 0.36883064898417145, 0.471064900436615, 0.08943939927300605, -0.04711988398954826, -0.377726634293231, 0.7896939082042002, 0.2834844224400587, -0.3712372134953554, -0.8239234838514105, -0.24380479792713633, 0.8021227623642619, 0.8595077643277932, -0.89133910900524, -0.08704741110358603, 1.1154306476276132, -0.8232991534045231, 0.03951476468379789, -0.5897579157424271, 0.48638772034887495, -0.23689141912829995, -0.849875469508366, 1.2033244290804135, -0.9707942664404414, 0.5345692965058876, 0.24185563713696623, -1.2480718435113924, -1.9764817321890251, 0.17398462490394964, -0.2958648071038704, -0.9073789839128634, -0.320061959697221, -1.2894563780049575, 0.8162202543091142, 0.7279819747659728, 0.5016314636811545, -1.6350473403411654, 1.112226070703627, -1.3798198056686024, 0.03712506450794439, 0.8725646848428592, -0.062491031397570555, -1.283446523292469, 0.8042769164891135, -1.2878267604909532, -2.4243449762842935, 1.455471611236058, 0.4262483065173007, -1.1011863485263866, 0.36393070625865315, -0.3828540123202687, 0.07374167084754127, -1.3446917941460133, -0.07602512088167016, 2.131579084083562, 0.8633118511617681, 0.9567443066299663, -0.35082901706021047, 0.5353353137007961, -0.06072553628984715, 0.4216056690056466, 1.8201523623294387, -1.4207116091443348, -0.24445402467878669, 1.0790482734281726, -0.301775352771489, -0.463830499688751, -0.48449348616253807, -0.8952937264879816, -0.17464315190589047, -1.5690068772777155], \"yaxis\": \"y3\"}, {\"line\": {\"color\": \"rgba(128, 128, 128, 1.0)\", \"dash\": \"solid\", \"shape\": \"linear\", \"width\": 1.3}, \"marker\": {\"size\": 2, \"symbol\": \"circle\"}, \"mode\": \"markers\", \"name\": \"A\", \"text\": \"\", \"type\": \"scatter\", \"x\": [0.7289264925102457, 0.6912077819830305, 0.8188163578461918, -0.30005691761790504, -1.4017653130971819, 0.7418167945956171, -1.3072947407549396, 0.5238505847258861, -0.5815439940403195, -0.8792388115836571, -1.033454430129768, 0.7403640958737788, -1.0588129764174565, -0.7771680087119067, -1.6617547956883958, -1.5914907424879152, -1.0160879667124922, 1.2678132647838818, -0.16793391008686473, 1.0101429611574362, 1.8032134050852269, -0.8999362203146547, -0.8539426072478293, -0.8009195843748494, -0.3664154121540123, -0.6107229900880933, -0.3350158000287844, 0.38272189449206223, -1.851550337554075, 1.2840629959739345, -0.8612530460386267, 1.000086231202697, -1.3419411720416599, -1.0589510959940858, 1.3923268650795624, -0.11210822226961702, -0.5842141681440038, -0.029178560040188175, -0.47118804612841253, 0.24960142722219547, 1.1707027090074467, -0.5605349045267657, -0.5611008894719185, 1.5079015447793083, -0.7149551059987138, 0.1438353136292474, 0.8265123257903583, -0.023327793020397707, -0.6879816871193085, -0.19529967496198097, -0.30628224009133753, -0.8297173264276736, 0.8345054934481003, 0.5792416853511556, 1.5935219415190103, -1.4883411834823808, 0.7293186817888184, 0.355228253069335, -1.3171366027193092, -0.056434275320834004, -0.5948376052025565, 0.5778833712404194, 0.4722524495743788, -0.23223626436639552, 0.4902558443320463, 1.2950182054810377, -1.7760625858810606, -0.6227729304429062, -0.5991623946916326, -0.4982592912885508, -1.49314260325824, 0.9396270239918765, 0.6009626436464006, 1.3100598156970285, -0.07742400265272653, -0.2243421864407254, 0.1739583018508991, -0.5440884129977694, -0.905632736795812, -0.8238665725545118, 0.3257163950575212, -1.353642736504197, 0.1249865569350151, 1.1471228394269801, 0.01849814702931045, 1.7175961052390785, 0.580982847441958, 0.3738800828849592, 0.22981324840051287, 0.09748587227584486, 0.6838294695060558, -1.1805057378264823, 0.295612020998169, 0.815165130870034, -0.9725072594716221, 2.529538533955411, 0.5554954891446603, 0.61415886993306, 0.14864075840154758, 0.31334340852487175], \"xaxis\": \"x4\", \"y\": [-0.5009543608026148, -0.4204615151389094, -0.49553283935936165, 0.7657304693445539, -0.07847397916945117, 0.6700761884302777, 1.6148887957746296, -0.14346731599489548, -0.2665864011088299, 1.5203733905118066, -1.6225831980015681, -0.0010036338978958532, -0.20764556384936733, 1.2211140213435423, 0.7616648705923982, 0.8511236141237207, -0.11514925363568562, -0.20936138521130568, -0.23694314875636666, -1.41396658714284, -0.7197209408930788, -0.21986205769332937, 1.0281717480256272, -0.34491294269628503, 1.8387982177216249, 1.7454245898531036, 0.40475695887285834, 0.38445221563913434, 0.09096690376723829, -0.5452474872683721, 0.36883064898417145, 0.471064900436615, 0.08943939927300605, -0.04711988398954826, -0.377726634293231, 0.7896939082042002, 0.2834844224400587, -0.3712372134953554, -0.8239234838514105, -0.24380479792713633, 0.8021227623642619, 0.8595077643277932, -0.89133910900524, -0.08704741110358603, 1.1154306476276132, -0.8232991534045231, 0.03951476468379789, -0.5897579157424271, 0.48638772034887495, -0.23689141912829995, -0.849875469508366, 1.2033244290804135, -0.9707942664404414, 0.5345692965058876, 0.24185563713696623, -1.2480718435113924, -1.9764817321890251, 0.17398462490394964, -0.2958648071038704, -0.9073789839128634, -0.320061959697221, -1.2894563780049575, 0.8162202543091142, 0.7279819747659728, 0.5016314636811545, -1.6350473403411654, 1.112226070703627, -1.3798198056686024, 0.03712506450794439, 0.8725646848428592, -0.062491031397570555, -1.283446523292469, 0.8042769164891135, -1.2878267604909532, -2.4243449762842935, 1.455471611236058, 0.4262483065173007, -1.1011863485263866, 0.36393070625865315, -0.3828540123202687, 0.07374167084754127, -1.3446917941460133, -0.07602512088167016, 2.131579084083562, 0.8633118511617681, 0.9567443066299663, -0.35082901706021047, 0.5353353137007961, -0.06072553628984715, 0.4216056690056466, 1.8201523623294387, -1.4207116091443348, -0.24445402467878669, 1.0790482734281726, -0.301775352771489, -0.463830499688751, -0.48449348616253807, -0.8952937264879816, -0.17464315190589047, -1.5690068772777155], \"yaxis\": \"y4\"}, {\"line\": {\"color\": \"rgba(128, 128, 128, 1.0)\", \"dash\": \"solid\", \"shape\": \"linear\", \"width\": 1.3}, \"marker\": {\"size\": 2, \"symbol\": \"circle\"}, \"mode\": \"markers\", \"name\": \"B\", \"text\": \"\", \"type\": \"scatter\", \"x\": [-0.5009543608026148, -0.4204615151389094, -0.49553283935936165, 0.7657304693445539, -0.07847397916945117, 0.6700761884302777, 1.6148887957746296, -0.14346731599489548, -0.2665864011088299, 1.5203733905118066, -1.6225831980015681, -0.0010036338978958532, -0.20764556384936733, 1.2211140213435423, 0.7616648705923982, 0.8511236141237207, -0.11514925363568562, -0.20936138521130568, -0.23694314875636666, -1.41396658714284, -0.7197209408930788, -0.21986205769332937, 1.0281717480256272, -0.34491294269628503, 1.8387982177216249, 1.7454245898531036, 0.40475695887285834, 0.38445221563913434, 0.09096690376723829, -0.5452474872683721, 0.36883064898417145, 0.471064900436615, 0.08943939927300605, -0.04711988398954826, -0.377726634293231, 0.7896939082042002, 0.2834844224400587, -0.3712372134953554, -0.8239234838514105, -0.24380479792713633, 0.8021227623642619, 0.8595077643277932, -0.89133910900524, -0.08704741110358603, 1.1154306476276132, -0.8232991534045231, 0.03951476468379789, -0.5897579157424271, 0.48638772034887495, -0.23689141912829995, -0.849875469508366, 1.2033244290804135, -0.9707942664404414, 0.5345692965058876, 0.24185563713696623, -1.2480718435113924, -1.9764817321890251, 0.17398462490394964, -0.2958648071038704, -0.9073789839128634, -0.320061959697221, -1.2894563780049575, 0.8162202543091142, 0.7279819747659728, 0.5016314636811545, -1.6350473403411654, 1.112226070703627, -1.3798198056686024, 0.03712506450794439, 0.8725646848428592, -0.062491031397570555, -1.283446523292469, 0.8042769164891135, -1.2878267604909532, -2.4243449762842935, 1.455471611236058, 0.4262483065173007, -1.1011863485263866, 0.36393070625865315, -0.3828540123202687, 0.07374167084754127, -1.3446917941460133, -0.07602512088167016, 2.131579084083562, 0.8633118511617681, 0.9567443066299663, -0.35082901706021047, 0.5353353137007961, -0.06072553628984715, 0.4216056690056466, 1.8201523623294387, -1.4207116091443348, -0.24445402467878669, 1.0790482734281726, -0.301775352771489, -0.463830499688751, -0.48449348616253807, -0.8952937264879816, -0.17464315190589047, -1.5690068772777155], \"xaxis\": \"x5\", \"y\": [0.4647073083742839, -0.05638983549159592, 0.8211639860066423, -0.5302111813539075, -0.026095626254060273, 0.934819749012539, -0.06881896608775859, 0.7431747218014507, -0.6634138417015264, -0.6407659494255311, -2.0830026972903197, 1.8045522880146014, 1.037149625547556, 0.3248740795752661, 0.16422555997258756, -0.04448673216754261, -1.1666989664863299, -0.34489031820823246, 0.023191019187505314, -1.130997876996157, 0.6537048033347655, -2.008977265519097, 2.1187636059019828, -0.14720374779769907, -0.4119883895674882, -0.01889786289040426, -0.5408825560442116, 0.6532664735645086, 0.3019048417424934, 1.6458305129952842, 0.6030209295808521, -0.3623998992628467, -1.354212000595378, -1.172657051102667, -0.1769801146101835, 2.2055905103394196, 0.2760796035999615, -1.7813429624595076, 0.7750526626200264, -0.5805198523009042, -1.0618189104978328, 0.18946634999859532, 0.381459586503324, -0.9242275271954474, -0.5628414484788141, -0.8638503681130342, -0.12409497161196388, 1.0458509752935239, -0.695096587506082, 1.2734349572542032, 0.24242678837999837, -0.5467390258304995, -0.6363370209478098, 2.013175801488738, 0.7725826019693162, -0.3915999325975337, -0.21384985463778458, 1.4732988178499873, -1.946677160191751, 0.40084042312757945, 1.3366011084629332, -0.3613636341442311, 0.5298250484301542, 1.4558635024058049, -0.6318727492567257, -0.8227985700773811, -0.5377019717823004, -1.7902939476280129, -0.26846879662803125, 1.465181281886347, 2.3219711044551956, 0.9250989703211202, 0.8916825245438201, -1.1517637591562595, -0.19150262412323274, 1.4792770255841388, 1.6861949140510182, 0.4512015631832032, 0.1485498153576192, 0.7032594474993233, 1.398402958112115, -0.0031789942556199823, -0.6032519124226736, 0.9550811638193741, 1.737666005127905, 1.060053557429989, 1.2895208947773007, -1.1953320328355028, 1.782261738784618, 1.9306290169917022, -0.7425207838161446, -0.9754342092359741, 0.9982550336125903, 0.04387350789025311, -0.6029540220032642, -0.3176203472281875, 1.3016837317080092, 1.319139155169162, 0.60300051445889, -0.4734361308297189], \"yaxis\": \"y5\"}, {\"histfunc\": \"count\", \"histnorm\": \"\", \"marker\": {\"color\": \"rgba(55, 128, 191, 1.0)\", \"line\": {\"color\": \"#4D5663\", \"width\": 1.3}}, \"name\": \"B\", \"nbinsx\": 10, \"opacity\": 0.8, \"orientation\": \"v\", \"type\": \"histogram\", \"x\": [0.4647073083742839, -0.05638983549159592, 0.8211639860066423, -0.5302111813539075, -0.026095626254060273, 0.934819749012539, -0.06881896608775859, 0.7431747218014507, -0.6634138417015264, -0.6407659494255311, -2.0830026972903197, 1.8045522880146014, 1.037149625547556, 0.3248740795752661, 0.16422555997258756, -0.04448673216754261, -1.1666989664863299, -0.34489031820823246, 0.023191019187505314, -1.130997876996157, 0.6537048033347655, -2.008977265519097, 2.1187636059019828, -0.14720374779769907, -0.4119883895674882, -0.01889786289040426, -0.5408825560442116, 0.6532664735645086, 0.3019048417424934, 1.6458305129952842, 0.6030209295808521, -0.3623998992628467, -1.354212000595378, -1.172657051102667, -0.1769801146101835, 2.2055905103394196, 0.2760796035999615, -1.7813429624595076, 0.7750526626200264, -0.5805198523009042, -1.0618189104978328, 0.18946634999859532, 0.381459586503324, -0.9242275271954474, -0.5628414484788141, -0.8638503681130342, -0.12409497161196388, 1.0458509752935239, -0.695096587506082, 1.2734349572542032, 0.24242678837999837, -0.5467390258304995, -0.6363370209478098, 2.013175801488738, 0.7725826019693162, -0.3915999325975337, -0.21384985463778458, 1.4732988178499873, -1.946677160191751, 0.40084042312757945, 1.3366011084629332, -0.3613636341442311, 0.5298250484301542, 1.4558635024058049, -0.6318727492567257, -0.8227985700773811, -0.5377019717823004, -1.7902939476280129, -0.26846879662803125, 1.465181281886347, 2.3219711044551956, 0.9250989703211202, 0.8916825245438201, -1.1517637591562595, -0.19150262412323274, 1.4792770255841388, 1.6861949140510182, 0.4512015631832032, 0.1485498153576192, 0.7032594474993233, 1.398402958112115, -0.0031789942556199823, -0.6032519124226736, 0.9550811638193741, 1.737666005127905, 1.060053557429989, 1.2895208947773007, -1.1953320328355028, 1.782261738784618, 1.9306290169917022, -0.7425207838161446, -0.9754342092359741, 0.9982550336125903, 0.04387350789025311, -0.6029540220032642, -0.3176203472281875, 1.3016837317080092, 1.319139155169162, 0.60300051445889, -0.4734361308297189], \"xaxis\": \"x6\", \"yaxis\": \"y6\"}, {\"line\": {\"color\": \"rgba(128, 128, 128, 1.0)\", \"dash\": \"solid\", \"shape\": \"linear\", \"width\": 1.3}, \"marker\": {\"size\": 2, \"symbol\": \"circle\"}, \"mode\": \"markers\", \"name\": \"B\", \"text\": \"\", \"type\": \"scatter\", \"x\": [-0.40315973833766044, -1.360054681543459, 0.7106343682785928, -0.9177669533408417, 0.06883949789015524, 0.01696296847514918, -0.44393478997380553, -0.7198535392505376, -0.7875483593999346, 1.9155416094569315, 0.6583623881679307, 0.5376709735739473, 1.0405012466708365, -0.23171979820644356, -0.3744126532426237, -1.1618515687799378, -1.3964253535908646, 0.5769970040773327, -1.0835044014698794, 0.5747678743329491, -0.11827539408021497, 0.2151484932585146, 0.08078309448514429, -2.037047352546062, -1.390219773530132, 0.09167606324494677, -0.7235507708580192, -0.5405884558003439, -1.2811560263191193, -0.4543060750192719, -1.1165034510234548, 0.3000613728191319, -0.05289080065345519, 0.362704088345904, -0.9680892848574593, 0.6680708701581071, -0.8231344948245031, 0.715348855171547, 0.5650247434328161, -0.5773761355342275, -0.9286783479833696, 0.7776532703274646, -0.12317469719040205, -1.1513332111873045, 0.5063978291626221, -0.8742393811420719, 1.9156488862245638, -1.0865525250496144, 0.44206782103104286, 0.9026685461629094, 2.895994875542977, 1.1285450455156265, 1.1841356567838248, 0.19876360513024213, 1.4886716994001934, -0.3327270700698986, -0.5621700345151495, -0.5847259828949196, -1.2846401342555829, -0.6016000623194985, -0.09861791991283785, 1.1816530601740363, -0.6908357948875438, 0.3171310416057197, 0.7552121889991846, -2.3888071483371647, -1.1485383178467785, 0.5897185443197643, -0.36845595698948597, -0.5717563197990444, -0.14214523110978153, 0.0004170052383094638, -0.18461428501604366, -0.1052252881648122, -0.8292749236373992, -0.08997556334434115, 1.2644372314371435, 2.0832196408139105, 0.38676730762963063, 1.4060141059133717, -1.3360038713603481, 0.34749778659436176, -0.33806765343092926, 1.4157584416445, -0.7594413490741586, -1.762295996654411, 0.5617175196967619, 1.7970365337189476, -1.0303904420141936, -0.9645790425198174, 0.9914171618392057, -0.10285713286924551, -0.8135392007267539, 0.7187908001826215, -0.09528272118315335, -0.6296134228433697, -0.4152341746240974, 0.4321855310892845, 0.7934990376332662, -0.4736302553853124], \"xaxis\": \"x7\", \"y\": [0.4647073083742839, -0.05638983549159592, 0.8211639860066423, -0.5302111813539075, -0.026095626254060273, 0.934819749012539, -0.06881896608775859, 0.7431747218014507, -0.6634138417015264, -0.6407659494255311, -2.0830026972903197, 1.8045522880146014, 1.037149625547556, 0.3248740795752661, 0.16422555997258756, -0.04448673216754261, -1.1666989664863299, -0.34489031820823246, 0.023191019187505314, -1.130997876996157, 0.6537048033347655, -2.008977265519097, 2.1187636059019828, -0.14720374779769907, -0.4119883895674882, -0.01889786289040426, -0.5408825560442116, 0.6532664735645086, 0.3019048417424934, 1.6458305129952842, 0.6030209295808521, -0.3623998992628467, -1.354212000595378, -1.172657051102667, -0.1769801146101835, 2.2055905103394196, 0.2760796035999615, -1.7813429624595076, 0.7750526626200264, -0.5805198523009042, -1.0618189104978328, 0.18946634999859532, 0.381459586503324, -0.9242275271954474, -0.5628414484788141, -0.8638503681130342, -0.12409497161196388, 1.0458509752935239, -0.695096587506082, 1.2734349572542032, 0.24242678837999837, -0.5467390258304995, -0.6363370209478098, 2.013175801488738, 0.7725826019693162, -0.3915999325975337, -0.21384985463778458, 1.4732988178499873, -1.946677160191751, 0.40084042312757945, 1.3366011084629332, -0.3613636341442311, 0.5298250484301542, 1.4558635024058049, -0.6318727492567257, -0.8227985700773811, -0.5377019717823004, -1.7902939476280129, -0.26846879662803125, 1.465181281886347, 2.3219711044551956, 0.9250989703211202, 0.8916825245438201, -1.1517637591562595, -0.19150262412323274, 1.4792770255841388, 1.6861949140510182, 0.4512015631832032, 0.1485498153576192, 0.7032594474993233, 1.398402958112115, -0.0031789942556199823, -0.6032519124226736, 0.9550811638193741, 1.737666005127905, 1.060053557429989, 1.2895208947773007, -1.1953320328355028, 1.782261738784618, 1.9306290169917022, -0.7425207838161446, -0.9754342092359741, 0.9982550336125903, 0.04387350789025311, -0.6029540220032642, -0.3176203472281875, 1.3016837317080092, 1.319139155169162, 0.60300051445889, -0.4734361308297189], \"yaxis\": \"y7\"}, {\"line\": {\"color\": \"rgba(128, 128, 128, 1.0)\", \"dash\": \"solid\", \"shape\": \"linear\", \"width\": 1.3}, \"marker\": {\"size\": 2, \"symbol\": \"circle\"}, \"mode\": \"markers\", \"name\": \"B\", \"text\": \"\", \"type\": \"scatter\", \"x\": [0.7289264925102457, 0.6912077819830305, 0.8188163578461918, -0.30005691761790504, -1.4017653130971819, 0.7418167945956171, -1.3072947407549396, 0.5238505847258861, -0.5815439940403195, -0.8792388115836571, -1.033454430129768, 0.7403640958737788, -1.0588129764174565, -0.7771680087119067, -1.6617547956883958, -1.5914907424879152, -1.0160879667124922, 1.2678132647838818, -0.16793391008686473, 1.0101429611574362, 1.8032134050852269, -0.8999362203146547, -0.8539426072478293, -0.8009195843748494, -0.3664154121540123, -0.6107229900880933, -0.3350158000287844, 0.38272189449206223, -1.851550337554075, 1.2840629959739345, -0.8612530460386267, 1.000086231202697, -1.3419411720416599, -1.0589510959940858, 1.3923268650795624, -0.11210822226961702, -0.5842141681440038, -0.029178560040188175, -0.47118804612841253, 0.24960142722219547, 1.1707027090074467, -0.5605349045267657, -0.5611008894719185, 1.5079015447793083, -0.7149551059987138, 0.1438353136292474, 0.8265123257903583, -0.023327793020397707, -0.6879816871193085, -0.19529967496198097, -0.30628224009133753, -0.8297173264276736, 0.8345054934481003, 0.5792416853511556, 1.5935219415190103, -1.4883411834823808, 0.7293186817888184, 0.355228253069335, -1.3171366027193092, -0.056434275320834004, -0.5948376052025565, 0.5778833712404194, 0.4722524495743788, -0.23223626436639552, 0.4902558443320463, 1.2950182054810377, -1.7760625858810606, -0.6227729304429062, -0.5991623946916326, -0.4982592912885508, -1.49314260325824, 0.9396270239918765, 0.6009626436464006, 1.3100598156970285, -0.07742400265272653, -0.2243421864407254, 0.1739583018508991, -0.5440884129977694, -0.905632736795812, -0.8238665725545118, 0.3257163950575212, -1.353642736504197, 0.1249865569350151, 1.1471228394269801, 0.01849814702931045, 1.7175961052390785, 0.580982847441958, 0.3738800828849592, 0.22981324840051287, 0.09748587227584486, 0.6838294695060558, -1.1805057378264823, 0.295612020998169, 0.815165130870034, -0.9725072594716221, 2.529538533955411, 0.5554954891446603, 0.61415886993306, 0.14864075840154758, 0.31334340852487175], \"xaxis\": \"x8\", \"y\": [0.4647073083742839, -0.05638983549159592, 0.8211639860066423, -0.5302111813539075, -0.026095626254060273, 0.934819749012539, -0.06881896608775859, 0.7431747218014507, -0.6634138417015264, -0.6407659494255311, -2.0830026972903197, 1.8045522880146014, 1.037149625547556, 0.3248740795752661, 0.16422555997258756, -0.04448673216754261, -1.1666989664863299, -0.34489031820823246, 0.023191019187505314, -1.130997876996157, 0.6537048033347655, -2.008977265519097, 2.1187636059019828, -0.14720374779769907, -0.4119883895674882, -0.01889786289040426, -0.5408825560442116, 0.6532664735645086, 0.3019048417424934, 1.6458305129952842, 0.6030209295808521, -0.3623998992628467, -1.354212000595378, -1.172657051102667, -0.1769801146101835, 2.2055905103394196, 0.2760796035999615, -1.7813429624595076, 0.7750526626200264, -0.5805198523009042, -1.0618189104978328, 0.18946634999859532, 0.381459586503324, -0.9242275271954474, -0.5628414484788141, -0.8638503681130342, -0.12409497161196388, 1.0458509752935239, -0.695096587506082, 1.2734349572542032, 0.24242678837999837, -0.5467390258304995, -0.6363370209478098, 2.013175801488738, 0.7725826019693162, -0.3915999325975337, -0.21384985463778458, 1.4732988178499873, -1.946677160191751, 0.40084042312757945, 1.3366011084629332, -0.3613636341442311, 0.5298250484301542, 1.4558635024058049, -0.6318727492567257, -0.8227985700773811, -0.5377019717823004, -1.7902939476280129, -0.26846879662803125, 1.465181281886347, 2.3219711044551956, 0.9250989703211202, 0.8916825245438201, -1.1517637591562595, -0.19150262412323274, 1.4792770255841388, 1.6861949140510182, 0.4512015631832032, 0.1485498153576192, 0.7032594474993233, 1.398402958112115, -0.0031789942556199823, -0.6032519124226736, 0.9550811638193741, 1.737666005127905, 1.060053557429989, 1.2895208947773007, -1.1953320328355028, 1.782261738784618, 1.9306290169917022, -0.7425207838161446, -0.9754342092359741, 0.9982550336125903, 0.04387350789025311, -0.6029540220032642, -0.3176203472281875, 1.3016837317080092, 1.319139155169162, 0.60300051445889, -0.4734361308297189], \"yaxis\": \"y8\"}, {\"line\": {\"color\": \"rgba(128, 128, 128, 1.0)\", \"dash\": \"solid\", \"shape\": \"linear\", \"width\": 1.3}, \"marker\": {\"size\": 2, \"symbol\": \"circle\"}, \"mode\": \"markers\", \"name\": \"C\", \"text\": \"\", \"type\": \"scatter\", \"x\": [-0.5009543608026148, -0.4204615151389094, -0.49553283935936165, 0.7657304693445539, -0.07847397916945117, 0.6700761884302777, 1.6148887957746296, -0.14346731599489548, -0.2665864011088299, 1.5203733905118066, -1.6225831980015681, -0.0010036338978958532, -0.20764556384936733, 1.2211140213435423, 0.7616648705923982, 0.8511236141237207, -0.11514925363568562, -0.20936138521130568, -0.23694314875636666, -1.41396658714284, -0.7197209408930788, -0.21986205769332937, 1.0281717480256272, -0.34491294269628503, 1.8387982177216249, 1.7454245898531036, 0.40475695887285834, 0.38445221563913434, 0.09096690376723829, -0.5452474872683721, 0.36883064898417145, 0.471064900436615, 0.08943939927300605, -0.04711988398954826, -0.377726634293231, 0.7896939082042002, 0.2834844224400587, -0.3712372134953554, -0.8239234838514105, -0.24380479792713633, 0.8021227623642619, 0.8595077643277932, -0.89133910900524, -0.08704741110358603, 1.1154306476276132, -0.8232991534045231, 0.03951476468379789, -0.5897579157424271, 0.48638772034887495, -0.23689141912829995, -0.849875469508366, 1.2033244290804135, -0.9707942664404414, 0.5345692965058876, 0.24185563713696623, -1.2480718435113924, -1.9764817321890251, 0.17398462490394964, -0.2958648071038704, -0.9073789839128634, -0.320061959697221, -1.2894563780049575, 0.8162202543091142, 0.7279819747659728, 0.5016314636811545, -1.6350473403411654, 1.112226070703627, -1.3798198056686024, 0.03712506450794439, 0.8725646848428592, -0.062491031397570555, -1.283446523292469, 0.8042769164891135, -1.2878267604909532, -2.4243449762842935, 1.455471611236058, 0.4262483065173007, -1.1011863485263866, 0.36393070625865315, -0.3828540123202687, 0.07374167084754127, -1.3446917941460133, -0.07602512088167016, 2.131579084083562, 0.8633118511617681, 0.9567443066299663, -0.35082901706021047, 0.5353353137007961, -0.06072553628984715, 0.4216056690056466, 1.8201523623294387, -1.4207116091443348, -0.24445402467878669, 1.0790482734281726, -0.301775352771489, -0.463830499688751, -0.48449348616253807, -0.8952937264879816, -0.17464315190589047, -1.5690068772777155], \"xaxis\": \"x9\", \"y\": [-0.40315973833766044, -1.360054681543459, 0.7106343682785928, -0.9177669533408417, 0.06883949789015524, 0.01696296847514918, -0.44393478997380553, -0.7198535392505376, -0.7875483593999346, 1.9155416094569315, 0.6583623881679307, 0.5376709735739473, 1.0405012466708365, -0.23171979820644356, -0.3744126532426237, -1.1618515687799378, -1.3964253535908646, 0.5769970040773327, -1.0835044014698794, 0.5747678743329491, -0.11827539408021497, 0.2151484932585146, 0.08078309448514429, -2.037047352546062, -1.390219773530132, 0.09167606324494677, -0.7235507708580192, -0.5405884558003439, -1.2811560263191193, -0.4543060750192719, -1.1165034510234548, 0.3000613728191319, -0.05289080065345519, 0.362704088345904, -0.9680892848574593, 0.6680708701581071, -0.8231344948245031, 0.715348855171547, 0.5650247434328161, -0.5773761355342275, -0.9286783479833696, 0.7776532703274646, -0.12317469719040205, -1.1513332111873045, 0.5063978291626221, -0.8742393811420719, 1.9156488862245638, -1.0865525250496144, 0.44206782103104286, 0.9026685461629094, 2.895994875542977, 1.1285450455156265, 1.1841356567838248, 0.19876360513024213, 1.4886716994001934, -0.3327270700698986, -0.5621700345151495, -0.5847259828949196, -1.2846401342555829, -0.6016000623194985, -0.09861791991283785, 1.1816530601740363, -0.6908357948875438, 0.3171310416057197, 0.7552121889991846, -2.3888071483371647, -1.1485383178467785, 0.5897185443197643, -0.36845595698948597, -0.5717563197990444, -0.14214523110978153, 0.0004170052383094638, -0.18461428501604366, -0.1052252881648122, -0.8292749236373992, -0.08997556334434115, 1.2644372314371435, 2.0832196408139105, 0.38676730762963063, 1.4060141059133717, -1.3360038713603481, 0.34749778659436176, -0.33806765343092926, 1.4157584416445, -0.7594413490741586, -1.762295996654411, 0.5617175196967619, 1.7970365337189476, -1.0303904420141936, -0.9645790425198174, 0.9914171618392057, -0.10285713286924551, -0.8135392007267539, 0.7187908001826215, -0.09528272118315335, -0.6296134228433697, -0.4152341746240974, 0.4321855310892845, 0.7934990376332662, -0.4736302553853124], \"yaxis\": \"y9\"}, {\"line\": {\"color\": \"rgba(128, 128, 128, 1.0)\", \"dash\": \"solid\", \"shape\": \"linear\", \"width\": 1.3}, \"marker\": {\"size\": 2, \"symbol\": \"circle\"}, \"mode\": \"markers\", \"name\": \"C\", \"text\": \"\", \"type\": \"scatter\", \"x\": [0.4647073083742839, -0.05638983549159592, 0.8211639860066423, -0.5302111813539075, -0.026095626254060273, 0.934819749012539, -0.06881896608775859, 0.7431747218014507, -0.6634138417015264, -0.6407659494255311, -2.0830026972903197, 1.8045522880146014, 1.037149625547556, 0.3248740795752661, 0.16422555997258756, -0.04448673216754261, -1.1666989664863299, -0.34489031820823246, 0.023191019187505314, -1.130997876996157, 0.6537048033347655, -2.008977265519097, 2.1187636059019828, -0.14720374779769907, -0.4119883895674882, -0.01889786289040426, -0.5408825560442116, 0.6532664735645086, 0.3019048417424934, 1.6458305129952842, 0.6030209295808521, -0.3623998992628467, -1.354212000595378, -1.172657051102667, -0.1769801146101835, 2.2055905103394196, 0.2760796035999615, -1.7813429624595076, 0.7750526626200264, -0.5805198523009042, -1.0618189104978328, 0.18946634999859532, 0.381459586503324, -0.9242275271954474, -0.5628414484788141, -0.8638503681130342, -0.12409497161196388, 1.0458509752935239, -0.695096587506082, 1.2734349572542032, 0.24242678837999837, -0.5467390258304995, -0.6363370209478098, 2.013175801488738, 0.7725826019693162, -0.3915999325975337, -0.21384985463778458, 1.4732988178499873, -1.946677160191751, 0.40084042312757945, 1.3366011084629332, -0.3613636341442311, 0.5298250484301542, 1.4558635024058049, -0.6318727492567257, -0.8227985700773811, -0.5377019717823004, -1.7902939476280129, -0.26846879662803125, 1.465181281886347, 2.3219711044551956, 0.9250989703211202, 0.8916825245438201, -1.1517637591562595, -0.19150262412323274, 1.4792770255841388, 1.6861949140510182, 0.4512015631832032, 0.1485498153576192, 0.7032594474993233, 1.398402958112115, -0.0031789942556199823, -0.6032519124226736, 0.9550811638193741, 1.737666005127905, 1.060053557429989, 1.2895208947773007, -1.1953320328355028, 1.782261738784618, 1.9306290169917022, -0.7425207838161446, -0.9754342092359741, 0.9982550336125903, 0.04387350789025311, -0.6029540220032642, -0.3176203472281875, 1.3016837317080092, 1.319139155169162, 0.60300051445889, -0.4734361308297189], \"xaxis\": \"x10\", \"y\": [-0.40315973833766044, -1.360054681543459, 0.7106343682785928, -0.9177669533408417, 0.06883949789015524, 0.01696296847514918, -0.44393478997380553, -0.7198535392505376, -0.7875483593999346, 1.9155416094569315, 0.6583623881679307, 0.5376709735739473, 1.0405012466708365, -0.23171979820644356, -0.3744126532426237, -1.1618515687799378, -1.3964253535908646, 0.5769970040773327, -1.0835044014698794, 0.5747678743329491, -0.11827539408021497, 0.2151484932585146, 0.08078309448514429, -2.037047352546062, -1.390219773530132, 0.09167606324494677, -0.7235507708580192, -0.5405884558003439, -1.2811560263191193, -0.4543060750192719, -1.1165034510234548, 0.3000613728191319, -0.05289080065345519, 0.362704088345904, -0.9680892848574593, 0.6680708701581071, -0.8231344948245031, 0.715348855171547, 0.5650247434328161, -0.5773761355342275, -0.9286783479833696, 0.7776532703274646, -0.12317469719040205, -1.1513332111873045, 0.5063978291626221, -0.8742393811420719, 1.9156488862245638, -1.0865525250496144, 0.44206782103104286, 0.9026685461629094, 2.895994875542977, 1.1285450455156265, 1.1841356567838248, 0.19876360513024213, 1.4886716994001934, -0.3327270700698986, -0.5621700345151495, -0.5847259828949196, -1.2846401342555829, -0.6016000623194985, -0.09861791991283785, 1.1816530601740363, -0.6908357948875438, 0.3171310416057197, 0.7552121889991846, -2.3888071483371647, -1.1485383178467785, 0.5897185443197643, -0.36845595698948597, -0.5717563197990444, -0.14214523110978153, 0.0004170052383094638, -0.18461428501604366, -0.1052252881648122, -0.8292749236373992, -0.08997556334434115, 1.2644372314371435, 2.0832196408139105, 0.38676730762963063, 1.4060141059133717, -1.3360038713603481, 0.34749778659436176, -0.33806765343092926, 1.4157584416445, -0.7594413490741586, -1.762295996654411, 0.5617175196967619, 1.7970365337189476, -1.0303904420141936, -0.9645790425198174, 0.9914171618392057, -0.10285713286924551, -0.8135392007267539, 0.7187908001826215, -0.09528272118315335, -0.6296134228433697, -0.4152341746240974, 0.4321855310892845, 0.7934990376332662, -0.4736302553853124], \"yaxis\": \"y10\"}, {\"histfunc\": \"count\", \"histnorm\": \"\", \"marker\": {\"color\": \"rgba(50, 171, 96, 1.0)\", \"line\": {\"color\": \"#4D5663\", \"width\": 1.3}}, \"name\": \"C\", \"nbinsx\": 10, \"opacity\": 0.8, \"orientation\": \"v\", \"type\": \"histogram\", \"x\": [-0.40315973833766044, -1.360054681543459, 0.7106343682785928, -0.9177669533408417, 0.06883949789015524, 0.01696296847514918, -0.44393478997380553, -0.7198535392505376, -0.7875483593999346, 1.9155416094569315, 0.6583623881679307, 0.5376709735739473, 1.0405012466708365, -0.23171979820644356, -0.3744126532426237, -1.1618515687799378, -1.3964253535908646, 0.5769970040773327, -1.0835044014698794, 0.5747678743329491, -0.11827539408021497, 0.2151484932585146, 0.08078309448514429, -2.037047352546062, -1.390219773530132, 0.09167606324494677, -0.7235507708580192, -0.5405884558003439, -1.2811560263191193, -0.4543060750192719, -1.1165034510234548, 0.3000613728191319, -0.05289080065345519, 0.362704088345904, -0.9680892848574593, 0.6680708701581071, -0.8231344948245031, 0.715348855171547, 0.5650247434328161, -0.5773761355342275, -0.9286783479833696, 0.7776532703274646, -0.12317469719040205, -1.1513332111873045, 0.5063978291626221, -0.8742393811420719, 1.9156488862245638, -1.0865525250496144, 0.44206782103104286, 0.9026685461629094, 2.895994875542977, 1.1285450455156265, 1.1841356567838248, 0.19876360513024213, 1.4886716994001934, -0.3327270700698986, -0.5621700345151495, -0.5847259828949196, -1.2846401342555829, -0.6016000623194985, -0.09861791991283785, 1.1816530601740363, -0.6908357948875438, 0.3171310416057197, 0.7552121889991846, -2.3888071483371647, -1.1485383178467785, 0.5897185443197643, -0.36845595698948597, -0.5717563197990444, -0.14214523110978153, 0.0004170052383094638, -0.18461428501604366, -0.1052252881648122, -0.8292749236373992, -0.08997556334434115, 1.2644372314371435, 2.0832196408139105, 0.38676730762963063, 1.4060141059133717, -1.3360038713603481, 0.34749778659436176, -0.33806765343092926, 1.4157584416445, -0.7594413490741586, -1.762295996654411, 0.5617175196967619, 1.7970365337189476, -1.0303904420141936, -0.9645790425198174, 0.9914171618392057, -0.10285713286924551, -0.8135392007267539, 0.7187908001826215, -0.09528272118315335, -0.6296134228433697, -0.4152341746240974, 0.4321855310892845, 0.7934990376332662, -0.4736302553853124], \"xaxis\": \"x11\", \"yaxis\": \"y11\"}, {\"line\": {\"color\": \"rgba(128, 128, 128, 1.0)\", \"dash\": \"solid\", \"shape\": \"linear\", \"width\": 1.3}, \"marker\": {\"size\": 2, \"symbol\": \"circle\"}, \"mode\": \"markers\", \"name\": \"C\", \"text\": \"\", \"type\": \"scatter\", \"x\": [0.7289264925102457, 0.6912077819830305, 0.8188163578461918, -0.30005691761790504, -1.4017653130971819, 0.7418167945956171, -1.3072947407549396, 0.5238505847258861, -0.5815439940403195, -0.8792388115836571, -1.033454430129768, 0.7403640958737788, -1.0588129764174565, -0.7771680087119067, -1.6617547956883958, -1.5914907424879152, -1.0160879667124922, 1.2678132647838818, -0.16793391008686473, 1.0101429611574362, 1.8032134050852269, -0.8999362203146547, -0.8539426072478293, -0.8009195843748494, -0.3664154121540123, -0.6107229900880933, -0.3350158000287844, 0.38272189449206223, -1.851550337554075, 1.2840629959739345, -0.8612530460386267, 1.000086231202697, -1.3419411720416599, -1.0589510959940858, 1.3923268650795624, -0.11210822226961702, -0.5842141681440038, -0.029178560040188175, -0.47118804612841253, 0.24960142722219547, 1.1707027090074467, -0.5605349045267657, -0.5611008894719185, 1.5079015447793083, -0.7149551059987138, 0.1438353136292474, 0.8265123257903583, -0.023327793020397707, -0.6879816871193085, -0.19529967496198097, -0.30628224009133753, -0.8297173264276736, 0.8345054934481003, 0.5792416853511556, 1.5935219415190103, -1.4883411834823808, 0.7293186817888184, 0.355228253069335, -1.3171366027193092, -0.056434275320834004, -0.5948376052025565, 0.5778833712404194, 0.4722524495743788, -0.23223626436639552, 0.4902558443320463, 1.2950182054810377, -1.7760625858810606, -0.6227729304429062, -0.5991623946916326, -0.4982592912885508, -1.49314260325824, 0.9396270239918765, 0.6009626436464006, 1.3100598156970285, -0.07742400265272653, -0.2243421864407254, 0.1739583018508991, -0.5440884129977694, -0.905632736795812, -0.8238665725545118, 0.3257163950575212, -1.353642736504197, 0.1249865569350151, 1.1471228394269801, 0.01849814702931045, 1.7175961052390785, 0.580982847441958, 0.3738800828849592, 0.22981324840051287, 0.09748587227584486, 0.6838294695060558, -1.1805057378264823, 0.295612020998169, 0.815165130870034, -0.9725072594716221, 2.529538533955411, 0.5554954891446603, 0.61415886993306, 0.14864075840154758, 0.31334340852487175], \"xaxis\": \"x12\", \"y\": [-0.40315973833766044, -1.360054681543459, 0.7106343682785928, -0.9177669533408417, 0.06883949789015524, 0.01696296847514918, -0.44393478997380553, -0.7198535392505376, -0.7875483593999346, 1.9155416094569315, 0.6583623881679307, 0.5376709735739473, 1.0405012466708365, -0.23171979820644356, -0.3744126532426237, -1.1618515687799378, -1.3964253535908646, 0.5769970040773327, -1.0835044014698794, 0.5747678743329491, -0.11827539408021497, 0.2151484932585146, 0.08078309448514429, -2.037047352546062, -1.390219773530132, 0.09167606324494677, -0.7235507708580192, -0.5405884558003439, -1.2811560263191193, -0.4543060750192719, -1.1165034510234548, 0.3000613728191319, -0.05289080065345519, 0.362704088345904, -0.9680892848574593, 0.6680708701581071, -0.8231344948245031, 0.715348855171547, 0.5650247434328161, -0.5773761355342275, -0.9286783479833696, 0.7776532703274646, -0.12317469719040205, -1.1513332111873045, 0.5063978291626221, -0.8742393811420719, 1.9156488862245638, -1.0865525250496144, 0.44206782103104286, 0.9026685461629094, 2.895994875542977, 1.1285450455156265, 1.1841356567838248, 0.19876360513024213, 1.4886716994001934, -0.3327270700698986, -0.5621700345151495, -0.5847259828949196, -1.2846401342555829, -0.6016000623194985, -0.09861791991283785, 1.1816530601740363, -0.6908357948875438, 0.3171310416057197, 0.7552121889991846, -2.3888071483371647, -1.1485383178467785, 0.5897185443197643, -0.36845595698948597, -0.5717563197990444, -0.14214523110978153, 0.0004170052383094638, -0.18461428501604366, -0.1052252881648122, -0.8292749236373992, -0.08997556334434115, 1.2644372314371435, 2.0832196408139105, 0.38676730762963063, 1.4060141059133717, -1.3360038713603481, 0.34749778659436176, -0.33806765343092926, 1.4157584416445, -0.7594413490741586, -1.762295996654411, 0.5617175196967619, 1.7970365337189476, -1.0303904420141936, -0.9645790425198174, 0.9914171618392057, -0.10285713286924551, -0.8135392007267539, 0.7187908001826215, -0.09528272118315335, -0.6296134228433697, -0.4152341746240974, 0.4321855310892845, 0.7934990376332662, -0.4736302553853124], \"yaxis\": \"y12\"}, {\"line\": {\"color\": \"rgba(128, 128, 128, 1.0)\", \"dash\": \"solid\", \"shape\": \"linear\", \"width\": 1.3}, \"marker\": {\"size\": 2, \"symbol\": \"circle\"}, \"mode\": \"markers\", \"name\": \"D\", \"text\": \"\", \"type\": \"scatter\", \"x\": [-0.5009543608026148, -0.4204615151389094, -0.49553283935936165, 0.7657304693445539, -0.07847397916945117, 0.6700761884302777, 1.6148887957746296, -0.14346731599489548, -0.2665864011088299, 1.5203733905118066, -1.6225831980015681, -0.0010036338978958532, -0.20764556384936733, 1.2211140213435423, 0.7616648705923982, 0.8511236141237207, -0.11514925363568562, -0.20936138521130568, -0.23694314875636666, -1.41396658714284, -0.7197209408930788, -0.21986205769332937, 1.0281717480256272, -0.34491294269628503, 1.8387982177216249, 1.7454245898531036, 0.40475695887285834, 0.38445221563913434, 0.09096690376723829, -0.5452474872683721, 0.36883064898417145, 0.471064900436615, 0.08943939927300605, -0.04711988398954826, -0.377726634293231, 0.7896939082042002, 0.2834844224400587, -0.3712372134953554, -0.8239234838514105, -0.24380479792713633, 0.8021227623642619, 0.8595077643277932, -0.89133910900524, -0.08704741110358603, 1.1154306476276132, -0.8232991534045231, 0.03951476468379789, -0.5897579157424271, 0.48638772034887495, -0.23689141912829995, -0.849875469508366, 1.2033244290804135, -0.9707942664404414, 0.5345692965058876, 0.24185563713696623, -1.2480718435113924, -1.9764817321890251, 0.17398462490394964, -0.2958648071038704, -0.9073789839128634, -0.320061959697221, -1.2894563780049575, 0.8162202543091142, 0.7279819747659728, 0.5016314636811545, -1.6350473403411654, 1.112226070703627, -1.3798198056686024, 0.03712506450794439, 0.8725646848428592, -0.062491031397570555, -1.283446523292469, 0.8042769164891135, -1.2878267604909532, -2.4243449762842935, 1.455471611236058, 0.4262483065173007, -1.1011863485263866, 0.36393070625865315, -0.3828540123202687, 0.07374167084754127, -1.3446917941460133, -0.07602512088167016, 2.131579084083562, 0.8633118511617681, 0.9567443066299663, -0.35082901706021047, 0.5353353137007961, -0.06072553628984715, 0.4216056690056466, 1.8201523623294387, -1.4207116091443348, -0.24445402467878669, 1.0790482734281726, -0.301775352771489, -0.463830499688751, -0.48449348616253807, -0.8952937264879816, -0.17464315190589047, -1.5690068772777155], \"xaxis\": \"x13\", \"y\": [0.7289264925102457, 0.6912077819830305, 0.8188163578461918, -0.30005691761790504, -1.4017653130971819, 0.7418167945956171, -1.3072947407549396, 0.5238505847258861, -0.5815439940403195, -0.8792388115836571, -1.033454430129768, 0.7403640958737788, -1.0588129764174565, -0.7771680087119067, -1.6617547956883958, -1.5914907424879152, -1.0160879667124922, 1.2678132647838818, -0.16793391008686473, 1.0101429611574362, 1.8032134050852269, -0.8999362203146547, -0.8539426072478293, -0.8009195843748494, -0.3664154121540123, -0.6107229900880933, -0.3350158000287844, 0.38272189449206223, -1.851550337554075, 1.2840629959739345, -0.8612530460386267, 1.000086231202697, -1.3419411720416599, -1.0589510959940858, 1.3923268650795624, -0.11210822226961702, -0.5842141681440038, -0.029178560040188175, -0.47118804612841253, 0.24960142722219547, 1.1707027090074467, -0.5605349045267657, -0.5611008894719185, 1.5079015447793083, -0.7149551059987138, 0.1438353136292474, 0.8265123257903583, -0.023327793020397707, -0.6879816871193085, -0.19529967496198097, -0.30628224009133753, -0.8297173264276736, 0.8345054934481003, 0.5792416853511556, 1.5935219415190103, -1.4883411834823808, 0.7293186817888184, 0.355228253069335, -1.3171366027193092, -0.056434275320834004, -0.5948376052025565, 0.5778833712404194, 0.4722524495743788, -0.23223626436639552, 0.4902558443320463, 1.2950182054810377, -1.7760625858810606, -0.6227729304429062, -0.5991623946916326, -0.4982592912885508, -1.49314260325824, 0.9396270239918765, 0.6009626436464006, 1.3100598156970285, -0.07742400265272653, -0.2243421864407254, 0.1739583018508991, -0.5440884129977694, -0.905632736795812, -0.8238665725545118, 0.3257163950575212, -1.353642736504197, 0.1249865569350151, 1.1471228394269801, 0.01849814702931045, 1.7175961052390785, 0.580982847441958, 0.3738800828849592, 0.22981324840051287, 0.09748587227584486, 0.6838294695060558, -1.1805057378264823, 0.295612020998169, 0.815165130870034, -0.9725072594716221, 2.529538533955411, 0.5554954891446603, 0.61415886993306, 0.14864075840154758, 0.31334340852487175], \"yaxis\": \"y13\"}, {\"line\": {\"color\": \"rgba(128, 128, 128, 1.0)\", \"dash\": \"solid\", \"shape\": \"linear\", \"width\": 1.3}, \"marker\": {\"size\": 2, \"symbol\": \"circle\"}, \"mode\": \"markers\", \"name\": \"D\", \"text\": \"\", \"type\": \"scatter\", \"x\": [0.4647073083742839, -0.05638983549159592, 0.8211639860066423, -0.5302111813539075, -0.026095626254060273, 0.934819749012539, -0.06881896608775859, 0.7431747218014507, -0.6634138417015264, -0.6407659494255311, -2.0830026972903197, 1.8045522880146014, 1.037149625547556, 0.3248740795752661, 0.16422555997258756, -0.04448673216754261, -1.1666989664863299, -0.34489031820823246, 0.023191019187505314, -1.130997876996157, 0.6537048033347655, -2.008977265519097, 2.1187636059019828, -0.14720374779769907, -0.4119883895674882, -0.01889786289040426, -0.5408825560442116, 0.6532664735645086, 0.3019048417424934, 1.6458305129952842, 0.6030209295808521, -0.3623998992628467, -1.354212000595378, -1.172657051102667, -0.1769801146101835, 2.2055905103394196, 0.2760796035999615, -1.7813429624595076, 0.7750526626200264, -0.5805198523009042, -1.0618189104978328, 0.18946634999859532, 0.381459586503324, -0.9242275271954474, -0.5628414484788141, -0.8638503681130342, -0.12409497161196388, 1.0458509752935239, -0.695096587506082, 1.2734349572542032, 0.24242678837999837, -0.5467390258304995, -0.6363370209478098, 2.013175801488738, 0.7725826019693162, -0.3915999325975337, -0.21384985463778458, 1.4732988178499873, -1.946677160191751, 0.40084042312757945, 1.3366011084629332, -0.3613636341442311, 0.5298250484301542, 1.4558635024058049, -0.6318727492567257, -0.8227985700773811, -0.5377019717823004, -1.7902939476280129, -0.26846879662803125, 1.465181281886347, 2.3219711044551956, 0.9250989703211202, 0.8916825245438201, -1.1517637591562595, -0.19150262412323274, 1.4792770255841388, 1.6861949140510182, 0.4512015631832032, 0.1485498153576192, 0.7032594474993233, 1.398402958112115, -0.0031789942556199823, -0.6032519124226736, 0.9550811638193741, 1.737666005127905, 1.060053557429989, 1.2895208947773007, -1.1953320328355028, 1.782261738784618, 1.9306290169917022, -0.7425207838161446, -0.9754342092359741, 0.9982550336125903, 0.04387350789025311, -0.6029540220032642, -0.3176203472281875, 1.3016837317080092, 1.319139155169162, 0.60300051445889, -0.4734361308297189], \"xaxis\": \"x14\", \"y\": [0.7289264925102457, 0.6912077819830305, 0.8188163578461918, -0.30005691761790504, -1.4017653130971819, 0.7418167945956171, -1.3072947407549396, 0.5238505847258861, -0.5815439940403195, -0.8792388115836571, -1.033454430129768, 0.7403640958737788, -1.0588129764174565, -0.7771680087119067, -1.6617547956883958, -1.5914907424879152, -1.0160879667124922, 1.2678132647838818, -0.16793391008686473, 1.0101429611574362, 1.8032134050852269, -0.8999362203146547, -0.8539426072478293, -0.8009195843748494, -0.3664154121540123, -0.6107229900880933, -0.3350158000287844, 0.38272189449206223, -1.851550337554075, 1.2840629959739345, -0.8612530460386267, 1.000086231202697, -1.3419411720416599, -1.0589510959940858, 1.3923268650795624, -0.11210822226961702, -0.5842141681440038, -0.029178560040188175, -0.47118804612841253, 0.24960142722219547, 1.1707027090074467, -0.5605349045267657, -0.5611008894719185, 1.5079015447793083, -0.7149551059987138, 0.1438353136292474, 0.8265123257903583, -0.023327793020397707, -0.6879816871193085, -0.19529967496198097, -0.30628224009133753, -0.8297173264276736, 0.8345054934481003, 0.5792416853511556, 1.5935219415190103, -1.4883411834823808, 0.7293186817888184, 0.355228253069335, -1.3171366027193092, -0.056434275320834004, -0.5948376052025565, 0.5778833712404194, 0.4722524495743788, -0.23223626436639552, 0.4902558443320463, 1.2950182054810377, -1.7760625858810606, -0.6227729304429062, -0.5991623946916326, -0.4982592912885508, -1.49314260325824, 0.9396270239918765, 0.6009626436464006, 1.3100598156970285, -0.07742400265272653, -0.2243421864407254, 0.1739583018508991, -0.5440884129977694, -0.905632736795812, -0.8238665725545118, 0.3257163950575212, -1.353642736504197, 0.1249865569350151, 1.1471228394269801, 0.01849814702931045, 1.7175961052390785, 0.580982847441958, 0.3738800828849592, 0.22981324840051287, 0.09748587227584486, 0.6838294695060558, -1.1805057378264823, 0.295612020998169, 0.815165130870034, -0.9725072594716221, 2.529538533955411, 0.5554954891446603, 0.61415886993306, 0.14864075840154758, 0.31334340852487175], \"yaxis\": \"y14\"}, {\"line\": {\"color\": \"rgba(128, 128, 128, 1.0)\", \"dash\": \"solid\", \"shape\": \"linear\", \"width\": 1.3}, \"marker\": {\"size\": 2, \"symbol\": \"circle\"}, \"mode\": \"markers\", \"name\": \"D\", \"text\": \"\", \"type\": \"scatter\", \"x\": [-0.40315973833766044, -1.360054681543459, 0.7106343682785928, -0.9177669533408417, 0.06883949789015524, 0.01696296847514918, -0.44393478997380553, -0.7198535392505376, -0.7875483593999346, 1.9155416094569315, 0.6583623881679307, 0.5376709735739473, 1.0405012466708365, -0.23171979820644356, -0.3744126532426237, -1.1618515687799378, -1.3964253535908646, 0.5769970040773327, -1.0835044014698794, 0.5747678743329491, -0.11827539408021497, 0.2151484932585146, 0.08078309448514429, -2.037047352546062, -1.390219773530132, 0.09167606324494677, -0.7235507708580192, -0.5405884558003439, -1.2811560263191193, -0.4543060750192719, -1.1165034510234548, 0.3000613728191319, -0.05289080065345519, 0.362704088345904, -0.9680892848574593, 0.6680708701581071, -0.8231344948245031, 0.715348855171547, 0.5650247434328161, -0.5773761355342275, -0.9286783479833696, 0.7776532703274646, -0.12317469719040205, -1.1513332111873045, 0.5063978291626221, -0.8742393811420719, 1.9156488862245638, -1.0865525250496144, 0.44206782103104286, 0.9026685461629094, 2.895994875542977, 1.1285450455156265, 1.1841356567838248, 0.19876360513024213, 1.4886716994001934, -0.3327270700698986, -0.5621700345151495, -0.5847259828949196, -1.2846401342555829, -0.6016000623194985, -0.09861791991283785, 1.1816530601740363, -0.6908357948875438, 0.3171310416057197, 0.7552121889991846, -2.3888071483371647, -1.1485383178467785, 0.5897185443197643, -0.36845595698948597, -0.5717563197990444, -0.14214523110978153, 0.0004170052383094638, -0.18461428501604366, -0.1052252881648122, -0.8292749236373992, -0.08997556334434115, 1.2644372314371435, 2.0832196408139105, 0.38676730762963063, 1.4060141059133717, -1.3360038713603481, 0.34749778659436176, -0.33806765343092926, 1.4157584416445, -0.7594413490741586, -1.762295996654411, 0.5617175196967619, 1.7970365337189476, -1.0303904420141936, -0.9645790425198174, 0.9914171618392057, -0.10285713286924551, -0.8135392007267539, 0.7187908001826215, -0.09528272118315335, -0.6296134228433697, -0.4152341746240974, 0.4321855310892845, 0.7934990376332662, -0.4736302553853124], \"xaxis\": \"x15\", \"y\": [0.7289264925102457, 0.6912077819830305, 0.8188163578461918, -0.30005691761790504, -1.4017653130971819, 0.7418167945956171, -1.3072947407549396, 0.5238505847258861, -0.5815439940403195, -0.8792388115836571, -1.033454430129768, 0.7403640958737788, -1.0588129764174565, -0.7771680087119067, -1.6617547956883958, -1.5914907424879152, -1.0160879667124922, 1.2678132647838818, -0.16793391008686473, 1.0101429611574362, 1.8032134050852269, -0.8999362203146547, -0.8539426072478293, -0.8009195843748494, -0.3664154121540123, -0.6107229900880933, -0.3350158000287844, 0.38272189449206223, -1.851550337554075, 1.2840629959739345, -0.8612530460386267, 1.000086231202697, -1.3419411720416599, -1.0589510959940858, 1.3923268650795624, -0.11210822226961702, -0.5842141681440038, -0.029178560040188175, -0.47118804612841253, 0.24960142722219547, 1.1707027090074467, -0.5605349045267657, -0.5611008894719185, 1.5079015447793083, -0.7149551059987138, 0.1438353136292474, 0.8265123257903583, -0.023327793020397707, -0.6879816871193085, -0.19529967496198097, -0.30628224009133753, -0.8297173264276736, 0.8345054934481003, 0.5792416853511556, 1.5935219415190103, -1.4883411834823808, 0.7293186817888184, 0.355228253069335, -1.3171366027193092, -0.056434275320834004, -0.5948376052025565, 0.5778833712404194, 0.4722524495743788, -0.23223626436639552, 0.4902558443320463, 1.2950182054810377, -1.7760625858810606, -0.6227729304429062, -0.5991623946916326, -0.4982592912885508, -1.49314260325824, 0.9396270239918765, 0.6009626436464006, 1.3100598156970285, -0.07742400265272653, -0.2243421864407254, 0.1739583018508991, -0.5440884129977694, -0.905632736795812, -0.8238665725545118, 0.3257163950575212, -1.353642736504197, 0.1249865569350151, 1.1471228394269801, 0.01849814702931045, 1.7175961052390785, 0.580982847441958, 0.3738800828849592, 0.22981324840051287, 0.09748587227584486, 0.6838294695060558, -1.1805057378264823, 0.295612020998169, 0.815165130870034, -0.9725072594716221, 2.529538533955411, 0.5554954891446603, 0.61415886993306, 0.14864075840154758, 0.31334340852487175], \"yaxis\": \"y15\"}, {\"histfunc\": \"count\", \"histnorm\": \"\", \"marker\": {\"color\": \"rgba(128, 0, 128, 1.0)\", \"line\": {\"color\": \"#4D5663\", \"width\": 1.3}}, \"name\": \"D\", \"nbinsx\": 10, \"opacity\": 0.8, \"orientation\": \"v\", \"type\": \"histogram\", \"x\": [0.7289264925102457, 0.6912077819830305, 0.8188163578461918, -0.30005691761790504, -1.4017653130971819, 0.7418167945956171, -1.3072947407549396, 0.5238505847258861, -0.5815439940403195, -0.8792388115836571, -1.033454430129768, 0.7403640958737788, -1.0588129764174565, -0.7771680087119067, -1.6617547956883958, -1.5914907424879152, -1.0160879667124922, 1.2678132647838818, -0.16793391008686473, 1.0101429611574362, 1.8032134050852269, -0.8999362203146547, -0.8539426072478293, -0.8009195843748494, -0.3664154121540123, -0.6107229900880933, -0.3350158000287844, 0.38272189449206223, -1.851550337554075, 1.2840629959739345, -0.8612530460386267, 1.000086231202697, -1.3419411720416599, -1.0589510959940858, 1.3923268650795624, -0.11210822226961702, -0.5842141681440038, -0.029178560040188175, -0.47118804612841253, 0.24960142722219547, 1.1707027090074467, -0.5605349045267657, -0.5611008894719185, 1.5079015447793083, -0.7149551059987138, 0.1438353136292474, 0.8265123257903583, -0.023327793020397707, -0.6879816871193085, -0.19529967496198097, -0.30628224009133753, -0.8297173264276736, 0.8345054934481003, 0.5792416853511556, 1.5935219415190103, -1.4883411834823808, 0.7293186817888184, 0.355228253069335, -1.3171366027193092, -0.056434275320834004, -0.5948376052025565, 0.5778833712404194, 0.4722524495743788, -0.23223626436639552, 0.4902558443320463, 1.2950182054810377, -1.7760625858810606, -0.6227729304429062, -0.5991623946916326, -0.4982592912885508, -1.49314260325824, 0.9396270239918765, 0.6009626436464006, 1.3100598156970285, -0.07742400265272653, -0.2243421864407254, 0.1739583018508991, -0.5440884129977694, -0.905632736795812, -0.8238665725545118, 0.3257163950575212, -1.353642736504197, 0.1249865569350151, 1.1471228394269801, 0.01849814702931045, 1.7175961052390785, 0.580982847441958, 0.3738800828849592, 0.22981324840051287, 0.09748587227584486, 0.6838294695060558, -1.1805057378264823, 0.295612020998169, 0.815165130870034, -0.9725072594716221, 2.529538533955411, 0.5554954891446603, 0.61415886993306, 0.14864075840154758, 0.31334340852487175], \"xaxis\": \"x16\", \"yaxis\": \"y16\"}],\n",
       "                        {\"bargap\": 0.02, \"legend\": {\"bgcolor\": \"#F5F6F9\", \"font\": {\"color\": \"#4D5663\"}}, \"paper_bgcolor\": \"#F5F6F9\", \"plot_bgcolor\": \"#F5F6F9\", \"showlegend\": false, \"template\": {\"data\": {\"bar\": [{\"error_x\": {\"color\": \"#2a3f5f\"}, \"error_y\": {\"color\": \"#2a3f5f\"}, \"marker\": {\"line\": {\"color\": \"#E5ECF6\", \"width\": 0.5}}, \"type\": \"bar\"}], \"barpolar\": [{\"marker\": {\"line\": {\"color\": \"#E5ECF6\", \"width\": 0.5}}, \"type\": \"barpolar\"}], \"carpet\": [{\"aaxis\": {\"endlinecolor\": \"#2a3f5f\", \"gridcolor\": \"white\", \"linecolor\": \"white\", \"minorgridcolor\": \"white\", \"startlinecolor\": \"#2a3f5f\"}, \"baxis\": {\"endlinecolor\": \"#2a3f5f\", \"gridcolor\": \"white\", \"linecolor\": \"white\", \"minorgridcolor\": \"white\", \"startlinecolor\": \"#2a3f5f\"}, \"type\": \"carpet\"}], \"choropleth\": [{\"colorbar\": {\"outlinewidth\": 0, \"ticks\": \"\"}, \"type\": \"choropleth\"}], \"contour\": [{\"colorbar\": {\"outlinewidth\": 0, \"ticks\": \"\"}, \"colorscale\": [[0.0, \"#0d0887\"], [0.1111111111111111, \"#46039f\"], [0.2222222222222222, \"#7201a8\"], [0.3333333333333333, \"#9c179e\"], [0.4444444444444444, \"#bd3786\"], [0.5555555555555556, \"#d8576b\"], [0.6666666666666666, \"#ed7953\"], [0.7777777777777778, \"#fb9f3a\"], [0.8888888888888888, \"#fdca26\"], [1.0, \"#f0f921\"]], \"type\": \"contour\"}], \"contourcarpet\": [{\"colorbar\": {\"outlinewidth\": 0, \"ticks\": \"\"}, \"type\": \"contourcarpet\"}], \"heatmap\": [{\"colorbar\": {\"outlinewidth\": 0, \"ticks\": \"\"}, \"colorscale\": [[0.0, \"#0d0887\"], [0.1111111111111111, \"#46039f\"], [0.2222222222222222, \"#7201a8\"], [0.3333333333333333, \"#9c179e\"], [0.4444444444444444, \"#bd3786\"], [0.5555555555555556, \"#d8576b\"], [0.6666666666666666, \"#ed7953\"], [0.7777777777777778, \"#fb9f3a\"], [0.8888888888888888, \"#fdca26\"], [1.0, \"#f0f921\"]], \"type\": \"heatmap\"}], \"heatmapgl\": [{\"colorbar\": {\"outlinewidth\": 0, \"ticks\": \"\"}, \"colorscale\": [[0.0, \"#0d0887\"], [0.1111111111111111, \"#46039f\"], [0.2222222222222222, \"#7201a8\"], [0.3333333333333333, \"#9c179e\"], [0.4444444444444444, \"#bd3786\"], [0.5555555555555556, \"#d8576b\"], [0.6666666666666666, \"#ed7953\"], [0.7777777777777778, \"#fb9f3a\"], [0.8888888888888888, \"#fdca26\"], [1.0, \"#f0f921\"]], \"type\": \"heatmapgl\"}], \"histogram\": [{\"marker\": {\"colorbar\": {\"outlinewidth\": 0, \"ticks\": \"\"}}, \"type\": \"histogram\"}], \"histogram2d\": [{\"colorbar\": {\"outlinewidth\": 0, \"ticks\": \"\"}, \"colorscale\": [[0.0, \"#0d0887\"], [0.1111111111111111, \"#46039f\"], [0.2222222222222222, \"#7201a8\"], [0.3333333333333333, \"#9c179e\"], [0.4444444444444444, \"#bd3786\"], [0.5555555555555556, \"#d8576b\"], [0.6666666666666666, \"#ed7953\"], [0.7777777777777778, \"#fb9f3a\"], [0.8888888888888888, \"#fdca26\"], [1.0, \"#f0f921\"]], \"type\": \"histogram2d\"}], \"histogram2dcontour\": [{\"colorbar\": {\"outlinewidth\": 0, \"ticks\": \"\"}, \"colorscale\": [[0.0, \"#0d0887\"], [0.1111111111111111, \"#46039f\"], [0.2222222222222222, \"#7201a8\"], [0.3333333333333333, \"#9c179e\"], [0.4444444444444444, \"#bd3786\"], [0.5555555555555556, \"#d8576b\"], [0.6666666666666666, \"#ed7953\"], [0.7777777777777778, \"#fb9f3a\"], [0.8888888888888888, \"#fdca26\"], [1.0, \"#f0f921\"]], \"type\": \"histogram2dcontour\"}], \"mesh3d\": [{\"colorbar\": {\"outlinewidth\": 0, \"ticks\": \"\"}, \"type\": \"mesh3d\"}], \"parcoords\": [{\"line\": {\"colorbar\": {\"outlinewidth\": 0, \"ticks\": \"\"}}, \"type\": \"parcoords\"}], \"pie\": [{\"automargin\": true, \"type\": \"pie\"}], \"scatter\": [{\"marker\": {\"colorbar\": {\"outlinewidth\": 0, \"ticks\": \"\"}}, \"type\": \"scatter\"}], \"scatter3d\": [{\"line\": {\"colorbar\": {\"outlinewidth\": 0, \"ticks\": \"\"}}, \"marker\": {\"colorbar\": {\"outlinewidth\": 0, \"ticks\": \"\"}}, \"type\": \"scatter3d\"}], \"scattercarpet\": [{\"marker\": {\"colorbar\": {\"outlinewidth\": 0, \"ticks\": \"\"}}, \"type\": \"scattercarpet\"}], \"scattergeo\": [{\"marker\": {\"colorbar\": {\"outlinewidth\": 0, \"ticks\": \"\"}}, \"type\": \"scattergeo\"}], \"scattergl\": [{\"marker\": {\"colorbar\": {\"outlinewidth\": 0, \"ticks\": \"\"}}, \"type\": \"scattergl\"}], \"scattermapbox\": [{\"marker\": {\"colorbar\": {\"outlinewidth\": 0, \"ticks\": \"\"}}, \"type\": \"scattermapbox\"}], \"scatterpolar\": [{\"marker\": {\"colorbar\": {\"outlinewidth\": 0, \"ticks\": \"\"}}, \"type\": \"scatterpolar\"}], \"scatterpolargl\": [{\"marker\": {\"colorbar\": {\"outlinewidth\": 0, \"ticks\": \"\"}}, \"type\": \"scatterpolargl\"}], \"scatterternary\": [{\"marker\": {\"colorbar\": {\"outlinewidth\": 0, \"ticks\": \"\"}}, \"type\": \"scatterternary\"}], \"surface\": [{\"colorbar\": {\"outlinewidth\": 0, \"ticks\": \"\"}, \"colorscale\": [[0.0, \"#0d0887\"], [0.1111111111111111, \"#46039f\"], [0.2222222222222222, \"#7201a8\"], [0.3333333333333333, \"#9c179e\"], [0.4444444444444444, \"#bd3786\"], [0.5555555555555556, \"#d8576b\"], [0.6666666666666666, \"#ed7953\"], [0.7777777777777778, \"#fb9f3a\"], [0.8888888888888888, \"#fdca26\"], [1.0, \"#f0f921\"]], \"type\": \"surface\"}], \"table\": [{\"cells\": {\"fill\": {\"color\": \"#EBF0F8\"}, \"line\": {\"color\": \"white\"}}, \"header\": {\"fill\": {\"color\": \"#C8D4E3\"}, \"line\": {\"color\": \"white\"}}, \"type\": \"table\"}]}, \"layout\": {\"annotationdefaults\": {\"arrowcolor\": \"#2a3f5f\", \"arrowhead\": 0, \"arrowwidth\": 1}, \"coloraxis\": {\"colorbar\": {\"outlinewidth\": 0, \"ticks\": \"\"}}, \"colorscale\": {\"diverging\": [[0, \"#8e0152\"], [0.1, \"#c51b7d\"], [0.2, \"#de77ae\"], [0.3, \"#f1b6da\"], [0.4, \"#fde0ef\"], [0.5, \"#f7f7f7\"], [0.6, \"#e6f5d0\"], [0.7, \"#b8e186\"], [0.8, \"#7fbc41\"], [0.9, \"#4d9221\"], [1, \"#276419\"]], \"sequential\": [[0.0, \"#0d0887\"], [0.1111111111111111, \"#46039f\"], [0.2222222222222222, \"#7201a8\"], [0.3333333333333333, \"#9c179e\"], [0.4444444444444444, \"#bd3786\"], [0.5555555555555556, \"#d8576b\"], [0.6666666666666666, \"#ed7953\"], [0.7777777777777778, \"#fb9f3a\"], [0.8888888888888888, \"#fdca26\"], [1.0, \"#f0f921\"]], \"sequentialminus\": [[0.0, \"#0d0887\"], [0.1111111111111111, \"#46039f\"], [0.2222222222222222, \"#7201a8\"], [0.3333333333333333, \"#9c179e\"], [0.4444444444444444, \"#bd3786\"], [0.5555555555555556, \"#d8576b\"], [0.6666666666666666, \"#ed7953\"], [0.7777777777777778, \"#fb9f3a\"], [0.8888888888888888, \"#fdca26\"], [1.0, \"#f0f921\"]]}, \"colorway\": [\"#636efa\", \"#EF553B\", \"#00cc96\", \"#ab63fa\", \"#FFA15A\", \"#19d3f3\", \"#FF6692\", \"#B6E880\", \"#FF97FF\", \"#FECB52\"], \"font\": {\"color\": \"#2a3f5f\"}, \"geo\": {\"bgcolor\": \"white\", \"lakecolor\": \"white\", \"landcolor\": \"#E5ECF6\", \"showlakes\": true, \"showland\": true, \"subunitcolor\": \"white\"}, \"hoverlabel\": {\"align\": \"left\"}, \"hovermode\": \"closest\", \"mapbox\": {\"style\": \"light\"}, \"paper_bgcolor\": \"white\", \"plot_bgcolor\": \"#E5ECF6\", \"polar\": {\"angularaxis\": {\"gridcolor\": \"white\", \"linecolor\": \"white\", \"ticks\": \"\"}, \"bgcolor\": \"#E5ECF6\", \"radialaxis\": {\"gridcolor\": \"white\", \"linecolor\": \"white\", \"ticks\": \"\"}}, \"scene\": {\"xaxis\": {\"backgroundcolor\": \"#E5ECF6\", \"gridcolor\": \"white\", \"gridwidth\": 2, \"linecolor\": \"white\", \"showbackground\": true, \"ticks\": \"\", \"zerolinecolor\": \"white\"}, \"yaxis\": {\"backgroundcolor\": \"#E5ECF6\", \"gridcolor\": \"white\", \"gridwidth\": 2, \"linecolor\": \"white\", \"showbackground\": true, \"ticks\": \"\", \"zerolinecolor\": \"white\"}, \"zaxis\": {\"backgroundcolor\": \"#E5ECF6\", \"gridcolor\": \"white\", \"gridwidth\": 2, \"linecolor\": \"white\", \"showbackground\": true, \"ticks\": \"\", \"zerolinecolor\": \"white\"}}, \"shapedefaults\": {\"line\": {\"color\": \"#2a3f5f\"}}, \"ternary\": {\"aaxis\": {\"gridcolor\": \"white\", \"linecolor\": \"white\", \"ticks\": \"\"}, \"baxis\": {\"gridcolor\": \"white\", \"linecolor\": \"white\", \"ticks\": \"\"}, \"bgcolor\": \"#E5ECF6\", \"caxis\": {\"gridcolor\": \"white\", \"linecolor\": \"white\", \"ticks\": \"\"}}, \"title\": {\"x\": 0.05}, \"xaxis\": {\"automargin\": true, \"gridcolor\": \"white\", \"linecolor\": \"white\", \"ticks\": \"\", \"title\": {\"standoff\": 15}, \"zerolinecolor\": \"white\", \"zerolinewidth\": 2}, \"yaxis\": {\"automargin\": true, \"gridcolor\": \"white\", \"linecolor\": \"white\", \"ticks\": \"\", \"title\": {\"standoff\": 15}, \"zerolinecolor\": \"white\", \"zerolinewidth\": 2}}}, \"title\": {\"font\": {\"color\": \"#4D5663\"}}, \"xaxis\": {\"anchor\": \"y\", \"domain\": [0.0, 0.2125], \"gridcolor\": \"#E1E5ED\", \"showgrid\": false, \"tickfont\": {\"color\": \"#4D5663\"}, \"title\": {\"font\": {\"color\": \"#4D5663\"}, \"text\": \"\"}, \"zerolinecolor\": \"#E1E5ED\"}, \"xaxis10\": {\"anchor\": \"y10\", \"domain\": [0.2625, 0.475], \"gridcolor\": \"#E1E5ED\", \"showgrid\": false, \"tickfont\": {\"color\": \"#4D5663\"}, \"title\": {\"font\": {\"color\": \"#4D5663\"}, \"text\": \"\"}, \"zerolinecolor\": \"#E1E5ED\"}, \"xaxis11\": {\"anchor\": \"y11\", \"domain\": [0.525, 0.7375], \"gridcolor\": \"#E1E5ED\", \"showgrid\": false, \"tickfont\": {\"color\": \"#4D5663\"}, \"title\": {\"font\": {\"color\": \"#4D5663\"}, \"text\": \"\"}, \"zerolinecolor\": \"#E1E5ED\"}, \"xaxis12\": {\"anchor\": \"y12\", \"domain\": [0.7875, 1.0], \"gridcolor\": \"#E1E5ED\", \"showgrid\": false, \"tickfont\": {\"color\": \"#4D5663\"}, \"title\": {\"font\": {\"color\": \"#4D5663\"}, \"text\": \"\"}, \"zerolinecolor\": \"#E1E5ED\"}, \"xaxis13\": {\"anchor\": \"y13\", \"domain\": [0.0, 0.2125], \"gridcolor\": \"#E1E5ED\", \"showgrid\": false, \"tickfont\": {\"color\": \"#4D5663\"}, \"title\": {\"font\": {\"color\": \"#4D5663\"}, \"text\": \"\"}, \"zerolinecolor\": \"#E1E5ED\"}, \"xaxis14\": {\"anchor\": \"y14\", \"domain\": [0.2625, 0.475], \"gridcolor\": \"#E1E5ED\", \"showgrid\": false, \"tickfont\": {\"color\": \"#4D5663\"}, \"title\": {\"font\": {\"color\": \"#4D5663\"}, \"text\": \"\"}, \"zerolinecolor\": \"#E1E5ED\"}, \"xaxis15\": {\"anchor\": \"y15\", \"domain\": [0.525, 0.7375], \"gridcolor\": \"#E1E5ED\", \"showgrid\": false, \"tickfont\": {\"color\": \"#4D5663\"}, \"title\": {\"font\": {\"color\": \"#4D5663\"}, \"text\": \"\"}, \"zerolinecolor\": \"#E1E5ED\"}, \"xaxis16\": {\"anchor\": \"y16\", \"domain\": [0.7875, 1.0], \"gridcolor\": \"#E1E5ED\", \"showgrid\": false, \"tickfont\": {\"color\": \"#4D5663\"}, \"title\": {\"font\": {\"color\": \"#4D5663\"}, \"text\": \"\"}, \"zerolinecolor\": \"#E1E5ED\"}, \"xaxis2\": {\"anchor\": \"y2\", \"domain\": [0.2625, 0.475], \"gridcolor\": \"#E1E5ED\", \"showgrid\": false, \"tickfont\": {\"color\": \"#4D5663\"}, \"title\": {\"font\": {\"color\": \"#4D5663\"}, \"text\": \"\"}, \"zerolinecolor\": \"#E1E5ED\"}, \"xaxis3\": {\"anchor\": \"y3\", \"domain\": [0.525, 0.7375], \"gridcolor\": \"#E1E5ED\", \"showgrid\": false, \"tickfont\": {\"color\": \"#4D5663\"}, \"title\": {\"font\": {\"color\": \"#4D5663\"}, \"text\": \"\"}, \"zerolinecolor\": \"#E1E5ED\"}, \"xaxis4\": {\"anchor\": \"y4\", \"domain\": [0.7875, 1.0], \"gridcolor\": \"#E1E5ED\", \"showgrid\": false, \"tickfont\": {\"color\": \"#4D5663\"}, \"title\": {\"font\": {\"color\": \"#4D5663\"}, \"text\": \"\"}, \"zerolinecolor\": \"#E1E5ED\"}, \"xaxis5\": {\"anchor\": \"y5\", \"domain\": [0.0, 0.2125], \"gridcolor\": \"#E1E5ED\", \"showgrid\": false, \"tickfont\": {\"color\": \"#4D5663\"}, \"title\": {\"font\": {\"color\": \"#4D5663\"}, \"text\": \"\"}, \"zerolinecolor\": \"#E1E5ED\"}, \"xaxis6\": {\"anchor\": \"y6\", \"domain\": [0.2625, 0.475], \"gridcolor\": \"#E1E5ED\", \"showgrid\": false, \"tickfont\": {\"color\": \"#4D5663\"}, \"title\": {\"font\": {\"color\": \"#4D5663\"}, \"text\": \"\"}, \"zerolinecolor\": \"#E1E5ED\"}, \"xaxis7\": {\"anchor\": \"y7\", \"domain\": [0.525, 0.7375], \"gridcolor\": \"#E1E5ED\", \"showgrid\": false, \"tickfont\": {\"color\": \"#4D5663\"}, \"title\": {\"font\": {\"color\": \"#4D5663\"}, \"text\": \"\"}, \"zerolinecolor\": \"#E1E5ED\"}, \"xaxis8\": {\"anchor\": \"y8\", \"domain\": [0.7875, 1.0], \"gridcolor\": \"#E1E5ED\", \"showgrid\": false, \"tickfont\": {\"color\": \"#4D5663\"}, \"title\": {\"font\": {\"color\": \"#4D5663\"}, \"text\": \"\"}, \"zerolinecolor\": \"#E1E5ED\"}, \"xaxis9\": {\"anchor\": \"y9\", \"domain\": [0.0, 0.2125], \"gridcolor\": \"#E1E5ED\", \"showgrid\": false, \"tickfont\": {\"color\": \"#4D5663\"}, \"title\": {\"font\": {\"color\": \"#4D5663\"}, \"text\": \"\"}, \"zerolinecolor\": \"#E1E5ED\"}, \"yaxis\": {\"anchor\": \"x\", \"domain\": [0.8025, 1.0], \"gridcolor\": \"#E1E5ED\", \"showgrid\": false, \"tickfont\": {\"color\": \"#4D5663\"}, \"title\": {\"font\": {\"color\": \"#4D5663\"}, \"text\": \"\"}, \"zerolinecolor\": \"#E1E5ED\"}, \"yaxis10\": {\"anchor\": \"x10\", \"domain\": [0.2675, 0.465], \"gridcolor\": \"#E1E5ED\", \"showgrid\": false, \"tickfont\": {\"color\": \"#4D5663\"}, \"title\": {\"font\": {\"color\": \"#4D5663\"}, \"text\": \"\"}, \"zerolinecolor\": \"#E1E5ED\"}, \"yaxis11\": {\"anchor\": \"x11\", \"domain\": [0.2675, 0.465], \"gridcolor\": \"#E1E5ED\", \"showgrid\": false, \"tickfont\": {\"color\": \"#4D5663\"}, \"title\": {\"font\": {\"color\": \"#4D5663\"}, \"text\": \"\"}, \"zerolinecolor\": \"#E1E5ED\"}, \"yaxis12\": {\"anchor\": \"x12\", \"domain\": [0.2675, 0.465], \"gridcolor\": \"#E1E5ED\", \"showgrid\": false, \"tickfont\": {\"color\": \"#4D5663\"}, \"title\": {\"font\": {\"color\": \"#4D5663\"}, \"text\": \"\"}, \"zerolinecolor\": \"#E1E5ED\"}, \"yaxis13\": {\"anchor\": \"x13\", \"domain\": [0.0, 0.1975], \"gridcolor\": \"#E1E5ED\", \"showgrid\": false, \"tickfont\": {\"color\": \"#4D5663\"}, \"title\": {\"font\": {\"color\": \"#4D5663\"}, \"text\": \"\"}, \"zerolinecolor\": \"#E1E5ED\"}, \"yaxis14\": {\"anchor\": \"x14\", \"domain\": [0.0, 0.1975], \"gridcolor\": \"#E1E5ED\", \"showgrid\": false, \"tickfont\": {\"color\": \"#4D5663\"}, \"title\": {\"font\": {\"color\": \"#4D5663\"}, \"text\": \"\"}, \"zerolinecolor\": \"#E1E5ED\"}, \"yaxis15\": {\"anchor\": \"x15\", \"domain\": [0.0, 0.1975], \"gridcolor\": \"#E1E5ED\", \"showgrid\": false, \"tickfont\": {\"color\": \"#4D5663\"}, \"title\": {\"font\": {\"color\": \"#4D5663\"}, \"text\": \"\"}, \"zerolinecolor\": \"#E1E5ED\"}, \"yaxis16\": {\"anchor\": \"x16\", \"domain\": [0.0, 0.1975], \"gridcolor\": \"#E1E5ED\", \"showgrid\": false, \"tickfont\": {\"color\": \"#4D5663\"}, \"title\": {\"font\": {\"color\": \"#4D5663\"}, \"text\": \"\"}, \"zerolinecolor\": \"#E1E5ED\"}, \"yaxis2\": {\"anchor\": \"x2\", \"domain\": [0.8025, 1.0], \"gridcolor\": \"#E1E5ED\", \"showgrid\": false, \"tickfont\": {\"color\": \"#4D5663\"}, \"title\": {\"font\": {\"color\": \"#4D5663\"}, \"text\": \"\"}, \"zerolinecolor\": \"#E1E5ED\"}, \"yaxis3\": {\"anchor\": \"x3\", \"domain\": [0.8025, 1.0], \"gridcolor\": \"#E1E5ED\", \"showgrid\": false, \"tickfont\": {\"color\": \"#4D5663\"}, \"title\": {\"font\": {\"color\": \"#4D5663\"}, \"text\": \"\"}, \"zerolinecolor\": \"#E1E5ED\"}, \"yaxis4\": {\"anchor\": \"x4\", \"domain\": [0.8025, 1.0], \"gridcolor\": \"#E1E5ED\", \"showgrid\": false, \"tickfont\": {\"color\": \"#4D5663\"}, \"title\": {\"font\": {\"color\": \"#4D5663\"}, \"text\": \"\"}, \"zerolinecolor\": \"#E1E5ED\"}, \"yaxis5\": {\"anchor\": \"x5\", \"domain\": [0.535, 0.7325], \"gridcolor\": \"#E1E5ED\", \"showgrid\": false, \"tickfont\": {\"color\": \"#4D5663\"}, \"title\": {\"font\": {\"color\": \"#4D5663\"}, \"text\": \"\"}, \"zerolinecolor\": \"#E1E5ED\"}, \"yaxis6\": {\"anchor\": \"x6\", \"domain\": [0.535, 0.7325], \"gridcolor\": \"#E1E5ED\", \"showgrid\": false, \"tickfont\": {\"color\": \"#4D5663\"}, \"title\": {\"font\": {\"color\": \"#4D5663\"}, \"text\": \"\"}, \"zerolinecolor\": \"#E1E5ED\"}, \"yaxis7\": {\"anchor\": \"x7\", \"domain\": [0.535, 0.7325], \"gridcolor\": \"#E1E5ED\", \"showgrid\": false, \"tickfont\": {\"color\": \"#4D5663\"}, \"title\": {\"font\": {\"color\": \"#4D5663\"}, \"text\": \"\"}, \"zerolinecolor\": \"#E1E5ED\"}, \"yaxis8\": {\"anchor\": \"x8\", \"domain\": [0.535, 0.7325], \"gridcolor\": \"#E1E5ED\", \"showgrid\": false, \"tickfont\": {\"color\": \"#4D5663\"}, \"title\": {\"font\": {\"color\": \"#4D5663\"}, \"text\": \"\"}, \"zerolinecolor\": \"#E1E5ED\"}, \"yaxis9\": {\"anchor\": \"x9\", \"domain\": [0.2675, 0.465], \"gridcolor\": \"#E1E5ED\", \"showgrid\": false, \"tickfont\": {\"color\": \"#4D5663\"}, \"title\": {\"font\": {\"color\": \"#4D5663\"}, \"text\": \"\"}, \"zerolinecolor\": \"#E1E5ED\"}},\n",
       "                        {\"showLink\": true, \"linkText\": \"Export to plot.ly\", \"plotlyServerURL\": \"https://plot.ly\", \"responsive\": true}\n",
       "                    ).then(function(){\n",
       "                            \n",
       "var gd = document.getElementById('dd4d0279-0039-4c68-8cb5-dbd26e419b21');\n",
       "var x = new MutationObserver(function (mutations, observer) {{\n",
       "        var display = window.getComputedStyle(gd).display;\n",
       "        if (!display || display === 'none') {{\n",
       "            console.log([gd, 'removed!']);\n",
       "            Plotly.purge(gd);\n",
       "            observer.disconnect();\n",
       "        }}\n",
       "}});\n",
       "\n",
       "// Listen for the removal of the full notebook cells\n",
       "var notebookContainer = gd.closest('#notebook-container');\n",
       "if (notebookContainer) {{\n",
       "    x.observe(notebookContainer, {childList: true});\n",
       "}}\n",
       "\n",
       "// Listen for the clearing of the current output cell\n",
       "var outputEl = gd.closest('.output');\n",
       "if (outputEl) {{\n",
       "    x.observe(outputEl, {childList: true});\n",
       "}}\n",
       "\n",
       "                        })\n",
       "                };\n",
       "                });\n",
       "            </script>\n",
       "        </div>"
      ]
     },
     "metadata": {},
     "output_type": "display_data"
    }
   ],
   "source": [
    "df.scatter_matrix()"
   ]
  },
  {
   "cell_type": "code",
   "execution_count": null,
   "metadata": {},
   "outputs": [],
   "source": []
  }
 ],
 "metadata": {
  "kernelspec": {
   "display_name": "Python 3",
   "language": "python",
   "name": "python3"
  },
  "language_info": {
   "codemirror_mode": {
    "name": "ipython",
    "version": 3
   },
   "file_extension": ".py",
   "mimetype": "text/x-python",
   "name": "python",
   "nbconvert_exporter": "python",
   "pygments_lexer": "ipython3",
   "version": "3.7.6"
  }
 },
 "nbformat": 4,
 "nbformat_minor": 4
}
